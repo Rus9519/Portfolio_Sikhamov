{
 "cells": [
  {
   "cell_type": "markdown",
   "metadata": {},
   "source": [
    "## Загрузка данных"
   ]
  },
  {
   "cell_type": "code",
   "execution_count": 1,
   "metadata": {},
   "outputs": [],
   "source": [
    "import pandas as pd\n",
    "import numpy as np\n",
    "import seaborn as sns\n",
    "import matplotlib.pyplot as plt\n",
    "from sklearn.model_selection import train_test_split\n",
    "from sklearn.linear_model import LinearRegression\n",
    "from sklearn.metrics import r2_score"
   ]
  },
  {
   "cell_type": "code",
   "execution_count": 2,
   "metadata": {},
   "outputs": [],
   "source": [
    "df = pd.read_csv('data.csv')"
   ]
  },
  {
   "cell_type": "code",
   "execution_count": 3,
   "metadata": {},
   "outputs": [
    {
     "data": {
      "text/html": [
       "<div>\n",
       "<style scoped>\n",
       "    .dataframe tbody tr th:only-of-type {\n",
       "        vertical-align: middle;\n",
       "    }\n",
       "\n",
       "    .dataframe tbody tr th {\n",
       "        vertical-align: top;\n",
       "    }\n",
       "\n",
       "    .dataframe thead th {\n",
       "        text-align: right;\n",
       "    }\n",
       "</style>\n",
       "<table border=\"1\" class=\"dataframe\">\n",
       "  <thead>\n",
       "    <tr style=\"text-align: right;\">\n",
       "      <th></th>\n",
       "      <th>Пол</th>\n",
       "      <th>Возраст</th>\n",
       "      <th>Зарплата</th>\n",
       "      <th>Члены семьи</th>\n",
       "      <th>Страховые выплаты</th>\n",
       "    </tr>\n",
       "  </thead>\n",
       "  <tbody>\n",
       "    <tr>\n",
       "      <th>0</th>\n",
       "      <td>1</td>\n",
       "      <td>41.0</td>\n",
       "      <td>49600.0</td>\n",
       "      <td>1</td>\n",
       "      <td>0</td>\n",
       "    </tr>\n",
       "    <tr>\n",
       "      <th>1</th>\n",
       "      <td>0</td>\n",
       "      <td>46.0</td>\n",
       "      <td>38000.0</td>\n",
       "      <td>1</td>\n",
       "      <td>1</td>\n",
       "    </tr>\n",
       "    <tr>\n",
       "      <th>2</th>\n",
       "      <td>0</td>\n",
       "      <td>29.0</td>\n",
       "      <td>21000.0</td>\n",
       "      <td>0</td>\n",
       "      <td>0</td>\n",
       "    </tr>\n",
       "    <tr>\n",
       "      <th>3</th>\n",
       "      <td>0</td>\n",
       "      <td>21.0</td>\n",
       "      <td>41700.0</td>\n",
       "      <td>2</td>\n",
       "      <td>0</td>\n",
       "    </tr>\n",
       "    <tr>\n",
       "      <th>4</th>\n",
       "      <td>1</td>\n",
       "      <td>28.0</td>\n",
       "      <td>26100.0</td>\n",
       "      <td>0</td>\n",
       "      <td>0</td>\n",
       "    </tr>\n",
       "  </tbody>\n",
       "</table>\n",
       "</div>"
      ],
      "text/plain": [
       "   Пол  Возраст  Зарплата  Члены семьи  Страховые выплаты\n",
       "0    1     41.0   49600.0            1                  0\n",
       "1    0     46.0   38000.0            1                  1\n",
       "2    0     29.0   21000.0            0                  0\n",
       "3    0     21.0   41700.0            2                  0\n",
       "4    1     28.0   26100.0            0                  0"
      ]
     },
     "execution_count": 3,
     "metadata": {},
     "output_type": "execute_result"
    }
   ],
   "source": [
    "df.head()"
   ]
  },
  {
   "cell_type": "code",
   "execution_count": 4,
   "metadata": {},
   "outputs": [
    {
     "name": "stdout",
     "output_type": "stream",
     "text": [
      "<class 'pandas.core.frame.DataFrame'>\n",
      "RangeIndex: 5000 entries, 0 to 4999\n",
      "Data columns (total 5 columns):\n",
      " #   Column             Non-Null Count  Dtype  \n",
      "---  ------             --------------  -----  \n",
      " 0   Пол                5000 non-null   int64  \n",
      " 1   Возраст            5000 non-null   float64\n",
      " 2   Зарплата           5000 non-null   float64\n",
      " 3   Члены семьи        5000 non-null   int64  \n",
      " 4   Страховые выплаты  5000 non-null   int64  \n",
      "dtypes: float64(2), int64(3)\n",
      "memory usage: 195.4 KB\n"
     ]
    }
   ],
   "source": [
    "df.info()"
   ]
  },
  {
   "cell_type": "code",
   "execution_count": 5,
   "metadata": {},
   "outputs": [
    {
     "data": {
      "text/html": [
       "<div>\n",
       "<style scoped>\n",
       "    .dataframe tbody tr th:only-of-type {\n",
       "        vertical-align: middle;\n",
       "    }\n",
       "\n",
       "    .dataframe tbody tr th {\n",
       "        vertical-align: top;\n",
       "    }\n",
       "\n",
       "    .dataframe thead th {\n",
       "        text-align: right;\n",
       "    }\n",
       "</style>\n",
       "<table border=\"1\" class=\"dataframe\">\n",
       "  <thead>\n",
       "    <tr style=\"text-align: right;\">\n",
       "      <th></th>\n",
       "      <th>count</th>\n",
       "      <th>mean</th>\n",
       "      <th>std</th>\n",
       "      <th>min</th>\n",
       "      <th>25%</th>\n",
       "      <th>50%</th>\n",
       "      <th>75%</th>\n",
       "      <th>max</th>\n",
       "    </tr>\n",
       "  </thead>\n",
       "  <tbody>\n",
       "    <tr>\n",
       "      <th>Пол</th>\n",
       "      <td>5000.0</td>\n",
       "      <td>0.4990</td>\n",
       "      <td>0.500049</td>\n",
       "      <td>0.0</td>\n",
       "      <td>0.0</td>\n",
       "      <td>0.0</td>\n",
       "      <td>1.0</td>\n",
       "      <td>1.0</td>\n",
       "    </tr>\n",
       "    <tr>\n",
       "      <th>Возраст</th>\n",
       "      <td>5000.0</td>\n",
       "      <td>30.9528</td>\n",
       "      <td>8.440807</td>\n",
       "      <td>18.0</td>\n",
       "      <td>24.0</td>\n",
       "      <td>30.0</td>\n",
       "      <td>37.0</td>\n",
       "      <td>65.0</td>\n",
       "    </tr>\n",
       "    <tr>\n",
       "      <th>Зарплата</th>\n",
       "      <td>5000.0</td>\n",
       "      <td>39916.3600</td>\n",
       "      <td>9900.083569</td>\n",
       "      <td>5300.0</td>\n",
       "      <td>33300.0</td>\n",
       "      <td>40200.0</td>\n",
       "      <td>46600.0</td>\n",
       "      <td>79000.0</td>\n",
       "    </tr>\n",
       "    <tr>\n",
       "      <th>Члены семьи</th>\n",
       "      <td>5000.0</td>\n",
       "      <td>1.1942</td>\n",
       "      <td>1.091387</td>\n",
       "      <td>0.0</td>\n",
       "      <td>0.0</td>\n",
       "      <td>1.0</td>\n",
       "      <td>2.0</td>\n",
       "      <td>6.0</td>\n",
       "    </tr>\n",
       "    <tr>\n",
       "      <th>Страховые выплаты</th>\n",
       "      <td>5000.0</td>\n",
       "      <td>0.1480</td>\n",
       "      <td>0.463183</td>\n",
       "      <td>0.0</td>\n",
       "      <td>0.0</td>\n",
       "      <td>0.0</td>\n",
       "      <td>0.0</td>\n",
       "      <td>5.0</td>\n",
       "    </tr>\n",
       "  </tbody>\n",
       "</table>\n",
       "</div>"
      ],
      "text/plain": [
       "                    count        mean          std     min      25%      50%  \\\n",
       "Пол                5000.0      0.4990     0.500049     0.0      0.0      0.0   \n",
       "Возраст            5000.0     30.9528     8.440807    18.0     24.0     30.0   \n",
       "Зарплата           5000.0  39916.3600  9900.083569  5300.0  33300.0  40200.0   \n",
       "Члены семьи        5000.0      1.1942     1.091387     0.0      0.0      1.0   \n",
       "Страховые выплаты  5000.0      0.1480     0.463183     0.0      0.0      0.0   \n",
       "\n",
       "                       75%      max  \n",
       "Пол                    1.0      1.0  \n",
       "Возраст               37.0     65.0  \n",
       "Зарплата           46600.0  79000.0  \n",
       "Члены семьи            2.0      6.0  \n",
       "Страховые выплаты      0.0      5.0  "
      ]
     },
     "execution_count": 5,
     "metadata": {},
     "output_type": "execute_result"
    }
   ],
   "source": [
    "df.describe().T"
   ]
  },
  {
   "cell_type": "markdown",
   "metadata": {},
   "source": [
    "Переименуем столбцы, записав их на английском языке и в нижнем регистре."
   ]
  },
  {
   "cell_type": "code",
   "execution_count": 6,
   "metadata": {},
   "outputs": [],
   "source": [
    "df.columns = ['gender', 'age', 'salary', 'family_members', 'insurance_payments']"
   ]
  },
  {
   "cell_type": "markdown",
   "metadata": {},
   "source": [
    "Выделим матрицу признаков и целевой признак."
   ]
  },
  {
   "cell_type": "code",
   "execution_count": 7,
   "metadata": {},
   "outputs": [],
   "source": [
    "features = df.drop('insurance_payments', axis=1)"
   ]
  },
  {
   "cell_type": "code",
   "execution_count": 8,
   "metadata": {},
   "outputs": [],
   "source": [
    "target = df['insurance_payments']"
   ]
  },
  {
   "cell_type": "markdown",
   "metadata": {},
   "source": [
    "Выполним проверку."
   ]
  },
  {
   "cell_type": "code",
   "execution_count": 9,
   "metadata": {},
   "outputs": [
    {
     "data": {
      "text/html": [
       "<div>\n",
       "<style scoped>\n",
       "    .dataframe tbody tr th:only-of-type {\n",
       "        vertical-align: middle;\n",
       "    }\n",
       "\n",
       "    .dataframe tbody tr th {\n",
       "        vertical-align: top;\n",
       "    }\n",
       "\n",
       "    .dataframe thead th {\n",
       "        text-align: right;\n",
       "    }\n",
       "</style>\n",
       "<table border=\"1\" class=\"dataframe\">\n",
       "  <thead>\n",
       "    <tr style=\"text-align: right;\">\n",
       "      <th></th>\n",
       "      <th>gender</th>\n",
       "      <th>age</th>\n",
       "      <th>salary</th>\n",
       "      <th>family_members</th>\n",
       "    </tr>\n",
       "  </thead>\n",
       "  <tbody>\n",
       "    <tr>\n",
       "      <th>0</th>\n",
       "      <td>1</td>\n",
       "      <td>41.0</td>\n",
       "      <td>49600.0</td>\n",
       "      <td>1</td>\n",
       "    </tr>\n",
       "    <tr>\n",
       "      <th>1</th>\n",
       "      <td>0</td>\n",
       "      <td>46.0</td>\n",
       "      <td>38000.0</td>\n",
       "      <td>1</td>\n",
       "    </tr>\n",
       "    <tr>\n",
       "      <th>2</th>\n",
       "      <td>0</td>\n",
       "      <td>29.0</td>\n",
       "      <td>21000.0</td>\n",
       "      <td>0</td>\n",
       "    </tr>\n",
       "    <tr>\n",
       "      <th>3</th>\n",
       "      <td>0</td>\n",
       "      <td>21.0</td>\n",
       "      <td>41700.0</td>\n",
       "      <td>2</td>\n",
       "    </tr>\n",
       "    <tr>\n",
       "      <th>4</th>\n",
       "      <td>1</td>\n",
       "      <td>28.0</td>\n",
       "      <td>26100.0</td>\n",
       "      <td>0</td>\n",
       "    </tr>\n",
       "  </tbody>\n",
       "</table>\n",
       "</div>"
      ],
      "text/plain": [
       "   gender   age   salary  family_members\n",
       "0       1  41.0  49600.0               1\n",
       "1       0  46.0  38000.0               1\n",
       "2       0  29.0  21000.0               0\n",
       "3       0  21.0  41700.0               2\n",
       "4       1  28.0  26100.0               0"
      ]
     },
     "execution_count": 9,
     "metadata": {},
     "output_type": "execute_result"
    }
   ],
   "source": [
    "features.head()"
   ]
  },
  {
   "cell_type": "markdown",
   "metadata": {},
   "source": [
    "Выделим обучающую и тестовую выборки."
   ]
  },
  {
   "cell_type": "code",
   "execution_count": 10,
   "metadata": {},
   "outputs": [],
   "source": [
    "features_train, features_test, target_train, target_test = train_test_split(features,\n",
    "                                                                            target,\n",
    "                                                                            test_size=0.2,\n",
    "                                                                            random_state=42)"
   ]
  },
  {
   "cell_type": "markdown",
   "metadata": {},
   "source": [
    "Выполним проверку."
   ]
  },
  {
   "cell_type": "code",
   "execution_count": 11,
   "metadata": {},
   "outputs": [
    {
     "name": "stdout",
     "output_type": "stream",
     "text": [
      "(4000, 4)\n",
      "(1000, 4)\n",
      "(4000,)\n",
      "(1000,)\n"
     ]
    }
   ],
   "source": [
    "print(features_train.shape)\n",
    "print(features_test.shape)\n",
    "print(target_train.shape)\n",
    "print(target_test.shape)"
   ]
  },
  {
   "cell_type": "markdown",
   "metadata": {},
   "source": [
    "Разбиение произведено корректно."
   ]
  },
  {
   "cell_type": "markdown",
   "metadata": {},
   "source": [
    "**Вывод:**\n",
    "1. Данные загружены. В таблице 5000 строк (т.е. 5000 клиентов) и 5 столбцов.\n",
    "2. Пропуски отсутствуют.\n",
    "3. Данные были разделены на матрицу признаков и целевой признак (количество страховых выплат).\n",
    "4. Данные были разбиты на обучающую и тестовую выборки в соотношении 80:20."
   ]
  },
  {
   "cell_type": "markdown",
   "metadata": {},
   "source": [
    "## Исследовательский анализ данных"
   ]
  },
  {
   "cell_type": "markdown",
   "metadata": {},
   "source": [
    "Изучим, какие клиенты представлены в датасете, а также как признаки влияют на количество страховых выплат."
   ]
  },
  {
   "cell_type": "markdown",
   "metadata": {},
   "source": [
    "### Страховые выплаты"
   ]
  },
  {
   "cell_type": "markdown",
   "metadata": {},
   "source": [
    "Для начала взглянем на распределение количества страховых выплат."
   ]
  },
  {
   "cell_type": "code",
   "execution_count": 12,
   "metadata": {},
   "outputs": [
    {
     "data": {
      "image/png": "[encoded data removed]",
      "text/plain": [
       "<Figure size 432x288 with 1 Axes>"
      ]
     },
     "metadata": {
      "needs_background": "light"
     },
     "output_type": "display_data"
    }
   ],
   "source": [
    "sns.histplot(df['insurance_payments'])\n",
    "plt.title('Distribtuion of insurance payments')\n",
    "plt.show()"
   ]
  },
  {
   "cell_type": "code",
   "execution_count": 13,
   "metadata": {},
   "outputs": [
    {
     "data": {
      "text/html": [
       "<div>\n",
       "<style scoped>\n",
       "    .dataframe tbody tr th:only-of-type {\n",
       "        vertical-align: middle;\n",
       "    }\n",
       "\n",
       "    .dataframe tbody tr th {\n",
       "        vertical-align: top;\n",
       "    }\n",
       "\n",
       "    .dataframe thead th {\n",
       "        text-align: right;\n",
       "    }\n",
       "</style>\n",
       "<table border=\"1\" class=\"dataframe\">\n",
       "  <thead>\n",
       "    <tr style=\"text-align: right;\">\n",
       "      <th></th>\n",
       "      <th>insurance_payments</th>\n",
       "      <th>insurance_payments</th>\n",
       "    </tr>\n",
       "  </thead>\n",
       "  <tbody>\n",
       "    <tr>\n",
       "      <th>0</th>\n",
       "      <td>4436</td>\n",
       "      <td>0.8872</td>\n",
       "    </tr>\n",
       "    <tr>\n",
       "      <th>1</th>\n",
       "      <td>423</td>\n",
       "      <td>0.0846</td>\n",
       "    </tr>\n",
       "    <tr>\n",
       "      <th>2</th>\n",
       "      <td>115</td>\n",
       "      <td>0.0230</td>\n",
       "    </tr>\n",
       "    <tr>\n",
       "      <th>3</th>\n",
       "      <td>18</td>\n",
       "      <td>0.0036</td>\n",
       "    </tr>\n",
       "    <tr>\n",
       "      <th>4</th>\n",
       "      <td>7</td>\n",
       "      <td>0.0014</td>\n",
       "    </tr>\n",
       "    <tr>\n",
       "      <th>5</th>\n",
       "      <td>1</td>\n",
       "      <td>0.0002</td>\n",
       "    </tr>\n",
       "  </tbody>\n",
       "</table>\n",
       "</div>"
      ],
      "text/plain": [
       "   insurance_payments  insurance_payments\n",
       "0                4436              0.8872\n",
       "1                 423              0.0846\n",
       "2                 115              0.0230\n",
       "3                  18              0.0036\n",
       "4                   7              0.0014\n",
       "5                   1              0.0002"
      ]
     },
     "execution_count": 13,
     "metadata": {},
     "output_type": "execute_result"
    }
   ],
   "source": [
    "pd.concat([df['insurance_payments'].value_counts(),\n",
    "           df['insurance_payments'].value_counts(normalize=True)],\n",
    "         axis=1)"
   ]
  },
  {
   "cell_type": "markdown",
   "metadata": {},
   "source": [
    "Большинство клиентов (порядка 89%) не получало страховых выплат за последние 5 лет. Около 8% клиентов получили одну страховую выплату. Остальные получили от 2 до 5. Стоит отметить, что лишь 1 клиент получил 5 выплат."
   ]
  },
  {
   "cell_type": "markdown",
   "metadata": {},
   "source": [
    "### Пол"
   ]
  },
  {
   "cell_type": "markdown",
   "metadata": {},
   "source": [
    "Посмотрим, как распределены клиенты по полу."
   ]
  },
  {
   "cell_type": "code",
   "execution_count": 14,
   "metadata": {},
   "outputs": [
    {
     "data": {
      "text/html": [
       "<div>\n",
       "<style scoped>\n",
       "    .dataframe tbody tr th:only-of-type {\n",
       "        vertical-align: middle;\n",
       "    }\n",
       "\n",
       "    .dataframe tbody tr th {\n",
       "        vertical-align: top;\n",
       "    }\n",
       "\n",
       "    .dataframe thead th {\n",
       "        text-align: right;\n",
       "    }\n",
       "</style>\n",
       "<table border=\"1\" class=\"dataframe\">\n",
       "  <thead>\n",
       "    <tr style=\"text-align: right;\">\n",
       "      <th></th>\n",
       "      <th>gender</th>\n",
       "    </tr>\n",
       "  </thead>\n",
       "  <tbody>\n",
       "    <tr>\n",
       "      <th>0</th>\n",
       "      <td>2505</td>\n",
       "    </tr>\n",
       "    <tr>\n",
       "      <th>1</th>\n",
       "      <td>2495</td>\n",
       "    </tr>\n",
       "  </tbody>\n",
       "</table>\n",
       "</div>"
      ],
      "text/plain": [
       "   gender\n",
       "0    2505\n",
       "1    2495"
      ]
     },
     "execution_count": 14,
     "metadata": {},
     "output_type": "execute_result"
    }
   ],
   "source": [
    "df.gender.value_counts().to_frame()"
   ]
  },
  {
   "cell_type": "markdown",
   "metadata": {},
   "source": [
    "К сожалению, у нас нет данных, кто закодирован 0 и 1, однако наша выборка содержит примерно равное количество мужчин и женщин."
   ]
  },
  {
   "cell_type": "markdown",
   "metadata": {},
   "source": [
    "Теперь взглянем, как эти данные влияют количество страховых выплат."
   ]
  },
  {
   "cell_type": "code",
   "execution_count": 15,
   "metadata": {},
   "outputs": [
    {
     "data": {
      "image/png": "[encoded data removed]",
      "text/plain": [
       "<Figure size 432x288 with 1 Axes>"
      ]
     },
     "metadata": {
      "needs_background": "light"
     },
     "output_type": "display_data"
    }
   ],
   "source": [
    "sns.histplot(data=df, x='insurance_payments', hue='gender', discrete=True)\n",
    "plt.title('Insurance payments distribution based on gender')\n",
    "plt.show()"
   ]
  },
  {
   "cell_type": "markdown",
   "metadata": {},
   "source": [
    "График получился не слишком информативным, в таком случае взглянем на числа."
   ]
  },
  {
   "cell_type": "code",
   "execution_count": 16,
   "metadata": {},
   "outputs": [
    {
     "data": {
      "text/html": [
       "<div>\n",
       "<style scoped>\n",
       "    .dataframe tbody tr th:only-of-type {\n",
       "        vertical-align: middle;\n",
       "    }\n",
       "\n",
       "    .dataframe tbody tr th {\n",
       "        vertical-align: top;\n",
       "    }\n",
       "\n",
       "    .dataframe thead th {\n",
       "        text-align: right;\n",
       "    }\n",
       "</style>\n",
       "<table border=\"1\" class=\"dataframe\">\n",
       "  <thead>\n",
       "    <tr style=\"text-align: right;\">\n",
       "      <th></th>\n",
       "      <th>insurance_payments</th>\n",
       "      <th>insurance_payments</th>\n",
       "    </tr>\n",
       "  </thead>\n",
       "  <tbody>\n",
       "    <tr>\n",
       "      <th>0</th>\n",
       "      <td>2221.0</td>\n",
       "      <td>2215</td>\n",
       "    </tr>\n",
       "    <tr>\n",
       "      <th>1</th>\n",
       "      <td>225.0</td>\n",
       "      <td>198</td>\n",
       "    </tr>\n",
       "    <tr>\n",
       "      <th>2</th>\n",
       "      <td>46.0</td>\n",
       "      <td>69</td>\n",
       "    </tr>\n",
       "    <tr>\n",
       "      <th>3</th>\n",
       "      <td>10.0</td>\n",
       "      <td>8</td>\n",
       "    </tr>\n",
       "    <tr>\n",
       "      <th>4</th>\n",
       "      <td>3.0</td>\n",
       "      <td>4</td>\n",
       "    </tr>\n",
       "    <tr>\n",
       "      <th>5</th>\n",
       "      <td>NaN</td>\n",
       "      <td>1</td>\n",
       "    </tr>\n",
       "  </tbody>\n",
       "</table>\n",
       "</div>"
      ],
      "text/plain": [
       "   insurance_payments  insurance_payments\n",
       "0              2221.0                2215\n",
       "1               225.0                 198\n",
       "2                46.0                  69\n",
       "3                10.0                   8\n",
       "4                 3.0                   4\n",
       "5                 NaN                   1"
      ]
     },
     "execution_count": 16,
     "metadata": {},
     "output_type": "execute_result"
    }
   ],
   "source": [
    "pd.concat([df.query('gender == 0')['insurance_payments'].value_counts(), \n",
    "           df.query('gender == 1')['insurance_payments'].value_counts()], axis=1)"
   ]
  },
  {
   "cell_type": "markdown",
   "metadata": {},
   "source": [
    "Примерно одинаковое количество выплат для обоих полов. Делаем вывод, что пол слабо влияет на количество страховых выплат."
   ]
  },
  {
   "cell_type": "markdown",
   "metadata": {},
   "source": [
    "### Возраст"
   ]
  },
  {
   "cell_type": "markdown",
   "metadata": {},
   "source": [
    "Взглянем на возраст клиентов в наборе данных."
   ]
  },
  {
   "cell_type": "code",
   "execution_count": 17,
   "metadata": {},
   "outputs": [
    {
     "data": {
      "image/png": "[encoded data removed]",
      "text/plain": [
       "<Figure size 432x288 with 1 Axes>"
      ]
     },
     "metadata": {
      "needs_background": "light"
     },
     "output_type": "display_data"
    }
   ],
   "source": [
    "sns.histplot(df['age'], discrete=True)\n",
    "plt.title('Age distribution')\n",
    "plt.show()"
   ]
  },
  {
   "cell_type": "markdown",
   "metadata": {},
   "source": [
    "Имеем данные о клиентах в возрасте от 18 до 65 лет. Наиболее представленной группой является молодежь (до 35 лет), затем по мере увеличения возраста количество представителей в наборе данных уменьшается."
   ]
  },
  {
   "cell_type": "markdown",
   "metadata": {},
   "source": [
    "Посмотрим, как возраст влияет на количество страховых выплат."
   ]
  },
  {
   "cell_type": "code",
   "execution_count": 18,
   "metadata": {},
   "outputs": [
    {
     "data": {
      "image/png": "[encoded data removed]",
      "text/plain": [
       "<Figure size 432x288 with 1 Axes>"
      ]
     },
     "metadata": {
      "needs_background": "light"
     },
     "output_type": "display_data"
    }
   ],
   "source": [
    "sns.scatterplot(data=df, x='age', y='insurance_payments')\n",
    "plt.title('Insurance payments vs age')\n",
    "plt.show()"
   ]
  },
  {
   "cell_type": "code",
   "execution_count": 19,
   "metadata": {},
   "outputs": [
    {
     "data": {
      "text/plain": [
       "42.0"
      ]
     },
     "execution_count": 19,
     "metadata": {},
     "output_type": "execute_result"
    }
   ],
   "source": [
    "df.query('insurance_payments > 0')['age'].min()"
   ]
  },
  {
   "cell_type": "markdown",
   "metadata": {},
   "source": [
    "Глядя на полученный график, можем сделать вывод, что возраст сильно влияет на количество страховых выплат. Клиенты до 42 лет не имели ни одной страховой выпллаты за последние 5 лет, однако после 42 лет ситуация меняется: чем старше клиент, тем больше у него выплат. Стоит отметить, что видны четкие барьеры: клиенты от 42 до 50 лет имеют 1 выплату, клиенты от 50 до 55 лет имеют 2 выплаты и т.д. Это наводит на мысль, что данные синтетические, так как в реальной жизни мы бы имели выбросы."
   ]
  },
  {
   "cell_type": "markdown",
   "metadata": {},
   "source": [
    "### Зарплата"
   ]
  },
  {
   "cell_type": "markdown",
   "metadata": {},
   "source": [
    "Взглянем на распределение зарплаты."
   ]
  },
  {
   "cell_type": "code",
   "execution_count": 20,
   "metadata": {},
   "outputs": [
    {
     "data": {
      "image/png": "[encoded data removed]",
      "text/plain": [
       "<Figure size 432x288 with 1 Axes>"
      ]
     },
     "metadata": {
      "needs_background": "light"
     },
     "output_type": "display_data"
    }
   ],
   "source": [
    "sns.histplot(df['salary'])\n",
    "plt.title('Salary distribution')\n",
    "plt.show()"
   ]
  },
  {
   "cell_type": "markdown",
   "metadata": {},
   "source": [
    "Зарплата распределена нормально со средним значением порядка 40 тысяч. Данное наблюдение опять наводит на мысль, что данные синтетические, так как обычно в распределении зарплаты имеется пик в начале (много бедных), и оно сильно скошено вправо (мало богатых)."
   ]
  },
  {
   "cell_type": "markdown",
   "metadata": {},
   "source": [
    "Посмотрим, как зарплата влияет на количество страховых выплат."
   ]
  },
  {
   "cell_type": "code",
   "execution_count": 21,
   "metadata": {},
   "outputs": [
    {
     "data": {
      "image/png": "[encoded data removed]",
      "text/plain": [
       "<Figure size 432x288 with 1 Axes>"
      ]
     },
     "metadata": {
      "needs_background": "light"
     },
     "output_type": "display_data"
    }
   ],
   "source": [
    "sns.scatterplot(data=df, x='salary', y='insurance_payments')\n",
    "plt.title('Insurance payments vs salary')\n",
    "plt.show()"
   ]
  },
  {
   "cell_type": "markdown",
   "metadata": {},
   "source": [
    "Сложно выделить какую-либо зависимость. Делаем вывод, что зарплата не влияет на количество страховых выплат."
   ]
  },
  {
   "cell_type": "markdown",
   "metadata": {},
   "source": [
    "### Члены семьи"
   ]
  },
  {
   "cell_type": "markdown",
   "metadata": {},
   "source": [
    "Посмотрим, сколько членов семьи имеют наши клиенты."
   ]
  },
  {
   "cell_type": "code",
   "execution_count": 22,
   "metadata": {},
   "outputs": [
    {
     "data": {
      "image/png": "[encoded data removed]",
      "text/plain": [
       "<Figure size 432x288 with 1 Axes>"
      ]
     },
     "metadata": {
      "needs_background": "light"
     },
     "output_type": "display_data"
    }
   ],
   "source": [
    "sns.histplot(df['family_members'])\n",
    "plt.title('Family members distribution')\n",
    "plt.show()"
   ]
  },
  {
   "cell_type": "markdown",
   "metadata": {},
   "source": [
    "Большинство клиентов имеют 1 члена семьи либо не имеют их вообще. Учитывая то, что у нас большинство клиентов - молодежь, то все логично. У кого-то есть жена/муж, а у самых молодых никого. Максимальное количество детей - 6."
   ]
  },
  {
   "cell_type": "markdown",
   "metadata": {},
   "source": [
    "Посмотрим, как количество членов семьи влияет на количество страховых выплат. Разобьем набор данных на группы по количеству членов семьи, и в каждой группе посмотрим на распределение количества выплат."
   ]
  },
  {
   "cell_type": "code",
   "execution_count": 23,
   "metadata": {},
   "outputs": [
    {
     "data": {
      "text/html": [
       "<div>\n",
       "<style scoped>\n",
       "    .dataframe tbody tr th:only-of-type {\n",
       "        vertical-align: middle;\n",
       "    }\n",
       "\n",
       "    .dataframe tbody tr th {\n",
       "        vertical-align: top;\n",
       "    }\n",
       "\n",
       "    .dataframe thead th {\n",
       "        text-align: right;\n",
       "    }\n",
       "</style>\n",
       "<table border=\"1\" class=\"dataframe\">\n",
       "  <thead>\n",
       "    <tr style=\"text-align: right;\">\n",
       "      <th></th>\n",
       "      <th>0_member</th>\n",
       "      <th>1_member</th>\n",
       "      <th>2_members</th>\n",
       "      <th>3_members</th>\n",
       "      <th>4_members</th>\n",
       "      <th>5_members</th>\n",
       "      <th>6_members</th>\n",
       "    </tr>\n",
       "  </thead>\n",
       "  <tbody>\n",
       "    <tr>\n",
       "      <th>0</th>\n",
       "      <td>0.881031</td>\n",
       "      <td>0.878721</td>\n",
       "      <td>0.899160</td>\n",
       "      <td>0.90205</td>\n",
       "      <td>0.927419</td>\n",
       "      <td>0.90625</td>\n",
       "      <td>0.857143</td>\n",
       "    </tr>\n",
       "    <tr>\n",
       "      <th>1</th>\n",
       "      <td>0.087244</td>\n",
       "      <td>0.089305</td>\n",
       "      <td>0.075630</td>\n",
       "      <td>0.08656</td>\n",
       "      <td>0.056452</td>\n",
       "      <td>0.06250</td>\n",
       "      <td>0.142857</td>\n",
       "    </tr>\n",
       "    <tr>\n",
       "      <th>2</th>\n",
       "      <td>0.025116</td>\n",
       "      <td>0.027012</td>\n",
       "      <td>0.018674</td>\n",
       "      <td>0.01139</td>\n",
       "      <td>0.016129</td>\n",
       "      <td>0.03125</td>\n",
       "      <td>NaN</td>\n",
       "    </tr>\n",
       "    <tr>\n",
       "      <th>3</th>\n",
       "      <td>0.003966</td>\n",
       "      <td>0.003859</td>\n",
       "      <td>0.004669</td>\n",
       "      <td>NaN</td>\n",
       "      <td>NaN</td>\n",
       "      <td>NaN</td>\n",
       "      <td>NaN</td>\n",
       "    </tr>\n",
       "    <tr>\n",
       "      <th>4</th>\n",
       "      <td>0.002644</td>\n",
       "      <td>0.000551</td>\n",
       "      <td>0.001867</td>\n",
       "      <td>NaN</td>\n",
       "      <td>NaN</td>\n",
       "      <td>NaN</td>\n",
       "      <td>NaN</td>\n",
       "    </tr>\n",
       "    <tr>\n",
       "      <th>5</th>\n",
       "      <td>NaN</td>\n",
       "      <td>0.000551</td>\n",
       "      <td>NaN</td>\n",
       "      <td>NaN</td>\n",
       "      <td>NaN</td>\n",
       "      <td>NaN</td>\n",
       "      <td>NaN</td>\n",
       "    </tr>\n",
       "  </tbody>\n",
       "</table>\n",
       "</div>"
      ],
      "text/plain": [
       "   0_member  1_member  2_members  3_members  4_members  5_members  6_members\n",
       "0  0.881031  0.878721   0.899160    0.90205   0.927419    0.90625   0.857143\n",
       "1  0.087244  0.089305   0.075630    0.08656   0.056452    0.06250   0.142857\n",
       "2  0.025116  0.027012   0.018674    0.01139   0.016129    0.03125        NaN\n",
       "3  0.003966  0.003859   0.004669        NaN        NaN        NaN        NaN\n",
       "4  0.002644  0.000551   0.001867        NaN        NaN        NaN        NaN\n",
       "5       NaN  0.000551        NaN        NaN        NaN        NaN        NaN"
      ]
     },
     "execution_count": 23,
     "metadata": {},
     "output_type": "execute_result"
    }
   ],
   "source": [
    "family_influence = pd.concat([df.query('family_members == 0')['insurance_payments'].value_counts(normalize=True),\n",
    "                              df.query('family_members == 1')['insurance_payments'].value_counts(normalize=True),\n",
    "                              df.query('family_members == 2')['insurance_payments'].value_counts(normalize=True),\n",
    "                              df.query('family_members == 3')['insurance_payments'].value_counts(normalize=True),\n",
    "                              df.query('family_members == 4')['insurance_payments'].value_counts(normalize=True),\n",
    "                              df.query('family_members == 5')['insurance_payments'].value_counts(normalize=True),\n",
    "                              df.query('family_members == 6')['insurance_payments'].value_counts(normalize=True)], axis=1)\n",
    "family_influence.columns = ['0_member', '1_member', '2_members', '3_members', '4_members', '5_members', '6_members']\n",
    "family_influence"
   ]
  },
  {
   "cell_type": "markdown",
   "metadata": {},
   "source": [
    "Количество страховых выплат отличается лишь у клиентов, имеющих большое количество членов семьи. Так как их число в наборе данных незначительно, можем считать, что данный признак слабо влияет на количество страховых выплат."
   ]
  },
  {
   "cell_type": "markdown",
   "metadata": {},
   "source": [
    "## Умножение матриц"
   ]
  },
  {
   "cell_type": "markdown",
   "metadata": {},
   "source": [
    "В данном пункте нужно ответить на следующий вопрос: признаки умножают на обратимую матрицу. Изменится ли качество линейной регрессии?"
   ]
  },
  {
   "cell_type": "markdown",
   "metadata": {},
   "source": [
    "Обозначения:\n",
    "\n",
    "- $X$ — матрица признаков (нулевой столбец состоит из единиц)\n",
    "\n",
    "- $y$ — вектор целевого признака\n",
    "\n",
    "- $P$ — матрица, на которую умножаются признаки\n",
    "\n",
    "- $w$ — вектор весов линейной регрессии (нулевой элемент равен сдвигу)"
   ]
  },
  {
   "cell_type": "markdown",
   "metadata": {},
   "source": [
    "Предсказания:\n",
    "\n",
    "$$\n",
    "a = Xw\n",
    "$$\n",
    "\n",
    "Задача обучения:\n",
    "\n",
    "$$\n",
    "w = \\arg\\min_w MSE(Xw, y)\n",
    "$$\n",
    "\n",
    "Формула обучения:\n",
    "\n",
    "$$\n",
    "w = (X^T X)^{-1} X^T y\n",
    "$$"
   ]
  },
  {
   "cell_type": "markdown",
   "metadata": {},
   "source": [
    "**Ответ:** Качество линейной регрессии не изменится. Параметры линейной регрессии в исходной и преобразованной задачах будут связаны как раз через эту обратимую матрицу. Исходный вектор весов линейной регрессии будет получаться путем матричного умножения обратимой матрицы на вектор весов после преобразования."
   ]
  },
  {
   "cell_type": "markdown",
   "metadata": {},
   "source": [
    "**Обоснование**:"
   ]
  },
  {
   "cell_type": "markdown",
   "metadata": {},
   "source": [
    "Обозначим преобразованную матрицу признаков как:\n",
    "\n",
    "$$\n",
    "X_{new} = (X P)\n",
    "$$"
   ]
  },
  {
   "cell_type": "markdown",
   "metadata": {},
   "source": [
    "Рассмотрим формулу обучения\n",
    "\n",
    "$$\n",
    "w = (X^T X)^{-1} X^T y\n",
    "$$"
   ]
  },
  {
   "cell_type": "markdown",
   "metadata": {},
   "source": [
    "Домножив правую и левую части на $(X^T X)$, получим:\n",
    "\n",
    "$$\n",
    "X^T X w = X^T y\n",
    "$$"
   ]
  },
  {
   "cell_type": "markdown",
   "metadata": {},
   "source": [
    "Из этого уравнения можно вывести:\n",
    "\n",
    "$$\n",
    "X w = y\n",
    "$$"
   ]
  },
  {
   "cell_type": "markdown",
   "metadata": {},
   "source": [
    "Тоже самое будет верно и для преобразованной матрицы $X_{new}$:\n",
    "\n",
    "$$\n",
    "X_{new} w_{new} = y\n",
    "$$"
   ]
  },
  {
   "cell_type": "markdown",
   "metadata": {},
   "source": [
    "Если меняются признаки, то меняются и веса, однако целевой признак остается неизменным. Из двух последних уравнений можно написать:\n",
    "\n",
    "$$\n",
    "X w = X_{new} w_{new}\n",
    "$$\n",
    "\n",
    "или\n",
    "\n",
    "$$\n",
    "X w = X P w_{new}\n",
    "$$"
   ]
  },
  {
   "cell_type": "markdown",
   "metadata": {},
   "source": [
    "Что в свою очередь приводит к:\n",
    "\n",
    "$$\n",
    "w = P w_{new}\n",
    "$$"
   ]
  },
  {
   "cell_type": "markdown",
   "metadata": {},
   "source": [
    "Таким образом, мы показали, что веса изначальной линейной регрессии можно восстановить путем матричного умножения измененных весов на обратимую матрицу, которую использовали для преобразования признаков."
   ]
  },
  {
   "cell_type": "markdown",
   "metadata": {},
   "source": [
    "## Алгоритм преобразования"
   ]
  },
  {
   "cell_type": "markdown",
   "metadata": {},
   "source": [
    "**Алгоритм**"
   ]
  },
  {
   "cell_type": "markdown",
   "metadata": {},
   "source": [
    "Основываясь на описанных выше рассуждениях, создадим алгоритм, который будет умножать матрицу признаков на произвольную обратимую матрицу. Важно, чтобы размерность квадратной обратимой матрицы совпадала с шириной матрицы признаков, в противном случае матричное умножение будет невозможным."
   ]
  },
  {
   "cell_type": "code",
   "execution_count": 24,
   "metadata": {},
   "outputs": [],
   "source": [
    "class Transformer_matrix:\n",
    "    '''\n",
    "    Данный класс производит преобразование матрицы признаков путем умножения на произвольную обратимую матрицу. \n",
    "    Проверка на обратимость осуществлена через сравнение определителя с нулём (у необратимой матрицы определитель равен нулю).\n",
    "    '''\n",
    "    def fit(self, features):\n",
    "        self.invertible_matrix = np.random.normal(0, 10, (features.shape[1], features.shape[1]))\n",
    "        while np.linalg.det(self.invertible_matrix) == 0:\n",
    "            self.invertible_matrix = np.random.normal(0, 10, (features.shape[1], features.shape[1]))\n",
    "        \n",
    "    def transform(self, features):\n",
    "        new_df = pd.DataFrame(features @ self.invertible_matrix)\n",
    "        new_df.columns = features.columns\n",
    "        return new_df\n",
    "    \n",
    "    def fit_transform(self, features):\n",
    "        self.invertible_matrix = np.random.normal(0, 10, (features.shape[1], features.shape[1]))\n",
    "        while np.linalg.det(self.invertible_matrix) == 0:\n",
    "            self.invertible_matrix = np.random.normal(0, 10, (features.shape[1], features.shape[1]))\n",
    "        new_df = pd.DataFrame(features @ self.invertible_matrix)\n",
    "        new_df.columns = features.columns\n",
    "        return new_df"
   ]
  },
  {
   "cell_type": "markdown",
   "metadata": {},
   "source": [
    "**Обоснование**\n",
    "\n",
    "В пункте выше было показано, что матричное произведение исходной матрицы признаков на исходные веса линейной регрессии равно матричному произведению новой матрицы признаков на новые веса линейной регрессии. Из этого следует, что обе модели будут делать аналогичный предсказания. "
   ]
  },
  {
   "cell_type": "markdown",
   "metadata": {},
   "source": [
    "## Проверка алгоритма"
   ]
  },
  {
   "cell_type": "markdown",
   "metadata": {},
   "source": [
    "### Преобразование матрицы признаков."
   ]
  },
  {
   "cell_type": "markdown",
   "metadata": {},
   "source": [
    "Создадим преобразованную матрицу признаков для обучающей и тестовой выборок."
   ]
  },
  {
   "cell_type": "code",
   "execution_count": 25,
   "metadata": {},
   "outputs": [],
   "source": [
    "transformer = Transformer_matrix()\n",
    "features_train_trans = transformer.fit_transform(features_train)\n",
    "features_test_trans = transformer.transform(features_test)"
   ]
  },
  {
   "cell_type": "markdown",
   "metadata": {},
   "source": [
    "Взглянем, что у нас получилось."
   ]
  },
  {
   "cell_type": "code",
   "execution_count": 26,
   "metadata": {},
   "outputs": [
    {
     "data": {
      "text/html": [
       "<div>\n",
       "<style scoped>\n",
       "    .dataframe tbody tr th:only-of-type {\n",
       "        vertical-align: middle;\n",
       "    }\n",
       "\n",
       "    .dataframe tbody tr th {\n",
       "        vertical-align: top;\n",
       "    }\n",
       "\n",
       "    .dataframe thead th {\n",
       "        text-align: right;\n",
       "    }\n",
       "</style>\n",
       "<table border=\"1\" class=\"dataframe\">\n",
       "  <thead>\n",
       "    <tr style=\"text-align: right;\">\n",
       "      <th></th>\n",
       "      <th>gender</th>\n",
       "      <th>age</th>\n",
       "      <th>salary</th>\n",
       "      <th>family_members</th>\n",
       "    </tr>\n",
       "  </thead>\n",
       "  <tbody>\n",
       "    <tr>\n",
       "      <th>4227</th>\n",
       "      <td>-723421.702515</td>\n",
       "      <td>-306886.137143</td>\n",
       "      <td>-141487.665610</td>\n",
       "      <td>-270481.590405</td>\n",
       "    </tr>\n",
       "    <tr>\n",
       "      <th>4676</th>\n",
       "      <td>-928330.703660</td>\n",
       "      <td>-393969.927505</td>\n",
       "      <td>-181685.113363</td>\n",
       "      <td>-347154.181864</td>\n",
       "    </tr>\n",
       "    <tr>\n",
       "      <th>800</th>\n",
       "      <td>-427387.889699</td>\n",
       "      <td>-181614.900710</td>\n",
       "      <td>-83780.866308</td>\n",
       "      <td>-159925.060843</td>\n",
       "    </tr>\n",
       "    <tr>\n",
       "      <th>3671</th>\n",
       "      <td>-544540.639606</td>\n",
       "      <td>-231314.943707</td>\n",
       "      <td>-106694.433164</td>\n",
       "      <td>-203723.659921</td>\n",
       "    </tr>\n",
       "    <tr>\n",
       "      <th>4193</th>\n",
       "      <td>-566642.598304</td>\n",
       "      <td>-240507.130927</td>\n",
       "      <td>-110900.720836</td>\n",
       "      <td>-211888.847949</td>\n",
       "    </tr>\n",
       "  </tbody>\n",
       "</table>\n",
       "</div>"
      ],
      "text/plain": [
       "             gender            age         salary  family_members\n",
       "4227 -723421.702515 -306886.137143 -141487.665610  -270481.590405\n",
       "4676 -928330.703660 -393969.927505 -181685.113363  -347154.181864\n",
       "800  -427387.889699 -181614.900710  -83780.866308  -159925.060843\n",
       "3671 -544540.639606 -231314.943707 -106694.433164  -203723.659921\n",
       "4193 -566642.598304 -240507.130927 -110900.720836  -211888.847949"
      ]
     },
     "execution_count": 26,
     "metadata": {},
     "output_type": "execute_result"
    }
   ],
   "source": [
    "features_train_trans.head()"
   ]
  },
  {
   "cell_type": "code",
   "execution_count": 27,
   "metadata": {},
   "outputs": [
    {
     "data": {
      "text/html": [
       "<div>\n",
       "<style scoped>\n",
       "    .dataframe tbody tr th:only-of-type {\n",
       "        vertical-align: middle;\n",
       "    }\n",
       "\n",
       "    .dataframe tbody tr th {\n",
       "        vertical-align: top;\n",
       "    }\n",
       "\n",
       "    .dataframe thead th {\n",
       "        text-align: right;\n",
       "    }\n",
       "</style>\n",
       "<table border=\"1\" class=\"dataframe\">\n",
       "  <thead>\n",
       "    <tr style=\"text-align: right;\">\n",
       "      <th></th>\n",
       "      <th>gender</th>\n",
       "      <th>age</th>\n",
       "      <th>salary</th>\n",
       "      <th>family_members</th>\n",
       "    </tr>\n",
       "  </thead>\n",
       "  <tbody>\n",
       "    <tr>\n",
       "      <th>1501</th>\n",
       "      <td>-821489.473804</td>\n",
       "      <td>-348566.642506</td>\n",
       "      <td>-160736.994490</td>\n",
       "      <td>-307152.679051</td>\n",
       "    </tr>\n",
       "    <tr>\n",
       "      <th>2586</th>\n",
       "      <td>-613474.575437</td>\n",
       "      <td>-260400.927565</td>\n",
       "      <td>-120109.078699</td>\n",
       "      <td>-229472.501719</td>\n",
       "    </tr>\n",
       "    <tr>\n",
       "      <th>2653</th>\n",
       "      <td>-384999.336598</td>\n",
       "      <td>-163529.373279</td>\n",
       "      <td>-75448.575565</td>\n",
       "      <td>-144017.950428</td>\n",
       "    </tr>\n",
       "    <tr>\n",
       "      <th>1055</th>\n",
       "      <td>-546113.751038</td>\n",
       "      <td>-231821.411760</td>\n",
       "      <td>-106932.429001</td>\n",
       "      <td>-204287.993051</td>\n",
       "    </tr>\n",
       "    <tr>\n",
       "      <th>705</th>\n",
       "      <td>-439083.461595</td>\n",
       "      <td>-186604.453816</td>\n",
       "      <td>-86085.465313</td>\n",
       "      <td>-164308.005604</td>\n",
       "    </tr>\n",
       "  </tbody>\n",
       "</table>\n",
       "</div>"
      ],
      "text/plain": [
       "             gender            age         salary  family_members\n",
       "1501 -821489.473804 -348566.642506 -160736.994490  -307152.679051\n",
       "2586 -613474.575437 -260400.927565 -120109.078699  -229472.501719\n",
       "2653 -384999.336598 -163529.373279  -75448.575565  -144017.950428\n",
       "1055 -546113.751038 -231821.411760 -106932.429001  -204287.993051\n",
       "705  -439083.461595 -186604.453816  -86085.465313  -164308.005604"
      ]
     },
     "execution_count": 27,
     "metadata": {},
     "output_type": "execute_result"
    }
   ],
   "source": [
    "features_test_trans.head()"
   ]
  },
  {
   "cell_type": "markdown",
   "metadata": {},
   "source": [
    "Можно также взглянуть на матрицу, которая используется для преобразования."
   ]
  },
  {
   "cell_type": "code",
   "execution_count": 28,
   "metadata": {},
   "outputs": [
    {
     "data": {
      "text/plain": [
       "array([[ -6.62352621,   5.3195875 , -21.45888782,  -7.04809318],\n",
       "       [  7.29744239,  -7.24029871,  -4.90456291,  -1.14253836],\n",
       "       [-14.64683028,  -6.20979026,  -2.86235665,  -5.47439643],\n",
       "       [  0.35931606,   7.82720378,   1.03483509, -25.84093058]])"
      ]
     },
     "execution_count": 28,
     "metadata": {},
     "output_type": "execute_result"
    }
   ],
   "source": [
    "transformer.invertible_matrix"
   ]
  },
  {
   "cell_type": "markdown",
   "metadata": {},
   "source": [
    "### Линейная регрессия"
   ]
  },
  {
   "cell_type": "markdown",
   "metadata": {},
   "source": [
    "Обучим модель линейной регрессии на исходных данных."
   ]
  },
  {
   "cell_type": "code",
   "execution_count": 29,
   "metadata": {},
   "outputs": [
    {
     "data": {
      "text/plain": [
       "LinearRegression()"
      ]
     },
     "execution_count": 29,
     "metadata": {},
     "output_type": "execute_result"
    }
   ],
   "source": [
    "regressor = LinearRegression()\n",
    "regressor.fit(features_train, target_train)"
   ]
  },
  {
   "cell_type": "markdown",
   "metadata": {},
   "source": [
    "Оценим производительность модели на тестовой выборке."
   ]
  },
  {
   "cell_type": "code",
   "execution_count": 30,
   "metadata": {},
   "outputs": [
    {
     "name": "stdout",
     "output_type": "stream",
     "text": [
      "R-squared для модели на исходных данных: 0.437\n"
     ]
    }
   ],
   "source": [
    "metric = r2_score(target_test, regressor.predict(features_test))\n",
    "print(f'R-squared для модели на исходных данных: {metric:.3f}')"
   ]
  },
  {
   "cell_type": "markdown",
   "metadata": {},
   "source": [
    "Обучим модель линейной регрессии на преобразованных данных."
   ]
  },
  {
   "cell_type": "code",
   "execution_count": 31,
   "metadata": {},
   "outputs": [
    {
     "data": {
      "text/plain": [
       "LinearRegression()"
      ]
     },
     "execution_count": 31,
     "metadata": {},
     "output_type": "execute_result"
    }
   ],
   "source": [
    "regressor_trans = LinearRegression()\n",
    "regressor_trans.fit(features_train_trans, target_train)"
   ]
  },
  {
   "cell_type": "markdown",
   "metadata": {},
   "source": [
    "Оценим производительность модели."
   ]
  },
  {
   "cell_type": "code",
   "execution_count": 32,
   "metadata": {},
   "outputs": [
    {
     "name": "stdout",
     "output_type": "stream",
     "text": [
      "R-squared для модели на преобразованных данных: 0.437\n"
     ]
    }
   ],
   "source": [
    "metric_new = r2_score(target_test, regressor_trans.predict(features_test_trans))\n",
    "print(f'R-squared для модели на преобразованных данных: {metric_new:.3f}')"
   ]
  },
  {
   "cell_type": "markdown",
   "metadata": {},
   "source": [
    "Качество модели до и после преобразования не отличается."
   ]
  },
  {
   "cell_type": "markdown",
   "metadata": {},
   "source": [
    "**Вывод:**\n",
    "1. В процессе разведочного анализа данных было установлено, что из имеющихся признаков возраст имеет сильнейшее влияние на количество страховых выплат.\n",
    "2. Было показано, что умножение матрицы признаков на обратимую матрицу не снижает качество линейной регрессии.\n",
    "3. Был реализован алгоритм, преобразующий матрицу признаков путем ее умножения на произвольную обратимую матрицу.\n",
    "4. Алгоритм был проверен путем обучения модели на исходных и преобразованных данных и проверки моделей на тестовой выборке. Качество моделей (измеренное с помощью метрики R-squared) не отличается."
   ]
  }
 ],
 "metadata": {
  "ExecuteTimeLog": [
   {
    "duration": 583,
    "start_time": "2022-02-09T12:53:34.346Z"
   },
   {
    "duration": 2,
    "start_time": "2022-02-09T12:53:42.965Z"
   },
   {
    "duration": 97,
    "start_time": "2022-02-09T12:53:51.445Z"
   },
   {
    "duration": 17,
    "start_time": "2022-02-09T12:53:54.821Z"
   },
   {
    "duration": 7,
    "start_time": "2022-02-09T12:54:03.942Z"
   },
   {
    "duration": 343,
    "start_time": "2022-02-09T12:55:04.103Z"
   },
   {
    "duration": 26,
    "start_time": "2022-02-09T12:55:07.202Z"
   },
   {
    "duration": 4,
    "start_time": "2022-02-09T13:49:31.425Z"
   },
   {
    "duration": 5,
    "start_time": "2022-02-09T13:49:53.167Z"
   },
   {
    "duration": 91,
    "start_time": "2022-02-09T13:50:03.127Z"
   },
   {
    "duration": 258,
    "start_time": "2022-02-09T13:50:08.877Z"
   },
   {
    "duration": 264,
    "start_time": "2022-02-09T13:50:36.178Z"
   },
   {
    "duration": 3,
    "start_time": "2022-02-09T13:50:42.817Z"
   },
   {
    "duration": 437,
    "start_time": "2022-02-09T13:50:43.575Z"
   },
   {
    "duration": 3,
    "start_time": "2022-02-09T13:50:51.915Z"
   },
   {
    "duration": 5,
    "start_time": "2022-02-09T13:50:52.505Z"
   },
   {
    "duration": 3,
    "start_time": "2022-02-09T13:50:57.889Z"
   },
   {
    "duration": 429,
    "start_time": "2022-02-09T13:50:59.062Z"
   },
   {
    "duration": 3,
    "start_time": "2022-02-09T13:51:06.352Z"
   },
   {
    "duration": 472,
    "start_time": "2022-02-09T13:51:06.871Z"
   },
   {
    "duration": 4,
    "start_time": "2022-02-09T14:16:18.022Z"
   },
   {
    "duration": 3,
    "start_time": "2022-02-09T14:16:22.316Z"
   },
   {
    "duration": 4,
    "start_time": "2022-02-09T14:16:42.325Z"
   },
   {
    "duration": 5,
    "start_time": "2022-02-09T14:16:49.373Z"
   },
   {
    "duration": 4,
    "start_time": "2022-02-09T14:18:30.415Z"
   },
   {
    "duration": 3,
    "start_time": "2022-02-09T14:18:37.437Z"
   },
   {
    "duration": 8,
    "start_time": "2022-02-09T14:18:49.187Z"
   },
   {
    "duration": 466,
    "start_time": "2022-02-09T14:20:25.171Z"
   },
   {
    "duration": 6,
    "start_time": "2022-02-09T14:21:00.449Z"
   },
   {
    "duration": 4,
    "start_time": "2022-02-09T14:21:59.191Z"
   },
   {
    "duration": 4,
    "start_time": "2022-02-09T14:22:05.443Z"
   },
   {
    "duration": 5,
    "start_time": "2022-02-09T14:22:13.620Z"
   },
   {
    "duration": 5,
    "start_time": "2022-02-09T14:34:47.065Z"
   },
   {
    "duration": 5,
    "start_time": "2022-02-09T14:40:37.010Z"
   },
   {
    "duration": 4,
    "start_time": "2022-02-09T14:40:40.707Z"
   },
   {
    "duration": 8,
    "start_time": "2022-02-09T14:40:44.697Z"
   },
   {
    "duration": 5,
    "start_time": "2022-02-09T14:41:16.431Z"
   },
   {
    "duration": 5,
    "start_time": "2022-02-09T14:41:21.972Z"
   },
   {
    "duration": 3,
    "start_time": "2022-02-09T14:41:28.380Z"
   },
   {
    "duration": 11,
    "start_time": "2022-02-09T14:41:37.917Z"
   },
   {
    "duration": 10,
    "start_time": "2022-02-09T14:41:52.974Z"
   },
   {
    "duration": 3,
    "start_time": "2022-02-09T14:42:01.515Z"
   },
   {
    "duration": 13,
    "start_time": "2022-02-09T14:42:01.830Z"
   },
   {
    "duration": 13,
    "start_time": "2022-02-09T14:42:19.387Z"
   },
   {
    "duration": 12,
    "start_time": "2022-02-09T14:42:44.968Z"
   },
   {
    "duration": 4,
    "start_time": "2022-02-09T14:42:52.361Z"
   },
   {
    "duration": 3,
    "start_time": "2022-02-09T14:42:55.446Z"
   },
   {
    "duration": 284,
    "start_time": "2022-02-09T14:42:59.567Z"
   },
   {
    "duration": 4,
    "start_time": "2022-02-09T14:43:01.798Z"
   },
   {
    "duration": 4,
    "start_time": "2022-02-09T14:43:03.306Z"
   },
   {
    "duration": 2,
    "start_time": "2022-02-09T14:43:16.504Z"
   },
   {
    "duration": 12,
    "start_time": "2022-02-09T14:43:19.670Z"
   },
   {
    "duration": 5,
    "start_time": "2022-02-09T14:44:16.709Z"
   },
   {
    "duration": 4,
    "start_time": "2022-02-09T14:44:18.841Z"
   },
   {
    "duration": 9,
    "start_time": "2022-02-09T14:44:19.128Z"
   },
   {
    "duration": 5,
    "start_time": "2022-02-09T14:44:51.982Z"
   },
   {
    "duration": 3,
    "start_time": "2022-02-09T14:45:30.875Z"
   },
   {
    "duration": 12,
    "start_time": "2022-02-09T14:45:54.305Z"
   },
   {
    "duration": 11,
    "start_time": "2022-02-09T14:46:09.611Z"
   },
   {
    "duration": 4,
    "start_time": "2022-02-09T14:46:41.263Z"
   },
   {
    "duration": 9,
    "start_time": "2022-02-09T14:46:43.797Z"
   },
   {
    "duration": 8,
    "start_time": "2022-02-09T14:46:58.325Z"
   },
   {
    "duration": 5,
    "start_time": "2022-02-09T14:48:01.844Z"
   },
   {
    "duration": 9,
    "start_time": "2022-02-09T14:48:24.498Z"
   },
   {
    "duration": 17,
    "start_time": "2022-02-09T14:49:07.251Z"
   },
   {
    "duration": 8,
    "start_time": "2022-02-09T14:49:36.014Z"
   },
   {
    "duration": 3,
    "start_time": "2022-02-09T14:50:04.320Z"
   },
   {
    "duration": 6,
    "start_time": "2022-02-09T14:50:29.426Z"
   },
   {
    "duration": 359,
    "start_time": "2022-02-09T14:50:49.840Z"
   },
   {
    "duration": 7,
    "start_time": "2022-02-09T14:51:10.557Z"
   },
   {
    "duration": 270,
    "start_time": "2022-02-09T14:51:22.299Z"
   },
   {
    "duration": 6,
    "start_time": "2022-02-09T14:51:27.050Z"
   },
   {
    "duration": 802,
    "start_time": "2022-02-09T14:52:01.187Z"
   },
   {
    "duration": 684,
    "start_time": "2022-02-09T14:52:11.896Z"
   },
   {
    "duration": 684,
    "start_time": "2022-02-09T14:52:20.413Z"
   },
   {
    "duration": 734,
    "start_time": "2022-02-09T14:52:27.155Z"
   },
   {
    "duration": 702,
    "start_time": "2022-02-09T14:52:37.832Z"
   },
   {
    "duration": 5,
    "start_time": "2022-02-09T14:53:41.072Z"
   },
   {
    "duration": 5,
    "start_time": "2022-02-09T14:54:37.524Z"
   },
   {
    "duration": 5,
    "start_time": "2022-02-09T14:54:42.598Z"
   },
   {
    "duration": 84,
    "start_time": "2022-02-09T14:55:07.155Z"
   },
   {
    "duration": 6,
    "start_time": "2022-02-09T14:55:39.219Z"
   },
   {
    "duration": 6,
    "start_time": "2022-02-09T14:56:04.666Z"
   },
   {
    "duration": 9,
    "start_time": "2022-02-09T14:56:22.378Z"
   },
   {
    "duration": 8,
    "start_time": "2022-02-09T14:56:23.018Z"
   },
   {
    "duration": 5,
    "start_time": "2022-02-09T14:56:25.366Z"
   },
   {
    "duration": 7,
    "start_time": "2022-02-09T14:56:34.027Z"
   },
   {
    "duration": 5,
    "start_time": "2022-02-09T14:56:35.291Z"
   },
   {
    "duration": 119,
    "start_time": "2022-02-09T14:59:11.344Z"
   },
   {
    "duration": 23,
    "start_time": "2022-02-09T14:59:14.183Z"
   },
   {
    "duration": 165,
    "start_time": "2022-02-09T14:59:31.741Z"
   },
   {
    "duration": 6,
    "start_time": "2022-02-09T14:59:48.926Z"
   },
   {
    "duration": 13,
    "start_time": "2022-02-09T15:00:03.195Z"
   },
   {
    "duration": 14,
    "start_time": "2022-02-09T15:00:19.540Z"
   },
   {
    "duration": 13,
    "start_time": "2022-02-09T15:00:23.112Z"
   },
   {
    "duration": 17,
    "start_time": "2022-02-09T15:00:38.291Z"
   },
   {
    "duration": 425,
    "start_time": "2022-02-09T15:00:58.957Z"
   },
   {
    "duration": 818,
    "start_time": "2022-02-09T15:01:01.701Z"
   },
   {
    "duration": 17,
    "start_time": "2022-02-09T15:01:10.866Z"
   },
   {
    "duration": 17,
    "start_time": "2022-02-09T15:01:44.572Z"
   },
   {
    "duration": 796,
    "start_time": "2022-02-09T15:01:47.335Z"
   },
   {
    "duration": 17,
    "start_time": "2022-02-09T15:01:57.005Z"
   },
   {
    "duration": 7,
    "start_time": "2022-02-09T15:03:12.262Z"
   },
   {
    "duration": 6,
    "start_time": "2022-02-09T15:03:12.866Z"
   },
   {
    "duration": 6,
    "start_time": "2022-02-09T15:03:13.599Z"
   },
   {
    "duration": 6,
    "start_time": "2022-02-09T15:03:14.992Z"
   },
   {
    "duration": 262,
    "start_time": "2022-02-09T15:03:58.085Z"
   },
   {
    "duration": 129,
    "start_time": "2022-02-09T15:04:06.308Z"
   },
   {
    "duration": 2426,
    "start_time": "2022-02-09T15:04:07.160Z"
   },
   {
    "duration": 12,
    "start_time": "2022-02-09T15:04:15.708Z"
   },
   {
    "duration": 167,
    "start_time": "2022-02-09T15:04:32.696Z"
   },
   {
    "duration": 241,
    "start_time": "2022-02-09T15:04:47.183Z"
   },
   {
    "duration": 184,
    "start_time": "2022-02-09T15:04:57.910Z"
   },
   {
    "duration": 249,
    "start_time": "2022-02-09T15:05:11.004Z"
   },
   {
    "duration": 3,
    "start_time": "2022-02-09T15:05:40.123Z"
   },
   {
    "duration": 3,
    "start_time": "2022-02-09T15:06:06.482Z"
   },
   {
    "duration": 354,
    "start_time": "2022-02-09T15:06:32.695Z"
   },
   {
    "duration": 3,
    "start_time": "2022-02-09T15:08:36.655Z"
   },
   {
    "duration": 4,
    "start_time": "2022-02-09T15:08:48.457Z"
   },
   {
    "duration": 3,
    "start_time": "2022-02-09T15:08:48.726Z"
   },
   {
    "duration": 9,
    "start_time": "2022-02-09T15:08:50.447Z"
   },
   {
    "duration": 6,
    "start_time": "2022-02-09T15:08:53.242Z"
   },
   {
    "duration": 3,
    "start_time": "2022-02-09T15:08:55.954Z"
   },
   {
    "duration": 157,
    "start_time": "2022-02-09T15:08:56.014Z"
   },
   {
    "duration": 7,
    "start_time": "2022-02-09T15:08:56.173Z"
   },
   {
    "duration": 12,
    "start_time": "2022-02-09T15:08:56.183Z"
   },
   {
    "duration": 29,
    "start_time": "2022-02-09T15:08:56.197Z"
   },
   {
    "duration": 4,
    "start_time": "2022-02-09T15:08:56.228Z"
   },
   {
    "duration": 9,
    "start_time": "2022-02-09T15:08:56.234Z"
   },
   {
    "duration": 6,
    "start_time": "2022-02-09T15:08:56.245Z"
   },
   {
    "duration": 17,
    "start_time": "2022-02-09T15:08:56.252Z"
   },
   {
    "duration": 11,
    "start_time": "2022-02-09T15:08:56.273Z"
   },
   {
    "duration": 5,
    "start_time": "2022-02-09T15:08:56.286Z"
   },
   {
    "duration": 6864,
    "start_time": "2022-02-09T15:08:56.292Z"
   },
   {
    "duration": -108,
    "start_time": "2022-02-09T15:09:03.265Z"
   },
   {
    "duration": -108,
    "start_time": "2022-02-09T15:09:03.267Z"
   },
   {
    "duration": -151,
    "start_time": "2022-02-09T15:09:03.311Z"
   },
   {
    "duration": -154,
    "start_time": "2022-02-09T15:09:03.315Z"
   },
   {
    "duration": -155,
    "start_time": "2022-02-09T15:09:03.317Z"
   },
   {
    "duration": -158,
    "start_time": "2022-02-09T15:09:03.321Z"
   },
   {
    "duration": -158,
    "start_time": "2022-02-09T15:09:03.322Z"
   },
   {
    "duration": -158,
    "start_time": "2022-02-09T15:09:03.323Z"
   },
   {
    "duration": -161,
    "start_time": "2022-02-09T15:09:03.327Z"
   },
   {
    "duration": 188,
    "start_time": "2022-02-09T15:09:17.389Z"
   },
   {
    "duration": 4,
    "start_time": "2022-02-09T15:09:20.108Z"
   },
   {
    "duration": 49,
    "start_time": "2022-02-09T15:09:20.169Z"
   },
   {
    "duration": 10,
    "start_time": "2022-02-09T15:09:20.220Z"
   },
   {
    "duration": 9,
    "start_time": "2022-02-09T15:09:20.232Z"
   },
   {
    "duration": 27,
    "start_time": "2022-02-09T15:09:20.243Z"
   },
   {
    "duration": 3,
    "start_time": "2022-02-09T15:09:20.271Z"
   },
   {
    "duration": 6,
    "start_time": "2022-02-09T15:09:20.276Z"
   },
   {
    "duration": 34,
    "start_time": "2022-02-09T15:09:20.284Z"
   },
   {
    "duration": 9,
    "start_time": "2022-02-09T15:09:20.320Z"
   },
   {
    "duration": 6,
    "start_time": "2022-02-09T15:09:20.332Z"
   },
   {
    "duration": 8,
    "start_time": "2022-02-09T15:09:20.340Z"
   },
   {
    "duration": 208,
    "start_time": "2022-02-09T15:09:20.350Z"
   },
   {
    "duration": 6,
    "start_time": "2022-02-09T15:09:20.560Z"
   },
   {
    "duration": 8,
    "start_time": "2022-02-09T15:09:20.568Z"
   },
   {
    "duration": 12,
    "start_time": "2022-02-09T15:09:20.578Z"
   },
   {
    "duration": 27,
    "start_time": "2022-02-09T15:09:20.592Z"
   },
   {
    "duration": 5,
    "start_time": "2022-02-09T15:09:20.622Z"
   },
   {
    "duration": 8,
    "start_time": "2022-02-09T15:09:20.629Z"
   },
   {
    "duration": 6,
    "start_time": "2022-02-09T15:09:20.639Z"
   },
   {
    "duration": 10,
    "start_time": "2022-02-09T15:09:20.647Z"
   },
   {
    "duration": 6,
    "start_time": "2022-02-09T15:09:20.659Z"
   },
   {
    "duration": 391,
    "start_time": "2022-02-09T15:10:39.190Z"
   },
   {
    "duration": 7,
    "start_time": "2022-02-09T15:10:43.728Z"
   },
   {
    "duration": 8,
    "start_time": "2022-02-09T15:10:56.012Z"
   },
   {
    "duration": 185,
    "start_time": "2022-02-09T15:11:23.664Z"
   },
   {
    "duration": 259,
    "start_time": "2022-02-09T15:11:47.318Z"
   },
   {
    "duration": 295,
    "start_time": "2022-02-09T15:11:54.261Z"
   },
   {
    "duration": 289,
    "start_time": "2022-02-09T15:11:57.879Z"
   },
   {
    "duration": 257,
    "start_time": "2022-02-09T15:12:01.840Z"
   },
   {
    "duration": 364,
    "start_time": "2022-02-09T15:12:23.064Z"
   },
   {
    "duration": 135,
    "start_time": "2022-02-10T20:18:52.370Z"
   }
  ],
  "kernelspec": {
   "display_name": "Python 3 (ipykernel)",
   "language": "python",
   "name": "python3"
  },
  "language_info": {
   "codemirror_mode": {
    "name": "ipython",
    "version": 3
   },
   "file_extension": ".py",
   "mimetype": "text/x-python",
   "name": "python",
   "nbconvert_exporter": "python",
   "pygments_lexer": "ipython3",
   "version": "3.9.7"
  },
  "toc": {
   "base_numbering": 1,
   "nav_menu": {},
   "number_sections": true,
   "sideBar": true,
   "skip_h1_title": true,
   "title_cell": "Содержание",
   "title_sidebar": "Contents",
   "toc_cell": true,
   "toc_position": {
    "height": "calc(100% - 180px)",
    "left": "10px",
    "top": "150px",
    "width": "165px"
   },
   "toc_section_display": true,
   "toc_window_display": true
  }
 },
 "nbformat": 4,
 "nbformat_minor": 2
}
