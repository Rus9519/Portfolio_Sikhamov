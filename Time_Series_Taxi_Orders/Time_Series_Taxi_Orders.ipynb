{
 "cells": [
  {
   "cell_type": "markdown",
   "metadata": {
    "toc": true
   },
   "source": [
    "<h1>Содержание<span class=\"tocSkip\"></span></h1>\n",
    "<div class=\"toc\"><ul class=\"toc-item\"><li><span><a href=\"#Подготовка\" data-toc-modified-id=\"Подготовка-1\"><span class=\"toc-item-num\">1&nbsp;&nbsp;</span>Подготовка</a></span></li><li><span><a href=\"#Анализ\" data-toc-modified-id=\"Анализ-2\"><span class=\"toc-item-num\">2&nbsp;&nbsp;</span>Анализ</a></span></li><li><span><a href=\"#Обучение\" data-toc-modified-id=\"Обучение-3\"><span class=\"toc-item-num\">3&nbsp;&nbsp;</span>Обучение</a></span><ul class=\"toc-item\"><li><span><a href=\"#Разделение-на-обучающую-и-тестовую-выборки\" data-toc-modified-id=\"Разделение-на-обучающую-и-тестовую-выборки-3.1\"><span class=\"toc-item-num\">3.1&nbsp;&nbsp;</span>Разделение на обучающую и тестовую выборки</a></span></li><li><span><a href=\"#Создание-признаков\" data-toc-modified-id=\"Создание-признаков-3.2\"><span class=\"toc-item-num\">3.2&nbsp;&nbsp;</span>Создание признаков</a></span></li><li><span><a href=\"#Обучение-моделей\" data-toc-modified-id=\"Обучение-моделей-3.3\"><span class=\"toc-item-num\">3.3&nbsp;&nbsp;</span>Обучение моделей</a></span><ul class=\"toc-item\"><li><span><a href=\"#Гребневая-регрессия\" data-toc-modified-id=\"Гребневая-регрессия-3.3.1\"><span class=\"toc-item-num\">3.3.1&nbsp;&nbsp;</span>Гребневая регрессия</a></span></li><li><span><a href=\"#Случайный-лес\" data-toc-modified-id=\"Случайный-лес-3.3.2\"><span class=\"toc-item-num\">3.3.2&nbsp;&nbsp;</span>Случайный лес</a></span></li><li><span><a href=\"#Градиентный-бустинг-с-помощью-LightGBM\" data-toc-modified-id=\"Градиентный-бустинг-с-помощью-LightGBM-3.3.3\"><span class=\"toc-item-num\">3.3.3&nbsp;&nbsp;</span>Градиентный бустинг с помощью LightGBM</a></span></li><li><span><a href=\"#Градиентный-бустинг-с-помощью-CatBoost\" data-toc-modified-id=\"Градиентный-бустинг-с-помощью-CatBoost-3.3.4\"><span class=\"toc-item-num\">3.3.4&nbsp;&nbsp;</span>Градиентный бустинг с помощью CatBoost</a></span></li><li><span><a href=\"#Сравнение-моделей\" data-toc-modified-id=\"Сравнение-моделей-3.3.5\"><span class=\"toc-item-num\">3.3.5&nbsp;&nbsp;</span>Сравнение моделей</a></span></li></ul></li><li><span><a href=\"#Вывод\" data-toc-modified-id=\"Вывод-3.4\"><span class=\"toc-item-num\">3.4&nbsp;&nbsp;</span>Вывод</a></span></li></ul></li><li><span><a href=\"#Тестирование\" data-toc-modified-id=\"Тестирование-4\"><span class=\"toc-item-num\">4&nbsp;&nbsp;</span>Тестирование</a></span><ul class=\"toc-item\"><li><span><a href=\"#RMSE-на-тестовой-выборке\" data-toc-modified-id=\"RMSE-на-тестовой-выборке-4.1\"><span class=\"toc-item-num\">4.1&nbsp;&nbsp;</span>RMSE на тестовой выборке</a></span></li><li><span><a href=\"#Проверка-модели-на-адекватность\" data-toc-modified-id=\"Проверка-модели-на-адекватность-4.2\"><span class=\"toc-item-num\">4.2&nbsp;&nbsp;</span>Проверка модели на адекватность</a></span></li></ul></li></ul></div>"
   ]
  },
  {
   "cell_type": "markdown",
   "metadata": {},
   "source": [
    "## Подготовка"
   ]
  },
  {
   "cell_type": "markdown",
   "metadata": {},
   "source": [
    "Импортируем необходимые библиотеки."
   ]
  },
  {
   "cell_type": "code",
   "execution_count": 2,
   "metadata": {},
   "outputs": [],
   "source": [
    "import pandas as pd\n",
    "import numpy as np\n",
    "import matplotlib.pyplot as plt\n",
    "from statsmodels.tsa.seasonal import seasonal_decompose\n",
    "from scipy.stats import uniform\n",
    "from scipy.stats import loguniform\n",
    "from sklearn.model_selection import train_test_split\n",
    "from sklearn.model_selection import cross_val_score\n",
    "from sklearn.model_selection import TimeSeriesSplit\n",
    "from sklearn.linear_model import LinearRegression\n",
    "from sklearn.linear_model import Ridge\n",
    "from sklearn.model_selection import RandomizedSearchCV\n",
    "from sklearn.ensemble import RandomForestRegressor\n",
    "from sklearn.dummy import DummyRegressor\n",
    "from sklearn.metrics import mean_squared_error\n",
    "import lightgbm\n",
    "from lightgbm import LGBMRegressor\n",
    "from catboost import CatBoostRegressor"
   ]
  },
  {
   "cell_type": "markdown",
   "metadata": {},
   "source": [
    "Загрузим данные."
   ]
  },
  {
   "cell_type": "code",
   "execution_count": 3,
   "metadata": {},
   "outputs": [],
   "source": [
    "df = pd.read_csv('https://code.s3.yandex.net/datasets/taxi.csv', index_col=[0], parse_dates=[0])"
   ]
  },
  {
   "cell_type": "code",
   "execution_count": 4,
   "metadata": {},
   "outputs": [],
   "source": [
    "df = df.sort_index()"
   ]
  },
  {
   "cell_type": "code",
   "execution_count": 5,
   "metadata": {},
   "outputs": [
    {
     "data": {
      "text/plain": [
       "True"
      ]
     },
     "execution_count": 5,
     "metadata": {},
     "output_type": "execute_result"
    }
   ],
   "source": [
    "df.index.is_monotonic"
   ]
  },
  {
   "cell_type": "code",
   "execution_count": 6,
   "metadata": {},
   "outputs": [
    {
     "data": {
      "text/html": [
       "<div>\n",
       "<style scoped>\n",
       "    .dataframe tbody tr th:only-of-type {\n",
       "        vertical-align: middle;\n",
       "    }\n",
       "\n",
       "    .dataframe tbody tr th {\n",
       "        vertical-align: top;\n",
       "    }\n",
       "\n",
       "    .dataframe thead th {\n",
       "        text-align: right;\n",
       "    }\n",
       "</style>\n",
       "<table border=\"1\" class=\"dataframe\">\n",
       "  <thead>\n",
       "    <tr style=\"text-align: right;\">\n",
       "      <th></th>\n",
       "      <th>num_orders</th>\n",
       "    </tr>\n",
       "    <tr>\n",
       "      <th>datetime</th>\n",
       "      <th></th>\n",
       "    </tr>\n",
       "  </thead>\n",
       "  <tbody>\n",
       "    <tr>\n",
       "      <th>2018-03-01 00:00:00</th>\n",
       "      <td>9</td>\n",
       "    </tr>\n",
       "    <tr>\n",
       "      <th>2018-03-01 00:10:00</th>\n",
       "      <td>14</td>\n",
       "    </tr>\n",
       "    <tr>\n",
       "      <th>2018-03-01 00:20:00</th>\n",
       "      <td>28</td>\n",
       "    </tr>\n",
       "    <tr>\n",
       "      <th>2018-03-01 00:30:00</th>\n",
       "      <td>20</td>\n",
       "    </tr>\n",
       "    <tr>\n",
       "      <th>2018-03-01 00:40:00</th>\n",
       "      <td>32</td>\n",
       "    </tr>\n",
       "  </tbody>\n",
       "</table>\n",
       "</div>"
      ],
      "text/plain": [
       "                     num_orders\n",
       "datetime                       \n",
       "2018-03-01 00:00:00           9\n",
       "2018-03-01 00:10:00          14\n",
       "2018-03-01 00:20:00          28\n",
       "2018-03-01 00:30:00          20\n",
       "2018-03-01 00:40:00          32"
      ]
     },
     "execution_count": 6,
     "metadata": {},
     "output_type": "execute_result"
    }
   ],
   "source": [
    "df.head()"
   ]
  },
  {
   "cell_type": "code",
   "execution_count": 7,
   "metadata": {},
   "outputs": [
    {
     "name": "stdout",
     "output_type": "stream",
     "text": [
      "<class 'pandas.core.frame.DataFrame'>\n",
      "DatetimeIndex: 26496 entries, 2018-03-01 00:00:00 to 2018-08-31 23:50:00\n",
      "Data columns (total 1 columns):\n",
      " #   Column      Non-Null Count  Dtype\n",
      "---  ------      --------------  -----\n",
      " 0   num_orders  26496 non-null  int64\n",
      "dtypes: int64(1)\n",
      "memory usage: 414.0 KB\n"
     ]
    }
   ],
   "source": [
    "df.info()"
   ]
  },
  {
   "cell_type": "markdown",
   "metadata": {},
   "source": [
    "- В нашем распоряжении данные с 1 марта по 31 августа 2018 года. \n",
    "- Имеется 26496 наблюдений. Временной интервал - 10 минут.\n",
    "- Пропусков не обнаружено."
   ]
  },
  {
   "cell_type": "markdown",
   "metadata": {},
   "source": [
    "Построим график по имеющимся данным."
   ]
  },
  {
   "cell_type": "code",
   "execution_count": 8,
   "metadata": {},
   "outputs": [
    {
     "data": {
      "image/png": "[encoded data removed]",
      "text/plain": [
       "<Figure size 432x288 with 1 Axes>"
      ]
     },
     "metadata": {
      "needs_background": "light"
     },
     "output_type": "display_data"
    }
   ],
   "source": [
    "df.plot()\n",
    "plt.title('Number of taxi orders')\n",
    "plt.ylabel('Number of orders')\n",
    "plt.show()"
   ]
  },
  {
   "cell_type": "markdown",
   "metadata": {},
   "source": [
    "Выполним ресемплирование по одному часу, возьмем сумму заказов за час."
   ]
  },
  {
   "cell_type": "code",
   "execution_count": 9,
   "metadata": {},
   "outputs": [],
   "source": [
    "df = df.resample('1H').sum()"
   ]
  },
  {
   "cell_type": "code",
   "execution_count": 10,
   "metadata": {},
   "outputs": [
    {
     "data": {
      "text/html": [
       "<div>\n",
       "<style scoped>\n",
       "    .dataframe tbody tr th:only-of-type {\n",
       "        vertical-align: middle;\n",
       "    }\n",
       "\n",
       "    .dataframe tbody tr th {\n",
       "        vertical-align: top;\n",
       "    }\n",
       "\n",
       "    .dataframe thead th {\n",
       "        text-align: right;\n",
       "    }\n",
       "</style>\n",
       "<table border=\"1\" class=\"dataframe\">\n",
       "  <thead>\n",
       "    <tr style=\"text-align: right;\">\n",
       "      <th></th>\n",
       "      <th>num_orders</th>\n",
       "    </tr>\n",
       "    <tr>\n",
       "      <th>datetime</th>\n",
       "      <th></th>\n",
       "    </tr>\n",
       "  </thead>\n",
       "  <tbody>\n",
       "    <tr>\n",
       "      <th>2018-03-01 00:00:00</th>\n",
       "      <td>124</td>\n",
       "    </tr>\n",
       "    <tr>\n",
       "      <th>2018-03-01 01:00:00</th>\n",
       "      <td>85</td>\n",
       "    </tr>\n",
       "    <tr>\n",
       "      <th>2018-03-01 02:00:00</th>\n",
       "      <td>71</td>\n",
       "    </tr>\n",
       "    <tr>\n",
       "      <th>2018-03-01 03:00:00</th>\n",
       "      <td>66</td>\n",
       "    </tr>\n",
       "    <tr>\n",
       "      <th>2018-03-01 04:00:00</th>\n",
       "      <td>43</td>\n",
       "    </tr>\n",
       "  </tbody>\n",
       "</table>\n",
       "</div>"
      ],
      "text/plain": [
       "                     num_orders\n",
       "datetime                       \n",
       "2018-03-01 00:00:00         124\n",
       "2018-03-01 01:00:00          85\n",
       "2018-03-01 02:00:00          71\n",
       "2018-03-01 03:00:00          66\n",
       "2018-03-01 04:00:00          43"
      ]
     },
     "execution_count": 10,
     "metadata": {},
     "output_type": "execute_result"
    }
   ],
   "source": [
    "df.head()"
   ]
  },
  {
   "cell_type": "code",
   "execution_count": 11,
   "metadata": {},
   "outputs": [
    {
     "name": "stdout",
     "output_type": "stream",
     "text": [
      "<class 'pandas.core.frame.DataFrame'>\n",
      "DatetimeIndex: 4416 entries, 2018-03-01 00:00:00 to 2018-08-31 23:00:00\n",
      "Freq: H\n",
      "Data columns (total 1 columns):\n",
      " #   Column      Non-Null Count  Dtype\n",
      "---  ------      --------------  -----\n",
      " 0   num_orders  4416 non-null   int64\n",
      "dtypes: int64(1)\n",
      "memory usage: 69.0 KB\n"
     ]
    }
   ],
   "source": [
    "df.info()"
   ]
  },
  {
   "cell_type": "markdown",
   "metadata": {},
   "source": [
    "**Вывод:**\n",
    "1. В нашем распоряжении данные с 1 марта по 31 августа 2018 года.\n",
    "2. После ресемплирования имеем 4416 строк. Интервал - 1 час."
   ]
  },
  {
   "cell_type": "markdown",
   "metadata": {},
   "source": [
    "## Анализ"
   ]
  },
  {
   "cell_type": "markdown",
   "metadata": {},
   "source": [
    "Сначала взглянем на наш временной ряд."
   ]
  },
  {
   "cell_type": "code",
   "execution_count": 12,
   "metadata": {},
   "outputs": [
    {
     "data": {
      "image/png": "[encoded data removed]",
      "text/plain": [
       "<Figure size 864x360 with 1 Axes>"
      ]
     },
     "metadata": {
      "needs_background": "light"
     },
     "output_type": "display_data"
    }
   ],
   "source": [
    "df.plot(figsize=(12,5))\n",
    "plt.title('Number of taxi orders')\n",
    "plt.ylabel('Number of orders')\n",
    "plt.show()"
   ]
  },
  {
   "cell_type": "markdown",
   "metadata": {},
   "source": [
    "Из-за маленького интервала сложно делать какие-либо выводы. Построим график скользящего среднего. За ширину окна возьмем 1 день или 24 часа."
   ]
  },
  {
   "cell_type": "code",
   "execution_count": 13,
   "metadata": {},
   "outputs": [
    {
     "data": {
      "image/png": "[encoded data removed]",
      "text/plain": [
       "<Figure size 864x360 with 1 Axes>"
      ]
     },
     "metadata": {
      "needs_background": "light"
     },
     "output_type": "display_data"
    }
   ],
   "source": [
    "df_rolling = df.copy()\n",
    "df_rolling['mean'] = df_rolling['num_orders'].shift().rolling(24).mean()\n",
    "df_rolling['std'] = df_rolling['num_orders'].shift().rolling(24).std()\n",
    "df_rolling.plot(figsize=(12,5))\n",
    "plt.ylabel('Number of orders')\n",
    "plt.title('Time series plot')\n",
    "plt.show()"
   ]
  },
  {
   "cell_type": "markdown",
   "metadata": {},
   "source": [
    "По скользящему среднему уже заметен тренд, что количество заказов такси росло с марта по август. Ряд нестационарный."
   ]
  },
  {
   "cell_type": "markdown",
   "metadata": {},
   "source": [
    "Разложим временной ряд на три составляющие: тренд, сезонность и остатки."
   ]
  },
  {
   "cell_type": "code",
   "execution_count": 14,
   "metadata": {},
   "outputs": [],
   "source": [
    "decomposed_data = seasonal_decompose(df)"
   ]
  },
  {
   "cell_type": "markdown",
   "metadata": {},
   "source": [
    "Посмотрим на тренд."
   ]
  },
  {
   "cell_type": "code",
   "execution_count": 15,
   "metadata": {},
   "outputs": [
    {
     "data": {
      "image/png": "[encoded data removed]",
      "text/plain": [
       "<Figure size 864x360 with 1 Axes>"
      ]
     },
     "metadata": {
      "needs_background": "light"
     },
     "output_type": "display_data"
    }
   ],
   "source": [
    "decomposed_data.trend.plot(figsize=(12,5))\n",
    "plt.title('Trend plot')\n",
    "plt.ylim(0, 200)\n",
    "plt.show()"
   ]
  },
  {
   "cell_type": "markdown",
   "metadata": {},
   "source": [
    "Тренд похож на скользящее среднее. По графику можно заключить, что количество заказов растет от месяца к месяцу."
   ]
  },
  {
   "cell_type": "markdown",
   "metadata": {},
   "source": [
    "Теперь взяглнем на сезонность."
   ]
  },
  {
   "cell_type": "code",
   "execution_count": 16,
   "metadata": {},
   "outputs": [
    {
     "data": {
      "image/png": "[encoded data removed]",
      "text/plain": [
       "<Figure size 864x360 with 1 Axes>"
      ]
     },
     "metadata": {
      "needs_background": "light"
     },
     "output_type": "display_data"
    }
   ],
   "source": [
    "decomposed_data.seasonal.plot(figsize=(12,5))\n",
    "plt.title('Seasonal plot')\n",
    "plt.ylim(0, 100)\n",
    "plt.show()"
   ]
  },
  {
   "cell_type": "markdown",
   "metadata": {},
   "source": [
    "Нужно взглянуть на срез. Посмотрим на последнюю неделю августа."
   ]
  },
  {
   "cell_type": "code",
   "execution_count": 17,
   "metadata": {},
   "outputs": [
    {
     "data": {
      "image/png": "[encoded data removed]",
      "text/plain": [
       "<Figure size 864x360 with 1 Axes>"
      ]
     },
     "metadata": {
      "needs_background": "light"
     },
     "output_type": "display_data"
    }
   ],
   "source": [
    "decomposed_data.seasonal['2018-08-25':'2018-08-31'].plot(figsize=(12,5))\n",
    "plt.title('Seasonal plot for last 2 weeks of August')\n",
    "plt.ylim(0, 200)\n",
    "plt.show()"
   ]
  },
  {
   "cell_type": "markdown",
   "metadata": {},
   "source": [
    "Можно заключить, что в течение дня есть 3 пика разной величины. Также видно, что день недели не влияет на сезонную составляющую временного ряда. Уменьшим срез, чтобы увидеть, какое время в течение дня соответствует пикам."
   ]
  },
  {
   "cell_type": "code",
   "execution_count": 18,
   "metadata": {},
   "outputs": [
    {
     "data": {
      "image/png": "[encoded data removed]",
      "text/plain": [
       "<Figure size 864x360 with 1 Axes>"
      ]
     },
     "metadata": {
      "needs_background": "light"
     },
     "output_type": "display_data"
    }
   ],
   "source": [
    "decomposed_data.seasonal['2018-08-30':'2018-08-31'].plot(figsize=(12,5))\n",
    "plt.title('Seasonal plot for last 2 days of August')\n",
    "plt.ylim(0, 200)\n",
    "plt.show()"
   ]
  },
  {
   "cell_type": "markdown",
   "metadata": {},
   "source": [
    "Первый пик лежит около 10 часов. Это связано с тем, что люди едут на работу в это время. Второй пик лежит около 17 часов, то есть когда люди едут с работы. Третий пик приходится на ночь, скорее всего это связано с тем, что общественный транспорт не ходит ночью."
   ]
  },
  {
   "cell_type": "markdown",
   "metadata": {},
   "source": [
    "Теперь посмотрим на остатки."
   ]
  },
  {
   "cell_type": "code",
   "execution_count": 19,
   "metadata": {},
   "outputs": [
    {
     "data": {
      "image/png": "[encoded data removed]",
      "text/plain": [
       "<Figure size 864x360 with 1 Axes>"
      ]
     },
     "metadata": {
      "needs_background": "light"
     },
     "output_type": "display_data"
    }
   ],
   "source": [
    "decomposed_data.resid.plot(figsize=(12,5))\n",
    "plt.title('Plot of residuals')\n",
    "plt.ylim(0, 300)\n",
    "plt.show()"
   ]
  },
  {
   "cell_type": "markdown",
   "metadata": {},
   "source": [
    "Временной ряд довольно сильно зашумлен."
   ]
  },
  {
   "cell_type": "markdown",
   "metadata": {},
   "source": [
    "**Вывод:**\n",
    "1. Временной ряд нестационарный. Он имеет восходящий тренд, то есть количество заказов росло с марта по август.\n",
    "2. Сезонность не зависит от дня недели, однако зависит от часа. Есть три пика в течение дня. Первый пик лежит около 10 часов. Это связано с тем, что люди едут на работу в это время. Второй пик лежит около 17 часов, то есть когда люди едут с работы. Третий пик приходится на ночь, скорее всего это связано с тем, что общественный транспорт не ходит ночью.\n",
    "3. Временной ряд довольно сильно зашумлен."
   ]
  },
  {
   "cell_type": "markdown",
   "metadata": {},
   "source": [
    "## Обучение"
   ]
  },
  {
   "cell_type": "markdown",
   "metadata": {},
   "source": [
    "Для обучения временных рядов крайне важно корректно определить признаки, а также найти оптимальные гиперпараметры моделей. Всё это нужно сделать на обучающей выборке. Поэтому мы сначала разобьем набор данных на обучающую и тестовую выборки. Затем попробуем посоздавать разные признаки на обучающей выборке и посмотреть их влияние на результат с помощью валидации. После этого мы создадим признаки и для тестовой выборки, обучим модель с оптимальными гиперпараметрами и проверим ее производительность на тесте."
   ]
  },
  {
   "cell_type": "markdown",
   "metadata": {},
   "source": [
    "### Разделение на обучающую и тестовую выборки"
   ]
  },
  {
   "cell_type": "markdown",
   "metadata": {},
   "source": [
    "Выделим тестовую выборку таким образом, чтобы она составляла 10% от исходных данных."
   ]
  },
  {
   "cell_type": "code",
   "execution_count": 20,
   "metadata": {},
   "outputs": [],
   "source": [
    "train, test = train_test_split(df, shuffle=False, test_size=0.1)"
   ]
  },
  {
   "cell_type": "markdown",
   "metadata": {},
   "source": [
    "Выполним проверку."
   ]
  },
  {
   "cell_type": "code",
   "execution_count": 21,
   "metadata": {},
   "outputs": [
    {
     "name": "stdout",
     "output_type": "stream",
     "text": [
      "(3974, 1)\n",
      "(442, 1)\n"
     ]
    }
   ],
   "source": [
    "print(train.shape)\n",
    "print(test.shape)"
   ]
  },
  {
   "cell_type": "markdown",
   "metadata": {},
   "source": [
    "### Создание признаков"
   ]
  },
  {
   "cell_type": "markdown",
   "metadata": {},
   "source": [
    "То, какие именно признаки мы выделим, оказывает сильное воздействие на результат работы модели. Чтобы найти наилучший способ, нужно попробовать много разных способов выделения признаков. Для этого мы создадим класс, создающий признаки, а затtv оптимизируем параметры данного класса на простой модели."
   ]
  },
  {
   "cell_type": "markdown",
   "metadata": {},
   "source": [
    "Создадим класс, создающий признаки. В нашем датасете данные за 1 год, поэтому создавать признак года не имеет смысла, однако оставим такую возможность в классе."
   ]
  },
  {
   "cell_type": "code",
   "execution_count": 22,
   "metadata": {},
   "outputs": [],
   "source": [
    "class MakeFeatures():\n",
    "    '''\n",
    "    Данный класс создает признаки для временного ряда: календарные признаки, отстающие признаки и скользящее среднее.\n",
    "    Также он удаляет пропущенные значения и выделяет целевой признак.\n",
    "    '''\n",
    "    def __init__(self, max_lag=4, rolling_mean_size=24, include_year=False):\n",
    "        self.max_lag = max_lag\n",
    "        self.rolling_mean_size = rolling_mean_size\n",
    "        self.include_year = include_year\n",
    "    def fit_transform(self, X, y=None):\n",
    "        X_ = X.copy()\n",
    "        if self.include_year == True:  \n",
    "            X_['year'] = X_.index.year\n",
    "        X_['month'] = X_.index.month\n",
    "        X_['day'] = X_.index.day\n",
    "        X_['dayofweek'] = X_.index.dayofweek\n",
    "        X_['hour'] = X_.index.hour\n",
    "        \n",
    "        for lag in range(1, self.max_lag + 1):\n",
    "            X_[f'lag_{lag}'] = X_['num_orders'].shift(lag)\n",
    "        \n",
    "        X_['rolling_mean'] = X_['num_orders'].shift().rolling(self.rolling_mean_size).mean()\n",
    "        \n",
    "        X_ = X_.dropna()\n",
    "        y_ = X_['num_orders']\n",
    "        X_ = X_.drop('num_orders', axis=1)\n",
    "        \n",
    "        return X_, y_"
   ]
  },
  {
   "cell_type": "markdown",
   "metadata": {},
   "source": [
    "Проверим его работу."
   ]
  },
  {
   "cell_type": "code",
   "execution_count": 23,
   "metadata": {},
   "outputs": [],
   "source": [
    "make_features = MakeFeatures()"
   ]
  },
  {
   "cell_type": "code",
   "execution_count": 24,
   "metadata": {},
   "outputs": [
    {
     "name": "stdout",
     "output_type": "stream",
     "text": [
      "Wall time: 4 ms\n"
     ]
    }
   ],
   "source": [
    "%%time\n",
    "train_new, train_target_new = make_features.fit_transform(train)"
   ]
  },
  {
   "cell_type": "code",
   "execution_count": 25,
   "metadata": {},
   "outputs": [
    {
     "data": {
      "text/html": [
       "<div>\n",
       "<style scoped>\n",
       "    .dataframe tbody tr th:only-of-type {\n",
       "        vertical-align: middle;\n",
       "    }\n",
       "\n",
       "    .dataframe tbody tr th {\n",
       "        vertical-align: top;\n",
       "    }\n",
       "\n",
       "    .dataframe thead th {\n",
       "        text-align: right;\n",
       "    }\n",
       "</style>\n",
       "<table border=\"1\" class=\"dataframe\">\n",
       "  <thead>\n",
       "    <tr style=\"text-align: right;\">\n",
       "      <th></th>\n",
       "      <th>month</th>\n",
       "      <th>day</th>\n",
       "      <th>dayofweek</th>\n",
       "      <th>hour</th>\n",
       "      <th>lag_1</th>\n",
       "      <th>lag_2</th>\n",
       "      <th>lag_3</th>\n",
       "      <th>lag_4</th>\n",
       "      <th>rolling_mean</th>\n",
       "    </tr>\n",
       "    <tr>\n",
       "      <th>datetime</th>\n",
       "      <th></th>\n",
       "      <th></th>\n",
       "      <th></th>\n",
       "      <th></th>\n",
       "      <th></th>\n",
       "      <th></th>\n",
       "      <th></th>\n",
       "      <th></th>\n",
       "      <th></th>\n",
       "    </tr>\n",
       "  </thead>\n",
       "  <tbody>\n",
       "    <tr>\n",
       "      <th>2018-03-02 00:00:00</th>\n",
       "      <td>3</td>\n",
       "      <td>2</td>\n",
       "      <td>4</td>\n",
       "      <td>0</td>\n",
       "      <td>58.0</td>\n",
       "      <td>113.0</td>\n",
       "      <td>66.0</td>\n",
       "      <td>61.0</td>\n",
       "      <td>56.833333</td>\n",
       "    </tr>\n",
       "    <tr>\n",
       "      <th>2018-03-02 01:00:00</th>\n",
       "      <td>3</td>\n",
       "      <td>2</td>\n",
       "      <td>4</td>\n",
       "      <td>1</td>\n",
       "      <td>90.0</td>\n",
       "      <td>58.0</td>\n",
       "      <td>113.0</td>\n",
       "      <td>66.0</td>\n",
       "      <td>55.416667</td>\n",
       "    </tr>\n",
       "    <tr>\n",
       "      <th>2018-03-02 02:00:00</th>\n",
       "      <td>3</td>\n",
       "      <td>2</td>\n",
       "      <td>4</td>\n",
       "      <td>2</td>\n",
       "      <td>120.0</td>\n",
       "      <td>90.0</td>\n",
       "      <td>58.0</td>\n",
       "      <td>113.0</td>\n",
       "      <td>56.875000</td>\n",
       "    </tr>\n",
       "    <tr>\n",
       "      <th>2018-03-02 03:00:00</th>\n",
       "      <td>3</td>\n",
       "      <td>2</td>\n",
       "      <td>4</td>\n",
       "      <td>3</td>\n",
       "      <td>75.0</td>\n",
       "      <td>120.0</td>\n",
       "      <td>90.0</td>\n",
       "      <td>58.0</td>\n",
       "      <td>57.041667</td>\n",
       "    </tr>\n",
       "    <tr>\n",
       "      <th>2018-03-02 04:00:00</th>\n",
       "      <td>3</td>\n",
       "      <td>2</td>\n",
       "      <td>4</td>\n",
       "      <td>4</td>\n",
       "      <td>64.0</td>\n",
       "      <td>75.0</td>\n",
       "      <td>120.0</td>\n",
       "      <td>90.0</td>\n",
       "      <td>56.958333</td>\n",
       "    </tr>\n",
       "  </tbody>\n",
       "</table>\n",
       "</div>"
      ],
      "text/plain": [
       "                     month  day  dayofweek  hour  lag_1  lag_2  lag_3  lag_4  \\\n",
       "datetime                                                                       \n",
       "2018-03-02 00:00:00      3    2          4     0   58.0  113.0   66.0   61.0   \n",
       "2018-03-02 01:00:00      3    2          4     1   90.0   58.0  113.0   66.0   \n",
       "2018-03-02 02:00:00      3    2          4     2  120.0   90.0   58.0  113.0   \n",
       "2018-03-02 03:00:00      3    2          4     3   75.0  120.0   90.0   58.0   \n",
       "2018-03-02 04:00:00      3    2          4     4   64.0   75.0  120.0   90.0   \n",
       "\n",
       "                     rolling_mean  \n",
       "datetime                           \n",
       "2018-03-02 00:00:00     56.833333  \n",
       "2018-03-02 01:00:00     55.416667  \n",
       "2018-03-02 02:00:00     56.875000  \n",
       "2018-03-02 03:00:00     57.041667  \n",
       "2018-03-02 04:00:00     56.958333  "
      ]
     },
     "execution_count": 25,
     "metadata": {},
     "output_type": "execute_result"
    }
   ],
   "source": [
    "train_new.head()"
   ]
  },
  {
   "cell_type": "code",
   "execution_count": 26,
   "metadata": {},
   "outputs": [
    {
     "data": {
      "text/plain": [
       "datetime\n",
       "2018-03-02 00:00:00     90\n",
       "2018-03-02 01:00:00    120\n",
       "2018-03-02 02:00:00     75\n",
       "2018-03-02 03:00:00     64\n",
       "2018-03-02 04:00:00     20\n",
       "Freq: H, Name: num_orders, dtype: int64"
      ]
     },
     "execution_count": 26,
     "metadata": {},
     "output_type": "execute_result"
    }
   ],
   "source": [
    "train_target_new.head()"
   ]
  },
  {
   "cell_type": "code",
   "execution_count": 27,
   "metadata": {},
   "outputs": [
    {
     "name": "stdout",
     "output_type": "stream",
     "text": [
      "3950\n",
      "3950\n"
     ]
    }
   ],
   "source": [
    "print(len(train_new))\n",
    "print(len(train_target_new))"
   ]
  },
  {
   "cell_type": "markdown",
   "metadata": {},
   "source": [
    "Все работает корректно."
   ]
  },
  {
   "cell_type": "markdown",
   "metadata": {},
   "source": [
    "Теперь переберем параметры с целью поиска наилучших. Перебирать будем количество отстающих признаков и размер окна для скользящего среднего. Для всех параметров обучим модель модель линейной регрессии и оценим качество на кросс-валидации."
   ]
  },
  {
   "cell_type": "code",
   "execution_count": 28,
   "metadata": {},
   "outputs": [
    {
     "name": "stdout",
     "output_type": "stream",
     "text": [
      "The best score: 23.71377277197628\n",
      "The best lag: 48\n",
      "The best window size for rolling mean: 54\n",
      "Wall time: 2min 4s\n"
     ]
    }
   ],
   "source": [
    "%%time\n",
    "best_score = 10e400\n",
    "best_lag = 0\n",
    "best_rolling_mean_size = 0\n",
    "for lag in range(1, 49):\n",
    "    for rolling_mean_size in range(6, 169, 6):\n",
    "        make_features = MakeFeatures(max_lag=lag, rolling_mean_size=rolling_mean_size)\n",
    "        X, y = make_features.fit_transform(train)\n",
    "        score = abs(cross_val_score(LinearRegression(), \n",
    "                    X,\n",
    "                    y,\n",
    "                    scoring='neg_root_mean_squared_error',\n",
    "                    cv=TimeSeriesSplit(n_splits=24),\n",
    "                    n_jobs=-1).mean())\n",
    "        if score < best_score:\n",
    "            best_lag = lag\n",
    "            best_rolling_mean_size = rolling_mean_size\n",
    "            best_score = score\n",
    "            \n",
    "print(f'The best score: {best_score}')\n",
    "print(f'The best lag: {best_lag}')\n",
    "print(f'The best window size for rolling mean: {best_rolling_mean_size}')"
   ]
  },
  {
   "cell_type": "markdown",
   "metadata": {},
   "source": [
    "Создадим признаки для всего датасета, используя оптимальные параметры."
   ]
  },
  {
   "cell_type": "code",
   "execution_count": 29,
   "metadata": {},
   "outputs": [],
   "source": [
    "optimal_features = MakeFeatures(max_lag=best_lag, rolling_mean_size=best_rolling_mean_size)\n",
    "features, target = optimal_features.fit_transform(df)"
   ]
  },
  {
   "cell_type": "code",
   "execution_count": 30,
   "metadata": {},
   "outputs": [
    {
     "data": {
      "text/html": [
       "<div>\n",
       "<style scoped>\n",
       "    .dataframe tbody tr th:only-of-type {\n",
       "        vertical-align: middle;\n",
       "    }\n",
       "\n",
       "    .dataframe tbody tr th {\n",
       "        vertical-align: top;\n",
       "    }\n",
       "\n",
       "    .dataframe thead th {\n",
       "        text-align: right;\n",
       "    }\n",
       "</style>\n",
       "<table border=\"1\" class=\"dataframe\">\n",
       "  <thead>\n",
       "    <tr style=\"text-align: right;\">\n",
       "      <th></th>\n",
       "      <th>month</th>\n",
       "      <th>day</th>\n",
       "      <th>dayofweek</th>\n",
       "      <th>hour</th>\n",
       "      <th>lag_1</th>\n",
       "      <th>lag_2</th>\n",
       "      <th>lag_3</th>\n",
       "      <th>lag_4</th>\n",
       "      <th>lag_5</th>\n",
       "      <th>lag_6</th>\n",
       "      <th>...</th>\n",
       "      <th>lag_40</th>\n",
       "      <th>lag_41</th>\n",
       "      <th>lag_42</th>\n",
       "      <th>lag_43</th>\n",
       "      <th>lag_44</th>\n",
       "      <th>lag_45</th>\n",
       "      <th>lag_46</th>\n",
       "      <th>lag_47</th>\n",
       "      <th>lag_48</th>\n",
       "      <th>rolling_mean</th>\n",
       "    </tr>\n",
       "    <tr>\n",
       "      <th>datetime</th>\n",
       "      <th></th>\n",
       "      <th></th>\n",
       "      <th></th>\n",
       "      <th></th>\n",
       "      <th></th>\n",
       "      <th></th>\n",
       "      <th></th>\n",
       "      <th></th>\n",
       "      <th></th>\n",
       "      <th></th>\n",
       "      <th></th>\n",
       "      <th></th>\n",
       "      <th></th>\n",
       "      <th></th>\n",
       "      <th></th>\n",
       "      <th></th>\n",
       "      <th></th>\n",
       "      <th></th>\n",
       "      <th></th>\n",
       "      <th></th>\n",
       "      <th></th>\n",
       "    </tr>\n",
       "  </thead>\n",
       "  <tbody>\n",
       "    <tr>\n",
       "      <th>2018-03-03 06:00:00</th>\n",
       "      <td>3</td>\n",
       "      <td>3</td>\n",
       "      <td>5</td>\n",
       "      <td>6</td>\n",
       "      <td>15.0</td>\n",
       "      <td>44.0</td>\n",
       "      <td>64.0</td>\n",
       "      <td>25.0</td>\n",
       "      <td>108.0</td>\n",
       "      <td>163.0</td>\n",
       "      <td>...</td>\n",
       "      <td>48.0</td>\n",
       "      <td>32.0</td>\n",
       "      <td>30.0</td>\n",
       "      <td>96.0</td>\n",
       "      <td>64.0</td>\n",
       "      <td>69.0</td>\n",
       "      <td>34.0</td>\n",
       "      <td>15.0</td>\n",
       "      <td>12.0</td>\n",
       "      <td>60.907407</td>\n",
       "    </tr>\n",
       "    <tr>\n",
       "      <th>2018-03-03 07:00:00</th>\n",
       "      <td>3</td>\n",
       "      <td>3</td>\n",
       "      <td>5</td>\n",
       "      <td>7</td>\n",
       "      <td>9.0</td>\n",
       "      <td>15.0</td>\n",
       "      <td>44.0</td>\n",
       "      <td>64.0</td>\n",
       "      <td>25.0</td>\n",
       "      <td>108.0</td>\n",
       "      <td>...</td>\n",
       "      <td>66.0</td>\n",
       "      <td>48.0</td>\n",
       "      <td>32.0</td>\n",
       "      <td>30.0</td>\n",
       "      <td>96.0</td>\n",
       "      <td>64.0</td>\n",
       "      <td>69.0</td>\n",
       "      <td>34.0</td>\n",
       "      <td>15.0</td>\n",
       "      <td>58.777778</td>\n",
       "    </tr>\n",
       "    <tr>\n",
       "      <th>2018-03-03 08:00:00</th>\n",
       "      <td>3</td>\n",
       "      <td>3</td>\n",
       "      <td>5</td>\n",
       "      <td>8</td>\n",
       "      <td>17.0</td>\n",
       "      <td>9.0</td>\n",
       "      <td>15.0</td>\n",
       "      <td>44.0</td>\n",
       "      <td>64.0</td>\n",
       "      <td>25.0</td>\n",
       "      <td>...</td>\n",
       "      <td>43.0</td>\n",
       "      <td>66.0</td>\n",
       "      <td>48.0</td>\n",
       "      <td>32.0</td>\n",
       "      <td>30.0</td>\n",
       "      <td>96.0</td>\n",
       "      <td>64.0</td>\n",
       "      <td>69.0</td>\n",
       "      <td>34.0</td>\n",
       "      <td>57.518519</td>\n",
       "    </tr>\n",
       "    <tr>\n",
       "      <th>2018-03-03 09:00:00</th>\n",
       "      <td>3</td>\n",
       "      <td>3</td>\n",
       "      <td>5</td>\n",
       "      <td>9</td>\n",
       "      <td>56.0</td>\n",
       "      <td>17.0</td>\n",
       "      <td>9.0</td>\n",
       "      <td>15.0</td>\n",
       "      <td>44.0</td>\n",
       "      <td>64.0</td>\n",
       "      <td>...</td>\n",
       "      <td>44.0</td>\n",
       "      <td>43.0</td>\n",
       "      <td>66.0</td>\n",
       "      <td>48.0</td>\n",
       "      <td>32.0</td>\n",
       "      <td>30.0</td>\n",
       "      <td>96.0</td>\n",
       "      <td>64.0</td>\n",
       "      <td>69.0</td>\n",
       "      <td>57.240741</td>\n",
       "    </tr>\n",
       "    <tr>\n",
       "      <th>2018-03-03 10:00:00</th>\n",
       "      <td>3</td>\n",
       "      <td>3</td>\n",
       "      <td>5</td>\n",
       "      <td>10</td>\n",
       "      <td>73.0</td>\n",
       "      <td>56.0</td>\n",
       "      <td>17.0</td>\n",
       "      <td>9.0</td>\n",
       "      <td>15.0</td>\n",
       "      <td>44.0</td>\n",
       "      <td>...</td>\n",
       "      <td>73.0</td>\n",
       "      <td>44.0</td>\n",
       "      <td>43.0</td>\n",
       "      <td>66.0</td>\n",
       "      <td>48.0</td>\n",
       "      <td>32.0</td>\n",
       "      <td>30.0</td>\n",
       "      <td>96.0</td>\n",
       "      <td>64.0</td>\n",
       "      <td>57.370370</td>\n",
       "    </tr>\n",
       "  </tbody>\n",
       "</table>\n",
       "<p>5 rows × 53 columns</p>\n",
       "</div>"
      ],
      "text/plain": [
       "                     month  day  dayofweek  hour  lag_1  lag_2  lag_3  lag_4  \\\n",
       "datetime                                                                       \n",
       "2018-03-03 06:00:00      3    3          5     6   15.0   44.0   64.0   25.0   \n",
       "2018-03-03 07:00:00      3    3          5     7    9.0   15.0   44.0   64.0   \n",
       "2018-03-03 08:00:00      3    3          5     8   17.0    9.0   15.0   44.0   \n",
       "2018-03-03 09:00:00      3    3          5     9   56.0   17.0    9.0   15.0   \n",
       "2018-03-03 10:00:00      3    3          5    10   73.0   56.0   17.0    9.0   \n",
       "\n",
       "                     lag_5  lag_6  ...  lag_40  lag_41  lag_42  lag_43  \\\n",
       "datetime                           ...                                   \n",
       "2018-03-03 06:00:00  108.0  163.0  ...    48.0    32.0    30.0    96.0   \n",
       "2018-03-03 07:00:00   25.0  108.0  ...    66.0    48.0    32.0    30.0   \n",
       "2018-03-03 08:00:00   64.0   25.0  ...    43.0    66.0    48.0    32.0   \n",
       "2018-03-03 09:00:00   44.0   64.0  ...    44.0    43.0    66.0    48.0   \n",
       "2018-03-03 10:00:00   15.0   44.0  ...    73.0    44.0    43.0    66.0   \n",
       "\n",
       "                     lag_44  lag_45  lag_46  lag_47  lag_48  rolling_mean  \n",
       "datetime                                                                   \n",
       "2018-03-03 06:00:00    64.0    69.0    34.0    15.0    12.0     60.907407  \n",
       "2018-03-03 07:00:00    96.0    64.0    69.0    34.0    15.0     58.777778  \n",
       "2018-03-03 08:00:00    30.0    96.0    64.0    69.0    34.0     57.518519  \n",
       "2018-03-03 09:00:00    32.0    30.0    96.0    64.0    69.0     57.240741  \n",
       "2018-03-03 10:00:00    48.0    32.0    30.0    96.0    64.0     57.370370  \n",
       "\n",
       "[5 rows x 53 columns]"
      ]
     },
     "execution_count": 30,
     "metadata": {},
     "output_type": "execute_result"
    }
   ],
   "source": [
    "features.head()"
   ]
  },
  {
   "cell_type": "code",
   "execution_count": 31,
   "metadata": {},
   "outputs": [
    {
     "data": {
      "text/plain": [
       "datetime\n",
       "2018-03-03 06:00:00     9\n",
       "2018-03-03 07:00:00    17\n",
       "2018-03-03 08:00:00    56\n",
       "2018-03-03 09:00:00    73\n",
       "2018-03-03 10:00:00    52\n",
       "Freq: H, Name: num_orders, dtype: int64"
      ]
     },
     "execution_count": 31,
     "metadata": {},
     "output_type": "execute_result"
    }
   ],
   "source": [
    "target.head()"
   ]
  },
  {
   "cell_type": "code",
   "execution_count": 32,
   "metadata": {},
   "outputs": [
    {
     "name": "stdout",
     "output_type": "stream",
     "text": [
      "4362\n",
      "4362\n"
     ]
    }
   ],
   "source": [
    "print(len(features))\n",
    "print(len(target))"
   ]
  },
  {
   "cell_type": "markdown",
   "metadata": {},
   "source": [
    "Разобьем данные на обучающую и тестовую выборки."
   ]
  },
  {
   "cell_type": "code",
   "execution_count": 33,
   "metadata": {},
   "outputs": [],
   "source": [
    "X_train, X_test, y_train, y_test = train_test_split(features,\n",
    "                                                    target,\n",
    "                                                    test_size=0.1,\n",
    "                                                    shuffle=False)"
   ]
  },
  {
   "cell_type": "markdown",
   "metadata": {},
   "source": [
    "Проверим разбиение."
   ]
  },
  {
   "cell_type": "code",
   "execution_count": 34,
   "metadata": {},
   "outputs": [
    {
     "name": "stdout",
     "output_type": "stream",
     "text": [
      "(3925, 53)\n",
      "(437, 53)\n",
      "(3925,)\n",
      "(437,)\n"
     ]
    }
   ],
   "source": [
    "print(X_train.shape)\n",
    "print(X_test.shape)\n",
    "print(y_train.shape)\n",
    "print(y_test.shape)"
   ]
  },
  {
   "cell_type": "markdown",
   "metadata": {},
   "source": [
    "Разбиение произведено корректно."
   ]
  },
  {
   "cell_type": "markdown",
   "metadata": {},
   "source": [
    "### Обучение моделей"
   ]
  },
  {
   "cell_type": "markdown",
   "metadata": {},
   "source": [
    "В данном пункте мы обучим несколько моделей и оптимизируем их гиперпараметры с помощью техники RandomizedSearch."
   ]
  },
  {
   "cell_type": "markdown",
   "metadata": {},
   "source": [
    "#### Гребневая регрессия"
   ]
  },
  {
   "cell_type": "markdown",
   "metadata": {},
   "source": [
    "Начнем с линейной регрессии с L2-регуляризацией. Калибровать в данном случае будем вес регуляризации."
   ]
  },
  {
   "cell_type": "code",
   "execution_count": 35,
   "metadata": {},
   "outputs": [],
   "source": [
    "params_ridge = {'alpha' : loguniform(0.01, 100)}"
   ]
  },
  {
   "cell_type": "code",
   "execution_count": 36,
   "metadata": {},
   "outputs": [
    {
     "name": "stdout",
     "output_type": "stream",
     "text": [
      "Fitting 24 folds for each of 100 candidates, totalling 2400 fits\n",
      "Wall time: 1.93 s\n"
     ]
    },
    {
     "data": {
      "text/plain": [
       "RandomizedSearchCV(cv=TimeSeriesSplit(gap=0, max_train_size=None, n_splits=24, test_size=None),\n",
       "                   estimator=Ridge(random_state=42), n_iter=100, n_jobs=-1,\n",
       "                   param_distributions={'alpha': <scipy.stats._distn_infrastructure.rv_frozen object at 0x0000028816291490>},\n",
       "                   random_state=42, scoring='neg_root_mean_squared_error',\n",
       "                   verbose=1)"
      ]
     },
     "execution_count": 36,
     "metadata": {},
     "output_type": "execute_result"
    }
   ],
   "source": [
    "%%time\n",
    "random_search_ridge = RandomizedSearchCV(\n",
    "    estimator=Ridge(random_state=42),\n",
    "    param_distributions=params_ridge,\n",
    "    n_iter=100,\n",
    "    scoring='neg_root_mean_squared_error',\n",
    "    cv=TimeSeriesSplit(n_splits=24),\n",
    "    random_state=42,\n",
    "    n_jobs=-1,\n",
    "    verbose=1\n",
    ")\n",
    "\n",
    "random_search_ridge.fit(X_train, y_train)"
   ]
  },
  {
   "cell_type": "markdown",
   "metadata": {},
   "source": [
    "Лучшие параметры."
   ]
  },
  {
   "cell_type": "code",
   "execution_count": 37,
   "metadata": {},
   "outputs": [
    {
     "data": {
      "text/plain": [
       "{'alpha': 88.62326508576248}"
      ]
     },
     "execution_count": 37,
     "metadata": {},
     "output_type": "execute_result"
    }
   ],
   "source": [
    "random_search_ridge.best_params_"
   ]
  },
  {
   "cell_type": "markdown",
   "metadata": {},
   "source": [
    "Лучший показатель RMSE."
   ]
  },
  {
   "cell_type": "code",
   "execution_count": 38,
   "metadata": {},
   "outputs": [
    {
     "data": {
      "text/plain": [
       "23.72146326413849"
      ]
     },
     "execution_count": 38,
     "metadata": {},
     "output_type": "execute_result"
    }
   ],
   "source": [
    "rmse_ridge_cv = abs(random_search_ridge.best_score_)\n",
    "rmse_ridge_cv"
   ]
  },
  {
   "cell_type": "markdown",
   "metadata": {},
   "source": [
    "Сохраним лучшую модель."
   ]
  },
  {
   "cell_type": "code",
   "execution_count": 39,
   "metadata": {},
   "outputs": [],
   "source": [
    "ridge_reg = random_search_ridge.best_estimator_"
   ]
  },
  {
   "cell_type": "markdown",
   "metadata": {},
   "source": [
    "#### Случайный лес"
   ]
  },
  {
   "cell_type": "markdown",
   "metadata": {},
   "source": [
    "В данном случае будем оптимизировать глубину дерева, количество деревьев, количество признаков и параметры узлов и листов."
   ]
  },
  {
   "cell_type": "code",
   "execution_count": 40,
   "metadata": {},
   "outputs": [],
   "source": [
    "params_rf = {'n_estimators' : range(1, 150),\n",
    "             'max_depth' : range(4, 20),\n",
    "             'max_features' : [4, 6, 8],\n",
    "             'min_samples_split' : range(2, 6),\n",
    "             'min_samples_leaf' : range(1,5)}"
   ]
  },
  {
   "cell_type": "code",
   "execution_count": 41,
   "metadata": {},
   "outputs": [
    {
     "name": "stdout",
     "output_type": "stream",
     "text": [
      "Fitting 24 folds for each of 50 candidates, totalling 1200 fits\n",
      "Wall time: 32.5 s\n"
     ]
    },
    {
     "data": {
      "text/plain": [
       "RandomizedSearchCV(cv=TimeSeriesSplit(gap=0, max_train_size=None, n_splits=24, test_size=None),\n",
       "                   estimator=RandomForestRegressor(random_state=42), n_iter=50,\n",
       "                   n_jobs=-1,\n",
       "                   param_distributions={'max_depth': range(4, 20),\n",
       "                                        'max_features': [4, 6, 8],\n",
       "                                        'min_samples_leaf': range(1, 5),\n",
       "                                        'min_samples_split': range(2, 6),\n",
       "                                        'n_estimators': range(1, 150)},\n",
       "                   random_state=42, scoring='neg_root_mean_squared_error',\n",
       "                   verbose=1)"
      ]
     },
     "execution_count": 41,
     "metadata": {},
     "output_type": "execute_result"
    }
   ],
   "source": [
    "%%time\n",
    "random_search_rf = RandomizedSearchCV(\n",
    "    estimator=RandomForestRegressor(random_state=42),\n",
    "    param_distributions=params_rf,\n",
    "    n_iter=50,\n",
    "    scoring='neg_root_mean_squared_error',\n",
    "    cv=TimeSeriesSplit(n_splits=24),\n",
    "    random_state=42,\n",
    "    n_jobs=-1,\n",
    "    verbose=1\n",
    ")\n",
    "\n",
    "random_search_rf.fit(X_train, y_train)"
   ]
  },
  {
   "cell_type": "markdown",
   "metadata": {},
   "source": [
    "Наилучшие гиперпараметры."
   ]
  },
  {
   "cell_type": "code",
   "execution_count": 42,
   "metadata": {},
   "outputs": [
    {
     "data": {
      "text/plain": [
       "{'n_estimators': 84,\n",
       " 'min_samples_split': 2,\n",
       " 'min_samples_leaf': 2,\n",
       " 'max_features': 8,\n",
       " 'max_depth': 19}"
      ]
     },
     "execution_count": 42,
     "metadata": {},
     "output_type": "execute_result"
    }
   ],
   "source": [
    "random_search_rf.best_params_"
   ]
  },
  {
   "cell_type": "markdown",
   "metadata": {},
   "source": [
    "Наилучший показатель RMSE."
   ]
  },
  {
   "cell_type": "code",
   "execution_count": 43,
   "metadata": {},
   "outputs": [
    {
     "data": {
      "text/plain": [
       "22.723393687699527"
      ]
     },
     "execution_count": 43,
     "metadata": {},
     "output_type": "execute_result"
    }
   ],
   "source": [
    "rmse_rf_cv = abs(random_search_rf.best_score_)\n",
    "rmse_rf_cv"
   ]
  },
  {
   "cell_type": "markdown",
   "metadata": {},
   "source": [
    "Сохраним наилучшую модель случайного леса."
   ]
  },
  {
   "cell_type": "code",
   "execution_count": 44,
   "metadata": {},
   "outputs": [],
   "source": [
    "random_forest = random_search_rf.best_estimator_"
   ]
  },
  {
   "cell_type": "markdown",
   "metadata": {},
   "source": [
    "#### Градиентный бустинг с помощью LightGBM"
   ]
  },
  {
   "cell_type": "markdown",
   "metadata": {},
   "source": [
    "Столбцы месяц, день, день недели и час по факту являются категориальными столбцами. Создав по ним признаки, мы невольно использовали порядковое кодирование. Так как библиотека LightGBM имеет встроенные способы обработки категориальных признаков, лучше изменить тип данных в этих столбцах."
   ]
  },
  {
   "cell_type": "code",
   "execution_count": 45,
   "metadata": {},
   "outputs": [],
   "source": [
    "X_train_boost = X_train.copy()\n",
    "X_test_boost = X_test.copy()"
   ]
  },
  {
   "cell_type": "code",
   "execution_count": 46,
   "metadata": {},
   "outputs": [],
   "source": [
    "cat_features = ['month', 'day', 'dayofweek', 'hour']\n",
    "for col in cat_features:\n",
    "    X_train_boost[col] = X_train_boost[col].astype('category')\n",
    "    X_test_boost[col] = X_test_boost[col].astype('category')"
   ]
  },
  {
   "cell_type": "code",
   "execution_count": 47,
   "metadata": {
    "scrolled": true
   },
   "outputs": [
    {
     "name": "stdout",
     "output_type": "stream",
     "text": [
      "<class 'pandas.core.frame.DataFrame'>\n",
      "DatetimeIndex: 3925 entries, 2018-03-03 06:00:00 to 2018-08-13 18:00:00\n",
      "Freq: H\n",
      "Data columns (total 53 columns):\n",
      " #   Column        Non-Null Count  Dtype   \n",
      "---  ------        --------------  -----   \n",
      " 0   month         3925 non-null   category\n",
      " 1   day           3925 non-null   category\n",
      " 2   dayofweek     3925 non-null   category\n",
      " 3   hour          3925 non-null   category\n",
      " 4   lag_1         3925 non-null   float64 \n",
      " 5   lag_2         3925 non-null   float64 \n",
      " 6   lag_3         3925 non-null   float64 \n",
      " 7   lag_4         3925 non-null   float64 \n",
      " 8   lag_5         3925 non-null   float64 \n",
      " 9   lag_6         3925 non-null   float64 \n",
      " 10  lag_7         3925 non-null   float64 \n",
      " 11  lag_8         3925 non-null   float64 \n",
      " 12  lag_9         3925 non-null   float64 \n",
      " 13  lag_10        3925 non-null   float64 \n",
      " 14  lag_11        3925 non-null   float64 \n",
      " 15  lag_12        3925 non-null   float64 \n",
      " 16  lag_13        3925 non-null   float64 \n",
      " 17  lag_14        3925 non-null   float64 \n",
      " 18  lag_15        3925 non-null   float64 \n",
      " 19  lag_16        3925 non-null   float64 \n",
      " 20  lag_17        3925 non-null   float64 \n",
      " 21  lag_18        3925 non-null   float64 \n",
      " 22  lag_19        3925 non-null   float64 \n",
      " 23  lag_20        3925 non-null   float64 \n",
      " 24  lag_21        3925 non-null   float64 \n",
      " 25  lag_22        3925 non-null   float64 \n",
      " 26  lag_23        3925 non-null   float64 \n",
      " 27  lag_24        3925 non-null   float64 \n",
      " 28  lag_25        3925 non-null   float64 \n",
      " 29  lag_26        3925 non-null   float64 \n",
      " 30  lag_27        3925 non-null   float64 \n",
      " 31  lag_28        3925 non-null   float64 \n",
      " 32  lag_29        3925 non-null   float64 \n",
      " 33  lag_30        3925 non-null   float64 \n",
      " 34  lag_31        3925 non-null   float64 \n",
      " 35  lag_32        3925 non-null   float64 \n",
      " 36  lag_33        3925 non-null   float64 \n",
      " 37  lag_34        3925 non-null   float64 \n",
      " 38  lag_35        3925 non-null   float64 \n",
      " 39  lag_36        3925 non-null   float64 \n",
      " 40  lag_37        3925 non-null   float64 \n",
      " 41  lag_38        3925 non-null   float64 \n",
      " 42  lag_39        3925 non-null   float64 \n",
      " 43  lag_40        3925 non-null   float64 \n",
      " 44  lag_41        3925 non-null   float64 \n",
      " 45  lag_42        3925 non-null   float64 \n",
      " 46  lag_43        3925 non-null   float64 \n",
      " 47  lag_44        3925 non-null   float64 \n",
      " 48  lag_45        3925 non-null   float64 \n",
      " 49  lag_46        3925 non-null   float64 \n",
      " 50  lag_47        3925 non-null   float64 \n",
      " 51  lag_48        3925 non-null   float64 \n",
      " 52  rolling_mean  3925 non-null   float64 \n",
      "dtypes: category(4), float64(49)\n",
      "memory usage: 1.5 MB\n"
     ]
    }
   ],
   "source": [
    "X_train_boost.info()"
   ]
  },
  {
   "cell_type": "markdown",
   "metadata": {},
   "source": [
    "Теперь можем переходить к калибровке гиперпараметров. "
   ]
  },
  {
   "cell_type": "code",
   "execution_count": 48,
   "metadata": {},
   "outputs": [],
   "source": [
    "params_lgbm = {'max_depth' : range(2, 12),\n",
    "               'learning_rate' : loguniform(0.0001, 1),\n",
    "               'n_estimators' : range(10, 500),\n",
    "               'reg_lambda' : loguniform(0.01, 100)}"
   ]
  },
  {
   "cell_type": "code",
   "execution_count": 49,
   "metadata": {},
   "outputs": [
    {
     "name": "stdout",
     "output_type": "stream",
     "text": [
      "Fitting 24 folds for each of 100 candidates, totalling 2400 fits\n",
      "Wall time: 2min 13s\n"
     ]
    },
    {
     "data": {
      "text/plain": [
       "RandomizedSearchCV(cv=TimeSeriesSplit(gap=0, max_train_size=None, n_splits=24, test_size=None),\n",
       "                   estimator=LGBMRegressor(random_state=42), n_iter=100,\n",
       "                   n_jobs=-1,\n",
       "                   param_distributions={'learning_rate': <scipy.stats._distn_infrastructure.rv_frozen object at 0x000002881723FFD0>,\n",
       "                                        'max_depth': range(2, 12),\n",
       "                                        'n_estimators': range(10, 500),\n",
       "                                        'reg_lambda': <scipy.stats._distn_infrastructure.rv_frozen object at 0x000002881632E8E0>},\n",
       "                   random_state=42, scoring='neg_root_mean_squared_error',\n",
       "                   verbose=1)"
      ]
     },
     "execution_count": 49,
     "metadata": {},
     "output_type": "execute_result"
    }
   ],
   "source": [
    "%%time\n",
    "random_search_lgbm = RandomizedSearchCV(\n",
    "    estimator=LGBMRegressor(random_state=42),\n",
    "    param_distributions=params_lgbm,\n",
    "    n_iter=100,\n",
    "    scoring='neg_root_mean_squared_error',\n",
    "    cv=TimeSeriesSplit(n_splits=24),\n",
    "    random_state=42,\n",
    "    n_jobs=-1,\n",
    "    verbose=1\n",
    ")\n",
    "\n",
    "random_search_lgbm.fit(X_train_boost, y_train)"
   ]
  },
  {
   "cell_type": "markdown",
   "metadata": {},
   "source": [
    "Лучшие параметры."
   ]
  },
  {
   "cell_type": "code",
   "execution_count": 50,
   "metadata": {},
   "outputs": [
    {
     "data": {
      "text/plain": [
       "{'learning_rate': 0.0234238498471129,\n",
       " 'max_depth': 4,\n",
       " 'n_estimators': 494,\n",
       " 'reg_lambda': 2.6926469100861774}"
      ]
     },
     "execution_count": 50,
     "metadata": {},
     "output_type": "execute_result"
    }
   ],
   "source": [
    "random_search_lgbm.best_params_"
   ]
  },
  {
   "cell_type": "markdown",
   "metadata": {},
   "source": [
    "Наилучшая производительность."
   ]
  },
  {
   "cell_type": "code",
   "execution_count": 51,
   "metadata": {},
   "outputs": [
    {
     "data": {
      "text/plain": [
       "22.409079564534427"
      ]
     },
     "execution_count": 51,
     "metadata": {},
     "output_type": "execute_result"
    }
   ],
   "source": [
    "rmse_lgbm_cv = abs(random_search_lgbm.best_score_)\n",
    "rmse_lgbm_cv"
   ]
  },
  {
   "cell_type": "markdown",
   "metadata": {},
   "source": [
    "Сохраним наилучшую модель."
   ]
  },
  {
   "cell_type": "code",
   "execution_count": 52,
   "metadata": {},
   "outputs": [],
   "source": [
    "lgbm = random_search_lgbm.best_estimator_"
   ]
  },
  {
   "cell_type": "markdown",
   "metadata": {},
   "source": [
    "#### Градиентный бустинг с помощью CatBoost"
   ]
  },
  {
   "cell_type": "code",
   "execution_count": 84,
   "metadata": {
    "scrolled": true
   },
   "outputs": [
    {
     "name": "stdout",
     "output_type": "stream",
     "text": [
      "\n",
      "bestTest = 40.0387118\n",
      "bestIteration = 44\n",
      "\n",
      "\n",
      "bestTest = 30.60393566\n",
      "bestIteration = 415\n",
      "\n",
      "\n",
      "bestTest = 108.0348884\n",
      "bestIteration = 425\n",
      "\n",
      "\n",
      "bestTest = 96.99554101\n",
      "bestIteration = 429\n",
      "\n",
      "\n",
      "bestTest = 31.24529683\n",
      "bestIteration = 433\n",
      "\n",
      "\n",
      "bestTest = 54.91313779\n",
      "bestIteration = 65\n",
      "\n",
      "\n",
      "bestTest = 107.4928854\n",
      "bestIteration = 136\n",
      "\n",
      "\n",
      "bestTest = 31.76229157\n",
      "bestIteration = 143\n",
      "\n",
      "\n",
      "bestTest = 30.94133902\n",
      "bestIteration = 216\n",
      "\n",
      "\n",
      "bestTest = 112.0552534\n",
      "bestIteration = 297\n",
      "\n",
      "\n",
      "bestTest = 98.65062197\n",
      "bestIteration = 441\n",
      "\n",
      "\n",
      "bestTest = 37.04037838\n",
      "bestIteration = 182\n",
      "\n",
      "\n",
      "bestTest = 31.45036058\n",
      "bestIteration = 262\n",
      "\n",
      "\n",
      "bestTest = 95.27951433\n",
      "bestIteration = 32\n",
      "\n",
      "\n",
      "bestTest = 111.8086884\n",
      "bestIteration = 157\n",
      "\n",
      "\n",
      "bestTest = 111.3585764\n",
      "bestIteration = 304\n",
      "\n",
      "\n",
      "bestTest = 105.9121537\n",
      "bestIteration = 383\n",
      "\n",
      "\n",
      "bestTest = 34.02883835\n",
      "bestIteration = 14\n",
      "\n",
      "\n",
      "bestTest = 33.84238478\n",
      "bestIteration = 18\n",
      "\n",
      "\n",
      "bestTest = 106.4767795\n",
      "bestIteration = 137\n",
      "\n",
      "\n",
      "bestTest = 65.03767017\n",
      "bestIteration = 202\n",
      "\n",
      "\n",
      "bestTest = 37.57560349\n",
      "bestIteration = 212\n",
      "\n",
      "\n",
      "bestTest = 53.22371913\n",
      "bestIteration = 380\n",
      "\n",
      "\n",
      "bestTest = 33.64401133\n",
      "bestIteration = 31\n",
      "\n",
      "\n",
      "bestTest = 32.70188258\n",
      "bestIteration = 147\n",
      "\n",
      "\n",
      "bestTest = 39.64188304\n",
      "bestIteration = 302\n",
      "\n",
      "\n",
      "bestTest = 97.28984597\n",
      "bestIteration = 368\n",
      "\n",
      "\n",
      "bestTest = 94.41241098\n",
      "bestIteration = 390\n",
      "\n",
      "\n",
      "bestTest = 34.95803253\n",
      "bestIteration = 408\n",
      "\n",
      "\n",
      "bestTest = 114.4195567\n",
      "bestIteration = 35\n",
      "\n",
      "\n",
      "bestTest = 36.2716859\n",
      "bestIteration = 138\n",
      "\n",
      "\n",
      "bestTest = 112.1072244\n",
      "bestIteration = 179\n",
      "\n",
      "\n",
      "bestTest = 103.1367775\n",
      "bestIteration = 227\n",
      "\n",
      "\n",
      "bestTest = 110.7908125\n",
      "bestIteration = 280\n",
      "\n",
      "\n",
      "bestTest = 37.16675479\n",
      "bestIteration = 19\n",
      "\n",
      "\n",
      "bestTest = 110.1920465\n",
      "bestIteration = 462\n",
      "\n",
      "\n",
      "bestTest = 87.84627075\n",
      "bestIteration = 11\n",
      "\n",
      "\n",
      "bestTest = 39.008602\n",
      "bestIteration = 179\n",
      "\n",
      "\n",
      "bestTest = 85.8443002\n",
      "bestIteration = 464\n",
      "\n",
      "\n",
      "bestTest = 113.6804683\n",
      "bestIteration = 19\n",
      "\n",
      "\n",
      "bestTest = 36.317097\n",
      "bestIteration = 31\n",
      "\n",
      "\n",
      "bestTest = 38.49294476\n",
      "bestIteration = 49\n",
      "\n",
      "\n",
      "bestTest = 83.638229\n",
      "bestIteration = 131\n",
      "\n",
      "\n",
      "bestTest = 37.83389807\n",
      "bestIteration = 74\n",
      "\n",
      "\n",
      "bestTest = 110.0671237\n",
      "bestIteration = 58\n",
      "\n",
      "\n",
      "bestTest = 39.03495353\n",
      "bestIteration = 122\n",
      "\n",
      "\n",
      "bestTest = 37.75139174\n",
      "bestIteration = 228\n",
      "\n",
      "\n",
      "bestTest = 110.8437297\n",
      "bestIteration = 268\n",
      "\n",
      "\n",
      "bestTest = 85.45905324\n",
      "bestIteration = 338\n",
      "\n",
      "\n",
      "bestTest = 43.02994771\n",
      "bestIteration = 357\n",
      "\n",
      "Training on fold [0/24]\n",
      "\n",
      "bestTest = 18.99080655\n",
      "bestIteration = 245\n",
      "\n",
      "Training on fold [1/24]\n",
      "\n",
      "bestTest = 17.42941209\n",
      "bestIteration = 167\n",
      "\n",
      "Training on fold [2/24]\n",
      "\n",
      "bestTest = 19.49840374\n",
      "bestIteration = 227\n",
      "\n",
      "Training on fold [3/24]\n",
      "\n",
      "bestTest = 19.00643948\n",
      "bestIteration = 265\n",
      "\n",
      "Training on fold [4/24]\n",
      "\n",
      "bestTest = 17.99702977\n",
      "bestIteration = 414\n",
      "\n",
      "Training on fold [5/24]\n",
      "\n",
      "bestTest = 18.18901566\n",
      "bestIteration = 292\n",
      "\n",
      "Training on fold [6/24]\n",
      "\n",
      "bestTest = 25.04067616\n",
      "bestIteration = 370\n",
      "\n",
      "Training on fold [7/24]\n",
      "\n",
      "bestTest = 20.48686694\n",
      "bestIteration = 396\n",
      "\n",
      "Training on fold [8/24]\n",
      "\n",
      "bestTest = 19.61035828\n",
      "bestIteration = 335\n",
      "\n",
      "Training on fold [9/24]\n",
      "\n",
      "bestTest = 22.65483799\n",
      "bestIteration = 305\n",
      "\n",
      "Training on fold [10/24]\n",
      "\n",
      "bestTest = 20.35462338\n",
      "bestIteration = 412\n",
      "\n",
      "Training on fold [11/24]\n",
      "\n",
      "bestTest = 23.82999131\n",
      "bestIteration = 392\n",
      "\n",
      "Training on fold [12/24]\n",
      "\n",
      "bestTest = 20.81220388\n",
      "bestIteration = 411\n",
      "\n",
      "Training on fold [13/24]\n",
      "\n",
      "bestTest = 18.9259971\n",
      "bestIteration = 407\n",
      "\n",
      "Training on fold [14/24]\n",
      "\n",
      "bestTest = 23.61108454\n",
      "bestIteration = 415\n",
      "\n",
      "Training on fold [15/24]\n",
      "\n",
      "bestTest = 22.6488948\n",
      "bestIteration = 188\n",
      "\n",
      "Training on fold [16/24]\n",
      "\n",
      "bestTest = 21.18103244\n",
      "bestIteration = 413\n",
      "\n",
      "Training on fold [17/24]\n",
      "\n",
      "bestTest = 21.64551234\n",
      "bestIteration = 350\n",
      "\n",
      "Training on fold [18/24]\n",
      "\n",
      "bestTest = 24.54642904\n",
      "bestIteration = 413\n",
      "\n",
      "Training on fold [19/24]\n",
      "\n",
      "bestTest = 24.84800413\n",
      "bestIteration = 415\n",
      "\n",
      "Training on fold [20/24]\n",
      "\n",
      "bestTest = 28.51645457\n",
      "bestIteration = 414\n",
      "\n",
      "Training on fold [21/24]\n",
      "\n",
      "bestTest = 28.08040942\n",
      "bestIteration = 413\n",
      "\n",
      "Training on fold [22/24]\n",
      "\n",
      "bestTest = 26.07162326\n",
      "bestIteration = 415\n",
      "\n",
      "Training on fold [23/24]\n",
      "\n",
      "bestTest = 35.89710927\n",
      "bestIteration = 412\n",
      "\n",
      "Wall time: 7min 53s\n"
     ]
    }
   ],
   "source": [
    "%%time\n",
    "catboost = CatBoostRegressor(verbose=False, cat_features=cat_features)\n",
    "\n",
    "params_catboost = {'learning_rate' : loguniform(0.0001, 1),\n",
    "                   'iterations' : range(10, 500),\n",
    "                   'depth' : range(2, 12),\n",
    "                   'l2_leaf_reg' : loguniform(0.01, 100)}\n",
    "\n",
    "randomized_search_result = catboost.randomized_search(params_catboost,\n",
    "                                                      X=X_train_boost,\n",
    "                                                      y=y_train,\n",
    "                                                      cv=TimeSeriesSplit(n_splits=24),\n",
    "                                                      n_iter=50,\n",
    "                                                      plot=False,\n",
    "                                                      verbose=False)"
   ]
  },
  {
   "cell_type": "markdown",
   "metadata": {},
   "source": [
    "Наилучшие параметры."
   ]
  },
  {
   "cell_type": "code",
   "execution_count": 85,
   "metadata": {},
   "outputs": [
    {
     "data": {
      "text/plain": [
       "{'depth': 2,\n",
       " 'iterations': 416,\n",
       " 'learning_rate': 0.04953630744236486,\n",
       " 'l2_leaf_reg': 0.10095493728991362}"
      ]
     },
     "execution_count": 85,
     "metadata": {},
     "output_type": "execute_result"
    }
   ],
   "source": [
    "randomized_search_result['params']"
   ]
  },
  {
   "cell_type": "markdown",
   "metadata": {},
   "source": [
    "Наилучший показатель RMSE."
   ]
  },
  {
   "cell_type": "code",
   "execution_count": 86,
   "metadata": {},
   "outputs": [
    {
     "data": {
      "text/plain": [
       "22.575859356007793"
      ]
     },
     "execution_count": 86,
     "metadata": {},
     "output_type": "execute_result"
    }
   ],
   "source": [
    "rmse_catboost_cv = min(randomized_search_result['cv_results']['test-RMSE-mean'])\n",
    "rmse_catboost_cv"
   ]
  },
  {
   "cell_type": "markdown",
   "metadata": {},
   "source": [
    "#### Сравнение моделей"
   ]
  },
  {
   "cell_type": "markdown",
   "metadata": {},
   "source": [
    "Сравним производительность моделей."
   ]
  },
  {
   "cell_type": "code",
   "execution_count": 87,
   "metadata": {},
   "outputs": [
    {
     "data": {
      "text/html": [
       "<div>\n",
       "<style scoped>\n",
       "    .dataframe tbody tr th:only-of-type {\n",
       "        vertical-align: middle;\n",
       "    }\n",
       "\n",
       "    .dataframe tbody tr th {\n",
       "        vertical-align: top;\n",
       "    }\n",
       "\n",
       "    .dataframe thead th {\n",
       "        text-align: right;\n",
       "    }\n",
       "</style>\n",
       "<table border=\"1\" class=\"dataframe\">\n",
       "  <thead>\n",
       "    <tr style=\"text-align: right;\">\n",
       "      <th></th>\n",
       "      <th>model</th>\n",
       "      <th>RMSE on cross-validation</th>\n",
       "    </tr>\n",
       "  </thead>\n",
       "  <tbody>\n",
       "    <tr>\n",
       "      <th>0</th>\n",
       "      <td>Ridge regression</td>\n",
       "      <td>23.721463</td>\n",
       "    </tr>\n",
       "    <tr>\n",
       "      <th>1</th>\n",
       "      <td>Random forest</td>\n",
       "      <td>22.723394</td>\n",
       "    </tr>\n",
       "    <tr>\n",
       "      <th>2</th>\n",
       "      <td>LightGBM</td>\n",
       "      <td>22.409080</td>\n",
       "    </tr>\n",
       "    <tr>\n",
       "      <th>3</th>\n",
       "      <td>CatBoost</td>\n",
       "      <td>22.575859</td>\n",
       "    </tr>\n",
       "  </tbody>\n",
       "</table>\n",
       "</div>"
      ],
      "text/plain": [
       "              model  RMSE on cross-validation\n",
       "0  Ridge regression                 23.721463\n",
       "1     Random forest                 22.723394\n",
       "2          LightGBM                 22.409080\n",
       "3          CatBoost                 22.575859"
      ]
     },
     "execution_count": 87,
     "metadata": {},
     "output_type": "execute_result"
    }
   ],
   "source": [
    "results = pd.DataFrame([\n",
    "    ['Ridge regression', rmse_ridge_cv],\n",
    "    ['Random forest', rmse_rf_cv],\n",
    "    ['LightGBM', rmse_lgbm_cv],\n",
    "    ['CatBoost', rmse_catboost_cv]\n",
    "])\n",
    "results.columns = ['model', 'RMSE on cross-validation']\n",
    "results"
   ]
  },
  {
   "cell_type": "markdown",
   "metadata": {},
   "source": [
    "### Вывод"
   ]
  },
  {
   "cell_type": "markdown",
   "metadata": {},
   "source": [
    "1. Из временного ряда были созданы календарные признаки, отстающие признаки (48 шт.), а также скользящее среднее с окном 54 часа.\n",
    "2. Были обучены 4 модели машинного обучения. Их гиперпараметры были оптимизированы с помощью техники Randomized Search.\n",
    "3. Лучше всех себя проявили модели градиентного бустинга."
   ]
  },
  {
   "cell_type": "markdown",
   "metadata": {},
   "source": [
    "## Тестирование"
   ]
  },
  {
   "cell_type": "markdown",
   "metadata": {},
   "source": [
    "Сначала получим предсказания моделей."
   ]
  },
  {
   "cell_type": "code",
   "execution_count": 88,
   "metadata": {},
   "outputs": [],
   "source": [
    "y_pred_ridge = ridge_reg.predict(X_test)\n",
    "y_pred_rf = random_forest.predict(X_test)\n",
    "y_pred_lgbm = lgbm.predict(X_test_boost)\n",
    "y_pred_catboost = catboost.predict(X_test_boost)"
   ]
  },
  {
   "cell_type": "markdown",
   "metadata": {},
   "source": [
    "### RMSE на тестовой выборке"
   ]
  },
  {
   "cell_type": "code",
   "execution_count": 90,
   "metadata": {},
   "outputs": [],
   "source": [
    "rmse_ridge_test = mean_squared_error(y_test, y_pred_ridge) ** 0.5\n",
    "rmse_rf_test = mean_squared_error(y_test, y_pred_rf) ** 0.5\n",
    "rmse_lgbm_test = mean_squared_error(y_test, y_pred_lgbm) ** 0.5\n",
    "rmse_catboost_test = mean_squared_error(y_test, y_pred_catboost) ** 0.5"
   ]
  },
  {
   "cell_type": "markdown",
   "metadata": {},
   "source": [
    "Добавим полученные результаты в таблицу."
   ]
  },
  {
   "cell_type": "code",
   "execution_count": 91,
   "metadata": {},
   "outputs": [],
   "source": [
    "results['RMSE on test'] = [rmse_ridge_test, rmse_rf_test, rmse_lgbm_test, rmse_catboost_test]"
   ]
  },
  {
   "cell_type": "code",
   "execution_count": 92,
   "metadata": {},
   "outputs": [
    {
     "data": {
      "text/html": [
       "<div>\n",
       "<style scoped>\n",
       "    .dataframe tbody tr th:only-of-type {\n",
       "        vertical-align: middle;\n",
       "    }\n",
       "\n",
       "    .dataframe tbody tr th {\n",
       "        vertical-align: top;\n",
       "    }\n",
       "\n",
       "    .dataframe thead th {\n",
       "        text-align: right;\n",
       "    }\n",
       "</style>\n",
       "<table border=\"1\" class=\"dataframe\">\n",
       "  <thead>\n",
       "    <tr style=\"text-align: right;\">\n",
       "      <th></th>\n",
       "      <th>model</th>\n",
       "      <th>RMSE on cross-validation</th>\n",
       "      <th>RMSE on test</th>\n",
       "    </tr>\n",
       "  </thead>\n",
       "  <tbody>\n",
       "    <tr>\n",
       "      <th>0</th>\n",
       "      <td>Ridge regression</td>\n",
       "      <td>23.721463</td>\n",
       "      <td>43.140275</td>\n",
       "    </tr>\n",
       "    <tr>\n",
       "      <th>1</th>\n",
       "      <td>Random forest</td>\n",
       "      <td>22.723394</td>\n",
       "      <td>41.607190</td>\n",
       "    </tr>\n",
       "    <tr>\n",
       "      <th>2</th>\n",
       "      <td>LightGBM</td>\n",
       "      <td>22.409080</td>\n",
       "      <td>38.936534</td>\n",
       "    </tr>\n",
       "    <tr>\n",
       "      <th>3</th>\n",
       "      <td>CatBoost</td>\n",
       "      <td>22.575859</td>\n",
       "      <td>41.058564</td>\n",
       "    </tr>\n",
       "  </tbody>\n",
       "</table>\n",
       "</div>"
      ],
      "text/plain": [
       "              model  RMSE on cross-validation  RMSE on test\n",
       "0  Ridge regression                 23.721463     43.140275\n",
       "1     Random forest                 22.723394     41.607190\n",
       "2          LightGBM                 22.409080     38.936534\n",
       "3          CatBoost                 22.575859     41.058564"
      ]
     },
     "execution_count": 92,
     "metadata": {},
     "output_type": "execute_result"
    }
   ],
   "source": [
    "results"
   ]
  },
  {
   "cell_type": "markdown",
   "metadata": {},
   "source": [
    "- Наилучшую производительность на тестовой выборке показала модель градиентного бустинг из библиотеки LightGBM."
   ]
  },
  {
   "cell_type": "markdown",
   "metadata": {},
   "source": [
    "Построим график временного ряда, предсказанного нашей моделью, и сравним его с оригинальным рядом."
   ]
  },
  {
   "cell_type": "code",
   "execution_count": 152,
   "metadata": {
    "scrolled": true
   },
   "outputs": [
    {
     "data": {
      "image/png": "[encoded data removed]",
      "text/plain": [
       "<Figure size 1296x432 with 1 Axes>"
      ]
     },
     "metadata": {
      "needs_background": "light"
     },
     "output_type": "display_data"
    }
   ],
   "source": [
    "plt.figure(figsize=(18,6))\n",
    "plt.plot(y_test.index, y_test, label='real values',  color='b', alpha=0.75)\n",
    "plt.plot(y_test.index, y_pred_lgbm, label='predicted values', color='r', alpha=0.75)\n",
    "plt.legend()\n",
    "plt.title('Predictive performance of LGBMRegressor')\n",
    "plt.ylabel('Number of orders')\n",
    "plt.show()"
   ]
  },
  {
   "cell_type": "markdown",
   "metadata": {},
   "source": [
    "Отчетливо видно, что модель способна предсказывать тренд и сезонные изменения, однако она не может предугадать экстремальные значения (например 20 или 27 августа)."
   ]
  },
  {
   "cell_type": "markdown",
   "metadata": {},
   "source": [
    "### Проверка модели на адекватность"
   ]
  },
  {
   "cell_type": "markdown",
   "metadata": {},
   "source": [
    "Сравним производительность модели с константной моделью, а также с моделью, которая выдает значение временного ряда на предыдущем шаге."
   ]
  },
  {
   "cell_type": "markdown",
   "metadata": {},
   "source": [
    "Начнем с константной модели."
   ]
  },
  {
   "cell_type": "code",
   "execution_count": 139,
   "metadata": {},
   "outputs": [
    {
     "data": {
      "text/plain": [
       "84.72941562076282"
      ]
     },
     "execution_count": 139,
     "metadata": {},
     "output_type": "execute_result"
    }
   ],
   "source": [
    "dummy_reg = DummyRegressor(strategy='mean')\n",
    "dummy_reg.fit(X_train, y_train)\n",
    "y_pred_mean = dummy_reg.predict(X_test)\n",
    "mean_squared_error(y_test, y_pred_mean) ** 0.5"
   ]
  },
  {
   "cell_type": "markdown",
   "metadata": {},
   "source": [
    "Ее производительность значительно хуже. Теперь рассмотрим модель, которая выдает значения на предыдущем шаге."
   ]
  },
  {
   "cell_type": "code",
   "execution_count": 142,
   "metadata": {},
   "outputs": [
    {
     "data": {
      "text/plain": [
       "59.01904048345839"
      ]
     },
     "execution_count": 142,
     "metadata": {},
     "output_type": "execute_result"
    }
   ],
   "source": [
    "y_pred_previous = y_test.shift(fill_value=y_train[-1])\n",
    "mean_squared_error(y_test, y_pred_previous) ** 0.5"
   ]
  },
  {
   "cell_type": "markdown",
   "metadata": {},
   "source": [
    "Производительность модели хуже, чем у обученных моделей. "
   ]
  },
  {
   "cell_type": "markdown",
   "metadata": {},
   "source": [
    "- Все обученные модели прошли проверку на адекватность."
   ]
  }
 ],
 "metadata": {
  "kernelspec": {
   "display_name": "Python 3 (ipykernel)",
   "language": "python",
   "name": "python3"
  },
  "language_info": {
   "codemirror_mode": {
    "name": "ipython",
    "version": 3
   },
   "file_extension": ".py",
   "mimetype": "text/x-python",
   "name": "python",
   "nbconvert_exporter": "python",
   "pygments_lexer": "ipython3",
   "version": "3.9.7"
  },
  "toc": {
   "base_numbering": 1,
   "nav_menu": {},
   "number_sections": true,
   "sideBar": true,
   "skip_h1_title": true,
   "title_cell": "Содержание",
   "title_sidebar": "Contents",
   "toc_cell": true,
   "toc_position": {},
   "toc_section_display": true,
   "toc_window_display": true
  }
 },
 "nbformat": 4,
 "nbformat_minor": 2
}
