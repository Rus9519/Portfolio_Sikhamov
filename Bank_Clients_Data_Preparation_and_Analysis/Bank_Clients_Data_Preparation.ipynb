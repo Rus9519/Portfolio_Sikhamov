{
 "cells": [
  {
   "cell_type": "markdown",
   "metadata": {},
   "source": [
    "## Загрузка файла и ознакомление с ним"
   ]
  },
  {
   "cell_type": "markdown",
   "metadata": {},
   "source": [
    "Импортируем необходимые библиотеки."
   ]
  },
  {
   "cell_type": "code",
   "execution_count": 38,
   "metadata": {},
   "outputs": [],
   "source": [
    "import pandas as pd\n",
    "import seaborn as sns\n",
    "import matplotlib.pyplot as plt\n",
    "from pymystem3 import Mystem\n",
    "from collections import Counter"
   ]
  },
  {
   "cell_type": "code",
   "execution_count": 2,
   "metadata": {},
   "outputs": [],
   "source": [
    "df = pd.read_csv('/datasets/data.csv')"
   ]
  },
  {
   "cell_type": "code",
   "execution_count": 3,
   "metadata": {
    "scrolled": false
   },
   "outputs": [
    {
     "data": {
      "text/html": [
       "<div>\n",
       "<style scoped>\n",
       "    .dataframe tbody tr th:only-of-type {\n",
       "        vertical-align: middle;\n",
       "    }\n",
       "\n",
       "    .dataframe tbody tr th {\n",
       "        vertical-align: top;\n",
       "    }\n",
       "\n",
       "    .dataframe thead th {\n",
       "        text-align: right;\n",
       "    }\n",
       "</style>\n",
       "<table border=\"1\" class=\"dataframe\">\n",
       "  <thead>\n",
       "    <tr style=\"text-align: right;\">\n",
       "      <th></th>\n",
       "      <th>children</th>\n",
       "      <th>days_employed</th>\n",
       "      <th>dob_years</th>\n",
       "      <th>education</th>\n",
       "      <th>education_id</th>\n",
       "      <th>family_status</th>\n",
       "      <th>family_status_id</th>\n",
       "      <th>gender</th>\n",
       "      <th>income_type</th>\n",
       "      <th>debt</th>\n",
       "      <th>total_income</th>\n",
       "      <th>purpose</th>\n",
       "    </tr>\n",
       "  </thead>\n",
       "  <tbody>\n",
       "    <tr>\n",
       "      <td>0</td>\n",
       "      <td>1</td>\n",
       "      <td>-8437.673028</td>\n",
       "      <td>42</td>\n",
       "      <td>высшее</td>\n",
       "      <td>0</td>\n",
       "      <td>женат / замужем</td>\n",
       "      <td>0</td>\n",
       "      <td>F</td>\n",
       "      <td>сотрудник</td>\n",
       "      <td>0</td>\n",
       "      <td>253875.639453</td>\n",
       "      <td>покупка жилья</td>\n",
       "    </tr>\n",
       "    <tr>\n",
       "      <td>1</td>\n",
       "      <td>1</td>\n",
       "      <td>-4024.803754</td>\n",
       "      <td>36</td>\n",
       "      <td>среднее</td>\n",
       "      <td>1</td>\n",
       "      <td>женат / замужем</td>\n",
       "      <td>0</td>\n",
       "      <td>F</td>\n",
       "      <td>сотрудник</td>\n",
       "      <td>0</td>\n",
       "      <td>112080.014102</td>\n",
       "      <td>приобретение автомобиля</td>\n",
       "    </tr>\n",
       "    <tr>\n",
       "      <td>2</td>\n",
       "      <td>0</td>\n",
       "      <td>-5623.422610</td>\n",
       "      <td>33</td>\n",
       "      <td>Среднее</td>\n",
       "      <td>1</td>\n",
       "      <td>женат / замужем</td>\n",
       "      <td>0</td>\n",
       "      <td>M</td>\n",
       "      <td>сотрудник</td>\n",
       "      <td>0</td>\n",
       "      <td>145885.952297</td>\n",
       "      <td>покупка жилья</td>\n",
       "    </tr>\n",
       "    <tr>\n",
       "      <td>3</td>\n",
       "      <td>3</td>\n",
       "      <td>-4124.747207</td>\n",
       "      <td>32</td>\n",
       "      <td>среднее</td>\n",
       "      <td>1</td>\n",
       "      <td>женат / замужем</td>\n",
       "      <td>0</td>\n",
       "      <td>M</td>\n",
       "      <td>сотрудник</td>\n",
       "      <td>0</td>\n",
       "      <td>267628.550329</td>\n",
       "      <td>дополнительное образование</td>\n",
       "    </tr>\n",
       "    <tr>\n",
       "      <td>4</td>\n",
       "      <td>0</td>\n",
       "      <td>340266.072047</td>\n",
       "      <td>53</td>\n",
       "      <td>среднее</td>\n",
       "      <td>1</td>\n",
       "      <td>гражданский брак</td>\n",
       "      <td>1</td>\n",
       "      <td>F</td>\n",
       "      <td>пенсионер</td>\n",
       "      <td>0</td>\n",
       "      <td>158616.077870</td>\n",
       "      <td>сыграть свадьбу</td>\n",
       "    </tr>\n",
       "  </tbody>\n",
       "</table>\n",
       "</div>"
      ],
      "text/plain": [
       "   children  days_employed  dob_years education  education_id  \\\n",
       "0         1   -8437.673028         42    высшее             0   \n",
       "1         1   -4024.803754         36   среднее             1   \n",
       "2         0   -5623.422610         33   Среднее             1   \n",
       "3         3   -4124.747207         32   среднее             1   \n",
       "4         0  340266.072047         53   среднее             1   \n",
       "\n",
       "      family_status  family_status_id gender income_type  debt   total_income  \\\n",
       "0   женат / замужем                 0      F   сотрудник     0  253875.639453   \n",
       "1   женат / замужем                 0      F   сотрудник     0  112080.014102   \n",
       "2   женат / замужем                 0      M   сотрудник     0  145885.952297   \n",
       "3   женат / замужем                 0      M   сотрудник     0  267628.550329   \n",
       "4  гражданский брак                 1      F   пенсионер     0  158616.077870   \n",
       "\n",
       "                      purpose  \n",
       "0               покупка жилья  \n",
       "1     приобретение автомобиля  \n",
       "2               покупка жилья  \n",
       "3  дополнительное образование  \n",
       "4             сыграть свадьбу  "
      ]
     },
     "metadata": {},
     "output_type": "display_data"
    }
   ],
   "source": [
    "display(df.head())"
   ]
  },
  {
   "cell_type": "code",
   "execution_count": 4,
   "metadata": {},
   "outputs": [
    {
     "data": {
      "text/html": [
       "<div>\n",
       "<style scoped>\n",
       "    .dataframe tbody tr th:only-of-type {\n",
       "        vertical-align: middle;\n",
       "    }\n",
       "\n",
       "    .dataframe tbody tr th {\n",
       "        vertical-align: top;\n",
       "    }\n",
       "\n",
       "    .dataframe thead th {\n",
       "        text-align: right;\n",
       "    }\n",
       "</style>\n",
       "<table border=\"1\" class=\"dataframe\">\n",
       "  <thead>\n",
       "    <tr style=\"text-align: right;\">\n",
       "      <th></th>\n",
       "      <th>children</th>\n",
       "      <th>days_employed</th>\n",
       "      <th>dob_years</th>\n",
       "      <th>education</th>\n",
       "      <th>education_id</th>\n",
       "      <th>family_status</th>\n",
       "      <th>family_status_id</th>\n",
       "      <th>gender</th>\n",
       "      <th>income_type</th>\n",
       "      <th>debt</th>\n",
       "      <th>total_income</th>\n",
       "      <th>purpose</th>\n",
       "    </tr>\n",
       "  </thead>\n",
       "  <tbody>\n",
       "    <tr>\n",
       "      <td>21520</td>\n",
       "      <td>1</td>\n",
       "      <td>-4529.316663</td>\n",
       "      <td>43</td>\n",
       "      <td>среднее</td>\n",
       "      <td>1</td>\n",
       "      <td>гражданский брак</td>\n",
       "      <td>1</td>\n",
       "      <td>F</td>\n",
       "      <td>компаньон</td>\n",
       "      <td>0</td>\n",
       "      <td>224791.862382</td>\n",
       "      <td>операции с жильем</td>\n",
       "    </tr>\n",
       "    <tr>\n",
       "      <td>21521</td>\n",
       "      <td>0</td>\n",
       "      <td>343937.404131</td>\n",
       "      <td>67</td>\n",
       "      <td>среднее</td>\n",
       "      <td>1</td>\n",
       "      <td>женат / замужем</td>\n",
       "      <td>0</td>\n",
       "      <td>F</td>\n",
       "      <td>пенсионер</td>\n",
       "      <td>0</td>\n",
       "      <td>155999.806512</td>\n",
       "      <td>сделка с автомобилем</td>\n",
       "    </tr>\n",
       "    <tr>\n",
       "      <td>21522</td>\n",
       "      <td>1</td>\n",
       "      <td>-2113.346888</td>\n",
       "      <td>38</td>\n",
       "      <td>среднее</td>\n",
       "      <td>1</td>\n",
       "      <td>гражданский брак</td>\n",
       "      <td>1</td>\n",
       "      <td>M</td>\n",
       "      <td>сотрудник</td>\n",
       "      <td>1</td>\n",
       "      <td>89672.561153</td>\n",
       "      <td>недвижимость</td>\n",
       "    </tr>\n",
       "    <tr>\n",
       "      <td>21523</td>\n",
       "      <td>3</td>\n",
       "      <td>-3112.481705</td>\n",
       "      <td>38</td>\n",
       "      <td>среднее</td>\n",
       "      <td>1</td>\n",
       "      <td>женат / замужем</td>\n",
       "      <td>0</td>\n",
       "      <td>M</td>\n",
       "      <td>сотрудник</td>\n",
       "      <td>1</td>\n",
       "      <td>244093.050500</td>\n",
       "      <td>на покупку своего автомобиля</td>\n",
       "    </tr>\n",
       "    <tr>\n",
       "      <td>21524</td>\n",
       "      <td>2</td>\n",
       "      <td>-1984.507589</td>\n",
       "      <td>40</td>\n",
       "      <td>среднее</td>\n",
       "      <td>1</td>\n",
       "      <td>женат / замужем</td>\n",
       "      <td>0</td>\n",
       "      <td>F</td>\n",
       "      <td>сотрудник</td>\n",
       "      <td>0</td>\n",
       "      <td>82047.418899</td>\n",
       "      <td>на покупку автомобиля</td>\n",
       "    </tr>\n",
       "  </tbody>\n",
       "</table>\n",
       "</div>"
      ],
      "text/plain": [
       "       children  days_employed  dob_years education  education_id  \\\n",
       "21520         1   -4529.316663         43   среднее             1   \n",
       "21521         0  343937.404131         67   среднее             1   \n",
       "21522         1   -2113.346888         38   среднее             1   \n",
       "21523         3   -3112.481705         38   среднее             1   \n",
       "21524         2   -1984.507589         40   среднее             1   \n",
       "\n",
       "          family_status  family_status_id gender income_type  debt  \\\n",
       "21520  гражданский брак                 1      F   компаньон     0   \n",
       "21521   женат / замужем                 0      F   пенсионер     0   \n",
       "21522  гражданский брак                 1      M   сотрудник     1   \n",
       "21523   женат / замужем                 0      M   сотрудник     1   \n",
       "21524   женат / замужем                 0      F   сотрудник     0   \n",
       "\n",
       "        total_income                       purpose  \n",
       "21520  224791.862382             операции с жильем  \n",
       "21521  155999.806512          сделка с автомобилем  \n",
       "21522   89672.561153                  недвижимость  \n",
       "21523  244093.050500  на покупку своего автомобиля  \n",
       "21524   82047.418899         на покупку автомобиля  "
      ]
     },
     "metadata": {},
     "output_type": "display_data"
    }
   ],
   "source": [
    "display(df.tail())"
   ]
  },
  {
   "cell_type": "code",
   "execution_count": 5,
   "metadata": {
    "scrolled": true
   },
   "outputs": [
    {
     "name": "stdout",
     "output_type": "stream",
     "text": [
      "<class 'pandas.core.frame.DataFrame'>\n",
      "RangeIndex: 21525 entries, 0 to 21524\n",
      "Data columns (total 12 columns):\n",
      "children            21525 non-null int64\n",
      "days_employed       19351 non-null float64\n",
      "dob_years           21525 non-null int64\n",
      "education           21525 non-null object\n",
      "education_id        21525 non-null int64\n",
      "family_status       21525 non-null object\n",
      "family_status_id    21525 non-null int64\n",
      "gender              21525 non-null object\n",
      "income_type         21525 non-null object\n",
      "debt                21525 non-null int64\n",
      "total_income        19351 non-null float64\n",
      "purpose             21525 non-null object\n",
      "dtypes: float64(2), int64(5), object(5)\n",
      "memory usage: 2.0+ MB\n"
     ]
    }
   ],
   "source": [
    "df.info()"
   ]
  },
  {
   "cell_type": "markdown",
   "metadata": {},
   "source": [
    "Для цели исследования наиболее важные столбцы - дети и семейный статус. Посмотрим на распределение значений в них."
   ]
  },
  {
   "cell_type": "code",
   "execution_count": 6,
   "metadata": {},
   "outputs": [
    {
     "data": {
      "text/html": [
       "<div>\n",
       "<style scoped>\n",
       "    .dataframe tbody tr th:only-of-type {\n",
       "        vertical-align: middle;\n",
       "    }\n",
       "\n",
       "    .dataframe tbody tr th {\n",
       "        vertical-align: top;\n",
       "    }\n",
       "\n",
       "    .dataframe thead th {\n",
       "        text-align: right;\n",
       "    }\n",
       "</style>\n",
       "<table border=\"1\" class=\"dataframe\">\n",
       "  <thead>\n",
       "    <tr style=\"text-align: right;\">\n",
       "      <th></th>\n",
       "      <th>children</th>\n",
       "    </tr>\n",
       "  </thead>\n",
       "  <tbody>\n",
       "    <tr>\n",
       "      <td>0</td>\n",
       "      <td>14149</td>\n",
       "    </tr>\n",
       "    <tr>\n",
       "      <td>1</td>\n",
       "      <td>4818</td>\n",
       "    </tr>\n",
       "    <tr>\n",
       "      <td>2</td>\n",
       "      <td>2055</td>\n",
       "    </tr>\n",
       "    <tr>\n",
       "      <td>3</td>\n",
       "      <td>330</td>\n",
       "    </tr>\n",
       "    <tr>\n",
       "      <td>20</td>\n",
       "      <td>76</td>\n",
       "    </tr>\n",
       "    <tr>\n",
       "      <td>-1</td>\n",
       "      <td>47</td>\n",
       "    </tr>\n",
       "    <tr>\n",
       "      <td>4</td>\n",
       "      <td>41</td>\n",
       "    </tr>\n",
       "    <tr>\n",
       "      <td>5</td>\n",
       "      <td>9</td>\n",
       "    </tr>\n",
       "  </tbody>\n",
       "</table>\n",
       "</div>"
      ],
      "text/plain": [
       "     children\n",
       " 0      14149\n",
       " 1       4818\n",
       " 2       2055\n",
       " 3        330\n",
       " 20        76\n",
       "-1         47\n",
       " 4         41\n",
       " 5          9"
      ]
     },
     "execution_count": 6,
     "metadata": {},
     "output_type": "execute_result"
    }
   ],
   "source": [
    "df['children'].value_counts().to_frame()"
   ]
  },
  {
   "cell_type": "code",
   "execution_count": 7,
   "metadata": {},
   "outputs": [
    {
     "data": {
      "text/html": [
       "<div>\n",
       "<style scoped>\n",
       "    .dataframe tbody tr th:only-of-type {\n",
       "        vertical-align: middle;\n",
       "    }\n",
       "\n",
       "    .dataframe tbody tr th {\n",
       "        vertical-align: top;\n",
       "    }\n",
       "\n",
       "    .dataframe thead th {\n",
       "        text-align: right;\n",
       "    }\n",
       "</style>\n",
       "<table border=\"1\" class=\"dataframe\">\n",
       "  <thead>\n",
       "    <tr style=\"text-align: right;\">\n",
       "      <th></th>\n",
       "      <th>family_status</th>\n",
       "    </tr>\n",
       "  </thead>\n",
       "  <tbody>\n",
       "    <tr>\n",
       "      <td>женат / замужем</td>\n",
       "      <td>12380</td>\n",
       "    </tr>\n",
       "    <tr>\n",
       "      <td>гражданский брак</td>\n",
       "      <td>4177</td>\n",
       "    </tr>\n",
       "    <tr>\n",
       "      <td>Не женат / не замужем</td>\n",
       "      <td>2813</td>\n",
       "    </tr>\n",
       "    <tr>\n",
       "      <td>в разводе</td>\n",
       "      <td>1195</td>\n",
       "    </tr>\n",
       "    <tr>\n",
       "      <td>вдовец / вдова</td>\n",
       "      <td>960</td>\n",
       "    </tr>\n",
       "  </tbody>\n",
       "</table>\n",
       "</div>"
      ],
      "text/plain": [
       "                       family_status\n",
       "женат / замужем                12380\n",
       "гражданский брак                4177\n",
       "Не женат / не замужем           2813\n",
       "в разводе                       1195\n",
       "вдовец / вдова                   960"
      ]
     },
     "execution_count": 7,
     "metadata": {},
     "output_type": "execute_result"
    }
   ],
   "source": [
    "df['family_status'].value_counts().to_frame()"
   ]
  },
  {
   "cell_type": "markdown",
   "metadata": {},
   "source": [
    "Со столбцом семейный статус нет никаких проблем, а столбец дети содержит 2 странных значения: -1 и 20. Взглянем на эти строки."
   ]
  },
  {
   "cell_type": "code",
   "execution_count": 8,
   "metadata": {},
   "outputs": [
    {
     "data": {
      "text/html": [
       "<div>\n",
       "<style scoped>\n",
       "    .dataframe tbody tr th:only-of-type {\n",
       "        vertical-align: middle;\n",
       "    }\n",
       "\n",
       "    .dataframe tbody tr th {\n",
       "        vertical-align: top;\n",
       "    }\n",
       "\n",
       "    .dataframe thead th {\n",
       "        text-align: right;\n",
       "    }\n",
       "</style>\n",
       "<table border=\"1\" class=\"dataframe\">\n",
       "  <thead>\n",
       "    <tr style=\"text-align: right;\">\n",
       "      <th></th>\n",
       "      <th>children</th>\n",
       "      <th>days_employed</th>\n",
       "      <th>dob_years</th>\n",
       "      <th>education</th>\n",
       "      <th>education_id</th>\n",
       "      <th>family_status</th>\n",
       "      <th>family_status_id</th>\n",
       "      <th>gender</th>\n",
       "      <th>income_type</th>\n",
       "      <th>debt</th>\n",
       "      <th>total_income</th>\n",
       "      <th>purpose</th>\n",
       "    </tr>\n",
       "  </thead>\n",
       "  <tbody>\n",
       "    <tr>\n",
       "      <td>606</td>\n",
       "      <td>20</td>\n",
       "      <td>-880.221113</td>\n",
       "      <td>21</td>\n",
       "      <td>среднее</td>\n",
       "      <td>1</td>\n",
       "      <td>женат / замужем</td>\n",
       "      <td>0</td>\n",
       "      <td>M</td>\n",
       "      <td>компаньон</td>\n",
       "      <td>0</td>\n",
       "      <td>145334.865002</td>\n",
       "      <td>покупка жилья</td>\n",
       "    </tr>\n",
       "    <tr>\n",
       "      <td>720</td>\n",
       "      <td>20</td>\n",
       "      <td>-855.595512</td>\n",
       "      <td>44</td>\n",
       "      <td>среднее</td>\n",
       "      <td>1</td>\n",
       "      <td>женат / замужем</td>\n",
       "      <td>0</td>\n",
       "      <td>F</td>\n",
       "      <td>компаньон</td>\n",
       "      <td>0</td>\n",
       "      <td>112998.738649</td>\n",
       "      <td>покупка недвижимости</td>\n",
       "    </tr>\n",
       "    <tr>\n",
       "      <td>1074</td>\n",
       "      <td>20</td>\n",
       "      <td>-3310.411598</td>\n",
       "      <td>56</td>\n",
       "      <td>среднее</td>\n",
       "      <td>1</td>\n",
       "      <td>женат / замужем</td>\n",
       "      <td>0</td>\n",
       "      <td>F</td>\n",
       "      <td>сотрудник</td>\n",
       "      <td>1</td>\n",
       "      <td>229518.537004</td>\n",
       "      <td>получение образования</td>\n",
       "    </tr>\n",
       "    <tr>\n",
       "      <td>2510</td>\n",
       "      <td>20</td>\n",
       "      <td>-2714.161249</td>\n",
       "      <td>59</td>\n",
       "      <td>высшее</td>\n",
       "      <td>0</td>\n",
       "      <td>вдовец / вдова</td>\n",
       "      <td>2</td>\n",
       "      <td>F</td>\n",
       "      <td>сотрудник</td>\n",
       "      <td>0</td>\n",
       "      <td>264474.835577</td>\n",
       "      <td>операции с коммерческой недвижимостью</td>\n",
       "    </tr>\n",
       "    <tr>\n",
       "      <td>2941</td>\n",
       "      <td>20</td>\n",
       "      <td>-2161.591519</td>\n",
       "      <td>0</td>\n",
       "      <td>среднее</td>\n",
       "      <td>1</td>\n",
       "      <td>женат / замужем</td>\n",
       "      <td>0</td>\n",
       "      <td>F</td>\n",
       "      <td>сотрудник</td>\n",
       "      <td>0</td>\n",
       "      <td>199739.941398</td>\n",
       "      <td>на покупку автомобиля</td>\n",
       "    </tr>\n",
       "  </tbody>\n",
       "</table>\n",
       "</div>"
      ],
      "text/plain": [
       "      children  days_employed  dob_years education  education_id  \\\n",
       "606         20    -880.221113         21   среднее             1   \n",
       "720         20    -855.595512         44   среднее             1   \n",
       "1074        20   -3310.411598         56   среднее             1   \n",
       "2510        20   -2714.161249         59    высшее             0   \n",
       "2941        20   -2161.591519          0   среднее             1   \n",
       "\n",
       "        family_status  family_status_id gender income_type  debt  \\\n",
       "606   женат / замужем                 0      M   компаньон     0   \n",
       "720   женат / замужем                 0      F   компаньон     0   \n",
       "1074  женат / замужем                 0      F   сотрудник     1   \n",
       "2510   вдовец / вдова                 2      F   сотрудник     0   \n",
       "2941  женат / замужем                 0      F   сотрудник     0   \n",
       "\n",
       "       total_income                                purpose  \n",
       "606   145334.865002                          покупка жилья  \n",
       "720   112998.738649                   покупка недвижимости  \n",
       "1074  229518.537004                  получение образования  \n",
       "2510  264474.835577  операции с коммерческой недвижимостью  \n",
       "2941  199739.941398                  на покупку автомобиля  "
      ]
     },
     "metadata": {},
     "output_type": "display_data"
    },
    {
     "data": {
      "text/html": [
       "<div>\n",
       "<style scoped>\n",
       "    .dataframe tbody tr th:only-of-type {\n",
       "        vertical-align: middle;\n",
       "    }\n",
       "\n",
       "    .dataframe tbody tr th {\n",
       "        vertical-align: top;\n",
       "    }\n",
       "\n",
       "    .dataframe thead th {\n",
       "        text-align: right;\n",
       "    }\n",
       "</style>\n",
       "<table border=\"1\" class=\"dataframe\">\n",
       "  <thead>\n",
       "    <tr style=\"text-align: right;\">\n",
       "      <th></th>\n",
       "      <th>children</th>\n",
       "      <th>days_employed</th>\n",
       "      <th>dob_years</th>\n",
       "      <th>education</th>\n",
       "      <th>education_id</th>\n",
       "      <th>family_status</th>\n",
       "      <th>family_status_id</th>\n",
       "      <th>gender</th>\n",
       "      <th>income_type</th>\n",
       "      <th>debt</th>\n",
       "      <th>total_income</th>\n",
       "      <th>purpose</th>\n",
       "    </tr>\n",
       "  </thead>\n",
       "  <tbody>\n",
       "    <tr>\n",
       "      <td>291</td>\n",
       "      <td>-1</td>\n",
       "      <td>-4417.703588</td>\n",
       "      <td>46</td>\n",
       "      <td>среднее</td>\n",
       "      <td>1</td>\n",
       "      <td>гражданский брак</td>\n",
       "      <td>1</td>\n",
       "      <td>F</td>\n",
       "      <td>сотрудник</td>\n",
       "      <td>0</td>\n",
       "      <td>102816.346412</td>\n",
       "      <td>профильное образование</td>\n",
       "    </tr>\n",
       "    <tr>\n",
       "      <td>705</td>\n",
       "      <td>-1</td>\n",
       "      <td>-902.084528</td>\n",
       "      <td>50</td>\n",
       "      <td>среднее</td>\n",
       "      <td>1</td>\n",
       "      <td>женат / замужем</td>\n",
       "      <td>0</td>\n",
       "      <td>F</td>\n",
       "      <td>госслужащий</td>\n",
       "      <td>0</td>\n",
       "      <td>137882.899271</td>\n",
       "      <td>приобретение автомобиля</td>\n",
       "    </tr>\n",
       "    <tr>\n",
       "      <td>742</td>\n",
       "      <td>-1</td>\n",
       "      <td>-3174.456205</td>\n",
       "      <td>57</td>\n",
       "      <td>среднее</td>\n",
       "      <td>1</td>\n",
       "      <td>женат / замужем</td>\n",
       "      <td>0</td>\n",
       "      <td>F</td>\n",
       "      <td>сотрудник</td>\n",
       "      <td>0</td>\n",
       "      <td>64268.044444</td>\n",
       "      <td>дополнительное образование</td>\n",
       "    </tr>\n",
       "    <tr>\n",
       "      <td>800</td>\n",
       "      <td>-1</td>\n",
       "      <td>349987.852217</td>\n",
       "      <td>54</td>\n",
       "      <td>среднее</td>\n",
       "      <td>1</td>\n",
       "      <td>Не женат / не замужем</td>\n",
       "      <td>4</td>\n",
       "      <td>F</td>\n",
       "      <td>пенсионер</td>\n",
       "      <td>0</td>\n",
       "      <td>86293.724153</td>\n",
       "      <td>дополнительное образование</td>\n",
       "    </tr>\n",
       "    <tr>\n",
       "      <td>941</td>\n",
       "      <td>-1</td>\n",
       "      <td>NaN</td>\n",
       "      <td>57</td>\n",
       "      <td>Среднее</td>\n",
       "      <td>1</td>\n",
       "      <td>женат / замужем</td>\n",
       "      <td>0</td>\n",
       "      <td>F</td>\n",
       "      <td>пенсионер</td>\n",
       "      <td>0</td>\n",
       "      <td>NaN</td>\n",
       "      <td>на покупку своего автомобиля</td>\n",
       "    </tr>\n",
       "  </tbody>\n",
       "</table>\n",
       "</div>"
      ],
      "text/plain": [
       "     children  days_employed  dob_years education  education_id  \\\n",
       "291        -1   -4417.703588         46   среднее             1   \n",
       "705        -1    -902.084528         50   среднее             1   \n",
       "742        -1   -3174.456205         57   среднее             1   \n",
       "800        -1  349987.852217         54   среднее             1   \n",
       "941        -1            NaN         57   Среднее             1   \n",
       "\n",
       "             family_status  family_status_id gender  income_type  debt  \\\n",
       "291       гражданский брак                 1      F    сотрудник     0   \n",
       "705        женат / замужем                 0      F  госслужащий     0   \n",
       "742        женат / замужем                 0      F    сотрудник     0   \n",
       "800  Не женат / не замужем                 4      F    пенсионер     0   \n",
       "941        женат / замужем                 0      F    пенсионер     0   \n",
       "\n",
       "      total_income                       purpose  \n",
       "291  102816.346412        профильное образование  \n",
       "705  137882.899271       приобретение автомобиля  \n",
       "742   64268.044444    дополнительное образование  \n",
       "800   86293.724153    дополнительное образование  \n",
       "941            NaN  на покупку своего автомобиля  "
      ]
     },
     "metadata": {},
     "output_type": "display_data"
    }
   ],
   "source": [
    "display(df[df['children'] == 20].head(5))\n",
    "display(df[df['children'] == -1].head(5))"
   ]
  },
  {
   "cell_type": "markdown",
   "metadata": {},
   "source": [
    "Ничего необычного нет. Скорее всего произошла ошибка в записи. \n",
    "Сделаем следующие предположения:\n",
    "1. -1 появился из-за случайного добавления минуса к единице;\n",
    "2. 20 - из-за случайного добавления нуля к двойке."
   ]
  },
  {
   "cell_type": "markdown",
   "metadata": {},
   "source": [
    "**Вывод**"
   ]
  },
  {
   "cell_type": "markdown",
   "metadata": {},
   "source": [
    "В каждой строке таблицы находятся данные об одном клиенте банка. Помимо общей информации в таблице имеются данные о профессиональном стаже, семейном статусе и доходах клиентов.\n",
    "Количество строк - 21525.\n",
    "\n",
    "В таблице 12 столбцов. Стоит отметить, что в названиях столбцов не обнаружено нарушение стиля. \n",
    "Из 12 столбцов 5 имеют целочисленный тип, 2 - вещественный тип, остальные - текстовый.\n",
    "Ошибки, которые бросаются в глаза уже на стадии ознакомления с данными:\n",
    "1. Столбец *children* содержит 2 необычных значения: -1 и 20. Скорее всего это дожны быть 1 и 2, но произошла ошибка в записи данных.\n",
    "2. Пропущенные данные в столбцах *days_employed* и *total_income*. Их количество одинаково, что наводит на мысль о том, что пропуски в данных столбцах могут быть связаны.\n",
    "3. Столбец *days_employed* показывает трудовой стаж клиентов. Помимо довольно большого количества пропусков, стоит отметить странную запись - числа отрицательные. Однако некоторые числа положительные, но эти числа слишком высокие, ибо человек не может проработать 340266 дней, так как это порядка 1000 лет. Скорее всего, произошла ошибка в записи данных. Еще нетрудно заметить, что данная ошибка характера для клиентов, которые уже на пенсии. Нужно найти связь между этим и попытаться разгадать способ записи.\n",
    "4. В столбце *education* есть ошибка с записью текста. В основном текст записан строчными буквами, однако в некоторых ячейках встречаются прописные буквы. На стадии предобработки весь текст в столбце должен быть написан строчными буквами. Стоит также отметить, что следующий столбец *education_id*, представляющий собой категории предыдущего, не содержит ошибок и корректно отражает категории образования, даже при неправильной записи в столбце образования.\n",
    "5. В столбце *purpose* некоторые строки имеют одинаковый смысл, но разную запись, что может затруднить категоризацию. Данную проблему можно устронить с помощью лемматизации."
   ]
  },
  {
   "cell_type": "markdown",
   "metadata": {},
   "source": [
    "## Предобработка данных"
   ]
  },
  {
   "cell_type": "markdown",
   "metadata": {},
   "source": [
    "### Обработка пропусков"
   ]
  },
  {
   "cell_type": "markdown",
   "metadata": {},
   "source": [
    "Для начала посмотрим количество пропусков в каждом столбце датафрейма."
   ]
  },
  {
   "cell_type": "code",
   "execution_count": 9,
   "metadata": {},
   "outputs": [
    {
     "data": {
      "text/plain": [
       "children               0\n",
       "days_employed       2174\n",
       "dob_years              0\n",
       "education              0\n",
       "education_id           0\n",
       "family_status          0\n",
       "family_status_id       0\n",
       "gender                 0\n",
       "income_type            0\n",
       "debt                   0\n",
       "total_income        2174\n",
       "purpose                0\n",
       "dtype: int64"
      ]
     },
     "execution_count": 9,
     "metadata": {},
     "output_type": "execute_result"
    }
   ],
   "source": [
    "df.isna().sum()"
   ]
  },
  {
   "cell_type": "markdown",
   "metadata": {},
   "source": [
    "Пропуски обнаружены лишь в двух столбцах, оба столбца содержат вещественный тип данных. \n",
    "Так как количество пропусков в двух столбцах одинаково, делаем предположение, что они связаны, и если банк не знает трудовой стаж клиента, то и доход ему неизвестен. Проверим данную гипотезу."
   ]
  },
  {
   "cell_type": "code",
   "execution_count": 10,
   "metadata": {},
   "outputs": [
    {
     "data": {
      "text/plain": [
       "0"
      ]
     },
     "execution_count": 10,
     "metadata": {},
     "output_type": "execute_result"
    }
   ],
   "source": [
    "len(df[(df['days_employed'].isna()) & (df['total_income'].isna() == False)])"
   ]
  },
  {
   "cell_type": "markdown",
   "metadata": {},
   "source": [
    "Количество строк, где пропущено значение в столбце *days_employed*, но не пропущено в столбце *total_income*, равно нулю. Следовательно, гипотеза подтвердилась."
   ]
  },
  {
   "cell_type": "markdown",
   "metadata": {},
   "source": [
    "#### Стратегия заполнения пропусков\n",
    "\n",
    "Цель исследования - определить влияние семейного положения и количества детей клиента на факт погашения кредита в срок. В таком случае столбцы *days_employed* и *total_income* не представляют для нас особой ценности, и строки с пропущенными значениями можно просто выбросить, однако количество строк с пропусками довольно велико и составляет порядка 10% от всего набора данных. Если мы выбросим их, то потеряем много важной информации. Следовательно, данный способ нам не подходит.\n",
    "\n",
    "Оба столбца содержат количественные данные, следовательно пропуски могут быть заполнены медианой или средним арифметическим. Однако существует проблема, что в столбце *days_employed* некоторые данные записаны некорректно. Как отмечалось в шаге 1, нереалистичные числа замечены для пенсионеров, но это еще нужно проверить. В таком случае медиана или среднее арифметическое могут дать некорректный результат. \n",
    "\n",
    "На мой взгляд, гораздо логичнее проверить связь между типом дохода и трудовым стажем и ежемесячным доходом. Если данная связь имеется, то пропуски можно заполнить медианным значением своей категории.\n",
    "\n",
    "Несмотря на то, что данные столбцы не важны для цели исследования, я считаю, что корректное заполнение пропусков целесообразно, т.к. данный набор данных может в будущем использоваться для других целей."
   ]
  },
  {
   "cell_type": "markdown",
   "metadata": {},
   "source": [
    "Сгруппируем данные по типам дохода и посчитаем средний трудовой стаж для каждого типа. Тоже самое проделаем с ежемесячным доходом. "
   ]
  },
  {
   "cell_type": "code",
   "execution_count": 11,
   "metadata": {},
   "outputs": [
    {
     "data": {
      "text/html": [
       "<div>\n",
       "<style scoped>\n",
       "    .dataframe tbody tr th:only-of-type {\n",
       "        vertical-align: middle;\n",
       "    }\n",
       "\n",
       "    .dataframe tbody tr th {\n",
       "        vertical-align: top;\n",
       "    }\n",
       "\n",
       "    .dataframe thead th {\n",
       "        text-align: right;\n",
       "    }\n",
       "</style>\n",
       "<table border=\"1\" class=\"dataframe\">\n",
       "  <thead>\n",
       "    <tr style=\"text-align: right;\">\n",
       "      <th></th>\n",
       "      <th>days_employed</th>\n",
       "    </tr>\n",
       "    <tr>\n",
       "      <th>income_type</th>\n",
       "      <th></th>\n",
       "    </tr>\n",
       "  </thead>\n",
       "  <tbody>\n",
       "    <tr>\n",
       "      <td>безработный</td>\n",
       "      <td>366413.652744</td>\n",
       "    </tr>\n",
       "    <tr>\n",
       "      <td>в декрете</td>\n",
       "      <td>-3296.759962</td>\n",
       "    </tr>\n",
       "    <tr>\n",
       "      <td>госслужащий</td>\n",
       "      <td>-3399.896902</td>\n",
       "    </tr>\n",
       "    <tr>\n",
       "      <td>компаньон</td>\n",
       "      <td>-2111.524398</td>\n",
       "    </tr>\n",
       "    <tr>\n",
       "      <td>пенсионер</td>\n",
       "      <td>365003.491245</td>\n",
       "    </tr>\n",
       "    <tr>\n",
       "      <td>предприниматель</td>\n",
       "      <td>-520.848083</td>\n",
       "    </tr>\n",
       "    <tr>\n",
       "      <td>сотрудник</td>\n",
       "      <td>-2326.499216</td>\n",
       "    </tr>\n",
       "    <tr>\n",
       "      <td>студент</td>\n",
       "      <td>-578.751554</td>\n",
       "    </tr>\n",
       "  </tbody>\n",
       "</table>\n",
       "</div>"
      ],
      "text/plain": [
       "                 days_employed\n",
       "income_type                   \n",
       "безработный      366413.652744\n",
       "в декрете         -3296.759962\n",
       "госслужащий       -3399.896902\n",
       "компаньон         -2111.524398\n",
       "пенсионер        365003.491245\n",
       "предприниматель    -520.848083\n",
       "сотрудник         -2326.499216\n",
       "студент            -578.751554"
      ]
     },
     "execution_count": 11,
     "metadata": {},
     "output_type": "execute_result"
    }
   ],
   "source": [
    "df.groupby('income_type')[['days_employed']].mean()"
   ]
  },
  {
   "cell_type": "code",
   "execution_count": 12,
   "metadata": {},
   "outputs": [
    {
     "data": {
      "text/html": [
       "<div>\n",
       "<style scoped>\n",
       "    .dataframe tbody tr th:only-of-type {\n",
       "        vertical-align: middle;\n",
       "    }\n",
       "\n",
       "    .dataframe tbody tr th {\n",
       "        vertical-align: top;\n",
       "    }\n",
       "\n",
       "    .dataframe thead th {\n",
       "        text-align: right;\n",
       "    }\n",
       "</style>\n",
       "<table border=\"1\" class=\"dataframe\">\n",
       "  <thead>\n",
       "    <tr style=\"text-align: right;\">\n",
       "      <th></th>\n",
       "      <th>total_income</th>\n",
       "    </tr>\n",
       "    <tr>\n",
       "      <th>income_type</th>\n",
       "      <th></th>\n",
       "    </tr>\n",
       "  </thead>\n",
       "  <tbody>\n",
       "    <tr>\n",
       "      <td>безработный</td>\n",
       "      <td>131339.751676</td>\n",
       "    </tr>\n",
       "    <tr>\n",
       "      <td>в декрете</td>\n",
       "      <td>53829.130729</td>\n",
       "    </tr>\n",
       "    <tr>\n",
       "      <td>госслужащий</td>\n",
       "      <td>170898.309923</td>\n",
       "    </tr>\n",
       "    <tr>\n",
       "      <td>компаньон</td>\n",
       "      <td>202417.461462</td>\n",
       "    </tr>\n",
       "    <tr>\n",
       "      <td>пенсионер</td>\n",
       "      <td>137127.465690</td>\n",
       "    </tr>\n",
       "    <tr>\n",
       "      <td>предприниматель</td>\n",
       "      <td>499163.144947</td>\n",
       "    </tr>\n",
       "    <tr>\n",
       "      <td>сотрудник</td>\n",
       "      <td>161380.260488</td>\n",
       "    </tr>\n",
       "    <tr>\n",
       "      <td>студент</td>\n",
       "      <td>98201.625314</td>\n",
       "    </tr>\n",
       "  </tbody>\n",
       "</table>\n",
       "</div>"
      ],
      "text/plain": [
       "                  total_income\n",
       "income_type                   \n",
       "безработный      131339.751676\n",
       "в декрете         53829.130729\n",
       "госслужащий      170898.309923\n",
       "компаньон        202417.461462\n",
       "пенсионер        137127.465690\n",
       "предприниматель  499163.144947\n",
       "сотрудник        161380.260488\n",
       "студент           98201.625314"
      ]
     },
     "execution_count": 12,
     "metadata": {},
     "output_type": "execute_result"
    }
   ],
   "source": [
    "df.groupby('income_type')[['total_income']].mean()"
   ]
  },
  {
   "cell_type": "markdown",
   "metadata": {},
   "source": [
    "И трудовой стаж, и ежемесячный доход разнятся по типу дохода.\n",
    "Стоит также отметить, что трудовой стаж записан некорректно для пенсионеров и безработных. Чтобы в этом убедиться, построим гистрограммы для этих двух категорий."
   ]
  },
  {
   "cell_type": "code",
   "execution_count": 13,
   "metadata": {},
   "outputs": [
    {
     "data": {
      "image/png": "[encoded data removed]",
      "text/plain": [
       "<Figure size 432x288 with 1 Axes>"
      ]
     },
     "metadata": {
      "needs_background": "light"
     },
     "output_type": "display_data"
    }
   ],
   "source": [
    "sns.histplot(df.query('income_type == \"пенсионер\"')['days_employed'])\n",
    "plt.title('Days employed distribution for retired persons')\n",
    "plt.xticks(rotation=45)\n",
    "plt.show()"
   ]
  },
  {
   "cell_type": "code",
   "execution_count": 14,
   "metadata": {},
   "outputs": [
    {
     "data": {
      "image/png": "[encoded data removed]",
      "text/plain": [
       "<Figure size 432x288 with 1 Axes>"
      ]
     },
     "metadata": {
      "needs_background": "light"
     },
     "output_type": "display_data"
    }
   ],
   "source": [
    "sns.histplot(df.query('income_type == \"безработный\"')['days_employed'], bins=10)\n",
    "plt.title('Days employed distribution for unemployed persons')\n",
    "plt.xticks(rotation=45)\n",
    "plt.show()"
   ]
  },
  {
   "cell_type": "markdown",
   "metadata": {},
   "source": [
    "Значения для этих двух групп находятся в диапазоне 330000-400000.\n",
    "Можно предположить, что произошел сбой в системе записи данных. Вполне вероятно, что в данном случае стаж записан в часах, а не в днях. \n",
    "\n",
    "\n",
    "\n",
    "Наша изначальная гипотеза о связи типа дохода с трудовым стажем и доходом подтвердилась.\n",
    "Теперь заполним пропуски по предложенной ранее стратегии: заполним трудовой стаж и доход медианным значением по типу дохода."
   ]
  },
  {
   "cell_type": "code",
   "execution_count": 15,
   "metadata": {},
   "outputs": [],
   "source": [
    "for type in df['income_type'].unique():\n",
    "    median_income = df[df['income_type'] == type]['total_income'].dropna().median()      \n",
    "    median_days_employed = df[df['income_type'] == type]['days_employed'].dropna().median()\n",
    "    df.loc[(df['income_type'] == type) & (df['total_income'].isna()), 'total_income'] = median_income\n",
    "    df.loc[(df['income_type'] == type) & (df['days_employed'].isna()), 'days_employed'] = median_days_employed"
   ]
  },
  {
   "cell_type": "markdown",
   "metadata": {},
   "source": [
    "Проверим, не осталось ли пропущенных значений."
   ]
  },
  {
   "cell_type": "code",
   "execution_count": 16,
   "metadata": {
    "scrolled": true
   },
   "outputs": [
    {
     "data": {
      "text/plain": [
       "children            0\n",
       "days_employed       0\n",
       "dob_years           0\n",
       "education           0\n",
       "education_id        0\n",
       "family_status       0\n",
       "family_status_id    0\n",
       "gender              0\n",
       "income_type         0\n",
       "debt                0\n",
       "total_income        0\n",
       "purpose             0\n",
       "dtype: int64"
      ]
     },
     "execution_count": 16,
     "metadata": {},
     "output_type": "execute_result"
    }
   ],
   "source": [
    "df.isna().sum()"
   ]
  },
  {
   "cell_type": "markdown",
   "metadata": {},
   "source": [
    "**Вывод**"
   ]
  },
  {
   "cell_type": "markdown",
   "metadata": {},
   "source": [
    "1. Пропуски были обнаружены в 2 вещественных столбцах - трудовой стаж и ежемесячный доход.\n",
    "2. Пропуски неслучайные. Если пропущен трудовой стаж, то в той же строке нет и ежемесячного дохода.\n",
    "3. Для пенсионеров и безработных трудовой стаж записан в некорректной форме. Нужно перевести его из часов в дни.\n",
    "4. Пропуски были устранены путем их замены на медианное значение по типу дохода."
   ]
  },
  {
   "cell_type": "markdown",
   "metadata": {},
   "source": [
    "### Редактирование артефактов"
   ]
  },
  {
   "cell_type": "markdown",
   "metadata": {},
   "source": [
    "Как отмечалось ранее, столбец *children* имеет 2 странных значения: -1 и 20. Заменим их на 1 и 2. \n",
    "Стоит отметить, что данные строки можно было бы попросту удалить, однако их количество невелико и наврядли повлияет на общий результат, поэтому рискнем и сохраним эти строки."
   ]
  },
  {
   "cell_type": "code",
   "execution_count": 17,
   "metadata": {},
   "outputs": [],
   "source": [
    "df['children'] = df['children'].apply(lambda x: 1 if x == -1 else (2 if x == 20 else x))"
   ]
  },
  {
   "cell_type": "code",
   "execution_count": 19,
   "metadata": {},
   "outputs": [
    {
     "data": {
      "text/html": [
       "<div>\n",
       "<style scoped>\n",
       "    .dataframe tbody tr th:only-of-type {\n",
       "        vertical-align: middle;\n",
       "    }\n",
       "\n",
       "    .dataframe tbody tr th {\n",
       "        vertical-align: top;\n",
       "    }\n",
       "\n",
       "    .dataframe thead th {\n",
       "        text-align: right;\n",
       "    }\n",
       "</style>\n",
       "<table border=\"1\" class=\"dataframe\">\n",
       "  <thead>\n",
       "    <tr style=\"text-align: right;\">\n",
       "      <th></th>\n",
       "      <th>children</th>\n",
       "    </tr>\n",
       "  </thead>\n",
       "  <tbody>\n",
       "    <tr>\n",
       "      <td>0</td>\n",
       "      <td>14149</td>\n",
       "    </tr>\n",
       "    <tr>\n",
       "      <td>1</td>\n",
       "      <td>4865</td>\n",
       "    </tr>\n",
       "    <tr>\n",
       "      <td>2</td>\n",
       "      <td>2131</td>\n",
       "    </tr>\n",
       "    <tr>\n",
       "      <td>3</td>\n",
       "      <td>330</td>\n",
       "    </tr>\n",
       "    <tr>\n",
       "      <td>4</td>\n",
       "      <td>41</td>\n",
       "    </tr>\n",
       "    <tr>\n",
       "      <td>5</td>\n",
       "      <td>9</td>\n",
       "    </tr>\n",
       "  </tbody>\n",
       "</table>\n",
       "</div>"
      ],
      "text/plain": [
       "   children\n",
       "0     14149\n",
       "1      4865\n",
       "2      2131\n",
       "3       330\n",
       "4        41\n",
       "5         9"
      ]
     },
     "execution_count": 19,
     "metadata": {},
     "output_type": "execute_result"
    }
   ],
   "source": [
    "df['children'].value_counts().to_frame()"
   ]
  },
  {
   "cell_type": "markdown",
   "metadata": {},
   "source": [
    "Как отмечалось ранее, нужно перевести трудовой стаж для пенсионеров и безработных из часы в дни."
   ]
  },
  {
   "cell_type": "code",
   "execution_count": 20,
   "metadata": {},
   "outputs": [],
   "source": [
    "df.loc[df['income_type'] == 'пенсионер', 'days_employed'] = df['days_employed'] / 24"
   ]
  },
  {
   "cell_type": "code",
   "execution_count": 21,
   "metadata": {},
   "outputs": [],
   "source": [
    "df.loc[df['income_type'] == 'безработный', 'days_employed'] = df['days_employed'] / 24"
   ]
  },
  {
   "cell_type": "code",
   "execution_count": 22,
   "metadata": {},
   "outputs": [
    {
     "data": {
      "image/png": "[encoded data removed]",
      "text/plain": [
       "<Figure size 432x288 with 1 Axes>"
      ]
     },
     "metadata": {
      "needs_background": "light"
     },
     "output_type": "display_data"
    }
   ],
   "source": [
    "sns.histplot(df.query('income_type == \"пенсионер\"')['days_employed'])\n",
    "plt.title('Days employed distribution for retired persons')\n",
    "plt.xticks(rotation=45)\n",
    "plt.show()"
   ]
  },
  {
   "cell_type": "markdown",
   "metadata": {},
   "source": [
    "Теперь данные выглядят логичнее. 15000 дней это примерно 41 год."
   ]
  },
  {
   "cell_type": "markdown",
   "metadata": {},
   "source": [
    "Замением отрицательные значения в столбце *days_employed* на положительные. Проверку замены выполним с помощью гистрограммы."
   ]
  },
  {
   "cell_type": "code",
   "execution_count": 23,
   "metadata": {},
   "outputs": [],
   "source": [
    "df['days_employed'] = abs(df['days_employed'])"
   ]
  },
  {
   "cell_type": "code",
   "execution_count": 24,
   "metadata": {},
   "outputs": [
    {
     "data": {
      "image/png": "[encoded data removed]",
      "text/plain": [
       "<Figure size 432x288 with 1 Axes>"
      ]
     },
     "metadata": {
      "needs_background": "light"
     },
     "output_type": "display_data"
    }
   ],
   "source": [
    "sns.histplot(df.query('days_employed < 50000')['days_employed'])\n",
    "plt.title('Days employed distribution')\n",
    "plt.show()"
   ]
  },
  {
   "cell_type": "markdown",
   "metadata": {},
   "source": [
    "**Вывод**"
   ]
  },
  {
   "cell_type": "markdown",
   "metadata": {},
   "source": [
    "1. Странные значения в столбце дети изменены на нормальные.\n",
    "2. Трудовой стаж для пенсионеров и безработных переведен из часов в дни.\n",
    "3. Отрицательный трудовой стаж изменен на положительный."
   ]
  },
  {
   "cell_type": "markdown",
   "metadata": {},
   "source": [
    "### Замена типа данных"
   ]
  },
  {
   "cell_type": "markdown",
   "metadata": {},
   "source": [
    "Для начала вызовем общую информацию по таблице."
   ]
  },
  {
   "cell_type": "code",
   "execution_count": 25,
   "metadata": {},
   "outputs": [
    {
     "name": "stdout",
     "output_type": "stream",
     "text": [
      "<class 'pandas.core.frame.DataFrame'>\n",
      "RangeIndex: 21525 entries, 0 to 21524\n",
      "Data columns (total 12 columns):\n",
      "children            21525 non-null int64\n",
      "days_employed       21525 non-null float64\n",
      "dob_years           21525 non-null int64\n",
      "education           21525 non-null object\n",
      "education_id        21525 non-null int64\n",
      "family_status       21525 non-null object\n",
      "family_status_id    21525 non-null int64\n",
      "gender              21525 non-null object\n",
      "income_type         21525 non-null object\n",
      "debt                21525 non-null int64\n",
      "total_income        21525 non-null float64\n",
      "purpose             21525 non-null object\n",
      "dtypes: float64(2), int64(5), object(5)\n",
      "memory usage: 2.0+ MB\n"
     ]
    }
   ],
   "source": [
    "df.info()"
   ]
  },
  {
   "cell_type": "markdown",
   "metadata": {},
   "source": [
    "Общий трудовой стаж в днях является целой величиной. Произведем замену типа данных столбца.\n",
    "Тоже самое проделаем с доходом, так как точность до копеек не нужна."
   ]
  },
  {
   "cell_type": "code",
   "execution_count": 26,
   "metadata": {},
   "outputs": [
    {
     "name": "stdout",
     "output_type": "stream",
     "text": [
      "<class 'pandas.core.frame.DataFrame'>\n",
      "RangeIndex: 21525 entries, 0 to 21524\n",
      "Data columns (total 12 columns):\n",
      "children            21525 non-null int64\n",
      "days_employed       21525 non-null int64\n",
      "dob_years           21525 non-null int64\n",
      "education           21525 non-null object\n",
      "education_id        21525 non-null int64\n",
      "family_status       21525 non-null object\n",
      "family_status_id    21525 non-null int64\n",
      "gender              21525 non-null object\n",
      "income_type         21525 non-null object\n",
      "debt                21525 non-null int64\n",
      "total_income        21525 non-null int64\n",
      "purpose             21525 non-null object\n",
      "dtypes: int64(7), object(5)\n",
      "memory usage: 2.0+ MB\n"
     ]
    }
   ],
   "source": [
    "df['days_employed'] = df['days_employed'].astype(int)\n",
    "df['total_income'] = df['total_income'].astype(int)\n",
    "df.info()"
   ]
  },
  {
   "cell_type": "markdown",
   "metadata": {},
   "source": [
    "Взглянем на первые 5 строк таблицы."
   ]
  },
  {
   "cell_type": "code",
   "execution_count": 27,
   "metadata": {
    "scrolled": true
   },
   "outputs": [
    {
     "data": {
      "text/html": [
       "<div>\n",
       "<style scoped>\n",
       "    .dataframe tbody tr th:only-of-type {\n",
       "        vertical-align: middle;\n",
       "    }\n",
       "\n",
       "    .dataframe tbody tr th {\n",
       "        vertical-align: top;\n",
       "    }\n",
       "\n",
       "    .dataframe thead th {\n",
       "        text-align: right;\n",
       "    }\n",
       "</style>\n",
       "<table border=\"1\" class=\"dataframe\">\n",
       "  <thead>\n",
       "    <tr style=\"text-align: right;\">\n",
       "      <th></th>\n",
       "      <th>children</th>\n",
       "      <th>days_employed</th>\n",
       "      <th>dob_years</th>\n",
       "      <th>education</th>\n",
       "      <th>education_id</th>\n",
       "      <th>family_status</th>\n",
       "      <th>family_status_id</th>\n",
       "      <th>gender</th>\n",
       "      <th>income_type</th>\n",
       "      <th>debt</th>\n",
       "      <th>total_income</th>\n",
       "      <th>purpose</th>\n",
       "    </tr>\n",
       "  </thead>\n",
       "  <tbody>\n",
       "    <tr>\n",
       "      <td>0</td>\n",
       "      <td>1</td>\n",
       "      <td>8437</td>\n",
       "      <td>42</td>\n",
       "      <td>высшее</td>\n",
       "      <td>0</td>\n",
       "      <td>женат / замужем</td>\n",
       "      <td>0</td>\n",
       "      <td>F</td>\n",
       "      <td>сотрудник</td>\n",
       "      <td>0</td>\n",
       "      <td>253875</td>\n",
       "      <td>покупка жилья</td>\n",
       "    </tr>\n",
       "    <tr>\n",
       "      <td>1</td>\n",
       "      <td>1</td>\n",
       "      <td>4024</td>\n",
       "      <td>36</td>\n",
       "      <td>среднее</td>\n",
       "      <td>1</td>\n",
       "      <td>женат / замужем</td>\n",
       "      <td>0</td>\n",
       "      <td>F</td>\n",
       "      <td>сотрудник</td>\n",
       "      <td>0</td>\n",
       "      <td>112080</td>\n",
       "      <td>приобретение автомобиля</td>\n",
       "    </tr>\n",
       "    <tr>\n",
       "      <td>2</td>\n",
       "      <td>0</td>\n",
       "      <td>5623</td>\n",
       "      <td>33</td>\n",
       "      <td>Среднее</td>\n",
       "      <td>1</td>\n",
       "      <td>женат / замужем</td>\n",
       "      <td>0</td>\n",
       "      <td>M</td>\n",
       "      <td>сотрудник</td>\n",
       "      <td>0</td>\n",
       "      <td>145885</td>\n",
       "      <td>покупка жилья</td>\n",
       "    </tr>\n",
       "    <tr>\n",
       "      <td>3</td>\n",
       "      <td>3</td>\n",
       "      <td>4124</td>\n",
       "      <td>32</td>\n",
       "      <td>среднее</td>\n",
       "      <td>1</td>\n",
       "      <td>женат / замужем</td>\n",
       "      <td>0</td>\n",
       "      <td>M</td>\n",
       "      <td>сотрудник</td>\n",
       "      <td>0</td>\n",
       "      <td>267628</td>\n",
       "      <td>дополнительное образование</td>\n",
       "    </tr>\n",
       "    <tr>\n",
       "      <td>4</td>\n",
       "      <td>0</td>\n",
       "      <td>14177</td>\n",
       "      <td>53</td>\n",
       "      <td>среднее</td>\n",
       "      <td>1</td>\n",
       "      <td>гражданский брак</td>\n",
       "      <td>1</td>\n",
       "      <td>F</td>\n",
       "      <td>пенсионер</td>\n",
       "      <td>0</td>\n",
       "      <td>158616</td>\n",
       "      <td>сыграть свадьбу</td>\n",
       "    </tr>\n",
       "  </tbody>\n",
       "</table>\n",
       "</div>"
      ],
      "text/plain": [
       "   children  days_employed  dob_years education  education_id  \\\n",
       "0         1           8437         42    высшее             0   \n",
       "1         1           4024         36   среднее             1   \n",
       "2         0           5623         33   Среднее             1   \n",
       "3         3           4124         32   среднее             1   \n",
       "4         0          14177         53   среднее             1   \n",
       "\n",
       "      family_status  family_status_id gender income_type  debt  total_income  \\\n",
       "0   женат / замужем                 0      F   сотрудник     0        253875   \n",
       "1   женат / замужем                 0      F   сотрудник     0        112080   \n",
       "2   женат / замужем                 0      M   сотрудник     0        145885   \n",
       "3   женат / замужем                 0      M   сотрудник     0        267628   \n",
       "4  гражданский брак                 1      F   пенсионер     0        158616   \n",
       "\n",
       "                      purpose  \n",
       "0               покупка жилья  \n",
       "1     приобретение автомобиля  \n",
       "2               покупка жилья  \n",
       "3  дополнительное образование  \n",
       "4             сыграть свадьбу  "
      ]
     },
     "execution_count": 27,
     "metadata": {},
     "output_type": "execute_result"
    }
   ],
   "source": [
    "df.head()"
   ]
  },
  {
   "cell_type": "markdown",
   "metadata": {},
   "source": [
    "**Вывод**"
   ]
  },
  {
   "cell_type": "markdown",
   "metadata": {},
   "source": [
    "1. 10 столбцов из 12 изначально имели верный тип данных.\n",
    "2. Замена типа с данных с вещественного на целочисленный была произведена для столбцов *days_employed* и *total_income*."
   ]
  },
  {
   "cell_type": "markdown",
   "metadata": {},
   "source": [
    "### Обработка дубликатов"
   ]
  },
  {
   "cell_type": "markdown",
   "metadata": {},
   "source": [
    "Сначала проверим неявные дубликаты в категориальных столбцах. "
   ]
  },
  {
   "cell_type": "code",
   "execution_count": 28,
   "metadata": {},
   "outputs": [
    {
     "data": {
      "text/html": [
       "<div>\n",
       "<style scoped>\n",
       "    .dataframe tbody tr th:only-of-type {\n",
       "        vertical-align: middle;\n",
       "    }\n",
       "\n",
       "    .dataframe tbody tr th {\n",
       "        vertical-align: top;\n",
       "    }\n",
       "\n",
       "    .dataframe thead th {\n",
       "        text-align: right;\n",
       "    }\n",
       "</style>\n",
       "<table border=\"1\" class=\"dataframe\">\n",
       "  <thead>\n",
       "    <tr style=\"text-align: right;\">\n",
       "      <th></th>\n",
       "      <th>education</th>\n",
       "    </tr>\n",
       "  </thead>\n",
       "  <tbody>\n",
       "    <tr>\n",
       "      <td>среднее</td>\n",
       "      <td>13750</td>\n",
       "    </tr>\n",
       "    <tr>\n",
       "      <td>высшее</td>\n",
       "      <td>4718</td>\n",
       "    </tr>\n",
       "    <tr>\n",
       "      <td>СРЕДНЕЕ</td>\n",
       "      <td>772</td>\n",
       "    </tr>\n",
       "    <tr>\n",
       "      <td>Среднее</td>\n",
       "      <td>711</td>\n",
       "    </tr>\n",
       "    <tr>\n",
       "      <td>неоконченное высшее</td>\n",
       "      <td>668</td>\n",
       "    </tr>\n",
       "    <tr>\n",
       "      <td>ВЫСШЕЕ</td>\n",
       "      <td>274</td>\n",
       "    </tr>\n",
       "    <tr>\n",
       "      <td>Высшее</td>\n",
       "      <td>268</td>\n",
       "    </tr>\n",
       "    <tr>\n",
       "      <td>начальное</td>\n",
       "      <td>250</td>\n",
       "    </tr>\n",
       "    <tr>\n",
       "      <td>Неоконченное высшее</td>\n",
       "      <td>47</td>\n",
       "    </tr>\n",
       "    <tr>\n",
       "      <td>НЕОКОНЧЕННОЕ ВЫСШЕЕ</td>\n",
       "      <td>29</td>\n",
       "    </tr>\n",
       "    <tr>\n",
       "      <td>НАЧАЛЬНОЕ</td>\n",
       "      <td>17</td>\n",
       "    </tr>\n",
       "    <tr>\n",
       "      <td>Начальное</td>\n",
       "      <td>15</td>\n",
       "    </tr>\n",
       "    <tr>\n",
       "      <td>ученая степень</td>\n",
       "      <td>4</td>\n",
       "    </tr>\n",
       "    <tr>\n",
       "      <td>УЧЕНАЯ СТЕПЕНЬ</td>\n",
       "      <td>1</td>\n",
       "    </tr>\n",
       "    <tr>\n",
       "      <td>Ученая степень</td>\n",
       "      <td>1</td>\n",
       "    </tr>\n",
       "  </tbody>\n",
       "</table>\n",
       "</div>"
      ],
      "text/plain": [
       "                     education\n",
       "среднее                  13750\n",
       "высшее                    4718\n",
       "СРЕДНЕЕ                    772\n",
       "Среднее                    711\n",
       "неоконченное высшее        668\n",
       "ВЫСШЕЕ                     274\n",
       "Высшее                     268\n",
       "начальное                  250\n",
       "Неоконченное высшее         47\n",
       "НЕОКОНЧЕННОЕ ВЫСШЕЕ         29\n",
       "НАЧАЛЬНОЕ                   17\n",
       "Начальное                   15\n",
       "ученая степень               4\n",
       "УЧЕНАЯ СТЕПЕНЬ               1\n",
       "Ученая степень               1"
      ]
     },
     "execution_count": 28,
     "metadata": {},
     "output_type": "execute_result"
    }
   ],
   "source": [
    "df['education'].value_counts().to_frame()"
   ]
  },
  {
   "cell_type": "code",
   "execution_count": 29,
   "metadata": {},
   "outputs": [
    {
     "data": {
      "text/html": [
       "<div>\n",
       "<style scoped>\n",
       "    .dataframe tbody tr th:only-of-type {\n",
       "        vertical-align: middle;\n",
       "    }\n",
       "\n",
       "    .dataframe tbody tr th {\n",
       "        vertical-align: top;\n",
       "    }\n",
       "\n",
       "    .dataframe thead th {\n",
       "        text-align: right;\n",
       "    }\n",
       "</style>\n",
       "<table border=\"1\" class=\"dataframe\">\n",
       "  <thead>\n",
       "    <tr style=\"text-align: right;\">\n",
       "      <th></th>\n",
       "      <th>family_status</th>\n",
       "    </tr>\n",
       "  </thead>\n",
       "  <tbody>\n",
       "    <tr>\n",
       "      <td>женат / замужем</td>\n",
       "      <td>12380</td>\n",
       "    </tr>\n",
       "    <tr>\n",
       "      <td>гражданский брак</td>\n",
       "      <td>4177</td>\n",
       "    </tr>\n",
       "    <tr>\n",
       "      <td>Не женат / не замужем</td>\n",
       "      <td>2813</td>\n",
       "    </tr>\n",
       "    <tr>\n",
       "      <td>в разводе</td>\n",
       "      <td>1195</td>\n",
       "    </tr>\n",
       "    <tr>\n",
       "      <td>вдовец / вдова</td>\n",
       "      <td>960</td>\n",
       "    </tr>\n",
       "  </tbody>\n",
       "</table>\n",
       "</div>"
      ],
      "text/plain": [
       "                       family_status\n",
       "женат / замужем                12380\n",
       "гражданский брак                4177\n",
       "Не женат / не замужем           2813\n",
       "в разводе                       1195\n",
       "вдовец / вдова                   960"
      ]
     },
     "execution_count": 29,
     "metadata": {},
     "output_type": "execute_result"
    }
   ],
   "source": [
    "df['family_status'].value_counts().to_frame()"
   ]
  },
  {
   "cell_type": "code",
   "execution_count": 30,
   "metadata": {
    "scrolled": true
   },
   "outputs": [
    {
     "data": {
      "text/html": [
       "<div>\n",
       "<style scoped>\n",
       "    .dataframe tbody tr th:only-of-type {\n",
       "        vertical-align: middle;\n",
       "    }\n",
       "\n",
       "    .dataframe tbody tr th {\n",
       "        vertical-align: top;\n",
       "    }\n",
       "\n",
       "    .dataframe thead th {\n",
       "        text-align: right;\n",
       "    }\n",
       "</style>\n",
       "<table border=\"1\" class=\"dataframe\">\n",
       "  <thead>\n",
       "    <tr style=\"text-align: right;\">\n",
       "      <th></th>\n",
       "      <th>income_type</th>\n",
       "    </tr>\n",
       "  </thead>\n",
       "  <tbody>\n",
       "    <tr>\n",
       "      <td>сотрудник</td>\n",
       "      <td>11119</td>\n",
       "    </tr>\n",
       "    <tr>\n",
       "      <td>компаньон</td>\n",
       "      <td>5085</td>\n",
       "    </tr>\n",
       "    <tr>\n",
       "      <td>пенсионер</td>\n",
       "      <td>3856</td>\n",
       "    </tr>\n",
       "    <tr>\n",
       "      <td>госслужащий</td>\n",
       "      <td>1459</td>\n",
       "    </tr>\n",
       "    <tr>\n",
       "      <td>безработный</td>\n",
       "      <td>2</td>\n",
       "    </tr>\n",
       "    <tr>\n",
       "      <td>предприниматель</td>\n",
       "      <td>2</td>\n",
       "    </tr>\n",
       "    <tr>\n",
       "      <td>в декрете</td>\n",
       "      <td>1</td>\n",
       "    </tr>\n",
       "    <tr>\n",
       "      <td>студент</td>\n",
       "      <td>1</td>\n",
       "    </tr>\n",
       "  </tbody>\n",
       "</table>\n",
       "</div>"
      ],
      "text/plain": [
       "                 income_type\n",
       "сотрудник              11119\n",
       "компаньон               5085\n",
       "пенсионер               3856\n",
       "госслужащий             1459\n",
       "безработный                2\n",
       "предприниматель            2\n",
       "в декрете                  1\n",
       "студент                    1"
      ]
     },
     "execution_count": 30,
     "metadata": {},
     "output_type": "execute_result"
    }
   ],
   "source": [
    "df['income_type'].value_counts().to_frame()"
   ]
  },
  {
   "cell_type": "markdown",
   "metadata": {},
   "source": [
    "Категории в столбце образование дублируются из-за записи в разных регистрах. \n",
    "Переведем все текстовые столбцы в нижний регистр и проверим уникальные значения столбца образование."
   ]
  },
  {
   "cell_type": "code",
   "execution_count": 31,
   "metadata": {
    "scrolled": false
   },
   "outputs": [
    {
     "data": {
      "text/html": [
       "<div>\n",
       "<style scoped>\n",
       "    .dataframe tbody tr th:only-of-type {\n",
       "        vertical-align: middle;\n",
       "    }\n",
       "\n",
       "    .dataframe tbody tr th {\n",
       "        vertical-align: top;\n",
       "    }\n",
       "\n",
       "    .dataframe thead th {\n",
       "        text-align: right;\n",
       "    }\n",
       "</style>\n",
       "<table border=\"1\" class=\"dataframe\">\n",
       "  <thead>\n",
       "    <tr style=\"text-align: right;\">\n",
       "      <th></th>\n",
       "      <th>education</th>\n",
       "    </tr>\n",
       "  </thead>\n",
       "  <tbody>\n",
       "    <tr>\n",
       "      <td>среднее</td>\n",
       "      <td>15233</td>\n",
       "    </tr>\n",
       "    <tr>\n",
       "      <td>высшее</td>\n",
       "      <td>5260</td>\n",
       "    </tr>\n",
       "    <tr>\n",
       "      <td>неоконченное высшее</td>\n",
       "      <td>744</td>\n",
       "    </tr>\n",
       "    <tr>\n",
       "      <td>начальное</td>\n",
       "      <td>282</td>\n",
       "    </tr>\n",
       "    <tr>\n",
       "      <td>ученая степень</td>\n",
       "      <td>6</td>\n",
       "    </tr>\n",
       "  </tbody>\n",
       "</table>\n",
       "</div>"
      ],
      "text/plain": [
       "                     education\n",
       "среднее                  15233\n",
       "высшее                    5260\n",
       "неоконченное высшее        744\n",
       "начальное                  282\n",
       "ученая степень               6"
      ]
     },
     "execution_count": 31,
     "metadata": {},
     "output_type": "execute_result"
    }
   ],
   "source": [
    "for col in df.select_dtypes(include = 'object').columns:\n",
    "    df[col] = df[col].str.lower()\n",
    "    \n",
    "df['education'].value_counts().to_frame()"
   ]
  },
  {
   "cell_type": "markdown",
   "metadata": {},
   "source": [
    "Количество дубликатов:"
   ]
  },
  {
   "cell_type": "code",
   "execution_count": 32,
   "metadata": {},
   "outputs": [
    {
     "data": {
      "text/plain": [
       "71"
      ]
     },
     "execution_count": 32,
     "metadata": {},
     "output_type": "execute_result"
    }
   ],
   "source": [
    "df.duplicated().sum()"
   ]
  },
  {
   "cell_type": "markdown",
   "metadata": {},
   "source": [
    "Строки, являющиеся дубликатами (включая первое вхождение):"
   ]
  },
  {
   "cell_type": "code",
   "execution_count": 33,
   "metadata": {
    "scrolled": false
   },
   "outputs": [
    {
     "data": {
      "text/html": [
       "<div>\n",
       "<style scoped>\n",
       "    .dataframe tbody tr th:only-of-type {\n",
       "        vertical-align: middle;\n",
       "    }\n",
       "\n",
       "    .dataframe tbody tr th {\n",
       "        vertical-align: top;\n",
       "    }\n",
       "\n",
       "    .dataframe thead th {\n",
       "        text-align: right;\n",
       "    }\n",
       "</style>\n",
       "<table border=\"1\" class=\"dataframe\">\n",
       "  <thead>\n",
       "    <tr style=\"text-align: right;\">\n",
       "      <th></th>\n",
       "      <th>children</th>\n",
       "      <th>days_employed</th>\n",
       "      <th>dob_years</th>\n",
       "      <th>education</th>\n",
       "      <th>education_id</th>\n",
       "      <th>family_status</th>\n",
       "      <th>family_status_id</th>\n",
       "      <th>gender</th>\n",
       "      <th>income_type</th>\n",
       "      <th>debt</th>\n",
       "      <th>total_income</th>\n",
       "      <th>purpose</th>\n",
       "    </tr>\n",
       "  </thead>\n",
       "  <tbody>\n",
       "    <tr>\n",
       "      <td>7938</td>\n",
       "      <td>0</td>\n",
       "      <td>15217</td>\n",
       "      <td>71</td>\n",
       "      <td>среднее</td>\n",
       "      <td>1</td>\n",
       "      <td>гражданский брак</td>\n",
       "      <td>1</td>\n",
       "      <td>f</td>\n",
       "      <td>пенсионер</td>\n",
       "      <td>0</td>\n",
       "      <td>118514</td>\n",
       "      <td>на проведение свадьбы</td>\n",
       "    </tr>\n",
       "    <tr>\n",
       "      <td>9604</td>\n",
       "      <td>0</td>\n",
       "      <td>15217</td>\n",
       "      <td>71</td>\n",
       "      <td>среднее</td>\n",
       "      <td>1</td>\n",
       "      <td>гражданский брак</td>\n",
       "      <td>1</td>\n",
       "      <td>f</td>\n",
       "      <td>пенсионер</td>\n",
       "      <td>0</td>\n",
       "      <td>118514</td>\n",
       "      <td>на проведение свадьбы</td>\n",
       "    </tr>\n",
       "    <tr>\n",
       "      <td>6537</td>\n",
       "      <td>0</td>\n",
       "      <td>15217</td>\n",
       "      <td>71</td>\n",
       "      <td>среднее</td>\n",
       "      <td>1</td>\n",
       "      <td>гражданский брак</td>\n",
       "      <td>1</td>\n",
       "      <td>f</td>\n",
       "      <td>пенсионер</td>\n",
       "      <td>0</td>\n",
       "      <td>118514</td>\n",
       "      <td>на проведение свадьбы</td>\n",
       "    </tr>\n",
       "    <tr>\n",
       "      <td>5865</td>\n",
       "      <td>0</td>\n",
       "      <td>15217</td>\n",
       "      <td>66</td>\n",
       "      <td>среднее</td>\n",
       "      <td>1</td>\n",
       "      <td>вдовец / вдова</td>\n",
       "      <td>2</td>\n",
       "      <td>f</td>\n",
       "      <td>пенсионер</td>\n",
       "      <td>0</td>\n",
       "      <td>118514</td>\n",
       "      <td>операции со своей недвижимостью</td>\n",
       "    </tr>\n",
       "    <tr>\n",
       "      <td>9528</td>\n",
       "      <td>0</td>\n",
       "      <td>15217</td>\n",
       "      <td>66</td>\n",
       "      <td>среднее</td>\n",
       "      <td>1</td>\n",
       "      <td>вдовец / вдова</td>\n",
       "      <td>2</td>\n",
       "      <td>f</td>\n",
       "      <td>пенсионер</td>\n",
       "      <td>0</td>\n",
       "      <td>118514</td>\n",
       "      <td>операции со своей недвижимостью</td>\n",
       "    </tr>\n",
       "  </tbody>\n",
       "</table>\n",
       "</div>"
      ],
      "text/plain": [
       "      children  days_employed  dob_years education  education_id  \\\n",
       "7938         0          15217         71   среднее             1   \n",
       "9604         0          15217         71   среднее             1   \n",
       "6537         0          15217         71   среднее             1   \n",
       "5865         0          15217         66   среднее             1   \n",
       "9528         0          15217         66   среднее             1   \n",
       "\n",
       "         family_status  family_status_id gender income_type  debt  \\\n",
       "7938  гражданский брак                 1      f   пенсионер     0   \n",
       "9604  гражданский брак                 1      f   пенсионер     0   \n",
       "6537  гражданский брак                 1      f   пенсионер     0   \n",
       "5865    вдовец / вдова                 2      f   пенсионер     0   \n",
       "9528    вдовец / вдова                 2      f   пенсионер     0   \n",
       "\n",
       "      total_income                          purpose  \n",
       "7938        118514            на проведение свадьбы  \n",
       "9604        118514            на проведение свадьбы  \n",
       "6537        118514            на проведение свадьбы  \n",
       "5865        118514  операции со своей недвижимостью  \n",
       "9528        118514  операции со своей недвижимостью  "
      ]
     },
     "execution_count": 33,
     "metadata": {},
     "output_type": "execute_result"
    }
   ],
   "source": [
    "df[df.duplicated(keep=False)].sort_values(by='dob_years', ascending=False).head()"
   ]
  },
  {
   "cell_type": "markdown",
   "metadata": {},
   "source": [
    "Строки дубликаты изначально имели пропущенные значения. Это видно по одному и тому же значению в столбцах дохода и трудового стажа. Это медиана, которую мы использовали в шаге 2.1.\n",
    "Общее число дубликатов - 71, это меньше 0.35% набора данных.\n",
    "\n",
    "Удаляем все строки дубликаты."
   ]
  },
  {
   "cell_type": "code",
   "execution_count": 34,
   "metadata": {
    "scrolled": false
   },
   "outputs": [],
   "source": [
    "df = df.drop_duplicates().reset_index(drop=True)"
   ]
  },
  {
   "cell_type": "markdown",
   "metadata": {},
   "source": [
    "Выполняем проверку."
   ]
  },
  {
   "cell_type": "code",
   "execution_count": 35,
   "metadata": {},
   "outputs": [
    {
     "data": {
      "text/plain": [
       "0"
      ]
     },
     "execution_count": 35,
     "metadata": {},
     "output_type": "execute_result"
    }
   ],
   "source": [
    "df.duplicated().sum()"
   ]
  },
  {
   "cell_type": "markdown",
   "metadata": {},
   "source": [
    "**Вывод**"
   ]
  },
  {
   "cell_type": "markdown",
   "metadata": {},
   "source": [
    "1. Все строки в текстовых столбцах переведены в нижний регистр. Таким образом удалось избежать неявных дубликатов.\n",
    "2. 71 дубликат был удален из набора данных."
   ]
  },
  {
   "cell_type": "markdown",
   "metadata": {},
   "source": [
    "### Лемматизация"
   ]
  },
  {
   "cell_type": "markdown",
   "metadata": {},
   "source": [
    "Проведем лемматизацию для столбца *purpose*.\n",
    "Для начала посмотрим на все возможные значения в столбце."
   ]
  },
  {
   "cell_type": "code",
   "execution_count": 36,
   "metadata": {},
   "outputs": [
    {
     "data": {
      "text/html": [
       "<div>\n",
       "<style scoped>\n",
       "    .dataframe tbody tr th:only-of-type {\n",
       "        vertical-align: middle;\n",
       "    }\n",
       "\n",
       "    .dataframe tbody tr th {\n",
       "        vertical-align: top;\n",
       "    }\n",
       "\n",
       "    .dataframe thead th {\n",
       "        text-align: right;\n",
       "    }\n",
       "</style>\n",
       "<table border=\"1\" class=\"dataframe\">\n",
       "  <thead>\n",
       "    <tr style=\"text-align: right;\">\n",
       "      <th></th>\n",
       "      <th>purpose</th>\n",
       "    </tr>\n",
       "  </thead>\n",
       "  <tbody>\n",
       "    <tr>\n",
       "      <td>свадьба</td>\n",
       "      <td>791</td>\n",
       "    </tr>\n",
       "    <tr>\n",
       "      <td>на проведение свадьбы</td>\n",
       "      <td>768</td>\n",
       "    </tr>\n",
       "    <tr>\n",
       "      <td>сыграть свадьбу</td>\n",
       "      <td>765</td>\n",
       "    </tr>\n",
       "    <tr>\n",
       "      <td>операции с недвижимостью</td>\n",
       "      <td>675</td>\n",
       "    </tr>\n",
       "    <tr>\n",
       "      <td>покупка коммерческой недвижимости</td>\n",
       "      <td>661</td>\n",
       "    </tr>\n",
       "    <tr>\n",
       "      <td>операции с жильем</td>\n",
       "      <td>652</td>\n",
       "    </tr>\n",
       "    <tr>\n",
       "      <td>покупка жилья для сдачи</td>\n",
       "      <td>651</td>\n",
       "    </tr>\n",
       "    <tr>\n",
       "      <td>операции с коммерческой недвижимостью</td>\n",
       "      <td>650</td>\n",
       "    </tr>\n",
       "    <tr>\n",
       "      <td>покупка жилья</td>\n",
       "      <td>646</td>\n",
       "    </tr>\n",
       "    <tr>\n",
       "      <td>жилье</td>\n",
       "      <td>646</td>\n",
       "    </tr>\n",
       "    <tr>\n",
       "      <td>покупка жилья для семьи</td>\n",
       "      <td>638</td>\n",
       "    </tr>\n",
       "    <tr>\n",
       "      <td>строительство собственной недвижимости</td>\n",
       "      <td>635</td>\n",
       "    </tr>\n",
       "    <tr>\n",
       "      <td>недвижимость</td>\n",
       "      <td>633</td>\n",
       "    </tr>\n",
       "    <tr>\n",
       "      <td>операции со своей недвижимостью</td>\n",
       "      <td>627</td>\n",
       "    </tr>\n",
       "    <tr>\n",
       "      <td>строительство жилой недвижимости</td>\n",
       "      <td>624</td>\n",
       "    </tr>\n",
       "    <tr>\n",
       "      <td>покупка недвижимости</td>\n",
       "      <td>621</td>\n",
       "    </tr>\n",
       "    <tr>\n",
       "      <td>покупка своего жилья</td>\n",
       "      <td>620</td>\n",
       "    </tr>\n",
       "    <tr>\n",
       "      <td>строительство недвижимости</td>\n",
       "      <td>619</td>\n",
       "    </tr>\n",
       "    <tr>\n",
       "      <td>ремонт жилью</td>\n",
       "      <td>607</td>\n",
       "    </tr>\n",
       "    <tr>\n",
       "      <td>покупка жилой недвижимости</td>\n",
       "      <td>606</td>\n",
       "    </tr>\n",
       "    <tr>\n",
       "      <td>на покупку своего автомобиля</td>\n",
       "      <td>505</td>\n",
       "    </tr>\n",
       "    <tr>\n",
       "      <td>заняться высшим образованием</td>\n",
       "      <td>496</td>\n",
       "    </tr>\n",
       "    <tr>\n",
       "      <td>автомобиль</td>\n",
       "      <td>494</td>\n",
       "    </tr>\n",
       "    <tr>\n",
       "      <td>сделка с подержанным автомобилем</td>\n",
       "      <td>486</td>\n",
       "    </tr>\n",
       "    <tr>\n",
       "      <td>свой автомобиль</td>\n",
       "      <td>478</td>\n",
       "    </tr>\n",
       "    <tr>\n",
       "      <td>на покупку подержанного автомобиля</td>\n",
       "      <td>478</td>\n",
       "    </tr>\n",
       "    <tr>\n",
       "      <td>автомобили</td>\n",
       "      <td>478</td>\n",
       "    </tr>\n",
       "    <tr>\n",
       "      <td>на покупку автомобиля</td>\n",
       "      <td>471</td>\n",
       "    </tr>\n",
       "    <tr>\n",
       "      <td>приобретение автомобиля</td>\n",
       "      <td>461</td>\n",
       "    </tr>\n",
       "    <tr>\n",
       "      <td>дополнительное образование</td>\n",
       "      <td>460</td>\n",
       "    </tr>\n",
       "    <tr>\n",
       "      <td>сделка с автомобилем</td>\n",
       "      <td>455</td>\n",
       "    </tr>\n",
       "    <tr>\n",
       "      <td>высшее образование</td>\n",
       "      <td>452</td>\n",
       "    </tr>\n",
       "    <tr>\n",
       "      <td>образование</td>\n",
       "      <td>447</td>\n",
       "    </tr>\n",
       "    <tr>\n",
       "      <td>получение дополнительного образования</td>\n",
       "      <td>446</td>\n",
       "    </tr>\n",
       "    <tr>\n",
       "      <td>получение образования</td>\n",
       "      <td>442</td>\n",
       "    </tr>\n",
       "    <tr>\n",
       "      <td>профильное образование</td>\n",
       "      <td>436</td>\n",
       "    </tr>\n",
       "    <tr>\n",
       "      <td>получение высшего образования</td>\n",
       "      <td>426</td>\n",
       "    </tr>\n",
       "    <tr>\n",
       "      <td>заняться образованием</td>\n",
       "      <td>408</td>\n",
       "    </tr>\n",
       "  </tbody>\n",
       "</table>\n",
       "</div>"
      ],
      "text/plain": [
       "                                        purpose\n",
       "свадьба                                     791\n",
       "на проведение свадьбы                       768\n",
       "сыграть свадьбу                             765\n",
       "операции с недвижимостью                    675\n",
       "покупка коммерческой недвижимости           661\n",
       "операции с жильем                           652\n",
       "покупка жилья для сдачи                     651\n",
       "операции с коммерческой недвижимостью       650\n",
       "покупка жилья                               646\n",
       "жилье                                       646\n",
       "покупка жилья для семьи                     638\n",
       "строительство собственной недвижимости      635\n",
       "недвижимость                                633\n",
       "операции со своей недвижимостью             627\n",
       "строительство жилой недвижимости            624\n",
       "покупка недвижимости                        621\n",
       "покупка своего жилья                        620\n",
       "строительство недвижимости                  619\n",
       "ремонт жилью                                607\n",
       "покупка жилой недвижимости                  606\n",
       "на покупку своего автомобиля                505\n",
       "заняться высшим образованием                496\n",
       "автомобиль                                  494\n",
       "сделка с подержанным автомобилем            486\n",
       "свой автомобиль                             478\n",
       "на покупку подержанного автомобиля          478\n",
       "автомобили                                  478\n",
       "на покупку автомобиля                       471\n",
       "приобретение автомобиля                     461\n",
       "дополнительное образование                  460\n",
       "сделка с автомобилем                        455\n",
       "высшее образование                          452\n",
       "образование                                 447\n",
       "получение дополнительного образования       446\n",
       "получение образования                       442\n",
       "профильное образование                      436\n",
       "получение высшего образования               426\n",
       "заняться образованием                       408"
      ]
     },
     "execution_count": 36,
     "metadata": {},
     "output_type": "execute_result"
    }
   ],
   "source": [
    "df['purpose'].value_counts().to_frame()"
   ]
  },
  {
   "cell_type": "markdown",
   "metadata": {},
   "source": [
    "Мы можем видеть большое число похожих по смыслу причин, но отличающихся написанием. Исправим это лемматизацией."
   ]
  },
  {
   "cell_type": "code",
   "execution_count": 37,
   "metadata": {},
   "outputs": [],
   "source": [
    "m = Mystem()\n",
    "\n",
    "df['purpose_lemma'] = df['purpose'].apply(m.lemmatize)"
   ]
  },
  {
   "cell_type": "markdown",
   "metadata": {},
   "source": [
    "Посчитаем количество вхождений каждой леммы."
   ]
  },
  {
   "cell_type": "code",
   "execution_count": 39,
   "metadata": {},
   "outputs": [
    {
     "name": "stdout",
     "output_type": "stream",
     "text": [
      "Counter({' ': 55023, 'недвижимость': 6351, 'покупка': 5897, 'жилье': 4460, 'автомобиль': 4306, 'образование': 4013, 'с': 2918, 'операция': 2604, 'свадьба': 2324, 'свой': 2230, 'на': 2222, 'строительство': 1878, 'высокий': 1374, 'получение': 1314, 'коммерческий': 1311, 'для': 1289, 'жилой': 1230, 'сделка': 941, 'дополнительный': 906, 'заниматься': 904, 'подержать': 853, 'проведение': 768, 'сыграть': 765, 'сдача': 651, 'семья': 638, 'собственный': 635, 'со': 627, 'ремонт': 607, 'приобретение': 461, 'профильный': 436, 'подержанный': 111, '\\n': 1})\n"
     ]
    }
   ],
   "source": [
    "m = Mystem()\n",
    "\n",
    "print(Counter(m.lemmatize(' '.join(df['purpose'].to_list()))))"
   ]
  },
  {
   "cell_type": "markdown",
   "metadata": {},
   "source": [
    "Видно, что целей кредита всего 5: недвижимость, жилье, автомобиль, образование и свадьба. \n",
    "Еще довольно часто встречается \"операция\", но выше мы видели, что она употребляется в смысле \"операции с недвижимостью\". Также запутать может \"строительство\", но опять же в контексте это \"строительство собственной недвижимости\".\n",
    "\n",
    "Объединим недвижимость и жилье в одну категорию с именем недвижимость.\n",
    "На основе полученных данных можно перезаписать столбец с целью, заменив все похожие записи лишь их леммой."
   ]
  },
  {
   "cell_type": "code",
   "execution_count": 44,
   "metadata": {},
   "outputs": [],
   "source": [
    "purpose_lemmas = {'недвижимость' : 'недвижимость', 'жилье' : 'недвижимость', 'автомобиль' : 'автомобиль',\n",
    "                  'образование' : 'образование', 'свадьба' : 'свадьба'}\n",
    "\n",
    "def assign_lemma(row):\n",
    "    for lemma, new_purpose in purpose_lemmas.items():\n",
    "        if lemma in row:\n",
    "            return new_purpose\n",
    "    return 'другое'\n",
    "        \n",
    "df['purpose_lemma'] = df['purpose_lemma'].apply(assign_lemma)"
   ]
  },
  {
   "cell_type": "markdown",
   "metadata": {},
   "source": [
    "Проверим значения в получившемся столбце."
   ]
  },
  {
   "cell_type": "code",
   "execution_count": 45,
   "metadata": {},
   "outputs": [
    {
     "data": {
      "text/html": [
       "<div>\n",
       "<style scoped>\n",
       "    .dataframe tbody tr th:only-of-type {\n",
       "        vertical-align: middle;\n",
       "    }\n",
       "\n",
       "    .dataframe tbody tr th {\n",
       "        vertical-align: top;\n",
       "    }\n",
       "\n",
       "    .dataframe thead th {\n",
       "        text-align: right;\n",
       "    }\n",
       "</style>\n",
       "<table border=\"1\" class=\"dataframe\">\n",
       "  <thead>\n",
       "    <tr style=\"text-align: right;\">\n",
       "      <th></th>\n",
       "      <th>purpose_lemma</th>\n",
       "    </tr>\n",
       "  </thead>\n",
       "  <tbody>\n",
       "    <tr>\n",
       "      <td>недвижимость</td>\n",
       "      <td>10811</td>\n",
       "    </tr>\n",
       "    <tr>\n",
       "      <td>автомобиль</td>\n",
       "      <td>4306</td>\n",
       "    </tr>\n",
       "    <tr>\n",
       "      <td>образование</td>\n",
       "      <td>4013</td>\n",
       "    </tr>\n",
       "    <tr>\n",
       "      <td>свадьба</td>\n",
       "      <td>2324</td>\n",
       "    </tr>\n",
       "  </tbody>\n",
       "</table>\n",
       "</div>"
      ],
      "text/plain": [
       "              purpose_lemma\n",
       "недвижимость          10811\n",
       "автомобиль             4306\n",
       "образование            4013\n",
       "свадьба                2324"
      ]
     },
     "execution_count": 45,
     "metadata": {},
     "output_type": "execute_result"
    }
   ],
   "source": [
    "df['purpose_lemma'].value_counts().to_frame()"
   ]
  },
  {
   "cell_type": "markdown",
   "metadata": {},
   "source": [
    "Исходный столбец можно удалить."
   ]
  },
  {
   "cell_type": "code",
   "execution_count": 46,
   "metadata": {},
   "outputs": [],
   "source": [
    "df = df.drop('purpose', axis=1)"
   ]
  },
  {
   "cell_type": "markdown",
   "metadata": {},
   "source": [
    "Посмотрим на первые 5 строк таблицы."
   ]
  },
  {
   "cell_type": "code",
   "execution_count": 47,
   "metadata": {},
   "outputs": [
    {
     "data": {
      "text/html": [
       "<div>\n",
       "<style scoped>\n",
       "    .dataframe tbody tr th:only-of-type {\n",
       "        vertical-align: middle;\n",
       "    }\n",
       "\n",
       "    .dataframe tbody tr th {\n",
       "        vertical-align: top;\n",
       "    }\n",
       "\n",
       "    .dataframe thead th {\n",
       "        text-align: right;\n",
       "    }\n",
       "</style>\n",
       "<table border=\"1\" class=\"dataframe\">\n",
       "  <thead>\n",
       "    <tr style=\"text-align: right;\">\n",
       "      <th></th>\n",
       "      <th>children</th>\n",
       "      <th>days_employed</th>\n",
       "      <th>dob_years</th>\n",
       "      <th>education</th>\n",
       "      <th>education_id</th>\n",
       "      <th>family_status</th>\n",
       "      <th>family_status_id</th>\n",
       "      <th>gender</th>\n",
       "      <th>income_type</th>\n",
       "      <th>debt</th>\n",
       "      <th>total_income</th>\n",
       "      <th>purpose_lemma</th>\n",
       "    </tr>\n",
       "  </thead>\n",
       "  <tbody>\n",
       "    <tr>\n",
       "      <td>0</td>\n",
       "      <td>1</td>\n",
       "      <td>8437</td>\n",
       "      <td>42</td>\n",
       "      <td>высшее</td>\n",
       "      <td>0</td>\n",
       "      <td>женат / замужем</td>\n",
       "      <td>0</td>\n",
       "      <td>f</td>\n",
       "      <td>сотрудник</td>\n",
       "      <td>0</td>\n",
       "      <td>253875</td>\n",
       "      <td>недвижимость</td>\n",
       "    </tr>\n",
       "    <tr>\n",
       "      <td>1</td>\n",
       "      <td>1</td>\n",
       "      <td>4024</td>\n",
       "      <td>36</td>\n",
       "      <td>среднее</td>\n",
       "      <td>1</td>\n",
       "      <td>женат / замужем</td>\n",
       "      <td>0</td>\n",
       "      <td>f</td>\n",
       "      <td>сотрудник</td>\n",
       "      <td>0</td>\n",
       "      <td>112080</td>\n",
       "      <td>автомобиль</td>\n",
       "    </tr>\n",
       "    <tr>\n",
       "      <td>2</td>\n",
       "      <td>0</td>\n",
       "      <td>5623</td>\n",
       "      <td>33</td>\n",
       "      <td>среднее</td>\n",
       "      <td>1</td>\n",
       "      <td>женат / замужем</td>\n",
       "      <td>0</td>\n",
       "      <td>m</td>\n",
       "      <td>сотрудник</td>\n",
       "      <td>0</td>\n",
       "      <td>145885</td>\n",
       "      <td>недвижимость</td>\n",
       "    </tr>\n",
       "    <tr>\n",
       "      <td>3</td>\n",
       "      <td>3</td>\n",
       "      <td>4124</td>\n",
       "      <td>32</td>\n",
       "      <td>среднее</td>\n",
       "      <td>1</td>\n",
       "      <td>женат / замужем</td>\n",
       "      <td>0</td>\n",
       "      <td>m</td>\n",
       "      <td>сотрудник</td>\n",
       "      <td>0</td>\n",
       "      <td>267628</td>\n",
       "      <td>образование</td>\n",
       "    </tr>\n",
       "    <tr>\n",
       "      <td>4</td>\n",
       "      <td>0</td>\n",
       "      <td>14177</td>\n",
       "      <td>53</td>\n",
       "      <td>среднее</td>\n",
       "      <td>1</td>\n",
       "      <td>гражданский брак</td>\n",
       "      <td>1</td>\n",
       "      <td>f</td>\n",
       "      <td>пенсионер</td>\n",
       "      <td>0</td>\n",
       "      <td>158616</td>\n",
       "      <td>свадьба</td>\n",
       "    </tr>\n",
       "  </tbody>\n",
       "</table>\n",
       "</div>"
      ],
      "text/plain": [
       "   children  days_employed  dob_years education  education_id  \\\n",
       "0         1           8437         42    высшее             0   \n",
       "1         1           4024         36   среднее             1   \n",
       "2         0           5623         33   среднее             1   \n",
       "3         3           4124         32   среднее             1   \n",
       "4         0          14177         53   среднее             1   \n",
       "\n",
       "      family_status  family_status_id gender income_type  debt  total_income  \\\n",
       "0   женат / замужем                 0      f   сотрудник     0        253875   \n",
       "1   женат / замужем                 0      f   сотрудник     0        112080   \n",
       "2   женат / замужем                 0      m   сотрудник     0        145885   \n",
       "3   женат / замужем                 0      m   сотрудник     0        267628   \n",
       "4  гражданский брак                 1      f   пенсионер     0        158616   \n",
       "\n",
       "  purpose_lemma  \n",
       "0  недвижимость  \n",
       "1    автомобиль  \n",
       "2  недвижимость  \n",
       "3   образование  \n",
       "4       свадьба  "
      ]
     },
     "execution_count": 47,
     "metadata": {},
     "output_type": "execute_result"
    }
   ],
   "source": [
    "df.head()"
   ]
  },
  {
   "cell_type": "markdown",
   "metadata": {},
   "source": [
    "**Вывод**"
   ]
  },
  {
   "cell_type": "markdown",
   "metadata": {},
   "source": [
    "Лемматизация была применена к столбцу \"цель кредита\", что позволило получить куда более удачную форму представления. По-разному записанные, но одинаковые по смыслу цели были заменены леммой основного слова, что сократило количество целей кредита до 4."
   ]
  },
  {
   "cell_type": "markdown",
   "metadata": {},
   "source": [
    "### Категоризация данных"
   ]
  },
  {
   "cell_type": "markdown",
   "metadata": {},
   "source": [
    "Создадим столбец, показывающий, есть ли у клиента дети или нет."
   ]
  },
  {
   "cell_type": "code",
   "execution_count": 71,
   "metadata": {},
   "outputs": [],
   "source": [
    "df['children_status'] = 'нет детей'\n",
    "df.loc[df['children'] > 0, 'children_status'] = 'есть дети'"
   ]
  },
  {
   "cell_type": "markdown",
   "metadata": {},
   "source": [
    "Для дальнейшего анализа стоит разделить людей на категории по возрасту и по доходу.\n",
    "Сначала посмотрим на распределение клиентов по возрасту."
   ]
  },
  {
   "cell_type": "code",
   "execution_count": 50,
   "metadata": {},
   "outputs": [
    {
     "data": {
      "image/png": "[encoded data removed]",
      "text/plain": [
       "<Figure size 432x288 with 1 Axes>"
      ]
     },
     "metadata": {
      "needs_background": "light"
     },
     "output_type": "display_data"
    }
   ],
   "source": [
    "sns.histplot(df['dob_years'], discrete=True)\n",
    "plt.title('Age distribution of clients')\n",
    "plt.show()"
   ]
  },
  {
   "cell_type": "markdown",
   "metadata": {},
   "source": [
    "Видно, что наибольшее число клиентов в возрасте 30-40 лет, самые старые клиенты моложе 80, а самые молодые - 18-летние.\n",
    "\n",
    "В данных присутствует артефакт, говорящий что некоторым клиентам 0 лет, чего естественно не может быть. Предполагаем, что данный 0 является способом заполения пропусков.\n",
    "Так как это было пропущено на стадии обработки пропусков, обработаем эти пропуски перед категоризацией. Для начала взглянем на строки, где возраст отмечен как 0."
   ]
  },
  {
   "cell_type": "code",
   "execution_count": 51,
   "metadata": {},
   "outputs": [
    {
     "data": {
      "text/html": [
       "<div>\n",
       "<style scoped>\n",
       "    .dataframe tbody tr th:only-of-type {\n",
       "        vertical-align: middle;\n",
       "    }\n",
       "\n",
       "    .dataframe tbody tr th {\n",
       "        vertical-align: top;\n",
       "    }\n",
       "\n",
       "    .dataframe thead th {\n",
       "        text-align: right;\n",
       "    }\n",
       "</style>\n",
       "<table border=\"1\" class=\"dataframe\">\n",
       "  <thead>\n",
       "    <tr style=\"text-align: right;\">\n",
       "      <th></th>\n",
       "      <th>children</th>\n",
       "      <th>days_employed</th>\n",
       "      <th>dob_years</th>\n",
       "      <th>education</th>\n",
       "      <th>education_id</th>\n",
       "      <th>family_status</th>\n",
       "      <th>family_status_id</th>\n",
       "      <th>gender</th>\n",
       "      <th>income_type</th>\n",
       "      <th>debt</th>\n",
       "      <th>total_income</th>\n",
       "      <th>purpose_lemma</th>\n",
       "    </tr>\n",
       "  </thead>\n",
       "  <tbody>\n",
       "    <tr>\n",
       "      <td>99</td>\n",
       "      <td>0</td>\n",
       "      <td>14439</td>\n",
       "      <td>0</td>\n",
       "      <td>среднее</td>\n",
       "      <td>1</td>\n",
       "      <td>женат / замужем</td>\n",
       "      <td>0</td>\n",
       "      <td>f</td>\n",
       "      <td>пенсионер</td>\n",
       "      <td>0</td>\n",
       "      <td>71291</td>\n",
       "      <td>автомобиль</td>\n",
       "    </tr>\n",
       "    <tr>\n",
       "      <td>149</td>\n",
       "      <td>0</td>\n",
       "      <td>2664</td>\n",
       "      <td>0</td>\n",
       "      <td>среднее</td>\n",
       "      <td>1</td>\n",
       "      <td>в разводе</td>\n",
       "      <td>3</td>\n",
       "      <td>f</td>\n",
       "      <td>сотрудник</td>\n",
       "      <td>0</td>\n",
       "      <td>70176</td>\n",
       "      <td>недвижимость</td>\n",
       "    </tr>\n",
       "    <tr>\n",
       "      <td>270</td>\n",
       "      <td>3</td>\n",
       "      <td>1872</td>\n",
       "      <td>0</td>\n",
       "      <td>среднее</td>\n",
       "      <td>1</td>\n",
       "      <td>женат / замужем</td>\n",
       "      <td>0</td>\n",
       "      <td>f</td>\n",
       "      <td>сотрудник</td>\n",
       "      <td>0</td>\n",
       "      <td>102166</td>\n",
       "      <td>недвижимость</td>\n",
       "    </tr>\n",
       "    <tr>\n",
       "      <td>578</td>\n",
       "      <td>0</td>\n",
       "      <td>16577</td>\n",
       "      <td>0</td>\n",
       "      <td>среднее</td>\n",
       "      <td>1</td>\n",
       "      <td>женат / замужем</td>\n",
       "      <td>0</td>\n",
       "      <td>f</td>\n",
       "      <td>пенсионер</td>\n",
       "      <td>0</td>\n",
       "      <td>97620</td>\n",
       "      <td>недвижимость</td>\n",
       "    </tr>\n",
       "    <tr>\n",
       "      <td>1040</td>\n",
       "      <td>0</td>\n",
       "      <td>1158</td>\n",
       "      <td>0</td>\n",
       "      <td>высшее</td>\n",
       "      <td>0</td>\n",
       "      <td>в разводе</td>\n",
       "      <td>3</td>\n",
       "      <td>f</td>\n",
       "      <td>компаньон</td>\n",
       "      <td>0</td>\n",
       "      <td>303994</td>\n",
       "      <td>автомобиль</td>\n",
       "    </tr>\n",
       "  </tbody>\n",
       "</table>\n",
       "</div>"
      ],
      "text/plain": [
       "      children  days_employed  dob_years education  education_id  \\\n",
       "99           0          14439          0   среднее             1   \n",
       "149          0           2664          0   среднее             1   \n",
       "270          3           1872          0   среднее             1   \n",
       "578          0          16577          0   среднее             1   \n",
       "1040         0           1158          0    высшее             0   \n",
       "\n",
       "        family_status  family_status_id gender income_type  debt  \\\n",
       "99    женат / замужем                 0      f   пенсионер     0   \n",
       "149         в разводе                 3      f   сотрудник     0   \n",
       "270   женат / замужем                 0      f   сотрудник     0   \n",
       "578   женат / замужем                 0      f   пенсионер     0   \n",
       "1040        в разводе                 3      f   компаньон     0   \n",
       "\n",
       "      total_income purpose_lemma  \n",
       "99           71291    автомобиль  \n",
       "149          70176  недвижимость  \n",
       "270         102166  недвижимость  \n",
       "578          97620  недвижимость  \n",
       "1040        303994    автомобиль  "
      ]
     },
     "execution_count": 51,
     "metadata": {},
     "output_type": "execute_result"
    }
   ],
   "source": [
    "df[df['dob_years'] == 0].head()"
   ]
  },
  {
   "cell_type": "markdown",
   "metadata": {},
   "source": [
    "Какую-либо взаимосвязь отметить сложно. Эти пропуски случайные. Их причиной скорее всего является ошибка при загрузке данных.\n",
    "\n",
    "Столбец \"тип дохода\" можно косвенно связать с возрастом. Пенсионеру не может быть 20 лет, а студенты обычно намного моложе 60. Следовательно заполним пропуски медианным значением по типу дохода."
   ]
  },
  {
   "cell_type": "code",
   "execution_count": 52,
   "metadata": {},
   "outputs": [],
   "source": [
    "for type in df['income_type'].unique():\n",
    "    median_age = df[df['income_type'] == type]['dob_years'].dropna().median()\n",
    "    df.loc[(df['income_type'] == type) & (df['dob_years'] == 0), 'dob_years'] = median_age"
   ]
  },
  {
   "cell_type": "markdown",
   "metadata": {},
   "source": [
    "Проверим замену."
   ]
  },
  {
   "cell_type": "code",
   "execution_count": 53,
   "metadata": {},
   "outputs": [
    {
     "data": {
      "text/html": [
       "<div>\n",
       "<style scoped>\n",
       "    .dataframe tbody tr th:only-of-type {\n",
       "        vertical-align: middle;\n",
       "    }\n",
       "\n",
       "    .dataframe tbody tr th {\n",
       "        vertical-align: top;\n",
       "    }\n",
       "\n",
       "    .dataframe thead th {\n",
       "        text-align: right;\n",
       "    }\n",
       "</style>\n",
       "<table border=\"1\" class=\"dataframe\">\n",
       "  <thead>\n",
       "    <tr style=\"text-align: right;\">\n",
       "      <th></th>\n",
       "      <th>children</th>\n",
       "      <th>days_employed</th>\n",
       "      <th>dob_years</th>\n",
       "      <th>education</th>\n",
       "      <th>education_id</th>\n",
       "      <th>family_status</th>\n",
       "      <th>family_status_id</th>\n",
       "      <th>gender</th>\n",
       "      <th>income_type</th>\n",
       "      <th>debt</th>\n",
       "      <th>total_income</th>\n",
       "      <th>purpose_lemma</th>\n",
       "    </tr>\n",
       "  </thead>\n",
       "  <tbody>\n",
       "  </tbody>\n",
       "</table>\n",
       "</div>"
      ],
      "text/plain": [
       "Empty DataFrame\n",
       "Columns: [children, days_employed, dob_years, education, education_id, family_status, family_status_id, gender, income_type, debt, total_income, purpose_lemma]\n",
       "Index: []"
      ]
     },
     "execution_count": 53,
     "metadata": {},
     "output_type": "execute_result"
    }
   ],
   "source": [
    "df[df['dob_years'] == 0].head(5)"
   ]
  },
  {
   "cell_type": "markdown",
   "metadata": {},
   "source": [
    "Разделим клиентов на возрастные группы по следующему правилу:\n",
    "* до 30 включительно: молодые\n",
    "* 31-60: взрослые\n",
    "* 61 и более: пожилые"
   ]
  },
  {
   "cell_type": "code",
   "execution_count": 54,
   "metadata": {
    "scrolled": true
   },
   "outputs": [],
   "source": [
    "def age_group(row):\n",
    "    if row <= 30:\n",
    "        return 'молодые'\n",
    "    elif 30 < row <= 60:\n",
    "        return 'взрослые'\n",
    "    return 'пожилые'"
   ]
  },
  {
   "cell_type": "code",
   "execution_count": 55,
   "metadata": {},
   "outputs": [],
   "source": [
    "df['age_group'] = df['dob_years'].apply(age_group)"
   ]
  },
  {
   "cell_type": "code",
   "execution_count": 56,
   "metadata": {},
   "outputs": [
    {
     "data": {
      "text/html": [
       "<div>\n",
       "<style scoped>\n",
       "    .dataframe tbody tr th:only-of-type {\n",
       "        vertical-align: middle;\n",
       "    }\n",
       "\n",
       "    .dataframe tbody tr th {\n",
       "        vertical-align: top;\n",
       "    }\n",
       "\n",
       "    .dataframe thead th {\n",
       "        text-align: right;\n",
       "    }\n",
       "</style>\n",
       "<table border=\"1\" class=\"dataframe\">\n",
       "  <thead>\n",
       "    <tr style=\"text-align: right;\">\n",
       "      <th></th>\n",
       "      <th>dob_years</th>\n",
       "      <th>age_group</th>\n",
       "    </tr>\n",
       "  </thead>\n",
       "  <tbody>\n",
       "    <tr>\n",
       "      <td>0</td>\n",
       "      <td>42.0</td>\n",
       "      <td>взрослые</td>\n",
       "    </tr>\n",
       "    <tr>\n",
       "      <td>1</td>\n",
       "      <td>36.0</td>\n",
       "      <td>взрослые</td>\n",
       "    </tr>\n",
       "    <tr>\n",
       "      <td>2</td>\n",
       "      <td>33.0</td>\n",
       "      <td>взрослые</td>\n",
       "    </tr>\n",
       "    <tr>\n",
       "      <td>3</td>\n",
       "      <td>32.0</td>\n",
       "      <td>взрослые</td>\n",
       "    </tr>\n",
       "    <tr>\n",
       "      <td>4</td>\n",
       "      <td>53.0</td>\n",
       "      <td>взрослые</td>\n",
       "    </tr>\n",
       "  </tbody>\n",
       "</table>\n",
       "</div>"
      ],
      "text/plain": [
       "   dob_years age_group\n",
       "0       42.0  взрослые\n",
       "1       36.0  взрослые\n",
       "2       33.0  взрослые\n",
       "3       32.0  взрослые\n",
       "4       53.0  взрослые"
      ]
     },
     "execution_count": 56,
     "metadata": {},
     "output_type": "execute_result"
    }
   ],
   "source": [
    "df[['dob_years', 'age_group']].head()"
   ]
  },
  {
   "cell_type": "markdown",
   "metadata": {},
   "source": [
    "Категоризация по возрасту проведена успешно."
   ]
  },
  {
   "cell_type": "markdown",
   "metadata": {},
   "source": [
    "Посмотрим на распределение по доходу."
   ]
  },
  {
   "cell_type": "code",
   "execution_count": 58,
   "metadata": {},
   "outputs": [
    {
     "data": {
      "image/png": "[encoded data removed]",
      "text/plain": [
       "<Figure size 432x288 with 1 Axes>"
      ]
     },
     "metadata": {
      "needs_background": "light"
     },
     "output_type": "display_data"
    }
   ],
   "source": [
    "sns.histplot(df['total_income'])\n",
    "plt.title('Income distribution of clients')\n",
    "plt.show()"
   ]
  },
  {
   "cell_type": "markdown",
   "metadata": {},
   "source": [
    "У банка есть клиенты с очень высоким доходом, что не дает посмотреть на распределение дохода у основной массы клиентов. \n",
    "Сделаем распределение лишь по клиентам с доходом меньше 500 тыс. рублей."
   ]
  },
  {
   "cell_type": "code",
   "execution_count": 61,
   "metadata": {},
   "outputs": [
    {
     "data": {
      "image/png": "[encoded data removed]",
      "text/plain": [
       "<Figure size 432x288 with 1 Axes>"
      ]
     },
     "metadata": {
      "needs_background": "light"
     },
     "output_type": "display_data"
    }
   ],
   "source": [
    "sns.histplot(df.query('total_income < 500000')['total_income'])\n",
    "plt.title('Restrained distribution of clients')\n",
    "plt.show()"
   ]
  },
  {
   "cell_type": "markdown",
   "metadata": {},
   "source": [
    "Клиенты банка имеют совершенно разные доходы, от очень низкого до очень высокого. Наибольшее количество клиентов имеет ежемесячный доход в районе 100-160 тыс. рублей. \n",
    "\n",
    "Разделим клиентов на группы по доходам, разделив всех клиентов на 4 равные по размеру группы."
   ]
  },
  {
   "cell_type": "code",
   "execution_count": 62,
   "metadata": {},
   "outputs": [
    {
     "data": {
      "text/html": [
       "<div>\n",
       "<style scoped>\n",
       "    .dataframe tbody tr th:only-of-type {\n",
       "        vertical-align: middle;\n",
       "    }\n",
       "\n",
       "    .dataframe tbody tr th {\n",
       "        vertical-align: top;\n",
       "    }\n",
       "\n",
       "    .dataframe thead th {\n",
       "        text-align: right;\n",
       "    }\n",
       "</style>\n",
       "<table border=\"1\" class=\"dataframe\">\n",
       "  <thead>\n",
       "    <tr style=\"text-align: right;\">\n",
       "      <th></th>\n",
       "      <th>total_income</th>\n",
       "    </tr>\n",
       "  </thead>\n",
       "  <tbody>\n",
       "    <tr>\n",
       "      <td>(107623.0, 142594.0]</td>\n",
       "      <td>5479</td>\n",
       "    </tr>\n",
       "    <tr>\n",
       "      <td>(195820.25, 2265604.0]</td>\n",
       "      <td>5364</td>\n",
       "    </tr>\n",
       "    <tr>\n",
       "      <td>(20666.999, 107623.0]</td>\n",
       "      <td>5364</td>\n",
       "    </tr>\n",
       "    <tr>\n",
       "      <td>(142594.0, 195820.25]</td>\n",
       "      <td>5247</td>\n",
       "    </tr>\n",
       "  </tbody>\n",
       "</table>\n",
       "</div>"
      ],
      "text/plain": [
       "                        total_income\n",
       "(107623.0, 142594.0]            5479\n",
       "(195820.25, 2265604.0]          5364\n",
       "(20666.999, 107623.0]           5364\n",
       "(142594.0, 195820.25]           5247"
      ]
     },
     "execution_count": 62,
     "metadata": {},
     "output_type": "execute_result"
    }
   ],
   "source": [
    "pd.qcut(df['total_income'], 4).value_counts().to_frame()"
   ]
  },
  {
   "cell_type": "markdown",
   "metadata": {},
   "source": [
    "По полученным диапазонам разделим клиентов на 4 группы по доходу:\n",
    "1. Низкий: до 107623.857 руб.\n",
    "2. Средний от 107623.857 до 142594.397 руб.\n",
    "3. Выше среднего: от 142594.397 до 195820.926 руб.\n",
    "4. Высокий: свыше 195820.926 руб."
   ]
  },
  {
   "cell_type": "code",
   "execution_count": 63,
   "metadata": {
    "scrolled": true
   },
   "outputs": [],
   "source": [
    "def income_group(row):\n",
    "    if row <= 107623.857:\n",
    "        return 'низкий'\n",
    "    elif 107623.857 < row <= 142594.397:\n",
    "        return 'средний'\n",
    "    elif 142594.397 < row <= 195820.926:\n",
    "        return 'выше среднего'\n",
    "    return 'высокий'"
   ]
  },
  {
   "cell_type": "code",
   "execution_count": 64,
   "metadata": {},
   "outputs": [],
   "source": [
    "df['income_group'] = df['total_income'].apply(income_group)"
   ]
  },
  {
   "cell_type": "code",
   "execution_count": 65,
   "metadata": {},
   "outputs": [
    {
     "data": {
      "text/html": [
       "<div>\n",
       "<style scoped>\n",
       "    .dataframe tbody tr th:only-of-type {\n",
       "        vertical-align: middle;\n",
       "    }\n",
       "\n",
       "    .dataframe tbody tr th {\n",
       "        vertical-align: top;\n",
       "    }\n",
       "\n",
       "    .dataframe thead th {\n",
       "        text-align: right;\n",
       "    }\n",
       "</style>\n",
       "<table border=\"1\" class=\"dataframe\">\n",
       "  <thead>\n",
       "    <tr style=\"text-align: right;\">\n",
       "      <th></th>\n",
       "      <th>total_income</th>\n",
       "      <th>income_group</th>\n",
       "    </tr>\n",
       "  </thead>\n",
       "  <tbody>\n",
       "    <tr>\n",
       "      <td>0</td>\n",
       "      <td>253875</td>\n",
       "      <td>высокий</td>\n",
       "    </tr>\n",
       "    <tr>\n",
       "      <td>1</td>\n",
       "      <td>112080</td>\n",
       "      <td>средний</td>\n",
       "    </tr>\n",
       "    <tr>\n",
       "      <td>2</td>\n",
       "      <td>145885</td>\n",
       "      <td>выше среднего</td>\n",
       "    </tr>\n",
       "    <tr>\n",
       "      <td>3</td>\n",
       "      <td>267628</td>\n",
       "      <td>высокий</td>\n",
       "    </tr>\n",
       "    <tr>\n",
       "      <td>4</td>\n",
       "      <td>158616</td>\n",
       "      <td>выше среднего</td>\n",
       "    </tr>\n",
       "  </tbody>\n",
       "</table>\n",
       "</div>"
      ],
      "text/plain": [
       "   total_income   income_group\n",
       "0        253875        высокий\n",
       "1        112080        средний\n",
       "2        145885  выше среднего\n",
       "3        267628        высокий\n",
       "4        158616  выше среднего"
      ]
     },
     "execution_count": 65,
     "metadata": {},
     "output_type": "execute_result"
    }
   ],
   "source": [
    "df[['total_income', 'income_group']].head()"
   ]
  },
  {
   "cell_type": "markdown",
   "metadata": {},
   "source": [
    "Категоризация по доходу проведена успешна. "
   ]
  },
  {
   "cell_type": "markdown",
   "metadata": {},
   "source": [
    "**Вывод**"
   ]
  },
  {
   "cell_type": "markdown",
   "metadata": {},
   "source": [
    "1. Проведена категоризация клиентов по возрасту. Выделены следующие возрастные группы: молодые (до 30 лет включительно), взрослые (31-60), пожилые (61 и старше).\n",
    "2. Проведена категоризация клиентов по доходу. Выделены 4 группы клиентов."
   ]
  },
  {
   "cell_type": "markdown",
   "metadata": {},
   "source": [
    "Данные после предобработки имеют следующий вид."
   ]
  },
  {
   "cell_type": "code",
   "execution_count": 68,
   "metadata": {},
   "outputs": [
    {
     "data": {
      "text/html": [
       "<div>\n",
       "<style scoped>\n",
       "    .dataframe tbody tr th:only-of-type {\n",
       "        vertical-align: middle;\n",
       "    }\n",
       "\n",
       "    .dataframe tbody tr th {\n",
       "        vertical-align: top;\n",
       "    }\n",
       "\n",
       "    .dataframe thead th {\n",
       "        text-align: right;\n",
       "    }\n",
       "</style>\n",
       "<table border=\"1\" class=\"dataframe\">\n",
       "  <thead>\n",
       "    <tr style=\"text-align: right;\">\n",
       "      <th></th>\n",
       "      <th>children</th>\n",
       "      <th>days_employed</th>\n",
       "      <th>dob_years</th>\n",
       "      <th>education</th>\n",
       "      <th>education_id</th>\n",
       "      <th>family_status</th>\n",
       "      <th>family_status_id</th>\n",
       "      <th>gender</th>\n",
       "      <th>income_type</th>\n",
       "      <th>income_type_id</th>\n",
       "      <th>debt</th>\n",
       "      <th>total_income</th>\n",
       "      <th>purpose_lemma</th>\n",
       "      <th>purpose_id</th>\n",
       "      <th>age_group</th>\n",
       "      <th>income_group</th>\n",
       "    </tr>\n",
       "  </thead>\n",
       "  <tbody>\n",
       "    <tr>\n",
       "      <td>0</td>\n",
       "      <td>1</td>\n",
       "      <td>8437</td>\n",
       "      <td>42.0</td>\n",
       "      <td>высшее</td>\n",
       "      <td>0</td>\n",
       "      <td>женат / замужем</td>\n",
       "      <td>0</td>\n",
       "      <td>f</td>\n",
       "      <td>сотрудник</td>\n",
       "      <td>2</td>\n",
       "      <td>0</td>\n",
       "      <td>253875</td>\n",
       "      <td>недвижимость</td>\n",
       "      <td>0</td>\n",
       "      <td>взрослые</td>\n",
       "      <td>высокий</td>\n",
       "    </tr>\n",
       "    <tr>\n",
       "      <td>1</td>\n",
       "      <td>1</td>\n",
       "      <td>4024</td>\n",
       "      <td>36.0</td>\n",
       "      <td>среднее</td>\n",
       "      <td>1</td>\n",
       "      <td>женат / замужем</td>\n",
       "      <td>0</td>\n",
       "      <td>f</td>\n",
       "      <td>сотрудник</td>\n",
       "      <td>2</td>\n",
       "      <td>0</td>\n",
       "      <td>112080</td>\n",
       "      <td>автомобиль</td>\n",
       "      <td>2</td>\n",
       "      <td>взрослые</td>\n",
       "      <td>средний</td>\n",
       "    </tr>\n",
       "    <tr>\n",
       "      <td>2</td>\n",
       "      <td>0</td>\n",
       "      <td>5623</td>\n",
       "      <td>33.0</td>\n",
       "      <td>среднее</td>\n",
       "      <td>1</td>\n",
       "      <td>женат / замужем</td>\n",
       "      <td>0</td>\n",
       "      <td>m</td>\n",
       "      <td>сотрудник</td>\n",
       "      <td>2</td>\n",
       "      <td>0</td>\n",
       "      <td>145885</td>\n",
       "      <td>недвижимость</td>\n",
       "      <td>0</td>\n",
       "      <td>взрослые</td>\n",
       "      <td>выше среднего</td>\n",
       "    </tr>\n",
       "    <tr>\n",
       "      <td>3</td>\n",
       "      <td>3</td>\n",
       "      <td>4124</td>\n",
       "      <td>32.0</td>\n",
       "      <td>среднее</td>\n",
       "      <td>1</td>\n",
       "      <td>женат / замужем</td>\n",
       "      <td>0</td>\n",
       "      <td>m</td>\n",
       "      <td>сотрудник</td>\n",
       "      <td>2</td>\n",
       "      <td>0</td>\n",
       "      <td>267628</td>\n",
       "      <td>образование</td>\n",
       "      <td>1</td>\n",
       "      <td>взрослые</td>\n",
       "      <td>высокий</td>\n",
       "    </tr>\n",
       "    <tr>\n",
       "      <td>4</td>\n",
       "      <td>0</td>\n",
       "      <td>14177</td>\n",
       "      <td>53.0</td>\n",
       "      <td>среднее</td>\n",
       "      <td>1</td>\n",
       "      <td>гражданский брак</td>\n",
       "      <td>1</td>\n",
       "      <td>f</td>\n",
       "      <td>пенсионер</td>\n",
       "      <td>7</td>\n",
       "      <td>0</td>\n",
       "      <td>158616</td>\n",
       "      <td>свадьба</td>\n",
       "      <td>3</td>\n",
       "      <td>взрослые</td>\n",
       "      <td>выше среднего</td>\n",
       "    </tr>\n",
       "  </tbody>\n",
       "</table>\n",
       "</div>"
      ],
      "text/plain": [
       "   children  days_employed  dob_years education  education_id  \\\n",
       "0         1           8437       42.0    высшее             0   \n",
       "1         1           4024       36.0   среднее             1   \n",
       "2         0           5623       33.0   среднее             1   \n",
       "3         3           4124       32.0   среднее             1   \n",
       "4         0          14177       53.0   среднее             1   \n",
       "\n",
       "      family_status  family_status_id gender income_type  income_type_id  \\\n",
       "0   женат / замужем                 0      f   сотрудник               2   \n",
       "1   женат / замужем                 0      f   сотрудник               2   \n",
       "2   женат / замужем                 0      m   сотрудник               2   \n",
       "3   женат / замужем                 0      m   сотрудник               2   \n",
       "4  гражданский брак                 1      f   пенсионер               7   \n",
       "\n",
       "   debt  total_income purpose_lemma  purpose_id age_group   income_group  \n",
       "0     0        253875  недвижимость           0  взрослые        высокий  \n",
       "1     0        112080    автомобиль           2  взрослые        средний  \n",
       "2     0        145885  недвижимость           0  взрослые  выше среднего  \n",
       "3     0        267628   образование           1  взрослые        высокий  \n",
       "4     0        158616       свадьба           3  взрослые  выше среднего  "
      ]
     },
     "execution_count": 68,
     "metadata": {},
     "output_type": "execute_result"
    }
   ],
   "source": [
    "df.head()"
   ]
  },
  {
   "cell_type": "markdown",
   "metadata": {},
   "source": [
    "## Анализ данных"
   ]
  },
  {
   "cell_type": "markdown",
   "metadata": {},
   "source": [
    "В данном пункте попытаемся выяснить, какие факторы влияют на возврат кредита в срок."
   ]
  },
  {
   "cell_type": "markdown",
   "metadata": {},
   "source": [
    " - Определим, есть ли зависимость между наличием детей и возвратом кредита в срок."
   ]
  },
  {
   "cell_type": "code",
   "execution_count": 69,
   "metadata": {},
   "outputs": [],
   "source": [
    "def pivot_table(category):\n",
    "    '''\n",
    "    Данная функция строит сводную таблицу по интересующему нас столбцу.\n",
    "    Цель - оценка влияния фактора на факт возврата кредита в срок.\n",
    "    На выходе получаем процент должников, суммарное число клиентов в групе и абсолютное число должников.\n",
    "    '''\n",
    "    table = df.pivot_table(index = category, values = 'debt', aggfunc = ['mean', 'count'])\n",
    "    table['clients_with_debts'] = table['mean']['debt'] * table['count']['debt']\n",
    "    display(table)"
   ]
  },
  {
   "cell_type": "code",
   "execution_count": 72,
   "metadata": {},
   "outputs": [
    {
     "data": {
      "text/html": [
       "<div>\n",
       "<style scoped>\n",
       "    .dataframe tbody tr th:only-of-type {\n",
       "        vertical-align: middle;\n",
       "    }\n",
       "\n",
       "    .dataframe tbody tr th {\n",
       "        vertical-align: top;\n",
       "    }\n",
       "\n",
       "    .dataframe thead tr th {\n",
       "        text-align: left;\n",
       "    }\n",
       "\n",
       "    .dataframe thead tr:last-of-type th {\n",
       "        text-align: right;\n",
       "    }\n",
       "</style>\n",
       "<table border=\"1\" class=\"dataframe\">\n",
       "  <thead>\n",
       "    <tr>\n",
       "      <th></th>\n",
       "      <th>mean</th>\n",
       "      <th>count</th>\n",
       "      <th>clients_with_debts</th>\n",
       "    </tr>\n",
       "    <tr>\n",
       "      <th></th>\n",
       "      <th>debt</th>\n",
       "      <th>debt</th>\n",
       "      <th></th>\n",
       "    </tr>\n",
       "    <tr>\n",
       "      <th>children_status</th>\n",
       "      <th></th>\n",
       "      <th></th>\n",
       "      <th></th>\n",
       "    </tr>\n",
       "  </thead>\n",
       "  <tbody>\n",
       "    <tr>\n",
       "      <td>есть дети</td>\n",
       "      <td>0.092082</td>\n",
       "      <td>7363</td>\n",
       "      <td>678.0</td>\n",
       "    </tr>\n",
       "    <tr>\n",
       "      <td>нет детей</td>\n",
       "      <td>0.075438</td>\n",
       "      <td>14091</td>\n",
       "      <td>1063.0</td>\n",
       "    </tr>\n",
       "  </tbody>\n",
       "</table>\n",
       "</div>"
      ],
      "text/plain": [
       "                     mean  count clients_with_debts\n",
       "                     debt   debt                   \n",
       "children_status                                    \n",
       "есть дети        0.092082   7363              678.0\n",
       "нет детей        0.075438  14091             1063.0"
      ]
     },
     "metadata": {},
     "output_type": "display_data"
    }
   ],
   "source": [
    "pivot_table('children_status')"
   ]
  },
  {
   "cell_type": "markdown",
   "metadata": {},
   "source": [
    "Первый столбец показывает процент невозвращенных кредитов, второй столбец - количество клиентов в каждой группе, а третий столбец - количество клиентов в каждой группе, которые имеют задолженность."
   ]
  },
  {
   "cell_type": "markdown",
   "metadata": {},
   "source": [
    "Клиенты без детей более вероятно возвращают кредит в срок."
   ]
  },
  {
   "cell_type": "code",
   "execution_count": 73,
   "metadata": {
    "scrolled": false
   },
   "outputs": [
    {
     "data": {
      "text/html": [
       "<div>\n",
       "<style scoped>\n",
       "    .dataframe tbody tr th:only-of-type {\n",
       "        vertical-align: middle;\n",
       "    }\n",
       "\n",
       "    .dataframe tbody tr th {\n",
       "        vertical-align: top;\n",
       "    }\n",
       "\n",
       "    .dataframe thead tr th {\n",
       "        text-align: left;\n",
       "    }\n",
       "\n",
       "    .dataframe thead tr:last-of-type th {\n",
       "        text-align: right;\n",
       "    }\n",
       "</style>\n",
       "<table border=\"1\" class=\"dataframe\">\n",
       "  <thead>\n",
       "    <tr>\n",
       "      <th></th>\n",
       "      <th>mean</th>\n",
       "      <th>count</th>\n",
       "      <th>clients_with_debts</th>\n",
       "    </tr>\n",
       "    <tr>\n",
       "      <th></th>\n",
       "      <th>debt</th>\n",
       "      <th>debt</th>\n",
       "      <th></th>\n",
       "    </tr>\n",
       "    <tr>\n",
       "      <th>children</th>\n",
       "      <th></th>\n",
       "      <th></th>\n",
       "      <th></th>\n",
       "    </tr>\n",
       "  </thead>\n",
       "  <tbody>\n",
       "    <tr>\n",
       "      <td>0</td>\n",
       "      <td>0.075438</td>\n",
       "      <td>14091</td>\n",
       "      <td>1063.0</td>\n",
       "    </tr>\n",
       "    <tr>\n",
       "      <td>1</td>\n",
       "      <td>0.091658</td>\n",
       "      <td>4855</td>\n",
       "      <td>445.0</td>\n",
       "    </tr>\n",
       "    <tr>\n",
       "      <td>2</td>\n",
       "      <td>0.094925</td>\n",
       "      <td>2128</td>\n",
       "      <td>202.0</td>\n",
       "    </tr>\n",
       "    <tr>\n",
       "      <td>3</td>\n",
       "      <td>0.081818</td>\n",
       "      <td>330</td>\n",
       "      <td>27.0</td>\n",
       "    </tr>\n",
       "    <tr>\n",
       "      <td>4</td>\n",
       "      <td>0.097561</td>\n",
       "      <td>41</td>\n",
       "      <td>4.0</td>\n",
       "    </tr>\n",
       "    <tr>\n",
       "      <td>5</td>\n",
       "      <td>0.000000</td>\n",
       "      <td>9</td>\n",
       "      <td>0.0</td>\n",
       "    </tr>\n",
       "  </tbody>\n",
       "</table>\n",
       "</div>"
      ],
      "text/plain": [
       "              mean  count clients_with_debts\n",
       "              debt   debt                   \n",
       "children                                    \n",
       "0         0.075438  14091             1063.0\n",
       "1         0.091658   4855              445.0\n",
       "2         0.094925   2128              202.0\n",
       "3         0.081818    330               27.0\n",
       "4         0.097561     41                4.0\n",
       "5         0.000000      9                0.0"
      ]
     },
     "metadata": {},
     "output_type": "display_data"
    }
   ],
   "source": [
    "pivot_table('children')"
   ]
  },
  {
   "cell_type": "markdown",
   "metadata": {},
   "source": [
    "Первый столбец показывает процент невозвращенных кредитов, второй столбец - количество клиентов в каждой группе, а третий столбец - количество клиентов в каждой группе, которые имеют задолженность."
   ]
  },
  {
   "cell_type": "markdown",
   "metadata": {},
   "source": [
    "Чем больше детей, чем выше вероятность невозвращения в срок. \n",
    "Стоит отметить, что клиенты с тремя детьми выбиваются из общего ряда. Это может быть связано с размером выборки.\n",
    "Лишь небольшое количество клиентов (380) имеют 3 и более детей. Этой информации может быть недостаточно для окончательной оценки."
   ]
  },
  {
   "cell_type": "markdown",
   "metadata": {},
   "source": [
    "**Вывод**"
   ]
  },
  {
   "cell_type": "markdown",
   "metadata": {},
   "source": [
    "1. Существует зависимость между наличием детей и возвратом кредита в срок. Бездетные клиенты чаще возвращают кредит. 7.5% бездетных клиентов имеют долг, для клиентов с 1 или 2 детьми это значение превышает 9%.\n",
    "2. Количество клиентов с 3 и более детьми на порядок меньше, чем клиентов с 1 или 2 детьми, следовательно эти данные могут быть нерепрезентативными, поэтому сделать однозначные выводы по этим категориям сложно"
   ]
  },
  {
   "cell_type": "markdown",
   "metadata": {},
   "source": [
    "- Определим, есть ли зависимость между семейным положением и возвратом кредита в срок."
   ]
  },
  {
   "cell_type": "code",
   "execution_count": 74,
   "metadata": {},
   "outputs": [
    {
     "data": {
      "text/html": [
       "<div>\n",
       "<style scoped>\n",
       "    .dataframe tbody tr th:only-of-type {\n",
       "        vertical-align: middle;\n",
       "    }\n",
       "\n",
       "    .dataframe tbody tr th {\n",
       "        vertical-align: top;\n",
       "    }\n",
       "\n",
       "    .dataframe thead tr th {\n",
       "        text-align: left;\n",
       "    }\n",
       "\n",
       "    .dataframe thead tr:last-of-type th {\n",
       "        text-align: right;\n",
       "    }\n",
       "</style>\n",
       "<table border=\"1\" class=\"dataframe\">\n",
       "  <thead>\n",
       "    <tr>\n",
       "      <th></th>\n",
       "      <th>mean</th>\n",
       "      <th>count</th>\n",
       "      <th>clients_with_debts</th>\n",
       "    </tr>\n",
       "    <tr>\n",
       "      <th></th>\n",
       "      <th>debt</th>\n",
       "      <th>debt</th>\n",
       "      <th></th>\n",
       "    </tr>\n",
       "    <tr>\n",
       "      <th>family_status</th>\n",
       "      <th></th>\n",
       "      <th></th>\n",
       "      <th></th>\n",
       "    </tr>\n",
       "  </thead>\n",
       "  <tbody>\n",
       "    <tr>\n",
       "      <td>в разводе</td>\n",
       "      <td>0.071130</td>\n",
       "      <td>1195</td>\n",
       "      <td>85.0</td>\n",
       "    </tr>\n",
       "    <tr>\n",
       "      <td>вдовец / вдова</td>\n",
       "      <td>0.065693</td>\n",
       "      <td>959</td>\n",
       "      <td>63.0</td>\n",
       "    </tr>\n",
       "    <tr>\n",
       "      <td>гражданский брак</td>\n",
       "      <td>0.093471</td>\n",
       "      <td>4151</td>\n",
       "      <td>388.0</td>\n",
       "    </tr>\n",
       "    <tr>\n",
       "      <td>женат / замужем</td>\n",
       "      <td>0.075452</td>\n",
       "      <td>12339</td>\n",
       "      <td>931.0</td>\n",
       "    </tr>\n",
       "    <tr>\n",
       "      <td>не женат / не замужем</td>\n",
       "      <td>0.097509</td>\n",
       "      <td>2810</td>\n",
       "      <td>274.0</td>\n",
       "    </tr>\n",
       "  </tbody>\n",
       "</table>\n",
       "</div>"
      ],
      "text/plain": [
       "                           mean  count clients_with_debts\n",
       "                           debt   debt                   \n",
       "family_status                                            \n",
       "в разводе              0.071130   1195               85.0\n",
       "вдовец / вдова         0.065693    959               63.0\n",
       "гражданский брак       0.093471   4151              388.0\n",
       "женат / замужем        0.075452  12339              931.0\n",
       "не женат / не замужем  0.097509   2810              274.0"
      ]
     },
     "metadata": {},
     "output_type": "display_data"
    }
   ],
   "source": [
    "pivot_table('family_status')"
   ]
  },
  {
   "cell_type": "markdown",
   "metadata": {},
   "source": [
    "Первый столбец показывает процент невозвращенных кредитов, второй столбец - количество клиентов в каждой группе, а третий столбец - количество клиентов в каждой группе, которые имеют задолженность."
   ]
  },
  {
   "cell_type": "markdown",
   "metadata": {},
   "source": [
    "Прослеживается зависимость между семейным положеним и возвратом кредита в срок. Одинокие клиенты и клиенты, состоящие в гражданском браке не возвращают кредит в более, чем 9% случаев. Для остальных групп это значение меньше на несколько процентов."
   ]
  },
  {
   "cell_type": "markdown",
   "metadata": {},
   "source": [
    "Составим сводную таблицу, показывающую влияние количества детей и семейного статуса на возвращение кредита в срок. \n",
    "Также добавим сводную таблицу с количество клиентов в каждой группе."
   ]
  },
  {
   "cell_type": "code",
   "execution_count": 75,
   "metadata": {},
   "outputs": [
    {
     "data": {
      "text/html": [
       "<div>\n",
       "<style scoped>\n",
       "    .dataframe tbody tr th:only-of-type {\n",
       "        vertical-align: middle;\n",
       "    }\n",
       "\n",
       "    .dataframe tbody tr th {\n",
       "        vertical-align: top;\n",
       "    }\n",
       "\n",
       "    .dataframe thead th {\n",
       "        text-align: right;\n",
       "    }\n",
       "</style>\n",
       "<table border=\"1\" class=\"dataframe\">\n",
       "  <thead>\n",
       "    <tr style=\"text-align: right;\">\n",
       "      <th>children</th>\n",
       "      <th>0</th>\n",
       "      <th>1</th>\n",
       "      <th>2</th>\n",
       "      <th>3</th>\n",
       "      <th>4</th>\n",
       "      <th>5</th>\n",
       "    </tr>\n",
       "    <tr>\n",
       "      <th>family_status</th>\n",
       "      <th></th>\n",
       "      <th></th>\n",
       "      <th></th>\n",
       "      <th></th>\n",
       "      <th></th>\n",
       "      <th></th>\n",
       "    </tr>\n",
       "  </thead>\n",
       "  <tbody>\n",
       "    <tr>\n",
       "      <td>в разводе</td>\n",
       "      <td>0.070153</td>\n",
       "      <td>0.066456</td>\n",
       "      <td>0.096386</td>\n",
       "      <td>0.090909</td>\n",
       "      <td>0.000000</td>\n",
       "      <td>NaN</td>\n",
       "    </tr>\n",
       "    <tr>\n",
       "      <td>вдовец / вдова</td>\n",
       "      <td>0.062574</td>\n",
       "      <td>0.086420</td>\n",
       "      <td>0.125000</td>\n",
       "      <td>0.000000</td>\n",
       "      <td>0.000000</td>\n",
       "      <td>NaN</td>\n",
       "    </tr>\n",
       "    <tr>\n",
       "      <td>гражданский брак</td>\n",
       "      <td>0.083883</td>\n",
       "      <td>0.118000</td>\n",
       "      <td>0.092958</td>\n",
       "      <td>0.142857</td>\n",
       "      <td>0.000000</td>\n",
       "      <td>0.0</td>\n",
       "    </tr>\n",
       "    <tr>\n",
       "      <td>женат / замужем</td>\n",
       "      <td>0.069095</td>\n",
       "      <td>0.082224</td>\n",
       "      <td>0.093552</td>\n",
       "      <td>0.068273</td>\n",
       "      <td>0.103448</td>\n",
       "      <td>0.0</td>\n",
       "    </tr>\n",
       "    <tr>\n",
       "      <td>не женат / не замужем</td>\n",
       "      <td>0.092838</td>\n",
       "      <td>0.114537</td>\n",
       "      <td>0.119048</td>\n",
       "      <td>0.125000</td>\n",
       "      <td>0.500000</td>\n",
       "      <td>NaN</td>\n",
       "    </tr>\n",
       "  </tbody>\n",
       "</table>\n",
       "</div>"
      ],
      "text/plain": [
       "children                      0         1         2         3         4    5\n",
       "family_status                                                               \n",
       "в разводе              0.070153  0.066456  0.096386  0.090909  0.000000  NaN\n",
       "вдовец / вдова         0.062574  0.086420  0.125000  0.000000  0.000000  NaN\n",
       "гражданский брак       0.083883  0.118000  0.092958  0.142857  0.000000  0.0\n",
       "женат / замужем        0.069095  0.082224  0.093552  0.068273  0.103448  0.0\n",
       "не женат / не замужем  0.092838  0.114537  0.119048  0.125000  0.500000  NaN"
      ]
     },
     "execution_count": 75,
     "metadata": {},
     "output_type": "execute_result"
    }
   ],
   "source": [
    "df.pivot_table(index = 'family_status', columns = 'children', values = 'debt', aggfunc = 'mean')"
   ]
  },
  {
   "cell_type": "code",
   "execution_count": 76,
   "metadata": {},
   "outputs": [
    {
     "data": {
      "text/html": [
       "<div>\n",
       "<style scoped>\n",
       "    .dataframe tbody tr th:only-of-type {\n",
       "        vertical-align: middle;\n",
       "    }\n",
       "\n",
       "    .dataframe tbody tr th {\n",
       "        vertical-align: top;\n",
       "    }\n",
       "\n",
       "    .dataframe thead th {\n",
       "        text-align: right;\n",
       "    }\n",
       "</style>\n",
       "<table border=\"1\" class=\"dataframe\">\n",
       "  <thead>\n",
       "    <tr style=\"text-align: right;\">\n",
       "      <th>children</th>\n",
       "      <th>0</th>\n",
       "      <th>1</th>\n",
       "      <th>2</th>\n",
       "      <th>3</th>\n",
       "      <th>4</th>\n",
       "      <th>5</th>\n",
       "    </tr>\n",
       "    <tr>\n",
       "      <th>family_status</th>\n",
       "      <th></th>\n",
       "      <th></th>\n",
       "      <th></th>\n",
       "      <th></th>\n",
       "      <th></th>\n",
       "      <th></th>\n",
       "    </tr>\n",
       "  </thead>\n",
       "  <tbody>\n",
       "    <tr>\n",
       "      <td>в разводе</td>\n",
       "      <td>784.0</td>\n",
       "      <td>316.0</td>\n",
       "      <td>83.0</td>\n",
       "      <td>11.0</td>\n",
       "      <td>1.0</td>\n",
       "      <td>NaN</td>\n",
       "    </tr>\n",
       "    <tr>\n",
       "      <td>вдовец / вдова</td>\n",
       "      <td>847.0</td>\n",
       "      <td>81.0</td>\n",
       "      <td>24.0</td>\n",
       "      <td>6.0</td>\n",
       "      <td>1.0</td>\n",
       "      <td>NaN</td>\n",
       "    </tr>\n",
       "    <tr>\n",
       "      <td>гражданский брак</td>\n",
       "      <td>2730.0</td>\n",
       "      <td>1000.0</td>\n",
       "      <td>355.0</td>\n",
       "      <td>56.0</td>\n",
       "      <td>8.0</td>\n",
       "      <td>2.0</td>\n",
       "    </tr>\n",
       "    <tr>\n",
       "      <td>женат / замужем</td>\n",
       "      <td>7468.0</td>\n",
       "      <td>3004.0</td>\n",
       "      <td>1582.0</td>\n",
       "      <td>249.0</td>\n",
       "      <td>29.0</td>\n",
       "      <td>7.0</td>\n",
       "    </tr>\n",
       "    <tr>\n",
       "      <td>не женат / не замужем</td>\n",
       "      <td>2262.0</td>\n",
       "      <td>454.0</td>\n",
       "      <td>84.0</td>\n",
       "      <td>8.0</td>\n",
       "      <td>2.0</td>\n",
       "      <td>NaN</td>\n",
       "    </tr>\n",
       "  </tbody>\n",
       "</table>\n",
       "</div>"
      ],
      "text/plain": [
       "children                    0       1       2      3     4    5\n",
       "family_status                                                  \n",
       "в разводе               784.0   316.0    83.0   11.0   1.0  NaN\n",
       "вдовец / вдова          847.0    81.0    24.0    6.0   1.0  NaN\n",
       "гражданский брак       2730.0  1000.0   355.0   56.0   8.0  2.0\n",
       "женат / замужем        7468.0  3004.0  1582.0  249.0  29.0  7.0\n",
       "не женат / не замужем  2262.0   454.0    84.0    8.0   2.0  NaN"
      ]
     },
     "execution_count": 76,
     "metadata": {},
     "output_type": "execute_result"
    }
   ],
   "source": [
    "df.pivot_table(index = 'family_status', columns = 'children', values = 'debt', aggfunc = 'count')"
   ]
  },
  {
   "cell_type": "markdown",
   "metadata": {},
   "source": [
    "Видно, что наибольшую вероятность не вернуть кредит в срок имеют одинокие клиенты с 1 или 2 детьми, клиенты, состоящие в гражданском браке, с 1 ребенком и вдовцы/вдовы с 2 детьми. Свыше 11% клиентов имеют задолженность. \n",
    "В целом по таблице просматривается тенденция к росту вероятности невозвращения кредит в срок с увеличением количества детей.\n",
    "Стоит отметить, что некоторые группы значительно меньше других, что может стать причиной непрезентативности данных. "
   ]
  },
  {
   "cell_type": "markdown",
   "metadata": {},
   "source": [
    "**Вывод**"
   ]
  },
  {
   "cell_type": "markdown",
   "metadata": {},
   "source": [
    "1. Существует зависимость между семейным положением и возвратом кредита в срок.\n",
    "2. Клиенты, состоящие или состоявшие в официальном браке имеют меньше задолженностей чем одинокие клиенты и клиенты в гражданском браке.\n",
    "3. Наличие детей увеличивает шанс невозврата для всех групп семейного статуса."
   ]
  },
  {
   "cell_type": "markdown",
   "metadata": {},
   "source": [
    "- Проверим, есть ли зависимость между уровнем дохода и возвратом кредита в срок."
   ]
  },
  {
   "cell_type": "code",
   "execution_count": 77,
   "metadata": {},
   "outputs": [
    {
     "data": {
      "text/html": [
       "<div>\n",
       "<style scoped>\n",
       "    .dataframe tbody tr th:only-of-type {\n",
       "        vertical-align: middle;\n",
       "    }\n",
       "\n",
       "    .dataframe tbody tr th {\n",
       "        vertical-align: top;\n",
       "    }\n",
       "\n",
       "    .dataframe thead tr th {\n",
       "        text-align: left;\n",
       "    }\n",
       "\n",
       "    .dataframe thead tr:last-of-type th {\n",
       "        text-align: right;\n",
       "    }\n",
       "</style>\n",
       "<table border=\"1\" class=\"dataframe\">\n",
       "  <thead>\n",
       "    <tr>\n",
       "      <th></th>\n",
       "      <th>mean</th>\n",
       "      <th>count</th>\n",
       "      <th>clients_with_debts</th>\n",
       "    </tr>\n",
       "    <tr>\n",
       "      <th></th>\n",
       "      <th>debt</th>\n",
       "      <th>debt</th>\n",
       "      <th></th>\n",
       "    </tr>\n",
       "    <tr>\n",
       "      <th>income_group</th>\n",
       "      <th></th>\n",
       "      <th></th>\n",
       "      <th></th>\n",
       "    </tr>\n",
       "  </thead>\n",
       "  <tbody>\n",
       "    <tr>\n",
       "      <td>высокий</td>\n",
       "      <td>0.071402</td>\n",
       "      <td>5364</td>\n",
       "      <td>383.0</td>\n",
       "    </tr>\n",
       "    <tr>\n",
       "      <td>выше среднего</td>\n",
       "      <td>0.085382</td>\n",
       "      <td>5247</td>\n",
       "      <td>448.0</td>\n",
       "    </tr>\n",
       "    <tr>\n",
       "      <td>низкий</td>\n",
       "      <td>0.079605</td>\n",
       "      <td>5364</td>\n",
       "      <td>427.0</td>\n",
       "    </tr>\n",
       "    <tr>\n",
       "      <td>средний</td>\n",
       "      <td>0.088155</td>\n",
       "      <td>5479</td>\n",
       "      <td>483.0</td>\n",
       "    </tr>\n",
       "  </tbody>\n",
       "</table>\n",
       "</div>"
      ],
      "text/plain": [
       "                   mean count clients_with_debts\n",
       "                   debt  debt                   \n",
       "income_group                                    \n",
       "высокий        0.071402  5364              383.0\n",
       "выше среднего  0.085382  5247              448.0\n",
       "низкий         0.079605  5364              427.0\n",
       "средний        0.088155  5479              483.0"
      ]
     },
     "metadata": {},
     "output_type": "display_data"
    }
   ],
   "source": [
    "pivot_table('income_group')"
   ]
  },
  {
   "cell_type": "markdown",
   "metadata": {},
   "source": [
    "Первый столбец показывает процент невозвращенных кредитов, второй столбец - количество клиентов в каждой группе, а третий столбец - количество клиентов в каждой группе, которые имеют задолженность."
   ]
  },
  {
   "cell_type": "markdown",
   "metadata": {},
   "source": [
    "**Вывод**"
   ]
  },
  {
   "cell_type": "markdown",
   "metadata": {},
   "source": [
    "1. Прослеживается зависимость между доходом и возвратом кредита в срок.\n",
    "2. Наибольшее количество должников имеют средний доход. С увеличением дохода шанс невозврата снижается. \n",
    "3. Клиенты с низким доходом имеют задолженности реже, чем клиенты со средним доходом и доходом выше среднего, но чаще, чем клиенты с высоким доходом."
   ]
  },
  {
   "cell_type": "markdown",
   "metadata": {},
   "source": [
    "- Посмотрим, как разные цели кредита влияют на его возврат в срок."
   ]
  },
  {
   "cell_type": "code",
   "execution_count": 78,
   "metadata": {},
   "outputs": [
    {
     "data": {
      "text/html": [
       "<div>\n",
       "<style scoped>\n",
       "    .dataframe tbody tr th:only-of-type {\n",
       "        vertical-align: middle;\n",
       "    }\n",
       "\n",
       "    .dataframe tbody tr th {\n",
       "        vertical-align: top;\n",
       "    }\n",
       "\n",
       "    .dataframe thead tr th {\n",
       "        text-align: left;\n",
       "    }\n",
       "\n",
       "    .dataframe thead tr:last-of-type th {\n",
       "        text-align: right;\n",
       "    }\n",
       "</style>\n",
       "<table border=\"1\" class=\"dataframe\">\n",
       "  <thead>\n",
       "    <tr>\n",
       "      <th></th>\n",
       "      <th>mean</th>\n",
       "      <th>count</th>\n",
       "      <th>clients_with_debts</th>\n",
       "    </tr>\n",
       "    <tr>\n",
       "      <th></th>\n",
       "      <th>debt</th>\n",
       "      <th>debt</th>\n",
       "      <th></th>\n",
       "    </tr>\n",
       "    <tr>\n",
       "      <th>purpose_lemma</th>\n",
       "      <th></th>\n",
       "      <th></th>\n",
       "      <th></th>\n",
       "    </tr>\n",
       "  </thead>\n",
       "  <tbody>\n",
       "    <tr>\n",
       "      <td>автомобиль</td>\n",
       "      <td>0.093590</td>\n",
       "      <td>4306</td>\n",
       "      <td>403.0</td>\n",
       "    </tr>\n",
       "    <tr>\n",
       "      <td>недвижимость</td>\n",
       "      <td>0.072334</td>\n",
       "      <td>10811</td>\n",
       "      <td>782.0</td>\n",
       "    </tr>\n",
       "    <tr>\n",
       "      <td>образование</td>\n",
       "      <td>0.092200</td>\n",
       "      <td>4013</td>\n",
       "      <td>370.0</td>\n",
       "    </tr>\n",
       "    <tr>\n",
       "      <td>свадьба</td>\n",
       "      <td>0.080034</td>\n",
       "      <td>2324</td>\n",
       "      <td>186.0</td>\n",
       "    </tr>\n",
       "  </tbody>\n",
       "</table>\n",
       "</div>"
      ],
      "text/plain": [
       "                   mean  count clients_with_debts\n",
       "                   debt   debt                   \n",
       "purpose_lemma                                    \n",
       "автомобиль     0.093590   4306              403.0\n",
       "недвижимость   0.072334  10811              782.0\n",
       "образование    0.092200   4013              370.0\n",
       "свадьба        0.080034   2324              186.0"
      ]
     },
     "metadata": {},
     "output_type": "display_data"
    }
   ],
   "source": [
    "pivot_table('purpose_lemma')"
   ]
  },
  {
   "cell_type": "markdown",
   "metadata": {},
   "source": [
    "Первый столбец показывает процент невозвращенных кредитов, второй столбец - количество клиентов в каждой группе, а третий столбец - количество клиентов в каждой группе, которые имеют задолженность."
   ]
  },
  {
   "cell_type": "markdown",
   "metadata": {},
   "source": [
    "Составим сводную таблицу, показывающую влияние группы дохода и цели кредита на возвращение кредита в срок. Также добавим сводную таблицу с количество клиентов в каждой группе."
   ]
  },
  {
   "cell_type": "code",
   "execution_count": 79,
   "metadata": {
    "scrolled": true
   },
   "outputs": [
    {
     "data": {
      "text/html": [
       "<div>\n",
       "<style scoped>\n",
       "    .dataframe tbody tr th:only-of-type {\n",
       "        vertical-align: middle;\n",
       "    }\n",
       "\n",
       "    .dataframe tbody tr th {\n",
       "        vertical-align: top;\n",
       "    }\n",
       "\n",
       "    .dataframe thead th {\n",
       "        text-align: right;\n",
       "    }\n",
       "</style>\n",
       "<table border=\"1\" class=\"dataframe\">\n",
       "  <thead>\n",
       "    <tr style=\"text-align: right;\">\n",
       "      <th>purpose_lemma</th>\n",
       "      <th>автомобиль</th>\n",
       "      <th>недвижимость</th>\n",
       "      <th>образование</th>\n",
       "      <th>свадьба</th>\n",
       "    </tr>\n",
       "    <tr>\n",
       "      <th>income_group</th>\n",
       "      <th></th>\n",
       "      <th></th>\n",
       "      <th></th>\n",
       "      <th></th>\n",
       "    </tr>\n",
       "  </thead>\n",
       "  <tbody>\n",
       "    <tr>\n",
       "      <td>высокий</td>\n",
       "      <td>0.085399</td>\n",
       "      <td>0.067514</td>\n",
       "      <td>0.079449</td>\n",
       "      <td>0.050347</td>\n",
       "    </tr>\n",
       "    <tr>\n",
       "      <td>выше среднего</td>\n",
       "      <td>0.103143</td>\n",
       "      <td>0.075712</td>\n",
       "      <td>0.093719</td>\n",
       "      <td>0.084229</td>\n",
       "    </tr>\n",
       "    <tr>\n",
       "      <td>низкий</td>\n",
       "      <td>0.096743</td>\n",
       "      <td>0.067638</td>\n",
       "      <td>0.087332</td>\n",
       "      <td>0.089701</td>\n",
       "    </tr>\n",
       "    <tr>\n",
       "      <td>средний</td>\n",
       "      <td>0.090043</td>\n",
       "      <td>0.078540</td>\n",
       "      <td>0.107422</td>\n",
       "      <td>0.095238</td>\n",
       "    </tr>\n",
       "  </tbody>\n",
       "</table>\n",
       "</div>"
      ],
      "text/plain": [
       "purpose_lemma  автомобиль  недвижимость  образование   свадьба\n",
       "income_group                                                  \n",
       "высокий          0.085399      0.067514     0.079449  0.050347\n",
       "выше среднего    0.103143      0.075712     0.093719  0.084229\n",
       "низкий           0.096743      0.067638     0.087332  0.089701\n",
       "средний          0.090043      0.078540     0.107422  0.095238"
      ]
     },
     "execution_count": 79,
     "metadata": {},
     "output_type": "execute_result"
    }
   ],
   "source": [
    "df.pivot_table(index='income_group', columns='purpose_lemma', values='debt', aggfunc='mean')"
   ]
  },
  {
   "cell_type": "code",
   "execution_count": 80,
   "metadata": {},
   "outputs": [
    {
     "data": {
      "text/html": [
       "<div>\n",
       "<style scoped>\n",
       "    .dataframe tbody tr th:only-of-type {\n",
       "        vertical-align: middle;\n",
       "    }\n",
       "\n",
       "    .dataframe tbody tr th {\n",
       "        vertical-align: top;\n",
       "    }\n",
       "\n",
       "    .dataframe thead th {\n",
       "        text-align: right;\n",
       "    }\n",
       "</style>\n",
       "<table border=\"1\" class=\"dataframe\">\n",
       "  <thead>\n",
       "    <tr style=\"text-align: right;\">\n",
       "      <th>purpose_lemma</th>\n",
       "      <th>автомобиль</th>\n",
       "      <th>недвижимость</th>\n",
       "      <th>образование</th>\n",
       "      <th>свадьба</th>\n",
       "    </tr>\n",
       "    <tr>\n",
       "      <th>income_group</th>\n",
       "      <th></th>\n",
       "      <th></th>\n",
       "      <th></th>\n",
       "      <th></th>\n",
       "    </tr>\n",
       "  </thead>\n",
       "  <tbody>\n",
       "    <tr>\n",
       "      <td>высокий</td>\n",
       "      <td>1089</td>\n",
       "      <td>2755</td>\n",
       "      <td>944</td>\n",
       "      <td>576</td>\n",
       "    </tr>\n",
       "    <tr>\n",
       "      <td>выше среднего</td>\n",
       "      <td>1018</td>\n",
       "      <td>2668</td>\n",
       "      <td>1003</td>\n",
       "      <td>558</td>\n",
       "    </tr>\n",
       "    <tr>\n",
       "      <td>низкий</td>\n",
       "      <td>1044</td>\n",
       "      <td>2676</td>\n",
       "      <td>1042</td>\n",
       "      <td>602</td>\n",
       "    </tr>\n",
       "    <tr>\n",
       "      <td>средний</td>\n",
       "      <td>1155</td>\n",
       "      <td>2712</td>\n",
       "      <td>1024</td>\n",
       "      <td>588</td>\n",
       "    </tr>\n",
       "  </tbody>\n",
       "</table>\n",
       "</div>"
      ],
      "text/plain": [
       "purpose_lemma  автомобиль  недвижимость  образование  свадьба\n",
       "income_group                                                 \n",
       "высокий              1089          2755          944      576\n",
       "выше среднего        1018          2668         1003      558\n",
       "низкий               1044          2676         1042      602\n",
       "средний              1155          2712         1024      588"
      ]
     },
     "execution_count": 80,
     "metadata": {},
     "output_type": "execute_result"
    }
   ],
   "source": [
    "df.pivot_table(index='income_group', columns='purpose_lemma', values='debt', aggfunc='count')"
   ]
  },
  {
   "cell_type": "markdown",
   "metadata": {},
   "source": [
    "**Вывод**"
   ]
  },
  {
   "cell_type": "markdown",
   "metadata": {},
   "source": [
    "1. Кредиты, связанные с недвижимостью, возвращаются чаще всего. Количество невозвратов 7.2%.\n",
    "2. Наибольшее число невозвратов связано с кредитами на автомобиль или образование, свыше 9% кредитов не было возвращено.\n",
    "3. Данные зависимости характерны для всех категорий дохода. Только низкой количество задолженностей (около 5%) для клиентов с высоких доходом, берущим кредит на свадьбу, выбивается из общего ряда."
   ]
  },
  {
   "cell_type": "markdown",
   "metadata": {},
   "source": [
    "## Общий вывод"
   ]
  },
  {
   "cell_type": "markdown",
   "metadata": {},
   "source": [
    "1. В данной работе исследовался набор данных о платежеспособности клиентов банка. Изначально набор данных содержал 21525 строк и 12 столбцов.\n",
    "2. На стадии предобработки данных было выполнено следующее:\n",
    "    1. Заполнены пропуски.\n",
    "    2. Обработаны явные и неявные дубликаты.\n",
    "    3. Обнаружена ошибка с записью трудового стажа для пенсионеров и безработных. \n",
    "    4. Проведена категоризация клиентов по возрасту, доходу и цели кредита.\n",
    "3. Данные позволили сделать следующие выводы о влиянии разных параметров на факт возврата кредита:\n",
    "    1. Клиенты без детей реже имеют задолженности: 7.5% против 9.2% для клиентов с детьми.\n",
    "    2. Клиенты, состоящие или состоявшие в официальном браке имеют меньше задолженностей, чем одинокие клиенты и клиенты в гражданском браке.\n",
    "    3. Наибольшее количество должников имеют средний доход. С увеличением дохода шанс невозврата снижается.\n",
    "    4. Кредиты на недвижимость возвращаются в срок чаще всего (около 7% должников). Наибольшее число невозвратов у кредитов на автомобиль и образование - свыше 9% кредитов не было возвращено в срок."
   ]
  }
 ],
 "metadata": {
  "ExecuteTimeLog": [
   {
    "duration": 1120,
    "start_time": "2021-10-14T08:41:54.899Z"
   },
   {
    "duration": 64,
    "start_time": "2021-10-14T08:42:01.109Z"
   },
   {
    "duration": 44,
    "start_time": "2021-10-14T08:42:09.404Z"
   },
   {
    "duration": 26,
    "start_time": "2021-10-14T08:47:26.582Z"
   },
   {
    "duration": 19,
    "start_time": "2021-10-14T08:48:31.614Z"
   },
   {
    "duration": 21,
    "start_time": "2021-10-14T08:51:04.719Z"
   },
   {
    "duration": 19,
    "start_time": "2021-10-14T08:52:45.839Z"
   },
   {
    "duration": 21,
    "start_time": "2021-10-14T09:05:29.105Z"
   },
   {
    "duration": 23,
    "start_time": "2021-10-14T09:05:41.457Z"
   },
   {
    "duration": 24,
    "start_time": "2021-10-14T09:06:35.259Z"
   },
   {
    "duration": 20,
    "start_time": "2021-10-14T09:07:07.298Z"
   },
   {
    "duration": 19,
    "start_time": "2021-10-14T09:07:17.382Z"
   },
   {
    "duration": 407,
    "start_time": "2021-10-14T09:20:09.763Z"
   },
   {
    "duration": 295,
    "start_time": "2021-10-14T09:20:38.636Z"
   },
   {
    "duration": 306,
    "start_time": "2021-10-14T09:21:41.037Z"
   },
   {
    "duration": 317,
    "start_time": "2021-10-14T09:21:46.917Z"
   },
   {
    "duration": 325,
    "start_time": "2021-10-14T09:22:15.132Z"
   },
   {
    "duration": 532,
    "start_time": "2021-10-14T09:23:28.237Z"
   },
   {
    "duration": 13,
    "start_time": "2021-10-14T09:24:45.045Z"
   },
   {
    "duration": 22,
    "start_time": "2021-10-14T09:26:27.966Z"
   },
   {
    "duration": 22,
    "start_time": "2021-10-14T09:27:00.398Z"
   },
   {
    "duration": 9,
    "start_time": "2021-10-14T09:30:39.517Z"
   },
   {
    "duration": 305,
    "start_time": "2021-10-14T09:31:08.661Z"
   },
   {
    "duration": 9,
    "start_time": "2021-10-14T09:31:27.150Z"
   },
   {
    "duration": 271,
    "start_time": "2021-10-14T09:35:13.876Z"
   },
   {
    "duration": 10,
    "start_time": "2021-10-14T09:35:19.695Z"
   },
   {
    "duration": 10,
    "start_time": "2021-10-14T09:36:40.799Z"
   },
   {
    "duration": 10,
    "start_time": "2021-10-14T09:36:57.527Z"
   },
   {
    "duration": 9,
    "start_time": "2021-10-14T09:52:21.425Z"
   },
   {
    "duration": 286,
    "start_time": "2021-10-14T09:54:14.331Z"
   },
   {
    "duration": 12,
    "start_time": "2021-10-14T09:54:17.667Z"
   },
   {
    "duration": 11,
    "start_time": "2021-10-14T09:54:29.450Z"
   },
   {
    "duration": 10,
    "start_time": "2021-10-14T09:54:37.539Z"
   },
   {
    "duration": 11,
    "start_time": "2021-10-14T09:54:39.098Z"
   },
   {
    "duration": 117,
    "start_time": "2021-10-14T09:55:45.988Z"
   },
   {
    "duration": 6918,
    "start_time": "2021-10-14T09:55:54.147Z"
   },
   {
    "duration": 320,
    "start_time": "2021-10-14T09:56:11.099Z"
   },
   {
    "duration": 313,
    "start_time": "2021-10-14T09:56:20.115Z"
   },
   {
    "duration": 316,
    "start_time": "2021-10-14T09:59:24.915Z"
   },
   {
    "duration": 311,
    "start_time": "2021-10-14T10:00:06.204Z"
   },
   {
    "duration": 333,
    "start_time": "2021-10-14T10:05:19.851Z"
   },
   {
    "duration": 314,
    "start_time": "2021-10-14T10:05:27.261Z"
   },
   {
    "duration": 203,
    "start_time": "2021-10-14T14:29:15.414Z"
   },
   {
    "duration": 1415,
    "start_time": "2021-10-14T14:29:20.690Z"
   },
   {
    "duration": 20,
    "start_time": "2021-10-14T14:29:22.106Z"
   },
   {
    "duration": 14,
    "start_time": "2021-10-14T14:29:24.427Z"
   },
   {
    "duration": 10,
    "start_time": "2021-10-14T14:29:26.386Z"
   },
   {
    "duration": 10,
    "start_time": "2021-10-14T14:29:30.010Z"
   },
   {
    "duration": 7,
    "start_time": "2021-10-14T14:29:32.514Z"
   },
   {
    "duration": 7,
    "start_time": "2021-10-14T14:29:34.865Z"
   },
   {
    "duration": 8,
    "start_time": "2021-10-14T14:29:35.866Z"
   },
   {
    "duration": 256,
    "start_time": "2021-10-14T14:29:37.458Z"
   },
   {
    "duration": 170,
    "start_time": "2021-10-14T14:29:39.122Z"
   },
   {
    "duration": 5,
    "start_time": "2021-10-14T14:29:41.794Z"
   },
   {
    "duration": 4301,
    "start_time": "2021-10-14T14:37:24.396Z"
   },
   {
    "duration": 895,
    "start_time": "2021-10-14T14:37:45.284Z"
   },
   {
    "duration": 5,
    "start_time": "2021-10-14T14:38:38.476Z"
   },
   {
    "duration": 9,
    "start_time": "2021-10-14T14:39:10.340Z"
   },
   {
    "duration": 10,
    "start_time": "2021-10-14T14:39:38.699Z"
   },
   {
    "duration": 115,
    "start_time": "2021-10-14T14:46:51.819Z"
   },
   {
    "duration": 16,
    "start_time": "2021-10-14T14:47:01.749Z"
   },
   {
    "duration": 16,
    "start_time": "2021-10-14T14:47:19.533Z"
   },
   {
    "duration": 48,
    "start_time": "2021-10-14T14:47:27.077Z"
   },
   {
    "duration": 14,
    "start_time": "2021-10-14T14:47:28.798Z"
   },
   {
    "duration": 13,
    "start_time": "2021-10-14T14:47:33.349Z"
   },
   {
    "duration": 11,
    "start_time": "2021-10-14T14:47:35.085Z"
   },
   {
    "duration": 9,
    "start_time": "2021-10-14T14:47:37.813Z"
   },
   {
    "duration": 7,
    "start_time": "2021-10-14T14:47:40.165Z"
   },
   {
    "duration": 7,
    "start_time": "2021-10-14T14:47:42.518Z"
   },
   {
    "duration": 7,
    "start_time": "2021-10-14T14:47:43.733Z"
   },
   {
    "duration": 190,
    "start_time": "2021-10-14T14:47:46.149Z"
   },
   {
    "duration": 220,
    "start_time": "2021-10-14T14:47:47.645Z"
   },
   {
    "duration": 117,
    "start_time": "2021-10-14T14:47:50.989Z"
   },
   {
    "duration": 14,
    "start_time": "2021-10-14T14:47:53.086Z"
   },
   {
    "duration": 7,
    "start_time": "2021-10-14T14:49:32.997Z"
   },
   {
    "duration": 6,
    "start_time": "2021-10-14T14:50:59.550Z"
   },
   {
    "duration": 47,
    "start_time": "2021-10-14T14:51:12.190Z"
   },
   {
    "duration": 16,
    "start_time": "2021-10-14T14:51:13.268Z"
   },
   {
    "duration": 13,
    "start_time": "2021-10-14T14:51:20.238Z"
   },
   {
    "duration": 12,
    "start_time": "2021-10-14T14:51:22.015Z"
   },
   {
    "duration": 11,
    "start_time": "2021-10-14T14:51:24.094Z"
   },
   {
    "duration": 9,
    "start_time": "2021-10-14T14:51:27.214Z"
   },
   {
    "duration": 6,
    "start_time": "2021-10-14T14:51:29.670Z"
   },
   {
    "duration": 6,
    "start_time": "2021-10-14T14:51:31.918Z"
   },
   {
    "duration": 7,
    "start_time": "2021-10-14T14:51:40.238Z"
   },
   {
    "duration": 7,
    "start_time": "2021-10-14T14:51:40.846Z"
   },
   {
    "duration": 186,
    "start_time": "2021-10-14T14:51:42.862Z"
   },
   {
    "duration": 186,
    "start_time": "2021-10-14T14:51:44.534Z"
   },
   {
    "duration": 119,
    "start_time": "2021-10-14T14:51:46.902Z"
   },
   {
    "duration": 10,
    "start_time": "2021-10-14T14:51:57.775Z"
   },
   {
    "duration": 3,
    "start_time": "2021-10-14T14:52:18.430Z"
   },
   {
    "duration": 6,
    "start_time": "2021-10-14T14:52:22.430Z"
   },
   {
    "duration": 12,
    "start_time": "2021-10-14T14:52:58.358Z"
   },
   {
    "duration": 8,
    "start_time": "2021-10-14T14:53:31.638Z"
   },
   {
    "duration": 13,
    "start_time": "2021-10-14T14:54:25.126Z"
   },
   {
    "duration": 7,
    "start_time": "2021-10-14T14:54:58.038Z"
   },
   {
    "duration": 6,
    "start_time": "2021-10-14T14:55:14.550Z"
   },
   {
    "duration": 48,
    "start_time": "2021-10-14T14:56:24.527Z"
   },
   {
    "duration": 13,
    "start_time": "2021-10-14T14:56:25.493Z"
   },
   {
    "duration": 14,
    "start_time": "2021-10-14T14:56:28.791Z"
   },
   {
    "duration": 11,
    "start_time": "2021-10-14T14:56:30.502Z"
   },
   {
    "duration": 9,
    "start_time": "2021-10-14T14:56:33.559Z"
   },
   {
    "duration": 7,
    "start_time": "2021-10-14T14:56:35.374Z"
   },
   {
    "duration": 7,
    "start_time": "2021-10-14T14:56:37.118Z"
   },
   {
    "duration": 7,
    "start_time": "2021-10-14T14:56:38.183Z"
   },
   {
    "duration": 189,
    "start_time": "2021-10-14T14:56:40.119Z"
   },
   {
    "duration": 179,
    "start_time": "2021-10-14T14:56:41.599Z"
   },
   {
    "duration": 113,
    "start_time": "2021-10-14T14:56:43.855Z"
   },
   {
    "duration": 10,
    "start_time": "2021-10-14T14:56:45.311Z"
   },
   {
    "duration": 9,
    "start_time": "2021-10-14T14:57:38.791Z"
   },
   {
    "duration": 6,
    "start_time": "2021-10-14T15:03:18.815Z"
   },
   {
    "duration": 10,
    "start_time": "2021-10-14T15:04:06.415Z"
   },
   {
    "duration": 11,
    "start_time": "2021-10-14T15:05:54.057Z"
   },
   {
    "duration": 11,
    "start_time": "2021-10-14T15:06:31.680Z"
   },
   {
    "duration": 16,
    "start_time": "2021-10-14T15:08:09.369Z"
   },
   {
    "duration": 15,
    "start_time": "2021-10-14T15:08:15.976Z"
   },
   {
    "duration": 32,
    "start_time": "2021-10-14T15:08:27.297Z"
   },
   {
    "duration": 8,
    "start_time": "2021-10-14T15:10:59.905Z"
   },
   {
    "duration": 53,
    "start_time": "2021-10-14T15:12:58.666Z"
   },
   {
    "duration": 56,
    "start_time": "2021-10-14T15:13:25.449Z"
   },
   {
    "duration": 60,
    "start_time": "2021-10-14T15:14:11.082Z"
   },
   {
    "duration": 187,
    "start_time": "2021-10-14T15:14:48.642Z"
   },
   {
    "duration": 62,
    "start_time": "2021-10-14T15:15:52.859Z"
   },
   {
    "duration": 678,
    "start_time": "2021-10-14T15:15:58.658Z"
   },
   {
    "duration": 185,
    "start_time": "2021-10-14T15:16:53.650Z"
   },
   {
    "duration": 22,
    "start_time": "2021-10-14T15:17:00.611Z"
   },
   {
    "duration": 30,
    "start_time": "2021-10-14T15:17:24.161Z"
   },
   {
    "duration": 35,
    "start_time": "2021-10-14T15:18:12.786Z"
   },
   {
    "duration": 57,
    "start_time": "2021-10-14T15:20:43.620Z"
   },
   {
    "duration": 15,
    "start_time": "2021-10-14T15:20:49.276Z"
   },
   {
    "duration": 27,
    "start_time": "2021-10-14T15:20:57.971Z"
   },
   {
    "duration": 46,
    "start_time": "2021-10-14T16:07:59.538Z"
   },
   {
    "duration": 14,
    "start_time": "2021-10-14T16:08:00.816Z"
   },
   {
    "duration": 12,
    "start_time": "2021-10-14T16:08:10.215Z"
   },
   {
    "duration": 10,
    "start_time": "2021-10-14T16:08:12.569Z"
   },
   {
    "duration": 10,
    "start_time": "2021-10-14T16:08:15.483Z"
   },
   {
    "duration": 6,
    "start_time": "2021-10-14T16:08:17.217Z"
   },
   {
    "duration": 7,
    "start_time": "2021-10-14T16:08:19.446Z"
   },
   {
    "duration": 7,
    "start_time": "2021-10-14T16:08:20.474Z"
   },
   {
    "duration": 193,
    "start_time": "2021-10-14T16:08:22.349Z"
   },
   {
    "duration": 183,
    "start_time": "2021-10-14T16:08:23.645Z"
   },
   {
    "duration": 85,
    "start_time": "2021-10-14T16:08:26.531Z"
   },
   {
    "duration": 10,
    "start_time": "2021-10-14T16:08:28.991Z"
   },
   {
    "duration": 11,
    "start_time": "2021-10-14T16:08:31.685Z"
   },
   {
    "duration": 13,
    "start_time": "2021-10-14T16:08:34.307Z"
   },
   {
    "duration": 11,
    "start_time": "2021-10-14T16:08:36.279Z"
   },
   {
    "duration": 57,
    "start_time": "2021-10-14T16:08:45.002Z"
   },
   {
    "duration": 24,
    "start_time": "2021-10-14T16:09:28.409Z"
   },
   {
    "duration": 30,
    "start_time": "2021-10-14T16:09:36.776Z"
   },
   {
    "duration": 28,
    "start_time": "2021-10-14T16:10:01.191Z"
   },
   {
    "duration": 27,
    "start_time": "2021-10-14T16:10:35.686Z"
   },
   {
    "duration": 46,
    "start_time": "2021-10-14T16:10:57.333Z"
   },
   {
    "duration": 14,
    "start_time": "2021-10-14T16:10:58.630Z"
   },
   {
    "duration": 15,
    "start_time": "2021-10-14T16:11:09.860Z"
   },
   {
    "duration": 32,
    "start_time": "2021-10-14T16:11:41.564Z"
   },
   {
    "duration": 29,
    "start_time": "2021-10-14T16:12:28.792Z"
   },
   {
    "duration": 280,
    "start_time": "2021-10-14T16:12:44.932Z"
   },
   {
    "duration": 13,
    "start_time": "2021-10-14T16:12:57.488Z"
   },
   {
    "duration": 9,
    "start_time": "2021-10-14T16:12:59.845Z"
   },
   {
    "duration": 11,
    "start_time": "2021-10-14T16:13:03.721Z"
   },
   {
    "duration": 7,
    "start_time": "2021-10-14T16:13:06.372Z"
   },
   {
    "duration": 8,
    "start_time": "2021-10-14T16:13:09.450Z"
   },
   {
    "duration": 8,
    "start_time": "2021-10-14T16:13:10.072Z"
   },
   {
    "duration": 182,
    "start_time": "2021-10-14T16:13:12.750Z"
   },
   {
    "duration": 170,
    "start_time": "2021-10-14T16:13:14.476Z"
   },
   {
    "duration": 83,
    "start_time": "2021-10-14T16:13:17.664Z"
   },
   {
    "duration": 11,
    "start_time": "2021-10-14T16:13:19.893Z"
   },
   {
    "duration": 10,
    "start_time": "2021-10-14T16:13:22.425Z"
   },
   {
    "duration": 13,
    "start_time": "2021-10-14T16:13:26.520Z"
   },
   {
    "duration": 11,
    "start_time": "2021-10-14T16:13:28.784Z"
   },
   {
    "duration": 53,
    "start_time": "2021-10-14T16:13:37.032Z"
   },
   {
    "duration": 35,
    "start_time": "2021-10-14T16:14:06.156Z"
   },
   {
    "duration": 27,
    "start_time": "2021-10-14T16:15:01.550Z"
   },
   {
    "duration": 176,
    "start_time": "2021-10-14T16:16:10.216Z"
   },
   {
    "duration": 53,
    "start_time": "2021-10-14T16:16:16.354Z"
   },
   {
    "duration": 40,
    "start_time": "2021-10-14T16:17:11.640Z"
   },
   {
    "duration": 37,
    "start_time": "2021-10-14T16:17:58.331Z"
   },
   {
    "duration": 25,
    "start_time": "2021-10-14T16:18:49.553Z"
   },
   {
    "duration": 16,
    "start_time": "2021-10-14T16:19:51.374Z"
   },
   {
    "duration": 27,
    "start_time": "2021-10-14T16:21:24.386Z"
   },
   {
    "duration": 24,
    "start_time": "2021-10-14T16:21:33.311Z"
   },
   {
    "duration": 25,
    "start_time": "2021-10-14T16:21:46.547Z"
   },
   {
    "duration": 25,
    "start_time": "2021-10-14T16:25:02.691Z"
   },
   {
    "duration": 35,
    "start_time": "2021-10-14T16:28:58.809Z"
   },
   {
    "duration": 19,
    "start_time": "2021-10-14T16:29:10.056Z"
   },
   {
    "duration": 22,
    "start_time": "2021-10-14T16:29:17.860Z"
   },
   {
    "duration": 18,
    "start_time": "2021-10-14T16:29:21.026Z"
   },
   {
    "duration": 19,
    "start_time": "2021-10-14T16:29:37.520Z"
   },
   {
    "duration": 9,
    "start_time": "2021-10-14T17:04:43.017Z"
   },
   {
    "duration": 9,
    "start_time": "2021-10-14T17:05:12.322Z"
   },
   {
    "duration": 8,
    "start_time": "2021-10-14T17:05:41.349Z"
   },
   {
    "duration": 47,
    "start_time": "2021-10-14T17:06:17.513Z"
   },
   {
    "duration": 7,
    "start_time": "2021-10-14T17:06:34.307Z"
   },
   {
    "duration": 52,
    "start_time": "2021-10-14T17:08:00.059Z"
   },
   {
    "duration": 14,
    "start_time": "2021-10-14T17:08:00.113Z"
   },
   {
    "duration": 16,
    "start_time": "2021-10-14T17:08:00.128Z"
   },
   {
    "duration": 13,
    "start_time": "2021-10-14T17:08:00.146Z"
   },
   {
    "duration": 9,
    "start_time": "2021-10-14T17:08:00.160Z"
   },
   {
    "duration": 33,
    "start_time": "2021-10-14T17:08:00.171Z"
   },
   {
    "duration": 8,
    "start_time": "2021-10-14T17:08:00.205Z"
   },
   {
    "duration": 7,
    "start_time": "2021-10-14T17:08:00.215Z"
   },
   {
    "duration": 218,
    "start_time": "2021-10-14T17:08:00.224Z"
   },
   {
    "duration": 197,
    "start_time": "2021-10-14T17:08:00.444Z"
   },
   {
    "duration": 95,
    "start_time": "2021-10-14T17:08:00.642Z"
   },
   {
    "duration": 8,
    "start_time": "2021-10-14T17:08:00.739Z"
   },
   {
    "duration": 18,
    "start_time": "2021-10-14T17:08:00.749Z"
   },
   {
    "duration": 15,
    "start_time": "2021-10-14T17:08:00.769Z"
   },
   {
    "duration": 19,
    "start_time": "2021-10-14T17:08:00.785Z"
   },
   {
    "duration": 12,
    "start_time": "2021-10-14T17:08:00.806Z"
   },
   {
    "duration": 9,
    "start_time": "2021-10-14T17:08:00.820Z"
   },
   {
    "duration": 85,
    "start_time": "2021-10-14T17:08:00.830Z"
   },
   {
    "duration": 67,
    "start_time": "2021-10-14T17:08:00.917Z"
   },
   {
    "duration": 31,
    "start_time": "2021-10-14T17:08:00.986Z"
   },
   {
    "duration": 27,
    "start_time": "2021-10-14T17:08:01.019Z"
   },
   {
    "duration": 22,
    "start_time": "2021-10-14T17:08:01.047Z"
   },
   {
    "duration": 37,
    "start_time": "2021-10-14T17:08:01.072Z"
   },
   {
    "duration": 59,
    "start_time": "2021-10-14T17:12:34.482Z"
   },
   {
    "duration": 10,
    "start_time": "2021-10-14T17:15:55.088Z"
   },
   {
    "duration": 176,
    "start_time": "2021-10-14T17:18:15.263Z"
   },
   {
    "duration": 173,
    "start_time": "2021-10-14T17:18:35.524Z"
   },
   {
    "duration": 3448,
    "start_time": "2021-10-14T17:22:08.258Z"
   },
   {
    "duration": 8,
    "start_time": "2021-10-14T17:22:21.376Z"
   },
   {
    "duration": 26,
    "start_time": "2021-10-14T17:22:26.389Z"
   },
   {
    "duration": 24,
    "start_time": "2021-10-14T17:22:52.387Z"
   },
   {
    "duration": 15,
    "start_time": "2021-10-14T17:29:36.957Z"
   },
   {
    "duration": 20,
    "start_time": "2021-10-14T17:29:44.297Z"
   },
   {
    "duration": 10,
    "start_time": "2021-10-14T17:30:34.487Z"
   },
   {
    "duration": 22,
    "start_time": "2021-10-14T17:30:36.493Z"
   },
   {
    "duration": 10,
    "start_time": "2021-10-14T17:30:55.059Z"
   },
   {
    "duration": 13,
    "start_time": "2021-10-14T17:31:28.465Z"
   },
   {
    "duration": 820,
    "start_time": "2021-10-15T17:21:39.241Z"
   },
   {
    "duration": 35,
    "start_time": "2021-10-15T17:21:40.064Z"
   },
   {
    "duration": 19,
    "start_time": "2021-10-15T17:21:40.102Z"
   },
   {
    "duration": 16,
    "start_time": "2021-10-15T17:21:40.124Z"
   },
   {
    "duration": 50,
    "start_time": "2021-10-15T17:21:40.142Z"
   },
   {
    "duration": 18,
    "start_time": "2021-10-15T17:21:40.195Z"
   },
   {
    "duration": 11,
    "start_time": "2021-10-15T17:21:40.216Z"
   },
   {
    "duration": 10,
    "start_time": "2021-10-15T17:21:40.231Z"
   },
   {
    "duration": 461,
    "start_time": "2021-10-15T17:21:40.244Z"
   },
   {
    "duration": 298,
    "start_time": "2021-10-15T17:21:40.707Z"
   },
   {
    "duration": 139,
    "start_time": "2021-10-15T17:21:41.008Z"
   },
   {
    "duration": 13,
    "start_time": "2021-10-15T17:21:41.149Z"
   },
   {
    "duration": 33,
    "start_time": "2021-10-15T17:21:41.164Z"
   },
   {
    "duration": 17,
    "start_time": "2021-10-15T17:21:41.199Z"
   },
   {
    "duration": 16,
    "start_time": "2021-10-15T17:21:41.218Z"
   },
   {
    "duration": 48,
    "start_time": "2021-10-15T17:21:41.236Z"
   },
   {
    "duration": 11,
    "start_time": "2021-10-15T17:21:41.286Z"
   },
   {
    "duration": 23,
    "start_time": "2021-10-15T17:21:41.299Z"
   },
   {
    "duration": 94,
    "start_time": "2021-10-15T17:21:41.325Z"
   },
   {
    "duration": 34,
    "start_time": "2021-10-15T17:21:41.422Z"
   },
   {
    "duration": 60,
    "start_time": "2021-10-15T17:21:41.459Z"
   },
   {
    "duration": 29,
    "start_time": "2021-10-15T17:21:41.521Z"
   },
   {
    "duration": 44,
    "start_time": "2021-10-15T17:21:41.555Z"
   },
   {
    "duration": 12,
    "start_time": "2021-10-15T17:21:41.602Z"
   },
   {
    "duration": 4518,
    "start_time": "2021-10-15T17:21:41.616Z"
   },
   {
    "duration": 34,
    "start_time": "2021-10-15T17:21:46.136Z"
   },
   {
    "duration": 23,
    "start_time": "2021-10-15T17:21:46.183Z"
   },
   {
    "duration": 16,
    "start_time": "2021-10-15T17:21:46.209Z"
   },
   {
    "duration": 22,
    "start_time": "2021-10-15T17:21:46.227Z"
   },
   {
    "duration": 9,
    "start_time": "2021-10-15T17:32:11.534Z"
   },
   {
    "duration": 310,
    "start_time": "2021-10-15T17:33:14.846Z"
   },
   {
    "duration": 95,
    "start_time": "2021-10-15T17:33:56.296Z"
   },
   {
    "duration": 41,
    "start_time": "2021-10-15T17:34:01.564Z"
   },
   {
    "duration": 321,
    "start_time": "2021-10-15T17:35:52.502Z"
   },
   {
    "duration": 25,
    "start_time": "2021-10-15T17:41:18.913Z"
   },
   {
    "duration": 69,
    "start_time": "2021-10-15T17:47:51.218Z"
   },
   {
    "duration": 21,
    "start_time": "2021-10-15T17:48:23.685Z"
   },
   {
    "duration": 70,
    "start_time": "2021-10-15T17:49:04.446Z"
   },
   {
    "duration": 14,
    "start_time": "2021-10-15T17:49:06.699Z"
   },
   {
    "duration": 456,
    "start_time": "2021-10-15T17:55:26.959Z"
   },
   {
    "duration": 53,
    "start_time": "2021-10-15T17:55:50.159Z"
   },
   {
    "duration": 31,
    "start_time": "2021-10-15T17:56:33.135Z"
   },
   {
    "duration": 22,
    "start_time": "2021-10-15T17:56:48.525Z"
   },
   {
    "duration": 8,
    "start_time": "2021-10-15T18:00:40.280Z"
   },
   {
    "duration": 299,
    "start_time": "2021-10-15T18:03:55.151Z"
   },
   {
    "duration": 347,
    "start_time": "2021-10-15T18:04:08.776Z"
   },
   {
    "duration": 8,
    "start_time": "2021-10-15T18:04:44.625Z"
   },
   {
    "duration": 20,
    "start_time": "2021-10-15T18:04:46.593Z"
   },
   {
    "duration": 5,
    "start_time": "2021-10-15T18:08:43.335Z"
   },
   {
    "duration": 34,
    "start_time": "2021-10-15T18:08:49.137Z"
   },
   {
    "duration": 10,
    "start_time": "2021-10-15T18:09:21.991Z"
   },
   {
    "duration": 32,
    "start_time": "2021-10-15T18:09:24.842Z"
   },
   {
    "duration": 34,
    "start_time": "2021-10-15T18:10:00.100Z"
   },
   {
    "duration": 38,
    "start_time": "2021-10-15T18:11:28.772Z"
   },
   {
    "duration": 9,
    "start_time": "2021-10-15T18:11:44.512Z"
   },
   {
    "duration": 31,
    "start_time": "2021-10-15T18:11:51.821Z"
   },
   {
    "duration": 32,
    "start_time": "2021-10-15T18:12:48.327Z"
   },
   {
    "duration": 318,
    "start_time": "2021-10-15T18:14:06.564Z"
   },
   {
    "duration": 318,
    "start_time": "2021-10-15T18:15:23.802Z"
   },
   {
    "duration": 304,
    "start_time": "2021-10-15T18:18:05.303Z"
   },
   {
    "duration": 289,
    "start_time": "2021-10-15T18:18:22.494Z"
   },
   {
    "duration": 288,
    "start_time": "2021-10-15T18:18:42.057Z"
   },
   {
    "duration": 289,
    "start_time": "2021-10-15T18:19:21.052Z"
   },
   {
    "duration": 20,
    "start_time": "2021-10-15T18:19:46.289Z"
   },
   {
    "duration": 10,
    "start_time": "2021-10-15T18:20:31.202Z"
   },
   {
    "duration": 20,
    "start_time": "2021-10-15T18:20:40.466Z"
   },
   {
    "duration": 18,
    "start_time": "2021-10-15T18:21:22.243Z"
   },
   {
    "duration": 300,
    "start_time": "2021-10-15T18:22:12.167Z"
   },
   {
    "duration": 324,
    "start_time": "2021-10-15T18:24:05.088Z"
   },
   {
    "duration": 29,
    "start_time": "2021-10-15T18:29:22.702Z"
   },
   {
    "duration": 26,
    "start_time": "2021-10-15T18:35:03.777Z"
   },
   {
    "duration": 43,
    "start_time": "2021-10-15T18:35:47.751Z"
   },
   {
    "duration": 59,
    "start_time": "2021-10-15T18:35:55.706Z"
   },
   {
    "duration": 10,
    "start_time": "2021-10-15T18:36:14.949Z"
   },
   {
    "duration": 23,
    "start_time": "2021-10-15T18:36:16.153Z"
   },
   {
    "duration": 17,
    "start_time": "2021-10-15T18:37:56.260Z"
   },
   {
    "duration": 15,
    "start_time": "2021-10-15T18:38:11.531Z"
   },
   {
    "duration": 48,
    "start_time": "2021-10-15T18:39:17.724Z"
   },
   {
    "duration": 14,
    "start_time": "2021-10-15T18:43:09.996Z"
   },
   {
    "duration": 13,
    "start_time": "2021-10-15T18:43:16.877Z"
   },
   {
    "duration": 42,
    "start_time": "2021-10-15T18:46:59.938Z"
   },
   {
    "duration": 12,
    "start_time": "2021-10-15T18:56:42.089Z"
   },
   {
    "duration": 8,
    "start_time": "2021-10-15T18:57:06.957Z"
   },
   {
    "duration": 9,
    "start_time": "2021-10-15T18:58:38.727Z"
   },
   {
    "duration": 36,
    "start_time": "2021-10-15T18:58:43.213Z"
   },
   {
    "duration": 468,
    "start_time": "2021-10-15T18:58:57.626Z"
   },
   {
    "duration": 27,
    "start_time": "2021-10-15T19:01:26.567Z"
   },
   {
    "duration": 331,
    "start_time": "2021-10-15T19:03:18.354Z"
   },
   {
    "duration": 13,
    "start_time": "2021-10-15T19:05:06.773Z"
   },
   {
    "duration": 13,
    "start_time": "2021-10-15T19:05:09.678Z"
   },
   {
    "duration": 24,
    "start_time": "2021-10-15T19:06:27.862Z"
   },
   {
    "duration": 313,
    "start_time": "2021-10-15T19:07:02.277Z"
   },
   {
    "duration": 307,
    "start_time": "2021-10-15T19:07:13.521Z"
   },
   {
    "duration": 18,
    "start_time": "2021-10-15T19:07:21.012Z"
   },
   {
    "duration": 18,
    "start_time": "2021-10-15T19:07:32.264Z"
   },
   {
    "duration": 18,
    "start_time": "2021-10-15T19:07:40.723Z"
   },
   {
    "duration": 15,
    "start_time": "2021-10-15T19:08:11.442Z"
   },
   {
    "duration": 15,
    "start_time": "2021-10-15T19:08:32.029Z"
   },
   {
    "duration": 291,
    "start_time": "2021-10-15T19:11:49.822Z"
   },
   {
    "duration": 33,
    "start_time": "2021-10-15T19:11:55.536Z"
   },
   {
    "duration": 351,
    "start_time": "2021-10-15T19:12:34.738Z"
   },
   {
    "duration": 33,
    "start_time": "2021-10-15T19:12:39.064Z"
   },
   {
    "duration": 251,
    "start_time": "2021-10-15T19:14:34.490Z"
   },
   {
    "duration": 42,
    "start_time": "2021-10-15T19:15:46.802Z"
   },
   {
    "duration": 633,
    "start_time": "2021-10-15T19:16:49.097Z"
   },
   {
    "duration": 299,
    "start_time": "2021-10-15T19:16:59.488Z"
   },
   {
    "duration": 733,
    "start_time": "2021-10-15T19:18:02.468Z"
   },
   {
    "duration": 11,
    "start_time": "2021-10-15T19:18:42.382Z"
   },
   {
    "duration": 312,
    "start_time": "2021-10-15T19:19:02.362Z"
   },
   {
    "duration": 17,
    "start_time": "2021-10-15T19:19:18.703Z"
   },
   {
    "duration": 17,
    "start_time": "2021-10-15T19:19:48.098Z"
   },
   {
    "duration": 19,
    "start_time": "2021-10-15T19:20:06.972Z"
   },
   {
    "duration": 17,
    "start_time": "2021-10-15T19:20:11.782Z"
   },
   {
    "duration": 773,
    "start_time": "2021-10-16T12:20:40.408Z"
   },
   {
    "duration": 29,
    "start_time": "2021-10-16T12:20:42.716Z"
   },
   {
    "duration": 20,
    "start_time": "2021-10-16T12:20:45.709Z"
   },
   {
    "duration": 16,
    "start_time": "2021-10-16T12:20:49.053Z"
   },
   {
    "duration": 13,
    "start_time": "2021-10-16T12:20:56.483Z"
   },
   {
    "duration": 45,
    "start_time": "2021-10-16T12:21:04.665Z"
   },
   {
    "duration": 13,
    "start_time": "2021-10-16T12:22:52.935Z"
   },
   {
    "duration": 9,
    "start_time": "2021-10-16T12:23:04.794Z"
   },
   {
    "duration": 11,
    "start_time": "2021-10-16T12:24:08.531Z"
   },
   {
    "duration": 10,
    "start_time": "2021-10-16T12:24:09.909Z"
   },
   {
    "duration": 454,
    "start_time": "2021-10-16T12:24:17.523Z"
   },
   {
    "duration": 301,
    "start_time": "2021-10-16T12:24:21.625Z"
   },
   {
    "duration": 144,
    "start_time": "2021-10-16T12:25:18.533Z"
   },
   {
    "duration": 15,
    "start_time": "2021-10-16T12:25:20.919Z"
   },
   {
    "duration": 17,
    "start_time": "2021-10-16T12:25:44.670Z"
   },
   {
    "duration": 9,
    "start_time": "2021-10-16T12:25:45.718Z"
   },
   {
    "duration": 10,
    "start_time": "2021-10-16T12:25:53.572Z"
   },
   {
    "duration": 337,
    "start_time": "2021-10-16T12:25:54.663Z"
   },
   {
    "duration": 19,
    "start_time": "2021-10-16T12:26:06.189Z"
   },
   {
    "duration": 17,
    "start_time": "2021-10-16T12:26:12.431Z"
   },
   {
    "duration": 17,
    "start_time": "2021-10-16T12:26:14.831Z"
   },
   {
    "duration": 15,
    "start_time": "2021-10-16T12:26:25.486Z"
   },
   {
    "duration": 18,
    "start_time": "2021-10-16T12:26:27.085Z"
   },
   {
    "duration": 13,
    "start_time": "2021-10-16T12:26:28.610Z"
   },
   {
    "duration": 85,
    "start_time": "2021-10-16T12:26:49.994Z"
   },
   {
    "duration": 82,
    "start_time": "2021-10-16T12:26:54.603Z"
   },
   {
    "duration": 46,
    "start_time": "2021-10-16T12:26:58.177Z"
   },
   {
    "duration": 32,
    "start_time": "2021-10-16T12:27:17.391Z"
   },
   {
    "duration": 41,
    "start_time": "2021-10-16T12:27:19.451Z"
   },
   {
    "duration": 20,
    "start_time": "2021-10-16T12:27:24.625Z"
   },
   {
    "duration": 5396,
    "start_time": "2021-10-16T12:27:30.820Z"
   },
   {
    "duration": 35,
    "start_time": "2021-10-16T12:27:36.219Z"
   },
   {
    "duration": 32,
    "start_time": "2021-10-16T12:28:04.673Z"
   },
   {
    "duration": 15,
    "start_time": "2021-10-16T12:28:07.732Z"
   },
   {
    "duration": 17,
    "start_time": "2021-10-16T12:28:11.023Z"
   },
   {
    "duration": 19,
    "start_time": "2021-10-16T12:28:13.118Z"
   },
   {
    "duration": 352,
    "start_time": "2021-10-16T12:28:31.757Z"
   },
   {
    "duration": 29,
    "start_time": "2021-10-16T12:28:47.984Z"
   },
   {
    "duration": 125,
    "start_time": "2021-10-16T12:29:21.615Z"
   },
   {
    "duration": 18,
    "start_time": "2021-10-16T12:29:23.829Z"
   },
   {
    "duration": 38,
    "start_time": "2021-10-16T12:29:34.963Z"
   },
   {
    "duration": 426,
    "start_time": "2021-10-16T12:29:38.739Z"
   },
   {
    "duration": 377,
    "start_time": "2021-10-16T12:29:47.824Z"
   },
   {
    "duration": 30,
    "start_time": "2021-10-16T12:30:02.340Z"
   },
   {
    "duration": 11,
    "start_time": "2021-10-16T12:30:31.395Z"
   },
   {
    "duration": 8,
    "start_time": "2021-10-16T12:30:47.038Z"
   },
   {
    "duration": 45,
    "start_time": "2021-10-16T12:30:54.351Z"
   },
   {
    "duration": 24,
    "start_time": "2021-10-16T12:31:20.038Z"
   },
   {
    "duration": 8,
    "start_time": "2021-10-16T12:34:39.357Z"
   },
   {
    "duration": 21,
    "start_time": "2021-10-16T12:42:48.715Z"
   },
   {
    "duration": 46,
    "start_time": "2021-10-16T12:46:42.477Z"
   },
   {
    "duration": 43,
    "start_time": "2021-10-16T12:47:44.902Z"
   },
   {
    "duration": 20,
    "start_time": "2021-10-16T12:54:38.496Z"
   },
   {
    "duration": 13,
    "start_time": "2021-10-16T12:54:53.099Z"
   },
   {
    "duration": 41,
    "start_time": "2021-10-16T12:57:12.727Z"
   },
   {
    "duration": 44,
    "start_time": "2021-10-16T12:57:43.875Z"
   },
   {
    "duration": 17,
    "start_time": "2021-10-16T13:00:34.985Z"
   },
   {
    "duration": 28,
    "start_time": "2021-10-16T13:00:50.675Z"
   },
   {
    "duration": 30,
    "start_time": "2021-10-16T13:01:29.974Z"
   },
   {
    "duration": 10,
    "start_time": "2021-10-16T13:01:45.240Z"
   },
   {
    "duration": 43,
    "start_time": "2021-10-16T13:01:49.725Z"
   },
   {
    "duration": 17,
    "start_time": "2021-10-16T13:06:17.042Z"
   },
   {
    "duration": 36,
    "start_time": "2021-10-16T13:45:57.278Z"
   },
   {
    "duration": 1647,
    "start_time": "2021-10-16T13:47:23.606Z"
   },
   {
    "duration": 18,
    "start_time": "2021-10-16T13:47:42.868Z"
   },
   {
    "duration": 46,
    "start_time": "2021-10-16T13:47:46.829Z"
   },
   {
    "duration": 30,
    "start_time": "2021-10-16T13:50:57.185Z"
   },
   {
    "duration": 20,
    "start_time": "2021-10-16T13:51:11.706Z"
   },
   {
    "duration": 22,
    "start_time": "2021-10-16T13:51:18.332Z"
   },
   {
    "duration": 31,
    "start_time": "2021-10-16T13:56:42.980Z"
   },
   {
    "duration": 10,
    "start_time": "2021-10-16T13:57:22.610Z"
   },
   {
    "duration": 45,
    "start_time": "2021-10-16T13:57:26.906Z"
   },
   {
    "duration": 9,
    "start_time": "2021-10-16T13:57:53.701Z"
   },
   {
    "duration": 37,
    "start_time": "2021-10-16T13:57:58.841Z"
   },
   {
    "duration": 310,
    "start_time": "2021-10-16T13:58:21.788Z"
   },
   {
    "duration": 23,
    "start_time": "2021-10-16T13:58:30.937Z"
   },
   {
    "duration": 18,
    "start_time": "2021-10-16T13:58:44.686Z"
   },
   {
    "duration": 9,
    "start_time": "2021-10-16T13:58:52.237Z"
   },
   {
    "duration": 19,
    "start_time": "2021-10-16T13:58:54.723Z"
   },
   {
    "duration": 53,
    "start_time": "2021-10-16T13:58:57.352Z"
   },
   {
    "duration": 17,
    "start_time": "2021-10-16T13:59:01.713Z"
   },
   {
    "duration": 25,
    "start_time": "2021-10-16T13:59:44.571Z"
   },
   {
    "duration": 38,
    "start_time": "2021-10-16T13:59:59.355Z"
   },
   {
    "duration": 33,
    "start_time": "2021-10-16T14:01:23.709Z"
   },
   {
    "duration": 38,
    "start_time": "2021-10-16T14:01:32.885Z"
   },
   {
    "duration": 35,
    "start_time": "2021-10-16T14:04:30.884Z"
   },
   {
    "duration": 74,
    "start_time": "2021-10-16T15:12:29.450Z"
   },
   {
    "duration": 26,
    "start_time": "2021-10-16T15:12:30.495Z"
   },
   {
    "duration": 23,
    "start_time": "2021-10-16T15:12:32.206Z"
   },
   {
    "duration": 15,
    "start_time": "2021-10-16T15:12:35.256Z"
   },
   {
    "duration": 14,
    "start_time": "2021-10-16T15:12:38.529Z"
   },
   {
    "duration": 36,
    "start_time": "2021-10-16T15:12:41.428Z"
   },
   {
    "duration": 13,
    "start_time": "2021-10-16T15:12:51.024Z"
   },
   {
    "duration": 9,
    "start_time": "2021-10-16T15:12:58.675Z"
   },
   {
    "duration": 11,
    "start_time": "2021-10-16T15:13:12.855Z"
   },
   {
    "duration": 13,
    "start_time": "2021-10-16T15:13:14.778Z"
   },
   {
    "duration": 320,
    "start_time": "2021-10-16T15:13:20.396Z"
   },
   {
    "duration": 298,
    "start_time": "2021-10-16T15:13:22.152Z"
   },
   {
    "duration": 145,
    "start_time": "2021-10-16T15:13:33.762Z"
   },
   {
    "duration": 21,
    "start_time": "2021-10-16T15:13:35.876Z"
   },
   {
    "duration": 13,
    "start_time": "2021-10-16T15:13:59.965Z"
   },
   {
    "duration": 9,
    "start_time": "2021-10-16T15:14:01.797Z"
   },
   {
    "duration": 9,
    "start_time": "2021-10-16T15:14:07.652Z"
   },
   {
    "duration": 320,
    "start_time": "2021-10-16T15:14:08.330Z"
   },
   {
    "duration": 14,
    "start_time": "2021-10-16T15:14:12.098Z"
   },
   {
    "duration": 19,
    "start_time": "2021-10-16T15:14:14.257Z"
   },
   {
    "duration": 23,
    "start_time": "2021-10-16T15:14:16.291Z"
   },
   {
    "duration": 11,
    "start_time": "2021-10-16T15:14:18.743Z"
   },
   {
    "duration": 12,
    "start_time": "2021-10-16T15:14:20.675Z"
   },
   {
    "duration": 13,
    "start_time": "2021-10-16T15:14:21.880Z"
   },
   {
    "duration": 95,
    "start_time": "2021-10-16T15:14:33.443Z"
   },
   {
    "duration": 33,
    "start_time": "2021-10-16T15:14:35.704Z"
   },
   {
    "duration": 45,
    "start_time": "2021-10-16T15:14:39.699Z"
   },
   {
    "duration": 27,
    "start_time": "2021-10-16T15:14:43.713Z"
   },
   {
    "duration": 25,
    "start_time": "2021-10-16T15:14:46.809Z"
   },
   {
    "duration": 18,
    "start_time": "2021-10-16T15:14:49.738Z"
   },
   {
    "duration": 5159,
    "start_time": "2021-10-16T15:14:52.187Z"
   },
   {
    "duration": 58,
    "start_time": "2021-10-16T15:14:57.349Z"
   },
   {
    "duration": 23,
    "start_time": "2021-10-16T15:14:57.411Z"
   },
   {
    "duration": 14,
    "start_time": "2021-10-16T15:15:00.791Z"
   },
   {
    "duration": 17,
    "start_time": "2021-10-16T15:15:03.692Z"
   },
   {
    "duration": 21,
    "start_time": "2021-10-16T15:15:05.727Z"
   },
   {
    "duration": 377,
    "start_time": "2021-10-16T15:15:09.851Z"
   },
   {
    "duration": 20,
    "start_time": "2021-10-16T15:15:12.943Z"
   },
   {
    "duration": 83,
    "start_time": "2021-10-16T15:15:16.919Z"
   },
   {
    "duration": 30,
    "start_time": "2021-10-16T15:15:19.971Z"
   },
   {
    "duration": 40,
    "start_time": "2021-10-16T15:15:24.732Z"
   },
   {
    "duration": 327,
    "start_time": "2021-10-16T15:15:28.783Z"
   },
   {
    "duration": 368,
    "start_time": "2021-10-16T15:15:31.890Z"
   },
   {
    "duration": 31,
    "start_time": "2021-10-16T15:15:35.575Z"
   },
   {
    "duration": 32,
    "start_time": "2021-10-16T15:15:39.087Z"
   },
   {
    "duration": 10,
    "start_time": "2021-10-16T15:15:43.846Z"
   },
   {
    "duration": 10,
    "start_time": "2021-10-16T15:15:46.616Z"
   },
   {
    "duration": 38,
    "start_time": "2021-10-16T15:15:49.550Z"
   },
   {
    "duration": 29,
    "start_time": "2021-10-16T15:16:03.862Z"
   },
   {
    "duration": 16,
    "start_time": "2021-10-16T15:16:15.535Z"
   },
   {
    "duration": 11,
    "start_time": "2021-10-16T15:16:17.799Z"
   },
   {
    "duration": 17,
    "start_time": "2021-10-16T15:16:20.060Z"
   },
   {
    "duration": 40,
    "start_time": "2021-10-16T15:16:22.704Z"
   },
   {
    "duration": 18,
    "start_time": "2021-10-16T15:16:26.212Z"
   },
   {
    "duration": 20,
    "start_time": "2021-10-16T15:16:29.910Z"
   },
   {
    "duration": 538,
    "start_time": "2021-10-16T15:16:31.844Z"
   },
   {
    "duration": 293,
    "start_time": "2021-10-16T15:31:00.658Z"
   },
   {
    "duration": 14,
    "start_time": "2021-10-16T15:31:42.063Z"
   },
   {
    "duration": 41,
    "start_time": "2021-10-16T15:31:50.981Z"
   },
   {
    "duration": 15,
    "start_time": "2021-10-16T15:32:22.206Z"
   },
   {
    "duration": 59,
    "start_time": "2021-10-16T15:37:52.163Z"
   },
   {
    "duration": 19,
    "start_time": "2021-10-16T15:37:52.225Z"
   },
   {
    "duration": 48,
    "start_time": "2021-10-16T15:37:52.247Z"
   },
   {
    "duration": 18,
    "start_time": "2021-10-16T15:37:52.297Z"
   },
   {
    "duration": 14,
    "start_time": "2021-10-16T15:37:52.317Z"
   },
   {
    "duration": 96,
    "start_time": "2021-10-16T15:37:52.334Z"
   },
   {
    "duration": 17,
    "start_time": "2021-10-16T15:37:52.433Z"
   },
   {
    "duration": 10,
    "start_time": "2021-10-16T15:37:52.484Z"
   },
   {
    "duration": 10,
    "start_time": "2021-10-16T15:37:52.498Z"
   },
   {
    "duration": 9,
    "start_time": "2021-10-16T15:37:52.511Z"
   },
   {
    "duration": 365,
    "start_time": "2021-10-16T15:37:52.523Z"
   },
   {
    "duration": 304,
    "start_time": "2021-10-16T15:37:52.891Z"
   },
   {
    "duration": 134,
    "start_time": "2021-10-16T15:37:53.197Z"
   },
   {
    "duration": 11,
    "start_time": "2021-10-16T15:37:53.333Z"
   },
   {
    "duration": 12,
    "start_time": "2021-10-16T15:37:53.347Z"
   },
   {
    "duration": 27,
    "start_time": "2021-10-16T15:37:53.362Z"
   },
   {
    "duration": 10,
    "start_time": "2021-10-16T15:37:53.392Z"
   },
   {
    "duration": 353,
    "start_time": "2021-10-16T15:37:53.405Z"
   },
   {
    "duration": 22,
    "start_time": "2021-10-16T15:37:53.761Z"
   },
   {
    "duration": 16,
    "start_time": "2021-10-16T15:37:53.786Z"
   },
   {
    "duration": 15,
    "start_time": "2021-10-16T15:37:53.804Z"
   },
   {
    "duration": 14,
    "start_time": "2021-10-16T15:37:53.822Z"
   },
   {
    "duration": 49,
    "start_time": "2021-10-16T15:37:53.843Z"
   },
   {
    "duration": 15,
    "start_time": "2021-10-16T15:37:53.897Z"
   },
   {
    "duration": 104,
    "start_time": "2021-10-16T15:37:53.915Z"
   },
   {
    "duration": 35,
    "start_time": "2021-10-16T15:37:54.022Z"
   },
   {
    "duration": 54,
    "start_time": "2021-10-16T15:37:54.060Z"
   },
   {
    "duration": 28,
    "start_time": "2021-10-16T15:37:54.117Z"
   },
   {
    "duration": 56,
    "start_time": "2021-10-16T15:37:54.147Z"
   },
   {
    "duration": 13,
    "start_time": "2021-10-16T15:37:54.206Z"
   },
   {
    "duration": 4546,
    "start_time": "2021-10-16T15:37:54.221Z"
   },
   {
    "duration": 43,
    "start_time": "2021-10-16T15:37:58.770Z"
   },
   {
    "duration": 24,
    "start_time": "2021-10-16T15:37:58.816Z"
   },
   {
    "duration": 10,
    "start_time": "2021-10-16T15:37:58.842Z"
   },
   {
    "duration": 42,
    "start_time": "2021-10-16T15:37:58.854Z"
   },
   {
    "duration": 19,
    "start_time": "2021-10-16T15:37:58.898Z"
   },
   {
    "duration": 17,
    "start_time": "2021-10-16T15:37:58.920Z"
   },
   {
    "duration": 439,
    "start_time": "2021-10-16T15:37:58.940Z"
   },
   {
    "duration": 21,
    "start_time": "2021-10-16T15:37:59.383Z"
   },
   {
    "duration": 88,
    "start_time": "2021-10-16T15:37:59.407Z"
   },
   {
    "duration": 13,
    "start_time": "2021-10-16T15:37:59.497Z"
   },
   {
    "duration": 30,
    "start_time": "2021-10-16T15:37:59.512Z"
   },
   {
    "duration": 326,
    "start_time": "2021-10-16T15:37:59.544Z"
   },
   {
    "duration": 341,
    "start_time": "2021-10-16T15:37:59.873Z"
   },
   {
    "duration": 20,
    "start_time": "2021-10-16T15:38:00.216Z"
   },
   {
    "duration": 52,
    "start_time": "2021-10-16T15:38:00.238Z"
   },
   {
    "duration": 10,
    "start_time": "2021-10-16T15:38:00.293Z"
   },
   {
    "duration": 29,
    "start_time": "2021-10-16T15:38:00.306Z"
   },
   {
    "duration": 48,
    "start_time": "2021-10-16T15:38:00.338Z"
   },
   {
    "duration": 24,
    "start_time": "2021-10-16T15:38:00.389Z"
   },
   {
    "duration": 34,
    "start_time": "2021-10-16T15:38:00.416Z"
   },
   {
    "duration": 31,
    "start_time": "2021-10-16T15:38:00.454Z"
   },
   {
    "duration": 9,
    "start_time": "2021-10-16T15:38:00.488Z"
   },
   {
    "duration": 26,
    "start_time": "2021-10-16T15:38:00.500Z"
   },
   {
    "duration": 81,
    "start_time": "2021-10-16T15:38:00.529Z"
   },
   {
    "duration": 22,
    "start_time": "2021-10-16T15:38:00.613Z"
   },
   {
    "duration": 47,
    "start_time": "2021-10-16T15:38:00.638Z"
   },
   {
    "duration": 44,
    "start_time": "2021-10-16T15:38:00.688Z"
   },
   {
    "duration": 902,
    "start_time": "2021-10-17T07:25:01.958Z"
   },
   {
    "duration": 41,
    "start_time": "2021-10-17T07:25:02.863Z"
   },
   {
    "duration": 33,
    "start_time": "2021-10-17T07:25:02.907Z"
   },
   {
    "duration": 18,
    "start_time": "2021-10-17T07:25:02.942Z"
   },
   {
    "duration": 15,
    "start_time": "2021-10-17T07:25:02.962Z"
   },
   {
    "duration": 75,
    "start_time": "2021-10-17T07:25:02.979Z"
   },
   {
    "duration": 12,
    "start_time": "2021-10-17T07:25:03.056Z"
   },
   {
    "duration": 10,
    "start_time": "2021-10-17T07:25:03.070Z"
   },
   {
    "duration": 42,
    "start_time": "2021-10-17T07:25:03.084Z"
   },
   {
    "duration": 9,
    "start_time": "2021-10-17T07:25:03.129Z"
   },
   {
    "duration": 453,
    "start_time": "2021-10-17T07:25:03.140Z"
   },
   {
    "duration": 301,
    "start_time": "2021-10-17T07:25:03.596Z"
   },
   {
    "duration": 134,
    "start_time": "2021-10-17T07:25:03.900Z"
   },
   {
    "duration": 15,
    "start_time": "2021-10-17T07:25:04.036Z"
   },
   {
    "duration": 11,
    "start_time": "2021-10-17T07:25:04.053Z"
   },
   {
    "duration": 8,
    "start_time": "2021-10-17T07:25:04.066Z"
   },
   {
    "duration": 46,
    "start_time": "2021-10-17T07:25:04.076Z"
   },
   {
    "duration": 329,
    "start_time": "2021-10-17T07:25:04.125Z"
   },
   {
    "duration": 17,
    "start_time": "2021-10-17T07:25:04.457Z"
   },
   {
    "duration": 47,
    "start_time": "2021-10-17T07:25:04.476Z"
   },
   {
    "duration": 17,
    "start_time": "2021-10-17T07:25:04.527Z"
   },
   {
    "duration": 22,
    "start_time": "2021-10-17T07:25:04.547Z"
   },
   {
    "duration": 13,
    "start_time": "2021-10-17T07:25:04.572Z"
   },
   {
    "duration": 41,
    "start_time": "2021-10-17T07:25:04.587Z"
   },
   {
    "duration": 142,
    "start_time": "2021-10-17T07:25:04.631Z"
   },
   {
    "duration": 53,
    "start_time": "2021-10-17T07:25:04.776Z"
   },
   {
    "duration": 38,
    "start_time": "2021-10-17T07:25:04.837Z"
   },
   {
    "duration": 59,
    "start_time": "2021-10-17T07:25:04.879Z"
   },
   {
    "duration": 26,
    "start_time": "2021-10-17T07:25:04.941Z"
   },
   {
    "duration": 13,
    "start_time": "2021-10-17T07:25:04.970Z"
   },
   {
    "duration": 4339,
    "start_time": "2021-10-17T07:25:04.985Z"
   },
   {
    "duration": 35,
    "start_time": "2021-10-17T07:25:09.327Z"
   },
   {
    "duration": 27,
    "start_time": "2021-10-17T07:25:09.365Z"
   },
   {
    "duration": 29,
    "start_time": "2021-10-17T07:25:09.395Z"
   },
   {
    "duration": 16,
    "start_time": "2021-10-17T07:25:09.426Z"
   },
   {
    "duration": 25,
    "start_time": "2021-10-17T07:25:09.445Z"
   },
   {
    "duration": 20,
    "start_time": "2021-10-17T07:25:09.473Z"
   },
   {
    "duration": 352,
    "start_time": "2021-10-17T07:25:09.496Z"
   },
   {
    "duration": 21,
    "start_time": "2021-10-17T07:25:09.850Z"
   },
   {
    "duration": 96,
    "start_time": "2021-10-17T07:25:09.874Z"
   },
   {
    "duration": 12,
    "start_time": "2021-10-17T07:25:09.973Z"
   },
   {
    "duration": 48,
    "start_time": "2021-10-17T07:25:09.988Z"
   },
   {
    "duration": 301,
    "start_time": "2021-10-17T07:25:10.039Z"
   },
   {
    "duration": 325,
    "start_time": "2021-10-17T07:25:10.342Z"
   },
   {
    "duration": 21,
    "start_time": "2021-10-17T07:25:10.669Z"
   },
   {
    "duration": 53,
    "start_time": "2021-10-17T07:25:10.693Z"
   },
   {
    "duration": 11,
    "start_time": "2021-10-17T07:25:10.749Z"
   },
   {
    "duration": 11,
    "start_time": "2021-10-17T07:25:10.762Z"
   },
   {
    "duration": 71,
    "start_time": "2021-10-17T07:25:10.776Z"
   },
   {
    "duration": 24,
    "start_time": "2021-10-17T07:25:10.850Z"
   },
   {
    "duration": 47,
    "start_time": "2021-10-17T07:25:10.877Z"
   },
   {
    "duration": 14,
    "start_time": "2021-10-17T07:25:10.927Z"
   },
   {
    "duration": 10,
    "start_time": "2021-10-17T07:25:10.944Z"
   },
   {
    "duration": 29,
    "start_time": "2021-10-17T07:25:10.957Z"
   },
   {
    "duration": 75,
    "start_time": "2021-10-17T07:25:10.988Z"
   },
   {
    "duration": 18,
    "start_time": "2021-10-17T07:25:11.067Z"
   },
   {
    "duration": 43,
    "start_time": "2021-10-17T07:25:11.088Z"
   },
   {
    "duration": 34,
    "start_time": "2021-10-17T07:25:11.134Z"
   },
   {
    "duration": 8,
    "start_time": "2021-10-17T07:26:54.812Z"
   },
   {
    "duration": 8,
    "start_time": "2021-10-17T07:26:56.439Z"
   },
   {
    "duration": 756,
    "start_time": "2021-10-17T07:27:04.073Z"
   },
   {
    "duration": 32,
    "start_time": "2021-10-17T07:27:04.832Z"
   },
   {
    "duration": 60,
    "start_time": "2021-10-17T07:27:04.868Z"
   },
   {
    "duration": 44,
    "start_time": "2021-10-17T07:27:04.930Z"
   },
   {
    "duration": 34,
    "start_time": "2021-10-17T07:27:04.977Z"
   },
   {
    "duration": 37,
    "start_time": "2021-10-17T07:27:05.013Z"
   },
   {
    "duration": 38,
    "start_time": "2021-10-17T07:27:05.052Z"
   },
   {
    "duration": 32,
    "start_time": "2021-10-17T07:27:05.093Z"
   },
   {
    "duration": 18,
    "start_time": "2021-10-17T07:27:05.128Z"
   },
   {
    "duration": 29,
    "start_time": "2021-10-17T07:27:05.148Z"
   },
   {
    "duration": 424,
    "start_time": "2021-10-17T07:27:05.180Z"
   },
   {
    "duration": 295,
    "start_time": "2021-10-17T07:27:05.607Z"
   },
   {
    "duration": 141,
    "start_time": "2021-10-17T07:27:05.905Z"
   },
   {
    "duration": 12,
    "start_time": "2021-10-17T07:27:06.049Z"
   },
   {
    "duration": 27,
    "start_time": "2021-10-17T07:27:06.063Z"
   },
   {
    "duration": 24,
    "start_time": "2021-10-17T07:27:06.092Z"
   },
   {
    "duration": 78,
    "start_time": "2021-10-17T07:27:06.118Z"
   },
   {
    "duration": 346,
    "start_time": "2021-10-17T07:27:06.199Z"
   },
   {
    "duration": 14,
    "start_time": "2021-10-17T07:27:06.547Z"
   },
   {
    "duration": 18,
    "start_time": "2021-10-17T07:27:06.563Z"
   },
   {
    "duration": 46,
    "start_time": "2021-10-17T07:27:06.583Z"
   },
   {
    "duration": 13,
    "start_time": "2021-10-17T07:27:06.631Z"
   },
   {
    "duration": 10,
    "start_time": "2021-10-17T07:27:06.650Z"
   },
   {
    "duration": 13,
    "start_time": "2021-10-17T07:27:06.663Z"
   },
   {
    "duration": 115,
    "start_time": "2021-10-17T07:27:06.678Z"
   },
   {
    "duration": 91,
    "start_time": "2021-10-17T07:27:06.795Z"
   },
   {
    "duration": 47,
    "start_time": "2021-10-17T07:27:06.888Z"
   },
   {
    "duration": 28,
    "start_time": "2021-10-17T07:27:06.937Z"
   },
   {
    "duration": 24,
    "start_time": "2021-10-17T07:27:06.967Z"
   },
   {
    "duration": 37,
    "start_time": "2021-10-17T07:27:06.993Z"
   },
   {
    "duration": 4349,
    "start_time": "2021-10-17T07:27:07.033Z"
   },
   {
    "duration": 44,
    "start_time": "2021-10-17T07:27:11.385Z"
   },
   {
    "duration": 24,
    "start_time": "2021-10-17T07:27:11.431Z"
   },
   {
    "duration": 31,
    "start_time": "2021-10-17T07:27:11.457Z"
   },
   {
    "duration": 30,
    "start_time": "2021-10-17T07:27:11.490Z"
   },
   {
    "duration": 20,
    "start_time": "2021-10-17T07:27:11.522Z"
   },
   {
    "duration": 23,
    "start_time": "2021-10-17T07:27:11.544Z"
   },
   {
    "duration": 333,
    "start_time": "2021-10-17T07:27:11.570Z"
   },
   {
    "duration": 29,
    "start_time": "2021-10-17T07:27:11.905Z"
   },
   {
    "duration": 86,
    "start_time": "2021-10-17T07:27:11.936Z"
   },
   {
    "duration": 13,
    "start_time": "2021-10-17T07:27:12.024Z"
   },
   {
    "duration": 30,
    "start_time": "2021-10-17T07:27:12.040Z"
   },
   {
    "duration": 330,
    "start_time": "2021-10-17T07:27:12.072Z"
   },
   {
    "duration": 335,
    "start_time": "2021-10-17T07:27:12.405Z"
   },
   {
    "duration": 23,
    "start_time": "2021-10-17T07:27:12.743Z"
   },
   {
    "duration": 62,
    "start_time": "2021-10-17T07:27:12.769Z"
   },
   {
    "duration": 9,
    "start_time": "2021-10-17T07:27:12.834Z"
   },
   {
    "duration": 14,
    "start_time": "2021-10-17T07:27:12.846Z"
   },
   {
    "duration": 64,
    "start_time": "2021-10-17T07:27:12.863Z"
   },
   {
    "duration": 25,
    "start_time": "2021-10-17T07:27:12.930Z"
   },
   {
    "duration": 36,
    "start_time": "2021-10-17T07:27:12.957Z"
   },
   {
    "duration": 27,
    "start_time": "2021-10-17T07:27:12.996Z"
   },
   {
    "duration": 17,
    "start_time": "2021-10-17T07:27:13.026Z"
   },
   {
    "duration": 22,
    "start_time": "2021-10-17T07:27:13.045Z"
   },
   {
    "duration": 53,
    "start_time": "2021-10-17T07:27:13.070Z"
   },
   {
    "duration": 15,
    "start_time": "2021-10-17T07:27:13.126Z"
   },
   {
    "duration": 20,
    "start_time": "2021-10-17T07:27:13.143Z"
   },
   {
    "duration": 57,
    "start_time": "2021-10-17T07:27:13.166Z"
   },
   {
    "duration": 808,
    "start_time": "2021-10-17T07:27:29.527Z"
   },
   {
    "duration": 29,
    "start_time": "2021-10-17T07:27:30.337Z"
   },
   {
    "duration": 43,
    "start_time": "2021-10-17T07:27:30.369Z"
   },
   {
    "duration": 32,
    "start_time": "2021-10-17T07:27:30.415Z"
   },
   {
    "duration": 21,
    "start_time": "2021-10-17T07:27:30.450Z"
   },
   {
    "duration": 62,
    "start_time": "2021-10-17T07:27:30.474Z"
   },
   {
    "duration": 19,
    "start_time": "2021-10-17T07:27:30.538Z"
   },
   {
    "duration": 25,
    "start_time": "2021-10-17T07:27:30.561Z"
   },
   {
    "duration": 26,
    "start_time": "2021-10-17T07:27:30.589Z"
   },
   {
    "duration": 24,
    "start_time": "2021-10-17T07:27:30.618Z"
   },
   {
    "duration": 539,
    "start_time": "2021-10-17T07:27:30.644Z"
   },
   {
    "duration": 306,
    "start_time": "2021-10-17T07:27:31.186Z"
   },
   {
    "duration": 142,
    "start_time": "2021-10-17T07:27:31.495Z"
   },
   {
    "duration": 12,
    "start_time": "2021-10-17T07:27:31.639Z"
   },
   {
    "duration": 40,
    "start_time": "2021-10-17T07:27:31.653Z"
   },
   {
    "duration": 9,
    "start_time": "2021-10-17T07:27:31.695Z"
   },
   {
    "duration": 28,
    "start_time": "2021-10-17T07:27:31.707Z"
   },
   {
    "duration": 347,
    "start_time": "2021-10-17T07:27:31.737Z"
   },
   {
    "duration": 15,
    "start_time": "2021-10-17T07:27:32.087Z"
   },
   {
    "duration": 34,
    "start_time": "2021-10-17T07:27:32.104Z"
   },
   {
    "duration": 26,
    "start_time": "2021-10-17T07:27:32.141Z"
   },
   {
    "duration": 11,
    "start_time": "2021-10-17T07:27:32.170Z"
   },
   {
    "duration": 35,
    "start_time": "2021-10-17T07:27:32.187Z"
   },
   {
    "duration": 10,
    "start_time": "2021-10-17T07:27:32.226Z"
   },
   {
    "duration": 105,
    "start_time": "2021-10-17T07:27:32.239Z"
   },
   {
    "duration": 36,
    "start_time": "2021-10-17T07:27:32.347Z"
   },
   {
    "duration": 104,
    "start_time": "2021-10-17T07:27:32.386Z"
   },
   {
    "duration": 44,
    "start_time": "2021-10-17T07:27:32.493Z"
   },
   {
    "duration": 24,
    "start_time": "2021-10-17T07:27:32.539Z"
   },
   {
    "duration": 12,
    "start_time": "2021-10-17T07:27:32.565Z"
   },
   {
    "duration": 4711,
    "start_time": "2021-10-17T07:27:32.580Z"
   },
   {
    "duration": 45,
    "start_time": "2021-10-17T07:27:37.294Z"
   },
   {
    "duration": 23,
    "start_time": "2021-10-17T07:27:37.342Z"
   },
   {
    "duration": 10,
    "start_time": "2021-10-17T07:27:37.367Z"
   },
   {
    "duration": 44,
    "start_time": "2021-10-17T07:27:37.379Z"
   },
   {
    "duration": 19,
    "start_time": "2021-10-17T07:27:37.425Z"
   },
   {
    "duration": 18,
    "start_time": "2021-10-17T07:27:37.446Z"
   },
   {
    "duration": 348,
    "start_time": "2021-10-17T07:27:37.466Z"
   },
   {
    "duration": 21,
    "start_time": "2021-10-17T07:27:37.822Z"
   },
   {
    "duration": 90,
    "start_time": "2021-10-17T07:27:37.845Z"
   },
   {
    "duration": 15,
    "start_time": "2021-10-17T07:27:37.938Z"
   },
   {
    "duration": 38,
    "start_time": "2021-10-17T07:27:37.956Z"
   },
   {
    "duration": 334,
    "start_time": "2021-10-17T07:27:37.997Z"
   },
   {
    "duration": 344,
    "start_time": "2021-10-17T07:27:38.334Z"
   },
   {
    "duration": 23,
    "start_time": "2021-10-17T07:27:38.680Z"
   },
   {
    "duration": 45,
    "start_time": "2021-10-17T07:27:38.706Z"
   },
   {
    "duration": 9,
    "start_time": "2021-10-17T07:27:38.753Z"
   },
   {
    "duration": 12,
    "start_time": "2021-10-17T07:27:38.765Z"
   },
   {
    "duration": 72,
    "start_time": "2021-10-17T07:27:38.779Z"
   },
   {
    "duration": 25,
    "start_time": "2021-10-17T07:27:38.854Z"
   },
   {
    "duration": 48,
    "start_time": "2021-10-17T07:27:38.882Z"
   },
   {
    "duration": 13,
    "start_time": "2021-10-17T07:27:38.933Z"
   },
   {
    "duration": 7,
    "start_time": "2021-10-17T07:27:38.948Z"
   },
   {
    "duration": 18,
    "start_time": "2021-10-17T07:27:38.958Z"
   },
   {
    "duration": 79,
    "start_time": "2021-10-17T07:27:38.978Z"
   },
   {
    "duration": 16,
    "start_time": "2021-10-17T07:27:39.060Z"
   },
   {
    "duration": 43,
    "start_time": "2021-10-17T07:27:39.079Z"
   },
   {
    "duration": 31,
    "start_time": "2021-10-17T07:27:39.125Z"
   },
   {
    "duration": 734,
    "start_time": "2021-10-18T16:21:37.921Z"
   },
   {
    "duration": 19,
    "start_time": "2021-10-18T16:21:38.938Z"
   },
   {
    "duration": 12,
    "start_time": "2021-10-18T16:21:41.546Z"
   },
   {
    "duration": 13,
    "start_time": "2021-10-18T16:21:43.418Z"
   },
   {
    "duration": 13,
    "start_time": "2021-10-18T16:21:45.375Z"
   },
   {
    "duration": 32,
    "start_time": "2021-10-18T16:21:49.339Z"
   },
   {
    "duration": 99,
    "start_time": "2021-10-18T17:24:51.506Z"
   },
   {
    "duration": 10,
    "start_time": "2021-10-18T17:24:53.798Z"
   },
   {
    "duration": 9,
    "start_time": "2021-10-18T17:24:58.461Z"
   },
   {
    "duration": 6,
    "start_time": "2021-10-18T17:24:59.481Z"
   },
   {
    "duration": 47,
    "start_time": "2021-10-18T17:49:31.021Z"
   },
   {
    "duration": 13,
    "start_time": "2021-10-18T17:49:31.634Z"
   },
   {
    "duration": 13,
    "start_time": "2021-10-18T17:49:33.394Z"
   },
   {
    "duration": 11,
    "start_time": "2021-10-18T17:49:35.343Z"
   },
   {
    "duration": 10,
    "start_time": "2021-10-18T17:49:38.451Z"
   },
   {
    "duration": 24,
    "start_time": "2021-10-18T17:49:41.436Z"
   },
   {
    "duration": 9,
    "start_time": "2021-10-18T17:50:04.293Z"
   },
   {
    "duration": 6,
    "start_time": "2021-10-18T17:50:06.272Z"
   },
   {
    "duration": 7,
    "start_time": "2021-10-18T17:50:09.373Z"
   },
   {
    "duration": 7,
    "start_time": "2021-10-18T17:50:10.751Z"
   },
   {
    "duration": 272,
    "start_time": "2021-10-18T17:50:13.333Z"
   },
   {
    "duration": 183,
    "start_time": "2021-10-18T17:50:15.267Z"
   },
   {
    "duration": 83,
    "start_time": "2021-10-18T17:50:26.198Z"
   },
   {
    "duration": 10,
    "start_time": "2021-10-18T17:50:28.559Z"
   },
   {
    "duration": 9,
    "start_time": "2021-10-18T17:50:35.242Z"
   },
   {
    "duration": 6,
    "start_time": "2021-10-18T17:50:35.790Z"
   },
   {
    "duration": 13,
    "start_time": "2021-10-18T17:50:48.463Z"
   },
   {
    "duration": 189,
    "start_time": "2021-10-18T17:51:04.685Z"
   },
   {
    "duration": 8,
    "start_time": "2021-10-18T17:51:45.014Z"
   },
   {
    "duration": 8,
    "start_time": "2021-10-18T17:52:21.289Z"
   },
   {
    "duration": 249,
    "start_time": "2021-10-18T17:52:23.866Z"
   },
   {
    "duration": 11,
    "start_time": "2021-10-18T17:52:57.735Z"
   },
   {
    "duration": 15,
    "start_time": "2021-10-18T17:53:54.033Z"
   },
   {
    "duration": 12,
    "start_time": "2021-10-18T17:53:57.361Z"
   },
   {
    "duration": 7,
    "start_time": "2021-10-18T17:55:28.443Z"
   },
   {
    "duration": 9,
    "start_time": "2021-10-18T17:55:30.313Z"
   },
   {
    "duration": 9,
    "start_time": "2021-10-18T17:55:31.620Z"
   },
   {
    "duration": 60,
    "start_time": "2021-10-18T17:55:36.760Z"
   },
   {
    "duration": 28,
    "start_time": "2021-10-18T17:55:39.979Z"
   },
   {
    "duration": 28,
    "start_time": "2021-10-18T17:55:42.858Z"
   },
   {
    "duration": 25,
    "start_time": "2021-10-18T17:55:47.919Z"
   },
   {
    "duration": 22,
    "start_time": "2021-10-18T17:55:49.746Z"
   },
   {
    "duration": 10,
    "start_time": "2021-10-18T17:57:05.340Z"
   },
   {
    "duration": 3823,
    "start_time": "2021-10-18T17:57:14.025Z"
   },
   {
    "duration": 275,
    "start_time": "2021-10-18T17:59:30.035Z"
   },
   {
    "duration": 834,
    "start_time": "2021-10-18T17:59:35.050Z"
   },
   {
    "duration": 245,
    "start_time": "2021-10-18T18:00:02.788Z"
   },
   {
    "duration": 81,
    "start_time": "2021-10-18T18:01:04.459Z"
   },
   {
    "duration": 283,
    "start_time": "2021-10-18T18:01:14.740Z"
   },
   {
    "duration": 479,
    "start_time": "2021-10-18T18:03:14.417Z"
   },
   {
    "duration": 111,
    "start_time": "2021-10-18T18:03:24.191Z"
   },
   {
    "duration": 16,
    "start_time": "2021-10-18T18:03:42.228Z"
   },
   {
    "duration": 8,
    "start_time": "2021-10-18T18:04:03.583Z"
   },
   {
    "duration": 3937,
    "start_time": "2021-10-18T18:04:20.896Z"
   },
   {
    "duration": 3702,
    "start_time": "2021-10-18T18:04:47.181Z"
   },
   {
    "duration": 7,
    "start_time": "2021-10-18T18:04:54.070Z"
   },
   {
    "duration": 16,
    "start_time": "2021-10-18T18:04:55.508Z"
   },
   {
    "duration": 78,
    "start_time": "2021-10-18T18:05:01.364Z"
   },
   {
    "duration": 16,
    "start_time": "2021-10-18T18:05:36.279Z"
   },
   {
    "duration": 1274,
    "start_time": "2021-10-18T18:05:59.757Z"
   },
   {
    "duration": 255,
    "start_time": "2021-10-18T18:06:33.302Z"
   },
   {
    "duration": 293,
    "start_time": "2021-10-18T18:07:00.898Z"
   },
   {
    "duration": 15,
    "start_time": "2021-10-18T18:07:05.043Z"
   },
   {
    "duration": 19,
    "start_time": "2021-10-18T18:07:29.527Z"
   },
   {
    "duration": 1851,
    "start_time": "2021-10-18T18:07:45.834Z"
   },
   {
    "duration": 1919,
    "start_time": "2021-10-18T18:08:09.022Z"
   },
   {
    "duration": 1598,
    "start_time": "2021-10-18T18:08:56.588Z"
   },
   {
    "duration": 1844,
    "start_time": "2021-10-18T18:09:14.664Z"
   },
   {
    "duration": 17,
    "start_time": "2021-10-18T18:09:41.087Z"
   },
   {
    "duration": 1846,
    "start_time": "2021-10-18T18:10:00.755Z"
   },
   {
    "duration": 1850,
    "start_time": "2021-10-18T18:10:09.271Z"
   },
   {
    "duration": 279,
    "start_time": "2021-10-18T18:10:45.132Z"
   },
   {
    "duration": 270,
    "start_time": "2021-10-18T18:10:55.792Z"
   },
   {
    "duration": 7,
    "start_time": "2021-10-18T18:11:18.536Z"
   },
   {
    "duration": 369,
    "start_time": "2021-10-18T18:11:26.945Z"
   },
   {
    "duration": 259,
    "start_time": "2021-10-18T18:11:51.545Z"
   },
   {
    "duration": 4,
    "start_time": "2021-10-18T18:12:28.421Z"
   },
   {
    "duration": 76,
    "start_time": "2021-10-18T18:12:32.102Z"
   },
   {
    "duration": 288,
    "start_time": "2021-10-18T18:12:58.706Z"
   },
   {
    "duration": 3428,
    "start_time": "2021-10-18T18:13:29.557Z"
   },
   {
    "duration": 77,
    "start_time": "2021-10-18T18:13:36.188Z"
   },
   {
    "duration": 6,
    "start_time": "2021-10-18T18:13:54.089Z"
   },
   {
    "duration": 16,
    "start_time": "2021-10-18T18:14:05.059Z"
   },
   {
    "duration": 252,
    "start_time": "2021-10-18T18:14:17.808Z"
   },
   {
    "duration": 1940,
    "start_time": "2021-10-18T18:14:41.289Z"
   },
   {
    "duration": 2025,
    "start_time": "2021-10-18T18:14:59.712Z"
   },
   {
    "duration": 263,
    "start_time": "2021-10-18T18:15:03.898Z"
   },
   {
    "duration": 252,
    "start_time": "2021-10-18T18:15:07.372Z"
   },
   {
    "duration": 19,
    "start_time": "2021-10-18T18:15:45.968Z"
   },
   {
    "duration": 17,
    "start_time": "2021-10-18T18:15:55.937Z"
   },
   {
    "duration": 16,
    "start_time": "2021-10-18T18:16:56.013Z"
   },
   {
    "duration": 16,
    "start_time": "2021-10-18T18:17:08.342Z"
   },
   {
    "duration": 24,
    "start_time": "2021-10-18T18:17:43.001Z"
   },
   {
    "duration": 7251,
    "start_time": "2021-10-18T18:17:59.256Z"
   },
   {
    "duration": 7,
    "start_time": "2021-10-18T18:18:31.396Z"
   },
   {
    "duration": 342,
    "start_time": "2021-10-18T18:19:27.911Z"
   },
   {
    "duration": 2107,
    "start_time": "2021-10-18T18:20:28.594Z"
   },
   {
    "duration": 2075,
    "start_time": "2021-10-18T18:20:45.433Z"
   },
   {
    "duration": 32,
    "start_time": "2021-10-18T18:30:36.659Z"
   },
   {
    "duration": 8,
    "start_time": "2021-10-18T18:30:40.426Z"
   },
   {
    "duration": 8,
    "start_time": "2021-10-18T18:30:49.982Z"
   },
   {
    "duration": 7,
    "start_time": "2021-10-18T18:31:03.408Z"
   },
   {
    "duration": 13,
    "start_time": "2021-10-18T18:31:05.162Z"
   },
   {
    "duration": 12,
    "start_time": "2021-10-18T18:32:20.857Z"
   },
   {
    "duration": 204,
    "start_time": "2021-10-18T18:32:28.791Z"
   },
   {
    "duration": 15,
    "start_time": "2021-10-18T18:32:33.076Z"
   },
   {
    "duration": 56,
    "start_time": "2021-10-18T18:32:45.758Z"
   },
   {
    "duration": 9,
    "start_time": "2021-10-18T18:33:10.199Z"
   },
   {
    "duration": 21,
    "start_time": "2021-10-18T18:33:17.322Z"
   },
   {
    "duration": 178,
    "start_time": "2021-10-18T18:33:23.090Z"
   },
   {
    "duration": 200,
    "start_time": "2021-10-18T18:33:30.578Z"
   },
   {
    "duration": 16,
    "start_time": "2021-10-18T18:33:34.107Z"
   },
   {
    "duration": 13,
    "start_time": "2021-10-18T18:34:00.702Z"
   },
   {
    "duration": 13,
    "start_time": "2021-10-18T18:34:07.140Z"
   },
   {
    "duration": 10,
    "start_time": "2021-10-18T18:34:16.325Z"
   },
   {
    "duration": 12,
    "start_time": "2021-10-18T18:34:21.258Z"
   },
   {
    "duration": 28,
    "start_time": "2021-10-18T18:34:32.027Z"
   },
   {
    "duration": 6,
    "start_time": "2021-10-18T18:34:49.857Z"
   },
   {
    "duration": 20,
    "start_time": "2021-10-18T18:34:55.112Z"
   },
   {
    "duration": 14,
    "start_time": "2021-10-18T18:35:10.115Z"
   },
   {
    "duration": 25,
    "start_time": "2021-10-18T18:35:15.597Z"
   },
   {
    "duration": 8,
    "start_time": "2021-10-18T18:38:44.430Z"
   },
   {
    "duration": 25,
    "start_time": "2021-10-18T18:39:00.767Z"
   },
   {
    "duration": 16,
    "start_time": "2021-10-18T18:39:39.996Z"
   },
   {
    "duration": 13,
    "start_time": "2021-10-18T18:39:53.196Z"
   },
   {
    "duration": 11,
    "start_time": "2021-10-18T18:39:56.833Z"
   },
   {
    "duration": 7,
    "start_time": "2021-10-18T18:40:02.883Z"
   },
   {
    "duration": 264,
    "start_time": "2021-10-18T18:42:00.500Z"
   },
   {
    "duration": 12,
    "start_time": "2021-10-18T18:44:09.419Z"
   },
   {
    "duration": 6,
    "start_time": "2021-10-18T18:44:32.985Z"
   },
   {
    "duration": 283,
    "start_time": "2021-10-18T18:44:42.433Z"
   },
   {
    "duration": 255,
    "start_time": "2021-10-18T18:44:47.511Z"
   },
   {
    "duration": 7,
    "start_time": "2021-10-18T18:44:51.181Z"
   },
   {
    "duration": 288,
    "start_time": "2021-10-18T18:45:00.294Z"
   },
   {
    "duration": 1041,
    "start_time": "2021-10-18T18:46:10.602Z"
   },
   {
    "duration": 8,
    "start_time": "2021-10-18T18:46:53.283Z"
   },
   {
    "duration": 12,
    "start_time": "2021-10-18T18:47:09.282Z"
   },
   {
    "duration": 12,
    "start_time": "2021-10-18T18:47:12.695Z"
   },
   {
    "duration": 7384,
    "start_time": "2021-10-18T18:48:05.778Z"
   },
   {
    "duration": 15,
    "start_time": "2021-10-18T18:48:17.329Z"
   },
   {
    "duration": 12,
    "start_time": "2021-10-18T18:48:35.017Z"
   },
   {
    "duration": 24,
    "start_time": "2021-10-18T18:50:13.394Z"
   },
   {
    "duration": 18,
    "start_time": "2021-10-18T18:50:28.799Z"
   },
   {
    "duration": 6811,
    "start_time": "2021-10-18T18:50:34.556Z"
   },
   {
    "duration": 9299,
    "start_time": "2021-10-18T18:50:46.505Z"
   },
   {
    "duration": 8,
    "start_time": "2021-10-18T18:50:58.282Z"
   },
   {
    "duration": 7,
    "start_time": "2021-10-18T18:51:06.837Z"
   },
   {
    "duration": 7,
    "start_time": "2021-10-18T18:51:48.921Z"
   },
   {
    "duration": 10,
    "start_time": "2021-10-18T18:51:54.048Z"
   },
   {
    "duration": 297,
    "start_time": "2021-10-18T18:53:14.014Z"
   },
   {
    "duration": 29,
    "start_time": "2021-10-18T18:53:24.656Z"
   },
   {
    "duration": 21,
    "start_time": "2021-10-18T18:53:59.851Z"
   },
   {
    "duration": 29,
    "start_time": "2021-10-18T18:54:04.646Z"
   },
   {
    "duration": 26,
    "start_time": "2021-10-18T18:56:25.662Z"
   },
   {
    "duration": 27,
    "start_time": "2021-10-18T18:56:42.867Z"
   },
   {
    "duration": 5,
    "start_time": "2021-10-18T18:57:13.905Z"
   },
   {
    "duration": 8,
    "start_time": "2021-10-18T18:59:49.302Z"
   },
   {
    "duration": 10,
    "start_time": "2021-10-18T18:59:55.177Z"
   },
   {
    "duration": 363,
    "start_time": "2021-10-18T19:04:19.673Z"
   },
   {
    "duration": 31,
    "start_time": "2021-10-18T19:04:33.534Z"
   },
   {
    "duration": 4,
    "start_time": "2021-10-18T19:06:16.387Z"
   },
   {
    "duration": 25,
    "start_time": "2021-10-18T19:06:26.720Z"
   },
   {
    "duration": 25,
    "start_time": "2021-10-18T19:06:44.644Z"
   },
   {
    "duration": 29,
    "start_time": "2021-10-18T19:07:01.416Z"
   },
   {
    "duration": 42,
    "start_time": "2021-10-18T19:10:50.042Z"
   },
   {
    "duration": 82,
    "start_time": "2021-10-18T19:12:15.692Z"
   },
   {
    "duration": 22,
    "start_time": "2021-10-18T19:12:19.530Z"
   },
   {
    "duration": 35,
    "start_time": "2021-10-18T19:12:33.443Z"
   },
   {
    "duration": 23,
    "start_time": "2021-10-18T19:21:59.756Z"
   },
   {
    "duration": 263,
    "start_time": "2021-10-18T19:22:14.422Z"
   },
   {
    "duration": 23,
    "start_time": "2021-10-18T19:22:20.960Z"
   },
   {
    "duration": 26,
    "start_time": "2021-10-18T19:23:19.108Z"
   },
   {
    "duration": 23,
    "start_time": "2021-10-18T19:25:28.491Z"
   },
   {
    "duration": 24,
    "start_time": "2021-10-18T19:25:48.701Z"
   },
   {
    "duration": 20,
    "start_time": "2021-10-18T19:26:15.319Z"
   },
   {
    "duration": 19,
    "start_time": "2021-10-18T19:26:30.005Z"
   },
   {
    "duration": 58,
    "start_time": "2021-10-18T19:32:52.114Z"
   },
   {
    "duration": 12,
    "start_time": "2021-10-18T19:32:52.796Z"
   },
   {
    "duration": 16,
    "start_time": "2021-10-18T19:32:55.779Z"
   },
   {
    "duration": 11,
    "start_time": "2021-10-18T19:32:57.775Z"
   },
   {
    "duration": 10,
    "start_time": "2021-10-18T19:33:00.706Z"
   },
   {
    "duration": 25,
    "start_time": "2021-10-18T19:33:05.559Z"
   },
   {
    "duration": 11,
    "start_time": "2021-10-18T19:33:20.253Z"
   },
   {
    "duration": 8,
    "start_time": "2021-10-18T19:33:22.269Z"
   },
   {
    "duration": 7,
    "start_time": "2021-10-18T19:33:24.477Z"
   },
   {
    "duration": 7,
    "start_time": "2021-10-18T19:33:26.082Z"
   },
   {
    "duration": 311,
    "start_time": "2021-10-18T19:33:28.283Z"
   },
   {
    "duration": 178,
    "start_time": "2021-10-18T19:33:30.071Z"
   },
   {
    "duration": 96,
    "start_time": "2021-10-18T19:33:37.218Z"
   },
   {
    "duration": 10,
    "start_time": "2021-10-18T19:33:39.748Z"
   },
   {
    "duration": 9,
    "start_time": "2021-10-18T19:33:56.170Z"
   },
   {
    "duration": 7,
    "start_time": "2021-10-18T19:33:56.728Z"
   },
   {
    "duration": 8,
    "start_time": "2021-10-18T19:34:06.478Z"
   },
   {
    "duration": 8,
    "start_time": "2021-10-18T19:34:08.385Z"
   },
   {
    "duration": 175,
    "start_time": "2021-10-18T19:34:09.210Z"
   },
   {
    "duration": 8,
    "start_time": "2021-10-18T19:34:17.576Z"
   },
   {
    "duration": 194,
    "start_time": "2021-10-18T19:34:20.127Z"
   },
   {
    "duration": 11,
    "start_time": "2021-10-18T19:34:28.033Z"
   },
   {
    "duration": 14,
    "start_time": "2021-10-18T19:34:30.905Z"
   },
   {
    "duration": 11,
    "start_time": "2021-10-18T19:34:38.163Z"
   },
   {
    "duration": 9,
    "start_time": "2021-10-18T19:34:45.213Z"
   },
   {
    "duration": 8,
    "start_time": "2021-10-18T19:34:47.037Z"
   },
   {
    "duration": 8,
    "start_time": "2021-10-18T19:34:48.574Z"
   },
   {
    "duration": 63,
    "start_time": "2021-10-18T19:34:50.996Z"
   },
   {
    "duration": 32,
    "start_time": "2021-10-18T19:35:38.455Z"
   },
   {
    "duration": 33,
    "start_time": "2021-10-18T19:35:42.215Z"
   },
   {
    "duration": 30,
    "start_time": "2021-10-18T19:35:54.772Z"
   },
   {
    "duration": 23,
    "start_time": "2021-10-18T19:35:56.927Z"
   },
   {
    "duration": 9,
    "start_time": "2021-10-18T19:36:00.595Z"
   },
   {
    "duration": 3609,
    "start_time": "2021-10-18T19:36:08.827Z"
   },
   {
    "duration": 2738,
    "start_time": "2021-10-18T19:36:16.942Z"
   },
   {
    "duration": 24,
    "start_time": "2021-10-18T19:36:28.030Z"
   },
   {
    "duration": 8,
    "start_time": "2021-10-18T19:36:30.993Z"
   },
   {
    "duration": 20,
    "start_time": "2021-10-18T19:36:34.164Z"
   },
   {
    "duration": 12,
    "start_time": "2021-10-18T19:36:36.920Z"
   },
   {
    "duration": 13,
    "start_time": "2021-10-18T19:36:55.144Z"
   },
   {
    "duration": 194,
    "start_time": "2021-10-18T19:36:57.284Z"
   },
   {
    "duration": 13,
    "start_time": "2021-10-18T19:36:59.654Z"
   },
   {
    "duration": 55,
    "start_time": "2021-10-18T19:37:03.829Z"
   },
   {
    "duration": 9,
    "start_time": "2021-10-18T19:37:06.440Z"
   },
   {
    "duration": 22,
    "start_time": "2021-10-18T19:37:08.788Z"
   },
   {
    "duration": 176,
    "start_time": "2021-10-18T19:37:12.281Z"
   },
   {
    "duration": 195,
    "start_time": "2021-10-18T19:37:14.668Z"
   },
   {
    "duration": 14,
    "start_time": "2021-10-18T19:37:17.454Z"
   },
   {
    "duration": 24,
    "start_time": "2021-10-18T19:37:20.327Z"
   },
   {
    "duration": 7,
    "start_time": "2021-10-18T19:37:28.052Z"
   },
   {
    "duration": 24,
    "start_time": "2021-10-18T19:37:29.576Z"
   },
   {
    "duration": 15,
    "start_time": "2021-10-18T19:37:43.577Z"
   },
   {
    "duration": 3,
    "start_time": "2021-10-18T19:37:52.734Z"
   },
   {
    "duration": 27,
    "start_time": "2021-10-18T19:37:53.457Z"
   },
   {
    "duration": 24,
    "start_time": "2021-10-18T19:37:55.805Z"
   },
   {
    "duration": 31,
    "start_time": "2021-10-18T19:37:59.873Z"
   },
   {
    "duration": 25,
    "start_time": "2021-10-18T19:38:02.756Z"
   },
   {
    "duration": 23,
    "start_time": "2021-10-18T19:38:04.454Z"
   },
   {
    "duration": 26,
    "start_time": "2021-10-18T19:38:09.031Z"
   },
   {
    "duration": 27,
    "start_time": "2021-10-18T19:38:14.059Z"
   },
   {
    "duration": 22,
    "start_time": "2021-10-18T19:38:17.090Z"
   },
   {
    "duration": 20,
    "start_time": "2021-10-18T19:38:18.368Z"
   },
   {
    "duration": 1542,
    "start_time": "2022-02-14T21:22:09.647Z"
   },
   {
    "duration": 116,
    "start_time": "2022-02-14T21:22:14.952Z"
   },
   {
    "duration": 22,
    "start_time": "2022-02-14T21:22:17.123Z"
   },
   {
    "duration": 36,
    "start_time": "2022-02-14T21:22:19.686Z"
   },
   {
    "duration": 17,
    "start_time": "2022-02-14T21:22:21.038Z"
   },
   {
    "duration": 11,
    "start_time": "2022-02-14T21:22:30.111Z"
   },
   {
    "duration": 14,
    "start_time": "2022-02-14T21:22:36.597Z"
   },
   {
    "duration": 36,
    "start_time": "2022-02-14T21:22:41.727Z"
   },
   {
    "duration": 15,
    "start_time": "2022-02-14T21:23:08.113Z"
   },
   {
    "duration": 16,
    "start_time": "2022-02-14T21:23:14.978Z"
   },
   {
    "duration": 476,
    "start_time": "2022-02-14T21:23:22.030Z"
   },
   {
    "duration": 4017,
    "start_time": "2022-02-14T21:23:37.602Z"
   },
   {
    "duration": 281,
    "start_time": "2022-02-14T21:23:48.385Z"
   },
   {
    "duration": 1521,
    "start_time": "2022-02-14T21:23:53.791Z"
   },
   {
    "duration": 4635,
    "start_time": "2022-02-14T21:24:45.578Z"
   },
   {
    "duration": 261,
    "start_time": "2022-02-14T21:24:55.708Z"
   },
   {
    "duration": 2166,
    "start_time": "2022-02-14T21:25:10.131Z"
   },
   {
    "duration": 62,
    "start_time": "2022-02-14T21:25:12.299Z"
   },
   {
    "duration": 21,
    "start_time": "2022-02-14T21:25:12.364Z"
   },
   {
    "duration": 22,
    "start_time": "2022-02-14T21:25:12.387Z"
   },
   {
    "duration": 17,
    "start_time": "2022-02-14T21:25:14.157Z"
   },
   {
    "duration": 16,
    "start_time": "2022-02-14T21:25:16.020Z"
   },
   {
    "duration": 13,
    "start_time": "2022-02-14T21:25:16.207Z"
   },
   {
    "duration": 45,
    "start_time": "2022-02-14T21:25:17.799Z"
   },
   {
    "duration": 17,
    "start_time": "2022-02-14T21:25:21.098Z"
   },
   {
    "duration": 10,
    "start_time": "2022-02-14T21:25:23.023Z"
   },
   {
    "duration": 14,
    "start_time": "2022-02-14T21:25:25.744Z"
   },
   {
    "duration": 25,
    "start_time": "2022-02-14T21:25:26.567Z"
   },
   {
    "duration": 387,
    "start_time": "2022-02-14T21:25:28.517Z"
   },
   {
    "duration": 349,
    "start_time": "2022-02-14T21:25:43.936Z"
   },
   {
    "duration": 137,
    "start_time": "2022-02-14T21:25:58.790Z"
   },
   {
    "duration": 23,
    "start_time": "2022-02-14T21:26:00.995Z"
   },
   {
    "duration": 15,
    "start_time": "2022-02-14T21:26:13.204Z"
   },
   {
    "duration": 8,
    "start_time": "2022-02-14T21:26:14.292Z"
   },
   {
    "duration": 14,
    "start_time": "2022-02-14T21:26:19.107Z"
   },
   {
    "duration": 14,
    "start_time": "2022-02-14T21:26:24.637Z"
   },
   {
    "duration": 16,
    "start_time": "2022-02-14T21:26:24.924Z"
   },
   {
    "duration": 408,
    "start_time": "2022-02-14T21:26:31.099Z"
   },
   {
    "duration": 5,
    "start_time": "2022-02-14T21:26:56.144Z"
   },
   {
    "duration": 736,
    "start_time": "2022-02-14T21:27:04.706Z"
   },
   {
    "duration": 16,
    "start_time": "2022-02-14T21:27:12.478Z"
   },
   {
    "duration": 23,
    "start_time": "2022-02-14T21:27:14.059Z"
   },
   {
    "duration": 23,
    "start_time": "2022-02-14T21:27:15.936Z"
   },
   {
    "duration": 13,
    "start_time": "2022-02-14T21:27:23.613Z"
   },
   {
    "duration": 19,
    "start_time": "2022-02-14T21:27:29.833Z"
   },
   {
    "duration": 18,
    "start_time": "2022-02-14T21:27:34.698Z"
   },
   {
    "duration": 138,
    "start_time": "2022-02-14T21:27:45.545Z"
   },
   {
    "duration": 39,
    "start_time": "2022-02-14T21:27:50.887Z"
   },
   {
    "duration": 57,
    "start_time": "2022-02-14T21:27:53.654Z"
   },
   {
    "duration": 31,
    "start_time": "2022-02-14T21:27:55.920Z"
   },
   {
    "duration": 36,
    "start_time": "2022-02-14T21:27:57.072Z"
   },
   {
    "duration": 21,
    "start_time": "2022-02-14T21:28:02.469Z"
   },
   {
    "duration": 5472,
    "start_time": "2022-02-14T21:28:12.282Z"
   },
   {
    "duration": 6,
    "start_time": "2022-02-14T21:28:27.791Z"
   },
   {
    "duration": 3733,
    "start_time": "2022-02-14T21:28:36.776Z"
   },
   {
    "duration": 54,
    "start_time": "2022-02-14T21:29:16.635Z"
   },
   {
    "duration": 10,
    "start_time": "2022-02-14T21:30:27.599Z"
   },
   {
    "duration": 7,
    "start_time": "2022-02-14T21:30:43.894Z"
   },
   {
    "duration": 1165,
    "start_time": "2022-02-14T21:31:04.248Z"
   },
   {
    "duration": 31,
    "start_time": "2022-02-14T21:31:22.353Z"
   },
   {
    "duration": 14,
    "start_time": "2022-02-14T21:31:25.396Z"
   },
   {
    "duration": 20,
    "start_time": "2022-02-14T21:31:33.855Z"
   },
   {
    "duration": 16,
    "start_time": "2022-02-14T21:31:41.299Z"
   },
   {
    "duration": 454,
    "start_time": "2022-02-14T21:32:53.017Z"
   },
   {
    "duration": 526,
    "start_time": "2022-02-14T21:33:03.715Z"
   },
   {
    "duration": 521,
    "start_time": "2022-02-14T21:33:28.221Z"
   },
   {
    "duration": 19,
    "start_time": "2022-02-14T21:33:58.370Z"
   },
   {
    "duration": 74,
    "start_time": "2022-02-14T21:34:32.403Z"
   },
   {
    "duration": 13,
    "start_time": "2022-02-14T21:34:36.645Z"
   },
   {
    "duration": 4,
    "start_time": "2022-02-14T21:35:07.479Z"
   },
   {
    "duration": 13,
    "start_time": "2022-02-14T21:35:08.922Z"
   },
   {
    "duration": 17,
    "start_time": "2022-02-14T21:35:09.557Z"
   },
   {
    "duration": 6366,
    "start_time": "2022-02-14T21:35:25.494Z"
   },
   {
    "duration": 1382,
    "start_time": "2022-02-14T21:35:34.027Z"
   },
   {
    "duration": 257,
    "start_time": "2022-02-14T21:36:34.487Z"
   },
   {
    "duration": 722,
    "start_time": "2022-02-14T21:36:58.441Z"
   },
   {
    "duration": 1241,
    "start_time": "2022-02-14T21:37:01.111Z"
   },
   {
    "duration": 26,
    "start_time": "2022-02-14T21:37:27.663Z"
   },
   {
    "duration": 5,
    "start_time": "2022-02-14T21:37:46.520Z"
   },
   {
    "duration": 16,
    "start_time": "2022-02-14T21:37:47.023Z"
   },
   {
    "duration": 17,
    "start_time": "2022-02-14T21:37:47.315Z"
   },
   {
    "duration": 9,
    "start_time": "2022-02-14T21:38:03.958Z"
   },
   {
    "duration": 37,
    "start_time": "2022-02-14T21:38:19.680Z"
   },
   {
    "duration": 24,
    "start_time": "2022-02-14T21:38:45.285Z"
   },
   {
    "duration": 6,
    "start_time": "2022-02-14T21:41:56.121Z"
   },
   {
    "duration": 568,
    "start_time": "2022-02-14T21:41:56.892Z"
   },
   {
    "duration": 14,
    "start_time": "2022-02-14T21:42:27.406Z"
   },
   {
    "duration": 38,
    "start_time": "2022-02-14T21:42:33.906Z"
   },
   {
    "duration": 36,
    "start_time": "2022-02-14T21:42:37.180Z"
   },
   {
    "duration": 42,
    "start_time": "2022-02-14T21:43:25.435Z"
   },
   {
    "duration": 37,
    "start_time": "2022-02-14T21:43:40.412Z"
   },
   {
    "duration": 32,
    "start_time": "2022-02-14T21:43:45.648Z"
   },
   {
    "duration": 38,
    "start_time": "2022-02-14T21:44:07.663Z"
   },
   {
    "duration": 39,
    "start_time": "2022-02-14T21:44:27.141Z"
   },
   {
    "duration": 35,
    "start_time": "2022-02-14T21:44:29.124Z"
   },
   {
    "duration": 30,
    "start_time": "2022-02-14T21:44:29.640Z"
   }
  ],
  "kernelspec": {
   "display_name": "Python 3",
   "language": "python",
   "name": "python3"
  },
  "language_info": {
   "codemirror_mode": {
    "name": "ipython",
    "version": 3
   },
   "file_extension": ".py",
   "mimetype": "text/x-python",
   "name": "python",
   "nbconvert_exporter": "python",
   "pygments_lexer": "ipython3",
   "version": "3.7.8"
  },
  "toc": {
   "base_numbering": 1,
   "nav_menu": {},
   "number_sections": true,
   "sideBar": true,
   "skip_h1_title": true,
   "title_cell": "Table of Contents",
   "title_sidebar": "Contents",
   "toc_cell": false,
   "toc_position": {},
   "toc_section_display": true,
   "toc_window_display": true
  }
 },
 "nbformat": 4,
 "nbformat_minor": 2
}
