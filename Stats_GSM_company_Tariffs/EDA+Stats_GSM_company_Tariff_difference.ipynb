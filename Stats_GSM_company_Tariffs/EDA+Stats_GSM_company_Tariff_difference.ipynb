{
 "cells": [
  {
   "cell_type": "markdown",
   "metadata": {},
   "source": [
    "## Загрузка данных и ознакомление с ними"
   ]
  },
  {
   "cell_type": "markdown",
   "metadata": {},
   "source": [
    "Импортирование всех необходимых для работы библиотек"
   ]
  },
  {
   "cell_type": "code",
   "execution_count": 226,
   "metadata": {},
   "outputs": [],
   "source": [
    "import pandas as pd\n",
    "import numpy as np\n",
    "import seaborn as sns\n",
    "from scipy import stats as st\n",
    "import matplotlib.pyplot as plt\n",
    "from functools import reduce"
   ]
  },
  {
   "cell_type": "markdown",
   "metadata": {},
   "source": [
    "### Информация о пользователях"
   ]
  },
  {
   "cell_type": "code",
   "execution_count": 227,
   "metadata": {},
   "outputs": [
    {
     "data": {
      "text/html": [
       "<div>\n",
       "<style scoped>\n",
       "    .dataframe tbody tr th:only-of-type {\n",
       "        vertical-align: middle;\n",
       "    }\n",
       "\n",
       "    .dataframe tbody tr th {\n",
       "        vertical-align: top;\n",
       "    }\n",
       "\n",
       "    .dataframe thead th {\n",
       "        text-align: right;\n",
       "    }\n",
       "</style>\n",
       "<table border=\"1\" class=\"dataframe\">\n",
       "  <thead>\n",
       "    <tr style=\"text-align: right;\">\n",
       "      <th></th>\n",
       "      <th>user_id</th>\n",
       "      <th>age</th>\n",
       "      <th>churn_date</th>\n",
       "      <th>city</th>\n",
       "      <th>first_name</th>\n",
       "      <th>last_name</th>\n",
       "      <th>reg_date</th>\n",
       "      <th>tariff</th>\n",
       "    </tr>\n",
       "  </thead>\n",
       "  <tbody>\n",
       "    <tr>\n",
       "      <th>0</th>\n",
       "      <td>1000</td>\n",
       "      <td>52</td>\n",
       "      <td>NaN</td>\n",
       "      <td>Краснодар</td>\n",
       "      <td>Рафаил</td>\n",
       "      <td>Верещагин</td>\n",
       "      <td>2018-05-25</td>\n",
       "      <td>advanced</td>\n",
       "    </tr>\n",
       "    <tr>\n",
       "      <th>1</th>\n",
       "      <td>1001</td>\n",
       "      <td>41</td>\n",
       "      <td>NaN</td>\n",
       "      <td>Москва</td>\n",
       "      <td>Иван</td>\n",
       "      <td>Ежов</td>\n",
       "      <td>2018-11-01</td>\n",
       "      <td>basic</td>\n",
       "    </tr>\n",
       "    <tr>\n",
       "      <th>2</th>\n",
       "      <td>1002</td>\n",
       "      <td>59</td>\n",
       "      <td>NaN</td>\n",
       "      <td>Стерлитамак</td>\n",
       "      <td>Евгений</td>\n",
       "      <td>Абрамович</td>\n",
       "      <td>2018-06-17</td>\n",
       "      <td>basic</td>\n",
       "    </tr>\n",
       "    <tr>\n",
       "      <th>3</th>\n",
       "      <td>1003</td>\n",
       "      <td>23</td>\n",
       "      <td>NaN</td>\n",
       "      <td>Москва</td>\n",
       "      <td>Белла</td>\n",
       "      <td>Белякова</td>\n",
       "      <td>2018-08-17</td>\n",
       "      <td>advanced</td>\n",
       "    </tr>\n",
       "    <tr>\n",
       "      <th>4</th>\n",
       "      <td>1004</td>\n",
       "      <td>68</td>\n",
       "      <td>NaN</td>\n",
       "      <td>Новокузнецк</td>\n",
       "      <td>Татьяна</td>\n",
       "      <td>Авдеенко</td>\n",
       "      <td>2018-05-14</td>\n",
       "      <td>advanced</td>\n",
       "    </tr>\n",
       "  </tbody>\n",
       "</table>\n",
       "</div>"
      ],
      "text/plain": [
       "   user_id  age churn_date         city first_name  last_name    reg_date  \\\n",
       "0     1000   52        NaN    Краснодар     Рафаил  Верещагин  2018-05-25   \n",
       "1     1001   41        NaN       Москва       Иван       Ежов  2018-11-01   \n",
       "2     1002   59        NaN  Стерлитамак    Евгений  Абрамович  2018-06-17   \n",
       "3     1003   23        NaN       Москва      Белла   Белякова  2018-08-17   \n",
       "4     1004   68        NaN  Новокузнецк    Татьяна   Авдеенко  2018-05-14   \n",
       "\n",
       "     tariff  \n",
       "0  advanced  \n",
       "1     basic  \n",
       "2     basic  \n",
       "3  advanced  \n",
       "4  advanced  "
      ]
     },
     "execution_count": 227,
     "metadata": {},
     "output_type": "execute_result"
    }
   ],
   "source": [
    "df_users = pd.read_csv('users.csv')\n",
    "df_users.head()"
   ]
  },
  {
   "cell_type": "code",
   "execution_count": 228,
   "metadata": {},
   "outputs": [
    {
     "name": "stdout",
     "output_type": "stream",
     "text": [
      "<class 'pandas.core.frame.DataFrame'>\n",
      "RangeIndex: 500 entries, 0 to 499\n",
      "Data columns (total 8 columns):\n",
      " #   Column      Non-Null Count  Dtype \n",
      "---  ------      --------------  ----- \n",
      " 0   user_id     500 non-null    int64 \n",
      " 1   age         500 non-null    int64 \n",
      " 2   churn_date  38 non-null     object\n",
      " 3   city        500 non-null    object\n",
      " 4   first_name  500 non-null    object\n",
      " 5   last_name   500 non-null    object\n",
      " 6   reg_date    500 non-null    object\n",
      " 7   tariff      500 non-null    object\n",
      "dtypes: int64(2), object(6)\n",
      "memory usage: 31.4+ KB\n"
     ]
    }
   ],
   "source": [
    "df_users.info()"
   ]
  },
  {
   "cell_type": "markdown",
   "metadata": {},
   "source": [
    "**Вывод**"
   ]
  },
  {
   "cell_type": "markdown",
   "metadata": {},
   "source": [
    "1. Данная таблица содержит общую информацию о пользователях. В ней 500 строк и 8 столбцов. 2 столбца имеют целочисленный формат, остальные столбцы - текстовый.\n",
    "2. Значения в столбце *reg_date* отражают дату подключения тарифа, ее нужно перевести в специальный формат даты-времени.\n",
    "3. Пропущенные значения в столбце *churn_date* говорят о том, что пользователь все еще пользуется указанным тарифом."
   ]
  },
  {
   "cell_type": "markdown",
   "metadata": {},
   "source": [
    "### Информация о тарифах"
   ]
  },
  {
   "cell_type": "code",
   "execution_count": 229,
   "metadata": {},
   "outputs": [
    {
     "data": {
      "text/html": [
       "<div>\n",
       "<style scoped>\n",
       "    .dataframe tbody tr th:only-of-type {\n",
       "        vertical-align: middle;\n",
       "    }\n",
       "\n",
       "    .dataframe tbody tr th {\n",
       "        vertical-align: top;\n",
       "    }\n",
       "\n",
       "    .dataframe thead th {\n",
       "        text-align: right;\n",
       "    }\n",
       "</style>\n",
       "<table border=\"1\" class=\"dataframe\">\n",
       "  <thead>\n",
       "    <tr style=\"text-align: right;\">\n",
       "      <th></th>\n",
       "      <th>messages_included</th>\n",
       "      <th>mb_per_month_included</th>\n",
       "      <th>minutes_included</th>\n",
       "      <th>rub_monthly_fee</th>\n",
       "      <th>rub_per_gb</th>\n",
       "      <th>rub_per_message</th>\n",
       "      <th>rub_per_minute</th>\n",
       "      <th>tariff_name</th>\n",
       "    </tr>\n",
       "  </thead>\n",
       "  <tbody>\n",
       "    <tr>\n",
       "      <th>0</th>\n",
       "      <td>50</td>\n",
       "      <td>15360</td>\n",
       "      <td>500</td>\n",
       "      <td>550</td>\n",
       "      <td>200</td>\n",
       "      <td>3</td>\n",
       "      <td>3</td>\n",
       "      <td>basic</td>\n",
       "    </tr>\n",
       "    <tr>\n",
       "      <th>1</th>\n",
       "      <td>1000</td>\n",
       "      <td>30720</td>\n",
       "      <td>3000</td>\n",
       "      <td>1950</td>\n",
       "      <td>150</td>\n",
       "      <td>1</td>\n",
       "      <td>1</td>\n",
       "      <td>advanced</td>\n",
       "    </tr>\n",
       "  </tbody>\n",
       "</table>\n",
       "</div>"
      ],
      "text/plain": [
       "   messages_included  mb_per_month_included  minutes_included  \\\n",
       "0                 50                  15360               500   \n",
       "1               1000                  30720              3000   \n",
       "\n",
       "   rub_monthly_fee  rub_per_gb  rub_per_message  rub_per_minute tariff_name  \n",
       "0              550         200                3               3       basic  \n",
       "1             1950         150                1               1    advanced  "
      ]
     },
     "execution_count": 229,
     "metadata": {},
     "output_type": "execute_result"
    }
   ],
   "source": [
    "df_tariffs = pd.read_csv('tariffs.csv')\n",
    "df_tariffs"
   ]
  },
  {
   "cell_type": "code",
   "execution_count": 230,
   "metadata": {},
   "outputs": [],
   "source": [
    "df_tariffs = df_tariffs.rename({'tariff_name' : 'tariff'}, axis='columns')"
   ]
  },
  {
   "cell_type": "markdown",
   "metadata": {},
   "source": [
    "Данная небольшая таблица отражает информацию о трафиных планах. "
   ]
  },
  {
   "cell_type": "markdown",
   "metadata": {},
   "source": [
    "### Информация о звонках"
   ]
  },
  {
   "cell_type": "code",
   "execution_count": 231,
   "metadata": {},
   "outputs": [
    {
     "data": {
      "text/html": [
       "<div>\n",
       "<style scoped>\n",
       "    .dataframe tbody tr th:only-of-type {\n",
       "        vertical-align: middle;\n",
       "    }\n",
       "\n",
       "    .dataframe tbody tr th {\n",
       "        vertical-align: top;\n",
       "    }\n",
       "\n",
       "    .dataframe thead th {\n",
       "        text-align: right;\n",
       "    }\n",
       "</style>\n",
       "<table border=\"1\" class=\"dataframe\">\n",
       "  <thead>\n",
       "    <tr style=\"text-align: right;\">\n",
       "      <th></th>\n",
       "      <th>id</th>\n",
       "      <th>call_date</th>\n",
       "      <th>duration</th>\n",
       "      <th>user_id</th>\n",
       "    </tr>\n",
       "  </thead>\n",
       "  <tbody>\n",
       "    <tr>\n",
       "      <th>0</th>\n",
       "      <td>1000_0</td>\n",
       "      <td>2018-07-25</td>\n",
       "      <td>0.00</td>\n",
       "      <td>1000</td>\n",
       "    </tr>\n",
       "    <tr>\n",
       "      <th>1</th>\n",
       "      <td>1000_1</td>\n",
       "      <td>2018-08-17</td>\n",
       "      <td>0.00</td>\n",
       "      <td>1000</td>\n",
       "    </tr>\n",
       "    <tr>\n",
       "      <th>2</th>\n",
       "      <td>1000_2</td>\n",
       "      <td>2018-06-11</td>\n",
       "      <td>2.85</td>\n",
       "      <td>1000</td>\n",
       "    </tr>\n",
       "    <tr>\n",
       "      <th>3</th>\n",
       "      <td>1000_3</td>\n",
       "      <td>2018-09-21</td>\n",
       "      <td>13.80</td>\n",
       "      <td>1000</td>\n",
       "    </tr>\n",
       "    <tr>\n",
       "      <th>4</th>\n",
       "      <td>1000_4</td>\n",
       "      <td>2018-12-15</td>\n",
       "      <td>5.18</td>\n",
       "      <td>1000</td>\n",
       "    </tr>\n",
       "  </tbody>\n",
       "</table>\n",
       "</div>"
      ],
      "text/plain": [
       "       id   call_date  duration  user_id\n",
       "0  1000_0  2018-07-25      0.00     1000\n",
       "1  1000_1  2018-08-17      0.00     1000\n",
       "2  1000_2  2018-06-11      2.85     1000\n",
       "3  1000_3  2018-09-21     13.80     1000\n",
       "4  1000_4  2018-12-15      5.18     1000"
      ]
     },
     "execution_count": 231,
     "metadata": {},
     "output_type": "execute_result"
    }
   ],
   "source": [
    "df_calls = pd.read_csv('calls.csv')\n",
    "df_calls.head()"
   ]
  },
  {
   "cell_type": "code",
   "execution_count": 232,
   "metadata": {
    "scrolled": true
   },
   "outputs": [
    {
     "name": "stdout",
     "output_type": "stream",
     "text": [
      "<class 'pandas.core.frame.DataFrame'>\n",
      "RangeIndex: 202607 entries, 0 to 202606\n",
      "Data columns (total 4 columns):\n",
      " #   Column     Non-Null Count   Dtype  \n",
      "---  ------     --------------   -----  \n",
      " 0   id         202607 non-null  object \n",
      " 1   call_date  202607 non-null  object \n",
      " 2   duration   202607 non-null  float64\n",
      " 3   user_id    202607 non-null  int64  \n",
      "dtypes: float64(1), int64(1), object(2)\n",
      "memory usage: 6.2+ MB\n"
     ]
    }
   ],
   "source": [
    "df_calls.info()"
   ]
  },
  {
   "cell_type": "markdown",
   "metadata": {},
   "source": [
    "**Вывод**"
   ]
  },
  {
   "cell_type": "markdown",
   "metadata": {},
   "source": [
    "1. Данная таблица содержит информацию о звонках пользователей в течение 2018 года. В таблице 202607 строк и 4 столбца. Пропущенных значений нет. Каждая строка содержит информацию об одном звонке.\n",
    "2. Даты звонков нужно перевести в специальный формат даты-времени.\n",
    "3. Продолжительность разговора указана в минутах, тип данных - вещественный. Так как заказчик всегда округляет секунды до минут, то нам нужно округлить данную величину в большую сторону.\n",
    "4. Нули в столбце продолжительности означают пропущенные звонки."
   ]
  },
  {
   "cell_type": "markdown",
   "metadata": {},
   "source": [
    "### Информация о сообщениях"
   ]
  },
  {
   "cell_type": "code",
   "execution_count": 233,
   "metadata": {},
   "outputs": [
    {
     "data": {
      "text/html": [
       "<div>\n",
       "<style scoped>\n",
       "    .dataframe tbody tr th:only-of-type {\n",
       "        vertical-align: middle;\n",
       "    }\n",
       "\n",
       "    .dataframe tbody tr th {\n",
       "        vertical-align: top;\n",
       "    }\n",
       "\n",
       "    .dataframe thead th {\n",
       "        text-align: right;\n",
       "    }\n",
       "</style>\n",
       "<table border=\"1\" class=\"dataframe\">\n",
       "  <thead>\n",
       "    <tr style=\"text-align: right;\">\n",
       "      <th></th>\n",
       "      <th>id</th>\n",
       "      <th>message_date</th>\n",
       "      <th>user_id</th>\n",
       "    </tr>\n",
       "  </thead>\n",
       "  <tbody>\n",
       "    <tr>\n",
       "      <th>0</th>\n",
       "      <td>1000_0</td>\n",
       "      <td>2018-06-27</td>\n",
       "      <td>1000</td>\n",
       "    </tr>\n",
       "    <tr>\n",
       "      <th>1</th>\n",
       "      <td>1000_1</td>\n",
       "      <td>2018-10-08</td>\n",
       "      <td>1000</td>\n",
       "    </tr>\n",
       "    <tr>\n",
       "      <th>2</th>\n",
       "      <td>1000_2</td>\n",
       "      <td>2018-08-04</td>\n",
       "      <td>1000</td>\n",
       "    </tr>\n",
       "    <tr>\n",
       "      <th>3</th>\n",
       "      <td>1000_3</td>\n",
       "      <td>2018-06-16</td>\n",
       "      <td>1000</td>\n",
       "    </tr>\n",
       "    <tr>\n",
       "      <th>4</th>\n",
       "      <td>1000_4</td>\n",
       "      <td>2018-12-05</td>\n",
       "      <td>1000</td>\n",
       "    </tr>\n",
       "  </tbody>\n",
       "</table>\n",
       "</div>"
      ],
      "text/plain": [
       "       id message_date  user_id\n",
       "0  1000_0   2018-06-27     1000\n",
       "1  1000_1   2018-10-08     1000\n",
       "2  1000_2   2018-08-04     1000\n",
       "3  1000_3   2018-06-16     1000\n",
       "4  1000_4   2018-12-05     1000"
      ]
     },
     "execution_count": 233,
     "metadata": {},
     "output_type": "execute_result"
    }
   ],
   "source": [
    "df_messages = pd.read_csv('messages.csv')\n",
    "df_messages.head()"
   ]
  },
  {
   "cell_type": "code",
   "execution_count": 234,
   "metadata": {},
   "outputs": [
    {
     "name": "stdout",
     "output_type": "stream",
     "text": [
      "<class 'pandas.core.frame.DataFrame'>\n",
      "RangeIndex: 123036 entries, 0 to 123035\n",
      "Data columns (total 3 columns):\n",
      " #   Column        Non-Null Count   Dtype \n",
      "---  ------        --------------   ----- \n",
      " 0   id            123036 non-null  object\n",
      " 1   message_date  123036 non-null  object\n",
      " 2   user_id       123036 non-null  int64 \n",
      "dtypes: int64(1), object(2)\n",
      "memory usage: 2.8+ MB\n"
     ]
    }
   ],
   "source": [
    "df_messages.info()"
   ]
  },
  {
   "cell_type": "markdown",
   "metadata": {},
   "source": [
    "**Вывод**"
   ]
  },
  {
   "cell_type": "markdown",
   "metadata": {},
   "source": [
    "1. Данная таблица содержит информацию о сообщениях пользователей. В таблице 123036 строк и 3 столбца. Пропущенных значений нет. Каждая строка характеризует одно отправленное пользователем сообщение.\n",
    "2. Дату отправки сообщения нужно перевести в специальный формат даты-времени."
   ]
  },
  {
   "cell_type": "markdown",
   "metadata": {},
   "source": [
    "### Информация об интернет-сессиях"
   ]
  },
  {
   "cell_type": "code",
   "execution_count": 235,
   "metadata": {},
   "outputs": [
    {
     "data": {
      "text/html": [
       "<div>\n",
       "<style scoped>\n",
       "    .dataframe tbody tr th:only-of-type {\n",
       "        vertical-align: middle;\n",
       "    }\n",
       "\n",
       "    .dataframe tbody tr th {\n",
       "        vertical-align: top;\n",
       "    }\n",
       "\n",
       "    .dataframe thead th {\n",
       "        text-align: right;\n",
       "    }\n",
       "</style>\n",
       "<table border=\"1\" class=\"dataframe\">\n",
       "  <thead>\n",
       "    <tr style=\"text-align: right;\">\n",
       "      <th></th>\n",
       "      <th>id</th>\n",
       "      <th>mb_used</th>\n",
       "      <th>session_date</th>\n",
       "      <th>user_id</th>\n",
       "    </tr>\n",
       "  </thead>\n",
       "  <tbody>\n",
       "    <tr>\n",
       "      <th>0</th>\n",
       "      <td>1000_0</td>\n",
       "      <td>112.95</td>\n",
       "      <td>2018-11-25</td>\n",
       "      <td>1000</td>\n",
       "    </tr>\n",
       "    <tr>\n",
       "      <th>1</th>\n",
       "      <td>1000_1</td>\n",
       "      <td>1052.81</td>\n",
       "      <td>2018-09-07</td>\n",
       "      <td>1000</td>\n",
       "    </tr>\n",
       "    <tr>\n",
       "      <th>2</th>\n",
       "      <td>1000_2</td>\n",
       "      <td>1197.26</td>\n",
       "      <td>2018-06-25</td>\n",
       "      <td>1000</td>\n",
       "    </tr>\n",
       "    <tr>\n",
       "      <th>3</th>\n",
       "      <td>1000_3</td>\n",
       "      <td>550.27</td>\n",
       "      <td>2018-08-22</td>\n",
       "      <td>1000</td>\n",
       "    </tr>\n",
       "    <tr>\n",
       "      <th>4</th>\n",
       "      <td>1000_4</td>\n",
       "      <td>302.56</td>\n",
       "      <td>2018-09-24</td>\n",
       "      <td>1000</td>\n",
       "    </tr>\n",
       "  </tbody>\n",
       "</table>\n",
       "</div>"
      ],
      "text/plain": [
       "       id  mb_used session_date  user_id\n",
       "0  1000_0   112.95   2018-11-25     1000\n",
       "1  1000_1  1052.81   2018-09-07     1000\n",
       "2  1000_2  1197.26   2018-06-25     1000\n",
       "3  1000_3   550.27   2018-08-22     1000\n",
       "4  1000_4   302.56   2018-09-24     1000"
      ]
     },
     "execution_count": 235,
     "metadata": {},
     "output_type": "execute_result"
    }
   ],
   "source": [
    "df_internet = pd.read_csv('internet.csv', index_col=0)\n",
    "df_internet.head()"
   ]
  },
  {
   "cell_type": "code",
   "execution_count": 236,
   "metadata": {},
   "outputs": [
    {
     "name": "stdout",
     "output_type": "stream",
     "text": [
      "<class 'pandas.core.frame.DataFrame'>\n",
      "Int64Index: 149396 entries, 0 to 149395\n",
      "Data columns (total 4 columns):\n",
      " #   Column        Non-Null Count   Dtype  \n",
      "---  ------        --------------   -----  \n",
      " 0   id            149396 non-null  object \n",
      " 1   mb_used       149396 non-null  float64\n",
      " 2   session_date  149396 non-null  object \n",
      " 3   user_id       149396 non-null  int64  \n",
      "dtypes: float64(1), int64(1), object(2)\n",
      "memory usage: 5.7+ MB\n"
     ]
    }
   ],
   "source": [
    "df_internet.info()"
   ]
  },
  {
   "cell_type": "markdown",
   "metadata": {},
   "source": [
    "**Вывод**"
   ]
  },
  {
   "cell_type": "markdown",
   "metadata": {},
   "source": [
    "1. Данная таблица содержит информацию об интернет-сессиях пользователей. В таблице было 149396 строк и 4 столбца. Каждая строка содержит информацию об одной интернет-сессии пользователя. \n",
    "2. Пропущенных значений не обнаружено.\n",
    "3. Дату нужно перевести в специальный формат даты-времени.\n",
    "4. Мегабайты стоит перевести в гигабайты, однако после суммирования по месяцам."
   ]
  },
  {
   "cell_type": "markdown",
   "metadata": {},
   "source": [
    "## Подготовка данных"
   ]
  },
  {
   "cell_type": "markdown",
   "metadata": {},
   "source": [
    "На данном этапе нужно привести данные к нужным форматам, найти и устранить ошибки в данных (если имеются), а также рассчитать различные метрики использования тарифа для каждого пользователя помесячно."
   ]
  },
  {
   "cell_type": "markdown",
   "metadata": {},
   "source": [
    "### Приведение данных к нужным типам"
   ]
  },
  {
   "cell_type": "markdown",
   "metadata": {},
   "source": [
    "#### Пользователи"
   ]
  },
  {
   "cell_type": "markdown",
   "metadata": {},
   "source": [
    "Переведем дату в корректный формат."
   ]
  },
  {
   "cell_type": "code",
   "execution_count": 237,
   "metadata": {},
   "outputs": [],
   "source": [
    "FORMAT = '%Y-%m-%d'"
   ]
  },
  {
   "cell_type": "code",
   "execution_count": 238,
   "metadata": {},
   "outputs": [],
   "source": [
    "df_users['reg_date'] = pd.to_datetime(df_users['reg_date'], format=FORMAT)"
   ]
  },
  {
   "cell_type": "code",
   "execution_count": 239,
   "metadata": {},
   "outputs": [],
   "source": [
    "df_users['churn_date'] = pd.to_datetime(df_users['churn_date'], format=FORMAT)"
   ]
  },
  {
   "cell_type": "code",
   "execution_count": 240,
   "metadata": {},
   "outputs": [
    {
     "data": {
      "text/html": [
       "<div>\n",
       "<style scoped>\n",
       "    .dataframe tbody tr th:only-of-type {\n",
       "        vertical-align: middle;\n",
       "    }\n",
       "\n",
       "    .dataframe tbody tr th {\n",
       "        vertical-align: top;\n",
       "    }\n",
       "\n",
       "    .dataframe thead th {\n",
       "        text-align: right;\n",
       "    }\n",
       "</style>\n",
       "<table border=\"1\" class=\"dataframe\">\n",
       "  <thead>\n",
       "    <tr style=\"text-align: right;\">\n",
       "      <th></th>\n",
       "      <th>user_id</th>\n",
       "      <th>age</th>\n",
       "      <th>churn_date</th>\n",
       "      <th>city</th>\n",
       "      <th>first_name</th>\n",
       "      <th>last_name</th>\n",
       "      <th>reg_date</th>\n",
       "      <th>tariff</th>\n",
       "    </tr>\n",
       "  </thead>\n",
       "  <tbody>\n",
       "    <tr>\n",
       "      <th>0</th>\n",
       "      <td>1000</td>\n",
       "      <td>52</td>\n",
       "      <td>NaT</td>\n",
       "      <td>Краснодар</td>\n",
       "      <td>Рафаил</td>\n",
       "      <td>Верещагин</td>\n",
       "      <td>2018-05-25</td>\n",
       "      <td>advanced</td>\n",
       "    </tr>\n",
       "    <tr>\n",
       "      <th>1</th>\n",
       "      <td>1001</td>\n",
       "      <td>41</td>\n",
       "      <td>NaT</td>\n",
       "      <td>Москва</td>\n",
       "      <td>Иван</td>\n",
       "      <td>Ежов</td>\n",
       "      <td>2018-11-01</td>\n",
       "      <td>basic</td>\n",
       "    </tr>\n",
       "    <tr>\n",
       "      <th>2</th>\n",
       "      <td>1002</td>\n",
       "      <td>59</td>\n",
       "      <td>NaT</td>\n",
       "      <td>Стерлитамак</td>\n",
       "      <td>Евгений</td>\n",
       "      <td>Абрамович</td>\n",
       "      <td>2018-06-17</td>\n",
       "      <td>basic</td>\n",
       "    </tr>\n",
       "    <tr>\n",
       "      <th>3</th>\n",
       "      <td>1003</td>\n",
       "      <td>23</td>\n",
       "      <td>NaT</td>\n",
       "      <td>Москва</td>\n",
       "      <td>Белла</td>\n",
       "      <td>Белякова</td>\n",
       "      <td>2018-08-17</td>\n",
       "      <td>advanced</td>\n",
       "    </tr>\n",
       "    <tr>\n",
       "      <th>4</th>\n",
       "      <td>1004</td>\n",
       "      <td>68</td>\n",
       "      <td>NaT</td>\n",
       "      <td>Новокузнецк</td>\n",
       "      <td>Татьяна</td>\n",
       "      <td>Авдеенко</td>\n",
       "      <td>2018-05-14</td>\n",
       "      <td>advanced</td>\n",
       "    </tr>\n",
       "  </tbody>\n",
       "</table>\n",
       "</div>"
      ],
      "text/plain": [
       "   user_id  age churn_date         city first_name  last_name   reg_date  \\\n",
       "0     1000   52        NaT    Краснодар     Рафаил  Верещагин 2018-05-25   \n",
       "1     1001   41        NaT       Москва       Иван       Ежов 2018-11-01   \n",
       "2     1002   59        NaT  Стерлитамак    Евгений  Абрамович 2018-06-17   \n",
       "3     1003   23        NaT       Москва      Белла   Белякова 2018-08-17   \n",
       "4     1004   68        NaT  Новокузнецк    Татьяна   Авдеенко 2018-05-14   \n",
       "\n",
       "     tariff  \n",
       "0  advanced  \n",
       "1     basic  \n",
       "2     basic  \n",
       "3  advanced  \n",
       "4  advanced  "
      ]
     },
     "execution_count": 240,
     "metadata": {},
     "output_type": "execute_result"
    }
   ],
   "source": [
    "df_users.head()"
   ]
  },
  {
   "cell_type": "code",
   "execution_count": 241,
   "metadata": {
    "scrolled": true
   },
   "outputs": [
    {
     "name": "stdout",
     "output_type": "stream",
     "text": [
      "<class 'pandas.core.frame.DataFrame'>\n",
      "RangeIndex: 500 entries, 0 to 499\n",
      "Data columns (total 8 columns):\n",
      " #   Column      Non-Null Count  Dtype         \n",
      "---  ------      --------------  -----         \n",
      " 0   user_id     500 non-null    int64         \n",
      " 1   age         500 non-null    int64         \n",
      " 2   churn_date  38 non-null     datetime64[ns]\n",
      " 3   city        500 non-null    object        \n",
      " 4   first_name  500 non-null    object        \n",
      " 5   last_name   500 non-null    object        \n",
      " 6   reg_date    500 non-null    datetime64[ns]\n",
      " 7   tariff      500 non-null    object        \n",
      "dtypes: datetime64[ns](2), int64(2), object(4)\n",
      "memory usage: 31.4+ KB\n"
     ]
    }
   ],
   "source": [
    "df_users.info()"
   ]
  },
  {
   "cell_type": "markdown",
   "metadata": {},
   "source": [
    "#### Тарифы"
   ]
  },
  {
   "cell_type": "markdown",
   "metadata": {},
   "source": [
    "Переведем мегабайты в гигабайты."
   ]
  },
  {
   "cell_type": "code",
   "execution_count": 242,
   "metadata": {},
   "outputs": [],
   "source": [
    "df_tariffs['mb_per_month_included'] = (df_tariffs['mb_per_month_included'] / 1024).astype('int')\n",
    "df_tariffs = df_tariffs.rename(columns={'mb_per_month_included' : 'gb_per_month_included'})"
   ]
  },
  {
   "cell_type": "code",
   "execution_count": 243,
   "metadata": {},
   "outputs": [
    {
     "data": {
      "text/html": [
       "<div>\n",
       "<style scoped>\n",
       "    .dataframe tbody tr th:only-of-type {\n",
       "        vertical-align: middle;\n",
       "    }\n",
       "\n",
       "    .dataframe tbody tr th {\n",
       "        vertical-align: top;\n",
       "    }\n",
       "\n",
       "    .dataframe thead th {\n",
       "        text-align: right;\n",
       "    }\n",
       "</style>\n",
       "<table border=\"1\" class=\"dataframe\">\n",
       "  <thead>\n",
       "    <tr style=\"text-align: right;\">\n",
       "      <th></th>\n",
       "      <th>messages_included</th>\n",
       "      <th>gb_per_month_included</th>\n",
       "      <th>minutes_included</th>\n",
       "      <th>rub_monthly_fee</th>\n",
       "      <th>rub_per_gb</th>\n",
       "      <th>rub_per_message</th>\n",
       "      <th>rub_per_minute</th>\n",
       "      <th>tariff</th>\n",
       "    </tr>\n",
       "  </thead>\n",
       "  <tbody>\n",
       "    <tr>\n",
       "      <th>0</th>\n",
       "      <td>50</td>\n",
       "      <td>15</td>\n",
       "      <td>500</td>\n",
       "      <td>550</td>\n",
       "      <td>200</td>\n",
       "      <td>3</td>\n",
       "      <td>3</td>\n",
       "      <td>basic</td>\n",
       "    </tr>\n",
       "    <tr>\n",
       "      <th>1</th>\n",
       "      <td>1000</td>\n",
       "      <td>30</td>\n",
       "      <td>3000</td>\n",
       "      <td>1950</td>\n",
       "      <td>150</td>\n",
       "      <td>1</td>\n",
       "      <td>1</td>\n",
       "      <td>advanced</td>\n",
       "    </tr>\n",
       "  </tbody>\n",
       "</table>\n",
       "</div>"
      ],
      "text/plain": [
       "   messages_included  gb_per_month_included  minutes_included  \\\n",
       "0                 50                     15               500   \n",
       "1               1000                     30              3000   \n",
       "\n",
       "   rub_monthly_fee  rub_per_gb  rub_per_message  rub_per_minute    tariff  \n",
       "0              550         200                3               3     basic  \n",
       "1             1950         150                1               1  advanced  "
      ]
     },
     "execution_count": 243,
     "metadata": {},
     "output_type": "execute_result"
    }
   ],
   "source": [
    "df_tariffs"
   ]
  },
  {
   "cell_type": "markdown",
   "metadata": {},
   "source": [
    "#### Звонки"
   ]
  },
  {
   "cell_type": "markdown",
   "metadata": {},
   "source": [
    "Приведем дату в корректный формат."
   ]
  },
  {
   "cell_type": "code",
   "execution_count": 244,
   "metadata": {},
   "outputs": [],
   "source": [
    "df_calls['call_date'] = pd.to_datetime(df_calls['call_date'], format=FORMAT)"
   ]
  },
  {
   "cell_type": "markdown",
   "metadata": {},
   "source": [
    "Округлим продолжительность звонка до минут и приведем к целочисленному типу."
   ]
  },
  {
   "cell_type": "code",
   "execution_count": 245,
   "metadata": {},
   "outputs": [],
   "source": [
    "df_calls['duration'] = np.ceil(df_calls['duration']).astype(int)"
   ]
  },
  {
   "cell_type": "code",
   "execution_count": 246,
   "metadata": {},
   "outputs": [
    {
     "data": {
      "text/html": [
       "<div>\n",
       "<style scoped>\n",
       "    .dataframe tbody tr th:only-of-type {\n",
       "        vertical-align: middle;\n",
       "    }\n",
       "\n",
       "    .dataframe tbody tr th {\n",
       "        vertical-align: top;\n",
       "    }\n",
       "\n",
       "    .dataframe thead th {\n",
       "        text-align: right;\n",
       "    }\n",
       "</style>\n",
       "<table border=\"1\" class=\"dataframe\">\n",
       "  <thead>\n",
       "    <tr style=\"text-align: right;\">\n",
       "      <th></th>\n",
       "      <th>id</th>\n",
       "      <th>call_date</th>\n",
       "      <th>duration</th>\n",
       "      <th>user_id</th>\n",
       "    </tr>\n",
       "  </thead>\n",
       "  <tbody>\n",
       "    <tr>\n",
       "      <th>0</th>\n",
       "      <td>1000_0</td>\n",
       "      <td>2018-07-25</td>\n",
       "      <td>0</td>\n",
       "      <td>1000</td>\n",
       "    </tr>\n",
       "    <tr>\n",
       "      <th>1</th>\n",
       "      <td>1000_1</td>\n",
       "      <td>2018-08-17</td>\n",
       "      <td>0</td>\n",
       "      <td>1000</td>\n",
       "    </tr>\n",
       "    <tr>\n",
       "      <th>2</th>\n",
       "      <td>1000_2</td>\n",
       "      <td>2018-06-11</td>\n",
       "      <td>3</td>\n",
       "      <td>1000</td>\n",
       "    </tr>\n",
       "    <tr>\n",
       "      <th>3</th>\n",
       "      <td>1000_3</td>\n",
       "      <td>2018-09-21</td>\n",
       "      <td>14</td>\n",
       "      <td>1000</td>\n",
       "    </tr>\n",
       "    <tr>\n",
       "      <th>4</th>\n",
       "      <td>1000_4</td>\n",
       "      <td>2018-12-15</td>\n",
       "      <td>6</td>\n",
       "      <td>1000</td>\n",
       "    </tr>\n",
       "  </tbody>\n",
       "</table>\n",
       "</div>"
      ],
      "text/plain": [
       "       id  call_date  duration  user_id\n",
       "0  1000_0 2018-07-25         0     1000\n",
       "1  1000_1 2018-08-17         0     1000\n",
       "2  1000_2 2018-06-11         3     1000\n",
       "3  1000_3 2018-09-21        14     1000\n",
       "4  1000_4 2018-12-15         6     1000"
      ]
     },
     "execution_count": 246,
     "metadata": {},
     "output_type": "execute_result"
    }
   ],
   "source": [
    "df_calls.head()"
   ]
  },
  {
   "cell_type": "code",
   "execution_count": 247,
   "metadata": {},
   "outputs": [
    {
     "name": "stdout",
     "output_type": "stream",
     "text": [
      "<class 'pandas.core.frame.DataFrame'>\n",
      "RangeIndex: 202607 entries, 0 to 202606\n",
      "Data columns (total 4 columns):\n",
      " #   Column     Non-Null Count   Dtype         \n",
      "---  ------     --------------   -----         \n",
      " 0   id         202607 non-null  object        \n",
      " 1   call_date  202607 non-null  datetime64[ns]\n",
      " 2   duration   202607 non-null  int32         \n",
      " 3   user_id    202607 non-null  int64         \n",
      "dtypes: datetime64[ns](1), int32(1), int64(1), object(1)\n",
      "memory usage: 5.4+ MB\n"
     ]
    }
   ],
   "source": [
    "df_calls.info()"
   ]
  },
  {
   "cell_type": "markdown",
   "metadata": {},
   "source": [
    "#### Сообщения"
   ]
  },
  {
   "cell_type": "markdown",
   "metadata": {},
   "source": [
    "Как и в предыдущих случаях, переведем дату в корректный формат."
   ]
  },
  {
   "cell_type": "code",
   "execution_count": 248,
   "metadata": {},
   "outputs": [],
   "source": [
    "df_messages['message_date'] = pd.to_datetime(df_messages['message_date'], format=FORMAT)"
   ]
  },
  {
   "cell_type": "code",
   "execution_count": 249,
   "metadata": {},
   "outputs": [
    {
     "data": {
      "text/html": [
       "<div>\n",
       "<style scoped>\n",
       "    .dataframe tbody tr th:only-of-type {\n",
       "        vertical-align: middle;\n",
       "    }\n",
       "\n",
       "    .dataframe tbody tr th {\n",
       "        vertical-align: top;\n",
       "    }\n",
       "\n",
       "    .dataframe thead th {\n",
       "        text-align: right;\n",
       "    }\n",
       "</style>\n",
       "<table border=\"1\" class=\"dataframe\">\n",
       "  <thead>\n",
       "    <tr style=\"text-align: right;\">\n",
       "      <th></th>\n",
       "      <th>id</th>\n",
       "      <th>message_date</th>\n",
       "      <th>user_id</th>\n",
       "    </tr>\n",
       "  </thead>\n",
       "  <tbody>\n",
       "    <tr>\n",
       "      <th>0</th>\n",
       "      <td>1000_0</td>\n",
       "      <td>2018-06-27</td>\n",
       "      <td>1000</td>\n",
       "    </tr>\n",
       "    <tr>\n",
       "      <th>1</th>\n",
       "      <td>1000_1</td>\n",
       "      <td>2018-10-08</td>\n",
       "      <td>1000</td>\n",
       "    </tr>\n",
       "    <tr>\n",
       "      <th>2</th>\n",
       "      <td>1000_2</td>\n",
       "      <td>2018-08-04</td>\n",
       "      <td>1000</td>\n",
       "    </tr>\n",
       "    <tr>\n",
       "      <th>3</th>\n",
       "      <td>1000_3</td>\n",
       "      <td>2018-06-16</td>\n",
       "      <td>1000</td>\n",
       "    </tr>\n",
       "    <tr>\n",
       "      <th>4</th>\n",
       "      <td>1000_4</td>\n",
       "      <td>2018-12-05</td>\n",
       "      <td>1000</td>\n",
       "    </tr>\n",
       "  </tbody>\n",
       "</table>\n",
       "</div>"
      ],
      "text/plain": [
       "       id message_date  user_id\n",
       "0  1000_0   2018-06-27     1000\n",
       "1  1000_1   2018-10-08     1000\n",
       "2  1000_2   2018-08-04     1000\n",
       "3  1000_3   2018-06-16     1000\n",
       "4  1000_4   2018-12-05     1000"
      ]
     },
     "execution_count": 249,
     "metadata": {},
     "output_type": "execute_result"
    }
   ],
   "source": [
    "df_messages.head()"
   ]
  },
  {
   "cell_type": "code",
   "execution_count": 250,
   "metadata": {},
   "outputs": [
    {
     "name": "stdout",
     "output_type": "stream",
     "text": [
      "<class 'pandas.core.frame.DataFrame'>\n",
      "RangeIndex: 123036 entries, 0 to 123035\n",
      "Data columns (total 3 columns):\n",
      " #   Column        Non-Null Count   Dtype         \n",
      "---  ------        --------------   -----         \n",
      " 0   id            123036 non-null  object        \n",
      " 1   message_date  123036 non-null  datetime64[ns]\n",
      " 2   user_id       123036 non-null  int64         \n",
      "dtypes: datetime64[ns](1), int64(1), object(1)\n",
      "memory usage: 2.8+ MB\n"
     ]
    }
   ],
   "source": [
    "df_messages.info()"
   ]
  },
  {
   "cell_type": "markdown",
   "metadata": {},
   "source": [
    "#### Интернет-сессии"
   ]
  },
  {
   "cell_type": "code",
   "execution_count": 251,
   "metadata": {},
   "outputs": [],
   "source": [
    "df_internet['session_date'] = pd.to_datetime(df_internet['session_date'], format=FORMAT)"
   ]
  },
  {
   "cell_type": "code",
   "execution_count": 252,
   "metadata": {},
   "outputs": [
    {
     "data": {
      "text/html": [
       "<div>\n",
       "<style scoped>\n",
       "    .dataframe tbody tr th:only-of-type {\n",
       "        vertical-align: middle;\n",
       "    }\n",
       "\n",
       "    .dataframe tbody tr th {\n",
       "        vertical-align: top;\n",
       "    }\n",
       "\n",
       "    .dataframe thead th {\n",
       "        text-align: right;\n",
       "    }\n",
       "</style>\n",
       "<table border=\"1\" class=\"dataframe\">\n",
       "  <thead>\n",
       "    <tr style=\"text-align: right;\">\n",
       "      <th></th>\n",
       "      <th>id</th>\n",
       "      <th>mb_used</th>\n",
       "      <th>session_date</th>\n",
       "      <th>user_id</th>\n",
       "    </tr>\n",
       "  </thead>\n",
       "  <tbody>\n",
       "    <tr>\n",
       "      <th>0</th>\n",
       "      <td>1000_0</td>\n",
       "      <td>112.95</td>\n",
       "      <td>2018-11-25</td>\n",
       "      <td>1000</td>\n",
       "    </tr>\n",
       "    <tr>\n",
       "      <th>1</th>\n",
       "      <td>1000_1</td>\n",
       "      <td>1052.81</td>\n",
       "      <td>2018-09-07</td>\n",
       "      <td>1000</td>\n",
       "    </tr>\n",
       "    <tr>\n",
       "      <th>2</th>\n",
       "      <td>1000_2</td>\n",
       "      <td>1197.26</td>\n",
       "      <td>2018-06-25</td>\n",
       "      <td>1000</td>\n",
       "    </tr>\n",
       "    <tr>\n",
       "      <th>3</th>\n",
       "      <td>1000_3</td>\n",
       "      <td>550.27</td>\n",
       "      <td>2018-08-22</td>\n",
       "      <td>1000</td>\n",
       "    </tr>\n",
       "    <tr>\n",
       "      <th>4</th>\n",
       "      <td>1000_4</td>\n",
       "      <td>302.56</td>\n",
       "      <td>2018-09-24</td>\n",
       "      <td>1000</td>\n",
       "    </tr>\n",
       "  </tbody>\n",
       "</table>\n",
       "</div>"
      ],
      "text/plain": [
       "       id  mb_used session_date  user_id\n",
       "0  1000_0   112.95   2018-11-25     1000\n",
       "1  1000_1  1052.81   2018-09-07     1000\n",
       "2  1000_2  1197.26   2018-06-25     1000\n",
       "3  1000_3   550.27   2018-08-22     1000\n",
       "4  1000_4   302.56   2018-09-24     1000"
      ]
     },
     "execution_count": 252,
     "metadata": {},
     "output_type": "execute_result"
    }
   ],
   "source": [
    "df_internet.head()"
   ]
  },
  {
   "cell_type": "code",
   "execution_count": 253,
   "metadata": {},
   "outputs": [
    {
     "name": "stdout",
     "output_type": "stream",
     "text": [
      "<class 'pandas.core.frame.DataFrame'>\n",
      "Int64Index: 149396 entries, 0 to 149395\n",
      "Data columns (total 4 columns):\n",
      " #   Column        Non-Null Count   Dtype         \n",
      "---  ------        --------------   -----         \n",
      " 0   id            149396 non-null  object        \n",
      " 1   mb_used       149396 non-null  float64       \n",
      " 2   session_date  149396 non-null  datetime64[ns]\n",
      " 3   user_id       149396 non-null  int64         \n",
      "dtypes: datetime64[ns](1), float64(1), int64(1), object(1)\n",
      "memory usage: 5.7+ MB\n"
     ]
    }
   ],
   "source": [
    "df_internet.info()"
   ]
  },
  {
   "cell_type": "markdown",
   "metadata": {},
   "source": [
    "#### Вывод"
   ]
  },
  {
   "cell_type": "markdown",
   "metadata": {},
   "source": [
    "1. Даты переведены в корректный формат.\n",
    "2. Продолжительность звонков округлена до минут и переведена в целочисленнный формат."
   ]
  },
  {
   "cell_type": "markdown",
   "metadata": {},
   "source": [
    "### Поиск и устранение ошибок в данных"
   ]
  },
  {
   "cell_type": "markdown",
   "metadata": {},
   "source": [
    "#### Пропущенные значения"
   ]
  },
  {
   "cell_type": "markdown",
   "metadata": {},
   "source": [
    "Как отмечалось выше, лишь в таблице про пользователей присутствуют пропущенные значения в столбце *churn_date*, что означает, что пользователь все еще пользовался тарифом на момент сбора данных. Данные пропуски заполнять нет смысла, так как данный столбец нерелевантен для цели исследования."
   ]
  },
  {
   "cell_type": "markdown",
   "metadata": {},
   "source": [
    "#### Дубликаты"
   ]
  },
  {
   "cell_type": "markdown",
   "metadata": {},
   "source": [
    "Проверим таблицы на наличие дубликатов."
   ]
  },
  {
   "cell_type": "code",
   "execution_count": 254,
   "metadata": {},
   "outputs": [
    {
     "data": {
      "text/plain": [
       "0"
      ]
     },
     "execution_count": 254,
     "metadata": {},
     "output_type": "execute_result"
    }
   ],
   "source": [
    "df_users.duplicated().sum()"
   ]
  },
  {
   "cell_type": "code",
   "execution_count": 255,
   "metadata": {},
   "outputs": [
    {
     "data": {
      "text/plain": [
       "0"
      ]
     },
     "execution_count": 255,
     "metadata": {},
     "output_type": "execute_result"
    }
   ],
   "source": [
    "df_calls.duplicated().sum()"
   ]
  },
  {
   "cell_type": "code",
   "execution_count": 256,
   "metadata": {},
   "outputs": [
    {
     "data": {
      "text/plain": [
       "0"
      ]
     },
     "execution_count": 256,
     "metadata": {},
     "output_type": "execute_result"
    }
   ],
   "source": [
    "df_messages.duplicated().sum()"
   ]
  },
  {
   "cell_type": "code",
   "execution_count": 257,
   "metadata": {},
   "outputs": [
    {
     "data": {
      "text/plain": [
       "0"
      ]
     },
     "execution_count": 257,
     "metadata": {},
     "output_type": "execute_result"
    }
   ],
   "source": [
    "df_internet.duplicated().sum()"
   ]
  },
  {
   "cell_type": "markdown",
   "metadata": {},
   "source": [
    "Дубликаты не обнаружены."
   ]
  },
  {
   "cell_type": "markdown",
   "metadata": {},
   "source": [
    "#### Исследовательский анализ данных и поиск аномалий"
   ]
  },
  {
   "cell_type": "markdown",
   "metadata": {},
   "source": [
    "##### Пользователи"
   ]
  },
  {
   "cell_type": "code",
   "execution_count": 258,
   "metadata": {},
   "outputs": [
    {
     "data": {
      "text/html": [
       "<div>\n",
       "<style scoped>\n",
       "    .dataframe tbody tr th:only-of-type {\n",
       "        vertical-align: middle;\n",
       "    }\n",
       "\n",
       "    .dataframe tbody tr th {\n",
       "        vertical-align: top;\n",
       "    }\n",
       "\n",
       "    .dataframe thead th {\n",
       "        text-align: right;\n",
       "    }\n",
       "</style>\n",
       "<table border=\"1\" class=\"dataframe\">\n",
       "  <thead>\n",
       "    <tr style=\"text-align: right;\">\n",
       "      <th></th>\n",
       "      <th>count</th>\n",
       "      <th>unique</th>\n",
       "      <th>top</th>\n",
       "      <th>freq</th>\n",
       "      <th>mean</th>\n",
       "      <th>min</th>\n",
       "      <th>25%</th>\n",
       "      <th>50%</th>\n",
       "      <th>75%</th>\n",
       "      <th>max</th>\n",
       "      <th>std</th>\n",
       "    </tr>\n",
       "  </thead>\n",
       "  <tbody>\n",
       "    <tr>\n",
       "      <th>user_id</th>\n",
       "      <td>500.0</td>\n",
       "      <td>NaN</td>\n",
       "      <td>NaN</td>\n",
       "      <td>NaN</td>\n",
       "      <td>1249.5</td>\n",
       "      <td>1000.0</td>\n",
       "      <td>1124.75</td>\n",
       "      <td>1249.5</td>\n",
       "      <td>1374.25</td>\n",
       "      <td>1499.0</td>\n",
       "      <td>144.481833</td>\n",
       "    </tr>\n",
       "    <tr>\n",
       "      <th>age</th>\n",
       "      <td>500.0</td>\n",
       "      <td>NaN</td>\n",
       "      <td>NaN</td>\n",
       "      <td>NaN</td>\n",
       "      <td>46.588</td>\n",
       "      <td>18.0</td>\n",
       "      <td>32.0</td>\n",
       "      <td>46.0</td>\n",
       "      <td>62.0</td>\n",
       "      <td>75.0</td>\n",
       "      <td>16.66763</td>\n",
       "    </tr>\n",
       "    <tr>\n",
       "      <th>churn_date</th>\n",
       "      <td>38</td>\n",
       "      <td>NaN</td>\n",
       "      <td>NaN</td>\n",
       "      <td>NaN</td>\n",
       "      <td>2018-11-13 00:37:53.684210432</td>\n",
       "      <td>2018-08-17 00:00:00</td>\n",
       "      <td>2018-10-14 00:00:00</td>\n",
       "      <td>2018-11-24 00:00:00</td>\n",
       "      <td>2018-12-15 12:00:00</td>\n",
       "      <td>2018-12-30 00:00:00</td>\n",
       "      <td>NaN</td>\n",
       "    </tr>\n",
       "    <tr>\n",
       "      <th>city</th>\n",
       "      <td>500</td>\n",
       "      <td>76</td>\n",
       "      <td>Москва</td>\n",
       "      <td>99</td>\n",
       "      <td>NaN</td>\n",
       "      <td>NaN</td>\n",
       "      <td>NaN</td>\n",
       "      <td>NaN</td>\n",
       "      <td>NaN</td>\n",
       "      <td>NaN</td>\n",
       "      <td>NaN</td>\n",
       "    </tr>\n",
       "    <tr>\n",
       "      <th>first_name</th>\n",
       "      <td>500</td>\n",
       "      <td>246</td>\n",
       "      <td>Радим</td>\n",
       "      <td>6</td>\n",
       "      <td>NaN</td>\n",
       "      <td>NaN</td>\n",
       "      <td>NaN</td>\n",
       "      <td>NaN</td>\n",
       "      <td>NaN</td>\n",
       "      <td>NaN</td>\n",
       "      <td>NaN</td>\n",
       "    </tr>\n",
       "    <tr>\n",
       "      <th>last_name</th>\n",
       "      <td>500</td>\n",
       "      <td>419</td>\n",
       "      <td>Андреенко</td>\n",
       "      <td>5</td>\n",
       "      <td>NaN</td>\n",
       "      <td>NaN</td>\n",
       "      <td>NaN</td>\n",
       "      <td>NaN</td>\n",
       "      <td>NaN</td>\n",
       "      <td>NaN</td>\n",
       "      <td>NaN</td>\n",
       "    </tr>\n",
       "    <tr>\n",
       "      <th>reg_date</th>\n",
       "      <td>500</td>\n",
       "      <td>NaN</td>\n",
       "      <td>NaN</td>\n",
       "      <td>NaN</td>\n",
       "      <td>2018-06-30 18:57:35.999999744</td>\n",
       "      <td>2018-01-01 00:00:00</td>\n",
       "      <td>2018-04-07 12:00:00</td>\n",
       "      <td>2018-07-02 12:00:00</td>\n",
       "      <td>2018-09-29 00:00:00</td>\n",
       "      <td>2018-12-31 00:00:00</td>\n",
       "      <td>NaN</td>\n",
       "    </tr>\n",
       "    <tr>\n",
       "      <th>tariff</th>\n",
       "      <td>500</td>\n",
       "      <td>2</td>\n",
       "      <td>basic</td>\n",
       "      <td>351</td>\n",
       "      <td>NaN</td>\n",
       "      <td>NaN</td>\n",
       "      <td>NaN</td>\n",
       "      <td>NaN</td>\n",
       "      <td>NaN</td>\n",
       "      <td>NaN</td>\n",
       "      <td>NaN</td>\n",
       "    </tr>\n",
       "  </tbody>\n",
       "</table>\n",
       "</div>"
      ],
      "text/plain": [
       "            count unique        top freq                           mean  \\\n",
       "user_id     500.0    NaN        NaN  NaN                         1249.5   \n",
       "age         500.0    NaN        NaN  NaN                         46.588   \n",
       "churn_date     38    NaN        NaN  NaN  2018-11-13 00:37:53.684210432   \n",
       "city          500     76     Москва   99                            NaN   \n",
       "first_name    500    246      Радим    6                            NaN   \n",
       "last_name     500    419  Андреенко    5                            NaN   \n",
       "reg_date      500    NaN        NaN  NaN  2018-06-30 18:57:35.999999744   \n",
       "tariff        500      2      basic  351                            NaN   \n",
       "\n",
       "                            min                  25%                  50%  \\\n",
       "user_id                  1000.0              1124.75               1249.5   \n",
       "age                        18.0                 32.0                 46.0   \n",
       "churn_date  2018-08-17 00:00:00  2018-10-14 00:00:00  2018-11-24 00:00:00   \n",
       "city                        NaN                  NaN                  NaN   \n",
       "first_name                  NaN                  NaN                  NaN   \n",
       "last_name                   NaN                  NaN                  NaN   \n",
       "reg_date    2018-01-01 00:00:00  2018-04-07 12:00:00  2018-07-02 12:00:00   \n",
       "tariff                      NaN                  NaN                  NaN   \n",
       "\n",
       "                            75%                  max         std  \n",
       "user_id                 1374.25               1499.0  144.481833  \n",
       "age                        62.0                 75.0    16.66763  \n",
       "churn_date  2018-12-15 12:00:00  2018-12-30 00:00:00         NaN  \n",
       "city                        NaN                  NaN         NaN  \n",
       "first_name                  NaN                  NaN         NaN  \n",
       "last_name                   NaN                  NaN         NaN  \n",
       "reg_date    2018-09-29 00:00:00  2018-12-31 00:00:00         NaN  \n",
       "tariff                      NaN                  NaN         NaN  "
      ]
     },
     "execution_count": 258,
     "metadata": {},
     "output_type": "execute_result"
    }
   ],
   "source": [
    "df_users.describe(include='all', datetime_is_numeric=True).T"
   ]
  },
  {
   "cell_type": "markdown",
   "metadata": {},
   "source": [
    "С первого взгляда выглядит так, что никаких аномалий и ошибок нет. Возраст лежит в диапазоне от 18 до 75 лет, все пользователи регистрировались в 2018 году. Наибольшее количество пользователей из Москвы. Взглянем более детально на возраст, дату регистрации и города."
   ]
  },
  {
   "cell_type": "code",
   "execution_count": 259,
   "metadata": {},
   "outputs": [
    {
     "data": {
      "image/png": "[encoded data removed]",
      "text/plain": [
       "<Figure size 432x288 with 1 Axes>"
      ]
     },
     "metadata": {
      "needs_background": "light"
     },
     "output_type": "display_data"
    }
   ],
   "source": [
    "sns.histplot(df_users['age'], discrete=True)\n",
    "plt.xlabel('age')\n",
    "plt.ylabel('number of users')\n",
    "plt.title('Age distribtuion of users')\n",
    "plt.show()"
   ]
  },
  {
   "cell_type": "markdown",
   "metadata": {},
   "source": [
    "Ничего необычного в распределении пользователей по возрасту не обнаружено."
   ]
  },
  {
   "cell_type": "code",
   "execution_count": 260,
   "metadata": {},
   "outputs": [
    {
     "data": {
      "image/png": "[encoded data removed]",
      "text/plain": [
       "<Figure size 432x288 with 1 Axes>"
      ]
     },
     "metadata": {
      "needs_background": "light"
     },
     "output_type": "display_data"
    }
   ],
   "source": [
    "sns.histplot(df_users['reg_date'].dt.month, discrete=True)\n",
    "plt.xlabel('month')\n",
    "plt.ylabel('number of users registered')\n",
    "plt.title('Number of users registered over a month')\n",
    "plt.show()"
   ]
  },
  {
   "cell_type": "markdown",
   "metadata": {},
   "source": [
    "Количество пользователей, зарегистрированных в каждом месяце, незначительно отличается, однако все выглядит нормально."
   ]
  },
  {
   "cell_type": "code",
   "execution_count": 261,
   "metadata": {},
   "outputs": [
    {
     "data": {
      "image/png": "[encoded data removed]",
      "text/plain": [
       "<Figure size 1440x360 with 1 Axes>"
      ]
     },
     "metadata": {
      "needs_background": "light"
     },
     "output_type": "display_data"
    }
   ],
   "source": [
    "plt.figure(figsize=(20,5))\n",
    "sns.histplot(df_users['city'])\n",
    "plt.xticks(rotation=90)\n",
    "plt.xlabel('city name', fontsize=15)\n",
    "plt.ylabel('number of users', fontsize=15)\n",
    "plt.title('Number of users over a city', fontsize=15)\n",
    "plt.show()"
   ]
  },
  {
   "cell_type": "markdown",
   "metadata": {},
   "source": [
    "Количество пользователей по городам также не удивляет. Абсолютный лидер - Москва, второй - Санкт-Петербург, дальше идут города, которые значительно меньше. Все логично, аномалий или ошибок нет."
   ]
  },
  {
   "cell_type": "markdown",
   "metadata": {},
   "source": [
    "##### Звонки"
   ]
  },
  {
   "cell_type": "code",
   "execution_count": 262,
   "metadata": {},
   "outputs": [
    {
     "data": {
      "text/html": [
       "<div>\n",
       "<style scoped>\n",
       "    .dataframe tbody tr th:only-of-type {\n",
       "        vertical-align: middle;\n",
       "    }\n",
       "\n",
       "    .dataframe tbody tr th {\n",
       "        vertical-align: top;\n",
       "    }\n",
       "\n",
       "    .dataframe thead th {\n",
       "        text-align: right;\n",
       "    }\n",
       "</style>\n",
       "<table border=\"1\" class=\"dataframe\">\n",
       "  <thead>\n",
       "    <tr style=\"text-align: right;\">\n",
       "      <th></th>\n",
       "      <th>count</th>\n",
       "      <th>unique</th>\n",
       "      <th>top</th>\n",
       "      <th>freq</th>\n",
       "      <th>mean</th>\n",
       "      <th>min</th>\n",
       "      <th>25%</th>\n",
       "      <th>50%</th>\n",
       "      <th>75%</th>\n",
       "      <th>max</th>\n",
       "      <th>std</th>\n",
       "    </tr>\n",
       "  </thead>\n",
       "  <tbody>\n",
       "    <tr>\n",
       "      <th>id</th>\n",
       "      <td>202607</td>\n",
       "      <td>202607</td>\n",
       "      <td>1000_0</td>\n",
       "      <td>1</td>\n",
       "      <td>NaN</td>\n",
       "      <td>NaN</td>\n",
       "      <td>NaN</td>\n",
       "      <td>NaN</td>\n",
       "      <td>NaN</td>\n",
       "      <td>NaN</td>\n",
       "      <td>NaN</td>\n",
       "    </tr>\n",
       "    <tr>\n",
       "      <th>call_date</th>\n",
       "      <td>202607</td>\n",
       "      <td>NaN</td>\n",
       "      <td>NaN</td>\n",
       "      <td>NaN</td>\n",
       "      <td>2018-09-02 20:01:37.583992832</td>\n",
       "      <td>2018-01-01 00:00:00</td>\n",
       "      <td>2018-07-05 00:00:00</td>\n",
       "      <td>2018-09-17 00:00:00</td>\n",
       "      <td>2018-11-14 00:00:00</td>\n",
       "      <td>2018-12-31 00:00:00</td>\n",
       "      <td>NaN</td>\n",
       "    </tr>\n",
       "    <tr>\n",
       "      <th>duration</th>\n",
       "      <td>202607.0</td>\n",
       "      <td>NaN</td>\n",
       "      <td>NaN</td>\n",
       "      <td>NaN</td>\n",
       "      <td>7.158198</td>\n",
       "      <td>0.0</td>\n",
       "      <td>2.0</td>\n",
       "      <td>6.0</td>\n",
       "      <td>11.0</td>\n",
       "      <td>38.0</td>\n",
       "      <td>5.959173</td>\n",
       "    </tr>\n",
       "    <tr>\n",
       "      <th>user_id</th>\n",
       "      <td>202607.0</td>\n",
       "      <td>NaN</td>\n",
       "      <td>NaN</td>\n",
       "      <td>NaN</td>\n",
       "      <td>1253.940619</td>\n",
       "      <td>1000.0</td>\n",
       "      <td>1126.0</td>\n",
       "      <td>1260.0</td>\n",
       "      <td>1379.0</td>\n",
       "      <td>1499.0</td>\n",
       "      <td>144.722751</td>\n",
       "    </tr>\n",
       "  </tbody>\n",
       "</table>\n",
       "</div>"
      ],
      "text/plain": [
       "              count  unique     top freq                           mean  \\\n",
       "id           202607  202607  1000_0    1                            NaN   \n",
       "call_date    202607     NaN     NaN  NaN  2018-09-02 20:01:37.583992832   \n",
       "duration   202607.0     NaN     NaN  NaN                       7.158198   \n",
       "user_id    202607.0     NaN     NaN  NaN                    1253.940619   \n",
       "\n",
       "                           min                  25%                  50%  \\\n",
       "id                         NaN                  NaN                  NaN   \n",
       "call_date  2018-01-01 00:00:00  2018-07-05 00:00:00  2018-09-17 00:00:00   \n",
       "duration                   0.0                  2.0                  6.0   \n",
       "user_id                 1000.0               1126.0               1260.0   \n",
       "\n",
       "                           75%                  max         std  \n",
       "id                         NaN                  NaN         NaN  \n",
       "call_date  2018-11-14 00:00:00  2018-12-31 00:00:00         NaN  \n",
       "duration                  11.0                 38.0    5.959173  \n",
       "user_id                 1379.0               1499.0  144.722751  "
      ]
     },
     "execution_count": 262,
     "metadata": {},
     "output_type": "execute_result"
    }
   ],
   "source": [
    "df_calls.describe(include='all', datetime_is_numeric=True).T"
   ]
  },
  {
   "cell_type": "markdown",
   "metadata": {},
   "source": [
    "С виду никаких аномалий: данные за 1 год, продолжительность звонков не превышает 38 минут. Взглянем подробнее, используя визуализацию."
   ]
  },
  {
   "cell_type": "code",
   "execution_count": 263,
   "metadata": {},
   "outputs": [
    {
     "data": {
      "image/png": "[encoded data removed]",
      "text/plain": [
       "<Figure size 432x288 with 1 Axes>"
      ]
     },
     "metadata": {
      "needs_background": "light"
     },
     "output_type": "display_data"
    }
   ],
   "source": [
    "sns.histplot(df_calls['duration'], bins=39)\n",
    "plt.xlabel('duration, minutes')\n",
    "plt.ylabel('frequency')\n",
    "plt.title('Call duration distribution')\n",
    "plt.show()"
   ]
  },
  {
   "cell_type": "markdown",
   "metadata": {},
   "source": [
    "Острый пик на нуле минут, однако мы знаем, что это пропущенные звонки. Их порядка 20% от всех звонков, что выглядит логично. Если звонок не пропущен, то наиболее частая его продолжительсность около 5-8 минут. Доля долгих звонков (от 25 минут) мала. Можно сделать вывод, что аномалий нет."
   ]
  },
  {
   "cell_type": "code",
   "execution_count": 264,
   "metadata": {},
   "outputs": [
    {
     "data": {
      "image/png": "[encoded data removed]",
      "text/plain": [
       "<Figure size 432x288 with 1 Axes>"
      ]
     },
     "metadata": {
      "needs_background": "light"
     },
     "output_type": "display_data"
    }
   ],
   "source": [
    "sns.histplot(df_calls['call_date'].dt.month, discrete=True)\n",
    "plt.xlabel('month')\n",
    "plt.ylabel('number of calls')\n",
    "plt.title('Number of calls over a month')\n",
    "plt.show()"
   ]
  },
  {
   "cell_type": "markdown",
   "metadata": {},
   "source": [
    "Количество звонков в месяц росло, так как пользователи подключались в течение года, и с каждым месяцем все больше и больше людей пользовались услугами компании. Гистограмма выглядит логично."
   ]
  },
  {
   "cell_type": "markdown",
   "metadata": {},
   "source": [
    "##### Сообщения"
   ]
  },
  {
   "cell_type": "code",
   "execution_count": 265,
   "metadata": {},
   "outputs": [
    {
     "data": {
      "text/html": [
       "<div>\n",
       "<style scoped>\n",
       "    .dataframe tbody tr th:only-of-type {\n",
       "        vertical-align: middle;\n",
       "    }\n",
       "\n",
       "    .dataframe tbody tr th {\n",
       "        vertical-align: top;\n",
       "    }\n",
       "\n",
       "    .dataframe thead th {\n",
       "        text-align: right;\n",
       "    }\n",
       "</style>\n",
       "<table border=\"1\" class=\"dataframe\">\n",
       "  <thead>\n",
       "    <tr style=\"text-align: right;\">\n",
       "      <th></th>\n",
       "      <th>count</th>\n",
       "      <th>unique</th>\n",
       "      <th>top</th>\n",
       "      <th>freq</th>\n",
       "      <th>mean</th>\n",
       "      <th>min</th>\n",
       "      <th>25%</th>\n",
       "      <th>50%</th>\n",
       "      <th>75%</th>\n",
       "      <th>max</th>\n",
       "      <th>std</th>\n",
       "    </tr>\n",
       "  </thead>\n",
       "  <tbody>\n",
       "    <tr>\n",
       "      <th>id</th>\n",
       "      <td>123036</td>\n",
       "      <td>123036</td>\n",
       "      <td>1000_0</td>\n",
       "      <td>1</td>\n",
       "      <td>NaN</td>\n",
       "      <td>NaN</td>\n",
       "      <td>NaN</td>\n",
       "      <td>NaN</td>\n",
       "      <td>NaN</td>\n",
       "      <td>NaN</td>\n",
       "      <td>NaN</td>\n",
       "    </tr>\n",
       "    <tr>\n",
       "      <th>message_date</th>\n",
       "      <td>123036</td>\n",
       "      <td>NaN</td>\n",
       "      <td>NaN</td>\n",
       "      <td>NaN</td>\n",
       "      <td>2018-09-04 15:28:42.227640576</td>\n",
       "      <td>2018-01-02 00:00:00</td>\n",
       "      <td>2018-07-09 00:00:00</td>\n",
       "      <td>2018-09-20 00:00:00</td>\n",
       "      <td>2018-11-14 00:00:00</td>\n",
       "      <td>2018-12-31 00:00:00</td>\n",
       "      <td>NaN</td>\n",
       "    </tr>\n",
       "    <tr>\n",
       "      <th>user_id</th>\n",
       "      <td>123036.0</td>\n",
       "      <td>NaN</td>\n",
       "      <td>NaN</td>\n",
       "      <td>NaN</td>\n",
       "      <td>1256.98941</td>\n",
       "      <td>1000.0</td>\n",
       "      <td>1134.0</td>\n",
       "      <td>1271.0</td>\n",
       "      <td>1381.0</td>\n",
       "      <td>1499.0</td>\n",
       "      <td>143.523967</td>\n",
       "    </tr>\n",
       "  </tbody>\n",
       "</table>\n",
       "</div>"
      ],
      "text/plain": [
       "                 count  unique     top freq                           mean  \\\n",
       "id              123036  123036  1000_0    1                            NaN   \n",
       "message_date    123036     NaN     NaN  NaN  2018-09-04 15:28:42.227640576   \n",
       "user_id       123036.0     NaN     NaN  NaN                     1256.98941   \n",
       "\n",
       "                              min                  25%                  50%  \\\n",
       "id                            NaN                  NaN                  NaN   \n",
       "message_date  2018-01-02 00:00:00  2018-07-09 00:00:00  2018-09-20 00:00:00   \n",
       "user_id                    1000.0               1134.0               1271.0   \n",
       "\n",
       "                              75%                  max         std  \n",
       "id                            NaN                  NaN         NaN  \n",
       "message_date  2018-11-14 00:00:00  2018-12-31 00:00:00         NaN  \n",
       "user_id                    1381.0               1499.0  143.523967  "
      ]
     },
     "execution_count": 265,
     "metadata": {},
     "output_type": "execute_result"
    }
   ],
   "source": [
    "df_messages.describe(include='all', datetime_is_numeric=True).T"
   ]
  },
  {
   "cell_type": "code",
   "execution_count": 266,
   "metadata": {},
   "outputs": [
    {
     "data": {
      "image/png": "[encoded data removed]",
      "text/plain": [
       "<Figure size 432x288 with 1 Axes>"
      ]
     },
     "metadata": {
      "needs_background": "light"
     },
     "output_type": "display_data"
    }
   ],
   "source": [
    "sns.histplot(df_messages['message_date'].dt.month, discrete=True)\n",
    "plt.xlabel('month')\n",
    "plt.ylabel('number of messages')\n",
    "plt.title('Number of messages over a month')\n",
    "plt.show()"
   ]
  },
  {
   "cell_type": "markdown",
   "metadata": {},
   "source": [
    "Такая же ситуация, как и со звонками. Аномалий или ошибок не обнаружено. Стоит отметить, что первого января не было отправлено ни одного сообщения (так как в таблице выше указано, что первая дата 2018-01-02)."
   ]
  },
  {
   "cell_type": "code",
   "execution_count": 267,
   "metadata": {},
   "outputs": [
    {
     "data": {
      "text/html": [
       "<div>\n",
       "<style scoped>\n",
       "    .dataframe tbody tr th:only-of-type {\n",
       "        vertical-align: middle;\n",
       "    }\n",
       "\n",
       "    .dataframe tbody tr th {\n",
       "        vertical-align: top;\n",
       "    }\n",
       "\n",
       "    .dataframe thead th {\n",
       "        text-align: right;\n",
       "    }\n",
       "</style>\n",
       "<table border=\"1\" class=\"dataframe\">\n",
       "  <thead>\n",
       "    <tr style=\"text-align: right;\">\n",
       "      <th></th>\n",
       "      <th>user_id</th>\n",
       "      <th>age</th>\n",
       "      <th>churn_date</th>\n",
       "      <th>city</th>\n",
       "      <th>first_name</th>\n",
       "      <th>last_name</th>\n",
       "      <th>reg_date</th>\n",
       "      <th>tariff</th>\n",
       "    </tr>\n",
       "  </thead>\n",
       "  <tbody>\n",
       "    <tr>\n",
       "      <th>193</th>\n",
       "      <td>1193</td>\n",
       "      <td>55</td>\n",
       "      <td>NaT</td>\n",
       "      <td>Тамбов</td>\n",
       "      <td>Арсен</td>\n",
       "      <td>Безруков</td>\n",
       "      <td>2018-01-01</td>\n",
       "      <td>basic</td>\n",
       "    </tr>\n",
       "    <tr>\n",
       "      <th>453</th>\n",
       "      <td>1453</td>\n",
       "      <td>50</td>\n",
       "      <td>NaT</td>\n",
       "      <td>Москва</td>\n",
       "      <td>Кузьма</td>\n",
       "      <td>Акуленко</td>\n",
       "      <td>2018-01-01</td>\n",
       "      <td>advanced</td>\n",
       "    </tr>\n",
       "  </tbody>\n",
       "</table>\n",
       "</div>"
      ],
      "text/plain": [
       "     user_id  age churn_date    city first_name last_name   reg_date    tariff\n",
       "193     1193   55        NaT  Тамбов      Арсен  Безруков 2018-01-01     basic\n",
       "453     1453   50        NaT  Москва     Кузьма  Акуленко 2018-01-01  advanced"
      ]
     },
     "execution_count": 267,
     "metadata": {},
     "output_type": "execute_result"
    }
   ],
   "source": [
    "df_users[df_users['reg_date'] == '2018-01-01']"
   ]
  },
  {
   "cell_type": "markdown",
   "metadata": {},
   "source": [
    "Первого января лишь 2 пользователя из датасета были подключены. Так что результат вполне нормальный."
   ]
  },
  {
   "cell_type": "markdown",
   "metadata": {},
   "source": [
    "##### Интернет-сессии"
   ]
  },
  {
   "cell_type": "code",
   "execution_count": 268,
   "metadata": {
    "scrolled": true
   },
   "outputs": [
    {
     "data": {
      "text/html": [
       "<div>\n",
       "<style scoped>\n",
       "    .dataframe tbody tr th:only-of-type {\n",
       "        vertical-align: middle;\n",
       "    }\n",
       "\n",
       "    .dataframe tbody tr th {\n",
       "        vertical-align: top;\n",
       "    }\n",
       "\n",
       "    .dataframe thead th {\n",
       "        text-align: right;\n",
       "    }\n",
       "</style>\n",
       "<table border=\"1\" class=\"dataframe\">\n",
       "  <thead>\n",
       "    <tr style=\"text-align: right;\">\n",
       "      <th></th>\n",
       "      <th>count</th>\n",
       "      <th>unique</th>\n",
       "      <th>top</th>\n",
       "      <th>freq</th>\n",
       "      <th>mean</th>\n",
       "      <th>min</th>\n",
       "      <th>25%</th>\n",
       "      <th>50%</th>\n",
       "      <th>75%</th>\n",
       "      <th>max</th>\n",
       "      <th>std</th>\n",
       "    </tr>\n",
       "  </thead>\n",
       "  <tbody>\n",
       "    <tr>\n",
       "      <th>id</th>\n",
       "      <td>149396</td>\n",
       "      <td>149396</td>\n",
       "      <td>1000_0</td>\n",
       "      <td>1</td>\n",
       "      <td>NaN</td>\n",
       "      <td>NaN</td>\n",
       "      <td>NaN</td>\n",
       "      <td>NaN</td>\n",
       "      <td>NaN</td>\n",
       "      <td>NaN</td>\n",
       "      <td>NaN</td>\n",
       "    </tr>\n",
       "    <tr>\n",
       "      <th>mb_used</th>\n",
       "      <td>149396.0</td>\n",
       "      <td>NaN</td>\n",
       "      <td>NaN</td>\n",
       "      <td>NaN</td>\n",
       "      <td>370.192426</td>\n",
       "      <td>0.0</td>\n",
       "      <td>138.1875</td>\n",
       "      <td>348.015</td>\n",
       "      <td>559.5525</td>\n",
       "      <td>1724.83</td>\n",
       "      <td>278.300951</td>\n",
       "    </tr>\n",
       "    <tr>\n",
       "      <th>session_date</th>\n",
       "      <td>149396</td>\n",
       "      <td>NaN</td>\n",
       "      <td>NaN</td>\n",
       "      <td>NaN</td>\n",
       "      <td>2018-09-02 12:55:35.221826560</td>\n",
       "      <td>2018-01-01 00:00:00</td>\n",
       "      <td>2018-07-05 00:00:00</td>\n",
       "      <td>2018-09-17 00:00:00</td>\n",
       "      <td>2018-11-14 00:00:00</td>\n",
       "      <td>2018-12-31 00:00:00</td>\n",
       "      <td>NaN</td>\n",
       "    </tr>\n",
       "    <tr>\n",
       "      <th>user_id</th>\n",
       "      <td>149396.0</td>\n",
       "      <td>NaN</td>\n",
       "      <td>NaN</td>\n",
       "      <td>NaN</td>\n",
       "      <td>1252.099842</td>\n",
       "      <td>1000.0</td>\n",
       "      <td>1130.0</td>\n",
       "      <td>1251.0</td>\n",
       "      <td>1380.0</td>\n",
       "      <td>1499.0</td>\n",
       "      <td>144.050823</td>\n",
       "    </tr>\n",
       "  </tbody>\n",
       "</table>\n",
       "</div>"
      ],
      "text/plain": [
       "                 count  unique     top freq                           mean  \\\n",
       "id              149396  149396  1000_0    1                            NaN   \n",
       "mb_used       149396.0     NaN     NaN  NaN                     370.192426   \n",
       "session_date    149396     NaN     NaN  NaN  2018-09-02 12:55:35.221826560   \n",
       "user_id       149396.0     NaN     NaN  NaN                    1252.099842   \n",
       "\n",
       "                              min                  25%                  50%  \\\n",
       "id                            NaN                  NaN                  NaN   \n",
       "mb_used                       0.0             138.1875              348.015   \n",
       "session_date  2018-01-01 00:00:00  2018-07-05 00:00:00  2018-09-17 00:00:00   \n",
       "user_id                    1000.0               1130.0               1251.0   \n",
       "\n",
       "                              75%                  max         std  \n",
       "id                            NaN                  NaN         NaN  \n",
       "mb_used                  559.5525              1724.83  278.300951  \n",
       "session_date  2018-11-14 00:00:00  2018-12-31 00:00:00         NaN  \n",
       "user_id                    1380.0               1499.0  144.050823  "
      ]
     },
     "execution_count": 268,
     "metadata": {},
     "output_type": "execute_result"
    }
   ],
   "source": [
    "df_internet.describe(include='all', datetime_is_numeric=True).T"
   ]
  },
  {
   "cell_type": "markdown",
   "metadata": {},
   "source": [
    "Посмотрим на количество мегабайт за сессию."
   ]
  },
  {
   "cell_type": "code",
   "execution_count": 269,
   "metadata": {},
   "outputs": [
    {
     "data": {
      "image/png": "[encoded data removed]",
      "text/plain": [
       "<Figure size 432x288 with 1 Axes>"
      ]
     },
     "metadata": {
      "needs_background": "light"
     },
     "output_type": "display_data"
    }
   ],
   "source": [
    "sns.histplot(df_internet['mb_used'], bins=50)\n",
    "plt.xlabel('mb used')\n",
    "plt.ylabel('frequency')\n",
    "plt.title('Internet usage distribution')\n",
    "plt.show()"
   ]
  },
  {
   "cell_type": "markdown",
   "metadata": {},
   "source": [
    "Острый пик около нуля, говорящий о том, что очень много интернет-сессий закончились, не успев начаться, что вполне нормально, так как пользователь может открыть почтовый ящик, загрузка которого не превышает мегабайта, и тут же выйти, и это будет считаться как законченная интернет-сессия. Максимальное значение составляет около 1.75 Гб, что также нормально, пользователь может смотреть фильм с телефона. "
   ]
  },
  {
   "cell_type": "code",
   "execution_count": 270,
   "metadata": {},
   "outputs": [
    {
     "data": {
      "image/png": "[encoded data removed]",
      "text/plain": [
       "<Figure size 432x288 with 1 Axes>"
      ]
     },
     "metadata": {
      "needs_background": "light"
     },
     "output_type": "display_data"
    }
   ],
   "source": [
    "sns.histplot(df_internet['session_date'].dt.month, discrete=True)\n",
    "plt.xlabel('month')\n",
    "plt.ylabel('number of sessions')\n",
    "plt.title('Number of sessions over a month')\n",
    "plt.show()"
   ]
  },
  {
   "cell_type": "markdown",
   "metadata": {},
   "source": [
    "Как и в прыдедущих случаях количество сессий растет из-за притока пользователей в течение года."
   ]
  },
  {
   "cell_type": "markdown",
   "metadata": {},
   "source": [
    "#### Вывод"
   ]
  },
  {
   "cell_type": "markdown",
   "metadata": {},
   "source": [
    "1. Аномалий или ошибок в данных не обнаружено"
   ]
  },
  {
   "cell_type": "markdown",
   "metadata": {},
   "source": [
    "### Вычисление показателей для каждого пользователя по месяцам"
   ]
  },
  {
   "cell_type": "markdown",
   "metadata": {},
   "source": [
    "#### Количество звонков и израсходованных минут разговора"
   ]
  },
  {
   "cell_type": "code",
   "execution_count": 271,
   "metadata": {},
   "outputs": [],
   "source": [
    "df_calls['call_month'] = df_calls['call_date'].dt.month"
   ]
  },
  {
   "cell_type": "code",
   "execution_count": 272,
   "metadata": {},
   "outputs": [],
   "source": [
    "df_calls_users = df_calls.groupby(['user_id', 'call_month'])['duration'].agg(['count', 'sum']).reset_index()\n",
    "df_calls_users.columns = ['user_id', 'month', 'number_calls', 'duration_calls']"
   ]
  },
  {
   "cell_type": "code",
   "execution_count": 273,
   "metadata": {
    "scrolled": true
   },
   "outputs": [
    {
     "data": {
      "text/html": [
       "<div>\n",
       "<style scoped>\n",
       "    .dataframe tbody tr th:only-of-type {\n",
       "        vertical-align: middle;\n",
       "    }\n",
       "\n",
       "    .dataframe tbody tr th {\n",
       "        vertical-align: top;\n",
       "    }\n",
       "\n",
       "    .dataframe thead th {\n",
       "        text-align: right;\n",
       "    }\n",
       "</style>\n",
       "<table border=\"1\" class=\"dataframe\">\n",
       "  <thead>\n",
       "    <tr style=\"text-align: right;\">\n",
       "      <th></th>\n",
       "      <th>user_id</th>\n",
       "      <th>month</th>\n",
       "      <th>number_calls</th>\n",
       "      <th>duration_calls</th>\n",
       "    </tr>\n",
       "  </thead>\n",
       "  <tbody>\n",
       "    <tr>\n",
       "      <th>0</th>\n",
       "      <td>1000</td>\n",
       "      <td>5</td>\n",
       "      <td>22</td>\n",
       "      <td>159</td>\n",
       "    </tr>\n",
       "    <tr>\n",
       "      <th>1</th>\n",
       "      <td>1000</td>\n",
       "      <td>6</td>\n",
       "      <td>43</td>\n",
       "      <td>172</td>\n",
       "    </tr>\n",
       "    <tr>\n",
       "      <th>2</th>\n",
       "      <td>1000</td>\n",
       "      <td>7</td>\n",
       "      <td>47</td>\n",
       "      <td>340</td>\n",
       "    </tr>\n",
       "    <tr>\n",
       "      <th>3</th>\n",
       "      <td>1000</td>\n",
       "      <td>8</td>\n",
       "      <td>52</td>\n",
       "      <td>408</td>\n",
       "    </tr>\n",
       "    <tr>\n",
       "      <th>4</th>\n",
       "      <td>1000</td>\n",
       "      <td>9</td>\n",
       "      <td>58</td>\n",
       "      <td>466</td>\n",
       "    </tr>\n",
       "  </tbody>\n",
       "</table>\n",
       "</div>"
      ],
      "text/plain": [
       "   user_id  month  number_calls  duration_calls\n",
       "0     1000      5            22             159\n",
       "1     1000      6            43             172\n",
       "2     1000      7            47             340\n",
       "3     1000      8            52             408\n",
       "4     1000      9            58             466"
      ]
     },
     "execution_count": 273,
     "metadata": {},
     "output_type": "execute_result"
    }
   ],
   "source": [
    "df_calls_users.head()"
   ]
  },
  {
   "cell_type": "markdown",
   "metadata": {},
   "source": [
    "#### Количество отправленных сообщений"
   ]
  },
  {
   "cell_type": "code",
   "execution_count": 274,
   "metadata": {},
   "outputs": [],
   "source": [
    "df_messages['message_month'] = df_messages['message_date'].dt.month"
   ]
  },
  {
   "cell_type": "code",
   "execution_count": 275,
   "metadata": {},
   "outputs": [],
   "source": [
    "df_messages_users = df_messages.groupby(['user_id', 'message_month'])['message_date'].count().reset_index()\n",
    "df_messages_users.columns = ['user_id', 'month', 'number_messages']"
   ]
  },
  {
   "cell_type": "code",
   "execution_count": 276,
   "metadata": {},
   "outputs": [
    {
     "data": {
      "text/html": [
       "<div>\n",
       "<style scoped>\n",
       "    .dataframe tbody tr th:only-of-type {\n",
       "        vertical-align: middle;\n",
       "    }\n",
       "\n",
       "    .dataframe tbody tr th {\n",
       "        vertical-align: top;\n",
       "    }\n",
       "\n",
       "    .dataframe thead th {\n",
       "        text-align: right;\n",
       "    }\n",
       "</style>\n",
       "<table border=\"1\" class=\"dataframe\">\n",
       "  <thead>\n",
       "    <tr style=\"text-align: right;\">\n",
       "      <th></th>\n",
       "      <th>user_id</th>\n",
       "      <th>month</th>\n",
       "      <th>number_messages</th>\n",
       "    </tr>\n",
       "  </thead>\n",
       "  <tbody>\n",
       "    <tr>\n",
       "      <th>0</th>\n",
       "      <td>1000</td>\n",
       "      <td>5</td>\n",
       "      <td>22</td>\n",
       "    </tr>\n",
       "    <tr>\n",
       "      <th>1</th>\n",
       "      <td>1000</td>\n",
       "      <td>6</td>\n",
       "      <td>60</td>\n",
       "    </tr>\n",
       "    <tr>\n",
       "      <th>2</th>\n",
       "      <td>1000</td>\n",
       "      <td>7</td>\n",
       "      <td>75</td>\n",
       "    </tr>\n",
       "    <tr>\n",
       "      <th>3</th>\n",
       "      <td>1000</td>\n",
       "      <td>8</td>\n",
       "      <td>81</td>\n",
       "    </tr>\n",
       "    <tr>\n",
       "      <th>4</th>\n",
       "      <td>1000</td>\n",
       "      <td>9</td>\n",
       "      <td>57</td>\n",
       "    </tr>\n",
       "  </tbody>\n",
       "</table>\n",
       "</div>"
      ],
      "text/plain": [
       "   user_id  month  number_messages\n",
       "0     1000      5               22\n",
       "1     1000      6               60\n",
       "2     1000      7               75\n",
       "3     1000      8               81\n",
       "4     1000      9               57"
      ]
     },
     "execution_count": 276,
     "metadata": {},
     "output_type": "execute_result"
    }
   ],
   "source": [
    "df_messages_users.head(5)"
   ]
  },
  {
   "cell_type": "markdown",
   "metadata": {},
   "source": [
    "#### Объем израсходованного интернет-трафика"
   ]
  },
  {
   "cell_type": "code",
   "execution_count": 277,
   "metadata": {},
   "outputs": [],
   "source": [
    "df_internet['session_month'] = df_internet['session_date'].dt.month"
   ]
  },
  {
   "cell_type": "code",
   "execution_count": 278,
   "metadata": {},
   "outputs": [],
   "source": [
    "df_internet_users = df_internet.groupby(['user_id', 'session_month'])['mb_used'].sum().reset_index()\n",
    "df_internet_users.columns = ['user_id', 'month', 'mb_used_month']"
   ]
  },
  {
   "cell_type": "code",
   "execution_count": 279,
   "metadata": {},
   "outputs": [],
   "source": [
    "df_internet_users['gb_used_month'] = np.ceil(df_internet_users['mb_used_month'] / 1024).astype(int)"
   ]
  },
  {
   "cell_type": "code",
   "execution_count": 280,
   "metadata": {},
   "outputs": [],
   "source": [
    "df_internet_users = df_internet_users.drop('mb_used_month', axis=1)"
   ]
  },
  {
   "cell_type": "code",
   "execution_count": 281,
   "metadata": {},
   "outputs": [
    {
     "data": {
      "text/html": [
       "<div>\n",
       "<style scoped>\n",
       "    .dataframe tbody tr th:only-of-type {\n",
       "        vertical-align: middle;\n",
       "    }\n",
       "\n",
       "    .dataframe tbody tr th {\n",
       "        vertical-align: top;\n",
       "    }\n",
       "\n",
       "    .dataframe thead th {\n",
       "        text-align: right;\n",
       "    }\n",
       "</style>\n",
       "<table border=\"1\" class=\"dataframe\">\n",
       "  <thead>\n",
       "    <tr style=\"text-align: right;\">\n",
       "      <th></th>\n",
       "      <th>user_id</th>\n",
       "      <th>month</th>\n",
       "      <th>gb_used_month</th>\n",
       "    </tr>\n",
       "  </thead>\n",
       "  <tbody>\n",
       "    <tr>\n",
       "      <th>0</th>\n",
       "      <td>1000</td>\n",
       "      <td>5</td>\n",
       "      <td>3</td>\n",
       "    </tr>\n",
       "    <tr>\n",
       "      <th>1</th>\n",
       "      <td>1000</td>\n",
       "      <td>6</td>\n",
       "      <td>23</td>\n",
       "    </tr>\n",
       "    <tr>\n",
       "      <th>2</th>\n",
       "      <td>1000</td>\n",
       "      <td>7</td>\n",
       "      <td>14</td>\n",
       "    </tr>\n",
       "    <tr>\n",
       "      <th>3</th>\n",
       "      <td>1000</td>\n",
       "      <td>8</td>\n",
       "      <td>14</td>\n",
       "    </tr>\n",
       "    <tr>\n",
       "      <th>4</th>\n",
       "      <td>1000</td>\n",
       "      <td>9</td>\n",
       "      <td>15</td>\n",
       "    </tr>\n",
       "  </tbody>\n",
       "</table>\n",
       "</div>"
      ],
      "text/plain": [
       "   user_id  month  gb_used_month\n",
       "0     1000      5              3\n",
       "1     1000      6             23\n",
       "2     1000      7             14\n",
       "3     1000      8             14\n",
       "4     1000      9             15"
      ]
     },
     "execution_count": 281,
     "metadata": {},
     "output_type": "execute_result"
    }
   ],
   "source": [
    "df_internet_users.head(5)"
   ]
  },
  {
   "cell_type": "markdown",
   "metadata": {},
   "source": [
    "#### Выручка"
   ]
  },
  {
   "cell_type": "markdown",
   "metadata": {},
   "source": [
    "Для расчета выручки объединим полученные месячные показатели в одну таблицу. Некоторые пользователи могли звонить в каком-то месяце, но не пользоваться интернетом или сообщениями, и наоборот. Чтобы все данные попали в финальную таблицу, используем внешнее объединение."
   ]
  },
  {
   "cell_type": "code",
   "execution_count": 282,
   "metadata": {},
   "outputs": [],
   "source": [
    "df = reduce(lambda  left,right: pd.merge(left,right,on=['user_id', 'month'],\n",
    "                                            how='outer'), [df_calls_users, df_messages_users, df_internet_users]).fillna(0)\n",
    "df = df.merge(df_users, on='user_id', how='left')\n",
    "df = df.merge(df_tariffs, on='tariff', how='left')"
   ]
  },
  {
   "cell_type": "code",
   "execution_count": 283,
   "metadata": {
    "scrolled": false
   },
   "outputs": [
    {
     "data": {
      "text/html": [
       "<div>\n",
       "<style scoped>\n",
       "    .dataframe tbody tr th:only-of-type {\n",
       "        vertical-align: middle;\n",
       "    }\n",
       "\n",
       "    .dataframe tbody tr th {\n",
       "        vertical-align: top;\n",
       "    }\n",
       "\n",
       "    .dataframe thead th {\n",
       "        text-align: right;\n",
       "    }\n",
       "</style>\n",
       "<table border=\"1\" class=\"dataframe\">\n",
       "  <thead>\n",
       "    <tr style=\"text-align: right;\">\n",
       "      <th></th>\n",
       "      <th>user_id</th>\n",
       "      <th>month</th>\n",
       "      <th>number_calls</th>\n",
       "      <th>duration_calls</th>\n",
       "      <th>number_messages</th>\n",
       "      <th>gb_used_month</th>\n",
       "      <th>age</th>\n",
       "      <th>churn_date</th>\n",
       "      <th>city</th>\n",
       "      <th>first_name</th>\n",
       "      <th>last_name</th>\n",
       "      <th>reg_date</th>\n",
       "      <th>tariff</th>\n",
       "      <th>messages_included</th>\n",
       "      <th>gb_per_month_included</th>\n",
       "      <th>minutes_included</th>\n",
       "      <th>rub_monthly_fee</th>\n",
       "      <th>rub_per_gb</th>\n",
       "      <th>rub_per_message</th>\n",
       "      <th>rub_per_minute</th>\n",
       "    </tr>\n",
       "  </thead>\n",
       "  <tbody>\n",
       "    <tr>\n",
       "      <th>0</th>\n",
       "      <td>1000</td>\n",
       "      <td>5</td>\n",
       "      <td>22.0</td>\n",
       "      <td>159.0</td>\n",
       "      <td>22.0</td>\n",
       "      <td>3.0</td>\n",
       "      <td>52</td>\n",
       "      <td>NaT</td>\n",
       "      <td>Краснодар</td>\n",
       "      <td>Рафаил</td>\n",
       "      <td>Верещагин</td>\n",
       "      <td>2018-05-25</td>\n",
       "      <td>advanced</td>\n",
       "      <td>1000</td>\n",
       "      <td>30</td>\n",
       "      <td>3000</td>\n",
       "      <td>1950</td>\n",
       "      <td>150</td>\n",
       "      <td>1</td>\n",
       "      <td>1</td>\n",
       "    </tr>\n",
       "    <tr>\n",
       "      <th>1</th>\n",
       "      <td>1000</td>\n",
       "      <td>6</td>\n",
       "      <td>43.0</td>\n",
       "      <td>172.0</td>\n",
       "      <td>60.0</td>\n",
       "      <td>23.0</td>\n",
       "      <td>52</td>\n",
       "      <td>NaT</td>\n",
       "      <td>Краснодар</td>\n",
       "      <td>Рафаил</td>\n",
       "      <td>Верещагин</td>\n",
       "      <td>2018-05-25</td>\n",
       "      <td>advanced</td>\n",
       "      <td>1000</td>\n",
       "      <td>30</td>\n",
       "      <td>3000</td>\n",
       "      <td>1950</td>\n",
       "      <td>150</td>\n",
       "      <td>1</td>\n",
       "      <td>1</td>\n",
       "    </tr>\n",
       "    <tr>\n",
       "      <th>2</th>\n",
       "      <td>1000</td>\n",
       "      <td>7</td>\n",
       "      <td>47.0</td>\n",
       "      <td>340.0</td>\n",
       "      <td>75.0</td>\n",
       "      <td>14.0</td>\n",
       "      <td>52</td>\n",
       "      <td>NaT</td>\n",
       "      <td>Краснодар</td>\n",
       "      <td>Рафаил</td>\n",
       "      <td>Верещагин</td>\n",
       "      <td>2018-05-25</td>\n",
       "      <td>advanced</td>\n",
       "      <td>1000</td>\n",
       "      <td>30</td>\n",
       "      <td>3000</td>\n",
       "      <td>1950</td>\n",
       "      <td>150</td>\n",
       "      <td>1</td>\n",
       "      <td>1</td>\n",
       "    </tr>\n",
       "    <tr>\n",
       "      <th>3</th>\n",
       "      <td>1000</td>\n",
       "      <td>8</td>\n",
       "      <td>52.0</td>\n",
       "      <td>408.0</td>\n",
       "      <td>81.0</td>\n",
       "      <td>14.0</td>\n",
       "      <td>52</td>\n",
       "      <td>NaT</td>\n",
       "      <td>Краснодар</td>\n",
       "      <td>Рафаил</td>\n",
       "      <td>Верещагин</td>\n",
       "      <td>2018-05-25</td>\n",
       "      <td>advanced</td>\n",
       "      <td>1000</td>\n",
       "      <td>30</td>\n",
       "      <td>3000</td>\n",
       "      <td>1950</td>\n",
       "      <td>150</td>\n",
       "      <td>1</td>\n",
       "      <td>1</td>\n",
       "    </tr>\n",
       "    <tr>\n",
       "      <th>4</th>\n",
       "      <td>1000</td>\n",
       "      <td>9</td>\n",
       "      <td>58.0</td>\n",
       "      <td>466.0</td>\n",
       "      <td>57.0</td>\n",
       "      <td>15.0</td>\n",
       "      <td>52</td>\n",
       "      <td>NaT</td>\n",
       "      <td>Краснодар</td>\n",
       "      <td>Рафаил</td>\n",
       "      <td>Верещагин</td>\n",
       "      <td>2018-05-25</td>\n",
       "      <td>advanced</td>\n",
       "      <td>1000</td>\n",
       "      <td>30</td>\n",
       "      <td>3000</td>\n",
       "      <td>1950</td>\n",
       "      <td>150</td>\n",
       "      <td>1</td>\n",
       "      <td>1</td>\n",
       "    </tr>\n",
       "    <tr>\n",
       "      <th>5</th>\n",
       "      <td>1000</td>\n",
       "      <td>10</td>\n",
       "      <td>57.0</td>\n",
       "      <td>350.0</td>\n",
       "      <td>73.0</td>\n",
       "      <td>15.0</td>\n",
       "      <td>52</td>\n",
       "      <td>NaT</td>\n",
       "      <td>Краснодар</td>\n",
       "      <td>Рафаил</td>\n",
       "      <td>Верещагин</td>\n",
       "      <td>2018-05-25</td>\n",
       "      <td>advanced</td>\n",
       "      <td>1000</td>\n",
       "      <td>30</td>\n",
       "      <td>3000</td>\n",
       "      <td>1950</td>\n",
       "      <td>150</td>\n",
       "      <td>1</td>\n",
       "      <td>1</td>\n",
       "    </tr>\n",
       "    <tr>\n",
       "      <th>6</th>\n",
       "      <td>1000</td>\n",
       "      <td>11</td>\n",
       "      <td>43.0</td>\n",
       "      <td>338.0</td>\n",
       "      <td>58.0</td>\n",
       "      <td>15.0</td>\n",
       "      <td>52</td>\n",
       "      <td>NaT</td>\n",
       "      <td>Краснодар</td>\n",
       "      <td>Рафаил</td>\n",
       "      <td>Верещагин</td>\n",
       "      <td>2018-05-25</td>\n",
       "      <td>advanced</td>\n",
       "      <td>1000</td>\n",
       "      <td>30</td>\n",
       "      <td>3000</td>\n",
       "      <td>1950</td>\n",
       "      <td>150</td>\n",
       "      <td>1</td>\n",
       "      <td>1</td>\n",
       "    </tr>\n",
       "    <tr>\n",
       "      <th>7</th>\n",
       "      <td>1000</td>\n",
       "      <td>12</td>\n",
       "      <td>46.0</td>\n",
       "      <td>333.0</td>\n",
       "      <td>70.0</td>\n",
       "      <td>10.0</td>\n",
       "      <td>52</td>\n",
       "      <td>NaT</td>\n",
       "      <td>Краснодар</td>\n",
       "      <td>Рафаил</td>\n",
       "      <td>Верещагин</td>\n",
       "      <td>2018-05-25</td>\n",
       "      <td>advanced</td>\n",
       "      <td>1000</td>\n",
       "      <td>30</td>\n",
       "      <td>3000</td>\n",
       "      <td>1950</td>\n",
       "      <td>150</td>\n",
       "      <td>1</td>\n",
       "      <td>1</td>\n",
       "    </tr>\n",
       "    <tr>\n",
       "      <th>8</th>\n",
       "      <td>1001</td>\n",
       "      <td>11</td>\n",
       "      <td>59.0</td>\n",
       "      <td>430.0</td>\n",
       "      <td>0.0</td>\n",
       "      <td>18.0</td>\n",
       "      <td>41</td>\n",
       "      <td>NaT</td>\n",
       "      <td>Москва</td>\n",
       "      <td>Иван</td>\n",
       "      <td>Ежов</td>\n",
       "      <td>2018-11-01</td>\n",
       "      <td>basic</td>\n",
       "      <td>50</td>\n",
       "      <td>15</td>\n",
       "      <td>500</td>\n",
       "      <td>550</td>\n",
       "      <td>200</td>\n",
       "      <td>3</td>\n",
       "      <td>3</td>\n",
       "    </tr>\n",
       "    <tr>\n",
       "      <th>9</th>\n",
       "      <td>1001</td>\n",
       "      <td>12</td>\n",
       "      <td>63.0</td>\n",
       "      <td>414.0</td>\n",
       "      <td>0.0</td>\n",
       "      <td>14.0</td>\n",
       "      <td>41</td>\n",
       "      <td>NaT</td>\n",
       "      <td>Москва</td>\n",
       "      <td>Иван</td>\n",
       "      <td>Ежов</td>\n",
       "      <td>2018-11-01</td>\n",
       "      <td>basic</td>\n",
       "      <td>50</td>\n",
       "      <td>15</td>\n",
       "      <td>500</td>\n",
       "      <td>550</td>\n",
       "      <td>200</td>\n",
       "      <td>3</td>\n",
       "      <td>3</td>\n",
       "    </tr>\n",
       "  </tbody>\n",
       "</table>\n",
       "</div>"
      ],
      "text/plain": [
       "   user_id  month  number_calls  duration_calls  number_messages  \\\n",
       "0     1000      5          22.0           159.0             22.0   \n",
       "1     1000      6          43.0           172.0             60.0   \n",
       "2     1000      7          47.0           340.0             75.0   \n",
       "3     1000      8          52.0           408.0             81.0   \n",
       "4     1000      9          58.0           466.0             57.0   \n",
       "5     1000     10          57.0           350.0             73.0   \n",
       "6     1000     11          43.0           338.0             58.0   \n",
       "7     1000     12          46.0           333.0             70.0   \n",
       "8     1001     11          59.0           430.0              0.0   \n",
       "9     1001     12          63.0           414.0              0.0   \n",
       "\n",
       "   gb_used_month  age churn_date       city first_name  last_name   reg_date  \\\n",
       "0            3.0   52        NaT  Краснодар     Рафаил  Верещагин 2018-05-25   \n",
       "1           23.0   52        NaT  Краснодар     Рафаил  Верещагин 2018-05-25   \n",
       "2           14.0   52        NaT  Краснодар     Рафаил  Верещагин 2018-05-25   \n",
       "3           14.0   52        NaT  Краснодар     Рафаил  Верещагин 2018-05-25   \n",
       "4           15.0   52        NaT  Краснодар     Рафаил  Верещагин 2018-05-25   \n",
       "5           15.0   52        NaT  Краснодар     Рафаил  Верещагин 2018-05-25   \n",
       "6           15.0   52        NaT  Краснодар     Рафаил  Верещагин 2018-05-25   \n",
       "7           10.0   52        NaT  Краснодар     Рафаил  Верещагин 2018-05-25   \n",
       "8           18.0   41        NaT     Москва       Иван       Ежов 2018-11-01   \n",
       "9           14.0   41        NaT     Москва       Иван       Ежов 2018-11-01   \n",
       "\n",
       "     tariff  messages_included  gb_per_month_included  minutes_included  \\\n",
       "0  advanced               1000                     30              3000   \n",
       "1  advanced               1000                     30              3000   \n",
       "2  advanced               1000                     30              3000   \n",
       "3  advanced               1000                     30              3000   \n",
       "4  advanced               1000                     30              3000   \n",
       "5  advanced               1000                     30              3000   \n",
       "6  advanced               1000                     30              3000   \n",
       "7  advanced               1000                     30              3000   \n",
       "8     basic                 50                     15               500   \n",
       "9     basic                 50                     15               500   \n",
       "\n",
       "   rub_monthly_fee  rub_per_gb  rub_per_message  rub_per_minute  \n",
       "0             1950         150                1               1  \n",
       "1             1950         150                1               1  \n",
       "2             1950         150                1               1  \n",
       "3             1950         150                1               1  \n",
       "4             1950         150                1               1  \n",
       "5             1950         150                1               1  \n",
       "6             1950         150                1               1  \n",
       "7             1950         150                1               1  \n",
       "8              550         200                3               3  \n",
       "9              550         200                3               3  "
      ]
     },
     "execution_count": 283,
     "metadata": {},
     "output_type": "execute_result"
    }
   ],
   "source": [
    "df.head(10)"
   ]
  },
  {
   "cell_type": "markdown",
   "metadata": {},
   "source": [
    "В полученной таблице каждая строка содержит информацию об одном пользователе за месяц."
   ]
  },
  {
   "cell_type": "markdown",
   "metadata": {},
   "source": [
    "Напишем функцию, которая будет определять выручку с каждого пользователя."
   ]
  },
  {
   "cell_type": "code",
   "execution_count": 284,
   "metadata": {},
   "outputs": [],
   "source": [
    "def earnings(row):\n",
    "    '''\n",
    "    Данная функция принимает на вход строку набора данных.\n",
    "    Функция выдает выручку с пользователя.\n",
    "    '''\n",
    "    minutes = np.clip((row['duration_calls'] - row['minutes_included']), 0, a_max=None)\n",
    "    messages = np.clip((row['number_messages'] - row['messages_included']), 0, a_max=None)\n",
    "    internet = np.clip((row['gb_used_month'] - row['gb_per_month_included']), 0, a_max=None)\n",
    "    return (minutes * row['rub_per_minute'] + messages * row['rub_per_message'] + internet * row['rub_per_gb'] + row['rub_monthly_fee'])"
   ]
  },
  {
   "cell_type": "code",
   "execution_count": 285,
   "metadata": {},
   "outputs": [],
   "source": [
    "df['earnings'] = df.apply(earnings, axis=1)"
   ]
  },
  {
   "cell_type": "code",
   "execution_count": 286,
   "metadata": {},
   "outputs": [
    {
     "data": {
      "text/html": [
       "<div>\n",
       "<style scoped>\n",
       "    .dataframe tbody tr th:only-of-type {\n",
       "        vertical-align: middle;\n",
       "    }\n",
       "\n",
       "    .dataframe tbody tr th {\n",
       "        vertical-align: top;\n",
       "    }\n",
       "\n",
       "    .dataframe thead th {\n",
       "        text-align: right;\n",
       "    }\n",
       "</style>\n",
       "<table border=\"1\" class=\"dataframe\">\n",
       "  <thead>\n",
       "    <tr style=\"text-align: right;\">\n",
       "      <th></th>\n",
       "      <th>user_id</th>\n",
       "      <th>month</th>\n",
       "      <th>number_calls</th>\n",
       "      <th>duration_calls</th>\n",
       "      <th>number_messages</th>\n",
       "      <th>gb_used_month</th>\n",
       "      <th>age</th>\n",
       "      <th>churn_date</th>\n",
       "      <th>city</th>\n",
       "      <th>first_name</th>\n",
       "      <th>...</th>\n",
       "      <th>reg_date</th>\n",
       "      <th>tariff</th>\n",
       "      <th>messages_included</th>\n",
       "      <th>gb_per_month_included</th>\n",
       "      <th>minutes_included</th>\n",
       "      <th>rub_monthly_fee</th>\n",
       "      <th>rub_per_gb</th>\n",
       "      <th>rub_per_message</th>\n",
       "      <th>rub_per_minute</th>\n",
       "      <th>earnings</th>\n",
       "    </tr>\n",
       "  </thead>\n",
       "  <tbody>\n",
       "    <tr>\n",
       "      <th>0</th>\n",
       "      <td>1000</td>\n",
       "      <td>5</td>\n",
       "      <td>22.0</td>\n",
       "      <td>159.0</td>\n",
       "      <td>22.0</td>\n",
       "      <td>3.0</td>\n",
       "      <td>52</td>\n",
       "      <td>NaT</td>\n",
       "      <td>Краснодар</td>\n",
       "      <td>Рафаил</td>\n",
       "      <td>...</td>\n",
       "      <td>2018-05-25</td>\n",
       "      <td>advanced</td>\n",
       "      <td>1000</td>\n",
       "      <td>30</td>\n",
       "      <td>3000</td>\n",
       "      <td>1950</td>\n",
       "      <td>150</td>\n",
       "      <td>1</td>\n",
       "      <td>1</td>\n",
       "      <td>1950.0</td>\n",
       "    </tr>\n",
       "    <tr>\n",
       "      <th>1</th>\n",
       "      <td>1000</td>\n",
       "      <td>6</td>\n",
       "      <td>43.0</td>\n",
       "      <td>172.0</td>\n",
       "      <td>60.0</td>\n",
       "      <td>23.0</td>\n",
       "      <td>52</td>\n",
       "      <td>NaT</td>\n",
       "      <td>Краснодар</td>\n",
       "      <td>Рафаил</td>\n",
       "      <td>...</td>\n",
       "      <td>2018-05-25</td>\n",
       "      <td>advanced</td>\n",
       "      <td>1000</td>\n",
       "      <td>30</td>\n",
       "      <td>3000</td>\n",
       "      <td>1950</td>\n",
       "      <td>150</td>\n",
       "      <td>1</td>\n",
       "      <td>1</td>\n",
       "      <td>1950.0</td>\n",
       "    </tr>\n",
       "    <tr>\n",
       "      <th>2</th>\n",
       "      <td>1000</td>\n",
       "      <td>7</td>\n",
       "      <td>47.0</td>\n",
       "      <td>340.0</td>\n",
       "      <td>75.0</td>\n",
       "      <td>14.0</td>\n",
       "      <td>52</td>\n",
       "      <td>NaT</td>\n",
       "      <td>Краснодар</td>\n",
       "      <td>Рафаил</td>\n",
       "      <td>...</td>\n",
       "      <td>2018-05-25</td>\n",
       "      <td>advanced</td>\n",
       "      <td>1000</td>\n",
       "      <td>30</td>\n",
       "      <td>3000</td>\n",
       "      <td>1950</td>\n",
       "      <td>150</td>\n",
       "      <td>1</td>\n",
       "      <td>1</td>\n",
       "      <td>1950.0</td>\n",
       "    </tr>\n",
       "    <tr>\n",
       "      <th>3</th>\n",
       "      <td>1000</td>\n",
       "      <td>8</td>\n",
       "      <td>52.0</td>\n",
       "      <td>408.0</td>\n",
       "      <td>81.0</td>\n",
       "      <td>14.0</td>\n",
       "      <td>52</td>\n",
       "      <td>NaT</td>\n",
       "      <td>Краснодар</td>\n",
       "      <td>Рафаил</td>\n",
       "      <td>...</td>\n",
       "      <td>2018-05-25</td>\n",
       "      <td>advanced</td>\n",
       "      <td>1000</td>\n",
       "      <td>30</td>\n",
       "      <td>3000</td>\n",
       "      <td>1950</td>\n",
       "      <td>150</td>\n",
       "      <td>1</td>\n",
       "      <td>1</td>\n",
       "      <td>1950.0</td>\n",
       "    </tr>\n",
       "    <tr>\n",
       "      <th>4</th>\n",
       "      <td>1000</td>\n",
       "      <td>9</td>\n",
       "      <td>58.0</td>\n",
       "      <td>466.0</td>\n",
       "      <td>57.0</td>\n",
       "      <td>15.0</td>\n",
       "      <td>52</td>\n",
       "      <td>NaT</td>\n",
       "      <td>Краснодар</td>\n",
       "      <td>Рафаил</td>\n",
       "      <td>...</td>\n",
       "      <td>2018-05-25</td>\n",
       "      <td>advanced</td>\n",
       "      <td>1000</td>\n",
       "      <td>30</td>\n",
       "      <td>3000</td>\n",
       "      <td>1950</td>\n",
       "      <td>150</td>\n",
       "      <td>1</td>\n",
       "      <td>1</td>\n",
       "      <td>1950.0</td>\n",
       "    </tr>\n",
       "    <tr>\n",
       "      <th>5</th>\n",
       "      <td>1000</td>\n",
       "      <td>10</td>\n",
       "      <td>57.0</td>\n",
       "      <td>350.0</td>\n",
       "      <td>73.0</td>\n",
       "      <td>15.0</td>\n",
       "      <td>52</td>\n",
       "      <td>NaT</td>\n",
       "      <td>Краснодар</td>\n",
       "      <td>Рафаил</td>\n",
       "      <td>...</td>\n",
       "      <td>2018-05-25</td>\n",
       "      <td>advanced</td>\n",
       "      <td>1000</td>\n",
       "      <td>30</td>\n",
       "      <td>3000</td>\n",
       "      <td>1950</td>\n",
       "      <td>150</td>\n",
       "      <td>1</td>\n",
       "      <td>1</td>\n",
       "      <td>1950.0</td>\n",
       "    </tr>\n",
       "    <tr>\n",
       "      <th>6</th>\n",
       "      <td>1000</td>\n",
       "      <td>11</td>\n",
       "      <td>43.0</td>\n",
       "      <td>338.0</td>\n",
       "      <td>58.0</td>\n",
       "      <td>15.0</td>\n",
       "      <td>52</td>\n",
       "      <td>NaT</td>\n",
       "      <td>Краснодар</td>\n",
       "      <td>Рафаил</td>\n",
       "      <td>...</td>\n",
       "      <td>2018-05-25</td>\n",
       "      <td>advanced</td>\n",
       "      <td>1000</td>\n",
       "      <td>30</td>\n",
       "      <td>3000</td>\n",
       "      <td>1950</td>\n",
       "      <td>150</td>\n",
       "      <td>1</td>\n",
       "      <td>1</td>\n",
       "      <td>1950.0</td>\n",
       "    </tr>\n",
       "    <tr>\n",
       "      <th>7</th>\n",
       "      <td>1000</td>\n",
       "      <td>12</td>\n",
       "      <td>46.0</td>\n",
       "      <td>333.0</td>\n",
       "      <td>70.0</td>\n",
       "      <td>10.0</td>\n",
       "      <td>52</td>\n",
       "      <td>NaT</td>\n",
       "      <td>Краснодар</td>\n",
       "      <td>Рафаил</td>\n",
       "      <td>...</td>\n",
       "      <td>2018-05-25</td>\n",
       "      <td>advanced</td>\n",
       "      <td>1000</td>\n",
       "      <td>30</td>\n",
       "      <td>3000</td>\n",
       "      <td>1950</td>\n",
       "      <td>150</td>\n",
       "      <td>1</td>\n",
       "      <td>1</td>\n",
       "      <td>1950.0</td>\n",
       "    </tr>\n",
       "    <tr>\n",
       "      <th>8</th>\n",
       "      <td>1001</td>\n",
       "      <td>11</td>\n",
       "      <td>59.0</td>\n",
       "      <td>430.0</td>\n",
       "      <td>0.0</td>\n",
       "      <td>18.0</td>\n",
       "      <td>41</td>\n",
       "      <td>NaT</td>\n",
       "      <td>Москва</td>\n",
       "      <td>Иван</td>\n",
       "      <td>...</td>\n",
       "      <td>2018-11-01</td>\n",
       "      <td>basic</td>\n",
       "      <td>50</td>\n",
       "      <td>15</td>\n",
       "      <td>500</td>\n",
       "      <td>550</td>\n",
       "      <td>200</td>\n",
       "      <td>3</td>\n",
       "      <td>3</td>\n",
       "      <td>1150.0</td>\n",
       "    </tr>\n",
       "    <tr>\n",
       "      <th>9</th>\n",
       "      <td>1001</td>\n",
       "      <td>12</td>\n",
       "      <td>63.0</td>\n",
       "      <td>414.0</td>\n",
       "      <td>0.0</td>\n",
       "      <td>14.0</td>\n",
       "      <td>41</td>\n",
       "      <td>NaT</td>\n",
       "      <td>Москва</td>\n",
       "      <td>Иван</td>\n",
       "      <td>...</td>\n",
       "      <td>2018-11-01</td>\n",
       "      <td>basic</td>\n",
       "      <td>50</td>\n",
       "      <td>15</td>\n",
       "      <td>500</td>\n",
       "      <td>550</td>\n",
       "      <td>200</td>\n",
       "      <td>3</td>\n",
       "      <td>3</td>\n",
       "      <td>550.0</td>\n",
       "    </tr>\n",
       "  </tbody>\n",
       "</table>\n",
       "<p>10 rows × 21 columns</p>\n",
       "</div>"
      ],
      "text/plain": [
       "   user_id  month  number_calls  duration_calls  number_messages  \\\n",
       "0     1000      5          22.0           159.0             22.0   \n",
       "1     1000      6          43.0           172.0             60.0   \n",
       "2     1000      7          47.0           340.0             75.0   \n",
       "3     1000      8          52.0           408.0             81.0   \n",
       "4     1000      9          58.0           466.0             57.0   \n",
       "5     1000     10          57.0           350.0             73.0   \n",
       "6     1000     11          43.0           338.0             58.0   \n",
       "7     1000     12          46.0           333.0             70.0   \n",
       "8     1001     11          59.0           430.0              0.0   \n",
       "9     1001     12          63.0           414.0              0.0   \n",
       "\n",
       "   gb_used_month  age churn_date       city first_name  ...   reg_date  \\\n",
       "0            3.0   52        NaT  Краснодар     Рафаил  ... 2018-05-25   \n",
       "1           23.0   52        NaT  Краснодар     Рафаил  ... 2018-05-25   \n",
       "2           14.0   52        NaT  Краснодар     Рафаил  ... 2018-05-25   \n",
       "3           14.0   52        NaT  Краснодар     Рафаил  ... 2018-05-25   \n",
       "4           15.0   52        NaT  Краснодар     Рафаил  ... 2018-05-25   \n",
       "5           15.0   52        NaT  Краснодар     Рафаил  ... 2018-05-25   \n",
       "6           15.0   52        NaT  Краснодар     Рафаил  ... 2018-05-25   \n",
       "7           10.0   52        NaT  Краснодар     Рафаил  ... 2018-05-25   \n",
       "8           18.0   41        NaT     Москва       Иван  ... 2018-11-01   \n",
       "9           14.0   41        NaT     Москва       Иван  ... 2018-11-01   \n",
       "\n",
       "     tariff messages_included  gb_per_month_included  minutes_included  \\\n",
       "0  advanced              1000                     30              3000   \n",
       "1  advanced              1000                     30              3000   \n",
       "2  advanced              1000                     30              3000   \n",
       "3  advanced              1000                     30              3000   \n",
       "4  advanced              1000                     30              3000   \n",
       "5  advanced              1000                     30              3000   \n",
       "6  advanced              1000                     30              3000   \n",
       "7  advanced              1000                     30              3000   \n",
       "8     basic                50                     15               500   \n",
       "9     basic                50                     15               500   \n",
       "\n",
       "   rub_monthly_fee  rub_per_gb  rub_per_message  rub_per_minute  earnings  \n",
       "0             1950         150                1               1    1950.0  \n",
       "1             1950         150                1               1    1950.0  \n",
       "2             1950         150                1               1    1950.0  \n",
       "3             1950         150                1               1    1950.0  \n",
       "4             1950         150                1               1    1950.0  \n",
       "5             1950         150                1               1    1950.0  \n",
       "6             1950         150                1               1    1950.0  \n",
       "7             1950         150                1               1    1950.0  \n",
       "8              550         200                3               3    1150.0  \n",
       "9              550         200                3               3     550.0  \n",
       "\n",
       "[10 rows x 21 columns]"
      ]
     },
     "execution_count": 286,
     "metadata": {},
     "output_type": "execute_result"
    }
   ],
   "source": [
    "df.head(10)"
   ]
  },
  {
   "cell_type": "markdown",
   "metadata": {},
   "source": [
    "По первым двум пользователям можно сказать, что функция работает корректно."
   ]
  },
  {
   "cell_type": "markdown",
   "metadata": {},
   "source": [
    "### Вывод"
   ]
  },
  {
   "cell_type": "markdown",
   "metadata": {},
   "source": [
    "1. Данные были приведены к корректному формату.\n",
    "2. В данных не было обнаружено ни дубликатов, ни пропущенных значений, ни каких-либо аномалий.\n",
    "3. Были вычислены и собраны в одной таблице ежемесячные показатели каждого пользователя: количество и общая длительность звонков, количество отправленных сообщений, объем израсходованного интернет трафика, выручка."
   ]
  },
  {
   "cell_type": "markdown",
   "metadata": {},
   "source": [
    "## Анализ поведения клиентов"
   ]
  },
  {
   "cell_type": "markdown",
   "metadata": {},
   "source": [
    "Проанализируем, сколько минут, сообщений и гигабайт нужно пользователям обоих тарифов. Разделим набор данных на два по названию тарифа."
   ]
  },
  {
   "cell_type": "code",
   "execution_count": 287,
   "metadata": {},
   "outputs": [],
   "source": [
    "df_basic = df.query('tariff == \"basic\"')\n",
    "df_advanced = df.query('tariff == \"advanced\"')"
   ]
  },
  {
   "cell_type": "markdown",
   "metadata": {},
   "source": [
    "### Минуты разговора"
   ]
  },
  {
   "cell_type": "markdown",
   "metadata": {},
   "source": [
    "Посчитаем среднее, стандартное отклонение и дисперсию для каждого тарифа."
   ]
  },
  {
   "cell_type": "code",
   "execution_count": 288,
   "metadata": {},
   "outputs": [
    {
     "data": {
      "text/html": [
       "<div>\n",
       "<style scoped>\n",
       "    .dataframe tbody tr th:only-of-type {\n",
       "        vertical-align: middle;\n",
       "    }\n",
       "\n",
       "    .dataframe tbody tr th {\n",
       "        vertical-align: top;\n",
       "    }\n",
       "\n",
       "    .dataframe thead th {\n",
       "        text-align: right;\n",
       "    }\n",
       "</style>\n",
       "<table border=\"1\" class=\"dataframe\">\n",
       "  <thead>\n",
       "    <tr style=\"text-align: right;\">\n",
       "      <th></th>\n",
       "      <th>duration_calls</th>\n",
       "    </tr>\n",
       "  </thead>\n",
       "  <tbody>\n",
       "    <tr>\n",
       "      <th>count</th>\n",
       "      <td>2229.000000</td>\n",
       "    </tr>\n",
       "    <tr>\n",
       "      <th>mean</th>\n",
       "      <td>417.934948</td>\n",
       "    </tr>\n",
       "    <tr>\n",
       "      <th>std</th>\n",
       "      <td>190.313730</td>\n",
       "    </tr>\n",
       "    <tr>\n",
       "      <th>min</th>\n",
       "      <td>0.000000</td>\n",
       "    </tr>\n",
       "    <tr>\n",
       "      <th>25%</th>\n",
       "      <td>282.000000</td>\n",
       "    </tr>\n",
       "    <tr>\n",
       "      <th>50%</th>\n",
       "      <td>422.000000</td>\n",
       "    </tr>\n",
       "    <tr>\n",
       "      <th>75%</th>\n",
       "      <td>545.000000</td>\n",
       "    </tr>\n",
       "    <tr>\n",
       "      <th>max</th>\n",
       "      <td>1435.000000</td>\n",
       "    </tr>\n",
       "  </tbody>\n",
       "</table>\n",
       "</div>"
      ],
      "text/plain": [
       "       duration_calls\n",
       "count     2229.000000\n",
       "mean       417.934948\n",
       "std        190.313730\n",
       "min          0.000000\n",
       "25%        282.000000\n",
       "50%        422.000000\n",
       "75%        545.000000\n",
       "max       1435.000000"
      ]
     },
     "metadata": {},
     "output_type": "display_data"
    },
    {
     "name": "stdout",
     "output_type": "stream",
     "text": [
      "Variance: 36203.06665209465\n"
     ]
    }
   ],
   "source": [
    "display(df_basic['duration_calls'].describe().to_frame())\n",
    "print('Variance:', np.var(df_basic['duration_calls']))"
   ]
  },
  {
   "cell_type": "code",
   "execution_count": 289,
   "metadata": {
    "scrolled": true
   },
   "outputs": [
    {
     "data": {
      "text/html": [
       "<div>\n",
       "<style scoped>\n",
       "    .dataframe tbody tr th:only-of-type {\n",
       "        vertical-align: middle;\n",
       "    }\n",
       "\n",
       "    .dataframe tbody tr th {\n",
       "        vertical-align: top;\n",
       "    }\n",
       "\n",
       "    .dataframe thead th {\n",
       "        text-align: right;\n",
       "    }\n",
       "</style>\n",
       "<table border=\"1\" class=\"dataframe\">\n",
       "  <thead>\n",
       "    <tr style=\"text-align: right;\">\n",
       "      <th></th>\n",
       "      <th>duration_calls</th>\n",
       "    </tr>\n",
       "  </thead>\n",
       "  <tbody>\n",
       "    <tr>\n",
       "      <th>count</th>\n",
       "      <td>985.000000</td>\n",
       "    </tr>\n",
       "    <tr>\n",
       "      <th>mean</th>\n",
       "      <td>526.623350</td>\n",
       "    </tr>\n",
       "    <tr>\n",
       "      <th>std</th>\n",
       "      <td>317.606098</td>\n",
       "    </tr>\n",
       "    <tr>\n",
       "      <th>min</th>\n",
       "      <td>0.000000</td>\n",
       "    </tr>\n",
       "    <tr>\n",
       "      <th>25%</th>\n",
       "      <td>284.000000</td>\n",
       "    </tr>\n",
       "    <tr>\n",
       "      <th>50%</th>\n",
       "      <td>518.000000</td>\n",
       "    </tr>\n",
       "    <tr>\n",
       "      <th>75%</th>\n",
       "      <td>752.000000</td>\n",
       "    </tr>\n",
       "    <tr>\n",
       "      <th>max</th>\n",
       "      <td>1673.000000</td>\n",
       "    </tr>\n",
       "  </tbody>\n",
       "</table>\n",
       "</div>"
      ],
      "text/plain": [
       "       duration_calls\n",
       "count      985.000000\n",
       "mean       526.623350\n",
       "std        317.606098\n",
       "min          0.000000\n",
       "25%        284.000000\n",
       "50%        518.000000\n",
       "75%        752.000000\n",
       "max       1673.000000"
      ]
     },
     "metadata": {},
     "output_type": "display_data"
    },
    {
     "name": "stdout",
     "output_type": "stream",
     "text": [
      "Variance: 100771.22361720211\n"
     ]
    }
   ],
   "source": [
    "display(df_advanced['duration_calls'].describe().to_frame())\n",
    "print('Variance:', np.var(df_advanced['duration_calls']))"
   ]
  },
  {
   "cell_type": "markdown",
   "metadata": {},
   "source": [
    "Среднее количество минут в месяц для тарифа базовый - 418, для тарифа продвинутый - 527. Стандартное отклонение - 190.3 для базового, 317.6 для продвинутого. Дисперсия - 36203 для базового, 100771 для продвинутого. \n",
    "\n",
    "В среднем пользователи тарифа продвинутый используют больше минут, однако и разброс для них существенно выше."
   ]
  },
  {
   "cell_type": "markdown",
   "metadata": {},
   "source": [
    "Посмотрим на гистограммы и диграммы размаха для каждого тарифа."
   ]
  },
  {
   "cell_type": "code",
   "execution_count": 290,
   "metadata": {},
   "outputs": [
    {
     "data": {
      "image/png": "[encoded data removed]",
      "text/plain": [
       "<Figure size 1152x360 with 2 Axes>"
      ]
     },
     "metadata": {
      "needs_background": "light"
     },
     "output_type": "display_data"
    }
   ],
   "source": [
    "fig, axes = plt.subplots(1, 2, figsize=(16, 5))\n",
    "\n",
    "sns.histplot(df_basic['duration_calls'], label='basic', color='red', bins=39, alpha=0.5, stat=\"density\", ax = axes[0])\n",
    "sns.histplot(df_advanced['duration_calls'], label='advanced', color='blue', bins=50, alpha=0.5, stat=\"density\", ax = axes[0])\n",
    "axes[0].legend()\n",
    "axes[0].set_title('Calls duration per  month distribution')\n",
    "sns.boxplot(y='tariff', x='duration_calls', data=df, orient='h', ax = axes[1])\n",
    "axes[1].set_title('Calls duration per month boxplot')\n",
    "plt.show()"
   ]
  },
  {
   "cell_type": "markdown",
   "metadata": {},
   "source": [
    "Распределение количества минут для тарифа базовый похоже на нормальное. Наибольшее количество пользователей используют порядка 300-600 минут в месяц. Пользователей, использующих очень мало или очень много минут, относительно немного.\n",
    "\n",
    "Распределение количества минут для тарифа продвинутый не похоже на какое-либо типичное распределение, можно лишь отметить, что оно скошено вправо. Есть узкий мощный пик на уровне 0 минут, говорящий о том, что много пользователей данного тарифа практически не совершают звонков (предположительно используют исключительно сообщения и интернет). Количество пользователей, использующих очень много минут в месяц (более 750) существенно выше для тарифа продвинутый, чем для тарифа базовый. \n",
    "\n",
    "По диаграмма размаха видно, что медиана у тарифа продвинутый выше, но и межквартильный размах выше, что говорит о более высоком разбросе значений. В обоих тарифах есть выбросы, характеризующие людей, использующих крайне много минут в месяц. Удалять данные наблюдения нельзя, так как никакой аномалии здесь нет."
   ]
  },
  {
   "cell_type": "markdown",
   "metadata": {},
   "source": [
    "### Количество сообщений"
   ]
  },
  {
   "cell_type": "markdown",
   "metadata": {},
   "source": [
    "Посчитаем среднее, стандартное отклонение и дисперсию для каждого тарифа."
   ]
  },
  {
   "cell_type": "code",
   "execution_count": 291,
   "metadata": {},
   "outputs": [
    {
     "data": {
      "text/html": [
       "<div>\n",
       "<style scoped>\n",
       "    .dataframe tbody tr th:only-of-type {\n",
       "        vertical-align: middle;\n",
       "    }\n",
       "\n",
       "    .dataframe tbody tr th {\n",
       "        vertical-align: top;\n",
       "    }\n",
       "\n",
       "    .dataframe thead th {\n",
       "        text-align: right;\n",
       "    }\n",
       "</style>\n",
       "<table border=\"1\" class=\"dataframe\">\n",
       "  <thead>\n",
       "    <tr style=\"text-align: right;\">\n",
       "      <th></th>\n",
       "      <th>number_messages</th>\n",
       "    </tr>\n",
       "  </thead>\n",
       "  <tbody>\n",
       "    <tr>\n",
       "      <th>count</th>\n",
       "      <td>2229.000000</td>\n",
       "    </tr>\n",
       "    <tr>\n",
       "      <th>mean</th>\n",
       "      <td>33.384029</td>\n",
       "    </tr>\n",
       "    <tr>\n",
       "      <th>std</th>\n",
       "      <td>28.227876</td>\n",
       "    </tr>\n",
       "    <tr>\n",
       "      <th>min</th>\n",
       "      <td>0.000000</td>\n",
       "    </tr>\n",
       "    <tr>\n",
       "      <th>25%</th>\n",
       "      <td>10.000000</td>\n",
       "    </tr>\n",
       "    <tr>\n",
       "      <th>50%</th>\n",
       "      <td>28.000000</td>\n",
       "    </tr>\n",
       "    <tr>\n",
       "      <th>75%</th>\n",
       "      <td>51.000000</td>\n",
       "    </tr>\n",
       "    <tr>\n",
       "      <th>max</th>\n",
       "      <td>143.000000</td>\n",
       "    </tr>\n",
       "  </tbody>\n",
       "</table>\n",
       "</div>"
      ],
      "text/plain": [
       "       number_messages\n",
       "count      2229.000000\n",
       "mean         33.384029\n",
       "std          28.227876\n",
       "min           0.000000\n",
       "25%          10.000000\n",
       "50%          28.000000\n",
       "75%          51.000000\n",
       "max         143.000000"
      ]
     },
     "metadata": {},
     "output_type": "display_data"
    },
    {
     "name": "stdout",
     "output_type": "stream",
     "text": [
      "Variance: 796.455482917076\n"
     ]
    }
   ],
   "source": [
    "display(df_basic['number_messages'].describe().to_frame())\n",
    "print('Variance:', np.var(df_basic['number_messages']))"
   ]
  },
  {
   "cell_type": "code",
   "execution_count": 292,
   "metadata": {},
   "outputs": [
    {
     "data": {
      "text/html": [
       "<div>\n",
       "<style scoped>\n",
       "    .dataframe tbody tr th:only-of-type {\n",
       "        vertical-align: middle;\n",
       "    }\n",
       "\n",
       "    .dataframe tbody tr th {\n",
       "        vertical-align: top;\n",
       "    }\n",
       "\n",
       "    .dataframe thead th {\n",
       "        text-align: right;\n",
       "    }\n",
       "</style>\n",
       "<table border=\"1\" class=\"dataframe\">\n",
       "  <thead>\n",
       "    <tr style=\"text-align: right;\">\n",
       "      <th></th>\n",
       "      <th>number_messages</th>\n",
       "    </tr>\n",
       "  </thead>\n",
       "  <tbody>\n",
       "    <tr>\n",
       "      <th>count</th>\n",
       "      <td>985.000000</td>\n",
       "    </tr>\n",
       "    <tr>\n",
       "      <th>mean</th>\n",
       "      <td>49.363452</td>\n",
       "    </tr>\n",
       "    <tr>\n",
       "      <th>std</th>\n",
       "      <td>47.804457</td>\n",
       "    </tr>\n",
       "    <tr>\n",
       "      <th>min</th>\n",
       "      <td>0.000000</td>\n",
       "    </tr>\n",
       "    <tr>\n",
       "      <th>25%</th>\n",
       "      <td>6.000000</td>\n",
       "    </tr>\n",
       "    <tr>\n",
       "      <th>50%</th>\n",
       "      <td>38.000000</td>\n",
       "    </tr>\n",
       "    <tr>\n",
       "      <th>75%</th>\n",
       "      <td>79.000000</td>\n",
       "    </tr>\n",
       "    <tr>\n",
       "      <th>max</th>\n",
       "      <td>224.000000</td>\n",
       "    </tr>\n",
       "  </tbody>\n",
       "</table>\n",
       "</div>"
      ],
      "text/plain": [
       "       number_messages\n",
       "count       985.000000\n",
       "mean         49.363452\n",
       "std          47.804457\n",
       "min           0.000000\n",
       "25%           6.000000\n",
       "50%          38.000000\n",
       "75%          79.000000\n",
       "max         224.000000"
      ]
     },
     "metadata": {},
     "output_type": "display_data"
    },
    {
     "name": "stdout",
     "output_type": "stream",
     "text": [
      "Variance: 2282.94607539489\n"
     ]
    }
   ],
   "source": [
    "display(df_advanced['number_messages'].describe().to_frame())\n",
    "print('Variance:', np.var(df_advanced['number_messages']))"
   ]
  },
  {
   "cell_type": "markdown",
   "metadata": {},
   "source": [
    "Среднее количество отправленных сообщений в месяц для тарифа базовый - 33, для тарифа продвинутый - 49. Стандартное отклонение - 28.2 для базового тарифа, 47.8 для продвинутого тарифа. Дисперсия - 796 для базового тарифа, 2283 для продвинутого тарифа. \n",
    "\n",
    "В среднем пользователи тарифа продвинутый отправляют больше сообщений, однако и разброс для них существенно выше."
   ]
  },
  {
   "cell_type": "markdown",
   "metadata": {},
   "source": [
    "Построим гистограмму и диаграмму размаха для каждого тарифа."
   ]
  },
  {
   "cell_type": "code",
   "execution_count": 293,
   "metadata": {},
   "outputs": [
    {
     "data": {
      "image/png": "[encoded data removed]",
      "text/plain": [
       "<Figure size 1152x360 with 2 Axes>"
      ]
     },
     "metadata": {
      "needs_background": "light"
     },
     "output_type": "display_data"
    }
   ],
   "source": [
    "fig, axes = plt.subplots(1, 2, figsize=(16, 5))\n",
    "\n",
    "sns.histplot(df_basic['number_messages'], label='basic', color='red', bins=39, alpha=0.5, stat=\"density\", ax = axes[0])\n",
    "sns.histplot(df_advanced['number_messages'], label='advanced', color='blue', bins=50, alpha=0.5, stat=\"density\", ax = axes[0])\n",
    "axes[0].legend()\n",
    "axes[0].set_title('Number of messages per  month distribution')\n",
    "sns.boxplot(y='tariff', x='number_messages', data=df, orient='h', ax = axes[1])\n",
    "axes[1].set_title('Number of messages per month boxplot')\n",
    "plt.show()"
   ]
  },
  {
   "cell_type": "markdown",
   "metadata": {},
   "source": [
    "Оба тарифа имеют мощный острый пик на уровне 0, говорящий о том, что в обоих тарифах есть относительно большая доля пользователей, практически не использующая сообщения. Оба распределения скошены вправо. Для тарифа базовый доля людей, использующих умеренное число сообщений (до 50) выше, но для тарифа продвинутый доля людей, отправляющих много сообщений, заметно выше. \n",
    "\n",
    "Диаграмма размаха показывает, что медиана у тарифа продвинутый выше, но и разброс выше. Также по ней видно, что пользователи тарифа продвинутый более склонны к отправке большого количества сообщений. В обеих диаграммах наблюдаются выбросы, говорящие, что ряд пользователей отправляют экстремально много сообщений в сравнении с другими пользователями их тарифа."
   ]
  },
  {
   "cell_type": "markdown",
   "metadata": {},
   "source": [
    "### Объем интернет-трафика"
   ]
  },
  {
   "cell_type": "markdown",
   "metadata": {},
   "source": [
    "Посчитаем среднее, стандартное отклонение и дисперсию для каждого тарифа."
   ]
  },
  {
   "cell_type": "code",
   "execution_count": 294,
   "metadata": {},
   "outputs": [
    {
     "data": {
      "text/html": [
       "<div>\n",
       "<style scoped>\n",
       "    .dataframe tbody tr th:only-of-type {\n",
       "        vertical-align: middle;\n",
       "    }\n",
       "\n",
       "    .dataframe tbody tr th {\n",
       "        vertical-align: top;\n",
       "    }\n",
       "\n",
       "    .dataframe thead th {\n",
       "        text-align: right;\n",
       "    }\n",
       "</style>\n",
       "<table border=\"1\" class=\"dataframe\">\n",
       "  <thead>\n",
       "    <tr style=\"text-align: right;\">\n",
       "      <th></th>\n",
       "      <th>gb_used_month</th>\n",
       "    </tr>\n",
       "  </thead>\n",
       "  <tbody>\n",
       "    <tr>\n",
       "      <th>count</th>\n",
       "      <td>2229.000000</td>\n",
       "    </tr>\n",
       "    <tr>\n",
       "      <th>mean</th>\n",
       "      <td>16.328847</td>\n",
       "    </tr>\n",
       "    <tr>\n",
       "      <th>std</th>\n",
       "      <td>5.747061</td>\n",
       "    </tr>\n",
       "    <tr>\n",
       "      <th>min</th>\n",
       "      <td>0.000000</td>\n",
       "    </tr>\n",
       "    <tr>\n",
       "      <th>25%</th>\n",
       "      <td>13.000000</td>\n",
       "    </tr>\n",
       "    <tr>\n",
       "      <th>50%</th>\n",
       "      <td>17.000000</td>\n",
       "    </tr>\n",
       "    <tr>\n",
       "      <th>75%</th>\n",
       "      <td>20.000000</td>\n",
       "    </tr>\n",
       "    <tr>\n",
       "      <th>max</th>\n",
       "      <td>38.000000</td>\n",
       "    </tr>\n",
       "  </tbody>\n",
       "</table>\n",
       "</div>"
      ],
      "text/plain": [
       "       gb_used_month\n",
       "count    2229.000000\n",
       "mean       16.328847\n",
       "std         5.747061\n",
       "min         0.000000\n",
       "25%        13.000000\n",
       "50%        17.000000\n",
       "75%        20.000000\n",
       "max        38.000000"
      ]
     },
     "metadata": {},
     "output_type": "display_data"
    },
    {
     "name": "stdout",
     "output_type": "stream",
     "text": [
      "Variance: 33.01388745483741\n"
     ]
    }
   ],
   "source": [
    "display(df_basic['gb_used_month'].describe().to_frame())\n",
    "print('Variance:', np.var(df_basic['gb_used_month']))"
   ]
  },
  {
   "cell_type": "code",
   "execution_count": 295,
   "metadata": {},
   "outputs": [
    {
     "data": {
      "text/html": [
       "<div>\n",
       "<style scoped>\n",
       "    .dataframe tbody tr th:only-of-type {\n",
       "        vertical-align: middle;\n",
       "    }\n",
       "\n",
       "    .dataframe tbody tr th {\n",
       "        vertical-align: top;\n",
       "    }\n",
       "\n",
       "    .dataframe thead th {\n",
       "        text-align: right;\n",
       "    }\n",
       "</style>\n",
       "<table border=\"1\" class=\"dataframe\">\n",
       "  <thead>\n",
       "    <tr style=\"text-align: right;\">\n",
       "      <th></th>\n",
       "      <th>gb_used_month</th>\n",
       "    </tr>\n",
       "  </thead>\n",
       "  <tbody>\n",
       "    <tr>\n",
       "      <th>count</th>\n",
       "      <td>985.000000</td>\n",
       "    </tr>\n",
       "    <tr>\n",
       "      <th>mean</th>\n",
       "      <td>19.494416</td>\n",
       "    </tr>\n",
       "    <tr>\n",
       "      <th>std</th>\n",
       "      <td>9.853511</td>\n",
       "    </tr>\n",
       "    <tr>\n",
       "      <th>min</th>\n",
       "      <td>0.000000</td>\n",
       "    </tr>\n",
       "    <tr>\n",
       "      <th>25%</th>\n",
       "      <td>12.000000</td>\n",
       "    </tr>\n",
       "    <tr>\n",
       "      <th>50%</th>\n",
       "      <td>19.000000</td>\n",
       "    </tr>\n",
       "    <tr>\n",
       "      <th>75%</th>\n",
       "      <td>27.000000</td>\n",
       "    </tr>\n",
       "    <tr>\n",
       "      <th>max</th>\n",
       "      <td>49.000000</td>\n",
       "    </tr>\n",
       "  </tbody>\n",
       "</table>\n",
       "</div>"
      ],
      "text/plain": [
       "       gb_used_month\n",
       "count     985.000000\n",
       "mean       19.494416\n",
       "std         9.853511\n",
       "min         0.000000\n",
       "25%        12.000000\n",
       "50%        19.000000\n",
       "75%        27.000000\n",
       "max        49.000000"
      ]
     },
     "metadata": {},
     "output_type": "display_data"
    },
    {
     "name": "stdout",
     "output_type": "stream",
     "text": [
      "Variance: 96.99311602978705\n"
     ]
    }
   ],
   "source": [
    "display(df_advanced['gb_used_month'].describe().to_frame())\n",
    "print('Variance:', np.var(df_advanced['gb_used_month']))"
   ]
  },
  {
   "cell_type": "markdown",
   "metadata": {},
   "source": [
    "Среднее использование интернет-трафика в месяц для тарифа базовый - 16.3 Гб, для тарифа продвинутый - 19.5 Гб. Стандартное отклонение - 5.7 для базового тарифа, 9.9 для продвинутого тарифа. Дисперсия - 33 для базового, 49 для продвинутого. \n",
    "\n",
    "В среднем пользователи тарифа продвинутый используют больше интернет-трафика, однако и разброс для них существенно выше. Тоже самое было получено для звонков и сообщений. Возможно, это связано с размером выборки."
   ]
  },
  {
   "cell_type": "code",
   "execution_count": 296,
   "metadata": {},
   "outputs": [
    {
     "name": "stdout",
     "output_type": "stream",
     "text": [
      "Кол-во пользователей тарифа базовый 351\n",
      "Кол-во пользователей тарифа продвинутый 149\n"
     ]
    }
   ],
   "source": [
    "print('Кол-во пользователей тарифа базовый', len(df_users.query('tariff == \"basic\"')))\n",
    "print('Кол-во пользователей тарифа продвинутый', len(df_users.query('tariff == \"advanced\"')))"
   ]
  },
  {
   "cell_type": "markdown",
   "metadata": {},
   "source": [
    "Да, выборки по тарифам не равны по размеру, а как известно, с увеличением числа наблюдений разброс снижается."
   ]
  },
  {
   "cell_type": "markdown",
   "metadata": {},
   "source": [
    "Построим гистограммы использования интернета для каждого тарифа."
   ]
  },
  {
   "cell_type": "code",
   "execution_count": 297,
   "metadata": {},
   "outputs": [
    {
     "data": {
      "image/png": "[encoded data removed]",
      "text/plain": [
       "<Figure size 1152x360 with 2 Axes>"
      ]
     },
     "metadata": {
      "needs_background": "light"
     },
     "output_type": "display_data"
    }
   ],
   "source": [
    "fig, axes = plt.subplots(1, 2, figsize=(16, 5))\n",
    "\n",
    "sns.histplot(df_basic['gb_used_month'], label='basic', color='red', bins=39, alpha=0.5, stat=\"density\", ax = axes[0])\n",
    "sns.histplot(df_advanced['gb_used_month'], label='advanced', color='blue', bins=50, alpha=0.5, stat=\"density\", ax = axes[0])\n",
    "axes[0].legend()\n",
    "axes[0].set_title('Internet usage per month distribution')\n",
    "sns.boxplot(y='tariff', x='gb_used_month', data=df, orient='h', ax = axes[1])\n",
    "axes[1].set_title('Internet usage per month boxplot')\n",
    "plt.show()"
   ]
  },
  {
   "cell_type": "markdown",
   "metadata": {},
   "source": [
    "Распределение для тарифа базовый имеет нормальный вид. Пик приходится на значения 16-17 Гб. Распределение для тарифа продвинутый скошено вправо, пик приходится на 19-21 Гб, однако пик слабый. Доля пользователей, использующих очень много интернет-трафика (более 25 Гб) для тарифа продвинутый существенно выше.\n",
    "\n",
    "По диаграмме размаха видно, что медиана у тарифа продвинутый выше, но и межквартильный размах значительно выше, что опять же говорит о довольно высоком разбросе. В тарифе базовый есть выбросы, характеризующие пользователей, которые используют либо слишком много, либо слишком мало интернета в месяц, однако это нельзя назвать аномалией, так как люди используют мобильную связь по-разному."
   ]
  },
  {
   "cell_type": "markdown",
   "metadata": {},
   "source": [
    "### Вывод"
   ]
  },
  {
   "cell_type": "markdown",
   "metadata": {},
   "source": [
    "1. Среднее количество минут, сообщений и объёма интернет-трафика выше для тарифа продвинутый, но и разброс от среднего существенно выше, чем для тарифа смарт.\n",
    "2. Для всех трех показателей в тарифе продвинутый существенно выше доля пользователей, использующих очень много минут/сообщений/трафика. Пользователи же тарифа базовый более умеренны.\n",
    "3. Среди пользователей тарифа продвинутый довольно высока доля пользователей, которые практически не используют звонки. Данная особенность не характерна для пользователей тарифа базовый."
   ]
  },
  {
   "cell_type": "markdown",
   "metadata": {},
   "source": [
    "## Проверка статистических гипотез"
   ]
  },
  {
   "cell_type": "markdown",
   "metadata": {},
   "source": [
    "### Гипотеза № 1: средняя выручка пользователей тарифов «Ультра» и «Смарт» различаются"
   ]
  },
  {
   "cell_type": "markdown",
   "metadata": {},
   "source": [
    "Для начала взглянем на распределение выручки для каждого из тарифов и на их средние значения."
   ]
  },
  {
   "cell_type": "code",
   "execution_count": 298,
   "metadata": {
    "scrolled": false
   },
   "outputs": [
    {
     "data": {
      "image/png": "[encoded data removed]",
      "text/plain": [
       "<Figure size 1080x504 with 1 Axes>"
      ]
     },
     "metadata": {
      "needs_background": "light"
     },
     "output_type": "display_data"
    }
   ],
   "source": [
    "plt.figure(figsize=(15,7))\n",
    "sns.kdeplot(df_basic['earnings'], label='basic', color='blue')\n",
    "sns.kdeplot(df_advanced['earnings'], label='advanced', color='red')\n",
    "plt.legend()\n",
    "plt.title('Earnings distribution')\n",
    "plt.show()"
   ]
  },
  {
   "cell_type": "code",
   "execution_count": 299,
   "metadata": {},
   "outputs": [
    {
     "data": {
      "text/html": [
       "<div>\n",
       "<style scoped>\n",
       "    .dataframe tbody tr th:only-of-type {\n",
       "        vertical-align: middle;\n",
       "    }\n",
       "\n",
       "    .dataframe tbody tr th {\n",
       "        vertical-align: top;\n",
       "    }\n",
       "\n",
       "    .dataframe thead th {\n",
       "        text-align: right;\n",
       "    }\n",
       "</style>\n",
       "<table border=\"1\" class=\"dataframe\">\n",
       "  <thead>\n",
       "    <tr style=\"text-align: right;\">\n",
       "      <th></th>\n",
       "      <th>earnings</th>\n",
       "    </tr>\n",
       "  </thead>\n",
       "  <tbody>\n",
       "    <tr>\n",
       "      <th>count</th>\n",
       "      <td>2229.000000</td>\n",
       "    </tr>\n",
       "    <tr>\n",
       "      <th>mean</th>\n",
       "      <td>1289.973531</td>\n",
       "    </tr>\n",
       "    <tr>\n",
       "      <th>std</th>\n",
       "      <td>818.404367</td>\n",
       "    </tr>\n",
       "    <tr>\n",
       "      <th>min</th>\n",
       "      <td>550.000000</td>\n",
       "    </tr>\n",
       "    <tr>\n",
       "      <th>25%</th>\n",
       "      <td>550.000000</td>\n",
       "    </tr>\n",
       "    <tr>\n",
       "      <th>50%</th>\n",
       "      <td>1023.000000</td>\n",
       "    </tr>\n",
       "    <tr>\n",
       "      <th>75%</th>\n",
       "      <td>1750.000000</td>\n",
       "    </tr>\n",
       "    <tr>\n",
       "      <th>max</th>\n",
       "      <td>6770.000000</td>\n",
       "    </tr>\n",
       "  </tbody>\n",
       "</table>\n",
       "</div>"
      ],
      "text/plain": [
       "          earnings\n",
       "count  2229.000000\n",
       "mean   1289.973531\n",
       "std     818.404367\n",
       "min     550.000000\n",
       "25%     550.000000\n",
       "50%    1023.000000\n",
       "75%    1750.000000\n",
       "max    6770.000000"
      ]
     },
     "execution_count": 299,
     "metadata": {},
     "output_type": "execute_result"
    }
   ],
   "source": [
    "df_basic['earnings'].describe().to_frame()"
   ]
  },
  {
   "cell_type": "code",
   "execution_count": 300,
   "metadata": {},
   "outputs": [
    {
     "data": {
      "text/html": [
       "<div>\n",
       "<style scoped>\n",
       "    .dataframe tbody tr th:only-of-type {\n",
       "        vertical-align: middle;\n",
       "    }\n",
       "\n",
       "    .dataframe tbody tr th {\n",
       "        vertical-align: top;\n",
       "    }\n",
       "\n",
       "    .dataframe thead th {\n",
       "        text-align: right;\n",
       "    }\n",
       "</style>\n",
       "<table border=\"1\" class=\"dataframe\">\n",
       "  <thead>\n",
       "    <tr style=\"text-align: right;\">\n",
       "      <th></th>\n",
       "      <th>earnings</th>\n",
       "    </tr>\n",
       "  </thead>\n",
       "  <tbody>\n",
       "    <tr>\n",
       "      <th>count</th>\n",
       "      <td>985.000000</td>\n",
       "    </tr>\n",
       "    <tr>\n",
       "      <th>mean</th>\n",
       "      <td>2070.152284</td>\n",
       "    </tr>\n",
       "    <tr>\n",
       "      <th>std</th>\n",
       "      <td>376.187114</td>\n",
       "    </tr>\n",
       "    <tr>\n",
       "      <th>min</th>\n",
       "      <td>1950.000000</td>\n",
       "    </tr>\n",
       "    <tr>\n",
       "      <th>25%</th>\n",
       "      <td>1950.000000</td>\n",
       "    </tr>\n",
       "    <tr>\n",
       "      <th>50%</th>\n",
       "      <td>1950.000000</td>\n",
       "    </tr>\n",
       "    <tr>\n",
       "      <th>75%</th>\n",
       "      <td>1950.000000</td>\n",
       "    </tr>\n",
       "    <tr>\n",
       "      <th>max</th>\n",
       "      <td>4800.000000</td>\n",
       "    </tr>\n",
       "  </tbody>\n",
       "</table>\n",
       "</div>"
      ],
      "text/plain": [
       "          earnings\n",
       "count   985.000000\n",
       "mean   2070.152284\n",
       "std     376.187114\n",
       "min    1950.000000\n",
       "25%    1950.000000\n",
       "50%    1950.000000\n",
       "75%    1950.000000\n",
       "max    4800.000000"
      ]
     },
     "execution_count": 300,
     "metadata": {},
     "output_type": "execute_result"
    }
   ],
   "source": [
    "df_advanced['earnings'].describe().to_frame()"
   ]
  },
  {
   "cell_type": "markdown",
   "metadata": {},
   "source": [
    "С первого взгляда может показаться, что выручки не равны, и выручка тарифа продвинутый выше, однако мы имеем дело с выборками, и данная разница может быть статистически незначимой. Чтобы убедиться в том, что средняя выручка разная для тарифов, обратимся к статистическому тесту."
   ]
  },
  {
   "cell_type": "markdown",
   "metadata": {},
   "source": [
    "**Нулевая гипотеза**: средняя выручка пользователей тарифов \"Базовый\" и \"Продвинутый\" одинаковая.\n",
    "\n",
    "**Альтернативная гипотеза**: средняя выручка пользователей тарифов разная.\n",
    "\n",
    "**Уровень статистической значимости**: 0.05, что означает, если вероятность взять данную выборку из генеральной совокупности, при которой средняя выручка тарифов одинаковая, ниже 5%, то мы можем отвергнуть нулевую гипотезу и считать средние выручки тарифов разными."
   ]
  },
  {
   "cell_type": "code",
   "execution_count": 301,
   "metadata": {},
   "outputs": [
    {
     "name": "stdout",
     "output_type": "stream",
     "text": [
      "p-значение: 4.2606313931076085e-250\n"
     ]
    }
   ],
   "source": [
    "basic_earnings = df_basic['earnings']\n",
    "advanced_earnings = df_advanced['earnings']\n",
    "\n",
    "results = st.ttest_ind(basic_earnings, advanced_earnings, equal_var=False)\n",
    "\n",
    "print('p-значение:', results.pvalue)"
   ]
  },
  {
   "cell_type": "markdown",
   "metadata": {},
   "source": [
    "Полученное p-значение значительно ниже установленного уровня статистической значимости, следовательно мы можем отвергнуть нулевую гипотезу и сделать вывод, что различие средних выручек двух тарифов статистически значимо."
   ]
  },
  {
   "cell_type": "markdown",
   "metadata": {},
   "source": [
    "### Гипотеза № 2: средняя выручка пользователей из Москвы отличается от выручки пользователей из других регионов"
   ]
  },
  {
   "cell_type": "code",
   "execution_count": 302,
   "metadata": {},
   "outputs": [],
   "source": [
    "df_moscow = df.query('city == \"Москва\"')"
   ]
  },
  {
   "cell_type": "code",
   "execution_count": 303,
   "metadata": {},
   "outputs": [],
   "source": [
    "df_regions = df.query('city != \"Москва\"')"
   ]
  },
  {
   "cell_type": "markdown",
   "metadata": {},
   "source": [
    "Для начала взглянем на распределение выручки для Москвы и регионов и на их средние значения."
   ]
  },
  {
   "cell_type": "code",
   "execution_count": 304,
   "metadata": {},
   "outputs": [
    {
     "data": {
      "image/png": "[encoded data removed]",
      "text/plain": [
       "<Figure size 1080x504 with 1 Axes>"
      ]
     },
     "metadata": {
      "needs_background": "light"
     },
     "output_type": "display_data"
    }
   ],
   "source": [
    "plt.figure(figsize=(15,7))\n",
    "sns.kdeplot(df_moscow['earnings'], label='Moscow', color='blue')\n",
    "sns.kdeplot(df_regions['earnings'], label='Other regions', color='red')\n",
    "plt.legend()\n",
    "plt.title('Earnings distribution for regions')\n",
    "plt.show()"
   ]
  },
  {
   "cell_type": "markdown",
   "metadata": {},
   "source": [
    "Два ярко выраженных пика распределения соответствуют двум тарифам."
   ]
  },
  {
   "cell_type": "code",
   "execution_count": 305,
   "metadata": {},
   "outputs": [
    {
     "data": {
      "text/html": [
       "<div>\n",
       "<style scoped>\n",
       "    .dataframe tbody tr th:only-of-type {\n",
       "        vertical-align: middle;\n",
       "    }\n",
       "\n",
       "    .dataframe tbody tr th {\n",
       "        vertical-align: top;\n",
       "    }\n",
       "\n",
       "    .dataframe thead th {\n",
       "        text-align: right;\n",
       "    }\n",
       "</style>\n",
       "<table border=\"1\" class=\"dataframe\">\n",
       "  <thead>\n",
       "    <tr style=\"text-align: right;\">\n",
       "      <th></th>\n",
       "      <th>earnings</th>\n",
       "    </tr>\n",
       "  </thead>\n",
       "  <tbody>\n",
       "    <tr>\n",
       "      <th>count</th>\n",
       "      <td>611.000000</td>\n",
       "    </tr>\n",
       "    <tr>\n",
       "      <th>mean</th>\n",
       "      <td>1546.713584</td>\n",
       "    </tr>\n",
       "    <tr>\n",
       "      <th>std</th>\n",
       "      <td>752.088071</td>\n",
       "    </tr>\n",
       "    <tr>\n",
       "      <th>min</th>\n",
       "      <td>550.000000</td>\n",
       "    </tr>\n",
       "    <tr>\n",
       "      <th>25%</th>\n",
       "      <td>780.500000</td>\n",
       "    </tr>\n",
       "    <tr>\n",
       "      <th>50%</th>\n",
       "      <td>1750.000000</td>\n",
       "    </tr>\n",
       "    <tr>\n",
       "      <th>75%</th>\n",
       "      <td>1950.000000</td>\n",
       "    </tr>\n",
       "    <tr>\n",
       "      <th>max</th>\n",
       "      <td>5321.000000</td>\n",
       "    </tr>\n",
       "  </tbody>\n",
       "</table>\n",
       "</div>"
      ],
      "text/plain": [
       "          earnings\n",
       "count   611.000000\n",
       "mean   1546.713584\n",
       "std     752.088071\n",
       "min     550.000000\n",
       "25%     780.500000\n",
       "50%    1750.000000\n",
       "75%    1950.000000\n",
       "max    5321.000000"
      ]
     },
     "execution_count": 305,
     "metadata": {},
     "output_type": "execute_result"
    }
   ],
   "source": [
    "df_moscow['earnings'].describe().to_frame()"
   ]
  },
  {
   "cell_type": "code",
   "execution_count": 306,
   "metadata": {},
   "outputs": [
    {
     "data": {
      "text/html": [
       "<div>\n",
       "<style scoped>\n",
       "    .dataframe tbody tr th:only-of-type {\n",
       "        vertical-align: middle;\n",
       "    }\n",
       "\n",
       "    .dataframe tbody tr th {\n",
       "        vertical-align: top;\n",
       "    }\n",
       "\n",
       "    .dataframe thead th {\n",
       "        text-align: right;\n",
       "    }\n",
       "</style>\n",
       "<table border=\"1\" class=\"dataframe\">\n",
       "  <thead>\n",
       "    <tr style=\"text-align: right;\">\n",
       "      <th></th>\n",
       "      <th>earnings</th>\n",
       "    </tr>\n",
       "  </thead>\n",
       "  <tbody>\n",
       "    <tr>\n",
       "      <th>count</th>\n",
       "      <td>2603.000000</td>\n",
       "    </tr>\n",
       "    <tr>\n",
       "      <th>mean</th>\n",
       "      <td>1524.936227</td>\n",
       "    </tr>\n",
       "    <tr>\n",
       "      <th>std</th>\n",
       "      <td>808.787752</td>\n",
       "    </tr>\n",
       "    <tr>\n",
       "      <th>min</th>\n",
       "      <td>550.000000</td>\n",
       "    </tr>\n",
       "    <tr>\n",
       "      <th>25%</th>\n",
       "      <td>750.000000</td>\n",
       "    </tr>\n",
       "    <tr>\n",
       "      <th>50%</th>\n",
       "      <td>1583.000000</td>\n",
       "    </tr>\n",
       "    <tr>\n",
       "      <th>75%</th>\n",
       "      <td>1950.000000</td>\n",
       "    </tr>\n",
       "    <tr>\n",
       "      <th>max</th>\n",
       "      <td>6770.000000</td>\n",
       "    </tr>\n",
       "  </tbody>\n",
       "</table>\n",
       "</div>"
      ],
      "text/plain": [
       "          earnings\n",
       "count  2603.000000\n",
       "mean   1524.936227\n",
       "std     808.787752\n",
       "min     550.000000\n",
       "25%     750.000000\n",
       "50%    1583.000000\n",
       "75%    1950.000000\n",
       "max    6770.000000"
      ]
     },
     "execution_count": 306,
     "metadata": {},
     "output_type": "execute_result"
    }
   ],
   "source": [
    "df_regions['earnings'].describe().to_frame()"
   ]
  },
  {
   "cell_type": "markdown",
   "metadata": {},
   "source": [
    "Распределения и их средние для Москвы и регионов очень похожи между собой. Однако, чтобы быть уверенными, проведем статистический тест."
   ]
  },
  {
   "cell_type": "markdown",
   "metadata": {},
   "source": [
    "**Нулевая гипотеза**: средняя выручка пользователей из Москвы такая же, как и пользователей из других регионов.\n",
    "\n",
    "**Альтернативная гипотеза**: средняя выручка пользователей из Москвы и других регионов различается.\n",
    "\n",
    "**Уровень статистической значимости**: 0.05, что означает, если вероятность взять данную выборку из генеральной совокупности, при которой средняя выручка для Москвы и регионов одинаковая, ниже 5%, то мы можем отвергнуть нулевую гипотезу и считать средние выручки регионов разными."
   ]
  },
  {
   "cell_type": "code",
   "execution_count": 307,
   "metadata": {},
   "outputs": [
    {
     "name": "stdout",
     "output_type": "stream",
     "text": [
      "p-значение: 0.5257376663729298\n"
     ]
    }
   ],
   "source": [
    "moscow_earnings = df_moscow['earnings']\n",
    "regions_earnings = df_regions['earnings']\n",
    "\n",
    "results = st.ttest_ind(moscow_earnings, regions_earnings, equal_var=False)\n",
    "\n",
    "print('p-значение:', results.pvalue)"
   ]
  },
  {
   "cell_type": "markdown",
   "metadata": {},
   "source": [
    "Вероятность взять данную выборку из генеральной совокупности при условии правильности нулевой гипотезы составляет 54.4%, что значительно выше уровня статистической значимости. Следовательно, нулевая гипотеза не может быть отвергнута. Делаем вывод, что средняя выручка пользователей в Москве и регионах не отличается."
   ]
  },
  {
   "cell_type": "markdown",
   "metadata": {},
   "source": [
    "### Вывод"
   ]
  },
  {
   "cell_type": "markdown",
   "metadata": {},
   "source": [
    "1. Гипотеза № 1 оказалась верной: средняя выручка тарифов различается.\n",
    "2. Гипотеза № 2 была отвергнута: средняя выручка пользователей из Москвы и из других регионов не различается."
   ]
  },
  {
   "cell_type": "markdown",
   "metadata": {},
   "source": [
    "## Общий вывод"
   ]
  },
  {
   "cell_type": "markdown",
   "metadata": {},
   "source": [
    "1. Был проведен анализ поведения пользователей тарифов \"Базовый\" и \"Продвинутый\" по предоставленной выборке. Были получены следующие результаты:\n",
    "    1. Среднее количество минут, сообщений и объёма интернет-трафика выше для тарифа \"Продвинутый\", чем для тарифа \"Базовый\", однако и разброс от среднего существенно выше. Больший разброс для тарифа \"Продвинутый\" может быть связан с тем фактом, что количество данных в выборке по тарифу \"Продвинутый\" в 2 с лишним раза меньше.\n",
    "    2. Для всех исследуемых показателей (минуты, сообщения, трафик) в тарифе \"Продвинутый\" существенно выше доля пользователей, использующих очень много минут/сообщений/трафика. Пользователи тарифа \"Базовый\" более умеренны.\n",
    "    3. Среди пользователей тарифа \"Продвинутый\" довольно высока доля пользователей, которые практически не используют звонки. Данная особенность не характерна для пользователей тарифа \"Базовый\".\n",
    "2. Две статистические гипотезы были проверены с помощью статистического теста, следующие выводы были получены:\n",
    "    1. Средняя выручка пользователей тарифов \"Базовый\" и \"Продвинутый\" различается.\n",
    "    2. Средняя выручка пользователей из Москвы не отличается от выручки пользователей из других регионов."
   ]
  }
 ],
 "metadata": {
  "ExecuteTimeLog": [
   {
    "duration": 131,
    "start_time": "2021-11-11T13:05:01.275Z"
   },
   {
    "duration": 124,
    "start_time": "2021-11-11T13:08:10.789Z"
   },
   {
    "duration": 1464,
    "start_time": "2021-11-11T13:16:12.779Z"
   },
   {
    "duration": 119,
    "start_time": "2021-11-11T13:16:32.959Z"
   },
   {
    "duration": 10,
    "start_time": "2021-11-11T13:17:12.269Z"
   },
   {
    "duration": 98,
    "start_time": "2021-11-11T13:35:15.208Z"
   },
   {
    "duration": 68,
    "start_time": "2021-11-11T13:35:23.546Z"
   },
   {
    "duration": 455,
    "start_time": "2021-11-11T13:39:48.934Z"
   },
   {
    "duration": 350,
    "start_time": "2021-11-11T13:39:53.831Z"
   },
   {
    "duration": 28,
    "start_time": "2021-11-11T13:41:22.128Z"
   },
   {
    "duration": 380,
    "start_time": "2021-11-11T13:47:28.628Z"
   },
   {
    "duration": 365,
    "start_time": "2021-11-11T13:47:36.500Z"
   },
   {
    "duration": 335,
    "start_time": "2021-11-11T13:47:44.675Z"
   },
   {
    "duration": 19,
    "start_time": "2021-11-11T13:48:32.660Z"
   },
   {
    "duration": 40,
    "start_time": "2021-11-11T13:48:58.692Z"
   },
   {
    "duration": 340,
    "start_time": "2021-11-11T13:49:52.764Z"
   },
   {
    "duration": 550,
    "start_time": "2021-11-11T13:50:00.629Z"
   },
   {
    "duration": 432,
    "start_time": "2021-11-11T13:50:05.731Z"
   },
   {
    "duration": 347,
    "start_time": "2021-11-11T13:50:12.820Z"
   },
   {
    "duration": 26,
    "start_time": "2021-11-11T13:50:51.676Z"
   },
   {
    "duration": 421,
    "start_time": "2021-11-11T13:55:19.701Z"
   },
   {
    "duration": 24,
    "start_time": "2021-11-11T13:55:52.356Z"
   },
   {
    "duration": 7,
    "start_time": "2021-11-11T13:56:27.757Z"
   },
   {
    "duration": 330,
    "start_time": "2021-11-11T13:56:32.011Z"
   },
   {
    "duration": 10,
    "start_time": "2021-11-11T13:57:18.461Z"
   },
   {
    "duration": 12,
    "start_time": "2021-11-11T13:57:27.421Z"
   },
   {
    "duration": 4,
    "start_time": "2021-11-11T14:09:44.472Z"
   },
   {
    "duration": 8,
    "start_time": "2021-11-11T14:09:47.888Z"
   },
   {
    "duration": 26,
    "start_time": "2021-11-11T14:09:51.648Z"
   },
   {
    "duration": 11,
    "start_time": "2021-11-11T14:10:02.888Z"
   },
   {
    "duration": 5,
    "start_time": "2021-11-11T14:10:39.328Z"
   },
   {
    "duration": 10,
    "start_time": "2021-11-11T14:10:43.391Z"
   },
   {
    "duration": 7,
    "start_time": "2021-11-11T14:10:50.079Z"
   },
   {
    "duration": 9,
    "start_time": "2021-11-11T14:10:50.671Z"
   },
   {
    "duration": 15,
    "start_time": "2021-11-11T14:10:59.353Z"
   },
   {
    "duration": 7,
    "start_time": "2021-11-11T14:11:17.240Z"
   },
   {
    "duration": 16,
    "start_time": "2021-11-11T14:11:19.833Z"
   },
   {
    "duration": 11,
    "start_time": "2021-11-11T14:11:22.440Z"
   },
   {
    "duration": 9,
    "start_time": "2021-11-11T14:12:07.544Z"
   },
   {
    "duration": 9,
    "start_time": "2021-11-11T14:12:57.160Z"
   },
   {
    "duration": 6,
    "start_time": "2021-11-11T14:14:40.640Z"
   },
   {
    "duration": 7,
    "start_time": "2021-11-11T14:14:41.584Z"
   },
   {
    "duration": 15,
    "start_time": "2021-11-11T14:14:43.231Z"
   },
   {
    "duration": 9,
    "start_time": "2021-11-11T14:14:44.049Z"
   },
   {
    "duration": 39,
    "start_time": "2021-11-11T14:16:59.833Z"
   },
   {
    "duration": 12,
    "start_time": "2021-11-11T14:18:08.793Z"
   },
   {
    "duration": 18,
    "start_time": "2021-11-11T14:18:23.200Z"
   },
   {
    "duration": 6,
    "start_time": "2021-11-11T14:20:31.812Z"
   },
   {
    "duration": 11,
    "start_time": "2021-11-11T14:20:33.616Z"
   },
   {
    "duration": 22,
    "start_time": "2021-11-11T14:20:50.690Z"
   },
   {
    "duration": 379,
    "start_time": "2021-11-11T14:25:22.857Z"
   },
   {
    "duration": 39,
    "start_time": "2021-11-11T14:25:31.082Z"
   },
   {
    "duration": 11,
    "start_time": "2021-11-11T14:25:39.059Z"
   },
   {
    "duration": 14,
    "start_time": "2021-11-11T14:25:44.963Z"
   },
   {
    "duration": 30,
    "start_time": "2021-11-11T14:29:53.481Z"
   },
   {
    "duration": 11,
    "start_time": "2021-11-11T14:30:05.298Z"
   },
   {
    "duration": 13,
    "start_time": "2021-11-11T14:30:08.006Z"
   },
   {
    "duration": 15,
    "start_time": "2021-11-11T14:30:11.231Z"
   },
   {
    "duration": 12,
    "start_time": "2021-11-11T14:30:15.208Z"
   },
   {
    "duration": 17,
    "start_time": "2021-11-11T14:30:20.629Z"
   },
   {
    "duration": 9,
    "start_time": "2021-11-11T14:38:49.175Z"
   },
   {
    "duration": 111,
    "start_time": "2021-11-11T14:38:57.781Z"
   },
   {
    "duration": 49,
    "start_time": "2021-11-11T14:39:05.557Z"
   },
   {
    "duration": 61,
    "start_time": "2021-11-11T14:39:11.621Z"
   },
   {
    "duration": 57,
    "start_time": "2021-11-11T14:41:07.742Z"
   },
   {
    "duration": 48,
    "start_time": "2021-11-11T14:41:14.828Z"
   },
   {
    "duration": 260,
    "start_time": "2021-11-11T14:42:22.774Z"
   },
   {
    "duration": 404,
    "start_time": "2021-11-11T14:42:45.117Z"
   },
   {
    "duration": 287,
    "start_time": "2021-11-11T14:42:50.007Z"
   },
   {
    "duration": 14371,
    "start_time": "2021-11-11T14:43:30.999Z"
   },
   {
    "duration": 543,
    "start_time": "2021-11-11T14:44:08.823Z"
   },
   {
    "duration": 388,
    "start_time": "2021-11-11T14:44:17.654Z"
   },
   {
    "duration": 1630,
    "start_time": "2021-11-11T14:44:25.448Z"
   },
   {
    "duration": 683,
    "start_time": "2021-11-11T14:44:39.256Z"
   },
   {
    "duration": 1763,
    "start_time": "2021-11-11T14:44:58.504Z"
   },
   {
    "duration": 1743,
    "start_time": "2021-11-11T14:45:36.775Z"
   },
   {
    "duration": 1697,
    "start_time": "2021-11-11T14:45:53.703Z"
   },
   {
    "duration": 1882,
    "start_time": "2021-11-11T14:45:58.407Z"
   },
   {
    "duration": 2143,
    "start_time": "2021-11-11T14:46:13.527Z"
   },
   {
    "duration": 4,
    "start_time": "2021-11-11T14:46:27.191Z"
   },
   {
    "duration": 1704,
    "start_time": "2021-11-11T14:47:17.159Z"
   },
   {
    "duration": 1734,
    "start_time": "2021-11-11T14:47:45.688Z"
   },
   {
    "duration": 2021,
    "start_time": "2021-11-11T14:47:50.983Z"
   },
   {
    "duration": 1710,
    "start_time": "2021-11-11T14:47:57.720Z"
   },
   {
    "duration": 1938,
    "start_time": "2021-11-11T14:48:08.025Z"
   },
   {
    "duration": 1756,
    "start_time": "2021-11-11T14:48:14.119Z"
   },
   {
    "duration": 1732,
    "start_time": "2021-11-11T14:48:18.631Z"
   },
   {
    "duration": 1787,
    "start_time": "2021-11-11T14:48:42.824Z"
   },
   {
    "duration": 287,
    "start_time": "2021-11-11T14:49:35.481Z"
   },
   {
    "duration": 294,
    "start_time": "2021-11-11T14:51:12.409Z"
   },
   {
    "duration": 310,
    "start_time": "2021-11-11T14:51:19.784Z"
   },
   {
    "duration": 466,
    "start_time": "2021-11-11T14:51:35.640Z"
   },
   {
    "duration": 336,
    "start_time": "2021-11-11T14:52:36.152Z"
   },
   {
    "duration": 298,
    "start_time": "2021-11-11T14:53:18.135Z"
   },
   {
    "duration": 299,
    "start_time": "2021-11-11T14:53:27.175Z"
   },
   {
    "duration": 305,
    "start_time": "2021-11-11T14:53:35.512Z"
   },
   {
    "duration": 380,
    "start_time": "2021-11-11T14:53:46.057Z"
   },
   {
    "duration": 315,
    "start_time": "2021-11-11T14:54:07.944Z"
   },
   {
    "duration": 303,
    "start_time": "2021-11-11T14:54:31.256Z"
   },
   {
    "duration": 51,
    "start_time": "2021-11-11T14:54:42.799Z"
   },
   {
    "duration": 1865,
    "start_time": "2021-11-11T14:55:15.129Z"
   },
   {
    "duration": 1930,
    "start_time": "2021-11-11T14:55:23.050Z"
   },
   {
    "duration": 2540,
    "start_time": "2021-11-11T14:55:39.304Z"
   },
   {
    "duration": 417,
    "start_time": "2021-11-11T14:56:34.170Z"
   },
   {
    "duration": 669,
    "start_time": "2021-11-11T14:57:47.082Z"
   },
   {
    "duration": 385,
    "start_time": "2021-11-11T15:05:00.875Z"
   },
   {
    "duration": 55,
    "start_time": "2021-11-11T15:05:07.777Z"
   },
   {
    "duration": 349,
    "start_time": "2021-11-11T15:05:15.803Z"
   },
   {
    "duration": 426,
    "start_time": "2021-11-11T15:07:01.789Z"
   },
   {
    "duration": 392,
    "start_time": "2021-11-11T15:07:05.675Z"
   },
   {
    "duration": 385,
    "start_time": "2021-11-11T15:07:16.411Z"
   },
   {
    "duration": 401,
    "start_time": "2021-11-11T15:14:11.277Z"
   },
   {
    "duration": 405,
    "start_time": "2021-11-11T15:15:39.036Z"
   },
   {
    "duration": 557,
    "start_time": "2021-11-11T15:17:07.533Z"
   },
   {
    "duration": 7768,
    "start_time": "2021-11-11T15:18:32.268Z"
   },
   {
    "duration": 10221,
    "start_time": "2021-11-11T15:18:43.167Z"
   },
   {
    "duration": 340,
    "start_time": "2021-11-11T15:18:58.701Z"
   },
   {
    "duration": 333,
    "start_time": "2021-11-11T15:19:25.629Z"
   },
   {
    "duration": 312,
    "start_time": "2021-11-11T15:22:49.630Z"
   },
   {
    "duration": 314,
    "start_time": "2021-11-11T15:23:20.271Z"
   },
   {
    "duration": 162,
    "start_time": "2021-11-11T15:24:26.414Z"
   },
   {
    "duration": 14,
    "start_time": "2021-11-11T15:27:11.550Z"
   },
   {
    "duration": 16,
    "start_time": "2021-11-11T15:27:26.932Z"
   },
   {
    "duration": 36,
    "start_time": "2021-11-11T15:29:28.654Z"
   },
   {
    "duration": 197,
    "start_time": "2021-11-11T15:29:36.949Z"
   },
   {
    "duration": 403,
    "start_time": "2021-11-11T15:31:00.831Z"
   },
   {
    "duration": 810,
    "start_time": "2021-11-11T15:31:22.671Z"
   },
   {
    "duration": 392,
    "start_time": "2021-11-11T15:31:28.317Z"
   },
   {
    "duration": 300,
    "start_time": "2021-11-11T15:35:22.944Z"
   },
   {
    "duration": 32,
    "start_time": "2021-11-11T15:41:18.081Z"
   },
   {
    "duration": 370,
    "start_time": "2021-11-11T15:42:25.392Z"
   },
   {
    "duration": 378,
    "start_time": "2021-11-11T15:42:32.290Z"
   },
   {
    "duration": 33,
    "start_time": "2021-11-11T15:42:38.000Z"
   },
   {
    "duration": 33,
    "start_time": "2021-11-11T15:43:01.528Z"
   },
   {
    "duration": 32,
    "start_time": "2021-11-11T15:43:16.786Z"
   },
   {
    "duration": 34,
    "start_time": "2021-11-11T15:45:09.906Z"
   },
   {
    "duration": 14,
    "start_time": "2021-11-11T15:45:13.889Z"
   },
   {
    "duration": 11,
    "start_time": "2021-11-11T15:45:23.234Z"
   },
   {
    "duration": 11,
    "start_time": "2021-11-11T15:45:26.545Z"
   },
   {
    "duration": 355,
    "start_time": "2021-11-11T15:47:08.034Z"
   },
   {
    "duration": 21,
    "start_time": "2021-11-11T15:47:30.035Z"
   },
   {
    "duration": 18,
    "start_time": "2021-11-11T15:47:32.713Z"
   },
   {
    "duration": 18,
    "start_time": "2021-11-11T15:49:03.666Z"
   },
   {
    "duration": 11,
    "start_time": "2021-11-11T15:49:04.144Z"
   },
   {
    "duration": 389,
    "start_time": "2021-11-11T15:49:19.443Z"
   },
   {
    "duration": 14,
    "start_time": "2021-11-11T15:49:40.786Z"
   },
   {
    "duration": 13,
    "start_time": "2021-11-11T15:49:42.930Z"
   },
   {
    "duration": 16,
    "start_time": "2021-11-11T15:50:47.314Z"
   },
   {
    "duration": 15,
    "start_time": "2021-11-11T15:50:48.088Z"
   },
   {
    "duration": 10,
    "start_time": "2021-11-11T15:50:59.219Z"
   },
   {
    "duration": 23,
    "start_time": "2021-11-11T15:52:35.651Z"
   },
   {
    "duration": 23,
    "start_time": "2021-11-11T15:52:38.482Z"
   },
   {
    "duration": 1560,
    "start_time": "2021-11-11T15:55:01.050Z"
   },
   {
    "duration": 17,
    "start_time": "2021-11-11T15:55:19.699Z"
   },
   {
    "duration": 13,
    "start_time": "2021-11-11T15:55:22.675Z"
   },
   {
    "duration": 11,
    "start_time": "2021-11-11T15:55:27.522Z"
   },
   {
    "duration": 23,
    "start_time": "2021-11-11T16:01:11.628Z"
   },
   {
    "duration": 19,
    "start_time": "2021-11-11T16:01:18.063Z"
   },
   {
    "duration": 24,
    "start_time": "2021-11-11T16:02:03.765Z"
   },
   {
    "duration": 24,
    "start_time": "2021-11-11T16:02:24.724Z"
   },
   {
    "duration": 23,
    "start_time": "2021-11-11T16:03:53.109Z"
   },
   {
    "duration": 394,
    "start_time": "2021-11-11T16:05:05.149Z"
   },
   {
    "duration": 31,
    "start_time": "2021-11-11T16:05:23.340Z"
   },
   {
    "duration": 30,
    "start_time": "2021-11-11T16:05:33.188Z"
   },
   {
    "duration": 33,
    "start_time": "2021-11-11T16:05:38.133Z"
   },
   {
    "duration": 382,
    "start_time": "2021-11-11T16:07:17.109Z"
   },
   {
    "duration": 14,
    "start_time": "2021-11-11T16:07:20.566Z"
   },
   {
    "duration": 16,
    "start_time": "2021-11-11T16:07:30.822Z"
   },
   {
    "duration": 39,
    "start_time": "2021-11-11T16:08:06.006Z"
   },
   {
    "duration": 37,
    "start_time": "2021-11-11T16:08:08.372Z"
   },
   {
    "duration": 27,
    "start_time": "2021-11-11T16:09:34.534Z"
   },
   {
    "duration": 37,
    "start_time": "2021-11-11T16:11:29.207Z"
   },
   {
    "duration": 10,
    "start_time": "2021-11-11T16:12:06.871Z"
   },
   {
    "duration": 10,
    "start_time": "2021-11-11T16:13:48.582Z"
   },
   {
    "duration": 7,
    "start_time": "2021-11-11T16:16:02.167Z"
   },
   {
    "duration": 9,
    "start_time": "2021-11-11T16:16:07.031Z"
   },
   {
    "duration": 370,
    "start_time": "2021-11-11T16:17:07.015Z"
   },
   {
    "duration": 357,
    "start_time": "2021-11-11T16:17:09.655Z"
   },
   {
    "duration": 332,
    "start_time": "2021-11-11T16:17:24.349Z"
   },
   {
    "duration": 11,
    "start_time": "2021-11-11T16:17:32.604Z"
   },
   {
    "duration": 5,
    "start_time": "2021-11-11T16:21:05.240Z"
   },
   {
    "duration": 15581,
    "start_time": "2021-11-11T16:25:01.864Z"
   },
   {
    "duration": 8,
    "start_time": "2021-11-11T16:25:31.080Z"
   },
   {
    "duration": 9,
    "start_time": "2021-11-11T16:34:53.321Z"
   },
   {
    "duration": 225,
    "start_time": "2021-11-11T16:35:20.090Z"
   },
   {
    "duration": 39,
    "start_time": "2021-11-11T16:35:23.272Z"
   },
   {
    "duration": 25,
    "start_time": "2021-11-11T16:36:18.369Z"
   },
   {
    "duration": 27,
    "start_time": "2021-11-11T16:39:16.368Z"
   },
   {
    "duration": 17,
    "start_time": "2021-11-11T17:01:18.637Z"
   },
   {
    "duration": 12,
    "start_time": "2021-11-11T17:01:19.900Z"
   },
   {
    "duration": -57,
    "start_time": "2021-11-11T17:01:30.207Z"
   },
   {
    "duration": 11,
    "start_time": "2021-11-11T17:01:38.396Z"
   },
   {
    "duration": 12,
    "start_time": "2021-11-11T17:01:53.749Z"
   },
   {
    "duration": 16,
    "start_time": "2021-11-11T17:01:54.373Z"
   },
   {
    "duration": 5,
    "start_time": "2021-11-11T17:02:23.790Z"
   },
   {
    "duration": 10,
    "start_time": "2021-11-11T17:02:24.445Z"
   },
   {
    "duration": 33,
    "start_time": "2021-11-11T17:02:30.060Z"
   },
   {
    "duration": 41,
    "start_time": "2021-11-11T17:02:30.574Z"
   },
   {
    "duration": 11,
    "start_time": "2021-11-11T17:02:35.629Z"
   },
   {
    "duration": 8962,
    "start_time": "2021-11-11T17:02:38.012Z"
   },
   {
    "duration": -56,
    "start_time": "2021-11-11T17:02:47.034Z"
   },
   {
    "duration": 9,
    "start_time": "2021-11-11T17:02:48.909Z"
   },
   {
    "duration": 11,
    "start_time": "2021-11-11T17:02:49.916Z"
   },
   {
    "duration": 12,
    "start_time": "2021-11-11T17:02:53.053Z"
   },
   {
    "duration": 5,
    "start_time": "2021-11-11T17:03:12.782Z"
   },
   {
    "duration": 5,
    "start_time": "2021-11-11T17:03:19.293Z"
   },
   {
    "duration": 11248,
    "start_time": "2021-11-11T17:03:24.733Z"
   },
   {
    "duration": 9,
    "start_time": "2021-11-11T17:04:06.301Z"
   },
   {
    "duration": 229,
    "start_time": "2021-11-11T17:04:07.271Z"
   },
   {
    "duration": 32,
    "start_time": "2021-11-11T17:04:08.164Z"
   },
   {
    "duration": 8,
    "start_time": "2021-11-11T17:05:00.174Z"
   },
   {
    "duration": 214,
    "start_time": "2021-11-11T17:05:01.165Z"
   },
   {
    "duration": 26,
    "start_time": "2021-11-11T17:05:01.887Z"
   },
   {
    "duration": 813,
    "start_time": "2021-11-11T17:09:16.064Z"
   },
   {
    "duration": 373,
    "start_time": "2021-11-11T17:09:48.239Z"
   },
   {
    "duration": 330,
    "start_time": "2021-11-11T17:09:56.754Z"
   },
   {
    "duration": 293,
    "start_time": "2021-11-11T17:10:08.206Z"
   },
   {
    "duration": 340,
    "start_time": "2021-11-11T17:10:36.434Z"
   },
   {
    "duration": 407,
    "start_time": "2021-11-11T17:10:59.743Z"
   },
   {
    "duration": 458,
    "start_time": "2021-11-11T17:11:13.088Z"
   },
   {
    "duration": 471,
    "start_time": "2021-11-11T17:12:44.848Z"
   },
   {
    "duration": 450,
    "start_time": "2021-11-11T17:12:49.327Z"
   },
   {
    "duration": 487,
    "start_time": "2021-11-11T17:13:54.241Z"
   },
   {
    "duration": 972,
    "start_time": "2021-11-11T17:14:51.599Z"
   },
   {
    "duration": 414,
    "start_time": "2021-11-11T17:15:08.576Z"
   },
   {
    "duration": 802,
    "start_time": "2021-11-11T17:15:32.512Z"
   },
   {
    "duration": 461,
    "start_time": "2021-11-11T17:16:10.241Z"
   },
   {
    "duration": 494,
    "start_time": "2021-11-11T17:16:59.491Z"
   },
   {
    "duration": 462,
    "start_time": "2021-11-11T17:17:45.652Z"
   },
   {
    "duration": 518,
    "start_time": "2021-11-11T17:18:06.784Z"
   },
   {
    "duration": 465,
    "start_time": "2021-11-11T17:18:20.305Z"
   },
   {
    "duration": 514,
    "start_time": "2021-11-11T17:19:15.473Z"
   },
   {
    "duration": 27,
    "start_time": "2021-11-11T17:20:08.370Z"
   },
   {
    "duration": 31,
    "start_time": "2021-11-11T17:20:12.440Z"
   },
   {
    "duration": 33,
    "start_time": "2021-11-11T17:20:45.778Z"
   },
   {
    "duration": 30,
    "start_time": "2021-11-11T17:21:04.610Z"
   },
   {
    "duration": 1543,
    "start_time": "2021-11-12T11:13:08.453Z"
   },
   {
    "duration": 122,
    "start_time": "2021-11-12T11:13:10.001Z"
   },
   {
    "duration": 10,
    "start_time": "2021-11-12T11:13:10.128Z"
   },
   {
    "duration": 103,
    "start_time": "2021-11-12T11:13:10.142Z"
   },
   {
    "duration": 486,
    "start_time": "2021-11-12T11:13:10.248Z"
   },
   {
    "duration": 28,
    "start_time": "2021-11-12T11:13:10.736Z"
   },
   {
    "duration": 323,
    "start_time": "2021-11-12T11:13:10.767Z"
   },
   {
    "duration": 20,
    "start_time": "2021-11-12T11:13:11.101Z"
   },
   {
    "duration": 1519,
    "start_time": "2021-11-12T11:13:11.124Z"
   },
   {
    "duration": 26,
    "start_time": "2021-11-12T11:13:12.645Z"
   },
   {
    "duration": 30,
    "start_time": "2021-11-12T11:13:12.674Z"
   },
   {
    "duration": 4,
    "start_time": "2021-11-12T11:13:12.708Z"
   },
   {
    "duration": 7,
    "start_time": "2021-11-12T11:13:12.715Z"
   },
   {
    "duration": 9,
    "start_time": "2021-11-12T11:13:12.725Z"
   },
   {
    "duration": 18,
    "start_time": "2021-11-12T11:13:12.737Z"
   },
   {
    "duration": 47,
    "start_time": "2021-11-12T11:13:12.758Z"
   },
   {
    "duration": 47,
    "start_time": "2021-11-12T11:13:12.808Z"
   },
   {
    "duration": 6,
    "start_time": "2021-11-12T11:13:12.857Z"
   },
   {
    "duration": 36,
    "start_time": "2021-11-12T11:13:12.866Z"
   },
   {
    "duration": 25,
    "start_time": "2021-11-12T11:13:12.905Z"
   },
   {
    "duration": 26,
    "start_time": "2021-11-12T11:13:12.933Z"
   },
   {
    "duration": 39,
    "start_time": "2021-11-12T11:13:12.962Z"
   },
   {
    "duration": 16,
    "start_time": "2021-11-12T11:13:13.007Z"
   },
   {
    "duration": 32,
    "start_time": "2021-11-12T11:13:13.027Z"
   },
   {
    "duration": 13,
    "start_time": "2021-11-12T11:13:13.061Z"
   },
   {
    "duration": 18,
    "start_time": "2021-11-12T11:13:13.100Z"
   },
   {
    "duration": 10,
    "start_time": "2021-11-12T11:13:13.121Z"
   },
   {
    "duration": 151,
    "start_time": "2021-11-12T11:13:13.133Z"
   },
   {
    "duration": 57,
    "start_time": "2021-11-12T11:13:13.287Z"
   },
   {
    "duration": 81,
    "start_time": "2021-11-12T11:13:13.346Z"
   },
   {
    "duration": 71,
    "start_time": "2021-11-12T11:13:13.429Z"
   },
   {
    "duration": 444,
    "start_time": "2021-11-12T11:13:13.502Z"
   },
   {
    "duration": 319,
    "start_time": "2021-11-12T11:13:13.948Z"
   },
   {
    "duration": 1842,
    "start_time": "2021-11-12T11:13:14.270Z"
   },
   {
    "duration": 423,
    "start_time": "2021-11-12T11:13:16.116Z"
   },
   {
    "duration": 430,
    "start_time": "2021-11-12T11:13:16.542Z"
   },
   {
    "duration": 438,
    "start_time": "2021-11-12T11:13:16.976Z"
   },
   {
    "duration": 180,
    "start_time": "2021-11-12T11:13:17.417Z"
   },
   {
    "duration": 356,
    "start_time": "2021-11-12T11:13:17.600Z"
   },
   {
    "duration": 21,
    "start_time": "2021-11-12T11:13:17.959Z"
   },
   {
    "duration": 249,
    "start_time": "2021-11-12T11:13:17.983Z"
   },
   {
    "duration": 435,
    "start_time": "2021-11-12T11:13:18.235Z"
   },
   {
    "duration": 335,
    "start_time": "2021-11-12T11:13:18.672Z"
   },
   {
    "duration": 32,
    "start_time": "2021-11-12T11:13:19.009Z"
   },
   {
    "duration": 29,
    "start_time": "2021-11-12T11:13:19.044Z"
   },
   {
    "duration": 32,
    "start_time": "2021-11-12T11:13:19.076Z"
   },
   {
    "duration": 29,
    "start_time": "2021-11-12T11:13:19.111Z"
   },
   {
    "duration": 17,
    "start_time": "2021-11-12T11:13:19.142Z"
   },
   {
    "duration": 39,
    "start_time": "2021-11-12T11:13:19.161Z"
   },
   {
    "duration": 31,
    "start_time": "2021-11-12T11:13:19.203Z"
   },
   {
    "duration": 22,
    "start_time": "2021-11-12T11:13:19.236Z"
   },
   {
    "duration": 11,
    "start_time": "2021-11-12T11:13:19.261Z"
   },
   {
    "duration": 28,
    "start_time": "2021-11-12T11:13:19.275Z"
   },
   {
    "duration": 11,
    "start_time": "2021-11-12T11:13:19.306Z"
   },
   {
    "duration": 30,
    "start_time": "2021-11-12T11:13:19.319Z"
   },
   {
    "duration": 65,
    "start_time": "2021-11-12T11:13:19.352Z"
   },
   {
    "duration": 9,
    "start_time": "2021-11-12T11:13:19.419Z"
   },
   {
    "duration": 12,
    "start_time": "2021-11-12T11:13:19.430Z"
   },
   {
    "duration": 8,
    "start_time": "2021-11-12T11:13:19.445Z"
   },
   {
    "duration": 10,
    "start_time": "2021-11-12T11:13:19.455Z"
   },
   {
    "duration": 35,
    "start_time": "2021-11-12T11:13:19.467Z"
   },
   {
    "duration": 9,
    "start_time": "2021-11-12T11:13:19.504Z"
   },
   {
    "duration": 247,
    "start_time": "2021-11-12T11:13:19.515Z"
   },
   {
    "duration": 27,
    "start_time": "2021-11-12T11:13:19.764Z"
   },
   {
    "duration": 559,
    "start_time": "2021-11-12T11:13:19.801Z"
   },
   {
    "duration": 518,
    "start_time": "2021-11-12T11:13:20.363Z"
   },
   {
    "duration": 570,
    "start_time": "2021-11-12T11:13:20.883Z"
   },
   {
    "duration": 52,
    "start_time": "2021-11-12T11:13:21.461Z"
   },
   {
    "duration": 36,
    "start_time": "2021-11-12T11:13:21.517Z"
   },
   {
    "duration": 821,
    "start_time": "2021-11-12T11:16:38.031Z"
   },
   {
    "duration": 12,
    "start_time": "2021-11-12T11:16:58.530Z"
   },
   {
    "duration": 543,
    "start_time": "2021-11-12T11:17:16.864Z"
   },
   {
    "duration": 469,
    "start_time": "2021-11-12T11:17:25.609Z"
   },
   {
    "duration": 722,
    "start_time": "2021-11-12T11:17:39.393Z"
   },
   {
    "duration": 379,
    "start_time": "2021-11-12T11:17:44.404Z"
   },
   {
    "duration": 376,
    "start_time": "2021-11-12T11:18:22.981Z"
   },
   {
    "duration": 5358,
    "start_time": "2021-11-12T11:19:00.103Z"
   },
   {
    "duration": 1525,
    "start_time": "2021-11-12T11:19:20.630Z"
   },
   {
    "duration": 86,
    "start_time": "2021-11-12T11:19:22.157Z"
   },
   {
    "duration": 10,
    "start_time": "2021-11-12T11:19:22.246Z"
   },
   {
    "duration": 73,
    "start_time": "2021-11-12T11:19:22.259Z"
   },
   {
    "duration": 460,
    "start_time": "2021-11-12T11:19:22.335Z"
   },
   {
    "duration": 28,
    "start_time": "2021-11-12T11:19:22.801Z"
   },
   {
    "duration": 449,
    "start_time": "2021-11-12T11:19:22.832Z"
   },
   {
    "duration": 24,
    "start_time": "2021-11-12T11:19:23.285Z"
   },
   {
    "duration": 408,
    "start_time": "2021-11-12T11:19:23.312Z"
   },
   {
    "duration": 26,
    "start_time": "2021-11-12T11:19:23.723Z"
   },
   {
    "duration": 11,
    "start_time": "2021-11-12T11:19:23.751Z"
   },
   {
    "duration": 4,
    "start_time": "2021-11-12T11:19:23.764Z"
   },
   {
    "duration": 7,
    "start_time": "2021-11-12T11:19:23.801Z"
   },
   {
    "duration": 9,
    "start_time": "2021-11-12T11:19:23.810Z"
   },
   {
    "duration": 23,
    "start_time": "2021-11-12T11:19:23.821Z"
   },
   {
    "duration": 9,
    "start_time": "2021-11-12T11:19:23.847Z"
   },
   {
    "duration": 76,
    "start_time": "2021-11-12T11:19:23.858Z"
   },
   {
    "duration": 5,
    "start_time": "2021-11-12T11:19:23.937Z"
   },
   {
    "duration": 12,
    "start_time": "2021-11-12T11:19:23.945Z"
   },
   {
    "duration": 47,
    "start_time": "2021-11-12T11:19:23.960Z"
   },
   {
    "duration": 27,
    "start_time": "2021-11-12T11:19:24.009Z"
   },
   {
    "duration": 10,
    "start_time": "2021-11-12T11:19:24.038Z"
   },
   {
    "duration": 16,
    "start_time": "2021-11-12T11:19:24.054Z"
   },
   {
    "duration": 31,
    "start_time": "2021-11-12T11:19:24.102Z"
   },
   {
    "duration": 12,
    "start_time": "2021-11-12T11:19:24.136Z"
   },
   {
    "duration": 19,
    "start_time": "2021-11-12T11:19:24.150Z"
   },
   {
    "duration": 36,
    "start_time": "2021-11-12T11:19:24.172Z"
   },
   {
    "duration": 139,
    "start_time": "2021-11-12T11:19:24.211Z"
   },
   {
    "duration": 61,
    "start_time": "2021-11-12T11:19:24.352Z"
   },
   {
    "duration": 59,
    "start_time": "2021-11-12T11:19:24.416Z"
   },
   {
    "duration": 75,
    "start_time": "2021-11-12T11:19:24.478Z"
   },
   {
    "duration": 475,
    "start_time": "2021-11-12T11:19:24.555Z"
   },
   {
    "duration": 329,
    "start_time": "2021-11-12T11:19:25.032Z"
   },
   {
    "duration": 1881,
    "start_time": "2021-11-12T11:19:25.364Z"
   },
   {
    "duration": 420,
    "start_time": "2021-11-12T11:19:27.247Z"
   },
   {
    "duration": 440,
    "start_time": "2021-11-12T11:19:27.669Z"
   },
   {
    "duration": 354,
    "start_time": "2021-11-12T11:19:28.111Z"
   },
   {
    "duration": 204,
    "start_time": "2021-11-12T11:19:28.467Z"
   },
   {
    "duration": 431,
    "start_time": "2021-11-12T11:19:28.673Z"
   },
   {
    "duration": 16,
    "start_time": "2021-11-12T11:19:29.106Z"
   },
   {
    "duration": 240,
    "start_time": "2021-11-12T11:19:29.124Z"
   },
   {
    "duration": 438,
    "start_time": "2021-11-12T11:19:29.366Z"
   },
   {
    "duration": 333,
    "start_time": "2021-11-12T11:19:29.806Z"
   },
   {
    "duration": 32,
    "start_time": "2021-11-12T11:19:30.142Z"
   },
   {
    "duration": 45,
    "start_time": "2021-11-12T11:19:30.176Z"
   },
   {
    "duration": 12,
    "start_time": "2021-11-12T11:19:30.223Z"
   },
   {
    "duration": 34,
    "start_time": "2021-11-12T11:19:30.237Z"
   },
   {
    "duration": 38,
    "start_time": "2021-11-12T11:19:30.274Z"
   },
   {
    "duration": 11,
    "start_time": "2021-11-12T11:19:30.314Z"
   },
   {
    "duration": 45,
    "start_time": "2021-11-12T11:19:30.327Z"
   },
   {
    "duration": 26,
    "start_time": "2021-11-12T11:19:30.374Z"
   },
   {
    "duration": 19,
    "start_time": "2021-11-12T11:19:30.402Z"
   },
   {
    "duration": 42,
    "start_time": "2021-11-12T11:19:30.423Z"
   },
   {
    "duration": 30,
    "start_time": "2021-11-12T11:19:30.468Z"
   },
   {
    "duration": 46,
    "start_time": "2021-11-12T11:19:30.501Z"
   },
   {
    "duration": 35,
    "start_time": "2021-11-12T11:19:30.549Z"
   },
   {
    "duration": 16,
    "start_time": "2021-11-12T11:19:30.586Z"
   },
   {
    "duration": 23,
    "start_time": "2021-11-12T11:19:30.604Z"
   },
   {
    "duration": 27,
    "start_time": "2021-11-12T11:19:30.629Z"
   },
   {
    "duration": 14,
    "start_time": "2021-11-12T11:19:30.658Z"
   },
   {
    "duration": 11,
    "start_time": "2021-11-12T11:19:30.674Z"
   },
   {
    "duration": 17,
    "start_time": "2021-11-12T11:19:30.688Z"
   },
   {
    "duration": 249,
    "start_time": "2021-11-12T11:19:30.707Z"
   },
   {
    "duration": 27,
    "start_time": "2021-11-12T11:19:30.958Z"
   },
   {
    "duration": 48,
    "start_time": "2021-11-12T11:19:30.987Z"
   },
   {
    "duration": 635,
    "start_time": "2021-11-12T11:19:31.037Z"
   },
   {
    "duration": 599,
    "start_time": "2021-11-12T11:19:31.674Z"
   },
   {
    "duration": 648,
    "start_time": "2021-11-12T11:19:32.280Z"
   },
   {
    "duration": 35,
    "start_time": "2021-11-12T11:19:32.930Z"
   },
   {
    "duration": 59,
    "start_time": "2021-11-12T11:19:32.967Z"
   },
   {
    "duration": 722,
    "start_time": "2021-11-12T11:20:45.590Z"
   },
   {
    "duration": 611,
    "start_time": "2021-11-12T11:21:04.174Z"
   },
   {
    "duration": 703,
    "start_time": "2021-11-12T11:21:12.374Z"
   },
   {
    "duration": 609,
    "start_time": "2021-11-12T11:21:20.159Z"
   },
   {
    "duration": 12,
    "start_time": "2021-11-12T11:22:48.796Z"
   },
   {
    "duration": 11,
    "start_time": "2021-11-12T11:22:52.330Z"
   },
   {
    "duration": 15,
    "start_time": "2021-11-12T11:23:13.278Z"
   },
   {
    "duration": 18,
    "start_time": "2021-11-12T11:23:20.803Z"
   },
   {
    "duration": 21,
    "start_time": "2021-11-12T11:23:28.365Z"
   },
   {
    "duration": 23,
    "start_time": "2021-11-12T11:23:34.150Z"
   },
   {
    "duration": 16,
    "start_time": "2021-11-12T11:23:49.939Z"
   },
   {
    "duration": 15,
    "start_time": "2021-11-12T11:23:52.875Z"
   },
   {
    "duration": 657,
    "start_time": "2021-11-12T11:24:54.053Z"
   },
   {
    "duration": 780,
    "start_time": "2021-11-12T11:25:00.120Z"
   },
   {
    "duration": 15,
    "start_time": "2021-11-12T11:26:03.193Z"
   },
   {
    "duration": 17,
    "start_time": "2021-11-12T11:26:42.921Z"
   },
   {
    "duration": 17,
    "start_time": "2021-11-12T11:27:54.966Z"
   },
   {
    "duration": 850,
    "start_time": "2021-11-12T11:28:22.709Z"
   },
   {
    "duration": 757,
    "start_time": "2021-11-12T11:29:18.364Z"
   },
   {
    "duration": 128,
    "start_time": "2021-11-12T11:29:25.833Z"
   },
   {
    "duration": 878,
    "start_time": "2021-11-12T11:29:31.873Z"
   },
   {
    "duration": 38,
    "start_time": "2021-11-12T11:51:38.545Z"
   },
   {
    "duration": 304,
    "start_time": "2021-11-12T11:53:37.176Z"
   },
   {
    "duration": 391,
    "start_time": "2021-11-12T11:53:48.626Z"
   },
   {
    "duration": 399,
    "start_time": "2021-11-12T11:54:00.690Z"
   },
   {
    "duration": 16,
    "start_time": "2021-11-12T11:59:04.779Z"
   },
   {
    "duration": 16,
    "start_time": "2021-11-12T12:00:04.590Z"
   },
   {
    "duration": 122,
    "start_time": "2021-11-12T12:01:37.307Z"
   },
   {
    "duration": 746,
    "start_time": "2021-11-12T12:02:45.705Z"
   },
   {
    "duration": 879,
    "start_time": "2021-11-12T12:03:08.967Z"
   },
   {
    "duration": 831,
    "start_time": "2021-11-12T12:03:21.657Z"
   },
   {
    "duration": 135,
    "start_time": "2021-11-12T12:10:50.023Z"
   },
   {
    "duration": 16,
    "start_time": "2021-11-12T12:11:15.892Z"
   },
   {
    "duration": 15,
    "start_time": "2021-11-12T12:11:36.305Z"
   },
   {
    "duration": 5,
    "start_time": "2021-11-12T12:12:13.031Z"
   },
   {
    "duration": 8,
    "start_time": "2021-11-12T12:12:18.481Z"
   },
   {
    "duration": 8,
    "start_time": "2021-11-12T12:15:51.486Z"
   },
   {
    "duration": 13,
    "start_time": "2021-11-12T12:16:18.213Z"
   },
   {
    "duration": 977,
    "start_time": "2021-11-12T12:17:56.128Z"
   },
   {
    "duration": 717,
    "start_time": "2021-11-12T12:18:09.190Z"
   },
   {
    "duration": 692,
    "start_time": "2021-11-12T12:18:23.970Z"
   },
   {
    "duration": 640,
    "start_time": "2021-11-12T12:18:42.115Z"
   },
   {
    "duration": 743,
    "start_time": "2021-11-12T12:18:45.780Z"
   },
   {
    "duration": 648,
    "start_time": "2021-11-12T12:18:49.198Z"
   },
   {
    "duration": 664,
    "start_time": "2021-11-12T12:18:54.384Z"
   },
   {
    "duration": 652,
    "start_time": "2021-11-12T12:18:57.712Z"
   },
   {
    "duration": 757,
    "start_time": "2021-11-12T12:19:01.766Z"
   },
   {
    "duration": 994,
    "start_time": "2021-11-12T12:19:17.580Z"
   },
   {
    "duration": 1138,
    "start_time": "2021-11-12T12:19:23.565Z"
   },
   {
    "duration": 1179,
    "start_time": "2021-11-12T12:19:36.380Z"
   },
   {
    "duration": 969,
    "start_time": "2021-11-12T12:20:01.810Z"
   },
   {
    "duration": 962,
    "start_time": "2021-11-12T12:20:11.587Z"
   },
   {
    "duration": 832,
    "start_time": "2021-11-12T12:20:24.054Z"
   },
   {
    "duration": 821,
    "start_time": "2021-11-12T12:20:27.855Z"
   },
   {
    "duration": 414,
    "start_time": "2021-11-12T12:25:04.737Z"
   },
   {
    "duration": 320,
    "start_time": "2021-11-12T12:25:23.923Z"
   },
   {
    "duration": 796,
    "start_time": "2021-11-12T12:25:55.783Z"
   },
   {
    "duration": 743,
    "start_time": "2021-11-12T12:26:12.499Z"
   },
   {
    "duration": 805,
    "start_time": "2021-11-12T12:26:28.956Z"
   },
   {
    "duration": 623,
    "start_time": "2021-11-12T12:26:44.270Z"
   },
   {
    "duration": 858,
    "start_time": "2021-11-12T12:33:41.976Z"
   },
   {
    "duration": 396,
    "start_time": "2021-11-12T12:34:08.173Z"
   },
   {
    "duration": 401,
    "start_time": "2021-11-12T12:34:15.882Z"
   },
   {
    "duration": 889,
    "start_time": "2021-11-12T12:34:25.811Z"
   },
   {
    "duration": 827,
    "start_time": "2021-11-12T12:34:48.627Z"
   },
   {
    "duration": 525,
    "start_time": "2021-11-12T12:34:55.222Z"
   },
   {
    "duration": 612,
    "start_time": "2021-11-12T12:36:56.180Z"
   },
   {
    "duration": 11,
    "start_time": "2021-11-12T12:37:36.327Z"
   },
   {
    "duration": 135,
    "start_time": "2021-11-12T12:37:57.603Z"
   },
   {
    "duration": 15,
    "start_time": "2021-11-12T12:38:02.958Z"
   },
   {
    "duration": 16,
    "start_time": "2021-11-12T12:38:55.132Z"
   },
   {
    "duration": 16,
    "start_time": "2021-11-12T12:38:59.901Z"
   },
   {
    "duration": 8,
    "start_time": "2021-11-12T12:49:20.403Z"
   },
   {
    "duration": 8,
    "start_time": "2021-11-12T12:49:28.779Z"
   },
   {
    "duration": 239,
    "start_time": "2021-11-12T12:49:33.019Z"
   },
   {
    "duration": 8,
    "start_time": "2021-11-12T12:49:35.797Z"
   },
   {
    "duration": 8,
    "start_time": "2021-11-12T12:49:55.245Z"
   },
   {
    "duration": 121,
    "start_time": "2021-11-12T12:50:40.999Z"
   },
   {
    "duration": 6,
    "start_time": "2021-11-12T12:50:45.103Z"
   },
   {
    "duration": 9,
    "start_time": "2021-11-12T12:55:59.215Z"
   },
   {
    "duration": 38,
    "start_time": "2021-11-12T12:56:01.519Z"
   },
   {
    "duration": 8,
    "start_time": "2021-11-12T12:56:24.342Z"
   },
   {
    "duration": 37,
    "start_time": "2021-11-12T12:56:27.141Z"
   },
   {
    "duration": 37,
    "start_time": "2021-11-12T12:56:48.244Z"
   },
   {
    "duration": 518,
    "start_time": "2021-11-12T12:57:24.958Z"
   },
   {
    "duration": 615,
    "start_time": "2021-11-12T12:57:54.945Z"
   },
   {
    "duration": 14,
    "start_time": "2021-11-12T12:58:25.073Z"
   },
   {
    "duration": 14,
    "start_time": "2021-11-12T12:58:37.037Z"
   },
   {
    "duration": 7,
    "start_time": "2021-11-12T13:02:57.619Z"
   },
   {
    "duration": 6,
    "start_time": "2021-11-12T13:03:34.767Z"
   },
   {
    "duration": 4,
    "start_time": "2021-11-12T13:22:15.079Z"
   },
   {
    "duration": 129,
    "start_time": "2021-11-12T13:22:15.087Z"
   },
   {
    "duration": 8,
    "start_time": "2021-11-12T13:22:15.219Z"
   },
   {
    "duration": 107,
    "start_time": "2021-11-12T13:22:15.230Z"
   },
   {
    "duration": 463,
    "start_time": "2021-11-12T13:22:15.339Z"
   },
   {
    "duration": 28,
    "start_time": "2021-11-12T13:22:15.804Z"
   },
   {
    "duration": 2124,
    "start_time": "2021-11-12T13:22:15.836Z"
   },
   {
    "duration": 22,
    "start_time": "2021-11-12T13:22:17.963Z"
   },
   {
    "duration": 355,
    "start_time": "2021-11-12T13:22:17.990Z"
   },
   {
    "duration": 23,
    "start_time": "2021-11-12T13:22:18.347Z"
   },
   {
    "duration": 30,
    "start_time": "2021-11-12T13:22:18.373Z"
   },
   {
    "duration": 4,
    "start_time": "2021-11-12T13:22:18.405Z"
   },
   {
    "duration": 10,
    "start_time": "2021-11-12T13:22:18.411Z"
   },
   {
    "duration": 9,
    "start_time": "2021-11-12T13:22:18.424Z"
   },
   {
    "duration": 19,
    "start_time": "2021-11-12T13:22:18.436Z"
   },
   {
    "duration": 44,
    "start_time": "2021-11-12T13:22:18.457Z"
   },
   {
    "duration": 43,
    "start_time": "2021-11-12T13:22:18.503Z"
   },
   {
    "duration": 6,
    "start_time": "2021-11-12T13:22:18.548Z"
   },
   {
    "duration": 13,
    "start_time": "2021-11-12T13:22:18.560Z"
   },
   {
    "duration": 22,
    "start_time": "2021-11-12T13:22:18.603Z"
   },
   {
    "duration": 28,
    "start_time": "2021-11-12T13:22:18.627Z"
   },
   {
    "duration": 11,
    "start_time": "2021-11-12T13:22:18.657Z"
   },
   {
    "duration": 15,
    "start_time": "2021-11-12T13:22:18.702Z"
   },
   {
    "duration": 31,
    "start_time": "2021-11-12T13:22:18.720Z"
   },
   {
    "duration": 12,
    "start_time": "2021-11-12T13:22:18.754Z"
   },
   {
    "duration": 18,
    "start_time": "2021-11-12T13:22:18.801Z"
   },
   {
    "duration": 10,
    "start_time": "2021-11-12T13:22:18.821Z"
   },
   {
    "duration": 155,
    "start_time": "2021-11-12T13:22:18.833Z"
   },
   {
    "duration": 55,
    "start_time": "2021-11-12T13:22:18.991Z"
   },
   {
    "duration": 75,
    "start_time": "2021-11-12T13:22:19.049Z"
   },
   {
    "duration": 80,
    "start_time": "2021-11-12T13:22:19.126Z"
   },
   {
    "duration": 459,
    "start_time": "2021-11-12T13:22:19.209Z"
   },
   {
    "duration": 325,
    "start_time": "2021-11-12T13:22:19.671Z"
   },
   {
    "duration": 1899,
    "start_time": "2021-11-12T13:22:20.001Z"
   },
   {
    "duration": 426,
    "start_time": "2021-11-12T13:22:21.903Z"
   },
   {
    "duration": 441,
    "start_time": "2021-11-12T13:22:22.331Z"
   },
   {
    "duration": 467,
    "start_time": "2021-11-12T13:22:22.774Z"
   },
   {
    "duration": 200,
    "start_time": "2021-11-12T13:22:23.244Z"
   },
   {
    "duration": 361,
    "start_time": "2021-11-12T13:22:23.447Z"
   },
   {
    "duration": 16,
    "start_time": "2021-11-12T13:22:23.811Z"
   },
   {
    "duration": 234,
    "start_time": "2021-11-12T13:22:23.829Z"
   },
   {
    "duration": 449,
    "start_time": "2021-11-12T13:22:24.066Z"
   },
   {
    "duration": 455,
    "start_time": "2021-11-12T13:22:24.517Z"
   },
   {
    "duration": 43,
    "start_time": "2021-11-12T13:22:24.975Z"
   },
   {
    "duration": 30,
    "start_time": "2021-11-12T13:22:25.021Z"
   },
   {
    "duration": 11,
    "start_time": "2021-11-12T13:22:25.053Z"
   },
   {
    "duration": 48,
    "start_time": "2021-11-12T13:22:25.066Z"
   },
   {
    "duration": 18,
    "start_time": "2021-11-12T13:22:25.116Z"
   },
   {
    "duration": 10,
    "start_time": "2021-11-12T13:22:25.136Z"
   },
   {
    "duration": 54,
    "start_time": "2021-11-12T13:22:25.149Z"
   },
   {
    "duration": 22,
    "start_time": "2021-11-12T13:22:25.205Z"
   },
   {
    "duration": 5,
    "start_time": "2021-11-12T13:22:25.230Z"
   },
   {
    "duration": 12,
    "start_time": "2021-11-12T13:22:25.238Z"
   },
   {
    "duration": 21,
    "start_time": "2021-11-12T13:22:25.253Z"
   },
   {
    "duration": 29,
    "start_time": "2021-11-12T13:22:25.302Z"
   },
   {
    "duration": 38,
    "start_time": "2021-11-12T13:22:25.335Z"
   },
   {
    "duration": 33,
    "start_time": "2021-11-12T13:22:25.375Z"
   },
   {
    "duration": 13,
    "start_time": "2021-11-12T13:22:25.410Z"
   },
   {
    "duration": 22,
    "start_time": "2021-11-12T13:22:25.425Z"
   },
   {
    "duration": 13,
    "start_time": "2021-11-12T13:22:25.449Z"
   },
   {
    "duration": 13,
    "start_time": "2021-11-12T13:22:25.465Z"
   },
   {
    "duration": 25,
    "start_time": "2021-11-12T13:22:25.481Z"
   },
   {
    "duration": 246,
    "start_time": "2021-11-12T13:22:25.509Z"
   },
   {
    "duration": 27,
    "start_time": "2021-11-12T13:22:25.758Z"
   },
   {
    "duration": 24,
    "start_time": "2021-11-12T13:22:25.787Z"
   },
   {
    "duration": 22,
    "start_time": "2021-11-12T13:22:25.814Z"
   },
   {
    "duration": 16,
    "start_time": "2021-11-12T13:22:25.838Z"
   },
   {
    "duration": 951,
    "start_time": "2021-11-12T13:22:25.856Z"
   },
   {
    "duration": 18,
    "start_time": "2021-11-12T13:22:26.810Z"
   },
   {
    "duration": 16,
    "start_time": "2021-11-12T13:22:26.831Z"
   },
   {
    "duration": 881,
    "start_time": "2021-11-12T13:22:26.850Z"
   },
   {
    "duration": 15,
    "start_time": "2021-11-12T13:22:27.734Z"
   },
   {
    "duration": 14,
    "start_time": "2021-11-12T13:22:27.752Z"
   },
   {
    "duration": 41,
    "start_time": "2021-11-12T13:22:27.769Z"
   },
   {
    "duration": 867,
    "start_time": "2021-11-12T13:22:27.812Z"
   },
   {
    "duration": 532,
    "start_time": "2021-11-12T13:22:28.682Z"
   },
   {
    "duration": 13,
    "start_time": "2021-11-12T13:22:29.217Z"
   },
   {
    "duration": 14,
    "start_time": "2021-11-12T13:22:29.233Z"
   },
   {
    "duration": 6,
    "start_time": "2021-11-12T13:22:29.249Z"
   },
   {
    "duration": 55,
    "start_time": "2021-11-12T13:22:29.258Z"
   },
   {
    "duration": 8,
    "start_time": "2021-11-12T13:22:29.316Z"
   },
   {
    "duration": 550,
    "start_time": "2021-11-12T13:22:29.327Z"
   },
   {
    "duration": 26,
    "start_time": "2021-11-12T13:22:29.880Z"
   },
   {
    "duration": 13,
    "start_time": "2021-11-12T13:22:29.909Z"
   },
   {
    "duration": 10,
    "start_time": "2021-11-12T13:22:29.925Z"
   },
   {
    "duration": -132,
    "start_time": "2021-11-12T15:48:19.184Z"
   },
   {
    "duration": -183,
    "start_time": "2021-11-12T15:48:19.236Z"
   },
   {
    "duration": -200,
    "start_time": "2021-11-12T15:48:19.255Z"
   },
   {
    "duration": -210,
    "start_time": "2021-11-12T15:48:19.266Z"
   },
   {
    "duration": -218,
    "start_time": "2021-11-12T15:48:19.276Z"
   },
   {
    "duration": -228,
    "start_time": "2021-11-12T15:48:19.287Z"
   },
   {
    "duration": -236,
    "start_time": "2021-11-12T15:48:19.297Z"
   },
   {
    "duration": -246,
    "start_time": "2021-11-12T15:48:19.309Z"
   },
   {
    "duration": -256,
    "start_time": "2021-11-12T15:48:19.320Z"
   },
   {
    "duration": -265,
    "start_time": "2021-11-12T15:48:19.330Z"
   },
   {
    "duration": -292,
    "start_time": "2021-11-12T15:48:19.359Z"
   },
   {
    "duration": -304,
    "start_time": "2021-11-12T15:48:19.372Z"
   },
   {
    "duration": -254,
    "start_time": "2021-11-12T15:48:19.383Z"
   },
   {
    "duration": -265,
    "start_time": "2021-11-12T15:48:19.396Z"
   },
   {
    "duration": -278,
    "start_time": "2021-11-12T15:48:19.410Z"
   },
   {
    "duration": -458,
    "start_time": "2021-11-12T15:48:19.592Z"
   },
   {
    "duration": -464,
    "start_time": "2021-11-12T15:48:19.600Z"
   },
   {
    "duration": -470,
    "start_time": "2021-11-12T15:48:19.607Z"
   },
   {
    "duration": -477,
    "start_time": "2021-11-12T15:48:19.616Z"
   },
   {
    "duration": -483,
    "start_time": "2021-11-12T15:48:19.623Z"
   },
   {
    "duration": -488,
    "start_time": "2021-11-12T15:48:19.630Z"
   },
   {
    "duration": -493,
    "start_time": "2021-11-12T15:48:19.637Z"
   },
   {
    "duration": -499,
    "start_time": "2021-11-12T15:48:19.644Z"
   },
   {
    "duration": -503,
    "start_time": "2021-11-12T15:48:19.649Z"
   },
   {
    "duration": -509,
    "start_time": "2021-11-12T15:48:19.657Z"
   },
   {
    "duration": -514,
    "start_time": "2021-11-12T15:48:19.663Z"
   },
   {
    "duration": -520,
    "start_time": "2021-11-12T15:48:19.670Z"
   },
   {
    "duration": -525,
    "start_time": "2021-11-12T15:48:19.677Z"
   },
   {
    "duration": -530,
    "start_time": "2021-11-12T15:48:19.684Z"
   },
   {
    "duration": -549,
    "start_time": "2021-11-12T15:48:19.704Z"
   },
   {
    "duration": -555,
    "start_time": "2021-11-12T15:48:19.712Z"
   },
   {
    "duration": -561,
    "start_time": "2021-11-12T15:48:19.719Z"
   },
   {
    "duration": -567,
    "start_time": "2021-11-12T15:48:19.727Z"
   },
   {
    "duration": -1108,
    "start_time": "2021-11-12T15:48:20.269Z"
   },
   {
    "duration": -1162,
    "start_time": "2021-11-12T15:48:20.325Z"
   },
   {
    "duration": -1333,
    "start_time": "2021-11-12T15:48:20.497Z"
   },
   {
    "duration": -1403,
    "start_time": "2021-11-12T15:48:20.632Z"
   },
   {
    "duration": -1687,
    "start_time": "2021-11-12T15:48:20.918Z"
   },
   {
    "duration": -1693,
    "start_time": "2021-11-12T15:48:20.925Z"
   },
   {
    "duration": -1698,
    "start_time": "2021-11-12T15:48:20.931Z"
   },
   {
    "duration": -1704,
    "start_time": "2021-11-12T15:48:20.939Z"
   },
   {
    "duration": -1709,
    "start_time": "2021-11-12T15:48:20.945Z"
   },
   {
    "duration": -1715,
    "start_time": "2021-11-12T15:48:20.953Z"
   },
   {
    "duration": -1720,
    "start_time": "2021-11-12T15:48:20.959Z"
   },
   {
    "duration": -1726,
    "start_time": "2021-11-12T15:48:20.967Z"
   },
   {
    "duration": -1731,
    "start_time": "2021-11-12T15:48:20.973Z"
   },
   {
    "duration": -1738,
    "start_time": "2021-11-12T15:48:20.981Z"
   },
   {
    "duration": -1744,
    "start_time": "2021-11-12T15:48:20.989Z"
   },
   {
    "duration": -1753,
    "start_time": "2021-11-12T15:48:20.999Z"
   },
   {
    "duration": -1759,
    "start_time": "2021-11-12T15:48:21.007Z"
   },
   {
    "duration": -2093,
    "start_time": "2021-11-12T15:48:21.342Z"
   },
   {
    "duration": -2098,
    "start_time": "2021-11-12T15:48:21.348Z"
   },
   {
    "duration": -2103,
    "start_time": "2021-11-12T15:48:21.355Z"
   },
   {
    "duration": -2109,
    "start_time": "2021-11-12T15:48:21.362Z"
   },
   {
    "duration": -2116,
    "start_time": "2021-11-12T15:48:21.370Z"
   },
   {
    "duration": -2120,
    "start_time": "2021-11-12T15:48:21.376Z"
   },
   {
    "duration": -2126,
    "start_time": "2021-11-12T15:48:21.383Z"
   },
   {
    "duration": -2132,
    "start_time": "2021-11-12T15:48:21.391Z"
   },
   {
    "duration": -2139,
    "start_time": "2021-11-12T15:48:21.399Z"
   },
   {
    "duration": -2145,
    "start_time": "2021-11-12T15:48:21.406Z"
   },
   {
    "duration": -2151,
    "start_time": "2021-11-12T15:48:21.414Z"
   },
   {
    "duration": -2156,
    "start_time": "2021-11-12T15:48:21.420Z"
   },
   {
    "duration": -2101,
    "start_time": "2021-11-12T15:48:21.430Z"
   },
   {
    "duration": -2107,
    "start_time": "2021-11-12T15:48:21.437Z"
   },
   {
    "duration": -2126,
    "start_time": "2021-11-12T15:48:21.458Z"
   },
   {
    "duration": -2132,
    "start_time": "2021-11-12T15:48:21.465Z"
   },
   {
    "duration": -2139,
    "start_time": "2021-11-12T15:48:21.474Z"
   },
   {
    "duration": -2145,
    "start_time": "2021-11-12T15:48:21.481Z"
   },
   {
    "duration": -2151,
    "start_time": "2021-11-12T15:48:21.489Z"
   },
   {
    "duration": -2157,
    "start_time": "2021-11-12T15:48:21.496Z"
   },
   {
    "duration": -2162,
    "start_time": "2021-11-12T15:48:21.503Z"
   },
   {
    "duration": -2167,
    "start_time": "2021-11-12T15:48:21.510Z"
   },
   {
    "duration": -2173,
    "start_time": "2021-11-12T15:48:21.517Z"
   },
   {
    "duration": -2178,
    "start_time": "2021-11-12T15:48:21.523Z"
   },
   {
    "duration": -2184,
    "start_time": "2021-11-12T15:48:21.530Z"
   },
   {
    "duration": -2187,
    "start_time": "2021-11-12T15:48:21.535Z"
   },
   {
    "duration": -2193,
    "start_time": "2021-11-12T15:48:21.542Z"
   },
   {
    "duration": -2197,
    "start_time": "2021-11-12T15:48:21.548Z"
   },
   {
    "duration": -2219,
    "start_time": "2021-11-12T15:48:21.571Z"
   },
   {
    "duration": -2226,
    "start_time": "2021-11-12T15:48:21.579Z"
   },
   {
    "duration": -2232,
    "start_time": "2021-11-12T15:48:21.586Z"
   },
   {
    "duration": -2238,
    "start_time": "2021-11-12T15:48:21.594Z"
   },
   {
    "duration": -2245,
    "start_time": "2021-11-12T15:48:21.602Z"
   },
   {
    "duration": -2250,
    "start_time": "2021-11-12T15:48:21.608Z"
   },
   {
    "duration": -2257,
    "start_time": "2021-11-12T15:48:21.616Z"
   },
   {
    "duration": 1544,
    "start_time": "2021-11-12T15:48:44.077Z"
   },
   {
    "duration": 254,
    "start_time": "2021-11-12T15:48:45.624Z"
   },
   {
    "duration": 11,
    "start_time": "2021-11-12T15:48:45.887Z"
   },
   {
    "duration": 62,
    "start_time": "2021-11-12T15:48:45.901Z"
   },
   {
    "duration": 400,
    "start_time": "2021-11-12T15:48:45.966Z"
   },
   {
    "duration": 29,
    "start_time": "2021-11-12T15:48:46.368Z"
   },
   {
    "duration": 392,
    "start_time": "2021-11-12T15:48:46.402Z"
   },
   {
    "duration": 19,
    "start_time": "2021-11-12T15:48:46.797Z"
   },
   {
    "duration": 349,
    "start_time": "2021-11-12T15:48:46.829Z"
   },
   {
    "duration": 24,
    "start_time": "2021-11-12T15:48:47.180Z"
   },
   {
    "duration": 28,
    "start_time": "2021-11-12T15:48:47.207Z"
   },
   {
    "duration": 25,
    "start_time": "2021-11-12T15:48:47.238Z"
   },
   {
    "duration": 27,
    "start_time": "2021-11-12T15:48:47.265Z"
   },
   {
    "duration": 17,
    "start_time": "2021-11-12T15:48:47.295Z"
   },
   {
    "duration": 32,
    "start_time": "2021-11-12T15:48:47.315Z"
   },
   {
    "duration": 11,
    "start_time": "2021-11-12T15:48:47.350Z"
   },
   {
    "duration": 54,
    "start_time": "2021-11-12T15:48:47.364Z"
   },
   {
    "duration": 11,
    "start_time": "2021-11-12T15:48:47.420Z"
   },
   {
    "duration": 21,
    "start_time": "2021-11-12T15:48:47.434Z"
   },
   {
    "duration": 38,
    "start_time": "2021-11-12T15:48:47.457Z"
   },
   {
    "duration": 39,
    "start_time": "2021-11-12T15:48:47.498Z"
   },
   {
    "duration": 11,
    "start_time": "2021-11-12T15:48:47.544Z"
   },
   {
    "duration": 16,
    "start_time": "2021-11-12T15:48:47.559Z"
   },
   {
    "duration": 59,
    "start_time": "2021-11-12T15:48:47.577Z"
   },
   {
    "duration": 12,
    "start_time": "2021-11-12T15:48:47.638Z"
   },
   {
    "duration": 32,
    "start_time": "2021-11-12T15:48:47.653Z"
   },
   {
    "duration": 19,
    "start_time": "2021-11-12T15:48:47.688Z"
   },
   {
    "duration": 170,
    "start_time": "2021-11-12T15:48:47.710Z"
   },
   {
    "duration": 64,
    "start_time": "2021-11-12T15:48:47.882Z"
   },
   {
    "duration": 60,
    "start_time": "2021-11-12T15:48:47.949Z"
   },
   {
    "duration": 79,
    "start_time": "2021-11-12T15:48:48.011Z"
   },
   {
    "duration": 482,
    "start_time": "2021-11-12T15:48:48.094Z"
   },
   {
    "duration": 312,
    "start_time": "2021-11-12T15:48:48.578Z"
   },
   {
    "duration": 2016,
    "start_time": "2021-11-12T15:48:48.893Z"
   },
   {
    "duration": 412,
    "start_time": "2021-11-12T15:48:50.911Z"
   },
   {
    "duration": 516,
    "start_time": "2021-11-12T15:48:51.326Z"
   },
   {
    "duration": 421,
    "start_time": "2021-11-12T15:48:51.844Z"
   },
   {
    "duration": 186,
    "start_time": "2021-11-12T15:48:52.268Z"
   },
   {
    "duration": 336,
    "start_time": "2021-11-12T15:48:52.456Z"
   },
   {
    "duration": 16,
    "start_time": "2021-11-12T15:48:52.794Z"
   },
   {
    "duration": 243,
    "start_time": "2021-11-12T15:48:52.813Z"
   },
   {
    "duration": 441,
    "start_time": "2021-11-12T15:48:53.060Z"
   },
   {
    "duration": 327,
    "start_time": "2021-11-12T15:48:53.504Z"
   },
   {
    "duration": 32,
    "start_time": "2021-11-12T15:48:53.833Z"
   },
   {
    "duration": 29,
    "start_time": "2021-11-12T15:48:53.868Z"
   },
   {
    "duration": 31,
    "start_time": "2021-11-12T15:48:53.900Z"
   },
   {
    "duration": 26,
    "start_time": "2021-11-12T15:48:53.934Z"
   },
   {
    "duration": 16,
    "start_time": "2021-11-12T15:48:53.963Z"
   },
   {
    "duration": 10,
    "start_time": "2021-11-12T15:48:53.982Z"
   },
   {
    "duration": 56,
    "start_time": "2021-11-12T15:48:53.994Z"
   },
   {
    "duration": 17,
    "start_time": "2021-11-12T15:48:54.052Z"
   },
   {
    "duration": 10,
    "start_time": "2021-11-12T15:48:54.072Z"
   },
   {
    "duration": 5,
    "start_time": "2021-11-12T15:48:54.084Z"
   },
   {
    "duration": 41,
    "start_time": "2021-11-12T15:48:54.092Z"
   },
   {
    "duration": 27,
    "start_time": "2021-11-12T15:48:54.135Z"
   },
   {
    "duration": 34,
    "start_time": "2021-11-12T15:48:54.165Z"
   },
   {
    "duration": 34,
    "start_time": "2021-11-12T15:48:54.202Z"
   },
   {
    "duration": 8,
    "start_time": "2021-11-12T15:48:54.238Z"
   },
   {
    "duration": 16,
    "start_time": "2021-11-12T15:48:54.248Z"
   },
   {
    "duration": 12,
    "start_time": "2021-11-12T15:48:54.266Z"
   },
   {
    "duration": 9,
    "start_time": "2021-11-12T15:48:54.280Z"
   },
   {
    "duration": 45,
    "start_time": "2021-11-12T15:48:54.291Z"
   },
   {
    "duration": 236,
    "start_time": "2021-11-12T15:48:54.339Z"
   },
   {
    "duration": 28,
    "start_time": "2021-11-12T15:48:54.577Z"
   },
   {
    "duration": 27,
    "start_time": "2021-11-12T15:48:54.608Z"
   },
   {
    "duration": 17,
    "start_time": "2021-11-12T15:48:54.638Z"
   },
   {
    "duration": 16,
    "start_time": "2021-11-12T15:48:54.663Z"
   },
   {
    "duration": 498,
    "start_time": "2021-11-12T15:48:54.682Z"
   },
   {
    "duration": -725,
    "start_time": "2021-11-12T15:48:55.908Z"
   },
   {
    "duration": -732,
    "start_time": "2021-11-12T15:48:55.916Z"
   },
   {
    "duration": -739,
    "start_time": "2021-11-12T15:48:55.925Z"
   },
   {
    "duration": -745,
    "start_time": "2021-11-12T15:48:55.932Z"
   },
   {
    "duration": -752,
    "start_time": "2021-11-12T15:48:55.941Z"
   },
   {
    "duration": -758,
    "start_time": "2021-11-12T15:48:55.948Z"
   },
   {
    "duration": -763,
    "start_time": "2021-11-12T15:48:55.955Z"
   },
   {
    "duration": -769,
    "start_time": "2021-11-12T15:48:55.962Z"
   },
   {
    "duration": -775,
    "start_time": "2021-11-12T15:48:55.970Z"
   },
   {
    "duration": -793,
    "start_time": "2021-11-12T15:48:55.989Z"
   },
   {
    "duration": -800,
    "start_time": "2021-11-12T15:48:55.998Z"
   },
   {
    "duration": -806,
    "start_time": "2021-11-12T15:48:56.005Z"
   },
   {
    "duration": -813,
    "start_time": "2021-11-12T15:48:56.014Z"
   },
   {
    "duration": -821,
    "start_time": "2021-11-12T15:48:56.023Z"
   },
   {
    "duration": -827,
    "start_time": "2021-11-12T15:48:56.031Z"
   },
   {
    "duration": -832,
    "start_time": "2021-11-12T15:48:56.037Z"
   },
   {
    "duration": -838,
    "start_time": "2021-11-12T15:48:56.045Z"
   },
   {
    "duration": 23,
    "start_time": "2021-11-12T15:56:11.484Z"
   },
   {
    "duration": 136,
    "start_time": "2021-11-12T15:58:44.761Z"
   },
   {
    "duration": 134,
    "start_time": "2021-11-12T15:58:49.466Z"
   },
   {
    "duration": 4736,
    "start_time": "2021-11-12T15:59:03.580Z"
   },
   {
    "duration": 1490,
    "start_time": "2021-11-12T15:59:14.389Z"
   },
   {
    "duration": 64,
    "start_time": "2021-11-12T15:59:15.881Z"
   },
   {
    "duration": 10,
    "start_time": "2021-11-12T15:59:15.947Z"
   },
   {
    "duration": 62,
    "start_time": "2021-11-12T15:59:15.959Z"
   },
   {
    "duration": 302,
    "start_time": "2021-11-12T15:59:16.023Z"
   },
   {
    "duration": 27,
    "start_time": "2021-11-12T15:59:16.329Z"
   },
   {
    "duration": 272,
    "start_time": "2021-11-12T15:59:16.358Z"
   },
   {
    "duration": 19,
    "start_time": "2021-11-12T15:59:16.634Z"
   },
   {
    "duration": 264,
    "start_time": "2021-11-12T15:59:16.655Z"
   },
   {
    "duration": 22,
    "start_time": "2021-11-12T15:59:16.929Z"
   },
   {
    "duration": 9,
    "start_time": "2021-11-12T15:59:16.954Z"
   },
   {
    "duration": 4,
    "start_time": "2021-11-12T15:59:16.966Z"
   },
   {
    "duration": 13,
    "start_time": "2021-11-12T15:59:16.973Z"
   },
   {
    "duration": 13,
    "start_time": "2021-11-12T15:59:16.988Z"
   },
   {
    "duration": 40,
    "start_time": "2021-11-12T15:59:17.003Z"
   },
   {
    "duration": 18,
    "start_time": "2021-11-12T15:59:17.046Z"
   },
   {
    "duration": 45,
    "start_time": "2021-11-12T15:59:17.066Z"
   },
   {
    "duration": 18,
    "start_time": "2021-11-12T15:59:17.113Z"
   },
   {
    "duration": 21,
    "start_time": "2021-11-12T15:59:17.133Z"
   },
   {
    "duration": 20,
    "start_time": "2021-11-12T15:59:17.157Z"
   },
   {
    "duration": 54,
    "start_time": "2021-11-12T15:59:17.180Z"
   },
   {
    "duration": 11,
    "start_time": "2021-11-12T15:59:17.237Z"
   },
   {
    "duration": 14,
    "start_time": "2021-11-12T15:59:17.255Z"
   },
   {
    "duration": 59,
    "start_time": "2021-11-12T15:59:17.273Z"
   },
   {
    "duration": 11,
    "start_time": "2021-11-12T15:59:17.335Z"
   },
   {
    "duration": 22,
    "start_time": "2021-11-12T15:59:17.348Z"
   },
   {
    "duration": 9,
    "start_time": "2021-11-12T15:59:17.373Z"
   },
   {
    "duration": 146,
    "start_time": "2021-11-12T15:59:17.384Z"
   },
   {
    "duration": 52,
    "start_time": "2021-11-12T15:59:17.532Z"
   },
   {
    "duration": 80,
    "start_time": "2021-11-12T15:59:17.586Z"
   },
   {
    "duration": 62,
    "start_time": "2021-11-12T15:59:17.668Z"
   },
   {
    "duration": 468,
    "start_time": "2021-11-12T15:59:17.732Z"
   },
   {
    "duration": 316,
    "start_time": "2021-11-12T15:59:18.203Z"
   },
   {
    "duration": 1801,
    "start_time": "2021-11-12T15:59:18.529Z"
   },
   {
    "duration": 402,
    "start_time": "2021-11-12T15:59:20.333Z"
   },
   {
    "duration": 417,
    "start_time": "2021-11-12T15:59:20.737Z"
   },
   {
    "duration": 372,
    "start_time": "2021-11-12T15:59:21.157Z"
   },
   {
    "duration": 209,
    "start_time": "2021-11-12T15:59:21.531Z"
   },
   {
    "duration": 421,
    "start_time": "2021-11-12T15:59:21.743Z"
   },
   {
    "duration": 15,
    "start_time": "2021-11-12T15:59:22.167Z"
   },
   {
    "duration": 205,
    "start_time": "2021-11-12T15:59:22.185Z"
   },
   {
    "duration": 424,
    "start_time": "2021-11-12T15:59:22.393Z"
   },
   {
    "duration": 326,
    "start_time": "2021-11-12T15:59:22.820Z"
   },
   {
    "duration": 31,
    "start_time": "2021-11-12T15:59:23.148Z"
   },
   {
    "duration": 48,
    "start_time": "2021-11-12T15:59:23.181Z"
   },
   {
    "duration": 11,
    "start_time": "2021-11-12T15:59:23.231Z"
   },
   {
    "duration": 35,
    "start_time": "2021-11-12T15:59:23.245Z"
   },
   {
    "duration": 15,
    "start_time": "2021-11-12T15:59:23.283Z"
   },
   {
    "duration": 32,
    "start_time": "2021-11-12T15:59:23.300Z"
   },
   {
    "duration": 49,
    "start_time": "2021-11-12T15:59:23.335Z"
   },
   {
    "duration": 20,
    "start_time": "2021-11-12T15:59:23.387Z"
   },
   {
    "duration": 14,
    "start_time": "2021-11-12T15:59:23.410Z"
   },
   {
    "duration": 30,
    "start_time": "2021-11-12T15:59:23.428Z"
   },
   {
    "duration": 16,
    "start_time": "2021-11-12T15:59:23.460Z"
   },
   {
    "duration": 38,
    "start_time": "2021-11-12T15:59:23.479Z"
   },
   {
    "duration": 35,
    "start_time": "2021-11-12T15:59:23.520Z"
   },
   {
    "duration": 10,
    "start_time": "2021-11-12T15:59:23.558Z"
   },
   {
    "duration": 8,
    "start_time": "2021-11-12T15:59:23.571Z"
   },
   {
    "duration": 17,
    "start_time": "2021-11-12T15:59:23.581Z"
   },
   {
    "duration": 38,
    "start_time": "2021-11-12T15:59:23.600Z"
   },
   {
    "duration": 13,
    "start_time": "2021-11-12T15:59:23.641Z"
   },
   {
    "duration": 17,
    "start_time": "2021-11-12T15:59:23.656Z"
   },
   {
    "duration": 243,
    "start_time": "2021-11-12T15:59:23.675Z"
   },
   {
    "duration": 31,
    "start_time": "2021-11-12T15:59:23.920Z"
   },
   {
    "duration": 21,
    "start_time": "2021-11-12T15:59:23.954Z"
   },
   {
    "duration": 25,
    "start_time": "2021-11-12T15:59:23.978Z"
   },
   {
    "duration": 34,
    "start_time": "2021-11-12T15:59:24.005Z"
   },
   {
    "duration": 3653,
    "start_time": "2021-11-12T15:59:24.047Z"
   },
   {
    "duration": 876,
    "start_time": "2021-11-12T15:59:27.704Z"
   },
   {
    "duration": 16,
    "start_time": "2021-11-12T15:59:28.582Z"
   },
   {
    "duration": 39,
    "start_time": "2021-11-12T15:59:28.600Z"
   },
   {
    "duration": 817,
    "start_time": "2021-11-12T15:59:28.642Z"
   },
   {
    "duration": 15,
    "start_time": "2021-11-12T15:59:29.461Z"
   },
   {
    "duration": 16,
    "start_time": "2021-11-12T15:59:29.478Z"
   },
   {
    "duration": 40,
    "start_time": "2021-11-12T15:59:29.496Z"
   },
   {
    "duration": 819,
    "start_time": "2021-11-12T15:59:29.539Z"
   },
   {
    "duration": 527,
    "start_time": "2021-11-12T15:59:30.360Z"
   },
   {
    "duration": 15,
    "start_time": "2021-11-12T15:59:30.889Z"
   },
   {
    "duration": 40,
    "start_time": "2021-11-12T15:59:30.906Z"
   },
   {
    "duration": 20,
    "start_time": "2021-11-12T15:59:30.949Z"
   },
   {
    "duration": 50,
    "start_time": "2021-11-12T15:59:30.973Z"
   },
   {
    "duration": 26,
    "start_time": "2021-11-12T15:59:31.025Z"
   },
   {
    "duration": 728,
    "start_time": "2021-11-12T15:59:31.054Z"
   },
   {
    "duration": 18,
    "start_time": "2021-11-12T15:59:31.785Z"
   },
   {
    "duration": 36,
    "start_time": "2021-11-12T15:59:31.806Z"
   },
   {
    "duration": 11,
    "start_time": "2021-11-12T15:59:31.844Z"
   }
  ],
  "kernelspec": {
   "display_name": "Python 3 (ipykernel)",
   "language": "python",
   "name": "python3"
  },
  "language_info": {
   "codemirror_mode": {
    "name": "ipython",
    "version": 3
   },
   "file_extension": ".py",
   "mimetype": "text/x-python",
   "name": "python",
   "nbconvert_exporter": "python",
   "pygments_lexer": "ipython3",
   "version": "3.9.7"
  },
  "toc": {
   "base_numbering": 1,
   "nav_menu": {},
   "number_sections": true,
   "sideBar": true,
   "skip_h1_title": true,
   "title_cell": "Table of Contents",
   "title_sidebar": "Contents",
   "toc_cell": true,
   "toc_position": {
    "height": "calc(100% - 180px)",
    "left": "10px",
    "top": "150px",
    "width": "165px"
   },
   "toc_section_display": true,
   "toc_window_display": true
  }
 },
 "nbformat": 4,
 "nbformat_minor": 2
}
