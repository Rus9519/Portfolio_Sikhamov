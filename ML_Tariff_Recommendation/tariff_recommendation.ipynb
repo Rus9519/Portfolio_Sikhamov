{
 "cells": [
  {
   "cell_type": "markdown",
   "metadata": {
    "cellId": "xwf2p2didb3la7705l2d9"
   },
   "source": [
    "## 1 Откройте и изучите файл"
   ]
  },
  {
   "cell_type": "code",
   "execution_count": 1,
   "metadata": {
    "cellId": "va6enu71lydbrmjzkgs1r5"
   },
   "outputs": [],
   "source": [
    "import pandas as pd\n",
    "import matplotlib.pyplot as plt\n",
    "import seaborn as sns\n",
    "from sklearn.model_selection import train_test_split\n",
    "from sklearn.linear_model import LogisticRegression\n",
    "from sklearn.neighbors import KNeighborsClassifier\n",
    "from sklearn.tree import DecisionTreeClassifier\n",
    "from sklearn.ensemble import RandomForestClassifier\n",
    "from sklearn.model_selection import GridSearchCV\n",
    "from sklearn.metrics import accuracy_score, confusion_matrix, precision_score, recall_score\n",
    "from sklearn.dummy import DummyClassifier"
   ]
  },
  {
   "cell_type": "markdown",
   "metadata": {
    "cellId": "z5azwo5tzk8hhi9r2kf1zr"
   },
   "source": [
    "### Знакомство с данными"
   ]
  },
  {
   "cell_type": "code",
   "execution_count": 2,
   "metadata": {
    "cellId": "k4ajf8if11d7gqsd9dqh"
   },
   "outputs": [],
   "source": [
    "df = pd.read_csv('data.csv')"
   ]
  },
  {
   "cell_type": "code",
   "execution_count": 3,
   "metadata": {
    "cellId": "5djf5loantsun1sttp11"
   },
   "outputs": [
    {
     "data": {
      "text/html": [
       "<div>\n",
       "<style scoped>\n",
       "    .dataframe tbody tr th:only-of-type {\n",
       "        vertical-align: middle;\n",
       "    }\n",
       "\n",
       "    .dataframe tbody tr th {\n",
       "        vertical-align: top;\n",
       "    }\n",
       "\n",
       "    .dataframe thead th {\n",
       "        text-align: right;\n",
       "    }\n",
       "</style>\n",
       "<table border=\"1\" class=\"dataframe\">\n",
       "  <thead>\n",
       "    <tr style=\"text-align: right;\">\n",
       "      <th></th>\n",
       "      <th>calls</th>\n",
       "      <th>minutes</th>\n",
       "      <th>messages</th>\n",
       "      <th>mb_used</th>\n",
       "      <th>is_advanced</th>\n",
       "    </tr>\n",
       "  </thead>\n",
       "  <tbody>\n",
       "    <tr>\n",
       "      <th>0</th>\n",
       "      <td>40.0</td>\n",
       "      <td>311.90</td>\n",
       "      <td>83.0</td>\n",
       "      <td>19915.42</td>\n",
       "      <td>0</td>\n",
       "    </tr>\n",
       "    <tr>\n",
       "      <th>1</th>\n",
       "      <td>85.0</td>\n",
       "      <td>516.75</td>\n",
       "      <td>56.0</td>\n",
       "      <td>22696.96</td>\n",
       "      <td>0</td>\n",
       "    </tr>\n",
       "    <tr>\n",
       "      <th>2</th>\n",
       "      <td>77.0</td>\n",
       "      <td>467.66</td>\n",
       "      <td>86.0</td>\n",
       "      <td>21060.45</td>\n",
       "      <td>0</td>\n",
       "    </tr>\n",
       "    <tr>\n",
       "      <th>3</th>\n",
       "      <td>106.0</td>\n",
       "      <td>745.53</td>\n",
       "      <td>81.0</td>\n",
       "      <td>8437.39</td>\n",
       "      <td>1</td>\n",
       "    </tr>\n",
       "    <tr>\n",
       "      <th>4</th>\n",
       "      <td>66.0</td>\n",
       "      <td>418.74</td>\n",
       "      <td>1.0</td>\n",
       "      <td>14502.75</td>\n",
       "      <td>0</td>\n",
       "    </tr>\n",
       "  </tbody>\n",
       "</table>\n",
       "</div>"
      ],
      "text/plain": [
       "   calls  minutes  messages   mb_used  is_advanced\n",
       "0   40.0   311.90      83.0  19915.42            0\n",
       "1   85.0   516.75      56.0  22696.96            0\n",
       "2   77.0   467.66      86.0  21060.45            0\n",
       "3  106.0   745.53      81.0   8437.39            1\n",
       "4   66.0   418.74       1.0  14502.75            0"
      ]
     },
     "execution_count": 3,
     "metadata": {},
     "output_type": "execute_result"
    }
   ],
   "source": [
    "df.head()"
   ]
  },
  {
   "cell_type": "code",
   "execution_count": 4,
   "metadata": {
    "cellId": "5dqd6glyjtw2al54zb7e0h"
   },
   "outputs": [
    {
     "data": {
      "text/plain": [
       "0    2229\n",
       "1     985\n",
       "Name: is_advanced, dtype: int64"
      ]
     },
     "execution_count": 4,
     "metadata": {},
     "output_type": "execute_result"
    }
   ],
   "source": [
    "df['is_advanced'].value_counts()"
   ]
  },
  {
   "cell_type": "code",
   "execution_count": 5,
   "metadata": {
    "cellId": "rwqpkl3wfsl458j2f9iw"
   },
   "outputs": [
    {
     "name": "stdout",
     "output_type": "stream",
     "text": [
      "<class 'pandas.core.frame.DataFrame'>\n",
      "RangeIndex: 3214 entries, 0 to 3213\n",
      "Data columns (total 5 columns):\n",
      " #   Column       Non-Null Count  Dtype  \n",
      "---  ------       --------------  -----  \n",
      " 0   calls        3214 non-null   float64\n",
      " 1   minutes      3214 non-null   float64\n",
      " 2   messages     3214 non-null   float64\n",
      " 3   mb_used      3214 non-null   float64\n",
      " 4   is_advanced  3214 non-null   int64  \n",
      "dtypes: float64(4), int64(1)\n",
      "memory usage: 125.7 KB\n"
     ]
    }
   ],
   "source": [
    "df.info()"
   ]
  },
  {
   "cell_type": "markdown",
   "metadata": {
    "cellId": "lvcp0dtt8uwbgqyswb37a"
   },
   "source": [
    "**Вывод:**\n",
    "1. Набор данных содержит 3214 строк и 5 столбцов. \n",
    "2. 4 столбца содержат вещественные числа, характеризующие поведение пользователей. Пятый столбец имеет целочисленный тип, в нем хранятся значения 0 и 1, характеризующие тариф, которым пользуется пользователь.\n",
    "3. В данном наборе данных менее 1/3 строк относятся к тарифу продвинутый.\n",
    "4. В наборе данных нет пропущенных значений."
   ]
  },
  {
   "cell_type": "markdown",
   "metadata": {
    "cellId": "rj7x3x3g0pi5benucsbkbd"
   },
   "source": [
    "### EDA"
   ]
  },
  {
   "cell_type": "markdown",
   "metadata": {
    "cellId": "pvpbvxnj3mxl5fqf6lx"
   },
   "source": [
    "Перед построением моделей посмотрим на данные. Сравним использование звонков, минут, сообщений и интернета для пользователей двух тарифов. Для этого обратимся к гистограмме и диаграмме размаха."
   ]
  },
  {
   "cell_type": "code",
   "execution_count": 6,
   "metadata": {
    "cellId": "2oo1k412p8z0q0dpekd3c1g"
   },
   "outputs": [
    {
     "data": {
      "image/png": "[encoded data removed]",
      "text/plain": [
       "<Figure size 1296x360 with 2 Axes>"
      ]
     },
     "metadata": {
      "needs_background": "light"
     },
     "output_type": "display_data"
    }
   ],
   "source": [
    "fig, axes = plt.subplots(1, 2, figsize=(18,5))\n",
    "\n",
    "sns.kdeplot(df.query('is_advanced == 0')['calls'], label='not advanced', ax=axes[0])\n",
    "sns.kdeplot(df.query('is_advanced == 1')['calls'], label='advanced', ax=axes[0])\n",
    "axes[0].set_ylabel('Density')\n",
    "axes[0].legend()\n",
    "axes[0].set_xlim(0,)\n",
    "axes[0].set_title('Calls distribution')\n",
    "\n",
    "\n",
    "sns.boxplot(x='calls', y='is_advanced', data=df, orient='h', ax=axes[1])\n",
    "axes[1].set_title('Calls boxplot')\n",
    "plt.show()"
   ]
  },
  {
   "cell_type": "code",
   "execution_count": 7,
   "metadata": {
    "cellId": "el1h7dz1dlio6gcwgglpo"
   },
   "outputs": [
    {
     "data": {
      "image/png": "[encoded data removed]",
      "text/plain": [
       "<Figure size 1296x360 with 2 Axes>"
      ]
     },
     "metadata": {
      "needs_background": "light"
     },
     "output_type": "display_data"
    }
   ],
   "source": [
    "fig, axes = plt.subplots(1, 2, figsize=(18,5))\n",
    "\n",
    "sns.kdeplot(df.query('is_advanced == 0')['minutes'], label='not advanced', ax=axes[0])\n",
    "sns.kdeplot(df.query('is_advanced == 1')['minutes'], label='advanced', ax=axes[0])\n",
    "axes[0].set_ylabel('Density')\n",
    "axes[0].legend()\n",
    "axes[0].set_xlim(0,)\n",
    "axes[0].set_title('Minutes distribution')\n",
    "\n",
    "\n",
    "sns.boxplot(x='minutes', y='is_advanced', data=df, orient='h', ax=axes[1])\n",
    "axes[1].set_title('Minutes boxplot')\n",
    "plt.show()"
   ]
  },
  {
   "cell_type": "code",
   "execution_count": 8,
   "metadata": {
    "cellId": "kxf8wbis068s5scqea4cm"
   },
   "outputs": [
    {
     "data": {
      "image/png": "[encoded data removed]",
      "text/plain": [
       "<Figure size 1296x360 with 2 Axes>"
      ]
     },
     "metadata": {
      "needs_background": "light"
     },
     "output_type": "display_data"
    }
   ],
   "source": [
    "fig, axes = plt.subplots(1, 2, figsize=(18,5))\n",
    "\n",
    "sns.kdeplot(df.query('is_advanced == 0')['messages'], label='not advanced', ax=axes[0])\n",
    "sns.kdeplot(df.query('is_advanced == 1')['messages'], label='advanced', ax=axes[0])\n",
    "axes[0].set_ylabel('Density')\n",
    "axes[0].legend()\n",
    "axes[0].set_xlim(0,)\n",
    "axes[0].set_title('Messages distribution')\n",
    "\n",
    "\n",
    "sns.boxplot(x='messages', y='is_advanced', data=df, orient='h', ax=axes[1])\n",
    "axes[1].set_title('Messages boxplot')\n",
    "plt.show()"
   ]
  },
  {
   "cell_type": "code",
   "execution_count": 9,
   "metadata": {
    "cellId": "aj92xcmoxzt3gn5lbp328i"
   },
   "outputs": [
    {
     "data": {
      "image/png": "[encoded data removed]",
      "text/plain": [
       "<Figure size 1296x360 with 2 Axes>"
      ]
     },
     "metadata": {
      "needs_background": "light"
     },
     "output_type": "display_data"
    }
   ],
   "source": [
    "fig, axes = plt.subplots(1, 2, figsize=(18,5))\n",
    "\n",
    "sns.kdeplot(df.query('is_advanced == 0')['mb_used'], label='not advanced', ax=axes[0])\n",
    "sns.kdeplot(df.query('is_advanced == 1')['mb_used'], label='advanced', ax=axes[0])\n",
    "axes[0].set_ylabel('Density')\n",
    "axes[0].legend()\n",
    "axes[0].set_xlim(0,)\n",
    "axes[0].set_title('Internet usage distribution')\n",
    "\n",
    "\n",
    "sns.boxplot(x='mb_used', y='is_advanced', data=df, orient='h', ax=axes[1])\n",
    "axes[1].set_title('Internet usage boxplot')\n",
    "plt.show()"
   ]
  },
  {
   "cell_type": "markdown",
   "metadata": {
    "cellId": "240ux9il74n8f4lm25wopv"
   },
   "source": [
    "**Вывод:**\n",
    "1. Пользователи тарифа ультра в среднем используют больше минут, смс и интернет трафика.\n",
    "2. Пользователи тарифа ультра более склонны к экстремальным значениям использования мобильной связи."
   ]
  },
  {
   "cell_type": "markdown",
   "metadata": {
    "cellId": "7pwxzy7vx9mu03w7brm2tp"
   },
   "source": [
    "## Разбиение данных на выборки"
   ]
  },
  {
   "cell_type": "code",
   "execution_count": 10,
   "metadata": {
    "cellId": "trif1h20c9fcvhweruuwi6"
   },
   "outputs": [],
   "source": [
    "features = df.drop('is_advanced', axis=1)\n",
    "target = df['is_advanced']"
   ]
  },
  {
   "cell_type": "markdown",
   "metadata": {
    "cellId": "crz40lxls6e3f87dhjvl6u"
   },
   "source": [
    "Для настройки гиперпараметров моделей нужна выборка валидации, а для оценки поведения модели нужна тестовая выборка. Следовательно изначальный набор данных нужно разбить на 3 части - тестовую, валидационную и обучающую. Однако для настройки гиперпараметров я буду использовать технику GridSearch в комбинации с кросс-валидацией, данная техника доступна в библиотеке sklearn, валидационная выборка будет выделяться из обучающей автоматически. Таким образом разделим изначальный датасет на обучающую и тестовую выборки. Пусть тестовая выборка будет 20%."
   ]
  },
  {
   "cell_type": "code",
   "execution_count": 25,
   "metadata": {
    "cellId": "nxy3zrw5d4eqkuwf6i64mk"
   },
   "outputs": [],
   "source": [
    "features_train, features_test, target_train, target_test = train_test_split(features, \n",
    "                                                                            target, \n",
    "                                                                            test_size=0.2,\n",
    "                                                                            stratify=target,\n",
    "                                                                            random_state=42)"
   ]
  },
  {
   "cell_type": "markdown",
   "metadata": {},
   "source": [
    "Выполним проверку."
   ]
  },
  {
   "cell_type": "code",
   "execution_count": 28,
   "metadata": {
    "cellId": "skhzrr85lkhqxh2lyo216"
   },
   "outputs": [
    {
     "data": {
      "text/plain": [
       "(2571, 4)"
      ]
     },
     "execution_count": 28,
     "metadata": {},
     "output_type": "execute_result"
    }
   ],
   "source": [
    "features_train.shape"
   ]
  },
  {
   "cell_type": "code",
   "execution_count": 29,
   "metadata": {
    "cellId": "uxadmz38wq9tn7w3c4g87"
   },
   "outputs": [
    {
     "data": {
      "text/plain": [
       "(643, 4)"
      ]
     },
     "execution_count": 29,
     "metadata": {},
     "output_type": "execute_result"
    }
   ],
   "source": [
    "features_test.shape"
   ]
  },
  {
   "cell_type": "code",
   "execution_count": 30,
   "metadata": {
    "cellId": "q9xjk8vqezipjnkky0s31"
   },
   "outputs": [
    {
     "data": {
      "text/plain": [
       "(2571,)"
      ]
     },
     "execution_count": 30,
     "metadata": {},
     "output_type": "execute_result"
    }
   ],
   "source": [
    "target_train.shape"
   ]
  },
  {
   "cell_type": "code",
   "execution_count": 31,
   "metadata": {
    "cellId": "69uqr4hsdsnanxj4t75mo5"
   },
   "outputs": [
    {
     "data": {
      "text/plain": [
       "(643,)"
      ]
     },
     "execution_count": 31,
     "metadata": {},
     "output_type": "execute_result"
    }
   ],
   "source": [
    "target_test.shape"
   ]
  },
  {
   "cell_type": "markdown",
   "metadata": {},
   "source": [
    "Разбиение произведено успешно."
   ]
  },
  {
   "cell_type": "markdown",
   "metadata": {
    "cellId": "0mmp7bq7lm5ipag957notzg"
   },
   "source": [
    "## Исследование моделей"
   ]
  },
  {
   "cell_type": "markdown",
   "metadata": {
    "cellId": "37g31q2qonogsk4hag9wo4"
   },
   "source": [
    "Сначала создадим все модели, затем, используя технику GridSearch, проведем оптимизацию гиперпараметров, а затем выберем лучшую модель. \n",
    "\n",
    "Будем исследовать четыре модели: логистическую регрессию, метод к-ближайщих соседей, дерево решений и случайный лес."
   ]
  },
  {
   "cell_type": "markdown",
   "metadata": {
    "cellId": "pmfbdovqcahpwqng5c2feo"
   },
   "source": [
    "### Логистическая регрессия"
   ]
  },
  {
   "cell_type": "markdown",
   "metadata": {
    "cellId": "te0uxrapi92qc30fzbhut"
   },
   "source": [
    "В данной моделе будем настраивать параметр С, который отвечает за регуляризацию. Чем выше С, тем слабее регуляризация. Кросс-валидацию проведем с 5 фолдами, что означает, что каждую итерацию 20% от обучающей выборки будет использовано в качестве валидационной выборки."
   ]
  },
  {
   "cell_type": "code",
   "execution_count": 32,
   "metadata": {
    "cellId": "muhvet8k2hr6pg0z3p63cw"
   },
   "outputs": [
    {
     "name": "stdout",
     "output_type": "stream",
     "text": [
      "Fitting 5 folds for each of 11 candidates, totalling 55 fits\n"
     ]
    }
   ],
   "source": [
    "parameters = [{'C' : [0.1, 0.5, 1, 1.5, 2, 5, 10, 15, 20, 25, 50]}]\n",
    "grid_search = GridSearchCV(estimator=LogisticRegression(solver='liblinear', random_state=42),\n",
    "                           param_grid=parameters,\n",
    "                           cv=5,\n",
    "                           verbose=1)\n",
    "grid_search.fit(features_train, target_train)\n",
    "best_acc_lr = grid_search.best_score_\n",
    "best_parameters_lr = grid_search.best_params_"
   ]
  },
  {
   "cell_type": "code",
   "execution_count": 33,
   "metadata": {
    "cellId": "juwyks0lbde5zornh1awbd",
    "scrolled": true
   },
   "outputs": [
    {
     "name": "stdout",
     "output_type": "stream",
     "text": [
      "Best Accuracy: 0.716\n",
      "Best Parameters: {'C': 1.5}\n"
     ]
    }
   ],
   "source": [
    "print('Best Accuracy: {:.3f}'.format(best_acc_lr))\n",
    "print('Best Parameters:', best_parameters_lr)"
   ]
  },
  {
   "cell_type": "markdown",
   "metadata": {},
   "source": [
    "Обучим модель на обучающей выборке, используя оптимальные гиперпараметры."
   ]
  },
  {
   "cell_type": "code",
   "execution_count": 34,
   "metadata": {},
   "outputs": [
    {
     "data": {
      "text/plain": [
       "LogisticRegression(C=1.5, random_state=42)"
      ]
     },
     "execution_count": 34,
     "metadata": {},
     "output_type": "execute_result"
    }
   ],
   "source": [
    "log_reg_opt = LogisticRegression(C=1.5, random_state=42)\n",
    "log_reg_opt.fit(features_train, target_train)"
   ]
  },
  {
   "cell_type": "markdown",
   "metadata": {
    "cellId": "ktjmysrnsaacwcbg1id2i"
   },
   "source": [
    "**Вывод:**\n",
    "1. Настройка гиперпараметров показала, что наилучшим параметром С является 0.1. \n",
    "2. Точность предсказаний составляет 0.716."
   ]
  },
  {
   "cell_type": "markdown",
   "metadata": {
    "cellId": "4wltafr0ii4zsyq1vl270i"
   },
   "source": [
    "### Метод к-ближайших соседей"
   ]
  },
  {
   "cell_type": "markdown",
   "metadata": {
    "cellId": "ydjuqe25i4yhzph4yavj9"
   },
   "source": [
    "В данной модели калибровать будем количество соседей, по которым модель будет определять класс объекта."
   ]
  },
  {
   "cell_type": "code",
   "execution_count": 35,
   "metadata": {
    "cellId": "i4rllzrz909qtfk70bcw7a"
   },
   "outputs": [
    {
     "name": "stdout",
     "output_type": "stream",
     "text": [
      "Fitting 5 folds for each of 12 candidates, totalling 60 fits\n"
     ]
    }
   ],
   "source": [
    "parameters = [{'n_neighbors' : [2, 3, 4, 5, 6, 7, 8, 9, 10, 15, 20, 50]}]\n",
    "grid_search = GridSearchCV(estimator=KNeighborsClassifier(),\n",
    "                           param_grid=parameters,\n",
    "                           cv=5,\n",
    "                           verbose=1)\n",
    "grid_search.fit(features_train, target_train)\n",
    "best_acc_knn = grid_search.best_score_\n",
    "best_parameters_knn = grid_search.best_params_"
   ]
  },
  {
   "cell_type": "code",
   "execution_count": 36,
   "metadata": {
    "cellId": "x7g0jd3kcmfztkpltz6qm"
   },
   "outputs": [
    {
     "name": "stdout",
     "output_type": "stream",
     "text": [
      "Best Accuracy: 0.764\n",
      "Best Parameters: {'n_neighbors': 15}\n"
     ]
    }
   ],
   "source": [
    "print('Best Accuracy: {:.3f}'.format(best_acc_knn))\n",
    "print('Best Parameters:', best_parameters_knn)"
   ]
  },
  {
   "cell_type": "markdown",
   "metadata": {},
   "source": [
    "Обучим модель с оптимальными гиперпараметрами."
   ]
  },
  {
   "cell_type": "code",
   "execution_count": 37,
   "metadata": {},
   "outputs": [
    {
     "data": {
      "text/plain": [
       "KNeighborsClassifier(n_neighbors=15)"
      ]
     },
     "execution_count": 37,
     "metadata": {},
     "output_type": "execute_result"
    }
   ],
   "source": [
    "knn_opt = KNeighborsClassifier(n_neighbors=15)\n",
    "knn_opt.fit(features_train, target_train)"
   ]
  },
  {
   "cell_type": "markdown",
   "metadata": {
    "cellId": "ictg42x7s4dce12usvytne"
   },
   "source": [
    "**Вывод:**\n",
    "1. Настройка гиперпараметров показала, что наилучшим числом соседей является 15 соседей. \n",
    "2. Точность предсказаний составляет 0.764."
   ]
  },
  {
   "cell_type": "markdown",
   "metadata": {
    "cellId": "not65mcprul59q7up2ybt"
   },
   "source": [
    "### Дерево решений"
   ]
  },
  {
   "cell_type": "markdown",
   "metadata": {
    "cellId": "4v2tv4xb4zl20lys0p89"
   },
   "source": [
    "В данном случае будем оптимизировать параметр глубины и минимального количества наблюдений, необходимого для разбиения узла."
   ]
  },
  {
   "cell_type": "code",
   "execution_count": 38,
   "metadata": {
    "cellId": "zpihwc5deg31lny204q6r"
   },
   "outputs": [
    {
     "name": "stdout",
     "output_type": "stream",
     "text": [
      "Fitting 5 folds for each of 91 candidates, totalling 455 fits\n"
     ]
    }
   ],
   "source": [
    "parameters = [{'max_depth' : [2, 3, 4, 5, 6, 7, 8, 9, 10, 15, 20, 25, 50], \n",
    "               'min_samples_split': [2, 3, 4, 5, 6, 7, 8]}]\n",
    "grid_search = GridSearchCV(estimator=DecisionTreeClassifier(random_state=42),\n",
    "                           param_grid=parameters,\n",
    "                           cv=5,\n",
    "                           verbose=1)\n",
    "grid_search.fit(features_train, target_train)\n",
    "best_acc_tree = grid_search.best_score_\n",
    "best_parameters_tree = grid_search.best_params_"
   ]
  },
  {
   "cell_type": "code",
   "execution_count": 39,
   "metadata": {
    "cellId": "qw099hfqf3fvnehmakemf8",
    "scrolled": true
   },
   "outputs": [
    {
     "name": "stdout",
     "output_type": "stream",
     "text": [
      "Best Accuracy: 0.792\n",
      "Best Parameters: {'max_depth': 5, 'min_samples_split': 2}\n"
     ]
    }
   ],
   "source": [
    "print('Best Accuracy: {:.3f}'.format(best_acc_tree))\n",
    "print('Best Parameters:', best_parameters_tree)"
   ]
  },
  {
   "cell_type": "markdown",
   "metadata": {},
   "source": [
    "Обучим модель, используя оптимальные гиперпараметры."
   ]
  },
  {
   "cell_type": "code",
   "execution_count": 40,
   "metadata": {},
   "outputs": [
    {
     "data": {
      "text/plain": [
       "DecisionTreeClassifier(max_depth=5, random_state=42)"
      ]
     },
     "execution_count": 40,
     "metadata": {},
     "output_type": "execute_result"
    }
   ],
   "source": [
    "tree_classifier_opt = DecisionTreeClassifier(max_depth=5, random_state=42)\n",
    "tree_classifier_opt.fit(features_train, target_train)"
   ]
  },
  {
   "cell_type": "markdown",
   "metadata": {
    "cellId": "h7q73lkd364levao6ho6pr"
   },
   "source": [
    "**Вывод:**\n",
    "1. Настройка гиперпараметров показала, что наилучшей глубиной является 5, а наилучшее минимальное количество для разбиения - 2 (что является значением по умолчанию).\n",
    "2. Точность предсказаний составляет 0.792."
   ]
  },
  {
   "cell_type": "markdown",
   "metadata": {
    "cellId": "ykvpb2f6lgdks5dvq62jp"
   },
   "source": [
    "### Случайный лес"
   ]
  },
  {
   "cell_type": "markdown",
   "metadata": {
    "cellId": "jfz0su4ynmm8iql1f3dh"
   },
   "source": [
    "В данном случае калибруем количество деревьев и максимальную глубину."
   ]
  },
  {
   "cell_type": "code",
   "execution_count": 41,
   "metadata": {
    "cellId": "hzos7he3zbpzqugzvmmxdi"
   },
   "outputs": [
    {
     "name": "stdout",
     "output_type": "stream",
     "text": [
      "Fitting 5 folds for each of 121 candidates, totalling 605 fits\n"
     ]
    }
   ],
   "source": [
    "parameters = [{'n_estimators' : [1, 5, 10, 15, 20, 25, 50, 75, 100, 150, 200],\n",
    "               'max_depth' : [2, 3, 4, 5, 6, 7, 8, 9, 10, 15, 20]}]\n",
    "grid_search = GridSearchCV(estimator=RandomForestClassifier(random_state=42),\n",
    "                           param_grid=parameters,\n",
    "                           cv=5,\n",
    "                           verbose=1,\n",
    "                           n_jobs=-1)\n",
    "grid_search.fit(features_train, target_train)\n",
    "best_acc_rf = grid_search.best_score_\n",
    "best_parameters_rf = grid_search.best_params_"
   ]
  },
  {
   "cell_type": "code",
   "execution_count": 42,
   "metadata": {
    "cellId": "6q0wlg15yqatlcuiv04ukf"
   },
   "outputs": [
    {
     "name": "stdout",
     "output_type": "stream",
     "text": [
      "Best Accuracy: 0.813\n",
      "Best Parameters: {'max_depth': 9, 'n_estimators': 20}\n"
     ]
    }
   ],
   "source": [
    "print('Best Accuracy: {:.3f}'.format(best_acc_rf))\n",
    "print('Best Parameters:', best_parameters_rf)"
   ]
  },
  {
   "cell_type": "markdown",
   "metadata": {},
   "source": [
    "Обучим модель на обучающей выборке с использованием оптимальных гиперпараметров. "
   ]
  },
  {
   "cell_type": "code",
   "execution_count": 43,
   "metadata": {},
   "outputs": [
    {
     "data": {
      "text/plain": [
       "RandomForestClassifier(max_depth=9, n_estimators=20, random_state=42)"
      ]
     },
     "execution_count": 43,
     "metadata": {},
     "output_type": "execute_result"
    }
   ],
   "source": [
    "rf_classifier_opt = RandomForestClassifier(n_estimators=20, max_depth=9, random_state=42)\n",
    "rf_classifier_opt.fit(features_train, target_train)"
   ]
  },
  {
   "cell_type": "markdown",
   "metadata": {
    "cellId": "kg39nq1d67g5yl6xnje5"
   },
   "source": [
    "**Вывод:**\n",
    "1. Настройка гиперпараметров показала, что наилучшей глубиной является 9, а наилучшее количество деревьев - 20.\n",
    "2. Точность предсказаний составляет 0.813."
   ]
  },
  {
   "cell_type": "markdown",
   "metadata": {
    "cellId": "5eq7rrmkpnammhyz5x1jp"
   },
   "source": [
    "### Сравнение моделей"
   ]
  },
  {
   "cell_type": "markdown",
   "metadata": {
    "cellId": "fp1tlxn122kgfj3x4c429"
   },
   "source": [
    "Сведем полученные результаты для разных моделей в одну таблицу."
   ]
  },
  {
   "cell_type": "code",
   "execution_count": 44,
   "metadata": {
    "cellId": "eua2o3o0p57lgiyua0v0j"
   },
   "outputs": [
    {
     "data": {
      "text/html": [
       "<div>\n",
       "<style scoped>\n",
       "    .dataframe tbody tr th:only-of-type {\n",
       "        vertical-align: middle;\n",
       "    }\n",
       "\n",
       "    .dataframe tbody tr th {\n",
       "        vertical-align: top;\n",
       "    }\n",
       "\n",
       "    .dataframe thead th {\n",
       "        text-align: right;\n",
       "    }\n",
       "</style>\n",
       "<table border=\"1\" class=\"dataframe\">\n",
       "  <thead>\n",
       "    <tr style=\"text-align: right;\">\n",
       "      <th></th>\n",
       "      <th>model performance</th>\n",
       "    </tr>\n",
       "  </thead>\n",
       "  <tbody>\n",
       "    <tr>\n",
       "      <th>logistic_regression</th>\n",
       "      <td>0.716060</td>\n",
       "    </tr>\n",
       "    <tr>\n",
       "      <th>knn</th>\n",
       "      <td>0.764302</td>\n",
       "    </tr>\n",
       "    <tr>\n",
       "      <th>decision_tree</th>\n",
       "      <td>0.791528</td>\n",
       "    </tr>\n",
       "    <tr>\n",
       "      <th>random_forest</th>\n",
       "      <td>0.812534</td>\n",
       "    </tr>\n",
       "  </tbody>\n",
       "</table>\n",
       "</div>"
      ],
      "text/plain": [
       "                     model performance\n",
       "logistic_regression           0.716060\n",
       "knn                           0.764302\n",
       "decision_tree                 0.791528\n",
       "random_forest                 0.812534"
      ]
     },
     "execution_count": 44,
     "metadata": {},
     "output_type": "execute_result"
    }
   ],
   "source": [
    "pd.Series(data=[best_acc_lr, best_acc_knn, best_acc_tree, best_acc_rf], \n",
    "          index=['logistic_regression', 'knn', 'decision_tree', 'random_forest'],\n",
    "          name='model performance').to_frame()"
   ]
  },
  {
   "cell_type": "markdown",
   "metadata": {
    "cellId": "hs91bax692bhc8dnx1ma"
   },
   "source": [
    "Из полученных результатов видно, что лучше всех себя показала модель случайного леса, а хуже всех - логистическая регрессия."
   ]
  },
  {
   "cell_type": "markdown",
   "metadata": {
    "cellId": "25bw75e45r2kgkpi7o6tv"
   },
   "source": [
    "### Вывод"
   ]
  },
  {
   "cell_type": "markdown",
   "metadata": {
    "cellId": "afwuwwe05hgr7yqoncnbv"
   },
   "source": [
    "1. 4 модели машинного обучения были исследованы на обучающей выборке - логистическая регрессия, метод к-ближайших соседей, дерево решений и случайный лес.\n",
    "2. Техника GridSearch в комбинации с кросс-валидацией была использована для оптимизации гиперпараметров. \n",
    "3. Худшую точность предсказаний показала логистическая регрессия, лучшую - случайный лес. "
   ]
  },
  {
   "cell_type": "markdown",
   "metadata": {
    "cellId": "o1kvoia0t82m1wuah5r3e"
   },
   "source": [
    "## Проверка на тестовой выборке"
   ]
  },
  {
   "cell_type": "markdown",
   "metadata": {},
   "source": [
    "Проверим все модели на тестовой выборке. Для оценки качества моделей будем использовать метрику **accuracy**."
   ]
  },
  {
   "cell_type": "markdown",
   "metadata": {},
   "source": [
    "### Логистическая регрессия"
   ]
  },
  {
   "cell_type": "code",
   "execution_count": 45,
   "metadata": {},
   "outputs": [],
   "source": [
    "target_predicted_lr = log_reg_opt.predict(features_test)"
   ]
  },
  {
   "cell_type": "code",
   "execution_count": 46,
   "metadata": {},
   "outputs": [
    {
     "data": {
      "text/plain": [
       "0.7387247278382582"
      ]
     },
     "execution_count": 46,
     "metadata": {},
     "output_type": "execute_result"
    }
   ],
   "source": [
    "accuracy_lr = accuracy_score(target_test, target_predicted_lr)\n",
    "accuracy_lr"
   ]
  },
  {
   "cell_type": "markdown",
   "metadata": {},
   "source": [
    "Доля правильных ответов - 73.9%."
   ]
  },
  {
   "cell_type": "markdown",
   "metadata": {
    "cellId": "8wn2k5cb3blevihp4l81cs"
   },
   "source": [
    "### Метод к-ближайших соседей"
   ]
  },
  {
   "cell_type": "code",
   "execution_count": 47,
   "metadata": {},
   "outputs": [],
   "source": [
    "target_predicted_knn = knn_opt.predict(features_test)"
   ]
  },
  {
   "cell_type": "code",
   "execution_count": 48,
   "metadata": {},
   "outputs": [
    {
     "data": {
      "text/plain": [
       "0.776049766718507"
      ]
     },
     "execution_count": 48,
     "metadata": {},
     "output_type": "execute_result"
    }
   ],
   "source": [
    "accuracy_knn = accuracy_score(target_test, target_predicted_knn)\n",
    "accuracy_knn"
   ]
  },
  {
   "cell_type": "markdown",
   "metadata": {},
   "source": [
    "Доля правильных ответов - 77.6%."
   ]
  },
  {
   "cell_type": "markdown",
   "metadata": {},
   "source": [
    "### Дерево решений"
   ]
  },
  {
   "cell_type": "code",
   "execution_count": 49,
   "metadata": {},
   "outputs": [],
   "source": [
    "target_predicted_tree = tree_classifier_opt.predict(features_test)"
   ]
  },
  {
   "cell_type": "code",
   "execution_count": 50,
   "metadata": {},
   "outputs": [
    {
     "data": {
      "text/plain": [
       "0.7713841368584758"
      ]
     },
     "execution_count": 50,
     "metadata": {},
     "output_type": "execute_result"
    }
   ],
   "source": [
    "accuracy_tree = accuracy_score(target_test, target_predicted_tree)\n",
    "accuracy_tree"
   ]
  },
  {
   "cell_type": "markdown",
   "metadata": {},
   "source": [
    "Доля правильных ответов - 77.1%."
   ]
  },
  {
   "cell_type": "markdown",
   "metadata": {},
   "source": [
    "### Случайный лес"
   ]
  },
  {
   "cell_type": "code",
   "execution_count": 51,
   "metadata": {
    "cellId": "lr4qcntxp483a942owtv4j"
   },
   "outputs": [],
   "source": [
    "target_predicted = rf_classifier_opt.predict(features_test)"
   ]
  },
  {
   "cell_type": "code",
   "execution_count": 52,
   "metadata": {
    "cellId": "zxzpg9rczddzb5t1owbgon"
   },
   "outputs": [
    {
     "data": {
      "text/plain": [
       "0.8258164852255054"
      ]
     },
     "execution_count": 52,
     "metadata": {},
     "output_type": "execute_result"
    }
   ],
   "source": [
    "accuracy_forest = accuracy_score(target_test, target_predicted)\n",
    "accuracy_forest"
   ]
  },
  {
   "cell_type": "markdown",
   "metadata": {
    "cellId": "he06l3k9bzs9ktbye5mqmd"
   },
   "source": [
    "Доля правильных ответов - 82.6%."
   ]
  },
  {
   "cell_type": "markdown",
   "metadata": {},
   "source": [
    "### Вывод"
   ]
  },
  {
   "cell_type": "markdown",
   "metadata": {},
   "source": [
    "Сведем полученные результаты в одну таблицу. Также добавим данные по валидации, полученные в предыдущем пункте."
   ]
  },
  {
   "cell_type": "code",
   "execution_count": 53,
   "metadata": {},
   "outputs": [
    {
     "data": {
      "text/html": [
       "<div>\n",
       "<style scoped>\n",
       "    .dataframe tbody tr th:only-of-type {\n",
       "        vertical-align: middle;\n",
       "    }\n",
       "\n",
       "    .dataframe tbody tr th {\n",
       "        vertical-align: top;\n",
       "    }\n",
       "\n",
       "    .dataframe thead th {\n",
       "        text-align: right;\n",
       "    }\n",
       "</style>\n",
       "<table border=\"1\" class=\"dataframe\">\n",
       "  <thead>\n",
       "    <tr style=\"text-align: right;\">\n",
       "      <th></th>\n",
       "      <th>model</th>\n",
       "      <th>validation</th>\n",
       "      <th>test</th>\n",
       "    </tr>\n",
       "  </thead>\n",
       "  <tbody>\n",
       "    <tr>\n",
       "      <th>0</th>\n",
       "      <td>logistic_regression</td>\n",
       "      <td>0.716060</td>\n",
       "      <td>0.738725</td>\n",
       "    </tr>\n",
       "    <tr>\n",
       "      <th>1</th>\n",
       "      <td>knn</td>\n",
       "      <td>0.764302</td>\n",
       "      <td>0.776050</td>\n",
       "    </tr>\n",
       "    <tr>\n",
       "      <th>2</th>\n",
       "      <td>decision_tree</td>\n",
       "      <td>0.791528</td>\n",
       "      <td>0.771384</td>\n",
       "    </tr>\n",
       "    <tr>\n",
       "      <th>3</th>\n",
       "      <td>random_forest</td>\n",
       "      <td>0.812534</td>\n",
       "      <td>0.825816</td>\n",
       "    </tr>\n",
       "  </tbody>\n",
       "</table>\n",
       "</div>"
      ],
      "text/plain": [
       "                 model  validation      test\n",
       "0  logistic_regression    0.716060  0.738725\n",
       "1                  knn    0.764302  0.776050\n",
       "2        decision_tree    0.791528  0.771384\n",
       "3        random_forest    0.812534  0.825816"
      ]
     },
     "execution_count": 53,
     "metadata": {},
     "output_type": "execute_result"
    }
   ],
   "source": [
    "pd.DataFrame(data=[['logistic_regression', best_acc_lr, accuracy_lr], ['knn', best_acc_knn, accuracy_knn], ['decision_tree', best_acc_tree, accuracy_tree], ['random_forest', best_acc_rf, accuracy_forest]], \n",
    "          columns=['model', 'validation', 'test'])"
   ]
  },
  {
   "cell_type": "markdown",
   "metadata": {},
   "source": [
    "Рассчитаем дополнительные метрики для самой успешной модели (для модели случайного леса). Сначала посмотрим на матрицу ошибок."
   ]
  },
  {
   "cell_type": "code",
   "execution_count": 54,
   "metadata": {},
   "outputs": [
    {
     "data": {
      "text/plain": [
       "array([[428,  18],\n",
       "       [ 94, 103]], dtype=int64)"
      ]
     },
     "execution_count": 54,
     "metadata": {},
     "output_type": "execute_result"
    }
   ],
   "source": [
    "confusion_matrix(target_test, target_predicted)"
   ]
  },
  {
   "cell_type": "markdown",
   "metadata": {},
   "source": [
    "В 428 случаях модель корректно определила то, что пользователь не использует тариф \"Продвинутый\". В 103 корректно определила, что пользователь использует тариф \"Продвинутый\". В 18 случаях модель предсказала тариф \"Продвинутый\", однако пользователь им не пользовался, это False Positive. И в 94 случаях модель предсказала, что пользователь не использует \"Продвинутый\", но ошиблась, это False Negative. Посмотрим дополнительно на *precision* и *recall*."
   ]
  },
  {
   "cell_type": "code",
   "execution_count": 55,
   "metadata": {},
   "outputs": [
    {
     "data": {
      "text/plain": [
       "0.8512396694214877"
      ]
     },
     "execution_count": 55,
     "metadata": {},
     "output_type": "execute_result"
    }
   ],
   "source": [
    "precision_score(target_test, target_predicted)"
   ]
  },
  {
   "cell_type": "markdown",
   "metadata": {},
   "source": [
    "Данное значение говорит нам о том, что в 85% случаев, когда модель говорит, что данному пользователю подойдет тариф \"Продвинутый\", она верна."
   ]
  },
  {
   "cell_type": "code",
   "execution_count": 56,
   "metadata": {},
   "outputs": [
    {
     "data": {
      "text/plain": [
       "0.5228426395939086"
      ]
     },
     "execution_count": 56,
     "metadata": {},
     "output_type": "execute_result"
    }
   ],
   "source": [
    "recall_score(target_test, target_predicted)"
   ]
  },
  {
   "cell_type": "markdown",
   "metadata": {},
   "source": [
    "Данное значение говорит о том, что если пользователю подойдет тариф \"Продвинутый\", модель сможет определит это с вероятностью в 52%."
   ]
  },
  {
   "cell_type": "markdown",
   "metadata": {},
   "source": [
    "**Вывод:**"
   ]
  },
  {
   "cell_type": "markdown",
   "metadata": {},
   "source": [
    "1. Все модели с оптимальными параметрами были протестированы на тестовой выборке.\n",
    "2. Поведением моделей не ухудшилось на тестовой выборке (за исключением решающего дерева).\n",
    "3. Лучше всего себя показал случайный лес, хуже всех - логистчиеская регрессия."
   ]
  },
  {
   "cell_type": "markdown",
   "metadata": {
    "cellId": "hnu7p8k88qjrcahdh0ibis"
   },
   "source": [
    "## Проверька модели на адекватность"
   ]
  },
  {
   "cell_type": "markdown",
   "metadata": {},
   "source": [
    "Для проверки будем использовать DummyClassifier из библиотеки scikit-learn. Данный классификатор проводит классификацию по простейшим правилам."
   ]
  },
  {
   "cell_type": "markdown",
   "metadata": {},
   "source": [
    "Одним из таких правил является предсказание наиболее часто встречающегося класса. Создадим такой классификатор."
   ]
  },
  {
   "cell_type": "code",
   "execution_count": 57,
   "metadata": {},
   "outputs": [
    {
     "data": {
      "text/plain": [
       "0.6936236391912908"
      ]
     },
     "execution_count": 57,
     "metadata": {},
     "output_type": "execute_result"
    }
   ],
   "source": [
    "dummy_class = DummyClassifier(strategy='most_frequent', random_state=42)\n",
    "dummy_class.fit(features_train, target_train)\n",
    "dummy_predicted = dummy_class.predict(features_test)\n",
    "accuracy_score(target_test, dummy_predicted)"
   ]
  },
  {
   "cell_type": "markdown",
   "metadata": {},
   "source": [
    "69% точных предсказаний, если просто всегда предсказывать наиболее часто встречаемый класс в обучающей выборке. В наших моделях точность предсказаний выше."
   ]
  },
  {
   "cell_type": "markdown",
   "metadata": {},
   "source": [
    "Посмотрим на поведение классификатора, который делает предсказания случайно."
   ]
  },
  {
   "cell_type": "code",
   "execution_count": 58,
   "metadata": {},
   "outputs": [
    {
     "data": {
      "text/plain": [
       "0.49144634525660963"
      ]
     },
     "execution_count": 58,
     "metadata": {},
     "output_type": "execute_result"
    }
   ],
   "source": [
    "dummy_class = DummyClassifier(strategy='uniform', random_state=42)\n",
    "dummy_class.fit(features_train, target_train)\n",
    "dummy_predicted = dummy_class.predict(features_test)\n",
    "accuracy_score(target_test, dummy_predicted)"
   ]
  },
  {
   "cell_type": "markdown",
   "metadata": {},
   "source": [
    "Как и ожидалось, его точность лежит в районе 50%. "
   ]
  },
  {
   "cell_type": "markdown",
   "metadata": {
    "cellId": "yw73k07hi8xwnzki6wxhs"
   },
   "source": [
    "**Вывод:**\n",
    "1. Модель можно считать адекватной, так как она ведет себя лучше константной модели."
   ]
  }
 ],
 "metadata": {
  "ExecuteTimeLog": [
   {
    "duration": 352,
    "start_time": "2021-12-09T12:56:02.528Z"
   },
   {
    "duration": 3,
    "start_time": "2021-12-09T13:02:39.515Z"
   },
   {
    "duration": 7036,
    "start_time": "2021-12-09T13:02:39.521Z"
   },
   {
    "duration": 1514,
    "start_time": "2021-12-09T13:02:46.561Z"
   },
   {
    "duration": 57,
    "start_time": "2021-12-09T13:02:48.078Z"
   },
   {
    "duration": 18,
    "start_time": "2021-12-09T13:02:48.137Z"
   },
   {
    "duration": 11,
    "start_time": "2021-12-09T13:02:48.158Z"
   },
   {
    "duration": 13,
    "start_time": "2021-12-09T13:02:48.171Z"
   },
   {
    "duration": 843,
    "start_time": "2021-12-09T13:02:48.188Z"
   },
   {
    "duration": 852,
    "start_time": "2021-12-09T13:02:49.033Z"
   },
   {
    "duration": 870,
    "start_time": "2021-12-09T13:02:49.887Z"
   },
   {
    "duration": 795,
    "start_time": "2021-12-09T13:02:50.760Z"
   },
   {
    "duration": 8,
    "start_time": "2021-12-09T13:02:51.558Z"
   },
   {
    "duration": 8,
    "start_time": "2021-12-09T13:02:51.569Z"
   },
   {
    "duration": 5,
    "start_time": "2021-12-09T13:02:51.580Z"
   },
   {
    "duration": 39,
    "start_time": "2021-12-09T13:02:51.587Z"
   },
   {
    "duration": 5,
    "start_time": "2021-12-09T13:02:51.628Z"
   },
   {
    "duration": 5,
    "start_time": "2021-12-09T13:02:51.636Z"
   },
   {
    "duration": 6,
    "start_time": "2021-12-09T13:02:51.644Z"
   },
   {
    "duration": 2873,
    "start_time": "2021-12-09T13:02:51.652Z"
   },
   {
    "duration": 7,
    "start_time": "2021-12-09T13:02:54.528Z"
   },
   {
    "duration": 532,
    "start_time": "2021-12-09T13:02:54.538Z"
   },
   {
    "duration": -25,
    "start_time": "2021-12-09T13:02:55.100Z"
   },
   {
    "duration": -27,
    "start_time": "2021-12-09T13:02:55.104Z"
   },
   {
    "duration": -57,
    "start_time": "2021-12-09T13:02:55.136Z"
   },
   {
    "duration": -57,
    "start_time": "2021-12-09T13:02:55.138Z"
   },
   {
    "duration": -57,
    "start_time": "2021-12-09T13:02:55.140Z"
   },
   {
    "duration": -57,
    "start_time": "2021-12-09T13:02:55.142Z"
   },
   {
    "duration": -59,
    "start_time": "2021-12-09T13:02:55.146Z"
   },
   {
    "duration": -59,
    "start_time": "2021-12-09T13:02:55.148Z"
   },
   {
    "duration": -58,
    "start_time": "2021-12-09T13:02:55.150Z"
   },
   {
    "duration": -57,
    "start_time": "2021-12-09T13:02:55.151Z"
   },
   {
    "duration": -57,
    "start_time": "2021-12-09T13:02:55.153Z"
   },
   {
    "duration": -57,
    "start_time": "2021-12-09T13:02:55.155Z"
   },
   {
    "duration": -59,
    "start_time": "2021-12-09T13:02:55.159Z"
   },
   {
    "duration": -60,
    "start_time": "2021-12-09T13:02:55.162Z"
   },
   {
    "duration": -59,
    "start_time": "2021-12-09T13:02:55.163Z"
   },
   {
    "duration": -59,
    "start_time": "2021-12-09T13:02:55.165Z"
   },
   {
    "duration": -59,
    "start_time": "2021-12-09T13:02:55.167Z"
   },
   {
    "duration": -59,
    "start_time": "2021-12-09T13:02:55.168Z"
   },
   {
    "duration": -72,
    "start_time": "2021-12-09T13:02:55.183Z"
   },
   {
    "duration": 303,
    "start_time": "2021-12-09T13:03:27.666Z"
   },
   {
    "duration": 631,
    "start_time": "2021-12-09T13:03:38.394Z"
   },
   {
    "duration": 15,
    "start_time": "2021-12-09T13:03:50.827Z"
   },
   {
    "duration": 3,
    "start_time": "2021-12-09T13:04:03.831Z"
   },
   {
    "duration": 4106,
    "start_time": "2021-12-09T13:04:03.837Z"
   },
   {
    "duration": 5,
    "start_time": "2021-12-09T13:04:07.947Z"
   },
   {
    "duration": 57,
    "start_time": "2021-12-09T13:04:07.956Z"
   },
   {
    "duration": 13,
    "start_time": "2021-12-09T13:04:08.015Z"
   },
   {
    "duration": 9,
    "start_time": "2021-12-09T13:04:08.030Z"
   },
   {
    "duration": 10,
    "start_time": "2021-12-09T13:04:08.041Z"
   },
   {
    "duration": 818,
    "start_time": "2021-12-09T13:04:08.054Z"
   },
   {
    "duration": 821,
    "start_time": "2021-12-09T13:04:08.875Z"
   },
   {
    "duration": 785,
    "start_time": "2021-12-09T13:04:09.699Z"
   },
   {
    "duration": 912,
    "start_time": "2021-12-09T13:04:10.487Z"
   },
   {
    "duration": 5,
    "start_time": "2021-12-09T13:04:11.402Z"
   },
   {
    "duration": 21,
    "start_time": "2021-12-09T13:04:11.409Z"
   },
   {
    "duration": 8,
    "start_time": "2021-12-09T13:04:11.433Z"
   },
   {
    "duration": 6,
    "start_time": "2021-12-09T13:04:11.445Z"
   },
   {
    "duration": 8,
    "start_time": "2021-12-09T13:04:11.454Z"
   },
   {
    "duration": 8,
    "start_time": "2021-12-09T13:04:11.465Z"
   },
   {
    "duration": 47,
    "start_time": "2021-12-09T13:04:11.476Z"
   },
   {
    "duration": 2804,
    "start_time": "2021-12-09T13:04:11.526Z"
   },
   {
    "duration": 102,
    "start_time": "2021-12-09T13:04:14.333Z"
   },
   {
    "duration": 605,
    "start_time": "2021-12-09T13:04:14.524Z"
   },
   {
    "duration": 93,
    "start_time": "2021-12-09T13:04:15.132Z"
   },
   {
    "duration": 1879,
    "start_time": "2021-12-09T13:04:15.230Z"
   },
   {
    "duration": 14,
    "start_time": "2021-12-09T13:04:17.112Z"
   },
   {
    "duration": 310,
    "start_time": "2021-12-09T13:04:17.128Z"
   },
   {
    "duration": -65,
    "start_time": "2021-12-09T13:04:17.506Z"
   },
   {
    "duration": -66,
    "start_time": "2021-12-09T13:04:17.508Z"
   },
   {
    "duration": -67,
    "start_time": "2021-12-09T13:04:17.511Z"
   },
   {
    "duration": -68,
    "start_time": "2021-12-09T13:04:17.513Z"
   },
   {
    "duration": -68,
    "start_time": "2021-12-09T13:04:17.515Z"
   },
   {
    "duration": -70,
    "start_time": "2021-12-09T13:04:17.518Z"
   },
   {
    "duration": -70,
    "start_time": "2021-12-09T13:04:17.520Z"
   },
   {
    "duration": -71,
    "start_time": "2021-12-09T13:04:17.523Z"
   },
   {
    "duration": -73,
    "start_time": "2021-12-09T13:04:17.526Z"
   },
   {
    "duration": -74,
    "start_time": "2021-12-09T13:04:17.529Z"
   },
   {
    "duration": -75,
    "start_time": "2021-12-09T13:04:17.531Z"
   },
   {
    "duration": -76,
    "start_time": "2021-12-09T13:04:17.534Z"
   },
   {
    "duration": -78,
    "start_time": "2021-12-09T13:04:17.537Z"
   },
   {
    "duration": -79,
    "start_time": "2021-12-09T13:04:17.540Z"
   },
   {
    "duration": -80,
    "start_time": "2021-12-09T13:04:17.542Z"
   },
   {
    "duration": -81,
    "start_time": "2021-12-09T13:04:17.545Z"
   },
   {
    "duration": 3,
    "start_time": "2021-12-09T13:04:58.038Z"
   },
   {
    "duration": 4530,
    "start_time": "2021-12-09T13:04:58.044Z"
   },
   {
    "duration": 7,
    "start_time": "2021-12-09T13:05:02.578Z"
   },
   {
    "duration": 121,
    "start_time": "2021-12-09T13:05:02.588Z"
   },
   {
    "duration": 13,
    "start_time": "2021-12-09T13:05:02.711Z"
   },
   {
    "duration": 12,
    "start_time": "2021-12-09T13:05:02.727Z"
   },
   {
    "duration": 12,
    "start_time": "2021-12-09T13:05:02.742Z"
   },
   {
    "duration": 897,
    "start_time": "2021-12-09T13:05:02.757Z"
   },
   {
    "duration": 840,
    "start_time": "2021-12-09T13:05:03.657Z"
   },
   {
    "duration": 823,
    "start_time": "2021-12-09T13:05:04.500Z"
   },
   {
    "duration": 845,
    "start_time": "2021-12-09T13:05:05.326Z"
   },
   {
    "duration": 6,
    "start_time": "2021-12-09T13:05:06.174Z"
   },
   {
    "duration": 9,
    "start_time": "2021-12-09T13:05:06.183Z"
   },
   {
    "duration": 9,
    "start_time": "2021-12-09T13:05:06.194Z"
   },
   {
    "duration": 5,
    "start_time": "2021-12-09T13:05:06.223Z"
   },
   {
    "duration": 6,
    "start_time": "2021-12-09T13:05:06.230Z"
   },
   {
    "duration": 7,
    "start_time": "2021-12-09T13:05:06.239Z"
   },
   {
    "duration": 4,
    "start_time": "2021-12-09T13:05:06.248Z"
   },
   {
    "duration": 3984,
    "start_time": "2021-12-09T13:05:06.254Z"
   },
   {
    "duration": 6,
    "start_time": "2021-12-09T13:05:10.326Z"
   },
   {
    "duration": 1605,
    "start_time": "2021-12-09T13:05:10.425Z"
   },
   {
    "duration": 90,
    "start_time": "2021-12-09T13:05:12.034Z"
   },
   {
    "duration": 2136,
    "start_time": "2021-12-09T13:05:12.131Z"
   },
   {
    "duration": 4,
    "start_time": "2021-12-09T13:05:14.270Z"
   },
   {
    "duration": 11,
    "start_time": "2021-12-09T13:05:14.277Z"
   },
   {
    "duration": 5,
    "start_time": "2021-12-09T13:05:14.291Z"
   },
   {
    "duration": 5330,
    "start_time": "2021-12-09T13:05:14.323Z"
   },
   {
    "duration": 5,
    "start_time": "2021-12-09T13:05:19.655Z"
   },
   {
    "duration": 24,
    "start_time": "2021-12-09T13:05:19.662Z"
   },
   {
    "duration": 6,
    "start_time": "2021-12-09T13:05:19.688Z"
   },
   {
    "duration": 74030,
    "start_time": "2021-12-09T13:05:19.696Z"
   },
   {
    "duration": 6,
    "start_time": "2021-12-09T13:06:33.730Z"
   },
   {
    "duration": 557,
    "start_time": "2021-12-09T13:06:33.739Z"
   },
   {
    "duration": 24,
    "start_time": "2021-12-09T13:06:34.299Z"
   },
   {
    "duration": 36,
    "start_time": "2021-12-09T13:06:34.325Z"
   },
   {
    "duration": 6,
    "start_time": "2021-12-09T13:06:34.364Z"
   },
   {
    "duration": 24,
    "start_time": "2021-12-09T13:06:34.373Z"
   },
   {
    "duration": 28,
    "start_time": "2021-12-09T13:06:34.400Z"
   },
   {
    "duration": 30,
    "start_time": "2021-12-09T13:06:34.431Z"
   },
   {
    "duration": 21,
    "start_time": "2021-12-09T13:06:34.464Z"
   },
   {
    "duration": 30,
    "start_time": "2021-12-09T13:06:34.488Z"
   },
   {
    "duration": 7,
    "start_time": "2021-12-09T13:08:35.149Z"
   },
   {
    "duration": 7,
    "start_time": "2021-12-09T13:08:52.269Z"
   },
   {
    "duration": 38,
    "start_time": "2021-12-09T13:11:14.830Z"
   },
   {
    "duration": 6,
    "start_time": "2021-12-09T13:11:15.357Z"
   },
   {
    "duration": 5,
    "start_time": "2021-12-09T13:13:16.462Z"
   },
   {
    "duration": 7,
    "start_time": "2021-12-09T13:13:17.326Z"
   },
   {
    "duration": 28,
    "start_time": "2021-12-09T13:14:03.135Z"
   },
   {
    "duration": 27,
    "start_time": "2021-12-09T13:14:18.383Z"
   },
   {
    "duration": 6,
    "start_time": "2021-12-09T13:14:18.798Z"
   },
   {
    "duration": 7,
    "start_time": "2021-12-09T14:09:27.073Z"
   },
   {
    "duration": 7,
    "start_time": "2021-12-09T14:09:49.865Z"
   },
   {
    "duration": 102,
    "start_time": "2021-12-09T14:11:41.988Z"
   },
   {
    "duration": 93,
    "start_time": "2021-12-09T14:11:52.719Z"
   },
   {
    "duration": 496,
    "start_time": "2021-12-09T14:12:45.049Z"
   },
   {
    "duration": 13,
    "start_time": "2021-12-09T14:12:55.066Z"
   },
   {
    "duration": 5,
    "start_time": "2021-12-09T14:15:38.667Z"
   },
   {
    "duration": 8,
    "start_time": "2021-12-09T14:19:17.331Z"
   },
   {
    "duration": 8,
    "start_time": "2021-12-09T14:19:34.099Z"
   },
   {
    "duration": 9,
    "start_time": "2021-12-09T14:19:42.714Z"
   },
   {
    "duration": 8,
    "start_time": "2021-12-09T14:19:48.923Z"
   },
   {
    "duration": 9,
    "start_time": "2021-12-09T14:19:54.923Z"
   },
   {
    "duration": 10,
    "start_time": "2021-12-09T14:19:57.674Z"
   },
   {
    "duration": 9,
    "start_time": "2021-12-09T14:19:58.973Z"
   },
   {
    "duration": 9,
    "start_time": "2021-12-09T14:27:09.098Z"
   },
   {
    "duration": 8,
    "start_time": "2021-12-09T14:28:43.732Z"
   },
   {
    "duration": 9,
    "start_time": "2021-12-09T14:29:00.206Z"
   },
   {
    "duration": 8,
    "start_time": "2021-12-09T14:29:02.222Z"
   },
   {
    "duration": 8,
    "start_time": "2021-12-09T14:29:05.823Z"
   },
   {
    "duration": 3,
    "start_time": "2021-12-09T14:31:10.201Z"
   },
   {
    "duration": 4346,
    "start_time": "2021-12-09T14:31:10.207Z"
   },
   {
    "duration": 8,
    "start_time": "2021-12-09T14:31:14.557Z"
   },
   {
    "duration": 146,
    "start_time": "2021-12-09T14:31:14.568Z"
   },
   {
    "duration": 14,
    "start_time": "2021-12-09T14:31:14.717Z"
   },
   {
    "duration": 11,
    "start_time": "2021-12-09T14:31:14.733Z"
   },
   {
    "duration": 9,
    "start_time": "2021-12-09T14:31:14.746Z"
   },
   {
    "duration": 822,
    "start_time": "2021-12-09T14:31:14.757Z"
   },
   {
    "duration": 781,
    "start_time": "2021-12-09T14:31:15.583Z"
   },
   {
    "duration": 777,
    "start_time": "2021-12-09T14:31:16.368Z"
   },
   {
    "duration": 959,
    "start_time": "2021-12-09T14:31:17.148Z"
   },
   {
    "duration": 13,
    "start_time": "2021-12-09T14:31:18.110Z"
   },
   {
    "duration": 7,
    "start_time": "2021-12-09T14:31:18.125Z"
   },
   {
    "duration": 5,
    "start_time": "2021-12-09T14:31:18.134Z"
   },
   {
    "duration": 5,
    "start_time": "2021-12-09T14:31:18.142Z"
   },
   {
    "duration": 10,
    "start_time": "2021-12-09T14:31:18.150Z"
   },
   {
    "duration": 7,
    "start_time": "2021-12-09T14:31:18.163Z"
   },
   {
    "duration": 51,
    "start_time": "2021-12-09T14:31:18.172Z"
   },
   {
    "duration": 2502,
    "start_time": "2021-12-09T14:31:18.226Z"
   },
   {
    "duration": 91,
    "start_time": "2021-12-09T14:31:20.734Z"
   },
   {
    "duration": 801,
    "start_time": "2021-12-09T14:31:20.828Z"
   },
   {
    "duration": 92,
    "start_time": "2021-12-09T14:31:21.632Z"
   },
   {
    "duration": 1889,
    "start_time": "2021-12-09T14:31:21.727Z"
   },
   {
    "duration": 7,
    "start_time": "2021-12-09T14:31:23.619Z"
   },
   {
    "duration": 12,
    "start_time": "2021-12-09T14:31:23.628Z"
   },
   {
    "duration": 4,
    "start_time": "2021-12-09T14:31:23.643Z"
   },
   {
    "duration": 5053,
    "start_time": "2021-12-09T14:31:23.652Z"
   },
   {
    "duration": 5,
    "start_time": "2021-12-09T14:31:28.709Z"
   },
   {
    "duration": 19,
    "start_time": "2021-12-09T14:31:28.724Z"
   },
   {
    "duration": 4,
    "start_time": "2021-12-09T14:31:28.745Z"
   },
   {
    "duration": 68049,
    "start_time": "2021-12-09T14:31:28.751Z"
   },
   {
    "duration": 4,
    "start_time": "2021-12-09T14:32:36.802Z"
   },
   {
    "duration": 531,
    "start_time": "2021-12-09T14:32:36.808Z"
   },
   {
    "duration": 8,
    "start_time": "2021-12-09T14:32:37.341Z"
   },
   {
    "duration": 5,
    "start_time": "2021-12-09T14:32:37.352Z"
   },
   {
    "duration": 9,
    "start_time": "2021-12-09T14:32:37.359Z"
   },
   {
    "duration": 73,
    "start_time": "2021-12-09T14:32:37.370Z"
   },
   {
    "duration": 7,
    "start_time": "2021-12-09T14:32:37.445Z"
   },
   {
    "duration": 8,
    "start_time": "2021-12-09T14:32:37.454Z"
   },
   {
    "duration": 7,
    "start_time": "2021-12-09T14:32:37.465Z"
   },
   {
    "duration": 60,
    "start_time": "2021-12-09T14:32:37.475Z"
   },
   {
    "duration": 9,
    "start_time": "2021-12-09T14:32:37.537Z"
   },
   {
    "duration": 13,
    "start_time": "2021-12-09T14:32:37.549Z"
   },
   {
    "duration": 9,
    "start_time": "2021-12-09T14:32:37.565Z"
   },
   {
    "duration": 9,
    "start_time": "2021-12-09T14:32:37.576Z"
   },
   {
    "duration": 40,
    "start_time": "2021-12-09T14:32:37.588Z"
   },
   {
    "duration": 7,
    "start_time": "2021-12-09T14:32:37.630Z"
   },
   {
    "duration": 7,
    "start_time": "2021-12-09T14:32:37.640Z"
   },
   {
    "duration": 8,
    "start_time": "2021-12-09T14:32:37.650Z"
   },
   {
    "duration": 9,
    "start_time": "2021-12-09T14:32:37.660Z"
   },
   {
    "duration": 373,
    "start_time": "2021-12-23T14:45:58.975Z"
   }
  ],
  "kernelspec": {
   "display_name": "Python 3 (ipykernel)",
   "language": "python",
   "name": "python3"
  },
  "language_info": {
   "codemirror_mode": {
    "name": "ipython",
    "version": 3
   },
   "file_extension": ".py",
   "mimetype": "text/x-python",
   "name": "python",
   "nbconvert_exporter": "python",
   "pygments_lexer": "ipython3",
   "version": "3.9.7"
  },
  "notebookId": "a12569d4-69e1-49f4-b13c-08e1a7a911e9",
  "notebookPath": "ds-intro-ml.ipynb",
  "toc": {
   "base_numbering": 1,
   "nav_menu": {},
   "number_sections": true,
   "sideBar": true,
   "skip_h1_title": true,
   "title_cell": "Table of Contents",
   "title_sidebar": "Contents",
   "toc_cell": false,
   "toc_position": {},
   "toc_section_display": true,
   "toc_window_display": true
  }
 },
 "nbformat": 4,
 "nbformat_minor": 4
}
