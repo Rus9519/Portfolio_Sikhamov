{
 "cells": [
  {
   "cell_type": "markdown",
   "id": "08430a37",
   "metadata": {},
   "source": [
    "# Heart attack analysis. Building a classification model"
   ]
  },
  {
   "cell_type": "markdown",
   "id": "528318a8",
   "metadata": {},
   "source": [
    "We have data on patients seen by a cardiologist. The main goal of this notebook is to build a machine learning model, that will be able to predict the risk of a heart attack based on a patient's health condition."
   ]
  },
  {
   "cell_type": "markdown",
   "id": "da34a404",
   "metadata": {},
   "source": [
    "Here we have the description of the features:"
   ]
  },
  {
   "cell_type": "markdown",
   "id": "dab764ca",
   "metadata": {},
   "source": [
    "1. *age* - age in years\n",
    "\n",
    "2. *sex* - sex (0 = female; 1 = male)\n",
    "\n",
    "3. *cp* - chest pain type (1 = typical angina; 2 = atypical angina; 3 = non-anginal pain; 0 = asymptomatic)\n",
    "\n",
    "4. *trtbps* - resting blood pressure (in mm Hg on admission to the hospital)\n",
    "\n",
    "5. *chol* - serum cholestoral in mg/dl\n",
    "\n",
    "6. *fbs* - fasting blood sugar > 120 mg/dl (0 = false; 1 = true)\n",
    "\n",
    "7. *restecg* - resting electrocardiographic results (0 = normal; 1 = hypertrophy; 2 = having ST-T wave abnormality)\n",
    "\n",
    "8. *thalachh* - maximum heart rate achieved\n",
    "\n",
    "9. *exng* - exercise induced angina (0 = no; 1 = yes)\n",
    "\n",
    "10. *oldpeak* - ST depression induced by exercise relative to rest\n",
    "\n",
    "11. *slp* - the slope of the peak exercise ST segment (0 = downsloping; 1 = flat; 2 = upsloping)\n",
    "\n",
    "12. *caa* - number of major vessels (0-4) colored by flourosopy\n",
    "\n",
    "13. *thall* - thallium stress test (1 = fixed defect; 2 = reversable defect; 3 = normal)\n",
    "\n",
    "14. **output** - 0 = less chance of heart attack; 1 = more chance of heart attack"
   ]
  },
  {
   "cell_type": "markdown",
   "id": "17697e6b",
   "metadata": {},
   "source": [
    "## First look at the data"
   ]
  },
  {
   "cell_type": "markdown",
   "id": "45c3e722",
   "metadata": {},
   "source": [
    "First of all, let's import the libraries we'll need"
   ]
  },
  {
   "cell_type": "code",
   "execution_count": 756,
   "id": "f4477d0e",
   "metadata": {},
   "outputs": [],
   "source": [
    "import pandas as pd\n",
    "import numpy as np\n",
    "import seaborn as sns\n",
    "import matplotlib.pyplot as plt\n",
    "from sklearn.impute import KNNImputer\n",
    "from sklearn.ensemble import RandomForestClassifier\n",
    "from sklearn.model_selection import train_test_split\n",
    "from sklearn.model_selection import cross_val_score\n",
    "from sklearn.preprocessing import StandardScaler\n",
    "from sklearn.model_selection import cross_val_score\n",
    "from sklearn.model_selection import RandomizedSearchCV\n",
    "from sklearn.model_selection import RepeatedKFold\n",
    "from sklearn.linear_model import LogisticRegression\n",
    "from scipy.stats import uniform\n",
    "from scipy.stats import loguniform\n",
    "from sklearn.svm import SVC\n",
    "from sklearn.ensemble import RandomForestClassifier\n",
    "from sklearn.metrics import f1_score, recall_score, precision_score, accuracy_score, roc_auc_score, roc_curve, confusion_matrix\n",
    "from catboost import CatBoostClassifier"
   ]
  },
  {
   "cell_type": "markdown",
   "id": "9f6a214b",
   "metadata": {},
   "source": [
    "Now we can upload the dataset and have a look at it."
   ]
  },
  {
   "cell_type": "code",
   "execution_count": 125,
   "id": "b3b3442e",
   "metadata": {},
   "outputs": [],
   "source": [
    "df = pd.read_csv('heart.csv')"
   ]
  },
  {
   "cell_type": "code",
   "execution_count": 126,
   "id": "9ff4fb15",
   "metadata": {},
   "outputs": [
    {
     "data": {
      "text/html": [
       "<div>\n",
       "<style scoped>\n",
       "    .dataframe tbody tr th:only-of-type {\n",
       "        vertical-align: middle;\n",
       "    }\n",
       "\n",
       "    .dataframe tbody tr th {\n",
       "        vertical-align: top;\n",
       "    }\n",
       "\n",
       "    .dataframe thead th {\n",
       "        text-align: right;\n",
       "    }\n",
       "</style>\n",
       "<table border=\"1\" class=\"dataframe\">\n",
       "  <thead>\n",
       "    <tr style=\"text-align: right;\">\n",
       "      <th></th>\n",
       "      <th>age</th>\n",
       "      <th>sex</th>\n",
       "      <th>cp</th>\n",
       "      <th>trtbps</th>\n",
       "      <th>chol</th>\n",
       "      <th>fbs</th>\n",
       "      <th>restecg</th>\n",
       "      <th>thalachh</th>\n",
       "      <th>exng</th>\n",
       "      <th>oldpeak</th>\n",
       "      <th>slp</th>\n",
       "      <th>caa</th>\n",
       "      <th>thall</th>\n",
       "      <th>output</th>\n",
       "    </tr>\n",
       "  </thead>\n",
       "  <tbody>\n",
       "    <tr>\n",
       "      <th>0</th>\n",
       "      <td>63</td>\n",
       "      <td>1</td>\n",
       "      <td>3</td>\n",
       "      <td>145</td>\n",
       "      <td>233</td>\n",
       "      <td>1</td>\n",
       "      <td>0</td>\n",
       "      <td>150</td>\n",
       "      <td>0</td>\n",
       "      <td>2.3</td>\n",
       "      <td>0</td>\n",
       "      <td>0</td>\n",
       "      <td>1</td>\n",
       "      <td>1</td>\n",
       "    </tr>\n",
       "    <tr>\n",
       "      <th>1</th>\n",
       "      <td>37</td>\n",
       "      <td>1</td>\n",
       "      <td>2</td>\n",
       "      <td>130</td>\n",
       "      <td>250</td>\n",
       "      <td>0</td>\n",
       "      <td>1</td>\n",
       "      <td>187</td>\n",
       "      <td>0</td>\n",
       "      <td>3.5</td>\n",
       "      <td>0</td>\n",
       "      <td>0</td>\n",
       "      <td>2</td>\n",
       "      <td>1</td>\n",
       "    </tr>\n",
       "    <tr>\n",
       "      <th>2</th>\n",
       "      <td>41</td>\n",
       "      <td>0</td>\n",
       "      <td>1</td>\n",
       "      <td>130</td>\n",
       "      <td>204</td>\n",
       "      <td>0</td>\n",
       "      <td>0</td>\n",
       "      <td>172</td>\n",
       "      <td>0</td>\n",
       "      <td>1.4</td>\n",
       "      <td>2</td>\n",
       "      <td>0</td>\n",
       "      <td>2</td>\n",
       "      <td>1</td>\n",
       "    </tr>\n",
       "    <tr>\n",
       "      <th>3</th>\n",
       "      <td>56</td>\n",
       "      <td>1</td>\n",
       "      <td>1</td>\n",
       "      <td>120</td>\n",
       "      <td>236</td>\n",
       "      <td>0</td>\n",
       "      <td>1</td>\n",
       "      <td>178</td>\n",
       "      <td>0</td>\n",
       "      <td>0.8</td>\n",
       "      <td>2</td>\n",
       "      <td>0</td>\n",
       "      <td>2</td>\n",
       "      <td>1</td>\n",
       "    </tr>\n",
       "    <tr>\n",
       "      <th>4</th>\n",
       "      <td>57</td>\n",
       "      <td>0</td>\n",
       "      <td>0</td>\n",
       "      <td>120</td>\n",
       "      <td>354</td>\n",
       "      <td>0</td>\n",
       "      <td>1</td>\n",
       "      <td>163</td>\n",
       "      <td>1</td>\n",
       "      <td>0.6</td>\n",
       "      <td>2</td>\n",
       "      <td>0</td>\n",
       "      <td>2</td>\n",
       "      <td>1</td>\n",
       "    </tr>\n",
       "  </tbody>\n",
       "</table>\n",
       "</div>"
      ],
      "text/plain": [
       "   age  sex  cp  trtbps  chol  fbs  restecg  thalachh  exng  oldpeak  slp  \\\n",
       "0   63    1   3     145   233    1        0       150     0      2.3    0   \n",
       "1   37    1   2     130   250    0        1       187     0      3.5    0   \n",
       "2   41    0   1     130   204    0        0       172     0      1.4    2   \n",
       "3   56    1   1     120   236    0        1       178     0      0.8    2   \n",
       "4   57    0   0     120   354    0        1       163     1      0.6    2   \n",
       "\n",
       "   caa  thall  output  \n",
       "0    0      1       1  \n",
       "1    0      2       1  \n",
       "2    0      2       1  \n",
       "3    0      2       1  \n",
       "4    0      2       1  "
      ]
     },
     "execution_count": 126,
     "metadata": {},
     "output_type": "execute_result"
    }
   ],
   "source": [
    "df.head()"
   ]
  },
  {
   "cell_type": "code",
   "execution_count": 127,
   "id": "9f0d9d1a",
   "metadata": {},
   "outputs": [
    {
     "name": "stdout",
     "output_type": "stream",
     "text": [
      "<class 'pandas.core.frame.DataFrame'>\n",
      "RangeIndex: 303 entries, 0 to 302\n",
      "Data columns (total 14 columns):\n",
      " #   Column    Non-Null Count  Dtype  \n",
      "---  ------    --------------  -----  \n",
      " 0   age       303 non-null    int64  \n",
      " 1   sex       303 non-null    int64  \n",
      " 2   cp        303 non-null    int64  \n",
      " 3   trtbps    303 non-null    int64  \n",
      " 4   chol      303 non-null    int64  \n",
      " 5   fbs       303 non-null    int64  \n",
      " 6   restecg   303 non-null    int64  \n",
      " 7   thalachh  303 non-null    int64  \n",
      " 8   exng      303 non-null    int64  \n",
      " 9   oldpeak   303 non-null    float64\n",
      " 10  slp       303 non-null    int64  \n",
      " 11  caa       303 non-null    int64  \n",
      " 12  thall     303 non-null    int64  \n",
      " 13  output    303 non-null    int64  \n",
      "dtypes: float64(1), int64(13)\n",
      "memory usage: 33.3 KB\n"
     ]
    }
   ],
   "source": [
    "df.info()"
   ]
  },
  {
   "cell_type": "markdown",
   "id": "df800fbb",
   "metadata": {},
   "source": [
    "1. The dataset includes information about 303 patients.\n",
    "2. There are 13 features. Even though 12 of them are integer type, only 6 are really numerical, the rest are categorical.\n",
    "3. The target is *output*. 0 is low risk patient, 1 is high risk patient.\n",
    "4. There are no missing values."
   ]
  },
  {
   "cell_type": "markdown",
   "id": "6a6b4ce5",
   "metadata": {},
   "source": [
    "## EDA"
   ]
  },
  {
   "cell_type": "markdown",
   "id": "9a5f8d7c",
   "metadata": {},
   "source": [
    "Before we go to the modeling part we have to get a closer look at our data to get insights into the problem."
   ]
  },
  {
   "cell_type": "markdown",
   "id": "e732107c",
   "metadata": {},
   "source": [
    "### Distribtuions"
   ]
  },
  {
   "cell_type": "markdown",
   "id": "2e709db7",
   "metadata": {},
   "source": [
    "In this section, we will get an idea about our patients by considering all the features separately"
   ]
  },
  {
   "cell_type": "markdown",
   "id": "1e0ae3fb",
   "metadata": {},
   "source": [
    "#### Age"
   ]
  },
  {
   "cell_type": "code",
   "execution_count": 128,
   "id": "4c120372",
   "metadata": {
    "scrolled": true
   },
   "outputs": [
    {
     "data": {
      "image/png": "[encoded data removed]",
      "text/plain": [
       "<Figure size 432x288 with 1 Axes>"
      ]
     },
     "metadata": {
      "needs_background": "light"
     },
     "output_type": "display_data"
    }
   ],
   "source": [
    "sns.histplot(df.age, discrete=True)\n",
    "plt.title('Age distribution of the patients')\n",
    "plt.show()"
   ]
  },
  {
   "cell_type": "markdown",
   "id": "29270dbc",
   "metadata": {},
   "source": [
    "The dataset contains information about older patients, which is to be expected. The majority of the patients are older than 40. The distribution tends to be normal distribution. The peak is at 57-58 years old."
   ]
  },
  {
   "cell_type": "markdown",
   "id": "70435ea5",
   "metadata": {},
   "source": [
    "#### Gender"
   ]
  },
  {
   "cell_type": "code",
   "execution_count": 129,
   "id": "353a6514",
   "metadata": {},
   "outputs": [
    {
     "data": {
      "text/html": [
       "<div>\n",
       "<style scoped>\n",
       "    .dataframe tbody tr th:only-of-type {\n",
       "        vertical-align: middle;\n",
       "    }\n",
       "\n",
       "    .dataframe tbody tr th {\n",
       "        vertical-align: top;\n",
       "    }\n",
       "\n",
       "    .dataframe thead th {\n",
       "        text-align: right;\n",
       "    }\n",
       "</style>\n",
       "<table border=\"1\" class=\"dataframe\">\n",
       "  <thead>\n",
       "    <tr style=\"text-align: right;\">\n",
       "      <th></th>\n",
       "      <th>sex</th>\n",
       "    </tr>\n",
       "  </thead>\n",
       "  <tbody>\n",
       "    <tr>\n",
       "      <th>1</th>\n",
       "      <td>207</td>\n",
       "    </tr>\n",
       "    <tr>\n",
       "      <th>0</th>\n",
       "      <td>96</td>\n",
       "    </tr>\n",
       "  </tbody>\n",
       "</table>\n",
       "</div>"
      ],
      "text/plain": [
       "   sex\n",
       "1  207\n",
       "0   96"
      ]
     },
     "execution_count": 129,
     "metadata": {},
     "output_type": "execute_result"
    }
   ],
   "source": [
    "df.sex.value_counts().to_frame()"
   ]
  },
  {
   "cell_type": "markdown",
   "id": "fe007361",
   "metadata": {},
   "source": [
    "We have 2 times more males than females."
   ]
  },
  {
   "cell_type": "markdown",
   "id": "66bfacd4",
   "metadata": {},
   "source": [
    "#### Chest pain type"
   ]
  },
  {
   "cell_type": "code",
   "execution_count": 130,
   "id": "6c0c2389",
   "metadata": {},
   "outputs": [
    {
     "data": {
      "image/png": "[encoded data removed]",
      "text/plain": [
       "<Figure size 432x288 with 1 Axes>"
      ]
     },
     "metadata": {
      "needs_background": "light"
     },
     "output_type": "display_data"
    }
   ],
   "source": [
    "sns.histplot(df.cp)\n",
    "plt.title('Chest pain type distribution of the patients')\n",
    "plt.show()"
   ]
  },
  {
   "cell_type": "markdown",
   "id": "87fa144e",
   "metadata": {},
   "source": [
    "Almost a half of the patients have no pain in the chest."
   ]
  },
  {
   "cell_type": "markdown",
   "id": "7e61fb7f",
   "metadata": {},
   "source": [
    "#### Resting blood pressure"
   ]
  },
  {
   "cell_type": "code",
   "execution_count": 131,
   "id": "ff6b8e69",
   "metadata": {},
   "outputs": [
    {
     "data": {
      "image/png": "[encoded data removed]",
      "text/plain": [
       "<Figure size 432x288 with 1 Axes>"
      ]
     },
     "metadata": {
      "needs_background": "light"
     },
     "output_type": "display_data"
    }
   ],
   "source": [
    "sns.histplot(df.trtbps)\n",
    "plt.title('Blood pressure distribution')\n",
    "plt.show()"
   ]
  },
  {
   "cell_type": "markdown",
   "id": "92292257",
   "metadata": {},
   "source": [
    "The distribution has a peak at a value of approx. 135. The highest blood pressure is about 200. \n",
    "\n",
    "According to the [European Society of Cardiology](https://www.escardio.org/), the following classification for blood pressure is applied:\n",
    "\n",
    "| Category | Blood pressure |\n",
    "| :------- | :------------- |\n",
    "| Optimal | < 120 |\t\n",
    "| Normal | 120–129 |\t\n",
    "| High normal |\t130–139 |\t\n",
    "| Grade 1 hypertension | 140–159 |\t\n",
    "| Grade 2 hypertension | 160–179 |\n",
    "| Grade 3 hypertension | ≥ 180 |"
   ]
  },
  {
   "cell_type": "markdown",
   "id": "6d6b7cae",
   "metadata": {},
   "source": [
    "#### Cholesterol"
   ]
  },
  {
   "cell_type": "code",
   "execution_count": 132,
   "id": "b3062581",
   "metadata": {},
   "outputs": [
    {
     "data": {
      "image/png": "[encoded data removed]",
      "text/plain": [
       "<Figure size 432x288 with 1 Axes>"
      ]
     },
     "metadata": {
      "needs_background": "light"
     },
     "output_type": "display_data"
    }
   ],
   "source": [
    "sns.histplot(df.chol)\n",
    "plt.title('Cholesterol level distribution')\n",
    "plt.show()"
   ]
  },
  {
   "cell_type": "markdown",
   "id": "77097d53",
   "metadata": {},
   "source": [
    "The distribution has a normal shape, but it's skewed to the right because of the outliers. Some patients have an extremely high level of cholesterol."
   ]
  },
  {
   "cell_type": "markdown",
   "id": "dbac6c9d",
   "metadata": {},
   "source": [
    "Let's have a look at the boxplot."
   ]
  },
  {
   "cell_type": "code",
   "execution_count": 133,
   "id": "34816233",
   "metadata": {},
   "outputs": [
    {
     "data": {
      "image/png": "[encoded data removed]",
      "text/plain": [
       "<Figure size 432x288 with 1 Axes>"
      ]
     },
     "metadata": {
      "needs_background": "light"
     },
     "output_type": "display_data"
    }
   ],
   "source": [
    "sns.boxplot(data=df, x='chol')\n",
    "plt.title('Boxplot for the cholesterol level')\n",
    "plt.show()"
   ]
  },
  {
   "cell_type": "markdown",
   "id": "c3512d59",
   "metadata": {},
   "source": [
    "Yes, the cholesterol is higher than approx. 360 can be considered as outliers. But we can not delete them, because it's realistic values."
   ]
  },
  {
   "cell_type": "markdown",
   "id": "235a9c83",
   "metadata": {},
   "source": [
    "The following interpretation of cholesterol level is usually used (this information was taken from [wikipedia](https://en.wikipedia.org/wiki/Hypercholesterolemia):\n",
    "\n",
    "| Cholesterol, mg/dl | Interpretation |\n",
    "| :----------------- | :------------- |\n",
    "| < 200 | Desirable |\n",
    "| 200-239 | Borderline |\n",
    "| > 240 | High |"
   ]
  },
  {
   "cell_type": "markdown",
   "id": "4bfffd7a",
   "metadata": {},
   "source": [
    "#### Fasting blood sugar"
   ]
  },
  {
   "cell_type": "markdown",
   "id": "58145257",
   "metadata": {},
   "source": [
    "Reminder: 0 means less or equal to 120 mg/dl (which is good), 1 means higher than 120 mg/dl."
   ]
  },
  {
   "cell_type": "code",
   "execution_count": 134,
   "id": "efde2fce",
   "metadata": {},
   "outputs": [
    {
     "data": {
      "text/html": [
       "<div>\n",
       "<style scoped>\n",
       "    .dataframe tbody tr th:only-of-type {\n",
       "        vertical-align: middle;\n",
       "    }\n",
       "\n",
       "    .dataframe tbody tr th {\n",
       "        vertical-align: top;\n",
       "    }\n",
       "\n",
       "    .dataframe thead th {\n",
       "        text-align: right;\n",
       "    }\n",
       "</style>\n",
       "<table border=\"1\" class=\"dataframe\">\n",
       "  <thead>\n",
       "    <tr style=\"text-align: right;\">\n",
       "      <th></th>\n",
       "      <th>fbs</th>\n",
       "    </tr>\n",
       "  </thead>\n",
       "  <tbody>\n",
       "    <tr>\n",
       "      <th>0</th>\n",
       "      <td>258</td>\n",
       "    </tr>\n",
       "    <tr>\n",
       "      <th>1</th>\n",
       "      <td>45</td>\n",
       "    </tr>\n",
       "  </tbody>\n",
       "</table>\n",
       "</div>"
      ],
      "text/plain": [
       "   fbs\n",
       "0  258\n",
       "1   45"
      ]
     },
     "execution_count": 134,
     "metadata": {},
     "output_type": "execute_result"
    }
   ],
   "source": [
    "df.fbs.value_counts().to_frame()"
   ]
  },
  {
   "cell_type": "markdown",
   "id": "a8fc29c1",
   "metadata": {},
   "source": [
    "The majority of the patients don't have serious sugar problems."
   ]
  },
  {
   "cell_type": "markdown",
   "id": "2a1551b1",
   "metadata": {},
   "source": [
    "#### Resting electrocardiographic results"
   ]
  },
  {
   "cell_type": "code",
   "execution_count": 135,
   "id": "f51022ab",
   "metadata": {},
   "outputs": [
    {
     "data": {
      "image/png": "[encoded data removed]",
      "text/plain": [
       "<Figure size 432x288 with 1 Axes>"
      ]
     },
     "metadata": {
      "needs_background": "light"
     },
     "output_type": "display_data"
    }
   ],
   "source": [
    "sns.histplot(df.restecg, bins=3)\n",
    "plt.title('Electrocardigraphic results distribution')\n",
    "plt.show()"
   ]
  },
  {
   "cell_type": "markdown",
   "id": "cc518b70",
   "metadata": {},
   "source": [
    "About 50% of the patients have hypertrophy. Only a few of the patients have ST-T wave abnormality. The rest of them have normal results. "
   ]
  },
  {
   "cell_type": "markdown",
   "id": "6c6b8d7e",
   "metadata": {},
   "source": [
    "#### Maximum heart rate achieved"
   ]
  },
  {
   "cell_type": "code",
   "execution_count": 136,
   "id": "cbfaf711",
   "metadata": {},
   "outputs": [
    {
     "data": {
      "image/png": "[encoded data removed]",
      "text/plain": [
       "<Figure size 432x288 with 1 Axes>"
      ]
     },
     "metadata": {
      "needs_background": "light"
     },
     "output_type": "display_data"
    }
   ],
   "source": [
    "sns.histplot(df.thalachh)\n",
    "plt.title('Maximum heart rate achieved distribution')\n",
    "plt.show()"
   ]
  },
  {
   "cell_type": "markdown",
   "id": "c3cb79c7",
   "metadata": {},
   "source": [
    "The distribtuion looks similar to normal distrubtion. It's skewed a bit to the left."
   ]
  },
  {
   "cell_type": "markdown",
   "id": "f8026a10",
   "metadata": {},
   "source": [
    "The maximum heart rate (MHR) is the highest heart rate an individual can achieve without severe problems through exercise stress and generally decreases with age. It can be estimated using Tanaka's formula (men and women over age 40): \n",
    "\n",
    "$$ MHR = 208 - (0.7 \\times age)$$. "
   ]
  },
  {
   "cell_type": "markdown",
   "id": "4a45cdd7",
   "metadata": {},
   "source": [
    "Let's have a look at how many patients have their maximum heart rate achieved is higher than the estimated one."
   ]
  },
  {
   "cell_type": "code",
   "execution_count": 137,
   "id": "077c761e",
   "metadata": {},
   "outputs": [
    {
     "data": {
      "image/png": "[encoded data removed]",
      "text/plain": [
       "<Figure size 432x288 with 1 Axes>"
      ]
     },
     "metadata": {
      "needs_background": "light"
     },
     "output_type": "display_data"
    }
   ],
   "source": [
    "sns.histplot(df.thalachh - (208 - (0.7 * df.age)))\n",
    "plt.title('Diffirenece between measured and estimated MHR distribution')\n",
    "plt.show()"
   ]
  },
  {
   "cell_type": "markdown",
   "id": "2187bc95",
   "metadata": {},
   "source": [
    "The majority of the patients have measured MHR lower than estimated. "
   ]
  },
  {
   "cell_type": "markdown",
   "id": "45e71ce0",
   "metadata": {},
   "source": [
    "#### Exercise-induced angina"
   ]
  },
  {
   "cell_type": "code",
   "execution_count": 138,
   "id": "aebdb1a4",
   "metadata": {},
   "outputs": [
    {
     "data": {
      "text/html": [
       "<div>\n",
       "<style scoped>\n",
       "    .dataframe tbody tr th:only-of-type {\n",
       "        vertical-align: middle;\n",
       "    }\n",
       "\n",
       "    .dataframe tbody tr th {\n",
       "        vertical-align: top;\n",
       "    }\n",
       "\n",
       "    .dataframe thead th {\n",
       "        text-align: right;\n",
       "    }\n",
       "</style>\n",
       "<table border=\"1\" class=\"dataframe\">\n",
       "  <thead>\n",
       "    <tr style=\"text-align: right;\">\n",
       "      <th></th>\n",
       "      <th>exng</th>\n",
       "    </tr>\n",
       "  </thead>\n",
       "  <tbody>\n",
       "    <tr>\n",
       "      <th>0</th>\n",
       "      <td>204</td>\n",
       "    </tr>\n",
       "    <tr>\n",
       "      <th>1</th>\n",
       "      <td>99</td>\n",
       "    </tr>\n",
       "  </tbody>\n",
       "</table>\n",
       "</div>"
      ],
      "text/plain": [
       "   exng\n",
       "0   204\n",
       "1    99"
      ]
     },
     "execution_count": 138,
     "metadata": {},
     "output_type": "execute_result"
    }
   ],
   "source": [
    "df.exng.value_counts().to_frame()"
   ]
  },
  {
   "cell_type": "markdown",
   "id": "9ed2fd85",
   "metadata": {},
   "source": [
    "Almost one-third of the patients have exercise-induced angina. "
   ]
  },
  {
   "cell_type": "markdown",
   "id": "255e614e",
   "metadata": {},
   "source": [
    "#### ST depression induced by exercise relative to rest"
   ]
  },
  {
   "cell_type": "code",
   "execution_count": 139,
   "id": "7ee47798",
   "metadata": {
    "scrolled": true
   },
   "outputs": [
    {
     "data": {
      "image/png": "[encoded data removed]",
      "text/plain": [
       "<Figure size 432x288 with 1 Axes>"
      ]
     },
     "metadata": {
      "needs_background": "light"
     },
     "output_type": "display_data"
    }
   ],
   "source": [
    "sns.histplot(df.oldpeak)\n",
    "plt.title('ST depression induced by exercise relative to rest distribution')\n",
    "plt.show()"
   ]
  },
  {
   "cell_type": "markdown",
   "id": "9c902aad",
   "metadata": {},
   "source": [
    "The narrow peak is at 0. The distribution is skewed to the right."
   ]
  },
  {
   "cell_type": "markdown",
   "id": "ecb0eef6",
   "metadata": {},
   "source": [
    "#### The slope of the peak exercise ST segment"
   ]
  },
  {
   "cell_type": "code",
   "execution_count": 140,
   "id": "3c4b2b8b",
   "metadata": {},
   "outputs": [
    {
     "data": {
      "image/png": "[encoded data removed]",
      "text/plain": [
       "<Figure size 432x288 with 1 Axes>"
      ]
     },
     "metadata": {
      "needs_background": "light"
     },
     "output_type": "display_data"
    }
   ],
   "source": [
    "sns.histplot(df.slp, discrete=True)\n",
    "plt.title('The slope of the peak exercise ST segment distribution')\n",
    "plt.show()"
   ]
  },
  {
   "cell_type": "markdown",
   "id": "7f165633",
   "metadata": {},
   "source": [
    "#### Number of major vessels"
   ]
  },
  {
   "cell_type": "code",
   "execution_count": 141,
   "id": "7bee1c04",
   "metadata": {},
   "outputs": [
    {
     "data": {
      "image/png": "[encoded data removed]",
      "text/plain": [
       "<Figure size 432x288 with 1 Axes>"
      ]
     },
     "metadata": {
      "needs_background": "light"
     },
     "output_type": "display_data"
    }
   ],
   "source": [
    "sns.histplot(df.caa, discrete=True)\n",
    "plt.title('Number of major vessels distribution')\n",
    "plt.show()"
   ]
  },
  {
   "cell_type": "markdown",
   "id": "fd58e6c8",
   "metadata": {},
   "source": [
    "More than a half of the patients do not have major vessels."
   ]
  },
  {
   "cell_type": "markdown",
   "id": "896f833a",
   "metadata": {},
   "source": [
    "#### Thallium stress test"
   ]
  },
  {
   "cell_type": "code",
   "execution_count": 142,
   "id": "1889b6e5",
   "metadata": {},
   "outputs": [
    {
     "data": {
      "image/png": "[encoded data removed]",
      "text/plain": [
       "<Figure size 432x288 with 1 Axes>"
      ]
     },
     "metadata": {
      "needs_background": "light"
     },
     "output_type": "display_data"
    }
   ],
   "source": [
    "sns.histplot(df.thall, discrete=True)\n",
    "plt.title('Thallium stress test results distribution')\n",
    "plt.show()"
   ]
  },
  {
   "cell_type": "markdown",
   "id": "1ca4ab33",
   "metadata": {},
   "source": [
    "More than 50% of the patients have normal results. One weird thing is observed. We have patients that have \"0\", but there is no information about this label in the feature description. Let's have a look at these rows."
   ]
  },
  {
   "cell_type": "code",
   "execution_count": 143,
   "id": "3a390215",
   "metadata": {},
   "outputs": [
    {
     "data": {
      "text/html": [
       "<div>\n",
       "<style scoped>\n",
       "    .dataframe tbody tr th:only-of-type {\n",
       "        vertical-align: middle;\n",
       "    }\n",
       "\n",
       "    .dataframe tbody tr th {\n",
       "        vertical-align: top;\n",
       "    }\n",
       "\n",
       "    .dataframe thead th {\n",
       "        text-align: right;\n",
       "    }\n",
       "</style>\n",
       "<table border=\"1\" class=\"dataframe\">\n",
       "  <thead>\n",
       "    <tr style=\"text-align: right;\">\n",
       "      <th></th>\n",
       "      <th>age</th>\n",
       "      <th>sex</th>\n",
       "      <th>cp</th>\n",
       "      <th>trtbps</th>\n",
       "      <th>chol</th>\n",
       "      <th>fbs</th>\n",
       "      <th>restecg</th>\n",
       "      <th>thalachh</th>\n",
       "      <th>exng</th>\n",
       "      <th>oldpeak</th>\n",
       "      <th>slp</th>\n",
       "      <th>caa</th>\n",
       "      <th>thall</th>\n",
       "      <th>output</th>\n",
       "    </tr>\n",
       "  </thead>\n",
       "  <tbody>\n",
       "    <tr>\n",
       "      <th>48</th>\n",
       "      <td>53</td>\n",
       "      <td>0</td>\n",
       "      <td>2</td>\n",
       "      <td>128</td>\n",
       "      <td>216</td>\n",
       "      <td>0</td>\n",
       "      <td>0</td>\n",
       "      <td>115</td>\n",
       "      <td>0</td>\n",
       "      <td>0.0</td>\n",
       "      <td>2</td>\n",
       "      <td>0</td>\n",
       "      <td>0</td>\n",
       "      <td>1</td>\n",
       "    </tr>\n",
       "    <tr>\n",
       "      <th>281</th>\n",
       "      <td>52</td>\n",
       "      <td>1</td>\n",
       "      <td>0</td>\n",
       "      <td>128</td>\n",
       "      <td>204</td>\n",
       "      <td>1</td>\n",
       "      <td>1</td>\n",
       "      <td>156</td>\n",
       "      <td>1</td>\n",
       "      <td>1.0</td>\n",
       "      <td>1</td>\n",
       "      <td>0</td>\n",
       "      <td>0</td>\n",
       "      <td>0</td>\n",
       "    </tr>\n",
       "  </tbody>\n",
       "</table>\n",
       "</div>"
      ],
      "text/plain": [
       "     age  sex  cp  trtbps  chol  fbs  restecg  thalachh  exng  oldpeak  slp  \\\n",
       "48    53    0   2     128   216    0        0       115     0      0.0    2   \n",
       "281   52    1   0     128   204    1        1       156     1      1.0    1   \n",
       "\n",
       "     caa  thall  output  \n",
       "48     0      0       1  \n",
       "281    0      0       0  "
      ]
     },
     "execution_count": 143,
     "metadata": {},
     "output_type": "execute_result"
    }
   ],
   "source": [
    "df.query('thall == 0')"
   ]
  },
  {
   "cell_type": "markdown",
   "id": "bde537e6",
   "metadata": {},
   "source": [
    "There is nothing strange. We can consider these cells as missing values. Let's fill them by using KNN imputer."
   ]
  },
  {
   "cell_type": "code",
   "execution_count": 144,
   "id": "5faa10ce",
   "metadata": {},
   "outputs": [],
   "source": [
    "df['thall'] = df['thall'].replace({0 : np.nan})"
   ]
  },
  {
   "cell_type": "code",
   "execution_count": 145,
   "id": "66a5f26e",
   "metadata": {},
   "outputs": [],
   "source": [
    "imputer = KNNImputer()\n",
    "df = pd.DataFrame(imputer.fit_transform(df), columns=df.columns)\n",
    "df['thall'] = df['thall'].round()"
   ]
  },
  {
   "cell_type": "markdown",
   "id": "c4886ddb",
   "metadata": {},
   "source": [
    "#### The chance of heart attack"
   ]
  },
  {
   "cell_type": "code",
   "execution_count": 146,
   "id": "5d020c22",
   "metadata": {},
   "outputs": [
    {
     "data": {
      "text/html": [
       "<div>\n",
       "<style scoped>\n",
       "    .dataframe tbody tr th:only-of-type {\n",
       "        vertical-align: middle;\n",
       "    }\n",
       "\n",
       "    .dataframe tbody tr th {\n",
       "        vertical-align: top;\n",
       "    }\n",
       "\n",
       "    .dataframe thead th {\n",
       "        text-align: right;\n",
       "    }\n",
       "</style>\n",
       "<table border=\"1\" class=\"dataframe\">\n",
       "  <thead>\n",
       "    <tr style=\"text-align: right;\">\n",
       "      <th></th>\n",
       "      <th>output</th>\n",
       "    </tr>\n",
       "  </thead>\n",
       "  <tbody>\n",
       "    <tr>\n",
       "      <th>1.0</th>\n",
       "      <td>165</td>\n",
       "    </tr>\n",
       "    <tr>\n",
       "      <th>0.0</th>\n",
       "      <td>138</td>\n",
       "    </tr>\n",
       "  </tbody>\n",
       "</table>\n",
       "</div>"
      ],
      "text/plain": [
       "     output\n",
       "1.0     165\n",
       "0.0     138"
      ]
     },
     "execution_count": 146,
     "metadata": {},
     "output_type": "execute_result"
    }
   ],
   "source": [
    "df.output.value_counts().to_frame()"
   ]
  },
  {
   "cell_type": "code",
   "execution_count": 147,
   "id": "ab90361f",
   "metadata": {},
   "outputs": [
    {
     "data": {
      "text/html": [
       "<div>\n",
       "<style scoped>\n",
       "    .dataframe tbody tr th:only-of-type {\n",
       "        vertical-align: middle;\n",
       "    }\n",
       "\n",
       "    .dataframe tbody tr th {\n",
       "        vertical-align: top;\n",
       "    }\n",
       "\n",
       "    .dataframe thead th {\n",
       "        text-align: right;\n",
       "    }\n",
       "</style>\n",
       "<table border=\"1\" class=\"dataframe\">\n",
       "  <thead>\n",
       "    <tr style=\"text-align: right;\">\n",
       "      <th></th>\n",
       "      <th>output</th>\n",
       "    </tr>\n",
       "  </thead>\n",
       "  <tbody>\n",
       "    <tr>\n",
       "      <th>1.0</th>\n",
       "      <td>0.544554</td>\n",
       "    </tr>\n",
       "    <tr>\n",
       "      <th>0.0</th>\n",
       "      <td>0.455446</td>\n",
       "    </tr>\n",
       "  </tbody>\n",
       "</table>\n",
       "</div>"
      ],
      "text/plain": [
       "       output\n",
       "1.0  0.544554\n",
       "0.0  0.455446"
      ]
     },
     "execution_count": 147,
     "metadata": {},
     "output_type": "execute_result"
    }
   ],
   "source": [
    "df.output.value_counts(normalize=True).to_frame()"
   ]
  },
  {
   "cell_type": "markdown",
   "id": "c6e612c7",
   "metadata": {},
   "source": [
    "54.5% of the patients have a high risk of heart attack, 45.5% - low risk of a heart attack. The classes are relatively balanced. So, in the future, we won't have to worry about the disbalance."
   ]
  },
  {
   "cell_type": "markdown",
   "id": "eb6ac6c5",
   "metadata": {},
   "source": [
    "### Influence on the target"
   ]
  },
  {
   "cell_type": "markdown",
   "id": "19eaaf42",
   "metadata": {},
   "source": [
    "In this section, we'll consider how the features affects the target."
   ]
  },
  {
   "cell_type": "markdown",
   "id": "c87ee9b3",
   "metadata": {},
   "source": [
    "Since the target is a categorical variable, it doesn't make any sense to apply correlation analysis. We will check the influence of the features on the target by comparing distributions for high risk of heart attack (labeled \"1\") and for low risk of heart attack (labeled \"0\").  "
   ]
  },
  {
   "cell_type": "markdown",
   "id": "c8e36fbd",
   "metadata": {},
   "source": [
    "#### Numerical variables"
   ]
  },
  {
   "cell_type": "markdown",
   "id": "3220b83b",
   "metadata": {},
   "source": [
    "Let's build a distribution for each of the numerical values depending on the target value. "
   ]
  },
  {
   "cell_type": "code",
   "execution_count": 148,
   "id": "54f3ac60",
   "metadata": {},
   "outputs": [
    {
     "data": {
      "image/png": "[encoded data removed]",
      "text/plain": [
       "<Figure size 1080x1152 with 6 Axes>"
      ]
     },
     "metadata": {
      "needs_background": "light"
     },
     "output_type": "display_data"
    }
   ],
   "source": [
    "_, axes = plt.subplots(3, 2, figsize=(15,16))\n",
    "sns.kdeplot(data=df, x='age', hue='output', ax=axes[0, 0])\n",
    "axes[0, 0].set_title('Age distribution ')\n",
    "sns.kdeplot(data=df, x='trtbps', hue='output', ax=axes[0, 1])\n",
    "axes[0, 1].set_title('Resting blood pressure distribution ')\n",
    "sns.kdeplot(data=df, x='chol', hue='output', ax=axes[1, 0])\n",
    "axes[1, 0].set_title('Cholesterol distribution ')\n",
    "sns.kdeplot(data=df, x='thalachh', hue='output', ax=axes[1, 1])\n",
    "axes[1, 1].set_title('Maximum heart rate achieved distribution ')  \n",
    "sns.kdeplot(data=df, x='oldpeak', hue='output', ax=axes[2, 0])\n",
    "axes[2, 0].set_title('ST depression induced by exercise relative to rest distribution')\n",
    "sns.kdeplot(data=df, x='caa', hue='output', ax=axes[2, 1])\n",
    "axes[2, 1].set_title('Number of major vessels distribution ')\n",
    "plt.suptitle('Distribtuions of numerical variables depending on the output value')\n",
    "plt.show()"
   ]
  },
  {
   "cell_type": "markdown",
   "id": "5aa49b21",
   "metadata": {},
   "source": [
    "- From the distributions, it can be observed that cholesterol level and blood pressure do not affect the chance of heart attack.\n",
    "- Another interesting observation is that relatively younger people more prone to have a heart attack.\n",
    "- Maximum heart rate achieved, ST depression induced by exercise relative to rest, and number of major vessels have an ifluence on the output."
   ]
  },
  {
   "cell_type": "markdown",
   "id": "1b4c74ca",
   "metadata": {},
   "source": [
    "#### Categorical variables"
   ]
  },
  {
   "cell_type": "markdown",
   "id": "805c1155",
   "metadata": {},
   "source": [
    "Since we have almost balanced classes, it will be convenient to use pie plot for comparison."
   ]
  },
  {
   "cell_type": "code",
   "execution_count": 1138,
   "id": "6df63da4",
   "metadata": {},
   "outputs": [
    {
     "data": {
      "image/png": "[encoded data removed]",
      "text/plain": [
       "<Figure size 864x360 with 2 Axes>"
      ]
     },
     "metadata": {},
     "output_type": "display_data"
    }
   ],
   "source": [
    "_, axes = plt.subplots(1, 2, figsize=(12,5))\n",
    "\n",
    "axes[0].pie(df.query('output == 0').groupby('sex')['sex'].count(), labels=['female', 'male'])\n",
    "axes[0].set_title('Low risk of a heart attack')\n",
    "axes[1].pie(df.query('output == 1').groupby('sex')['sex'].count(), labels=['female', 'male'])\n",
    "axes[1].set_title('High risk of a heart attack')\n",
    "plt.suptitle('Influence of gender on the risk of a heart attack', fontsize=15)\n",
    "plt.show()"
   ]
  },
  {
   "cell_type": "code",
   "execution_count": 150,
   "id": "44f1fc05",
   "metadata": {},
   "outputs": [
    {
     "data": {
      "text/html": [
       "<div>\n",
       "<style scoped>\n",
       "    .dataframe tbody tr th:only-of-type {\n",
       "        vertical-align: middle;\n",
       "    }\n",
       "\n",
       "    .dataframe tbody tr th {\n",
       "        vertical-align: top;\n",
       "    }\n",
       "\n",
       "    .dataframe thead th {\n",
       "        text-align: right;\n",
       "    }\n",
       "</style>\n",
       "<table border=\"1\" class=\"dataframe\">\n",
       "  <thead>\n",
       "    <tr style=\"text-align: right;\">\n",
       "      <th></th>\n",
       "      <th>output</th>\n",
       "      <th>sex</th>\n",
       "    </tr>\n",
       "  </thead>\n",
       "  <tbody>\n",
       "    <tr>\n",
       "      <th>0</th>\n",
       "      <td>0.0</td>\n",
       "      <td>0.826087</td>\n",
       "    </tr>\n",
       "    <tr>\n",
       "      <th>1</th>\n",
       "      <td>1.0</td>\n",
       "      <td>0.563636</td>\n",
       "    </tr>\n",
       "  </tbody>\n",
       "</table>\n",
       "</div>"
      ],
      "text/plain": [
       "   output       sex\n",
       "0     0.0  0.826087\n",
       "1     1.0  0.563636"
      ]
     },
     "execution_count": 150,
     "metadata": {},
     "output_type": "execute_result"
    }
   ],
   "source": [
    "df.groupby('output', as_index=False)['sex'].mean()"
   ]
  },
  {
   "cell_type": "markdown",
   "id": "06c9fe60",
   "metadata": {},
   "source": [
    "- Among low-risk patients, males account for 82.6%, while among high-risk patients they percentage is lower (56.4%). From that, we can conclude than women are more prone to heart disease."
   ]
  },
  {
   "cell_type": "markdown",
   "id": "afa6cc83",
   "metadata": {},
   "source": [
    "Let's consider chest pain type."
   ]
  },
  {
   "cell_type": "code",
   "execution_count": 1137,
   "id": "653d7501",
   "metadata": {},
   "outputs": [
    {
     "data": {
      "image/png": "[encoded data removed]",
      "text/plain": [
       "<Figure size 864x360 with 2 Axes>"
      ]
     },
     "metadata": {},
     "output_type": "display_data"
    }
   ],
   "source": [
    "_, axes = plt.subplots(1, 2, figsize=(12,5)) \n",
    "\n",
    "labels = ['asymptomatic', 'typical angina', 'atypical angina', 'non-anginal pain']\n",
    "\n",
    "axes[0].pie(df.query('output == 0').groupby('cp')['cp'].count(), labels=labels)\n",
    "axes[0].set_title('Low risk of a heart attack')\n",
    "axes[1].pie(df.query('output == 1').groupby('cp')['cp'].count(), labels=labels)\n",
    "axes[1].set_title('High risk of a heart attack')\n",
    "plt.suptitle('Influence of chest pain type on the risk of a heart attack', fontsize=15)\n",
    "plt.show()"
   ]
  },
  {
   "cell_type": "markdown",
   "id": "eb296280",
   "metadata": {},
   "source": [
    "- From these charts, we can conclude that patients with any type of chest pain are more likely to be in the risk group."
   ]
  },
  {
   "cell_type": "markdown",
   "id": "e248b49d",
   "metadata": {},
   "source": [
    "Let's move on to the blood sugar."
   ]
  },
  {
   "cell_type": "code",
   "execution_count": 1136,
   "id": "fa506530",
   "metadata": {},
   "outputs": [
    {
     "data": {
      "image/png": "[encoded data removed]",
      "text/plain": [
       "<Figure size 864x360 with 2 Axes>"
      ]
     },
     "metadata": {},
     "output_type": "display_data"
    }
   ],
   "source": [
    "_, axes = plt.subplots(1, 2, figsize=(12,5))\n",
    "labels = ['low sugar', 'high sugar']\n",
    "\n",
    "axes[0].pie(df.query('output == 0').groupby('fbs')['fbs'].count(), labels=labels)\n",
    "axes[0].set_title('Low risk of a heart attack')\n",
    "axes[1].pie(df.query('output == 1').groupby('fbs')['fbs'].count(), labels=labels)\n",
    "axes[1].set_title('High risk of a heart attack')\n",
    "plt.suptitle('Influence of fasting blood sugar on the risk of a heart attack', fontsize=15)\n",
    "plt.show()"
   ]
  },
  {
   "cell_type": "markdown",
   "id": "20fd305f",
   "metadata": {},
   "source": [
    "- Fasting blood sugar doesn't affect the output."
   ]
  },
  {
   "cell_type": "code",
   "execution_count": 1135,
   "id": "864702ce",
   "metadata": {},
   "outputs": [
    {
     "data": {
      "image/png": "[encoded data removed]",
      "text/plain": [
       "<Figure size 864x360 with 2 Axes>"
      ]
     },
     "metadata": {},
     "output_type": "display_data"
    }
   ],
   "source": [
    "_, axes = plt.subplots(1, 2, figsize=(12,5)) \n",
    "\n",
    "labels = ['normal', 'hypertrophy', 'ST-T wave abnormality']\n",
    "\n",
    "axes[0].pie(df.query('output == 0').groupby('restecg')['restecg'].count(), labels=labels)\n",
    "axes[0].set_title('Low risk of a heart attack')\n",
    "axes[1].pie(df.query('output == 1').groupby('restecg')['restecg'].count(), labels=labels)\n",
    "axes[1].set_title('High risk of a heart attack')\n",
    "plt.suptitle('Influence of electrocargographic results on the risk of a heart attack', fontsize=15)\n",
    "plt.show()"
   ]
  },
  {
   "cell_type": "markdown",
   "id": "16776e5f",
   "metadata": {},
   "source": [
    "- People with hypertrophy are more prone to a heart attack."
   ]
  },
  {
   "cell_type": "code",
   "execution_count": 1134,
   "id": "8d7ac291",
   "metadata": {},
   "outputs": [
    {
     "data": {
      "image/png": "[encoded data removed]",
      "text/plain": [
       "<Figure size 864x360 with 2 Axes>"
      ]
     },
     "metadata": {},
     "output_type": "display_data"
    }
   ],
   "source": [
    "_, axes = plt.subplots(1, 2, figsize=(12,5))\n",
    "labels = ['no exercise induced angina', 'exercise induced angina']\n",
    "\n",
    "axes[0].pie(df.query('output == 0').groupby('exng')['exng'].count(), labels=labels)\n",
    "axes[0].set_title('Low risk of a heart attack')\n",
    "axes[1].pie(df.query('output == 1').groupby('exng')['exng'].count(), labels=labels)\n",
    "axes[1].set_title('High risk of a heart attack')\n",
    "plt.suptitle('Influence of exercise induced angina on the risk of a heart attack', fontsize=15)\n",
    "plt.show()"
   ]
  },
  {
   "cell_type": "markdown",
   "id": "e0e66b8d",
   "metadata": {},
   "source": [
    "- The high risk group contains significantly fewer people with exercise induced angina."
   ]
  },
  {
   "cell_type": "code",
   "execution_count": 1131,
   "id": "2fe43305",
   "metadata": {},
   "outputs": [
    {
     "data": {
      "image/png": "[encoded data removed]",
      "text/plain": [
       "<Figure size 864x360 with 2 Axes>"
      ]
     },
     "metadata": {},
     "output_type": "display_data"
    }
   ],
   "source": [
    "_, axes = plt.subplots(1, 2, figsize=(12,5))\n",
    "labels = ['downsloping', 'flat', 'upsloping']\n",
    "\n",
    "axes[0].pie(df.query('output == 0').groupby('slp')['slp'].count(), labels=labels)\n",
    "axes[0].set_title('Low risk of a heart attack')\n",
    "axes[1].pie(df.query('output == 1').groupby('slp')['slp'].count(), labels=labels)\n",
    "axes[1].set_title('High risk of a heart attack')\n",
    "plt.suptitle('Influence of the slope of the peak exercise ST segment on the risk of a heart attack', fontsize=15)\n",
    "plt.show()"
   ]
  },
  {
   "cell_type": "markdown",
   "id": "17fdc4bf",
   "metadata": {},
   "source": [
    "- People with a positive slope have a higher chance of a heart attack. "
   ]
  },
  {
   "cell_type": "code",
   "execution_count": 1132,
   "id": "9d83f961",
   "metadata": {},
   "outputs": [
    {
     "data": {
      "image/png": "[encoded data removed]",
      "text/plain": [
       "<Figure size 864x360 with 2 Axes>"
      ]
     },
     "metadata": {},
     "output_type": "display_data"
    }
   ],
   "source": [
    "_, axes = plt.subplots(1, 2, figsize=(12,5))\n",
    "labels = ['fixed defect', 'reversable defect', 'normal']\n",
    "\n",
    "axes[0].pie(df.query('output == 0').groupby('thall')['thall'].count(), labels=labels)\n",
    "axes[0].set_title('Low risk of a heart attack')\n",
    "axes[1].pie(df.query('output == 1').groupby('thall')['thall'].count(), labels=labels)\n",
    "axes[1].set_title('High risk of a heart attack')\n",
    "plt.suptitle('Influence of the thallium stress test on the risk of a heart attack', fontsize=15)\n",
    "plt.show()"
   ]
  },
  {
   "cell_type": "markdown",
   "id": "b08f479c",
   "metadata": {},
   "source": [
    "- Thallium stress test results affect the chance to be in the risk group. People with normal results are less prone to a heart attack."
   ]
  },
  {
   "cell_type": "markdown",
   "id": "6d4e5b3c",
   "metadata": {},
   "source": [
    "Out dataset is built the way when the low categorical value means a good condition, and high categorical value means a bad condition (*exng* is equal to 0 when no angina, *restecg* is equal to 0 when normal results). Only one exception is *thall* feature. Let's change this by mapping."
   ]
  },
  {
   "cell_type": "code",
   "execution_count": 157,
   "id": "75376e50",
   "metadata": {},
   "outputs": [],
   "source": [
    "df['thall'] = df['thall'].map({3 : 0, 1 : 2, 2 : 1})"
   ]
  },
  {
   "cell_type": "markdown",
   "id": "1e3d3c77",
   "metadata": {},
   "source": [
    "Now we have the following labels:\n",
    "- 0 = normal\n",
    "- 1 = reversable defect\n",
    "- 2 = fixed defect"
   ]
  },
  {
   "cell_type": "markdown",
   "id": "bfa0acc8",
   "metadata": {},
   "source": [
    "4 of our categorical features (*cp*, *restecg*, *exng*, and *thall*) can be considered as analyzes with relatively simple interpretation for us. And taking into account the encoding system, the lower the value - the better the health condition.\n",
    "So we can assume that combination of these parameters can affect the target. For example, let's check the patients that have the best health condition based on these features."
   ]
  },
  {
   "cell_type": "code",
   "execution_count": 158,
   "id": "2de6a07c",
   "metadata": {},
   "outputs": [
    {
     "data": {
      "text/plain": [
       "0.0    13\n",
       "Name: output, dtype: int64"
      ]
     },
     "execution_count": 158,
     "metadata": {},
     "output_type": "execute_result"
    }
   ],
   "source": [
    "df.query('cp == 0 and restecg == 0 and exng == 0 and thall == 0')['output'].value_counts()"
   ]
  },
  {
   "cell_type": "markdown",
   "id": "9fa05d7e",
   "metadata": {},
   "source": [
    "All of them are not in the risk group."
   ]
  },
  {
   "cell_type": "markdown",
   "id": "99d0d827",
   "metadata": {},
   "source": [
    "Speaking informally, we can combine these features by simply summarizing them. And then check distributions for the different outputs."
   ]
  },
  {
   "cell_type": "code",
   "execution_count": 1139,
   "id": "d3f08e91",
   "metadata": {},
   "outputs": [
    {
     "data": {
      "image/png": "[encoded data removed]",
      "text/plain": [
       "<Figure size 864x360 with 1 Axes>"
      ]
     },
     "metadata": {
      "needs_background": "light"
     },
     "output_type": "display_data"
    }
   ],
   "source": [
    "plt.figure(figsize=(12,5))\n",
    "df_0 = df.query('output == 0')\n",
    "df_1 = df.query('output == 1')\n",
    "sns.kdeplot(df_0.cp + df_0.restecg + df_0.exng + df_0.thall, label='low risk of a heart attack')\n",
    "sns.kdeplot(df_1.cp + df_1.restecg + df_1.exng + df_1.thall, label='high risk of a heart attack')\n",
    "plt.title('Influence of health condition on the output')\n",
    "plt.xlabel('Health condition (the lower score the better)')\n",
    "plt.legend()\n",
    "plt.show()"
   ]
  },
  {
   "cell_type": "markdown",
   "id": "4ca0b35e",
   "metadata": {},
   "source": [
    "The conclusion is that people with good health condition has a lower chance to a heart attack."
   ]
  },
  {
   "cell_type": "markdown",
   "id": "81437959",
   "metadata": {},
   "source": [
    "### Conclusions\n",
    "\n",
    "1. The majority of the patients are older than 40. \n",
    "2. In the dataset there are 2 times more males than females.\n",
    "3. 54.5% of the patients have a high risk of heart attack, 45.5% - low risk of a heart attack. The classes are relatively balanced. \n",
    "4. The following numerical features affect the output: age, maximum heart rate achieved, ST depression induced by exercise relative to rest distribution, and the number of major vessels.\n",
    "5. All categorical features, except fasting blood sugar, affect the output.\n",
    "6. Age distribution of patients from the high-risk group has a peak at 50-52 ages.\n",
    "7. Women are more prone to a heart attack than men.\n",
    "8. Patients that have normal analysis results (such as electrocardiography or thallium stress test) are less likely to have a heart attack."
   ]
  },
  {
   "cell_type": "markdown",
   "id": "9bf5ede0",
   "metadata": {},
   "source": [
    "## Feature engineering"
   ]
  },
  {
   "cell_type": "markdown",
   "id": "661cf9cf",
   "metadata": {},
   "source": [
    "In this paragraph, based on carried out EDA, we will try to build new features that can help us to predict the output."
   ]
  },
  {
   "cell_type": "markdown",
   "id": "9d4008c1",
   "metadata": {},
   "source": [
    "Let's make a copy of the original dataframe to be able to compare two sets of features."
   ]
  },
  {
   "cell_type": "code",
   "execution_count": 160,
   "id": "e2c3ebf8",
   "metadata": {},
   "outputs": [],
   "source": [
    "df_new = df.copy()"
   ]
  },
  {
   "cell_type": "markdown",
   "id": "9b7ea132",
   "metadata": {},
   "source": [
    "### Removing the features"
   ]
  },
  {
   "cell_type": "markdown",
   "id": "10cd1ee8",
   "metadata": {},
   "source": [
    "Let's start with removing useless features. From the previous section, we assume that blood pressure, cholesterol and blood sugar have no influence on a heart attack. To check we'll use attribute *feature_importnaces_* from RandomForestClassifier."
   ]
  },
  {
   "cell_type": "code",
   "execution_count": 161,
   "id": "528ad282",
   "metadata": {},
   "outputs": [
    {
     "data": {
      "text/plain": [
       "RandomForestClassifier(max_depth=8, random_state=42)"
      ]
     },
     "execution_count": 161,
     "metadata": {},
     "output_type": "execute_result"
    }
   ],
   "source": [
    "rf_classifier = RandomForestClassifier(max_depth=8,\n",
    "                                       n_estimators=100,\n",
    "                                       random_state=42)\n",
    "rf_classifier.fit(df.drop('output', axis=1), df['output'])"
   ]
  },
  {
   "cell_type": "code",
   "execution_count": 162,
   "id": "d0483eb7",
   "metadata": {},
   "outputs": [
    {
     "data": {
      "text/html": [
       "<div>\n",
       "<style scoped>\n",
       "    .dataframe tbody tr th:only-of-type {\n",
       "        vertical-align: middle;\n",
       "    }\n",
       "\n",
       "    .dataframe tbody tr th {\n",
       "        vertical-align: top;\n",
       "    }\n",
       "\n",
       "    .dataframe thead th {\n",
       "        text-align: right;\n",
       "    }\n",
       "</style>\n",
       "<table border=\"1\" class=\"dataframe\">\n",
       "  <thead>\n",
       "    <tr style=\"text-align: right;\">\n",
       "      <th></th>\n",
       "      <th>feature</th>\n",
       "      <th>importance</th>\n",
       "    </tr>\n",
       "  </thead>\n",
       "  <tbody>\n",
       "    <tr>\n",
       "      <th>2</th>\n",
       "      <td>cp</td>\n",
       "      <td>0.143875</td>\n",
       "    </tr>\n",
       "    <tr>\n",
       "      <th>7</th>\n",
       "      <td>thalachh</td>\n",
       "      <td>0.125165</td>\n",
       "    </tr>\n",
       "    <tr>\n",
       "      <th>12</th>\n",
       "      <td>thall</td>\n",
       "      <td>0.109902</td>\n",
       "    </tr>\n",
       "    <tr>\n",
       "      <th>11</th>\n",
       "      <td>caa</td>\n",
       "      <td>0.109500</td>\n",
       "    </tr>\n",
       "    <tr>\n",
       "      <th>9</th>\n",
       "      <td>oldpeak</td>\n",
       "      <td>0.106870</td>\n",
       "    </tr>\n",
       "    <tr>\n",
       "      <th>0</th>\n",
       "      <td>age</td>\n",
       "      <td>0.081869</td>\n",
       "    </tr>\n",
       "    <tr>\n",
       "      <th>4</th>\n",
       "      <td>chol</td>\n",
       "      <td>0.073372</td>\n",
       "    </tr>\n",
       "    <tr>\n",
       "      <th>3</th>\n",
       "      <td>trtbps</td>\n",
       "      <td>0.072702</td>\n",
       "    </tr>\n",
       "    <tr>\n",
       "      <th>8</th>\n",
       "      <td>exng</td>\n",
       "      <td>0.059275</td>\n",
       "    </tr>\n",
       "    <tr>\n",
       "      <th>10</th>\n",
       "      <td>slp</td>\n",
       "      <td>0.051713</td>\n",
       "    </tr>\n",
       "    <tr>\n",
       "      <th>1</th>\n",
       "      <td>sex</td>\n",
       "      <td>0.032115</td>\n",
       "    </tr>\n",
       "    <tr>\n",
       "      <th>6</th>\n",
       "      <td>restecg</td>\n",
       "      <td>0.023787</td>\n",
       "    </tr>\n",
       "    <tr>\n",
       "      <th>5</th>\n",
       "      <td>fbs</td>\n",
       "      <td>0.009855</td>\n",
       "    </tr>\n",
       "  </tbody>\n",
       "</table>\n",
       "</div>"
      ],
      "text/plain": [
       "     feature  importance\n",
       "2         cp    0.143875\n",
       "7   thalachh    0.125165\n",
       "12     thall    0.109902\n",
       "11       caa    0.109500\n",
       "9    oldpeak    0.106870\n",
       "0        age    0.081869\n",
       "4       chol    0.073372\n",
       "3     trtbps    0.072702\n",
       "8       exng    0.059275\n",
       "10       slp    0.051713\n",
       "1        sex    0.032115\n",
       "6    restecg    0.023787\n",
       "5        fbs    0.009855"
      ]
     },
     "execution_count": 162,
     "metadata": {},
     "output_type": "execute_result"
    }
   ],
   "source": [
    "importance = pd.concat([pd.Series(df.columns[:-1]), \n",
    "                        pd.Series(rf_classifier.feature_importances_)], axis=1)\n",
    "importance.columns = ['feature', 'importance']\n",
    "importance = importance.sort_values(by='importance', ascending=False)\n",
    "importance"
   ]
  },
  {
   "cell_type": "code",
   "execution_count": 1140,
   "id": "aa2fe67e",
   "metadata": {},
   "outputs": [
    {
     "data": {
      "image/png": "[encoded data removed]",
      "text/plain": [
       "<Figure size 864x360 with 1 Axes>"
      ]
     },
     "metadata": {
      "needs_background": "light"
     },
     "output_type": "display_data"
    }
   ],
   "source": [
    "plt.figure(figsize=(12,5))\n",
    "sns.barplot(data=importance, x='feature', y='importance')\n",
    "plt.title('Feature importances')\n",
    "plt.show()"
   ]
  },
  {
   "cell_type": "markdown",
   "id": "2e79735a",
   "metadata": {},
   "source": [
    "Only our assumption regarding blood sugar was confirmed. Let's remove the feature."
   ]
  },
  {
   "cell_type": "code",
   "execution_count": 164,
   "id": "8a3a27b6",
   "metadata": {},
   "outputs": [],
   "source": [
    "df_new = df_new.drop('fbs', axis=1)"
   ]
  },
  {
   "cell_type": "markdown",
   "id": "40a1934a",
   "metadata": {},
   "source": [
    "Features *sex* and *restecg* have low importance, but during the EDA we could observe the opposite situation. Let's keep them in the dataframe."
   ]
  },
  {
   "cell_type": "markdown",
   "id": "d6a33cfa",
   "metadata": {},
   "source": [
    "### Adding new features"
   ]
  },
  {
   "cell_type": "markdown",
   "id": "ad5acb0e",
   "metadata": {},
   "source": [
    "The feature, that has an influence on the output, is the maximum heart rate achieved. In medical practice it's calculated using the following equation:\n",
    "\n",
    "$$ MHR = 208 - (0.7 \\times age)$$\n",
    "\n",
    "We can use it as a new feature."
   ]
  },
  {
   "cell_type": "code",
   "execution_count": 165,
   "id": "da393996",
   "metadata": {},
   "outputs": [],
   "source": [
    "df_new['mhr_estimation'] = 208 - 0.7 * df_new['age']"
   ]
  },
  {
   "cell_type": "markdown",
   "id": "b513685c",
   "metadata": {},
   "source": [
    "As it was discussed before, we can make a new categorical feature from blood pressure using the following label system:\n",
    "- pressure < 120 = 0 (normal)\n",
    "- 120 <= pressure < 140 = 1 (elevated)\n",
    "- 140 <= pressure = 2 (high)"
   ]
  },
  {
   "cell_type": "code",
   "execution_count": 166,
   "id": "33eff070",
   "metadata": {},
   "outputs": [],
   "source": [
    "df_new['blood_pres_cat'] = df_new['trtbps'].apply(lambda x: 0 if x < 120 else (1 if x < 140 else 2))"
   ]
  },
  {
   "cell_type": "code",
   "execution_count": 167,
   "id": "7b8e633b",
   "metadata": {},
   "outputs": [
    {
     "data": {
      "text/html": [
       "<div>\n",
       "<style scoped>\n",
       "    .dataframe tbody tr th:only-of-type {\n",
       "        vertical-align: middle;\n",
       "    }\n",
       "\n",
       "    .dataframe tbody tr th {\n",
       "        vertical-align: top;\n",
       "    }\n",
       "\n",
       "    .dataframe thead th {\n",
       "        text-align: right;\n",
       "    }\n",
       "</style>\n",
       "<table border=\"1\" class=\"dataframe\">\n",
       "  <thead>\n",
       "    <tr style=\"text-align: right;\">\n",
       "      <th></th>\n",
       "      <th>blood_pres_cat</th>\n",
       "    </tr>\n",
       "  </thead>\n",
       "  <tbody>\n",
       "    <tr>\n",
       "      <th>1</th>\n",
       "      <td>146</td>\n",
       "    </tr>\n",
       "    <tr>\n",
       "      <th>2</th>\n",
       "      <td>97</td>\n",
       "    </tr>\n",
       "    <tr>\n",
       "      <th>0</th>\n",
       "      <td>60</td>\n",
       "    </tr>\n",
       "  </tbody>\n",
       "</table>\n",
       "</div>"
      ],
      "text/plain": [
       "   blood_pres_cat\n",
       "1             146\n",
       "2              97\n",
       "0              60"
      ]
     },
     "execution_count": 167,
     "metadata": {},
     "output_type": "execute_result"
    }
   ],
   "source": [
    "df_new['blood_pres_cat'].value_counts().to_frame()"
   ]
  },
  {
   "cell_type": "markdown",
   "id": "f10461b7",
   "metadata": {},
   "source": [
    "The same idea can be applied to the cholesterol level:\n",
    "- cholesterol < 200 = 0 (desirable)\n",
    "- 200 <= cholesterol < 240 = 1 (borderline)\n",
    "- 240 <= cholesterol = 2 (high)"
   ]
  },
  {
   "cell_type": "code",
   "execution_count": 168,
   "id": "a5ae4044",
   "metadata": {},
   "outputs": [],
   "source": [
    "df_new['cholesterol_cat'] = df_new['chol'].apply(lambda x: 0 if x < 200 else (1 if x < 240 else 2))"
   ]
  },
  {
   "cell_type": "code",
   "execution_count": 169,
   "id": "f611592a",
   "metadata": {},
   "outputs": [
    {
     "data": {
      "text/html": [
       "<div>\n",
       "<style scoped>\n",
       "    .dataframe tbody tr th:only-of-type {\n",
       "        vertical-align: middle;\n",
       "    }\n",
       "\n",
       "    .dataframe tbody tr th {\n",
       "        vertical-align: top;\n",
       "    }\n",
       "\n",
       "    .dataframe thead th {\n",
       "        text-align: right;\n",
       "    }\n",
       "</style>\n",
       "<table border=\"1\" class=\"dataframe\">\n",
       "  <thead>\n",
       "    <tr style=\"text-align: right;\">\n",
       "      <th></th>\n",
       "      <th>cholesterol_cat</th>\n",
       "    </tr>\n",
       "  </thead>\n",
       "  <tbody>\n",
       "    <tr>\n",
       "      <th>2</th>\n",
       "      <td>155</td>\n",
       "    </tr>\n",
       "    <tr>\n",
       "      <th>1</th>\n",
       "      <td>98</td>\n",
       "    </tr>\n",
       "    <tr>\n",
       "      <th>0</th>\n",
       "      <td>50</td>\n",
       "    </tr>\n",
       "  </tbody>\n",
       "</table>\n",
       "</div>"
      ],
      "text/plain": [
       "   cholesterol_cat\n",
       "2              155\n",
       "1               98\n",
       "0               50"
      ]
     },
     "execution_count": 169,
     "metadata": {},
     "output_type": "execute_result"
    }
   ],
   "source": [
    "df_new['cholesterol_cat'].value_counts().to_frame()"
   ]
  },
  {
   "cell_type": "markdown",
   "id": "9f870ac7",
   "metadata": {},
   "source": [
    "Also, we can make a feature that will characterize both of the last considered features. Let's simply summarize two categories. If a person has 0, it means that he has normal blood pressure and normal cholesterol. But if the value is 4, it means that he has high blood pressure and high cholesterol."
   ]
  },
  {
   "cell_type": "code",
   "execution_count": 170,
   "id": "fa9cc8bd",
   "metadata": {},
   "outputs": [],
   "source": [
    "df_new['pres_chol_sum_cat'] = df_new['blood_pres_cat'] + df_new['cholesterol_cat']"
   ]
  },
  {
   "cell_type": "code",
   "execution_count": 171,
   "id": "d3b11399",
   "metadata": {},
   "outputs": [
    {
     "data": {
      "text/html": [
       "<div>\n",
       "<style scoped>\n",
       "    .dataframe tbody tr th:only-of-type {\n",
       "        vertical-align: middle;\n",
       "    }\n",
       "\n",
       "    .dataframe tbody tr th {\n",
       "        vertical-align: top;\n",
       "    }\n",
       "\n",
       "    .dataframe thead th {\n",
       "        text-align: right;\n",
       "    }\n",
       "</style>\n",
       "<table border=\"1\" class=\"dataframe\">\n",
       "  <thead>\n",
       "    <tr style=\"text-align: right;\">\n",
       "      <th></th>\n",
       "      <th>pres_chol_sum_cat</th>\n",
       "    </tr>\n",
       "  </thead>\n",
       "  <tbody>\n",
       "    <tr>\n",
       "      <th>3</th>\n",
       "      <td>109</td>\n",
       "    </tr>\n",
       "    <tr>\n",
       "      <th>2</th>\n",
       "      <td>84</td>\n",
       "    </tr>\n",
       "    <tr>\n",
       "      <th>4</th>\n",
       "      <td>52</td>\n",
       "    </tr>\n",
       "    <tr>\n",
       "      <th>1</th>\n",
       "      <td>45</td>\n",
       "    </tr>\n",
       "    <tr>\n",
       "      <th>0</th>\n",
       "      <td>13</td>\n",
       "    </tr>\n",
       "  </tbody>\n",
       "</table>\n",
       "</div>"
      ],
      "text/plain": [
       "   pres_chol_sum_cat\n",
       "3                109\n",
       "2                 84\n",
       "4                 52\n",
       "1                 45\n",
       "0                 13"
      ]
     },
     "execution_count": 171,
     "metadata": {},
     "output_type": "execute_result"
    }
   ],
   "source": [
    "df_new['pres_chol_sum_cat'].value_counts().to_frame()"
   ]
  },
  {
   "cell_type": "markdown",
   "id": "3661e14a",
   "metadata": {},
   "source": [
    "In the previous section we summed other categorical features and were able to observe the difference in the output. Let's do the same here. The interpretation of the feature is simple - the lower value the better person's health according to these tests. "
   ]
  },
  {
   "cell_type": "code",
   "execution_count": 172,
   "id": "6f3cd40d",
   "metadata": {},
   "outputs": [],
   "source": [
    "df_new['cat_sum'] = df_new['cp'] + df_new['restecg'] + df_new['exng'] + df_new['thall']"
   ]
  },
  {
   "cell_type": "code",
   "execution_count": 173,
   "id": "a0a4b4c8",
   "metadata": {},
   "outputs": [
    {
     "data": {
      "text/html": [
       "<div>\n",
       "<style scoped>\n",
       "    .dataframe tbody tr th:only-of-type {\n",
       "        vertical-align: middle;\n",
       "    }\n",
       "\n",
       "    .dataframe tbody tr th {\n",
       "        vertical-align: top;\n",
       "    }\n",
       "\n",
       "    .dataframe thead th {\n",
       "        text-align: right;\n",
       "    }\n",
       "</style>\n",
       "<table border=\"1\" class=\"dataframe\">\n",
       "  <thead>\n",
       "    <tr style=\"text-align: right;\">\n",
       "      <th></th>\n",
       "      <th>cat_sum</th>\n",
       "    </tr>\n",
       "  </thead>\n",
       "  <tbody>\n",
       "    <tr>\n",
       "      <th>2.0</th>\n",
       "      <td>85</td>\n",
       "    </tr>\n",
       "    <tr>\n",
       "      <th>3.0</th>\n",
       "      <td>73</td>\n",
       "    </tr>\n",
       "    <tr>\n",
       "      <th>1.0</th>\n",
       "      <td>60</td>\n",
       "    </tr>\n",
       "    <tr>\n",
       "      <th>4.0</th>\n",
       "      <td>54</td>\n",
       "    </tr>\n",
       "    <tr>\n",
       "      <th>5.0</th>\n",
       "      <td>18</td>\n",
       "    </tr>\n",
       "    <tr>\n",
       "      <th>0.0</th>\n",
       "      <td>13</td>\n",
       "    </tr>\n",
       "  </tbody>\n",
       "</table>\n",
       "</div>"
      ],
      "text/plain": [
       "     cat_sum\n",
       "2.0       85\n",
       "3.0       73\n",
       "1.0       60\n",
       "4.0       54\n",
       "5.0       18\n",
       "0.0       13"
      ]
     },
     "execution_count": 173,
     "metadata": {},
     "output_type": "execute_result"
    }
   ],
   "source": [
    "df_new['cat_sum'].value_counts().to_frame()"
   ]
  },
  {
   "cell_type": "markdown",
   "id": "785156d3",
   "metadata": {},
   "source": [
    "**Eventually, 1 feature was removed, 5 features were added**"
   ]
  },
  {
   "cell_type": "code",
   "execution_count": 174,
   "id": "24dea89b",
   "metadata": {},
   "outputs": [
    {
     "data": {
      "text/plain": [
       "4"
      ]
     },
     "execution_count": 174,
     "metadata": {},
     "output_type": "execute_result"
    }
   ],
   "source": [
    "len(df_new.columns) - len(df.columns)"
   ]
  },
  {
   "cell_type": "markdown",
   "id": "9a52bc50",
   "metadata": {},
   "source": [
    "Let's have a look at the new dataframe."
   ]
  },
  {
   "cell_type": "code",
   "execution_count": 175,
   "id": "8c9c3380",
   "metadata": {},
   "outputs": [
    {
     "data": {
      "text/html": [
       "<div>\n",
       "<style scoped>\n",
       "    .dataframe tbody tr th:only-of-type {\n",
       "        vertical-align: middle;\n",
       "    }\n",
       "\n",
       "    .dataframe tbody tr th {\n",
       "        vertical-align: top;\n",
       "    }\n",
       "\n",
       "    .dataframe thead th {\n",
       "        text-align: right;\n",
       "    }\n",
       "</style>\n",
       "<table border=\"1\" class=\"dataframe\">\n",
       "  <thead>\n",
       "    <tr style=\"text-align: right;\">\n",
       "      <th></th>\n",
       "      <th>age</th>\n",
       "      <th>sex</th>\n",
       "      <th>cp</th>\n",
       "      <th>trtbps</th>\n",
       "      <th>chol</th>\n",
       "      <th>restecg</th>\n",
       "      <th>thalachh</th>\n",
       "      <th>exng</th>\n",
       "      <th>oldpeak</th>\n",
       "      <th>slp</th>\n",
       "      <th>caa</th>\n",
       "      <th>thall</th>\n",
       "      <th>output</th>\n",
       "      <th>mhr_estimation</th>\n",
       "      <th>blood_pres_cat</th>\n",
       "      <th>cholesterol_cat</th>\n",
       "      <th>pres_chol_sum_cat</th>\n",
       "      <th>cat_sum</th>\n",
       "    </tr>\n",
       "  </thead>\n",
       "  <tbody>\n",
       "    <tr>\n",
       "      <th>0</th>\n",
       "      <td>63.0</td>\n",
       "      <td>1.0</td>\n",
       "      <td>3.0</td>\n",
       "      <td>145.0</td>\n",
       "      <td>233.0</td>\n",
       "      <td>0.0</td>\n",
       "      <td>150.0</td>\n",
       "      <td>0.0</td>\n",
       "      <td>2.3</td>\n",
       "      <td>0.0</td>\n",
       "      <td>0.0</td>\n",
       "      <td>2</td>\n",
       "      <td>1.0</td>\n",
       "      <td>163.9</td>\n",
       "      <td>2</td>\n",
       "      <td>1</td>\n",
       "      <td>3</td>\n",
       "      <td>5.0</td>\n",
       "    </tr>\n",
       "    <tr>\n",
       "      <th>1</th>\n",
       "      <td>37.0</td>\n",
       "      <td>1.0</td>\n",
       "      <td>2.0</td>\n",
       "      <td>130.0</td>\n",
       "      <td>250.0</td>\n",
       "      <td>1.0</td>\n",
       "      <td>187.0</td>\n",
       "      <td>0.0</td>\n",
       "      <td>3.5</td>\n",
       "      <td>0.0</td>\n",
       "      <td>0.0</td>\n",
       "      <td>1</td>\n",
       "      <td>1.0</td>\n",
       "      <td>182.1</td>\n",
       "      <td>1</td>\n",
       "      <td>2</td>\n",
       "      <td>3</td>\n",
       "      <td>4.0</td>\n",
       "    </tr>\n",
       "    <tr>\n",
       "      <th>2</th>\n",
       "      <td>41.0</td>\n",
       "      <td>0.0</td>\n",
       "      <td>1.0</td>\n",
       "      <td>130.0</td>\n",
       "      <td>204.0</td>\n",
       "      <td>0.0</td>\n",
       "      <td>172.0</td>\n",
       "      <td>0.0</td>\n",
       "      <td>1.4</td>\n",
       "      <td>2.0</td>\n",
       "      <td>0.0</td>\n",
       "      <td>1</td>\n",
       "      <td>1.0</td>\n",
       "      <td>179.3</td>\n",
       "      <td>1</td>\n",
       "      <td>1</td>\n",
       "      <td>2</td>\n",
       "      <td>2.0</td>\n",
       "    </tr>\n",
       "    <tr>\n",
       "      <th>3</th>\n",
       "      <td>56.0</td>\n",
       "      <td>1.0</td>\n",
       "      <td>1.0</td>\n",
       "      <td>120.0</td>\n",
       "      <td>236.0</td>\n",
       "      <td>1.0</td>\n",
       "      <td>178.0</td>\n",
       "      <td>0.0</td>\n",
       "      <td>0.8</td>\n",
       "      <td>2.0</td>\n",
       "      <td>0.0</td>\n",
       "      <td>1</td>\n",
       "      <td>1.0</td>\n",
       "      <td>168.8</td>\n",
       "      <td>1</td>\n",
       "      <td>1</td>\n",
       "      <td>2</td>\n",
       "      <td>3.0</td>\n",
       "    </tr>\n",
       "    <tr>\n",
       "      <th>4</th>\n",
       "      <td>57.0</td>\n",
       "      <td>0.0</td>\n",
       "      <td>0.0</td>\n",
       "      <td>120.0</td>\n",
       "      <td>354.0</td>\n",
       "      <td>1.0</td>\n",
       "      <td>163.0</td>\n",
       "      <td>1.0</td>\n",
       "      <td>0.6</td>\n",
       "      <td>2.0</td>\n",
       "      <td>0.0</td>\n",
       "      <td>1</td>\n",
       "      <td>1.0</td>\n",
       "      <td>168.1</td>\n",
       "      <td>1</td>\n",
       "      <td>2</td>\n",
       "      <td>3</td>\n",
       "      <td>3.0</td>\n",
       "    </tr>\n",
       "  </tbody>\n",
       "</table>\n",
       "</div>"
      ],
      "text/plain": [
       "    age  sex   cp  trtbps   chol  restecg  thalachh  exng  oldpeak  slp  caa  \\\n",
       "0  63.0  1.0  3.0   145.0  233.0      0.0     150.0   0.0      2.3  0.0  0.0   \n",
       "1  37.0  1.0  2.0   130.0  250.0      1.0     187.0   0.0      3.5  0.0  0.0   \n",
       "2  41.0  0.0  1.0   130.0  204.0      0.0     172.0   0.0      1.4  2.0  0.0   \n",
       "3  56.0  1.0  1.0   120.0  236.0      1.0     178.0   0.0      0.8  2.0  0.0   \n",
       "4  57.0  0.0  0.0   120.0  354.0      1.0     163.0   1.0      0.6  2.0  0.0   \n",
       "\n",
       "   thall  output  mhr_estimation  blood_pres_cat  cholesterol_cat  \\\n",
       "0      2     1.0           163.9               2                1   \n",
       "1      1     1.0           182.1               1                2   \n",
       "2      1     1.0           179.3               1                1   \n",
       "3      1     1.0           168.8               1                1   \n",
       "4      1     1.0           168.1               1                2   \n",
       "\n",
       "   pres_chol_sum_cat  cat_sum  \n",
       "0                  3      5.0  \n",
       "1                  3      4.0  \n",
       "2                  2      2.0  \n",
       "3                  2      3.0  \n",
       "4                  3      3.0  "
      ]
     },
     "execution_count": 175,
     "metadata": {},
     "output_type": "execute_result"
    }
   ],
   "source": [
    "df_new.head()"
   ]
  },
  {
   "cell_type": "markdown",
   "id": "df6cddc5",
   "metadata": {},
   "source": [
    "### Assessment of changes"
   ]
  },
  {
   "cell_type": "markdown",
   "id": "95403c4f",
   "metadata": {},
   "source": [
    "Now we can compare the performance of two features sets on the simple model using cross-validation."
   ]
  },
  {
   "cell_type": "code",
   "execution_count": 176,
   "id": "995d308e",
   "metadata": {},
   "outputs": [
    {
     "data": {
      "text/plain": [
       "0.8495548242607066"
      ]
     },
     "execution_count": 176,
     "metadata": {},
     "output_type": "execute_result"
    }
   ],
   "source": [
    "cross_val_score(\n",
    "    estimator=RandomForestClassifier(max_depth=8,\n",
    "                                     n_estimators=100,\n",
    "                                     random_state=42),\n",
    "    X=df.drop('output', axis=1),\n",
    "    y=df['output'],\n",
    "    scoring='f1',\n",
    "    cv=5\n",
    ").mean()"
   ]
  },
  {
   "cell_type": "code",
   "execution_count": 177,
   "id": "cab85e61",
   "metadata": {},
   "outputs": [
    {
     "data": {
      "text/plain": [
       "0.8585580788082277"
      ]
     },
     "execution_count": 177,
     "metadata": {},
     "output_type": "execute_result"
    }
   ],
   "source": [
    "cross_val_score(\n",
    "    estimator=RandomForestClassifier(max_depth=8,\n",
    "                                     n_estimators=100,\n",
    "                                     random_state=42),\n",
    "    X=df_new.drop('output', axis=1),\n",
    "    y=df_new['output'],\n",
    "    scoring='f1',\n",
    "    cv=5\n",
    ").mean()"
   ]
  },
  {
   "cell_type": "markdown",
   "id": "df5d5ae6",
   "metadata": {},
   "source": [
    "The performance of the new model with modified features is better."
   ]
  },
  {
   "cell_type": "markdown",
   "id": "2db494d3",
   "metadata": {},
   "source": [
    "### Conclusions\n",
    "\n",
    "1. Feature *fbs* (fasting blood sugar) was removed.\n",
    "2. One new numerical feature was added - estimated maximum heart rate achieved.\n",
    "3. 4 new categorical features were added."
   ]
  },
  {
   "cell_type": "markdown",
   "id": "4fe68e08",
   "metadata": {},
   "source": [
    "## Data preparation"
   ]
  },
  {
   "cell_type": "markdown",
   "id": "5ce49fe9",
   "metadata": {},
   "source": [
    "Since there are no missing values in the data, the preparation is simple."
   ]
  },
  {
   "cell_type": "markdown",
   "id": "a1d97886",
   "metadata": {},
   "source": [
    "First of all, let's separate numerical and categorical features."
   ]
  },
  {
   "cell_type": "code",
   "execution_count": 178,
   "id": "d67c9540",
   "metadata": {},
   "outputs": [],
   "source": [
    "num_features = ['age', 'trtbps', 'chol', 'thalachh', 'oldpeak', 'caa', 'mhr_estimation']\n",
    "cat_features = ['sex', 'cp', 'restecg', 'exng', 'slp', 'thall', 'blood_pres_cat', 'cholesterol_cat', 'pres_chol_sum_cat', 'cat_sum']"
   ]
  },
  {
   "cell_type": "markdown",
   "id": "e25a5b03",
   "metadata": {},
   "source": [
    "Now we can create the matrix of features and the dependent variable vector."
   ]
  },
  {
   "cell_type": "code",
   "execution_count": 179,
   "id": "921da962",
   "metadata": {},
   "outputs": [],
   "source": [
    "features = df_new.drop('output', axis=1)\n",
    "target = df_new['output'].astype('int')"
   ]
  },
  {
   "cell_type": "code",
   "execution_count": 180,
   "id": "bb43d893",
   "metadata": {},
   "outputs": [
    {
     "name": "stdout",
     "output_type": "stream",
     "text": [
      "(303, 17)\n",
      "(303,)\n"
     ]
    }
   ],
   "source": [
    "print(features.shape)\n",
    "print(target.shape)"
   ]
  },
  {
   "cell_type": "markdown",
   "id": "e3539049",
   "metadata": {},
   "source": [
    "### Preparation for CatBoost"
   ]
  },
  {
   "cell_type": "markdown",
   "id": "e276e488",
   "metadata": {},
   "source": [
    "CatBoost is one of the most efficient gradient boosting libraries. \n",
    "According to the library documentation, it's not recommended to do data preparation beforehand (especially for categorical features, because CatBoost has its own built-in mechanisms to handle categorical features). Feature scaling also will be omitted. One thing we have to do is splitting the dataset."
   ]
  },
  {
   "cell_type": "code",
   "execution_count": 799,
   "id": "f0d27be5",
   "metadata": {},
   "outputs": [],
   "source": [
    "X_train, X_test, y_train, y_test = train_test_split(features, target, test_size=0.2, random_state=42) "
   ]
  },
  {
   "cell_type": "code",
   "execution_count": 800,
   "id": "301ed22d",
   "metadata": {
    "scrolled": true
   },
   "outputs": [
    {
     "name": "stdout",
     "output_type": "stream",
     "text": [
      "(242, 17)\n",
      "(61, 17)\n",
      "(242,)\n",
      "(61,)\n"
     ]
    }
   ],
   "source": [
    "print(X_train.shape)\n",
    "print(X_test.shape)\n",
    "print(y_train.shape)\n",
    "print(y_test.shape)"
   ]
  },
  {
   "cell_type": "markdown",
   "id": "04c49b99",
   "metadata": {},
   "source": [
    "To avoid any conflicts in the fiture we have to transform our categorical features to string type."
   ]
  },
  {
   "cell_type": "code",
   "execution_count": 801,
   "id": "7b86a2a4",
   "metadata": {},
   "outputs": [],
   "source": [
    "X_train[cat_features] = X_train[cat_features].astype('str')\n",
    "X_test[cat_features] = X_test[cat_features].astype('str')"
   ]
  },
  {
   "cell_type": "code",
   "execution_count": 802,
   "id": "c766a58c",
   "metadata": {},
   "outputs": [
    {
     "data": {
      "text/html": [
       "<div>\n",
       "<style scoped>\n",
       "    .dataframe tbody tr th:only-of-type {\n",
       "        vertical-align: middle;\n",
       "    }\n",
       "\n",
       "    .dataframe tbody tr th {\n",
       "        vertical-align: top;\n",
       "    }\n",
       "\n",
       "    .dataframe thead th {\n",
       "        text-align: right;\n",
       "    }\n",
       "</style>\n",
       "<table border=\"1\" class=\"dataframe\">\n",
       "  <thead>\n",
       "    <tr style=\"text-align: right;\">\n",
       "      <th></th>\n",
       "      <th>age</th>\n",
       "      <th>sex</th>\n",
       "      <th>cp</th>\n",
       "      <th>trtbps</th>\n",
       "      <th>chol</th>\n",
       "      <th>restecg</th>\n",
       "      <th>thalachh</th>\n",
       "      <th>exng</th>\n",
       "      <th>oldpeak</th>\n",
       "      <th>slp</th>\n",
       "      <th>caa</th>\n",
       "      <th>thall</th>\n",
       "      <th>mhr_estimation</th>\n",
       "      <th>blood_pres_cat</th>\n",
       "      <th>cholesterol_cat</th>\n",
       "      <th>pres_chol_sum_cat</th>\n",
       "      <th>cat_sum</th>\n",
       "    </tr>\n",
       "  </thead>\n",
       "  <tbody>\n",
       "    <tr>\n",
       "      <th>132</th>\n",
       "      <td>42.0</td>\n",
       "      <td>1.0</td>\n",
       "      <td>1.0</td>\n",
       "      <td>120.0</td>\n",
       "      <td>295.0</td>\n",
       "      <td>1.0</td>\n",
       "      <td>162.0</td>\n",
       "      <td>0.0</td>\n",
       "      <td>0.0</td>\n",
       "      <td>2.0</td>\n",
       "      <td>0.0</td>\n",
       "      <td>1</td>\n",
       "      <td>178.6</td>\n",
       "      <td>1</td>\n",
       "      <td>2</td>\n",
       "      <td>3</td>\n",
       "      <td>3.0</td>\n",
       "    </tr>\n",
       "    <tr>\n",
       "      <th>202</th>\n",
       "      <td>58.0</td>\n",
       "      <td>1.0</td>\n",
       "      <td>0.0</td>\n",
       "      <td>150.0</td>\n",
       "      <td>270.0</td>\n",
       "      <td>0.0</td>\n",
       "      <td>111.0</td>\n",
       "      <td>1.0</td>\n",
       "      <td>0.8</td>\n",
       "      <td>2.0</td>\n",
       "      <td>0.0</td>\n",
       "      <td>0</td>\n",
       "      <td>167.4</td>\n",
       "      <td>2</td>\n",
       "      <td>2</td>\n",
       "      <td>4</td>\n",
       "      <td>1.0</td>\n",
       "    </tr>\n",
       "    <tr>\n",
       "      <th>196</th>\n",
       "      <td>46.0</td>\n",
       "      <td>1.0</td>\n",
       "      <td>2.0</td>\n",
       "      <td>150.0</td>\n",
       "      <td>231.0</td>\n",
       "      <td>1.0</td>\n",
       "      <td>147.0</td>\n",
       "      <td>0.0</td>\n",
       "      <td>3.6</td>\n",
       "      <td>1.0</td>\n",
       "      <td>0.0</td>\n",
       "      <td>1</td>\n",
       "      <td>175.8</td>\n",
       "      <td>2</td>\n",
       "      <td>1</td>\n",
       "      <td>3</td>\n",
       "      <td>4.0</td>\n",
       "    </tr>\n",
       "    <tr>\n",
       "      <th>75</th>\n",
       "      <td>55.0</td>\n",
       "      <td>0.0</td>\n",
       "      <td>1.0</td>\n",
       "      <td>135.0</td>\n",
       "      <td>250.0</td>\n",
       "      <td>0.0</td>\n",
       "      <td>161.0</td>\n",
       "      <td>0.0</td>\n",
       "      <td>1.4</td>\n",
       "      <td>1.0</td>\n",
       "      <td>0.0</td>\n",
       "      <td>1</td>\n",
       "      <td>169.5</td>\n",
       "      <td>1</td>\n",
       "      <td>2</td>\n",
       "      <td>3</td>\n",
       "      <td>2.0</td>\n",
       "    </tr>\n",
       "    <tr>\n",
       "      <th>176</th>\n",
       "      <td>60.0</td>\n",
       "      <td>1.0</td>\n",
       "      <td>0.0</td>\n",
       "      <td>117.0</td>\n",
       "      <td>230.0</td>\n",
       "      <td>1.0</td>\n",
       "      <td>160.0</td>\n",
       "      <td>1.0</td>\n",
       "      <td>1.4</td>\n",
       "      <td>2.0</td>\n",
       "      <td>2.0</td>\n",
       "      <td>0</td>\n",
       "      <td>166.0</td>\n",
       "      <td>0</td>\n",
       "      <td>1</td>\n",
       "      <td>1</td>\n",
       "      <td>2.0</td>\n",
       "    </tr>\n",
       "  </tbody>\n",
       "</table>\n",
       "</div>"
      ],
      "text/plain": [
       "      age  sex   cp  trtbps   chol restecg  thalachh exng  oldpeak  slp  caa  \\\n",
       "132  42.0  1.0  1.0   120.0  295.0     1.0     162.0  0.0      0.0  2.0  0.0   \n",
       "202  58.0  1.0  0.0   150.0  270.0     0.0     111.0  1.0      0.8  2.0  0.0   \n",
       "196  46.0  1.0  2.0   150.0  231.0     1.0     147.0  0.0      3.6  1.0  0.0   \n",
       "75   55.0  0.0  1.0   135.0  250.0     0.0     161.0  0.0      1.4  1.0  0.0   \n",
       "176  60.0  1.0  0.0   117.0  230.0     1.0     160.0  1.0      1.4  2.0  2.0   \n",
       "\n",
       "    thall  mhr_estimation blood_pres_cat cholesterol_cat pres_chol_sum_cat  \\\n",
       "132     1           178.6              1               2                 3   \n",
       "202     0           167.4              2               2                 4   \n",
       "196     1           175.8              2               1                 3   \n",
       "75      1           169.5              1               2                 3   \n",
       "176     0           166.0              0               1                 1   \n",
       "\n",
       "    cat_sum  \n",
       "132     3.0  \n",
       "202     1.0  \n",
       "196     4.0  \n",
       "75      2.0  \n",
       "176     2.0  "
      ]
     },
     "execution_count": 802,
     "metadata": {},
     "output_type": "execute_result"
    }
   ],
   "source": [
    "X_train.head()"
   ]
  },
  {
   "cell_type": "code",
   "execution_count": 803,
   "id": "b84fc73a",
   "metadata": {},
   "outputs": [
    {
     "data": {
      "text/html": [
       "<div>\n",
       "<style scoped>\n",
       "    .dataframe tbody tr th:only-of-type {\n",
       "        vertical-align: middle;\n",
       "    }\n",
       "\n",
       "    .dataframe tbody tr th {\n",
       "        vertical-align: top;\n",
       "    }\n",
       "\n",
       "    .dataframe thead th {\n",
       "        text-align: right;\n",
       "    }\n",
       "</style>\n",
       "<table border=\"1\" class=\"dataframe\">\n",
       "  <thead>\n",
       "    <tr style=\"text-align: right;\">\n",
       "      <th></th>\n",
       "      <th>age</th>\n",
       "      <th>sex</th>\n",
       "      <th>cp</th>\n",
       "      <th>trtbps</th>\n",
       "      <th>chol</th>\n",
       "      <th>restecg</th>\n",
       "      <th>thalachh</th>\n",
       "      <th>exng</th>\n",
       "      <th>oldpeak</th>\n",
       "      <th>slp</th>\n",
       "      <th>caa</th>\n",
       "      <th>thall</th>\n",
       "      <th>mhr_estimation</th>\n",
       "      <th>blood_pres_cat</th>\n",
       "      <th>cholesterol_cat</th>\n",
       "      <th>pres_chol_sum_cat</th>\n",
       "      <th>cat_sum</th>\n",
       "    </tr>\n",
       "  </thead>\n",
       "  <tbody>\n",
       "    <tr>\n",
       "      <th>179</th>\n",
       "      <td>57.0</td>\n",
       "      <td>1.0</td>\n",
       "      <td>0.0</td>\n",
       "      <td>150.0</td>\n",
       "      <td>276.0</td>\n",
       "      <td>0.0</td>\n",
       "      <td>112.0</td>\n",
       "      <td>1.0</td>\n",
       "      <td>0.6</td>\n",
       "      <td>1.0</td>\n",
       "      <td>1.0</td>\n",
       "      <td>2</td>\n",
       "      <td>168.1</td>\n",
       "      <td>2</td>\n",
       "      <td>2</td>\n",
       "      <td>4</td>\n",
       "      <td>3.0</td>\n",
       "    </tr>\n",
       "    <tr>\n",
       "      <th>228</th>\n",
       "      <td>59.0</td>\n",
       "      <td>1.0</td>\n",
       "      <td>3.0</td>\n",
       "      <td>170.0</td>\n",
       "      <td>288.0</td>\n",
       "      <td>0.0</td>\n",
       "      <td>159.0</td>\n",
       "      <td>0.0</td>\n",
       "      <td>0.2</td>\n",
       "      <td>1.0</td>\n",
       "      <td>0.0</td>\n",
       "      <td>0</td>\n",
       "      <td>166.7</td>\n",
       "      <td>2</td>\n",
       "      <td>2</td>\n",
       "      <td>4</td>\n",
       "      <td>3.0</td>\n",
       "    </tr>\n",
       "    <tr>\n",
       "      <th>111</th>\n",
       "      <td>57.0</td>\n",
       "      <td>1.0</td>\n",
       "      <td>2.0</td>\n",
       "      <td>150.0</td>\n",
       "      <td>126.0</td>\n",
       "      <td>1.0</td>\n",
       "      <td>173.0</td>\n",
       "      <td>0.0</td>\n",
       "      <td>0.2</td>\n",
       "      <td>2.0</td>\n",
       "      <td>1.0</td>\n",
       "      <td>0</td>\n",
       "      <td>168.1</td>\n",
       "      <td>2</td>\n",
       "      <td>0</td>\n",
       "      <td>2</td>\n",
       "      <td>3.0</td>\n",
       "    </tr>\n",
       "    <tr>\n",
       "      <th>246</th>\n",
       "      <td>56.0</td>\n",
       "      <td>0.0</td>\n",
       "      <td>0.0</td>\n",
       "      <td>134.0</td>\n",
       "      <td>409.0</td>\n",
       "      <td>0.0</td>\n",
       "      <td>150.0</td>\n",
       "      <td>1.0</td>\n",
       "      <td>1.9</td>\n",
       "      <td>1.0</td>\n",
       "      <td>2.0</td>\n",
       "      <td>0</td>\n",
       "      <td>168.8</td>\n",
       "      <td>1</td>\n",
       "      <td>2</td>\n",
       "      <td>3</td>\n",
       "      <td>1.0</td>\n",
       "    </tr>\n",
       "    <tr>\n",
       "      <th>60</th>\n",
       "      <td>71.0</td>\n",
       "      <td>0.0</td>\n",
       "      <td>2.0</td>\n",
       "      <td>110.0</td>\n",
       "      <td>265.0</td>\n",
       "      <td>0.0</td>\n",
       "      <td>130.0</td>\n",
       "      <td>0.0</td>\n",
       "      <td>0.0</td>\n",
       "      <td>2.0</td>\n",
       "      <td>1.0</td>\n",
       "      <td>1</td>\n",
       "      <td>158.3</td>\n",
       "      <td>0</td>\n",
       "      <td>2</td>\n",
       "      <td>2</td>\n",
       "      <td>3.0</td>\n",
       "    </tr>\n",
       "  </tbody>\n",
       "</table>\n",
       "</div>"
      ],
      "text/plain": [
       "      age  sex   cp  trtbps   chol restecg  thalachh exng  oldpeak  slp  caa  \\\n",
       "179  57.0  1.0  0.0   150.0  276.0     0.0     112.0  1.0      0.6  1.0  1.0   \n",
       "228  59.0  1.0  3.0   170.0  288.0     0.0     159.0  0.0      0.2  1.0  0.0   \n",
       "111  57.0  1.0  2.0   150.0  126.0     1.0     173.0  0.0      0.2  2.0  1.0   \n",
       "246  56.0  0.0  0.0   134.0  409.0     0.0     150.0  1.0      1.9  1.0  2.0   \n",
       "60   71.0  0.0  2.0   110.0  265.0     0.0     130.0  0.0      0.0  2.0  1.0   \n",
       "\n",
       "    thall  mhr_estimation blood_pres_cat cholesterol_cat pres_chol_sum_cat  \\\n",
       "179     2           168.1              2               2                 4   \n",
       "228     0           166.7              2               2                 4   \n",
       "111     0           168.1              2               0                 2   \n",
       "246     0           168.8              1               2                 3   \n",
       "60      1           158.3              0               2                 2   \n",
       "\n",
       "    cat_sum  \n",
       "179     3.0  \n",
       "228     3.0  \n",
       "111     3.0  \n",
       "246     1.0  \n",
       "60      3.0  "
      ]
     },
     "execution_count": 803,
     "metadata": {},
     "output_type": "execute_result"
    }
   ],
   "source": [
    "X_test.head()"
   ]
  },
  {
   "cell_type": "markdown",
   "id": "fed2de61",
   "metadata": {},
   "source": [
    "### Encoding categorical data"
   ]
  },
  {
   "cell_type": "markdown",
   "id": "3ad1f059",
   "metadata": {},
   "source": [
    "In the dataset, all categorical variables have been already encoded by label encoding. I don't find this a good idea. Let's use Ohe Hot Encoding."
   ]
  },
  {
   "cell_type": "code",
   "execution_count": 804,
   "id": "72b34d8c",
   "metadata": {},
   "outputs": [],
   "source": [
    "features_ohe = pd.get_dummies(features, drop_first=True, columns=cat_features)"
   ]
  },
  {
   "cell_type": "code",
   "execution_count": 805,
   "id": "617e2341",
   "metadata": {},
   "outputs": [
    {
     "data": {
      "text/html": [
       "<div>\n",
       "<style scoped>\n",
       "    .dataframe tbody tr th:only-of-type {\n",
       "        vertical-align: middle;\n",
       "    }\n",
       "\n",
       "    .dataframe tbody tr th {\n",
       "        vertical-align: top;\n",
       "    }\n",
       "\n",
       "    .dataframe thead th {\n",
       "        text-align: right;\n",
       "    }\n",
       "</style>\n",
       "<table border=\"1\" class=\"dataframe\">\n",
       "  <thead>\n",
       "    <tr style=\"text-align: right;\">\n",
       "      <th></th>\n",
       "      <th>age</th>\n",
       "      <th>trtbps</th>\n",
       "      <th>chol</th>\n",
       "      <th>thalachh</th>\n",
       "      <th>oldpeak</th>\n",
       "      <th>caa</th>\n",
       "      <th>mhr_estimation</th>\n",
       "      <th>sex_1.0</th>\n",
       "      <th>cp_1.0</th>\n",
       "      <th>cp_2.0</th>\n",
       "      <th>...</th>\n",
       "      <th>cholesterol_cat_2</th>\n",
       "      <th>pres_chol_sum_cat_1</th>\n",
       "      <th>pres_chol_sum_cat_2</th>\n",
       "      <th>pres_chol_sum_cat_3</th>\n",
       "      <th>pres_chol_sum_cat_4</th>\n",
       "      <th>cat_sum_1.0</th>\n",
       "      <th>cat_sum_2.0</th>\n",
       "      <th>cat_sum_3.0</th>\n",
       "      <th>cat_sum_4.0</th>\n",
       "      <th>cat_sum_5.0</th>\n",
       "    </tr>\n",
       "  </thead>\n",
       "  <tbody>\n",
       "    <tr>\n",
       "      <th>0</th>\n",
       "      <td>63.0</td>\n",
       "      <td>145.0</td>\n",
       "      <td>233.0</td>\n",
       "      <td>150.0</td>\n",
       "      <td>2.3</td>\n",
       "      <td>0.0</td>\n",
       "      <td>163.9</td>\n",
       "      <td>1</td>\n",
       "      <td>0</td>\n",
       "      <td>0</td>\n",
       "      <td>...</td>\n",
       "      <td>0</td>\n",
       "      <td>0</td>\n",
       "      <td>0</td>\n",
       "      <td>1</td>\n",
       "      <td>0</td>\n",
       "      <td>0</td>\n",
       "      <td>0</td>\n",
       "      <td>0</td>\n",
       "      <td>0</td>\n",
       "      <td>1</td>\n",
       "    </tr>\n",
       "    <tr>\n",
       "      <th>1</th>\n",
       "      <td>37.0</td>\n",
       "      <td>130.0</td>\n",
       "      <td>250.0</td>\n",
       "      <td>187.0</td>\n",
       "      <td>3.5</td>\n",
       "      <td>0.0</td>\n",
       "      <td>182.1</td>\n",
       "      <td>1</td>\n",
       "      <td>0</td>\n",
       "      <td>1</td>\n",
       "      <td>...</td>\n",
       "      <td>1</td>\n",
       "      <td>0</td>\n",
       "      <td>0</td>\n",
       "      <td>1</td>\n",
       "      <td>0</td>\n",
       "      <td>0</td>\n",
       "      <td>0</td>\n",
       "      <td>0</td>\n",
       "      <td>1</td>\n",
       "      <td>0</td>\n",
       "    </tr>\n",
       "    <tr>\n",
       "      <th>2</th>\n",
       "      <td>41.0</td>\n",
       "      <td>130.0</td>\n",
       "      <td>204.0</td>\n",
       "      <td>172.0</td>\n",
       "      <td>1.4</td>\n",
       "      <td>0.0</td>\n",
       "      <td>179.3</td>\n",
       "      <td>0</td>\n",
       "      <td>1</td>\n",
       "      <td>0</td>\n",
       "      <td>...</td>\n",
       "      <td>0</td>\n",
       "      <td>0</td>\n",
       "      <td>1</td>\n",
       "      <td>0</td>\n",
       "      <td>0</td>\n",
       "      <td>0</td>\n",
       "      <td>1</td>\n",
       "      <td>0</td>\n",
       "      <td>0</td>\n",
       "      <td>0</td>\n",
       "    </tr>\n",
       "    <tr>\n",
       "      <th>3</th>\n",
       "      <td>56.0</td>\n",
       "      <td>120.0</td>\n",
       "      <td>236.0</td>\n",
       "      <td>178.0</td>\n",
       "      <td>0.8</td>\n",
       "      <td>0.0</td>\n",
       "      <td>168.8</td>\n",
       "      <td>1</td>\n",
       "      <td>1</td>\n",
       "      <td>0</td>\n",
       "      <td>...</td>\n",
       "      <td>0</td>\n",
       "      <td>0</td>\n",
       "      <td>1</td>\n",
       "      <td>0</td>\n",
       "      <td>0</td>\n",
       "      <td>0</td>\n",
       "      <td>0</td>\n",
       "      <td>1</td>\n",
       "      <td>0</td>\n",
       "      <td>0</td>\n",
       "    </tr>\n",
       "    <tr>\n",
       "      <th>4</th>\n",
       "      <td>57.0</td>\n",
       "      <td>120.0</td>\n",
       "      <td>354.0</td>\n",
       "      <td>163.0</td>\n",
       "      <td>0.6</td>\n",
       "      <td>0.0</td>\n",
       "      <td>168.1</td>\n",
       "      <td>0</td>\n",
       "      <td>0</td>\n",
       "      <td>0</td>\n",
       "      <td>...</td>\n",
       "      <td>1</td>\n",
       "      <td>0</td>\n",
       "      <td>0</td>\n",
       "      <td>1</td>\n",
       "      <td>0</td>\n",
       "      <td>0</td>\n",
       "      <td>0</td>\n",
       "      <td>1</td>\n",
       "      <td>0</td>\n",
       "      <td>0</td>\n",
       "    </tr>\n",
       "  </tbody>\n",
       "</table>\n",
       "<p>5 rows × 31 columns</p>\n",
       "</div>"
      ],
      "text/plain": [
       "    age  trtbps   chol  thalachh  oldpeak  caa  mhr_estimation  sex_1.0  \\\n",
       "0  63.0   145.0  233.0     150.0      2.3  0.0           163.9        1   \n",
       "1  37.0   130.0  250.0     187.0      3.5  0.0           182.1        1   \n",
       "2  41.0   130.0  204.0     172.0      1.4  0.0           179.3        0   \n",
       "3  56.0   120.0  236.0     178.0      0.8  0.0           168.8        1   \n",
       "4  57.0   120.0  354.0     163.0      0.6  0.0           168.1        0   \n",
       "\n",
       "   cp_1.0  cp_2.0  ...  cholesterol_cat_2  pres_chol_sum_cat_1  \\\n",
       "0       0       0  ...                  0                    0   \n",
       "1       0       1  ...                  1                    0   \n",
       "2       1       0  ...                  0                    0   \n",
       "3       1       0  ...                  0                    0   \n",
       "4       0       0  ...                  1                    0   \n",
       "\n",
       "   pres_chol_sum_cat_2  pres_chol_sum_cat_3  pres_chol_sum_cat_4  cat_sum_1.0  \\\n",
       "0                    0                    1                    0            0   \n",
       "1                    0                    1                    0            0   \n",
       "2                    1                    0                    0            0   \n",
       "3                    1                    0                    0            0   \n",
       "4                    0                    1                    0            0   \n",
       "\n",
       "   cat_sum_2.0  cat_sum_3.0  cat_sum_4.0  cat_sum_5.0  \n",
       "0            0            0            0            1  \n",
       "1            0            0            1            0  \n",
       "2            1            0            0            0  \n",
       "3            0            1            0            0  \n",
       "4            0            1            0            0  \n",
       "\n",
       "[5 rows x 31 columns]"
      ]
     },
     "execution_count": 805,
     "metadata": {},
     "output_type": "execute_result"
    }
   ],
   "source": [
    "features_ohe.head()"
   ]
  },
  {
   "cell_type": "markdown",
   "id": "54e78929",
   "metadata": {},
   "source": [
    "### Train-test split"
   ]
  },
  {
   "cell_type": "markdown",
   "id": "600bfd0e",
   "metadata": {},
   "source": [
    "Let's split the data into the training and test sets in the ratio 80/20."
   ]
  },
  {
   "cell_type": "code",
   "execution_count": 806,
   "id": "743c301e",
   "metadata": {},
   "outputs": [],
   "source": [
    "features_train, features_test, target_train, target_test = train_test_split(features_ohe, \n",
    "                                                                            target, \n",
    "                                                                            test_size=0.2,\n",
    "                                                                            random_state=42)"
   ]
  },
  {
   "cell_type": "markdown",
   "id": "40d83053",
   "metadata": {},
   "source": [
    "Let's check the shapes of the new objects."
   ]
  },
  {
   "cell_type": "code",
   "execution_count": 807,
   "id": "2a1c8e45",
   "metadata": {},
   "outputs": [
    {
     "name": "stdout",
     "output_type": "stream",
     "text": [
      "(242, 31)\n",
      "(61, 31)\n",
      "(242,)\n",
      "(61,)\n"
     ]
    }
   ],
   "source": [
    "print(features_train.shape)\n",
    "print(features_test.shape)\n",
    "print(target_train.shape)\n",
    "print(target_test.shape)"
   ]
  },
  {
   "cell_type": "markdown",
   "id": "b40cb36f",
   "metadata": {},
   "source": [
    "The split was performed successfully."
   ]
  },
  {
   "cell_type": "markdown",
   "id": "b0820efb",
   "metadata": {},
   "source": [
    "### Standardization"
   ]
  },
  {
   "cell_type": "code",
   "execution_count": 808,
   "id": "5fda6200",
   "metadata": {},
   "outputs": [],
   "source": [
    "scaler = StandardScaler()\n",
    "features_train[num_features] = scaler.fit_transform(features_train[num_features])\n",
    "features_test[num_features] = scaler.transform(features_test[num_features])"
   ]
  },
  {
   "cell_type": "code",
   "execution_count": 809,
   "id": "3e7b46b3",
   "metadata": {},
   "outputs": [
    {
     "data": {
      "text/html": [
       "<div>\n",
       "<style scoped>\n",
       "    .dataframe tbody tr th:only-of-type {\n",
       "        vertical-align: middle;\n",
       "    }\n",
       "\n",
       "    .dataframe tbody tr th {\n",
       "        vertical-align: top;\n",
       "    }\n",
       "\n",
       "    .dataframe thead th {\n",
       "        text-align: right;\n",
       "    }\n",
       "</style>\n",
       "<table border=\"1\" class=\"dataframe\">\n",
       "  <thead>\n",
       "    <tr style=\"text-align: right;\">\n",
       "      <th></th>\n",
       "      <th>age</th>\n",
       "      <th>trtbps</th>\n",
       "      <th>chol</th>\n",
       "      <th>thalachh</th>\n",
       "      <th>oldpeak</th>\n",
       "      <th>caa</th>\n",
       "      <th>mhr_estimation</th>\n",
       "      <th>sex_1.0</th>\n",
       "      <th>cp_1.0</th>\n",
       "      <th>cp_2.0</th>\n",
       "      <th>...</th>\n",
       "      <th>cholesterol_cat_2</th>\n",
       "      <th>pres_chol_sum_cat_1</th>\n",
       "      <th>pres_chol_sum_cat_2</th>\n",
       "      <th>pres_chol_sum_cat_3</th>\n",
       "      <th>pres_chol_sum_cat_4</th>\n",
       "      <th>cat_sum_1.0</th>\n",
       "      <th>cat_sum_2.0</th>\n",
       "      <th>cat_sum_3.0</th>\n",
       "      <th>cat_sum_4.0</th>\n",
       "      <th>cat_sum_5.0</th>\n",
       "    </tr>\n",
       "  </thead>\n",
       "  <tbody>\n",
       "    <tr>\n",
       "      <th>132</th>\n",
       "      <td>-1.356798</td>\n",
       "      <td>-0.616856</td>\n",
       "      <td>0.914034</td>\n",
       "      <td>0.532781</td>\n",
       "      <td>-0.920864</td>\n",
       "      <td>-0.689701</td>\n",
       "      <td>1.356798</td>\n",
       "      <td>1</td>\n",
       "      <td>1</td>\n",
       "      <td>0</td>\n",
       "      <td>...</td>\n",
       "      <td>1</td>\n",
       "      <td>0</td>\n",
       "      <td>0</td>\n",
       "      <td>1</td>\n",
       "      <td>0</td>\n",
       "      <td>0</td>\n",
       "      <td>0</td>\n",
       "      <td>1</td>\n",
       "      <td>0</td>\n",
       "      <td>0</td>\n",
       "    </tr>\n",
       "    <tr>\n",
       "      <th>202</th>\n",
       "      <td>0.385086</td>\n",
       "      <td>1.169491</td>\n",
       "      <td>0.439527</td>\n",
       "      <td>-1.753582</td>\n",
       "      <td>-0.193787</td>\n",
       "      <td>-0.689701</td>\n",
       "      <td>-0.385086</td>\n",
       "      <td>1</td>\n",
       "      <td>0</td>\n",
       "      <td>0</td>\n",
       "      <td>...</td>\n",
       "      <td>1</td>\n",
       "      <td>0</td>\n",
       "      <td>0</td>\n",
       "      <td>0</td>\n",
       "      <td>1</td>\n",
       "      <td>1</td>\n",
       "      <td>0</td>\n",
       "      <td>0</td>\n",
       "      <td>0</td>\n",
       "      <td>0</td>\n",
       "    </tr>\n",
       "    <tr>\n",
       "      <th>196</th>\n",
       "      <td>-0.921327</td>\n",
       "      <td>1.169491</td>\n",
       "      <td>-0.300704</td>\n",
       "      <td>-0.139679</td>\n",
       "      <td>2.350982</td>\n",
       "      <td>-0.689701</td>\n",
       "      <td>0.921327</td>\n",
       "      <td>1</td>\n",
       "      <td>0</td>\n",
       "      <td>1</td>\n",
       "      <td>...</td>\n",
       "      <td>0</td>\n",
       "      <td>0</td>\n",
       "      <td>0</td>\n",
       "      <td>1</td>\n",
       "      <td>0</td>\n",
       "      <td>0</td>\n",
       "      <td>0</td>\n",
       "      <td>0</td>\n",
       "      <td>1</td>\n",
       "      <td>0</td>\n",
       "    </tr>\n",
       "    <tr>\n",
       "      <th>75</th>\n",
       "      <td>0.058483</td>\n",
       "      <td>0.276318</td>\n",
       "      <td>0.059921</td>\n",
       "      <td>0.487950</td>\n",
       "      <td>0.351521</td>\n",
       "      <td>-0.689701</td>\n",
       "      <td>-0.058483</td>\n",
       "      <td>0</td>\n",
       "      <td>1</td>\n",
       "      <td>0</td>\n",
       "      <td>...</td>\n",
       "      <td>1</td>\n",
       "      <td>0</td>\n",
       "      <td>0</td>\n",
       "      <td>1</td>\n",
       "      <td>0</td>\n",
       "      <td>0</td>\n",
       "      <td>1</td>\n",
       "      <td>0</td>\n",
       "      <td>0</td>\n",
       "      <td>0</td>\n",
       "    </tr>\n",
       "    <tr>\n",
       "      <th>176</th>\n",
       "      <td>0.602822</td>\n",
       "      <td>-0.795490</td>\n",
       "      <td>-0.319684</td>\n",
       "      <td>0.443119</td>\n",
       "      <td>0.351521</td>\n",
       "      <td>1.333421</td>\n",
       "      <td>-0.602822</td>\n",
       "      <td>1</td>\n",
       "      <td>0</td>\n",
       "      <td>0</td>\n",
       "      <td>...</td>\n",
       "      <td>0</td>\n",
       "      <td>1</td>\n",
       "      <td>0</td>\n",
       "      <td>0</td>\n",
       "      <td>0</td>\n",
       "      <td>0</td>\n",
       "      <td>1</td>\n",
       "      <td>0</td>\n",
       "      <td>0</td>\n",
       "      <td>0</td>\n",
       "    </tr>\n",
       "  </tbody>\n",
       "</table>\n",
       "<p>5 rows × 31 columns</p>\n",
       "</div>"
      ],
      "text/plain": [
       "          age    trtbps      chol  thalachh   oldpeak       caa  \\\n",
       "132 -1.356798 -0.616856  0.914034  0.532781 -0.920864 -0.689701   \n",
       "202  0.385086  1.169491  0.439527 -1.753582 -0.193787 -0.689701   \n",
       "196 -0.921327  1.169491 -0.300704 -0.139679  2.350982 -0.689701   \n",
       "75   0.058483  0.276318  0.059921  0.487950  0.351521 -0.689701   \n",
       "176  0.602822 -0.795490 -0.319684  0.443119  0.351521  1.333421   \n",
       "\n",
       "     mhr_estimation  sex_1.0  cp_1.0  cp_2.0  ...  cholesterol_cat_2  \\\n",
       "132        1.356798        1       1       0  ...                  1   \n",
       "202       -0.385086        1       0       0  ...                  1   \n",
       "196        0.921327        1       0       1  ...                  0   \n",
       "75        -0.058483        0       1       0  ...                  1   \n",
       "176       -0.602822        1       0       0  ...                  0   \n",
       "\n",
       "     pres_chol_sum_cat_1  pres_chol_sum_cat_2  pres_chol_sum_cat_3  \\\n",
       "132                    0                    0                    1   \n",
       "202                    0                    0                    0   \n",
       "196                    0                    0                    1   \n",
       "75                     0                    0                    1   \n",
       "176                    1                    0                    0   \n",
       "\n",
       "     pres_chol_sum_cat_4  cat_sum_1.0  cat_sum_2.0  cat_sum_3.0  cat_sum_4.0  \\\n",
       "132                    0            0            0            1            0   \n",
       "202                    1            1            0            0            0   \n",
       "196                    0            0            0            0            1   \n",
       "75                     0            0            1            0            0   \n",
       "176                    0            0            1            0            0   \n",
       "\n",
       "     cat_sum_5.0  \n",
       "132            0  \n",
       "202            0  \n",
       "196            0  \n",
       "75             0  \n",
       "176            0  \n",
       "\n",
       "[5 rows x 31 columns]"
      ]
     },
     "execution_count": 809,
     "metadata": {},
     "output_type": "execute_result"
    }
   ],
   "source": [
    "features_train.head()"
   ]
  },
  {
   "cell_type": "code",
   "execution_count": 810,
   "id": "d649ffc5",
   "metadata": {},
   "outputs": [
    {
     "data": {
      "text/html": [
       "<div>\n",
       "<style scoped>\n",
       "    .dataframe tbody tr th:only-of-type {\n",
       "        vertical-align: middle;\n",
       "    }\n",
       "\n",
       "    .dataframe tbody tr th {\n",
       "        vertical-align: top;\n",
       "    }\n",
       "\n",
       "    .dataframe thead th {\n",
       "        text-align: right;\n",
       "    }\n",
       "</style>\n",
       "<table border=\"1\" class=\"dataframe\">\n",
       "  <thead>\n",
       "    <tr style=\"text-align: right;\">\n",
       "      <th></th>\n",
       "      <th>age</th>\n",
       "      <th>trtbps</th>\n",
       "      <th>chol</th>\n",
       "      <th>thalachh</th>\n",
       "      <th>oldpeak</th>\n",
       "      <th>caa</th>\n",
       "      <th>mhr_estimation</th>\n",
       "      <th>sex_1.0</th>\n",
       "      <th>cp_1.0</th>\n",
       "      <th>cp_2.0</th>\n",
       "      <th>...</th>\n",
       "      <th>cholesterol_cat_2</th>\n",
       "      <th>pres_chol_sum_cat_1</th>\n",
       "      <th>pres_chol_sum_cat_2</th>\n",
       "      <th>pres_chol_sum_cat_3</th>\n",
       "      <th>pres_chol_sum_cat_4</th>\n",
       "      <th>cat_sum_1.0</th>\n",
       "      <th>cat_sum_2.0</th>\n",
       "      <th>cat_sum_3.0</th>\n",
       "      <th>cat_sum_4.0</th>\n",
       "      <th>cat_sum_5.0</th>\n",
       "    </tr>\n",
       "  </thead>\n",
       "  <tbody>\n",
       "    <tr>\n",
       "      <th>179</th>\n",
       "      <td>0.276218</td>\n",
       "      <td>1.169491</td>\n",
       "      <td>0.553408</td>\n",
       "      <td>-1.708752</td>\n",
       "      <td>-0.375556</td>\n",
       "      <td>0.321860</td>\n",
       "      <td>-0.276218</td>\n",
       "      <td>1</td>\n",
       "      <td>0</td>\n",
       "      <td>0</td>\n",
       "      <td>...</td>\n",
       "      <td>1</td>\n",
       "      <td>0</td>\n",
       "      <td>0</td>\n",
       "      <td>0</td>\n",
       "      <td>1</td>\n",
       "      <td>0</td>\n",
       "      <td>0</td>\n",
       "      <td>1</td>\n",
       "      <td>0</td>\n",
       "      <td>0</td>\n",
       "    </tr>\n",
       "    <tr>\n",
       "      <th>228</th>\n",
       "      <td>0.493954</td>\n",
       "      <td>2.360389</td>\n",
       "      <td>0.781172</td>\n",
       "      <td>0.398289</td>\n",
       "      <td>-0.739095</td>\n",
       "      <td>-0.689701</td>\n",
       "      <td>-0.493954</td>\n",
       "      <td>1</td>\n",
       "      <td>0</td>\n",
       "      <td>0</td>\n",
       "      <td>...</td>\n",
       "      <td>1</td>\n",
       "      <td>0</td>\n",
       "      <td>0</td>\n",
       "      <td>0</td>\n",
       "      <td>1</td>\n",
       "      <td>0</td>\n",
       "      <td>0</td>\n",
       "      <td>1</td>\n",
       "      <td>0</td>\n",
       "      <td>0</td>\n",
       "    </tr>\n",
       "    <tr>\n",
       "      <th>111</th>\n",
       "      <td>0.276218</td>\n",
       "      <td>1.169491</td>\n",
       "      <td>-2.293633</td>\n",
       "      <td>1.025918</td>\n",
       "      <td>-0.739095</td>\n",
       "      <td>0.321860</td>\n",
       "      <td>-0.276218</td>\n",
       "      <td>1</td>\n",
       "      <td>0</td>\n",
       "      <td>1</td>\n",
       "      <td>...</td>\n",
       "      <td>0</td>\n",
       "      <td>0</td>\n",
       "      <td>1</td>\n",
       "      <td>0</td>\n",
       "      <td>0</td>\n",
       "      <td>0</td>\n",
       "      <td>0</td>\n",
       "      <td>1</td>\n",
       "      <td>0</td>\n",
       "      <td>0</td>\n",
       "    </tr>\n",
       "    <tr>\n",
       "      <th>246</th>\n",
       "      <td>0.167350</td>\n",
       "      <td>0.216773</td>\n",
       "      <td>3.077785</td>\n",
       "      <td>-0.005187</td>\n",
       "      <td>0.805944</td>\n",
       "      <td>1.333421</td>\n",
       "      <td>-0.167350</td>\n",
       "      <td>0</td>\n",
       "      <td>0</td>\n",
       "      <td>0</td>\n",
       "      <td>...</td>\n",
       "      <td>1</td>\n",
       "      <td>0</td>\n",
       "      <td>0</td>\n",
       "      <td>1</td>\n",
       "      <td>0</td>\n",
       "      <td>1</td>\n",
       "      <td>0</td>\n",
       "      <td>0</td>\n",
       "      <td>0</td>\n",
       "      <td>0</td>\n",
       "    </tr>\n",
       "    <tr>\n",
       "      <th>60</th>\n",
       "      <td>1.800367</td>\n",
       "      <td>-1.212304</td>\n",
       "      <td>0.344625</td>\n",
       "      <td>-0.901800</td>\n",
       "      <td>-0.920864</td>\n",
       "      <td>0.321860</td>\n",
       "      <td>-1.800367</td>\n",
       "      <td>0</td>\n",
       "      <td>0</td>\n",
       "      <td>1</td>\n",
       "      <td>...</td>\n",
       "      <td>1</td>\n",
       "      <td>0</td>\n",
       "      <td>1</td>\n",
       "      <td>0</td>\n",
       "      <td>0</td>\n",
       "      <td>0</td>\n",
       "      <td>0</td>\n",
       "      <td>1</td>\n",
       "      <td>0</td>\n",
       "      <td>0</td>\n",
       "    </tr>\n",
       "  </tbody>\n",
       "</table>\n",
       "<p>5 rows × 31 columns</p>\n",
       "</div>"
      ],
      "text/plain": [
       "          age    trtbps      chol  thalachh   oldpeak       caa  \\\n",
       "179  0.276218  1.169491  0.553408 -1.708752 -0.375556  0.321860   \n",
       "228  0.493954  2.360389  0.781172  0.398289 -0.739095 -0.689701   \n",
       "111  0.276218  1.169491 -2.293633  1.025918 -0.739095  0.321860   \n",
       "246  0.167350  0.216773  3.077785 -0.005187  0.805944  1.333421   \n",
       "60   1.800367 -1.212304  0.344625 -0.901800 -0.920864  0.321860   \n",
       "\n",
       "     mhr_estimation  sex_1.0  cp_1.0  cp_2.0  ...  cholesterol_cat_2  \\\n",
       "179       -0.276218        1       0       0  ...                  1   \n",
       "228       -0.493954        1       0       0  ...                  1   \n",
       "111       -0.276218        1       0       1  ...                  0   \n",
       "246       -0.167350        0       0       0  ...                  1   \n",
       "60        -1.800367        0       0       1  ...                  1   \n",
       "\n",
       "     pres_chol_sum_cat_1  pres_chol_sum_cat_2  pres_chol_sum_cat_3  \\\n",
       "179                    0                    0                    0   \n",
       "228                    0                    0                    0   \n",
       "111                    0                    1                    0   \n",
       "246                    0                    0                    1   \n",
       "60                     0                    1                    0   \n",
       "\n",
       "     pres_chol_sum_cat_4  cat_sum_1.0  cat_sum_2.0  cat_sum_3.0  cat_sum_4.0  \\\n",
       "179                    1            0            0            1            0   \n",
       "228                    1            0            0            1            0   \n",
       "111                    0            0            0            1            0   \n",
       "246                    0            1            0            0            0   \n",
       "60                     0            0            0            1            0   \n",
       "\n",
       "     cat_sum_5.0  \n",
       "179            0  \n",
       "228            0  \n",
       "111            0  \n",
       "246            0  \n",
       "60             0  \n",
       "\n",
       "[5 rows x 31 columns]"
      ]
     },
     "execution_count": 810,
     "metadata": {},
     "output_type": "execute_result"
    }
   ],
   "source": [
    "features_test.head()"
   ]
  },
  {
   "cell_type": "markdown",
   "id": "b9d51537",
   "metadata": {},
   "source": [
    "- Data preparation is completed."
   ]
  },
  {
   "cell_type": "markdown",
   "id": "4a2d99f5",
   "metadata": {},
   "source": [
    "## Modeling"
   ]
  },
  {
   "cell_type": "markdown",
   "id": "9541339a",
   "metadata": {},
   "source": [
    "In this section, we will learn several models and compare their performance using cross-validation. For hyperparameters tuning RandomizedSearchCV will be used. As a target, metric we will use f1-score. "
   ]
  },
  {
   "cell_type": "markdown",
   "id": "df5e9ef8",
   "metadata": {},
   "source": [
    "### SVM"
   ]
  },
  {
   "cell_type": "markdown",
   "id": "10d51473",
   "metadata": {},
   "source": [
    "For support vector machine classsifier three parameters will be tuned: C, kernel and gamma."
   ]
  },
  {
   "cell_type": "code",
   "execution_count": 1161,
   "id": "b65e8feb",
   "metadata": {},
   "outputs": [],
   "source": [
    "parameters_svc = dict(\n",
    "    C=loguniform(0.0001, 20),\n",
    "    kernel=['rbf', 'poly'],\n",
    "    gamma=loguniform(0.0001, 20)\n",
    ")"
   ]
  },
  {
   "cell_type": "code",
   "execution_count": 1053,
   "id": "65b66a15",
   "metadata": {},
   "outputs": [
    {
     "name": "stdout",
     "output_type": "stream",
     "text": [
      "Wall time: 3.64 s\n"
     ]
    },
    {
     "data": {
      "text/plain": [
       "RandomizedSearchCV(cv=5, estimator=SVC(probability=True, random_state=42),\n",
       "                   n_iter=75,\n",
       "                   param_distributions={'C': <scipy.stats._distn_infrastructure.rv_frozen object at 0x0000027D4DC35310>,\n",
       "                                        'gamma': <scipy.stats._distn_infrastructure.rv_frozen object at 0x0000027D54BF8850>,\n",
       "                                        'kernel': ['rbf', 'poly']},\n",
       "                   random_state=42, scoring='f1')"
      ]
     },
     "execution_count": 1053,
     "metadata": {},
     "output_type": "execute_result"
    }
   ],
   "source": [
    "%%time\n",
    "random_search_svc = RandomizedSearchCV(\n",
    "    estimator=SVC(probability=True, random_state=42),\n",
    "    param_distributions=parameters_svc,\n",
    "    n_iter=75,\n",
    "    scoring='f1',\n",
    "    cv=5,\n",
    "    random_state=42\n",
    ")\n",
    "random_search_svc.fit(features_train, target_train)"
   ]
  },
  {
   "cell_type": "markdown",
   "id": "e0f1f619",
   "metadata": {},
   "source": [
    "Let's have a look at the best score and at the best parameters."
   ]
  },
  {
   "cell_type": "code",
   "execution_count": 1054,
   "id": "d1d47309",
   "metadata": {},
   "outputs": [
    {
     "data": {
      "text/plain": [
       "0.8325186005766767"
      ]
     },
     "execution_count": 1054,
     "metadata": {},
     "output_type": "execute_result"
    }
   ],
   "source": [
    "svc_cv_f1 = random_search_svc.best_score_\n",
    "svc_cv_f1"
   ]
  },
  {
   "cell_type": "code",
   "execution_count": 1055,
   "id": "2fe76611",
   "metadata": {},
   "outputs": [
    {
     "data": {
      "text/plain": [
       "{'C': 1.9551916197232408, 'gamma': 0.007051619289571366, 'kernel': 'rbf'}"
      ]
     },
     "execution_count": 1055,
     "metadata": {},
     "output_type": "execute_result"
    }
   ],
   "source": [
    "random_search_svc.best_params_"
   ]
  },
  {
   "cell_type": "code",
   "execution_count": 1056,
   "id": "1ee52e3c",
   "metadata": {},
   "outputs": [],
   "source": [
    "best_svc = random_search_svc.best_estimator_"
   ]
  },
  {
   "cell_type": "markdown",
   "id": "aaa3bdcf",
   "metadata": {},
   "source": [
    "### Random forest"
   ]
  },
  {
   "cell_type": "markdown",
   "id": "5789b4ac",
   "metadata": {},
   "source": [
    "5 parameters will be tuned for the Random Forest."
   ]
  },
  {
   "cell_type": "code",
   "execution_count": 1160,
   "id": "03874230",
   "metadata": {},
   "outputs": [],
   "source": [
    "parameters_rf = dict(\n",
    "    n_estimators=range(5, 1000),\n",
    "    max_depth=range(4, 30),\n",
    "    min_samples_split=range(2, 10),\n",
    "    min_samples_leaf=range(1, 10),\n",
    "    max_features=range(2, features_train.shape[1])\n",
    ")"
   ]
  },
  {
   "cell_type": "code",
   "execution_count": 1057,
   "id": "fb6328c1",
   "metadata": {},
   "outputs": [
    {
     "name": "stdout",
     "output_type": "stream",
     "text": [
      "Fitting 5 folds for each of 75 candidates, totalling 375 fits\n",
      "Wall time: 17.1 s\n"
     ]
    },
    {
     "data": {
      "text/plain": [
       "RandomizedSearchCV(cv=5, estimator=RandomForestClassifier(random_state=42),\n",
       "                   n_iter=75, n_jobs=-1,\n",
       "                   param_distributions={'max_depth': range(4, 30),\n",
       "                                        'max_features': range(2, 31),\n",
       "                                        'min_samples_leaf': range(1, 10),\n",
       "                                        'min_samples_split': range(2, 10),\n",
       "                                        'n_estimators': range(5, 1000)},\n",
       "                   random_state=42, scoring='f1', verbose=1)"
      ]
     },
     "execution_count": 1057,
     "metadata": {},
     "output_type": "execute_result"
    }
   ],
   "source": [
    "%%time\n",
    "random_search_rf = RandomizedSearchCV(\n",
    "    estimator=RandomForestClassifier(random_state=42),\n",
    "    param_distributions=parameters_rf,\n",
    "    n_iter=75,\n",
    "    scoring='f1',\n",
    "    cv=5,\n",
    "    random_state=42,\n",
    "    verbose=1,\n",
    "    n_jobs=-1\n",
    ")\n",
    "random_search_rf.fit(features_train, target_train)"
   ]
  },
  {
   "cell_type": "markdown",
   "id": "bc875d2c",
   "metadata": {},
   "source": [
    "Let's have a look at the best score and the best parameters."
   ]
  },
  {
   "cell_type": "code",
   "execution_count": 1058,
   "id": "74aabb1a",
   "metadata": {},
   "outputs": [
    {
     "data": {
      "text/plain": [
       "0.8529167264258541"
      ]
     },
     "execution_count": 1058,
     "metadata": {},
     "output_type": "execute_result"
    }
   ],
   "source": [
    "rf_cv_f1 = random_search_rf.best_score_\n",
    "rf_cv_f1"
   ]
  },
  {
   "cell_type": "code",
   "execution_count": 1059,
   "id": "739b21cf",
   "metadata": {},
   "outputs": [
    {
     "data": {
      "text/plain": [
       "{'n_estimators': 98,\n",
       " 'min_samples_split': 2,\n",
       " 'min_samples_leaf': 2,\n",
       " 'max_features': 7,\n",
       " 'max_depth': 6}"
      ]
     },
     "execution_count": 1059,
     "metadata": {},
     "output_type": "execute_result"
    }
   ],
   "source": [
    "random_search_rf.best_params_"
   ]
  },
  {
   "cell_type": "code",
   "execution_count": 1060,
   "id": "95ea1ad7",
   "metadata": {},
   "outputs": [],
   "source": [
    "best_rf = random_search_rf.best_estimator_"
   ]
  },
  {
   "cell_type": "markdown",
   "id": "ed587cf5",
   "metadata": {},
   "source": [
    "### CatBoost"
   ]
  },
  {
   "cell_type": "markdown",
   "id": "6698c174",
   "metadata": {},
   "source": [
    "As we discussed before, CatBoost will be trained on the unprepared data. 5 parameters will be tuned: learning rate (the higher - the bigger the step of the gradient descent), iterations,  depth, l2_leaf_reg (regularization parameter), random_strength (a parameter that adds random to the model)."
   ]
  },
  {
   "cell_type": "code",
   "execution_count": 882,
   "id": "775782b7",
   "metadata": {},
   "outputs": [],
   "source": [
    "parameters_boost=dict(\n",
    "    learning_rate=loguniform(0.0001, 0.5),\n",
    "    iterations=range(10, 500),\n",
    "    depth=range(3, 12),\n",
    "    l2_leaf_reg=uniform(1, 20),\n",
    "    random_strength=loguniform(0.001, 1000)\n",
    ")"
   ]
  },
  {
   "cell_type": "code",
   "execution_count": 883,
   "id": "50a24708",
   "metadata": {},
   "outputs": [
    {
     "name": "stdout",
     "output_type": "stream",
     "text": [
      "Fitting 5 folds for each of 25 candidates, totalling 125 fits\n",
      "Wall time: 2min 13s\n"
     ]
    },
    {
     "data": {
      "text/plain": [
       "RandomizedSearchCV(cv=5,\n",
       "                   estimator=<catboost.core.CatBoostClassifier object at 0x0000027D58556970>,\n",
       "                   n_iter=25, n_jobs=-1,\n",
       "                   param_distributions={'depth': range(3, 12),\n",
       "                                        'iterations': range(10, 500),\n",
       "                                        'l2_leaf_reg': <scipy.stats._distn_infrastructure.rv_frozen object at 0x0000027D55028BB0>,\n",
       "                                        'learning_rate': <scipy.stats._distn_infrastructure.rv_frozen object at 0x0000027D58507460>,\n",
       "                                        'random_strength': <scipy.stats._distn_infrastructure.rv_frozen object at 0x0000027D54625040>},\n",
       "                   random_state=42, scoring='f1', verbose=1)"
      ]
     },
     "execution_count": 883,
     "metadata": {},
     "output_type": "execute_result"
    }
   ],
   "source": [
    "%%time\n",
    "random_search_boost = RandomizedSearchCV(\n",
    "    estimator=CatBoostClassifier(verbose=False, cat_features=cat_features, eval_metric='F1'),\n",
    "    param_distributions=parameters_boost,\n",
    "    n_iter=25,\n",
    "    scoring='f1',\n",
    "    cv=5,\n",
    "    random_state=42,\n",
    "    verbose=1,\n",
    "    n_jobs=-1\n",
    ")\n",
    "random_search_boost.fit(X_train, y_train)"
   ]
  },
  {
   "cell_type": "code",
   "execution_count": 884,
   "id": "4a1686a7",
   "metadata": {},
   "outputs": [
    {
     "data": {
      "text/plain": [
       "{'depth': 6,\n",
       " 'iterations': 279,\n",
       " 'l2_leaf_reg': 15.545439917128418,\n",
       " 'learning_rate': 0.0016138549885357876,\n",
       " 'random_strength': 2.646450933886621}"
      ]
     },
     "execution_count": 884,
     "metadata": {},
     "output_type": "execute_result"
    }
   ],
   "source": [
    "random_search_boost.best_params_"
   ]
  },
  {
   "cell_type": "code",
   "execution_count": 885,
   "id": "5c50c837",
   "metadata": {},
   "outputs": [
    {
     "data": {
      "text/plain": [
       "0.8573662675091688"
      ]
     },
     "execution_count": 885,
     "metadata": {},
     "output_type": "execute_result"
    }
   ],
   "source": [
    "catboost_cv_f1 = random_search_boost.best_score_\n",
    "catboost_cv_f1"
   ]
  },
  {
   "cell_type": "code",
   "execution_count": 886,
   "id": "12237b53",
   "metadata": {},
   "outputs": [],
   "source": [
    "best_catboost = random_search_boost.best_estimator_"
   ]
  },
  {
   "cell_type": "markdown",
   "id": "4166fb7f",
   "metadata": {},
   "source": [
    "### Comparison of the models"
   ]
  },
  {
   "cell_type": "markdown",
   "id": "5eb1720e",
   "metadata": {},
   "source": [
    "Let's summarize the results obtained on the cross-validation."
   ]
  },
  {
   "cell_type": "code",
   "execution_count": 1142,
   "id": "8fd3bab7",
   "metadata": {},
   "outputs": [],
   "source": [
    "results_cv = pd.DataFrame([\n",
    "    ['svm', svc_cv_f1],\n",
    "    ['random forest', rf_cv_f1],\n",
    "    ['catboost', catboost_cv_f1]],\n",
    "    columns=['model', 'f1-score on cross-validation']\n",
    ")"
   ]
  },
  {
   "cell_type": "code",
   "execution_count": 1143,
   "id": "b4889b2a",
   "metadata": {},
   "outputs": [
    {
     "data": {
      "text/html": [
       "<div>\n",
       "<style scoped>\n",
       "    .dataframe tbody tr th:only-of-type {\n",
       "        vertical-align: middle;\n",
       "    }\n",
       "\n",
       "    .dataframe tbody tr th {\n",
       "        vertical-align: top;\n",
       "    }\n",
       "\n",
       "    .dataframe thead th {\n",
       "        text-align: right;\n",
       "    }\n",
       "</style>\n",
       "<table border=\"1\" class=\"dataframe\">\n",
       "  <thead>\n",
       "    <tr style=\"text-align: right;\">\n",
       "      <th></th>\n",
       "      <th>model</th>\n",
       "      <th>f1-score on cross-validation</th>\n",
       "    </tr>\n",
       "  </thead>\n",
       "  <tbody>\n",
       "    <tr>\n",
       "      <th>0</th>\n",
       "      <td>svm</td>\n",
       "      <td>0.832519</td>\n",
       "    </tr>\n",
       "    <tr>\n",
       "      <th>1</th>\n",
       "      <td>random forest</td>\n",
       "      <td>0.852917</td>\n",
       "    </tr>\n",
       "    <tr>\n",
       "      <th>2</th>\n",
       "      <td>catboost</td>\n",
       "      <td>0.857366</td>\n",
       "    </tr>\n",
       "  </tbody>\n",
       "</table>\n",
       "</div>"
      ],
      "text/plain": [
       "           model  f1-score on cross-validation\n",
       "0            svm                      0.832519\n",
       "1  random forest                      0.852917\n",
       "2       catboost                      0.857366"
      ]
     },
     "execution_count": 1143,
     "metadata": {},
     "output_type": "execute_result"
    }
   ],
   "source": [
    "results_cv"
   ]
  },
  {
   "cell_type": "markdown",
   "id": "2299ecbe",
   "metadata": {},
   "source": [
    "- 3 models were trained, and their hyperparameters were optimized.\n",
    "- The best performance (measured with f1-score) was shown by Catboost. Random Forest has comparable results. SVM is a bit worse."
   ]
  },
  {
   "cell_type": "markdown",
   "id": "48dc32b3",
   "metadata": {},
   "source": [
    "## Evaluating model performance"
   ]
  },
  {
   "cell_type": "markdown",
   "id": "2321b0eb",
   "metadata": {},
   "source": [
    "In this section, we will check the performance of three best models on the test set."
   ]
  },
  {
   "cell_type": "markdown",
   "id": "bae6aa81",
   "metadata": {},
   "source": [
    "First of all, let's make the predictions."
   ]
  },
  {
   "cell_type": "code",
   "execution_count": 1144,
   "id": "5af617ce",
   "metadata": {},
   "outputs": [],
   "source": [
    "svc_pred = best_svc.predict(features_test)\n",
    "rf_pred = best_rf.predict(features_test)\n",
    "catboost_pred = best_catboost.predict(X_test)"
   ]
  },
  {
   "cell_type": "code",
   "execution_count": 1145,
   "id": "c41103c0",
   "metadata": {},
   "outputs": [],
   "source": [
    "svc_pred_prob = best_svc.predict_proba(features_test)[:, 1]\n",
    "rf_pred_prob = best_rf.predict_proba(features_test)[:, 1]\n",
    "catboost_pred_prob = best_catboost.predict_proba(X_test)[:, 1]"
   ]
  },
  {
   "cell_type": "markdown",
   "id": "f1bf6dee",
   "metadata": {},
   "source": [
    "### F-1 score"
   ]
  },
  {
   "cell_type": "markdown",
   "id": "0fecaac5",
   "metadata": {},
   "source": [
    "Let's calculate f1-score on the test set."
   ]
  },
  {
   "cell_type": "code",
   "execution_count": 1146,
   "id": "22c43438",
   "metadata": {},
   "outputs": [
    {
     "data": {
      "text/plain": [
       "0.8787878787878787"
      ]
     },
     "execution_count": 1146,
     "metadata": {},
     "output_type": "execute_result"
    }
   ],
   "source": [
    "f1_svc_test = f1_score(target_test, svc_pred)\n",
    "f1_svc_test"
   ]
  },
  {
   "cell_type": "code",
   "execution_count": 1147,
   "id": "6d3ffa54",
   "metadata": {},
   "outputs": [
    {
     "data": {
      "text/plain": [
       "0.8787878787878787"
      ]
     },
     "execution_count": 1147,
     "metadata": {},
     "output_type": "execute_result"
    }
   ],
   "source": [
    "f1_rf_test = f1_score(target_test, rf_pred)\n",
    "f1_rf_test"
   ]
  },
  {
   "cell_type": "code",
   "execution_count": 1148,
   "id": "d55faa98",
   "metadata": {
    "scrolled": true
   },
   "outputs": [
    {
     "data": {
      "text/plain": [
       "0.8923076923076922"
      ]
     },
     "execution_count": 1148,
     "metadata": {},
     "output_type": "execute_result"
    }
   ],
   "source": [
    "f1_catboost_test = f1_score(y_test, catboost_pred)\n",
    "f1_catboost_test"
   ]
  },
  {
   "cell_type": "code",
   "execution_count": 1149,
   "id": "6ec3b92a",
   "metadata": {},
   "outputs": [],
   "source": [
    "results_cv['f1-score on the test set'] = pd.Series([f1_svc_test, f1_rf_test, f1_catboost_test])"
   ]
  },
  {
   "cell_type": "markdown",
   "id": "d5027b96",
   "metadata": {},
   "source": [
    "- The situation slightly changed on the test set. Catboost still shows the best result, Random Forest and SVM have the same score."
   ]
  },
  {
   "cell_type": "code",
   "execution_count": 1150,
   "id": "f4faf7e0",
   "metadata": {},
   "outputs": [
    {
     "data": {
      "text/html": [
       "<div>\n",
       "<style scoped>\n",
       "    .dataframe tbody tr th:only-of-type {\n",
       "        vertical-align: middle;\n",
       "    }\n",
       "\n",
       "    .dataframe tbody tr th {\n",
       "        vertical-align: top;\n",
       "    }\n",
       "\n",
       "    .dataframe thead th {\n",
       "        text-align: right;\n",
       "    }\n",
       "</style>\n",
       "<table border=\"1\" class=\"dataframe\">\n",
       "  <thead>\n",
       "    <tr style=\"text-align: right;\">\n",
       "      <th></th>\n",
       "      <th>model</th>\n",
       "      <th>f1-score on cross-validation</th>\n",
       "      <th>f1-score on the test set</th>\n",
       "    </tr>\n",
       "  </thead>\n",
       "  <tbody>\n",
       "    <tr>\n",
       "      <th>0</th>\n",
       "      <td>svm</td>\n",
       "      <td>0.832519</td>\n",
       "      <td>0.878788</td>\n",
       "    </tr>\n",
       "    <tr>\n",
       "      <th>1</th>\n",
       "      <td>random forest</td>\n",
       "      <td>0.852917</td>\n",
       "      <td>0.878788</td>\n",
       "    </tr>\n",
       "    <tr>\n",
       "      <th>2</th>\n",
       "      <td>catboost</td>\n",
       "      <td>0.857366</td>\n",
       "      <td>0.892308</td>\n",
       "    </tr>\n",
       "  </tbody>\n",
       "</table>\n",
       "</div>"
      ],
      "text/plain": [
       "           model  f1-score on cross-validation  f1-score on the test set\n",
       "0            svm                      0.832519                  0.878788\n",
       "1  random forest                      0.852917                  0.878788\n",
       "2       catboost                      0.857366                  0.892308"
      ]
     },
     "execution_count": 1150,
     "metadata": {},
     "output_type": "execute_result"
    }
   ],
   "source": [
    "results_cv"
   ]
  },
  {
   "cell_type": "markdown",
   "id": "dd48ee7c",
   "metadata": {},
   "source": [
    "### ROC-curve"
   ]
  },
  {
   "cell_type": "markdown",
   "id": "bbe2d781",
   "metadata": {},
   "source": [
    "ROC-curve is another important metric to evaluate the performance of a classification model. The main advantage is that it's independent of the classification thresholds."
   ]
  },
  {
   "cell_type": "code",
   "execution_count": 1151,
   "id": "56c28031",
   "metadata": {},
   "outputs": [],
   "source": [
    "fpr_svc, tpr_svc, thresh_svc = roc_curve(target_test, svc_pred_prob)\n",
    "fpr_rf, tpr_rf, thresh_rf = roc_curve(target_test, rf_pred_prob)\n",
    "fpr_catboost, tpr_catboost, thresh_catboost = roc_curve(y_test, catboost_pred_prob)"
   ]
  },
  {
   "cell_type": "code",
   "execution_count": 1152,
   "id": "5ae6c262",
   "metadata": {
    "scrolled": false
   },
   "outputs": [
    {
     "data": {
      "image/png": "[encoded data removed]",
      "text/plain": [
       "<Figure size 1008x432 with 1 Axes>"
      ]
     },
     "metadata": {
      "needs_background": "light"
     },
     "output_type": "display_data"
    }
   ],
   "source": [
    "plt.figure(figsize=(14,6))\n",
    "sns.lineplot(x=fpr_svc, y=tpr_svc, ci=None, label='svc')\n",
    "sns.lineplot(x=fpr_rf, y=tpr_rf, ci=None, label='random forest')\n",
    "sns.lineplot(x=fpr_catboost, y=tpr_catboost, ci=None, label='catboost')\n",
    "plt.xlabel('false positive rate')\n",
    "plt.ylabel('true positive rate')\n",
    "plt.legend()\n",
    "plt.show()"
   ]
  },
  {
   "cell_type": "markdown",
   "id": "7bd3e99f",
   "metadata": {},
   "source": [
    "Let's calculate areas under the curves."
   ]
  },
  {
   "cell_type": "code",
   "execution_count": 1153,
   "id": "9bd2313d",
   "metadata": {},
   "outputs": [
    {
     "data": {
      "text/plain": [
       "0.9245689655172413"
      ]
     },
     "execution_count": 1153,
     "metadata": {},
     "output_type": "execute_result"
    }
   ],
   "source": [
    "roc_auc_svc_test = roc_auc_score(target_test, svc_pred_prob)\n",
    "roc_auc_svc_test"
   ]
  },
  {
   "cell_type": "code",
   "execution_count": 1154,
   "id": "7582bd2e",
   "metadata": {},
   "outputs": [
    {
     "data": {
      "text/plain": [
       "0.9105603448275862"
      ]
     },
     "execution_count": 1154,
     "metadata": {},
     "output_type": "execute_result"
    }
   ],
   "source": [
    "roc_auc_rf_test = roc_auc_score(target_test, rf_pred_prob)\n",
    "roc_auc_rf_test"
   ]
  },
  {
   "cell_type": "code",
   "execution_count": 1155,
   "id": "5d7a494a",
   "metadata": {},
   "outputs": [
    {
     "data": {
      "text/plain": [
       "0.9224137931034483"
      ]
     },
     "execution_count": 1155,
     "metadata": {},
     "output_type": "execute_result"
    }
   ],
   "source": [
    "roc_auc_catboost_test = roc_auc_score(y_test, catboost_pred_prob)\n",
    "roc_auc_catboost_test"
   ]
  },
  {
   "cell_type": "markdown",
   "id": "3ef0b879",
   "metadata": {},
   "source": [
    "SVC and catboost show similar performance. They both outperformed the Random Forest."
   ]
  },
  {
   "cell_type": "code",
   "execution_count": 1156,
   "id": "a4d63ae9",
   "metadata": {},
   "outputs": [],
   "source": [
    "results_cv['roc_auc on the test set'] = pd.Series([roc_auc_svc_test, roc_auc_rf_test, roc_auc_catboost_test])"
   ]
  },
  {
   "cell_type": "markdown",
   "id": "76ccbeb4",
   "metadata": {},
   "source": [
    "### Final table of results"
   ]
  },
  {
   "cell_type": "code",
   "execution_count": 1157,
   "id": "e69f4964",
   "metadata": {
    "scrolled": true
   },
   "outputs": [
    {
     "data": {
      "text/html": [
       "<div>\n",
       "<style scoped>\n",
       "    .dataframe tbody tr th:only-of-type {\n",
       "        vertical-align: middle;\n",
       "    }\n",
       "\n",
       "    .dataframe tbody tr th {\n",
       "        vertical-align: top;\n",
       "    }\n",
       "\n",
       "    .dataframe thead th {\n",
       "        text-align: right;\n",
       "    }\n",
       "</style>\n",
       "<table border=\"1\" class=\"dataframe\">\n",
       "  <thead>\n",
       "    <tr style=\"text-align: right;\">\n",
       "      <th></th>\n",
       "      <th>model</th>\n",
       "      <th>f1-score on cross-validation</th>\n",
       "      <th>f1-score on the test set</th>\n",
       "      <th>roc_auc on the test set</th>\n",
       "    </tr>\n",
       "  </thead>\n",
       "  <tbody>\n",
       "    <tr>\n",
       "      <th>0</th>\n",
       "      <td>svm</td>\n",
       "      <td>0.832519</td>\n",
       "      <td>0.878788</td>\n",
       "      <td>0.924569</td>\n",
       "    </tr>\n",
       "    <tr>\n",
       "      <th>1</th>\n",
       "      <td>random forest</td>\n",
       "      <td>0.852917</td>\n",
       "      <td>0.878788</td>\n",
       "      <td>0.910560</td>\n",
       "    </tr>\n",
       "    <tr>\n",
       "      <th>2</th>\n",
       "      <td>catboost</td>\n",
       "      <td>0.857366</td>\n",
       "      <td>0.892308</td>\n",
       "      <td>0.922414</td>\n",
       "    </tr>\n",
       "  </tbody>\n",
       "</table>\n",
       "</div>"
      ],
      "text/plain": [
       "           model  f1-score on cross-validation  f1-score on the test set  \\\n",
       "0            svm                      0.832519                  0.878788   \n",
       "1  random forest                      0.852917                  0.878788   \n",
       "2       catboost                      0.857366                  0.892308   \n",
       "\n",
       "   roc_auc on the test set  \n",
       "0                 0.924569  \n",
       "1                 0.910560  \n",
       "2                 0.922414  "
      ]
     },
     "execution_count": 1157,
     "metadata": {},
     "output_type": "execute_result"
    }
   ],
   "source": [
    "results_cv"
   ]
  },
  {
   "cell_type": "markdown",
   "id": "b2d24948",
   "metadata": {},
   "source": [
    "- Taking into account the both considered metrics, we can conclude that CatBoost showed the best result. "
   ]
  },
  {
   "cell_type": "markdown",
   "id": "c70bcb2e",
   "metadata": {},
   "source": [
    "## Feature importance"
   ]
  },
  {
   "cell_type": "markdown",
   "id": "a7ad40d3",
   "metadata": {},
   "source": [
    "Let's have a look at the feature importances of the final model."
   ]
  },
  {
   "cell_type": "code",
   "execution_count": 1158,
   "id": "509947ee",
   "metadata": {},
   "outputs": [
    {
     "data": {
      "text/html": [
       "<div>\n",
       "<style scoped>\n",
       "    .dataframe tbody tr th:only-of-type {\n",
       "        vertical-align: middle;\n",
       "    }\n",
       "\n",
       "    .dataframe tbody tr th {\n",
       "        vertical-align: top;\n",
       "    }\n",
       "\n",
       "    .dataframe thead th {\n",
       "        text-align: right;\n",
       "    }\n",
       "</style>\n",
       "<table border=\"1\" class=\"dataframe\">\n",
       "  <thead>\n",
       "    <tr style=\"text-align: right;\">\n",
       "      <th></th>\n",
       "      <th>feature</th>\n",
       "      <th>importance</th>\n",
       "    </tr>\n",
       "  </thead>\n",
       "  <tbody>\n",
       "    <tr>\n",
       "      <th>11</th>\n",
       "      <td>thall</td>\n",
       "      <td>31.847864</td>\n",
       "    </tr>\n",
       "    <tr>\n",
       "      <th>2</th>\n",
       "      <td>cp</td>\n",
       "      <td>19.067052</td>\n",
       "    </tr>\n",
       "    <tr>\n",
       "      <th>10</th>\n",
       "      <td>caa</td>\n",
       "      <td>13.969756</td>\n",
       "    </tr>\n",
       "    <tr>\n",
       "      <th>9</th>\n",
       "      <td>slp</td>\n",
       "      <td>7.332575</td>\n",
       "    </tr>\n",
       "    <tr>\n",
       "      <th>7</th>\n",
       "      <td>exng</td>\n",
       "      <td>7.090327</td>\n",
       "    </tr>\n",
       "    <tr>\n",
       "      <th>16</th>\n",
       "      <td>cat_sum</td>\n",
       "      <td>4.624429</td>\n",
       "    </tr>\n",
       "    <tr>\n",
       "      <th>8</th>\n",
       "      <td>oldpeak</td>\n",
       "      <td>3.624839</td>\n",
       "    </tr>\n",
       "    <tr>\n",
       "      <th>5</th>\n",
       "      <td>restecg</td>\n",
       "      <td>2.029442</td>\n",
       "    </tr>\n",
       "    <tr>\n",
       "      <th>14</th>\n",
       "      <td>cholesterol_cat</td>\n",
       "      <td>1.947833</td>\n",
       "    </tr>\n",
       "    <tr>\n",
       "      <th>13</th>\n",
       "      <td>blood_pres_cat</td>\n",
       "      <td>1.631036</td>\n",
       "    </tr>\n",
       "    <tr>\n",
       "      <th>15</th>\n",
       "      <td>pres_chol_sum_cat</td>\n",
       "      <td>1.544599</td>\n",
       "    </tr>\n",
       "    <tr>\n",
       "      <th>6</th>\n",
       "      <td>thalachh</td>\n",
       "      <td>1.506489</td>\n",
       "    </tr>\n",
       "    <tr>\n",
       "      <th>12</th>\n",
       "      <td>mhr_estimation</td>\n",
       "      <td>1.224571</td>\n",
       "    </tr>\n",
       "    <tr>\n",
       "      <th>0</th>\n",
       "      <td>age</td>\n",
       "      <td>0.889728</td>\n",
       "    </tr>\n",
       "    <tr>\n",
       "      <th>1</th>\n",
       "      <td>sex</td>\n",
       "      <td>0.727307</td>\n",
       "    </tr>\n",
       "    <tr>\n",
       "      <th>4</th>\n",
       "      <td>chol</td>\n",
       "      <td>0.521613</td>\n",
       "    </tr>\n",
       "    <tr>\n",
       "      <th>3</th>\n",
       "      <td>trtbps</td>\n",
       "      <td>0.420543</td>\n",
       "    </tr>\n",
       "  </tbody>\n",
       "</table>\n",
       "</div>"
      ],
      "text/plain": [
       "              feature  importance\n",
       "11              thall   31.847864\n",
       "2                  cp   19.067052\n",
       "10                caa   13.969756\n",
       "9                 slp    7.332575\n",
       "7                exng    7.090327\n",
       "16            cat_sum    4.624429\n",
       "8             oldpeak    3.624839\n",
       "5             restecg    2.029442\n",
       "14    cholesterol_cat    1.947833\n",
       "13     blood_pres_cat    1.631036\n",
       "15  pres_chol_sum_cat    1.544599\n",
       "6            thalachh    1.506489\n",
       "12     mhr_estimation    1.224571\n",
       "0                 age    0.889728\n",
       "1                 sex    0.727307\n",
       "4                chol    0.521613\n",
       "3              trtbps    0.420543"
      ]
     },
     "execution_count": 1158,
     "metadata": {},
     "output_type": "execute_result"
    }
   ],
   "source": [
    "final_importance = pd.concat([pd.Series(X_train.columns), \n",
    "                              pd.Series(best_catboost.feature_importances_)], axis=1)\n",
    "final_importance.columns = ['feature', 'importance']\n",
    "final_importance = final_importance.sort_values(by='importance', ascending=False)\n",
    "final_importance"
   ]
  },
  {
   "cell_type": "code",
   "execution_count": 1159,
   "id": "f9ce10b1",
   "metadata": {
    "scrolled": false
   },
   "outputs": [
    {
     "data": {
      "image/png": "[encoded data removed]",
      "text/plain": [
       "<Figure size 1008x432 with 1 Axes>"
      ]
     },
     "metadata": {
      "needs_background": "light"
     },
     "output_type": "display_data"
    }
   ],
   "source": [
    "plt.figure(figsize=(14,6))\n",
    "sns.barplot(data=final_importance, x='feature', y='importance')\n",
    "plt.xticks(rotation=45)\n",
    "plt.title('Feature importances by catboost', fontsize=14)\n",
    "plt.show()"
   ]
  },
  {
   "cell_type": "markdown",
   "id": "081cdd70",
   "metadata": {},
   "source": [
    "- The most important features are thallium stress test, chest pain type, and number of major vessels.\n",
    "- The less important features are sex, cholesterol, and resting blood pressure."
   ]
  }
 ],
 "metadata": {
  "kernelspec": {
   "display_name": "Python 3 (ipykernel)",
   "language": "python",
   "name": "python3"
  },
  "language_info": {
   "codemirror_mode": {
    "name": "ipython",
    "version": 3
   },
   "file_extension": ".py",
   "mimetype": "text/x-python",
   "name": "python",
   "nbconvert_exporter": "python",
   "pygments_lexer": "ipython3",
   "version": "3.9.7"
  },
  "toc": {
   "base_numbering": 1,
   "nav_menu": {},
   "number_sections": true,
   "sideBar": true,
   "skip_h1_title": false,
   "title_cell": "Table of Contents",
   "title_sidebar": "Contents",
   "toc_cell": false,
   "toc_position": {
    "height": "calc(100% - 180px)",
    "left": "10px",
    "top": "150px",
    "width": "303.825px"
   },
   "toc_section_display": true,
   "toc_window_display": true
  }
 },
 "nbformat": 4,
 "nbformat_minor": 5
}
