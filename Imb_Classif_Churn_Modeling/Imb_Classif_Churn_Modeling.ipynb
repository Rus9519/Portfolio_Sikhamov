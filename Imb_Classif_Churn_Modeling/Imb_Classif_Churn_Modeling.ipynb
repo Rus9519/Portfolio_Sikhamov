{
 "cells": [
  {
   "cell_type": "markdown",
   "metadata": {},
   "source": [
    "## Подготовка данных"
   ]
  },
  {
   "cell_type": "code",
   "execution_count": 1,
   "metadata": {},
   "outputs": [],
   "source": [
    "import pandas as pd\n",
    "import matplotlib.pyplot as plt\n",
    "import seaborn as sns\n",
    "from scipy.stats import ttest_ind\n",
    "from scipy.stats import levene\n",
    "from sklearn.preprocessing import StandardScaler\n",
    "from sklearn.model_selection import train_test_split\n",
    "from sklearn.linear_model import LogisticRegression\n",
    "from sklearn.model_selection import cross_val_predict\n",
    "from sklearn.neighbors import KNeighborsClassifier\n",
    "from sklearn.tree import DecisionTreeClassifier\n",
    "from sklearn.ensemble import RandomForestClassifier\n",
    "from sklearn.model_selection import GridSearchCV\n",
    "from sklearn.metrics import f1_score, roc_auc_score, roc_curve, accuracy_score, precision_score, recall_score\n",
    "from sklearn.utils import shuffle\n",
    "import numpy as np"
   ]
  },
  {
   "cell_type": "markdown",
   "metadata": {},
   "source": [
    "### Загрузка и ознакомление с данными"
   ]
  },
  {
   "cell_type": "code",
   "execution_count": 2,
   "metadata": {},
   "outputs": [],
   "source": [
    "df = pd.read_csv('Churn_data.csv')"
   ]
  },
  {
   "cell_type": "code",
   "execution_count": 3,
   "metadata": {
    "scrolled": true
   },
   "outputs": [
    {
     "data": {
      "text/html": [
       "<div>\n",
       "<style scoped>\n",
       "    .dataframe tbody tr th:only-of-type {\n",
       "        vertical-align: middle;\n",
       "    }\n",
       "\n",
       "    .dataframe tbody tr th {\n",
       "        vertical-align: top;\n",
       "    }\n",
       "\n",
       "    .dataframe thead th {\n",
       "        text-align: right;\n",
       "    }\n",
       "</style>\n",
       "<table border=\"1\" class=\"dataframe\">\n",
       "  <thead>\n",
       "    <tr style=\"text-align: right;\">\n",
       "      <th></th>\n",
       "      <th>RowNumber</th>\n",
       "      <th>CustomerId</th>\n",
       "      <th>Surname</th>\n",
       "      <th>CreditScore</th>\n",
       "      <th>Geography</th>\n",
       "      <th>Gender</th>\n",
       "      <th>Age</th>\n",
       "      <th>Tenure</th>\n",
       "      <th>Balance</th>\n",
       "      <th>NumOfProducts</th>\n",
       "      <th>HasCrCard</th>\n",
       "      <th>IsActiveMember</th>\n",
       "      <th>EstimatedSalary</th>\n",
       "      <th>Exited</th>\n",
       "    </tr>\n",
       "  </thead>\n",
       "  <tbody>\n",
       "    <tr>\n",
       "      <th>0</th>\n",
       "      <td>1</td>\n",
       "      <td>15634602</td>\n",
       "      <td>Hargrave</td>\n",
       "      <td>619</td>\n",
       "      <td>France</td>\n",
       "      <td>Female</td>\n",
       "      <td>42</td>\n",
       "      <td>2.0</td>\n",
       "      <td>0.00</td>\n",
       "      <td>1</td>\n",
       "      <td>1</td>\n",
       "      <td>1</td>\n",
       "      <td>101348.88</td>\n",
       "      <td>1</td>\n",
       "    </tr>\n",
       "    <tr>\n",
       "      <th>1</th>\n",
       "      <td>2</td>\n",
       "      <td>15647311</td>\n",
       "      <td>Hill</td>\n",
       "      <td>608</td>\n",
       "      <td>Spain</td>\n",
       "      <td>Female</td>\n",
       "      <td>41</td>\n",
       "      <td>1.0</td>\n",
       "      <td>83807.86</td>\n",
       "      <td>1</td>\n",
       "      <td>0</td>\n",
       "      <td>1</td>\n",
       "      <td>112542.58</td>\n",
       "      <td>0</td>\n",
       "    </tr>\n",
       "    <tr>\n",
       "      <th>2</th>\n",
       "      <td>3</td>\n",
       "      <td>15619304</td>\n",
       "      <td>Onio</td>\n",
       "      <td>502</td>\n",
       "      <td>France</td>\n",
       "      <td>Female</td>\n",
       "      <td>42</td>\n",
       "      <td>8.0</td>\n",
       "      <td>159660.80</td>\n",
       "      <td>3</td>\n",
       "      <td>1</td>\n",
       "      <td>0</td>\n",
       "      <td>113931.57</td>\n",
       "      <td>1</td>\n",
       "    </tr>\n",
       "    <tr>\n",
       "      <th>3</th>\n",
       "      <td>4</td>\n",
       "      <td>15701354</td>\n",
       "      <td>Boni</td>\n",
       "      <td>699</td>\n",
       "      <td>France</td>\n",
       "      <td>Female</td>\n",
       "      <td>39</td>\n",
       "      <td>1.0</td>\n",
       "      <td>0.00</td>\n",
       "      <td>2</td>\n",
       "      <td>0</td>\n",
       "      <td>0</td>\n",
       "      <td>93826.63</td>\n",
       "      <td>0</td>\n",
       "    </tr>\n",
       "    <tr>\n",
       "      <th>4</th>\n",
       "      <td>5</td>\n",
       "      <td>15737888</td>\n",
       "      <td>Mitchell</td>\n",
       "      <td>850</td>\n",
       "      <td>Spain</td>\n",
       "      <td>Female</td>\n",
       "      <td>43</td>\n",
       "      <td>2.0</td>\n",
       "      <td>125510.82</td>\n",
       "      <td>1</td>\n",
       "      <td>1</td>\n",
       "      <td>1</td>\n",
       "      <td>79084.10</td>\n",
       "      <td>0</td>\n",
       "    </tr>\n",
       "  </tbody>\n",
       "</table>\n",
       "</div>"
      ],
      "text/plain": [
       "   RowNumber  CustomerId   Surname  CreditScore Geography  Gender  Age  \\\n",
       "0          1    15634602  Hargrave          619    France  Female   42   \n",
       "1          2    15647311      Hill          608     Spain  Female   41   \n",
       "2          3    15619304      Onio          502    France  Female   42   \n",
       "3          4    15701354      Boni          699    France  Female   39   \n",
       "4          5    15737888  Mitchell          850     Spain  Female   43   \n",
       "\n",
       "   Tenure    Balance  NumOfProducts  HasCrCard  IsActiveMember  \\\n",
       "0     2.0       0.00              1          1               1   \n",
       "1     1.0   83807.86              1          0               1   \n",
       "2     8.0  159660.80              3          1               0   \n",
       "3     1.0       0.00              2          0               0   \n",
       "4     2.0  125510.82              1          1               1   \n",
       "\n",
       "   EstimatedSalary  Exited  \n",
       "0        101348.88       1  \n",
       "1        112542.58       0  \n",
       "2        113931.57       1  \n",
       "3         93826.63       0  \n",
       "4         79084.10       0  "
      ]
     },
     "execution_count": 3,
     "metadata": {},
     "output_type": "execute_result"
    }
   ],
   "source": [
    "df.head()"
   ]
  },
  {
   "cell_type": "code",
   "execution_count": 4,
   "metadata": {},
   "outputs": [
    {
     "name": "stdout",
     "output_type": "stream",
     "text": [
      "<class 'pandas.core.frame.DataFrame'>\n",
      "RangeIndex: 10000 entries, 0 to 9999\n",
      "Data columns (total 14 columns):\n",
      " #   Column           Non-Null Count  Dtype  \n",
      "---  ------           --------------  -----  \n",
      " 0   RowNumber        10000 non-null  int64  \n",
      " 1   CustomerId       10000 non-null  int64  \n",
      " 2   Surname          10000 non-null  object \n",
      " 3   CreditScore      10000 non-null  int64  \n",
      " 4   Geography        10000 non-null  object \n",
      " 5   Gender           10000 non-null  object \n",
      " 6   Age              10000 non-null  int64  \n",
      " 7   Tenure           9091 non-null   float64\n",
      " 8   Balance          10000 non-null  float64\n",
      " 9   NumOfProducts    10000 non-null  int64  \n",
      " 10  HasCrCard        10000 non-null  int64  \n",
      " 11  IsActiveMember   10000 non-null  int64  \n",
      " 12  EstimatedSalary  10000 non-null  float64\n",
      " 13  Exited           10000 non-null  int64  \n",
      "dtypes: float64(3), int64(8), object(3)\n",
      "memory usage: 1.1+ MB\n"
     ]
    }
   ],
   "source": [
    "df.info()"
   ]
  },
  {
   "cell_type": "code",
   "execution_count": 5,
   "metadata": {
    "scrolled": false
   },
   "outputs": [
    {
     "data": {
      "text/html": [
       "<div>\n",
       "<style scoped>\n",
       "    .dataframe tbody tr th:only-of-type {\n",
       "        vertical-align: middle;\n",
       "    }\n",
       "\n",
       "    .dataframe tbody tr th {\n",
       "        vertical-align: top;\n",
       "    }\n",
       "\n",
       "    .dataframe thead th {\n",
       "        text-align: right;\n",
       "    }\n",
       "</style>\n",
       "<table border=\"1\" class=\"dataframe\">\n",
       "  <thead>\n",
       "    <tr style=\"text-align: right;\">\n",
       "      <th></th>\n",
       "      <th>count</th>\n",
       "      <th>unique</th>\n",
       "      <th>top</th>\n",
       "      <th>freq</th>\n",
       "      <th>mean</th>\n",
       "      <th>std</th>\n",
       "      <th>min</th>\n",
       "      <th>25%</th>\n",
       "      <th>50%</th>\n",
       "      <th>75%</th>\n",
       "      <th>max</th>\n",
       "    </tr>\n",
       "  </thead>\n",
       "  <tbody>\n",
       "    <tr>\n",
       "      <th>RowNumber</th>\n",
       "      <td>10000.0</td>\n",
       "      <td>NaN</td>\n",
       "      <td>NaN</td>\n",
       "      <td>NaN</td>\n",
       "      <td>5000.5</td>\n",
       "      <td>2886.89568</td>\n",
       "      <td>1.0</td>\n",
       "      <td>2500.75</td>\n",
       "      <td>5000.5</td>\n",
       "      <td>7500.25</td>\n",
       "      <td>10000.0</td>\n",
       "    </tr>\n",
       "    <tr>\n",
       "      <th>CustomerId</th>\n",
       "      <td>10000.0</td>\n",
       "      <td>NaN</td>\n",
       "      <td>NaN</td>\n",
       "      <td>NaN</td>\n",
       "      <td>15690940.5694</td>\n",
       "      <td>71936.186123</td>\n",
       "      <td>15565701.0</td>\n",
       "      <td>15628528.25</td>\n",
       "      <td>15690738.0</td>\n",
       "      <td>15753233.75</td>\n",
       "      <td>15815690.0</td>\n",
       "    </tr>\n",
       "    <tr>\n",
       "      <th>Surname</th>\n",
       "      <td>10000</td>\n",
       "      <td>2932</td>\n",
       "      <td>Smith</td>\n",
       "      <td>32</td>\n",
       "      <td>NaN</td>\n",
       "      <td>NaN</td>\n",
       "      <td>NaN</td>\n",
       "      <td>NaN</td>\n",
       "      <td>NaN</td>\n",
       "      <td>NaN</td>\n",
       "      <td>NaN</td>\n",
       "    </tr>\n",
       "    <tr>\n",
       "      <th>CreditScore</th>\n",
       "      <td>10000.0</td>\n",
       "      <td>NaN</td>\n",
       "      <td>NaN</td>\n",
       "      <td>NaN</td>\n",
       "      <td>650.5288</td>\n",
       "      <td>96.653299</td>\n",
       "      <td>350.0</td>\n",
       "      <td>584.0</td>\n",
       "      <td>652.0</td>\n",
       "      <td>718.0</td>\n",
       "      <td>850.0</td>\n",
       "    </tr>\n",
       "    <tr>\n",
       "      <th>Geography</th>\n",
       "      <td>10000</td>\n",
       "      <td>3</td>\n",
       "      <td>France</td>\n",
       "      <td>5014</td>\n",
       "      <td>NaN</td>\n",
       "      <td>NaN</td>\n",
       "      <td>NaN</td>\n",
       "      <td>NaN</td>\n",
       "      <td>NaN</td>\n",
       "      <td>NaN</td>\n",
       "      <td>NaN</td>\n",
       "    </tr>\n",
       "    <tr>\n",
       "      <th>Gender</th>\n",
       "      <td>10000</td>\n",
       "      <td>2</td>\n",
       "      <td>Male</td>\n",
       "      <td>5457</td>\n",
       "      <td>NaN</td>\n",
       "      <td>NaN</td>\n",
       "      <td>NaN</td>\n",
       "      <td>NaN</td>\n",
       "      <td>NaN</td>\n",
       "      <td>NaN</td>\n",
       "      <td>NaN</td>\n",
       "    </tr>\n",
       "    <tr>\n",
       "      <th>Age</th>\n",
       "      <td>10000.0</td>\n",
       "      <td>NaN</td>\n",
       "      <td>NaN</td>\n",
       "      <td>NaN</td>\n",
       "      <td>38.9218</td>\n",
       "      <td>10.487806</td>\n",
       "      <td>18.0</td>\n",
       "      <td>32.0</td>\n",
       "      <td>37.0</td>\n",
       "      <td>44.0</td>\n",
       "      <td>92.0</td>\n",
       "    </tr>\n",
       "    <tr>\n",
       "      <th>Tenure</th>\n",
       "      <td>9091.0</td>\n",
       "      <td>NaN</td>\n",
       "      <td>NaN</td>\n",
       "      <td>NaN</td>\n",
       "      <td>4.99769</td>\n",
       "      <td>2.894723</td>\n",
       "      <td>0.0</td>\n",
       "      <td>2.0</td>\n",
       "      <td>5.0</td>\n",
       "      <td>7.0</td>\n",
       "      <td>10.0</td>\n",
       "    </tr>\n",
       "    <tr>\n",
       "      <th>Balance</th>\n",
       "      <td>10000.0</td>\n",
       "      <td>NaN</td>\n",
       "      <td>NaN</td>\n",
       "      <td>NaN</td>\n",
       "      <td>76485.889288</td>\n",
       "      <td>62397.405202</td>\n",
       "      <td>0.0</td>\n",
       "      <td>0.0</td>\n",
       "      <td>97198.54</td>\n",
       "      <td>127644.24</td>\n",
       "      <td>250898.09</td>\n",
       "    </tr>\n",
       "    <tr>\n",
       "      <th>NumOfProducts</th>\n",
       "      <td>10000.0</td>\n",
       "      <td>NaN</td>\n",
       "      <td>NaN</td>\n",
       "      <td>NaN</td>\n",
       "      <td>1.5302</td>\n",
       "      <td>0.581654</td>\n",
       "      <td>1.0</td>\n",
       "      <td>1.0</td>\n",
       "      <td>1.0</td>\n",
       "      <td>2.0</td>\n",
       "      <td>4.0</td>\n",
       "    </tr>\n",
       "    <tr>\n",
       "      <th>HasCrCard</th>\n",
       "      <td>10000.0</td>\n",
       "      <td>NaN</td>\n",
       "      <td>NaN</td>\n",
       "      <td>NaN</td>\n",
       "      <td>0.7055</td>\n",
       "      <td>0.45584</td>\n",
       "      <td>0.0</td>\n",
       "      <td>0.0</td>\n",
       "      <td>1.0</td>\n",
       "      <td>1.0</td>\n",
       "      <td>1.0</td>\n",
       "    </tr>\n",
       "    <tr>\n",
       "      <th>IsActiveMember</th>\n",
       "      <td>10000.0</td>\n",
       "      <td>NaN</td>\n",
       "      <td>NaN</td>\n",
       "      <td>NaN</td>\n",
       "      <td>0.5151</td>\n",
       "      <td>0.499797</td>\n",
       "      <td>0.0</td>\n",
       "      <td>0.0</td>\n",
       "      <td>1.0</td>\n",
       "      <td>1.0</td>\n",
       "      <td>1.0</td>\n",
       "    </tr>\n",
       "    <tr>\n",
       "      <th>EstimatedSalary</th>\n",
       "      <td>10000.0</td>\n",
       "      <td>NaN</td>\n",
       "      <td>NaN</td>\n",
       "      <td>NaN</td>\n",
       "      <td>100090.239881</td>\n",
       "      <td>57510.492818</td>\n",
       "      <td>11.58</td>\n",
       "      <td>51002.11</td>\n",
       "      <td>100193.915</td>\n",
       "      <td>149388.2475</td>\n",
       "      <td>199992.48</td>\n",
       "    </tr>\n",
       "    <tr>\n",
       "      <th>Exited</th>\n",
       "      <td>10000.0</td>\n",
       "      <td>NaN</td>\n",
       "      <td>NaN</td>\n",
       "      <td>NaN</td>\n",
       "      <td>0.2037</td>\n",
       "      <td>0.402769</td>\n",
       "      <td>0.0</td>\n",
       "      <td>0.0</td>\n",
       "      <td>0.0</td>\n",
       "      <td>0.0</td>\n",
       "      <td>1.0</td>\n",
       "    </tr>\n",
       "  </tbody>\n",
       "</table>\n",
       "</div>"
      ],
      "text/plain": [
       "                   count unique     top  freq           mean           std  \\\n",
       "RowNumber        10000.0    NaN     NaN   NaN         5000.5    2886.89568   \n",
       "CustomerId       10000.0    NaN     NaN   NaN  15690940.5694  71936.186123   \n",
       "Surname            10000   2932   Smith    32            NaN           NaN   \n",
       "CreditScore      10000.0    NaN     NaN   NaN       650.5288     96.653299   \n",
       "Geography          10000      3  France  5014            NaN           NaN   \n",
       "Gender             10000      2    Male  5457            NaN           NaN   \n",
       "Age              10000.0    NaN     NaN   NaN        38.9218     10.487806   \n",
       "Tenure            9091.0    NaN     NaN   NaN        4.99769      2.894723   \n",
       "Balance          10000.0    NaN     NaN   NaN   76485.889288  62397.405202   \n",
       "NumOfProducts    10000.0    NaN     NaN   NaN         1.5302      0.581654   \n",
       "HasCrCard        10000.0    NaN     NaN   NaN         0.7055       0.45584   \n",
       "IsActiveMember   10000.0    NaN     NaN   NaN         0.5151      0.499797   \n",
       "EstimatedSalary  10000.0    NaN     NaN   NaN  100090.239881  57510.492818   \n",
       "Exited           10000.0    NaN     NaN   NaN         0.2037      0.402769   \n",
       "\n",
       "                        min          25%         50%          75%         max  \n",
       "RowNumber               1.0      2500.75      5000.5      7500.25     10000.0  \n",
       "CustomerId       15565701.0  15628528.25  15690738.0  15753233.75  15815690.0  \n",
       "Surname                 NaN          NaN         NaN          NaN         NaN  \n",
       "CreditScore           350.0        584.0       652.0        718.0       850.0  \n",
       "Geography               NaN          NaN         NaN          NaN         NaN  \n",
       "Gender                  NaN          NaN         NaN          NaN         NaN  \n",
       "Age                    18.0         32.0        37.0         44.0        92.0  \n",
       "Tenure                  0.0          2.0         5.0          7.0        10.0  \n",
       "Balance                 0.0          0.0    97198.54    127644.24   250898.09  \n",
       "NumOfProducts           1.0          1.0         1.0          2.0         4.0  \n",
       "HasCrCard               0.0          0.0         1.0          1.0         1.0  \n",
       "IsActiveMember          0.0          0.0         1.0          1.0         1.0  \n",
       "EstimatedSalary       11.58     51002.11  100193.915  149388.2475   199992.48  \n",
       "Exited                  0.0          0.0         0.0          0.0         1.0  "
      ]
     },
     "execution_count": 5,
     "metadata": {},
     "output_type": "execute_result"
    }
   ],
   "source": [
    "df.describe(include='all').T"
   ]
  },
  {
   "cell_type": "markdown",
   "metadata": {},
   "source": [
    "**Вывод:**\n",
    "1. В таблице содержится 10000 строк и 14 столбцов.\n",
    "2. Столбцы *RowNumber*, *CustomerId* и *Surname* бесполезны для предсказания оттока клиентов, следовательно должны быть удалены.\n",
    "3. В столбце *Tenure* имеется 909 пропущенных значений, который должны быть обработаны тем или иным образом.\n",
    "4. Столбцы *Gender* и *Geography* должны быть закодированы.\n",
    "5. Столбцы, содержащие численные данные, должны быть стандартизированы."
   ]
  },
  {
   "cell_type": "markdown",
   "metadata": {},
   "source": [
    "### Удаление неинформативных столбцов"
   ]
  },
  {
   "cell_type": "code",
   "execution_count": 6,
   "metadata": {},
   "outputs": [
    {
     "data": {
      "text/html": [
       "<div>\n",
       "<style scoped>\n",
       "    .dataframe tbody tr th:only-of-type {\n",
       "        vertical-align: middle;\n",
       "    }\n",
       "\n",
       "    .dataframe tbody tr th {\n",
       "        vertical-align: top;\n",
       "    }\n",
       "\n",
       "    .dataframe thead th {\n",
       "        text-align: right;\n",
       "    }\n",
       "</style>\n",
       "<table border=\"1\" class=\"dataframe\">\n",
       "  <thead>\n",
       "    <tr style=\"text-align: right;\">\n",
       "      <th></th>\n",
       "      <th>CreditScore</th>\n",
       "      <th>Geography</th>\n",
       "      <th>Gender</th>\n",
       "      <th>Age</th>\n",
       "      <th>Tenure</th>\n",
       "      <th>Balance</th>\n",
       "      <th>NumOfProducts</th>\n",
       "      <th>HasCrCard</th>\n",
       "      <th>IsActiveMember</th>\n",
       "      <th>EstimatedSalary</th>\n",
       "      <th>Exited</th>\n",
       "    </tr>\n",
       "  </thead>\n",
       "  <tbody>\n",
       "    <tr>\n",
       "      <th>0</th>\n",
       "      <td>619</td>\n",
       "      <td>France</td>\n",
       "      <td>Female</td>\n",
       "      <td>42</td>\n",
       "      <td>2.0</td>\n",
       "      <td>0.00</td>\n",
       "      <td>1</td>\n",
       "      <td>1</td>\n",
       "      <td>1</td>\n",
       "      <td>101348.88</td>\n",
       "      <td>1</td>\n",
       "    </tr>\n",
       "    <tr>\n",
       "      <th>1</th>\n",
       "      <td>608</td>\n",
       "      <td>Spain</td>\n",
       "      <td>Female</td>\n",
       "      <td>41</td>\n",
       "      <td>1.0</td>\n",
       "      <td>83807.86</td>\n",
       "      <td>1</td>\n",
       "      <td>0</td>\n",
       "      <td>1</td>\n",
       "      <td>112542.58</td>\n",
       "      <td>0</td>\n",
       "    </tr>\n",
       "    <tr>\n",
       "      <th>2</th>\n",
       "      <td>502</td>\n",
       "      <td>France</td>\n",
       "      <td>Female</td>\n",
       "      <td>42</td>\n",
       "      <td>8.0</td>\n",
       "      <td>159660.80</td>\n",
       "      <td>3</td>\n",
       "      <td>1</td>\n",
       "      <td>0</td>\n",
       "      <td>113931.57</td>\n",
       "      <td>1</td>\n",
       "    </tr>\n",
       "    <tr>\n",
       "      <th>3</th>\n",
       "      <td>699</td>\n",
       "      <td>France</td>\n",
       "      <td>Female</td>\n",
       "      <td>39</td>\n",
       "      <td>1.0</td>\n",
       "      <td>0.00</td>\n",
       "      <td>2</td>\n",
       "      <td>0</td>\n",
       "      <td>0</td>\n",
       "      <td>93826.63</td>\n",
       "      <td>0</td>\n",
       "    </tr>\n",
       "    <tr>\n",
       "      <th>4</th>\n",
       "      <td>850</td>\n",
       "      <td>Spain</td>\n",
       "      <td>Female</td>\n",
       "      <td>43</td>\n",
       "      <td>2.0</td>\n",
       "      <td>125510.82</td>\n",
       "      <td>1</td>\n",
       "      <td>1</td>\n",
       "      <td>1</td>\n",
       "      <td>79084.10</td>\n",
       "      <td>0</td>\n",
       "    </tr>\n",
       "  </tbody>\n",
       "</table>\n",
       "</div>"
      ],
      "text/plain": [
       "   CreditScore Geography  Gender  Age  Tenure    Balance  NumOfProducts  \\\n",
       "0          619    France  Female   42     2.0       0.00              1   \n",
       "1          608     Spain  Female   41     1.0   83807.86              1   \n",
       "2          502    France  Female   42     8.0  159660.80              3   \n",
       "3          699    France  Female   39     1.0       0.00              2   \n",
       "4          850     Spain  Female   43     2.0  125510.82              1   \n",
       "\n",
       "   HasCrCard  IsActiveMember  EstimatedSalary  Exited  \n",
       "0          1               1        101348.88       1  \n",
       "1          0               1        112542.58       0  \n",
       "2          1               0        113931.57       1  \n",
       "3          0               0         93826.63       0  \n",
       "4          1               1         79084.10       0  "
      ]
     },
     "execution_count": 6,
     "metadata": {},
     "output_type": "execute_result"
    }
   ],
   "source": [
    "df = df.drop(['RowNumber', 'CustomerId', 'Surname'], axis=1)\n",
    "df.head()"
   ]
  },
  {
   "cell_type": "markdown",
   "metadata": {},
   "source": [
    "### Обработка пропусков"
   ]
  },
  {
   "cell_type": "markdown",
   "metadata": {},
   "source": [
    "Пропуски были обнаружены лишь в столбце, содержащем информацию о том, сколько лет человек является клиентом банка. Для корректной обработки детальнее взглянем на данный столбец. Сначала построим гистограмму."
   ]
  },
  {
   "cell_type": "code",
   "execution_count": 7,
   "metadata": {
    "scrolled": true
   },
   "outputs": [
    {
     "data": {
      "image/png": "[encoded data removed]",
      "text/plain": [
       "<Figure size 432x288 with 1 Axes>"
      ]
     },
     "metadata": {
      "needs_background": "light"
     },
     "output_type": "display_data"
    }
   ],
   "source": [
    "df.Tenure.hist(bins=11)\n",
    "plt.xlabel('Tenure in years')\n",
    "plt.ylabel('Number of clients')\n",
    "plt.title('Tenure distribution')\n",
    "plt.show()"
   ]
  },
  {
   "cell_type": "markdown",
   "metadata": {},
   "source": [
    "В датасете представлены клиенты, являющиеся членами банка 10 или менее лет. Количество клиентов, пользующихся банком от 1 до 9 лет примерно одинаково. Клиентов, которые пользуются услугами банка 10 лет или которые присоединились в этом году, значительно меньше."
   ]
  },
  {
   "cell_type": "markdown",
   "metadata": {},
   "source": [
    "Посмотрим на распределение *Tenure* клиентов, которые покинули банк, и которые остались с банком."
   ]
  },
  {
   "cell_type": "code",
   "execution_count": 10,
   "metadata": {
    "scrolled": true
   },
   "outputs": [
    {
     "data": {
      "image/png": "[encoded data removed]",
      "text/plain": [
       "<Figure size 432x288 with 1 Axes>"
      ]
     },
     "metadata": {
      "needs_background": "light"
     },
     "output_type": "display_data"
    }
   ],
   "source": [
    "sns.kdeplot(df[df['Exited'] == 0]['Tenure'].dropna(), label='not_exited')\n",
    "sns.kdeplot(df[df['Exited'] == 1]['Tenure'].dropna(), label='exited')\n",
    "plt.xlabel('Tenure')\n",
    "plt.ylabel('Density')\n",
    "plt.title('Tenure distribution depending on the exited status')\n",
    "plt.legend()\n",
    "plt.show()"
   ]
  },
  {
   "cell_type": "markdown",
   "metadata": {},
   "source": [
    "Распределения выглядят крайне похоже, и можно предположить, что количество лет, проведенных с банком, никак не влияет на то, покинет ли клиент банк или нет. Чтобы проверить данную гипотезу воспользуемся статистическим тестом. "
   ]
  },
  {
   "cell_type": "markdown",
   "metadata": {},
   "source": [
    "Создаем две выборки."
   ]
  },
  {
   "cell_type": "code",
   "execution_count": 11,
   "metadata": {},
   "outputs": [],
   "source": [
    "bank_customers = df[df['Exited'] == 0]['Tenure'].dropna()\n",
    "left_the_bank = df[df['Exited'] == 1]['Tenure'].dropna()"
   ]
  },
  {
   "cell_type": "markdown",
   "metadata": {},
   "source": [
    "Проверяем, равны ли дисперсии генеральных совокупностей с помощью теста Левене. Устанавливаем уровень значимости 0.05. Если p-значение будет ниже него, то будем считать дисперсии разными."
   ]
  },
  {
   "cell_type": "code",
   "execution_count": 12,
   "metadata": {},
   "outputs": [
    {
     "name": "stdout",
     "output_type": "stream",
     "text": [
      "0.14231415346649656\n"
     ]
    }
   ],
   "source": [
    "print(levene(bank_customers, left_the_bank).pvalue)"
   ]
  },
  {
   "cell_type": "markdown",
   "metadata": {},
   "source": [
    "Р-значение вы уровня значимости, следовательно нет оснований отвергать нулевую гипотезу. Делаем вывод, что дисперсии равны."
   ]
  },
  {
   "cell_type": "markdown",
   "metadata": {},
   "source": [
    "Проведем t-test для проверки равенства средних двух выборок.\n",
    "\n",
    "**Уровень значимости**: 0.05."
   ]
  },
  {
   "cell_type": "code",
   "execution_count": 13,
   "metadata": {
    "scrolled": true
   },
   "outputs": [
    {
     "name": "stdout",
     "output_type": "stream",
     "text": [
      "0.11003295340373204\n"
     ]
    }
   ],
   "source": [
    "print(ttest_ind(bank_customers, left_the_bank, equal_var=True).pvalue)"
   ]
  },
  {
   "cell_type": "markdown",
   "metadata": {},
   "source": [
    "Нет оснований отвергать нулевую гипотезу. Делаем вывод, что средние двух выборок равны."
   ]
  },
  {
   "cell_type": "markdown",
   "metadata": {},
   "source": [
    "Взглянем на коэффициент корреляции Пирсона."
   ]
  },
  {
   "cell_type": "code",
   "execution_count": 14,
   "metadata": {},
   "outputs": [
    {
     "data": {
      "text/html": [
       "<div>\n",
       "<style scoped>\n",
       "    .dataframe tbody tr th:only-of-type {\n",
       "        vertical-align: middle;\n",
       "    }\n",
       "\n",
       "    .dataframe tbody tr th {\n",
       "        vertical-align: top;\n",
       "    }\n",
       "\n",
       "    .dataframe thead th {\n",
       "        text-align: right;\n",
       "    }\n",
       "</style>\n",
       "<table border=\"1\" class=\"dataframe\">\n",
       "  <thead>\n",
       "    <tr style=\"text-align: right;\">\n",
       "      <th></th>\n",
       "      <th>Tenure</th>\n",
       "      <th>Exited</th>\n",
       "    </tr>\n",
       "  </thead>\n",
       "  <tbody>\n",
       "    <tr>\n",
       "      <th>Tenure</th>\n",
       "      <td>1.000000</td>\n",
       "      <td>-0.016761</td>\n",
       "    </tr>\n",
       "    <tr>\n",
       "      <th>Exited</th>\n",
       "      <td>-0.016761</td>\n",
       "      <td>1.000000</td>\n",
       "    </tr>\n",
       "  </tbody>\n",
       "</table>\n",
       "</div>"
      ],
      "text/plain": [
       "          Tenure    Exited\n",
       "Tenure  1.000000 -0.016761\n",
       "Exited -0.016761  1.000000"
      ]
     },
     "execution_count": 14,
     "metadata": {},
     "output_type": "execute_result"
    }
   ],
   "source": [
    "df[['Tenure','Exited']].corr()"
   ]
  },
  {
   "cell_type": "markdown",
   "metadata": {},
   "source": [
    "Делаем вывод, что между фактом выхода и количеством лет, проведенных с банком, нет линейной зависимости."
   ]
  },
  {
   "cell_type": "markdown",
   "metadata": {},
   "source": [
    "**Вывод:**\n",
    "1. Распределения Tenure для клиентов, покинувших банк и оставшихся с банком, похожи, а их средние статистически не различаются.\n",
    "2. Отсутствует линейная корреляция между фактом выхода из банка и количеством лет пользования банком.\n",
    "3. На основе вышеизложенных фактов делаем вывод, что *Tenure* никак не влияет на факт того, что клиент покинет банк. Следовательно, данный столбец неинформативен для нас и может быть удален. "
   ]
  },
  {
   "cell_type": "code",
   "execution_count": 15,
   "metadata": {},
   "outputs": [],
   "source": [
    "df = df.drop('Tenure', axis=1)"
   ]
  },
  {
   "cell_type": "code",
   "execution_count": 16,
   "metadata": {
    "scrolled": false
   },
   "outputs": [
    {
     "data": {
      "text/html": [
       "<div>\n",
       "<style scoped>\n",
       "    .dataframe tbody tr th:only-of-type {\n",
       "        vertical-align: middle;\n",
       "    }\n",
       "\n",
       "    .dataframe tbody tr th {\n",
       "        vertical-align: top;\n",
       "    }\n",
       "\n",
       "    .dataframe thead th {\n",
       "        text-align: right;\n",
       "    }\n",
       "</style>\n",
       "<table border=\"1\" class=\"dataframe\">\n",
       "  <thead>\n",
       "    <tr style=\"text-align: right;\">\n",
       "      <th></th>\n",
       "      <th>CreditScore</th>\n",
       "      <th>Geography</th>\n",
       "      <th>Gender</th>\n",
       "      <th>Age</th>\n",
       "      <th>Balance</th>\n",
       "      <th>NumOfProducts</th>\n",
       "      <th>HasCrCard</th>\n",
       "      <th>IsActiveMember</th>\n",
       "      <th>EstimatedSalary</th>\n",
       "      <th>Exited</th>\n",
       "    </tr>\n",
       "  </thead>\n",
       "  <tbody>\n",
       "    <tr>\n",
       "      <th>0</th>\n",
       "      <td>619</td>\n",
       "      <td>France</td>\n",
       "      <td>Female</td>\n",
       "      <td>42</td>\n",
       "      <td>0.00</td>\n",
       "      <td>1</td>\n",
       "      <td>1</td>\n",
       "      <td>1</td>\n",
       "      <td>101348.88</td>\n",
       "      <td>1</td>\n",
       "    </tr>\n",
       "    <tr>\n",
       "      <th>1</th>\n",
       "      <td>608</td>\n",
       "      <td>Spain</td>\n",
       "      <td>Female</td>\n",
       "      <td>41</td>\n",
       "      <td>83807.86</td>\n",
       "      <td>1</td>\n",
       "      <td>0</td>\n",
       "      <td>1</td>\n",
       "      <td>112542.58</td>\n",
       "      <td>0</td>\n",
       "    </tr>\n",
       "    <tr>\n",
       "      <th>2</th>\n",
       "      <td>502</td>\n",
       "      <td>France</td>\n",
       "      <td>Female</td>\n",
       "      <td>42</td>\n",
       "      <td>159660.80</td>\n",
       "      <td>3</td>\n",
       "      <td>1</td>\n",
       "      <td>0</td>\n",
       "      <td>113931.57</td>\n",
       "      <td>1</td>\n",
       "    </tr>\n",
       "    <tr>\n",
       "      <th>3</th>\n",
       "      <td>699</td>\n",
       "      <td>France</td>\n",
       "      <td>Female</td>\n",
       "      <td>39</td>\n",
       "      <td>0.00</td>\n",
       "      <td>2</td>\n",
       "      <td>0</td>\n",
       "      <td>0</td>\n",
       "      <td>93826.63</td>\n",
       "      <td>0</td>\n",
       "    </tr>\n",
       "    <tr>\n",
       "      <th>4</th>\n",
       "      <td>850</td>\n",
       "      <td>Spain</td>\n",
       "      <td>Female</td>\n",
       "      <td>43</td>\n",
       "      <td>125510.82</td>\n",
       "      <td>1</td>\n",
       "      <td>1</td>\n",
       "      <td>1</td>\n",
       "      <td>79084.10</td>\n",
       "      <td>0</td>\n",
       "    </tr>\n",
       "  </tbody>\n",
       "</table>\n",
       "</div>"
      ],
      "text/plain": [
       "   CreditScore Geography  Gender  Age    Balance  NumOfProducts  HasCrCard  \\\n",
       "0          619    France  Female   42       0.00              1          1   \n",
       "1          608     Spain  Female   41   83807.86              1          0   \n",
       "2          502    France  Female   42  159660.80              3          1   \n",
       "3          699    France  Female   39       0.00              2          0   \n",
       "4          850     Spain  Female   43  125510.82              1          1   \n",
       "\n",
       "   IsActiveMember  EstimatedSalary  Exited  \n",
       "0               1        101348.88       1  \n",
       "1               1        112542.58       0  \n",
       "2               0        113931.57       1  \n",
       "3               0         93826.63       0  \n",
       "4               1         79084.10       0  "
      ]
     },
     "execution_count": 16,
     "metadata": {},
     "output_type": "execute_result"
    }
   ],
   "source": [
    "df.head()"
   ]
  },
  {
   "cell_type": "markdown",
   "metadata": {},
   "source": [
    "### Кодирование категориальных переменных"
   ]
  },
  {
   "cell_type": "markdown",
   "metadata": {},
   "source": [
    "Для кодирования категориальных переменных (пол и география) воспользуемся техникой One Hot Encoding. Для избежания дамми-ловушки сокращаем количество дамми-переменных на 1."
   ]
  },
  {
   "cell_type": "code",
   "execution_count": 17,
   "metadata": {},
   "outputs": [],
   "source": [
    "df_ohe = pd.get_dummies(df, drop_first=True)"
   ]
  },
  {
   "cell_type": "code",
   "execution_count": 18,
   "metadata": {},
   "outputs": [
    {
     "data": {
      "text/html": [
       "<div>\n",
       "<style scoped>\n",
       "    .dataframe tbody tr th:only-of-type {\n",
       "        vertical-align: middle;\n",
       "    }\n",
       "\n",
       "    .dataframe tbody tr th {\n",
       "        vertical-align: top;\n",
       "    }\n",
       "\n",
       "    .dataframe thead th {\n",
       "        text-align: right;\n",
       "    }\n",
       "</style>\n",
       "<table border=\"1\" class=\"dataframe\">\n",
       "  <thead>\n",
       "    <tr style=\"text-align: right;\">\n",
       "      <th></th>\n",
       "      <th>CreditScore</th>\n",
       "      <th>Age</th>\n",
       "      <th>Balance</th>\n",
       "      <th>NumOfProducts</th>\n",
       "      <th>HasCrCard</th>\n",
       "      <th>IsActiveMember</th>\n",
       "      <th>EstimatedSalary</th>\n",
       "      <th>Exited</th>\n",
       "      <th>Geography_Germany</th>\n",
       "      <th>Geography_Spain</th>\n",
       "      <th>Gender_Male</th>\n",
       "    </tr>\n",
       "  </thead>\n",
       "  <tbody>\n",
       "    <tr>\n",
       "      <th>0</th>\n",
       "      <td>619</td>\n",
       "      <td>42</td>\n",
       "      <td>0.00</td>\n",
       "      <td>1</td>\n",
       "      <td>1</td>\n",
       "      <td>1</td>\n",
       "      <td>101348.88</td>\n",
       "      <td>1</td>\n",
       "      <td>0</td>\n",
       "      <td>0</td>\n",
       "      <td>0</td>\n",
       "    </tr>\n",
       "    <tr>\n",
       "      <th>1</th>\n",
       "      <td>608</td>\n",
       "      <td>41</td>\n",
       "      <td>83807.86</td>\n",
       "      <td>1</td>\n",
       "      <td>0</td>\n",
       "      <td>1</td>\n",
       "      <td>112542.58</td>\n",
       "      <td>0</td>\n",
       "      <td>0</td>\n",
       "      <td>1</td>\n",
       "      <td>0</td>\n",
       "    </tr>\n",
       "    <tr>\n",
       "      <th>2</th>\n",
       "      <td>502</td>\n",
       "      <td>42</td>\n",
       "      <td>159660.80</td>\n",
       "      <td>3</td>\n",
       "      <td>1</td>\n",
       "      <td>0</td>\n",
       "      <td>113931.57</td>\n",
       "      <td>1</td>\n",
       "      <td>0</td>\n",
       "      <td>0</td>\n",
       "      <td>0</td>\n",
       "    </tr>\n",
       "    <tr>\n",
       "      <th>3</th>\n",
       "      <td>699</td>\n",
       "      <td>39</td>\n",
       "      <td>0.00</td>\n",
       "      <td>2</td>\n",
       "      <td>0</td>\n",
       "      <td>0</td>\n",
       "      <td>93826.63</td>\n",
       "      <td>0</td>\n",
       "      <td>0</td>\n",
       "      <td>0</td>\n",
       "      <td>0</td>\n",
       "    </tr>\n",
       "    <tr>\n",
       "      <th>4</th>\n",
       "      <td>850</td>\n",
       "      <td>43</td>\n",
       "      <td>125510.82</td>\n",
       "      <td>1</td>\n",
       "      <td>1</td>\n",
       "      <td>1</td>\n",
       "      <td>79084.10</td>\n",
       "      <td>0</td>\n",
       "      <td>0</td>\n",
       "      <td>1</td>\n",
       "      <td>0</td>\n",
       "    </tr>\n",
       "  </tbody>\n",
       "</table>\n",
       "</div>"
      ],
      "text/plain": [
       "   CreditScore  Age    Balance  NumOfProducts  HasCrCard  IsActiveMember  \\\n",
       "0          619   42       0.00              1          1               1   \n",
       "1          608   41   83807.86              1          0               1   \n",
       "2          502   42  159660.80              3          1               0   \n",
       "3          699   39       0.00              2          0               0   \n",
       "4          850   43  125510.82              1          1               1   \n",
       "\n",
       "   EstimatedSalary  Exited  Geography_Germany  Geography_Spain  Gender_Male  \n",
       "0        101348.88       1                  0                0            0  \n",
       "1        112542.58       0                  0                1            0  \n",
       "2        113931.57       1                  0                0            0  \n",
       "3         93826.63       0                  0                0            0  \n",
       "4         79084.10       0                  0                1            0  "
      ]
     },
     "execution_count": 18,
     "metadata": {},
     "output_type": "execute_result"
    }
   ],
   "source": [
    "df_ohe.head()"
   ]
  },
  {
   "cell_type": "markdown",
   "metadata": {},
   "source": [
    "Франция закодированы нулями в столбцах *Geography_Germany*, *Geography_Spain*.\n",
    "Женщины закодированы нулями в столбце *Gender_Male*."
   ]
  },
  {
   "cell_type": "markdown",
   "metadata": {},
   "source": [
    "### Разделение на обучающую и тестовую выборки"
   ]
  },
  {
   "cell_type": "markdown",
   "metadata": {},
   "source": [
    "Выделим признаки и целевой признак."
   ]
  },
  {
   "cell_type": "code",
   "execution_count": 19,
   "metadata": {},
   "outputs": [],
   "source": [
    "target = df_ohe['Exited']\n",
    "features = df_ohe.drop('Exited', axis=1)"
   ]
  },
  {
   "cell_type": "markdown",
   "metadata": {},
   "source": [
    "Разделим набор данных на обучающую и тестовую выборки в соотношении 80:20. "
   ]
  },
  {
   "cell_type": "code",
   "execution_count": 20,
   "metadata": {},
   "outputs": [],
   "source": [
    "features_train, features_test, target_train, target_test = train_test_split(features, \n",
    "                                                                            target, \n",
    "                                                                            test_size=0.2,\n",
    "                                                                            stratify=target,\n",
    "                                                                            random_state=42)"
   ]
  },
  {
   "cell_type": "markdown",
   "metadata": {},
   "source": [
    "Проверим размер получившехся выборок."
   ]
  },
  {
   "cell_type": "code",
   "execution_count": 21,
   "metadata": {},
   "outputs": [
    {
     "name": "stdout",
     "output_type": "stream",
     "text": [
      "(8000, 10)\n",
      "(2000, 10)\n",
      "(8000,)\n",
      "(2000,)\n"
     ]
    }
   ],
   "source": [
    "print(features_train.shape)\n",
    "print(features_test.shape)\n",
    "print(target_train.shape)\n",
    "print(target_test.shape)"
   ]
  },
  {
   "cell_type": "markdown",
   "metadata": {},
   "source": [
    "**Вывод:** разделение на обучающую и тестовую выборки в соотношении 80:20 проведено успешно."
   ]
  },
  {
   "cell_type": "markdown",
   "metadata": {},
   "source": [
    "### Стандартизация численных переменных"
   ]
  },
  {
   "cell_type": "markdown",
   "metadata": {},
   "source": [
    "Проведем стандартизацию численных переменных."
   ]
  },
  {
   "cell_type": "code",
   "execution_count": 22,
   "metadata": {
    "scrolled": false
   },
   "outputs": [],
   "source": [
    "numeric = ['CreditScore', 'Age', 'Balance', 'NumOfProducts', 'EstimatedSalary']\n",
    "\n",
    "scaler = StandardScaler()\n",
    "features_train[numeric] = scaler.fit_transform(features_train[numeric])\n",
    "features_test[numeric] = scaler.transform(features_test[numeric])"
   ]
  },
  {
   "cell_type": "markdown",
   "metadata": {},
   "source": [
    "Взглянем на получившиеся таблицы."
   ]
  },
  {
   "cell_type": "code",
   "execution_count": 23,
   "metadata": {},
   "outputs": [
    {
     "data": {
      "text/html": [
       "<div>\n",
       "<style scoped>\n",
       "    .dataframe tbody tr th:only-of-type {\n",
       "        vertical-align: middle;\n",
       "    }\n",
       "\n",
       "    .dataframe tbody tr th {\n",
       "        vertical-align: top;\n",
       "    }\n",
       "\n",
       "    .dataframe thead th {\n",
       "        text-align: right;\n",
       "    }\n",
       "</style>\n",
       "<table border=\"1\" class=\"dataframe\">\n",
       "  <thead>\n",
       "    <tr style=\"text-align: right;\">\n",
       "      <th></th>\n",
       "      <th>CreditScore</th>\n",
       "      <th>Age</th>\n",
       "      <th>Balance</th>\n",
       "      <th>NumOfProducts</th>\n",
       "      <th>HasCrCard</th>\n",
       "      <th>IsActiveMember</th>\n",
       "      <th>EstimatedSalary</th>\n",
       "      <th>Geography_Germany</th>\n",
       "      <th>Geography_Spain</th>\n",
       "      <th>Gender_Male</th>\n",
       "    </tr>\n",
       "  </thead>\n",
       "  <tbody>\n",
       "    <tr>\n",
       "      <th>2151</th>\n",
       "      <td>1.058568</td>\n",
       "      <td>1.715086</td>\n",
       "      <td>-1.226059</td>\n",
       "      <td>-0.910256</td>\n",
       "      <td>1</td>\n",
       "      <td>0</td>\n",
       "      <td>1.042084</td>\n",
       "      <td>0</td>\n",
       "      <td>0</td>\n",
       "      <td>1</td>\n",
       "    </tr>\n",
       "    <tr>\n",
       "      <th>8392</th>\n",
       "      <td>0.913626</td>\n",
       "      <td>-0.659935</td>\n",
       "      <td>0.413288</td>\n",
       "      <td>-0.910256</td>\n",
       "      <td>1</td>\n",
       "      <td>0</td>\n",
       "      <td>-0.623556</td>\n",
       "      <td>1</td>\n",
       "      <td>0</td>\n",
       "      <td>1</td>\n",
       "    </tr>\n",
       "    <tr>\n",
       "      <th>5006</th>\n",
       "      <td>1.079274</td>\n",
       "      <td>-0.184931</td>\n",
       "      <td>0.601687</td>\n",
       "      <td>0.808830</td>\n",
       "      <td>1</td>\n",
       "      <td>1</td>\n",
       "      <td>0.308128</td>\n",
       "      <td>1</td>\n",
       "      <td>0</td>\n",
       "      <td>0</td>\n",
       "    </tr>\n",
       "    <tr>\n",
       "      <th>4117</th>\n",
       "      <td>-0.929207</td>\n",
       "      <td>-0.184931</td>\n",
       "      <td>-1.226059</td>\n",
       "      <td>0.808830</td>\n",
       "      <td>1</td>\n",
       "      <td>0</td>\n",
       "      <td>-0.290199</td>\n",
       "      <td>0</td>\n",
       "      <td>0</td>\n",
       "      <td>1</td>\n",
       "    </tr>\n",
       "    <tr>\n",
       "      <th>7182</th>\n",
       "      <td>0.427035</td>\n",
       "      <td>0.955079</td>\n",
       "      <td>0.548318</td>\n",
       "      <td>0.808830</td>\n",
       "      <td>0</td>\n",
       "      <td>1</td>\n",
       "      <td>0.135042</td>\n",
       "      <td>1</td>\n",
       "      <td>0</td>\n",
       "      <td>1</td>\n",
       "    </tr>\n",
       "  </tbody>\n",
       "</table>\n",
       "</div>"
      ],
      "text/plain": [
       "      CreditScore       Age   Balance  NumOfProducts  HasCrCard  \\\n",
       "2151     1.058568  1.715086 -1.226059      -0.910256          1   \n",
       "8392     0.913626 -0.659935  0.413288      -0.910256          1   \n",
       "5006     1.079274 -0.184931  0.601687       0.808830          1   \n",
       "4117    -0.929207 -0.184931 -1.226059       0.808830          1   \n",
       "7182     0.427035  0.955079  0.548318       0.808830          0   \n",
       "\n",
       "      IsActiveMember  EstimatedSalary  Geography_Germany  Geography_Spain  \\\n",
       "2151               0         1.042084                  0                0   \n",
       "8392               0        -0.623556                  1                0   \n",
       "5006               1         0.308128                  1                0   \n",
       "4117               0        -0.290199                  0                0   \n",
       "7182               1         0.135042                  1                0   \n",
       "\n",
       "      Gender_Male  \n",
       "2151            1  \n",
       "8392            1  \n",
       "5006            0  \n",
       "4117            1  \n",
       "7182            1  "
      ]
     },
     "execution_count": 23,
     "metadata": {},
     "output_type": "execute_result"
    }
   ],
   "source": [
    "features_train.head()"
   ]
  },
  {
   "cell_type": "code",
   "execution_count": 24,
   "metadata": {},
   "outputs": [
    {
     "data": {
      "text/html": [
       "<div>\n",
       "<style scoped>\n",
       "    .dataframe tbody tr th:only-of-type {\n",
       "        vertical-align: middle;\n",
       "    }\n",
       "\n",
       "    .dataframe tbody tr th {\n",
       "        vertical-align: top;\n",
       "    }\n",
       "\n",
       "    .dataframe thead th {\n",
       "        text-align: right;\n",
       "    }\n",
       "</style>\n",
       "<table border=\"1\" class=\"dataframe\">\n",
       "  <thead>\n",
       "    <tr style=\"text-align: right;\">\n",
       "      <th></th>\n",
       "      <th>CreditScore</th>\n",
       "      <th>Age</th>\n",
       "      <th>Balance</th>\n",
       "      <th>NumOfProducts</th>\n",
       "      <th>HasCrCard</th>\n",
       "      <th>IsActiveMember</th>\n",
       "      <th>EstimatedSalary</th>\n",
       "      <th>Geography_Germany</th>\n",
       "      <th>Geography_Spain</th>\n",
       "      <th>Gender_Male</th>\n",
       "    </tr>\n",
       "  </thead>\n",
       "  <tbody>\n",
       "    <tr>\n",
       "      <th>5702</th>\n",
       "      <td>-0.680735</td>\n",
       "      <td>-0.279932</td>\n",
       "      <td>-1.226059</td>\n",
       "      <td>0.808830</td>\n",
       "      <td>1</td>\n",
       "      <td>0</td>\n",
       "      <td>-0.095021</td>\n",
       "      <td>0</td>\n",
       "      <td>0</td>\n",
       "      <td>1</td>\n",
       "    </tr>\n",
       "    <tr>\n",
       "      <th>3667</th>\n",
       "      <td>-1.301915</td>\n",
       "      <td>-0.564935</td>\n",
       "      <td>0.877113</td>\n",
       "      <td>0.808830</td>\n",
       "      <td>0</td>\n",
       "      <td>0</td>\n",
       "      <td>-0.778941</td>\n",
       "      <td>1</td>\n",
       "      <td>0</td>\n",
       "      <td>1</td>\n",
       "    </tr>\n",
       "    <tr>\n",
       "      <th>1617</th>\n",
       "      <td>-0.970619</td>\n",
       "      <td>0.100072</td>\n",
       "      <td>-1.226059</td>\n",
       "      <td>0.808830</td>\n",
       "      <td>0</td>\n",
       "      <td>1</td>\n",
       "      <td>0.099469</td>\n",
       "      <td>0</td>\n",
       "      <td>1</td>\n",
       "      <td>0</td>\n",
       "    </tr>\n",
       "    <tr>\n",
       "      <th>5673</th>\n",
       "      <td>-0.121674</td>\n",
       "      <td>-0.469934</td>\n",
       "      <td>1.011458</td>\n",
       "      <td>0.808830</td>\n",
       "      <td>0</td>\n",
       "      <td>0</td>\n",
       "      <td>-1.147374</td>\n",
       "      <td>0</td>\n",
       "      <td>1</td>\n",
       "      <td>1</td>\n",
       "    </tr>\n",
       "    <tr>\n",
       "      <th>4272</th>\n",
       "      <td>-0.111321</td>\n",
       "      <td>-0.469934</td>\n",
       "      <td>0.023204</td>\n",
       "      <td>-0.910256</td>\n",
       "      <td>1</td>\n",
       "      <td>1</td>\n",
       "      <td>1.200283</td>\n",
       "      <td>0</td>\n",
       "      <td>1</td>\n",
       "      <td>0</td>\n",
       "    </tr>\n",
       "  </tbody>\n",
       "</table>\n",
       "</div>"
      ],
      "text/plain": [
       "      CreditScore       Age   Balance  NumOfProducts  HasCrCard  \\\n",
       "5702    -0.680735 -0.279932 -1.226059       0.808830          1   \n",
       "3667    -1.301915 -0.564935  0.877113       0.808830          0   \n",
       "1617    -0.970619  0.100072 -1.226059       0.808830          0   \n",
       "5673    -0.121674 -0.469934  1.011458       0.808830          0   \n",
       "4272    -0.111321 -0.469934  0.023204      -0.910256          1   \n",
       "\n",
       "      IsActiveMember  EstimatedSalary  Geography_Germany  Geography_Spain  \\\n",
       "5702               0        -0.095021                  0                0   \n",
       "3667               0        -0.778941                  1                0   \n",
       "1617               1         0.099469                  0                1   \n",
       "5673               0        -1.147374                  0                1   \n",
       "4272               1         1.200283                  0                1   \n",
       "\n",
       "      Gender_Male  \n",
       "5702            1  \n",
       "3667            1  \n",
       "1617            0  \n",
       "5673            1  \n",
       "4272            0  "
      ]
     },
     "execution_count": 24,
     "metadata": {},
     "output_type": "execute_result"
    }
   ],
   "source": [
    "features_test.head()"
   ]
  },
  {
   "cell_type": "markdown",
   "metadata": {},
   "source": [
    "### Вывод"
   ]
  },
  {
   "cell_type": "markdown",
   "metadata": {},
   "source": [
    "1. Из набора данных были удалены неинформативные столбцы.\n",
    "2. Пропуски были обнаружены лишь в одном столбце, который был удален.\n",
    "3. Категориальные признаки были закодированы с помощью техники One Hot Encoding.\n",
    "4. Набор данных был разделен на обучающую и тестовую выборки в соотношении 80:20.\n",
    "5. Была проведена стандартизация численных переменных."
   ]
  },
  {
   "cell_type": "markdown",
   "metadata": {},
   "source": [
    "## Обучение моделей"
   ]
  },
  {
   "cell_type": "markdown",
   "metadata": {},
   "source": [
    "Перед обучением моделей проверим, имеется ли баланс классов в нашем наборе данных."
   ]
  },
  {
   "cell_type": "code",
   "execution_count": 25,
   "metadata": {},
   "outputs": [
    {
     "data": {
      "text/plain": [
       "0    0.7963\n",
       "1    0.2037\n",
       "Name: Exited, dtype: float64"
      ]
     },
     "execution_count": 25,
     "metadata": {},
     "output_type": "execute_result"
    }
   ],
   "source": [
    "df_ohe.Exited.value_counts(normalize=True)"
   ]
  },
  {
   "cell_type": "markdown",
   "metadata": {},
   "source": [
    "В нашем случае мы имеем дело с дисбалансом. Количество клиентов, оставшихся с банком, практически в 4 раза выше, чем тех, что покинули банк.\n",
    "\n",
    "В данном пункте мы обучим несколько моделей без учета дисбаланса классов. Будем исследовать четыре модели: логистическую регрессию, метод к-ближайщих соседей, дерево решений и случайный лес. Оптимизацию гиперпараметров проведем с помощью техники GridSearch в комбинации с кросс-валидацией."
   ]
  },
  {
   "cell_type": "markdown",
   "metadata": {},
   "source": [
    "### Логистическая регрессия"
   ]
  },
  {
   "cell_type": "markdown",
   "metadata": {},
   "source": [
    "В данной моделе будем настраивать параметр С, который отвечает за регуляризацию. Чем выше С, тем слабее регуляризация. Кросс-валидацию проведем с 5 фолдами, что означает, что каждую итерацию 20% от обучающей выборки будет использовано в качестве валидационной выборки. В качестве метрики будем использовать f1_score."
   ]
  },
  {
   "cell_type": "code",
   "execution_count": 26,
   "metadata": {},
   "outputs": [
    {
     "name": "stdout",
     "output_type": "stream",
     "text": [
      "Fitting 5 folds for each of 12 candidates, totalling 60 fits\n"
     ]
    }
   ],
   "source": [
    "parameters = [{'C' : [0.1, 0.5, 1, 1.5, 2, 5, 10, 15, 20, 25, 50, 100]}]\n",
    "grid_search = GridSearchCV(estimator=LogisticRegression(solver='liblinear', random_state=42),\n",
    "                           param_grid=parameters,\n",
    "                           scoring='f1',\n",
    "                           cv=5,\n",
    "                           verbose=1)\n",
    "grid_search.fit(features_train, target_train)\n",
    "best_f1_lr = grid_search.best_score_\n",
    "best_parameters_lr = grid_search.best_params_"
   ]
  },
  {
   "cell_type": "code",
   "execution_count": 27,
   "metadata": {},
   "outputs": [
    {
     "name": "stdout",
     "output_type": "stream",
     "text": [
      "Best f1-score: 0.319\n",
      "Best Parameters: {'C': 1}\n"
     ]
    }
   ],
   "source": [
    "print('Best f1-score: {:.3f}'.format(best_f1_lr))\n",
    "print('Best Parameters:', best_parameters_lr)"
   ]
  },
  {
   "cell_type": "markdown",
   "metadata": {},
   "source": [
    "С помощью *cross_val_predict* посчитаем ROC-AUC."
   ]
  },
  {
   "cell_type": "code",
   "execution_count": 35,
   "metadata": {},
   "outputs": [],
   "source": [
    "y_pred_lr = cross_val_predict(estimator=LogisticRegression(solver='liblinear', random_state=42),\n",
    "                             X=features_train,\n",
    "                             y=target_train,\n",
    "                             method='predict_proba',\n",
    "                             cv=5)"
   ]
  },
  {
   "cell_type": "code",
   "execution_count": 36,
   "metadata": {},
   "outputs": [
    {
     "data": {
      "text/plain": [
       "0.763544702449172"
      ]
     },
     "execution_count": 36,
     "metadata": {},
     "output_type": "execute_result"
    }
   ],
   "source": [
    "roc_auc_lr = roc_auc_score(target_train, y_pred_lr[:, 1])\n",
    "roc_auc_lr"
   ]
  },
  {
   "cell_type": "markdown",
   "metadata": {},
   "source": [
    "**Вывод:**\n",
    "1. Настройка гиперпараметров показала, что наилучшим параметром С является 1. \n",
    "2. F1-мера составила 0.319.\n",
    "3. ROC AUC - 0.764."
   ]
  },
  {
   "cell_type": "markdown",
   "metadata": {},
   "source": [
    "### Метод k-ближайших соседей"
   ]
  },
  {
   "cell_type": "markdown",
   "metadata": {
    "cellId": "ydjuqe25i4yhzph4yavj9"
   },
   "source": [
    "В данной модели калибровать будем количество соседей, по которым модель будет определять класс объекта."
   ]
  },
  {
   "cell_type": "code",
   "execution_count": 37,
   "metadata": {
    "scrolled": true
   },
   "outputs": [
    {
     "name": "stdout",
     "output_type": "stream",
     "text": [
      "Fitting 5 folds for each of 12 candidates, totalling 60 fits\n"
     ]
    }
   ],
   "source": [
    "parameters = [{'n_neighbors' : [2, 3, 4, 5, 6, 7, 8, 9, 10, 15, 20, 50]}]\n",
    "grid_search = GridSearchCV(estimator=KNeighborsClassifier(),\n",
    "                           param_grid=parameters,\n",
    "                           scoring='f1',\n",
    "                           cv=5,\n",
    "                           verbose=1)\n",
    "grid_search.fit(features_train, target_train)\n",
    "best_f1_knn = grid_search.best_score_\n",
    "best_parameters_knn = grid_search.best_params_"
   ]
  },
  {
   "cell_type": "code",
   "execution_count": 38,
   "metadata": {},
   "outputs": [
    {
     "name": "stdout",
     "output_type": "stream",
     "text": [
      "Best f1-score: 0.545\n",
      "Best Parameters: {'n_neighbors': 9}\n"
     ]
    }
   ],
   "source": [
    "print('Best f1-score: {:.3f}'.format(best_f1_knn))\n",
    "print('Best Parameters:', best_parameters_knn)"
   ]
  },
  {
   "cell_type": "markdown",
   "metadata": {},
   "source": [
    "Посчитаем ROC AUC."
   ]
  },
  {
   "cell_type": "code",
   "execution_count": 39,
   "metadata": {},
   "outputs": [],
   "source": [
    "y_pred_knn = cross_val_predict(estimator=KNeighborsClassifier(n_neighbors=9),\n",
    "                             X=features_train,\n",
    "                             y=target_train,\n",
    "                             method='predict_proba',\n",
    "                             cv=5)"
   ]
  },
  {
   "cell_type": "code",
   "execution_count": 40,
   "metadata": {},
   "outputs": [
    {
     "data": {
      "text/plain": [
       "0.815132667507777"
      ]
     },
     "execution_count": 40,
     "metadata": {},
     "output_type": "execute_result"
    }
   ],
   "source": [
    "roc_auc_knn = roc_auc_score(target_train, y_pred_knn[:, 1])\n",
    "roc_auc_knn"
   ]
  },
  {
   "cell_type": "markdown",
   "metadata": {},
   "source": [
    "**Вывод:**\n",
    "1. Настройка гиперпараметров показала, что наилучшим числом соседей является 9 соседей. \n",
    "2. F1-мера составляет 0.545.\n",
    "3. ROC AUC - 0.815."
   ]
  },
  {
   "cell_type": "markdown",
   "metadata": {},
   "source": [
    "### Дерево решений"
   ]
  },
  {
   "cell_type": "markdown",
   "metadata": {},
   "source": [
    "В данном случае будем оптимизировать параметр глубины и минимального количества наблюдений, необходимого для разбиения узла."
   ]
  },
  {
   "cell_type": "code",
   "execution_count": 41,
   "metadata": {},
   "outputs": [
    {
     "name": "stdout",
     "output_type": "stream",
     "text": [
      "Fitting 5 folds for each of 234 candidates, totalling 1170 fits\n"
     ]
    }
   ],
   "source": [
    "parameters = [{'max_depth' : [2, 3, 4, 5, 6, 7, 8, 9, 10, 15, 20, 25, 50], \n",
    "               'min_samples_split': range(2,20)}]\n",
    "grid_search = GridSearchCV(estimator=DecisionTreeClassifier(random_state=42),\n",
    "                           param_grid=parameters,\n",
    "                           scoring='f1',\n",
    "                           cv=5,\n",
    "                           verbose=1)\n",
    "grid_search.fit(features_train, target_train)\n",
    "best_f1_tree = grid_search.best_score_\n",
    "best_parameters_tree = grid_search.best_params_"
   ]
  },
  {
   "cell_type": "code",
   "execution_count": 42,
   "metadata": {},
   "outputs": [
    {
     "name": "stdout",
     "output_type": "stream",
     "text": [
      "Best f1-score: 0.553\n",
      "Best Parameters: {'max_depth': 7, 'min_samples_split': 2}\n"
     ]
    }
   ],
   "source": [
    "print('Best f1-score: {:.3f}'.format(best_f1_tree))\n",
    "print('Best Parameters:', best_parameters_tree)"
   ]
  },
  {
   "cell_type": "markdown",
   "metadata": {},
   "source": [
    "Посчитаем ROC AUC."
   ]
  },
  {
   "cell_type": "code",
   "execution_count": 43,
   "metadata": {},
   "outputs": [],
   "source": [
    "y_pred_tree = cross_val_predict(estimator=DecisionTreeClassifier(max_depth=7,random_state=42),\n",
    "                             X=features_train,\n",
    "                             y=target_train,\n",
    "                             method='predict_proba',\n",
    "                             cv=5)"
   ]
  },
  {
   "cell_type": "code",
   "execution_count": 44,
   "metadata": {},
   "outputs": [
    {
     "data": {
      "text/plain": [
       "0.8267373905673643"
      ]
     },
     "execution_count": 44,
     "metadata": {},
     "output_type": "execute_result"
    }
   ],
   "source": [
    "roc_auc_tree = roc_auc_score(target_train, y_pred_tree[:, 1])\n",
    "roc_auc_tree"
   ]
  },
  {
   "cell_type": "markdown",
   "metadata": {},
   "source": [
    "**Вывод:**\n",
    "1. Настройка гиперпараметров показала, что наилучшей глубиной является 7, наилучшее минимальное количество для разбиения - 2.\n",
    "2. F1-мера составляет 0.553.\n",
    "3. ROC AUC - 0.827."
   ]
  },
  {
   "cell_type": "markdown",
   "metadata": {},
   "source": [
    "### Случайный лес"
   ]
  },
  {
   "cell_type": "markdown",
   "metadata": {},
   "source": [
    "В данном случае калибруем количество деревьев и максимальную глубину."
   ]
  },
  {
   "cell_type": "code",
   "execution_count": 45,
   "metadata": {},
   "outputs": [
    {
     "name": "stdout",
     "output_type": "stream",
     "text": [
      "Fitting 5 folds for each of 77 candidates, totalling 385 fits\n"
     ]
    }
   ],
   "source": [
    "parameters = [{'n_estimators' : [1, 10, 20, 50, 75, 100, 200],\n",
    "               'max_depth' : [2, 3, 4, 5, 6, 7, 8, 9, 10, 15, 20]}]\n",
    "grid_search = GridSearchCV(estimator=RandomForestClassifier(random_state=42),\n",
    "                           param_grid=parameters,\n",
    "                           scoring='f1',\n",
    "                           cv=5,\n",
    "                           verbose=1,\n",
    "                           n_jobs=-1)\n",
    "grid_search.fit(features_train, target_train)\n",
    "best_f1_rf = grid_search.best_score_\n",
    "best_parameters_rf = grid_search.best_params_"
   ]
  },
  {
   "cell_type": "code",
   "execution_count": 46,
   "metadata": {
    "scrolled": true
   },
   "outputs": [
    {
     "name": "stdout",
     "output_type": "stream",
     "text": [
      "Best f1-score: 0.586\n",
      "Best Parameters: {'max_depth': 20, 'n_estimators': 75}\n"
     ]
    }
   ],
   "source": [
    "print('Best f1-score: {:.3f}'.format(best_f1_rf))\n",
    "print('Best Parameters:', best_parameters_rf)"
   ]
  },
  {
   "cell_type": "markdown",
   "metadata": {},
   "source": [
    "Посчитаем ROC AUC."
   ]
  },
  {
   "cell_type": "code",
   "execution_count": 47,
   "metadata": {},
   "outputs": [],
   "source": [
    "y_pred_rf = cross_val_predict(estimator=RandomForestClassifier(max_depth=20, n_estimators=75, random_state=42),\n",
    "                             X=features_train,\n",
    "                             y=target_train,\n",
    "                             method='predict_proba',\n",
    "                             cv=5)"
   ]
  },
  {
   "cell_type": "code",
   "execution_count": 48,
   "metadata": {},
   "outputs": [
    {
     "data": {
      "text/plain": [
       "0.8523722202425095"
      ]
     },
     "execution_count": 48,
     "metadata": {},
     "output_type": "execute_result"
    }
   ],
   "source": [
    "roc_auc_rf = roc_auc_score(target_train, y_pred_rf[:, 1])\n",
    "roc_auc_rf"
   ]
  },
  {
   "cell_type": "markdown",
   "metadata": {},
   "source": [
    "Случайный лес показывает наилучшие результаты, поэтому обучим его на всей обучающей выборке для дальнейшего рассмотрения на тесте."
   ]
  },
  {
   "cell_type": "code",
   "execution_count": 49,
   "metadata": {},
   "outputs": [
    {
     "data": {
      "text/plain": [
       "RandomForestClassifier(max_depth=20, n_estimators=75, random_state=42)"
      ]
     },
     "execution_count": 49,
     "metadata": {},
     "output_type": "execute_result"
    }
   ],
   "source": [
    "rf_classifier = RandomForestClassifier(max_depth=20, \n",
    "                                       n_estimators=75, \n",
    "                                       random_state=42)\n",
    "rf_classifier.fit(features_train, target_train)"
   ]
  },
  {
   "cell_type": "markdown",
   "metadata": {},
   "source": [
    "**Вывод:**\n",
    "1. Настройка гиперпараметров показала, что наилучшей глубиной является 20, а наилучшее количество деревьев - 75.\n",
    "2. F1-мера составляет 0.586.\n",
    "3. ROC AUC - 0.852."
   ]
  },
  {
   "cell_type": "markdown",
   "metadata": {},
   "source": [
    "### Сравнение моделей"
   ]
  },
  {
   "cell_type": "markdown",
   "metadata": {},
   "source": [
    "Сведем полученные результаты для разных моделей в одну таблицу."
   ]
  },
  {
   "cell_type": "code",
   "execution_count": 50,
   "metadata": {
    "scrolled": false
   },
   "outputs": [
    {
     "data": {
      "text/html": [
       "<div>\n",
       "<style scoped>\n",
       "    .dataframe tbody tr th:only-of-type {\n",
       "        vertical-align: middle;\n",
       "    }\n",
       "\n",
       "    .dataframe tbody tr th {\n",
       "        vertical-align: top;\n",
       "    }\n",
       "\n",
       "    .dataframe thead th {\n",
       "        text-align: right;\n",
       "    }\n",
       "</style>\n",
       "<table border=\"1\" class=\"dataframe\">\n",
       "  <thead>\n",
       "    <tr style=\"text-align: right;\">\n",
       "      <th></th>\n",
       "      <th>model</th>\n",
       "      <th>f1</th>\n",
       "      <th>roc_auc</th>\n",
       "    </tr>\n",
       "  </thead>\n",
       "  <tbody>\n",
       "    <tr>\n",
       "      <th>0</th>\n",
       "      <td>logistic_regression</td>\n",
       "      <td>0.318509</td>\n",
       "      <td>0.763545</td>\n",
       "    </tr>\n",
       "    <tr>\n",
       "      <th>1</th>\n",
       "      <td>knn</td>\n",
       "      <td>0.545234</td>\n",
       "      <td>0.815133</td>\n",
       "    </tr>\n",
       "    <tr>\n",
       "      <th>2</th>\n",
       "      <td>decision_tree</td>\n",
       "      <td>0.552707</td>\n",
       "      <td>0.826737</td>\n",
       "    </tr>\n",
       "    <tr>\n",
       "      <th>3</th>\n",
       "      <td>random_forest</td>\n",
       "      <td>0.586046</td>\n",
       "      <td>0.852372</td>\n",
       "    </tr>\n",
       "  </tbody>\n",
       "</table>\n",
       "</div>"
      ],
      "text/plain": [
       "                 model        f1   roc_auc\n",
       "0  logistic_regression  0.318509  0.763545\n",
       "1                  knn  0.545234  0.815133\n",
       "2        decision_tree  0.552707  0.826737\n",
       "3        random_forest  0.586046  0.852372"
      ]
     },
     "execution_count": 50,
     "metadata": {},
     "output_type": "execute_result"
    }
   ],
   "source": [
    "comparison = pd.DataFrame(data=[['logistic_regression', best_f1_lr, roc_auc_lr], \n",
    "                                ['knn', best_f1_knn, roc_auc_knn], \n",
    "                                ['decision_tree', best_f1_tree, roc_auc_tree],\n",
    "                                ['random_forest', best_f1_rf, roc_auc_rf]], \n",
    "          columns=['model', 'f1', 'roc_auc'])\n",
    "comparison"
   ]
  },
  {
   "cell_type": "markdown",
   "metadata": {},
   "source": [
    "### Вывод"
   ]
  },
  {
   "cell_type": "markdown",
   "metadata": {},
   "source": [
    "1. Были построены 4 модели и проведена оптимизация их гиперпараметров с помощью техники GridSearch.\n",
    "2. Хуже всего себя проявила логистическая регрессия с F1-мерой 0.319 на кросс-валидации. Её ROC AUC составила 0.764.\n",
    "3. Лучше всего себя показала модель случайного леса с F1-мерой 0.586 на кросс-валидации. Её ROC AUC составила 0.852.\n",
    "4. F1-мера для всех моделей ниже заданной заказчиком F1-меры в размере 0.59. Следовательно, провести качественную классификацию, игнорируя дисбаланс классов, в данном случае не представляется возможным."
   ]
  },
  {
   "cell_type": "markdown",
   "metadata": {},
   "source": [
    "## Борьба с дисбалансом"
   ]
  },
  {
   "cell_type": "markdown",
   "metadata": {},
   "source": [
    "Для борьбы с дисбалансом классов воспользуемся тремя разными методами: взвешиванием классов, увеличением выборки и уменьшением выборки. \n",
    "Для каждого из трёх методов рассмотрим 4 модели (те же, что в предыдущем пункте) и проведем оптимизацию гиперпараметров."
   ]
  },
  {
   "cell_type": "markdown",
   "metadata": {},
   "source": [
    "### Взвешивание классов"
   ]
  },
  {
   "cell_type": "markdown",
   "metadata": {},
   "source": [
    "В данном методе не рассматриваем модель k-ближайших соседей, так как в ней не предусмотрена возможность взвешивания классов."
   ]
  },
  {
   "cell_type": "markdown",
   "metadata": {},
   "source": [
    "#### Логистическая регрессия"
   ]
  },
  {
   "cell_type": "code",
   "execution_count": 51,
   "metadata": {},
   "outputs": [
    {
     "name": "stdout",
     "output_type": "stream",
     "text": [
      "Fitting 5 folds for each of 12 candidates, totalling 60 fits\n"
     ]
    }
   ],
   "source": [
    "parameters = [{'C' : [0.1, 0.5, 1, 1.5, 2, 5, 10, 15, 20, 25, 50, 100]}]\n",
    "grid_search = GridSearchCV(estimator=LogisticRegression(class_weight='balanced', solver='liblinear', random_state=42),\n",
    "                           param_grid=parameters,\n",
    "                           scoring='f1',\n",
    "                           cv=5,\n",
    "                           verbose=1)\n",
    "grid_search.fit(features_train, target_train)\n",
    "best_f1_lr_balance = grid_search.best_score_\n",
    "best_parameters_lr_balance = grid_search.best_params_"
   ]
  },
  {
   "cell_type": "code",
   "execution_count": 52,
   "metadata": {
    "scrolled": true
   },
   "outputs": [
    {
     "name": "stdout",
     "output_type": "stream",
     "text": [
      "Best f1-score: 0.489\n",
      "Best Parameters: {'C': 0.1}\n"
     ]
    }
   ],
   "source": [
    "print('Best f1-score: {:.3f}'.format(best_f1_lr_balance))\n",
    "print('Best Parameters:', best_parameters_lr_balance)"
   ]
  },
  {
   "cell_type": "markdown",
   "metadata": {},
   "source": [
    "Посчитаем ROC AUC."
   ]
  },
  {
   "cell_type": "code",
   "execution_count": 60,
   "metadata": {},
   "outputs": [],
   "source": [
    "y_pred_lr_balance = cross_val_predict(estimator=LogisticRegression(class_weight='balanced', \n",
    "                                                                   solver='liblinear', \n",
    "                                                                   C=0.1, \n",
    "                                                                   random_state=42),\n",
    "                                     X=features_train,\n",
    "                                     y=target_train,\n",
    "                                     method='predict_proba',\n",
    "                                     cv=5)"
   ]
  },
  {
   "cell_type": "code",
   "execution_count": 61,
   "metadata": {},
   "outputs": [
    {
     "data": {
      "text/plain": [
       "0.7670792923115447"
      ]
     },
     "execution_count": 61,
     "metadata": {},
     "output_type": "execute_result"
    }
   ],
   "source": [
    "roc_auc_lr_balance = roc_auc_score(target_train, y_pred_lr_balance[:, 1])\n",
    "roc_auc_lr_balance"
   ]
  },
  {
   "cell_type": "markdown",
   "metadata": {},
   "source": [
    "#### Дерево решений"
   ]
  },
  {
   "cell_type": "code",
   "execution_count": 58,
   "metadata": {},
   "outputs": [
    {
     "name": "stdout",
     "output_type": "stream",
     "text": [
      "Fitting 5 folds for each of 234 candidates, totalling 1170 fits\n"
     ]
    }
   ],
   "source": [
    "parameters = [{'max_depth' : [2, 3, 4, 5, 6, 7, 8, 9, 10, 15, 20, 25, 50], \n",
    "               'min_samples_split': range(2,20)}]\n",
    "grid_search = GridSearchCV(estimator=DecisionTreeClassifier(class_weight='balanced',random_state=42),\n",
    "                           param_grid=parameters,\n",
    "                           scoring='f1',\n",
    "                           cv=5,\n",
    "                           verbose=1)\n",
    "grid_search.fit(features_train, target_train)\n",
    "best_f1_tree_balance = grid_search.best_score_\n",
    "best_parameters_tree_balance = grid_search.best_params_"
   ]
  },
  {
   "cell_type": "code",
   "execution_count": 59,
   "metadata": {},
   "outputs": [
    {
     "name": "stdout",
     "output_type": "stream",
     "text": [
      "Best f1-score: 0.574\n",
      "Best Parameters: {'max_depth': 8, 'min_samples_split': 18}\n"
     ]
    }
   ],
   "source": [
    "print('Best f1-score: {:.3f}'.format(best_f1_tree_balance))\n",
    "print('Best Parameters:', best_parameters_tree_balance)"
   ]
  },
  {
   "cell_type": "markdown",
   "metadata": {},
   "source": [
    "Посчитаем ROC AUC."
   ]
  },
  {
   "cell_type": "code",
   "execution_count": 65,
   "metadata": {},
   "outputs": [],
   "source": [
    "y_pred_tree_balance = cross_val_predict(estimator=DecisionTreeClassifier(class_weight='balanced', \n",
    "                                                                         max_depth=8, \n",
    "                                                                         min_samples_split=18, \n",
    "                                                                         random_state=42),\n",
    "                                         X=features_train,\n",
    "                                         y=target_train,\n",
    "                                         method='predict_proba',\n",
    "                                         cv=5)"
   ]
  },
  {
   "cell_type": "code",
   "execution_count": 66,
   "metadata": {},
   "outputs": [
    {
     "data": {
      "text/plain": [
       "0.8238861707967755"
      ]
     },
     "execution_count": 66,
     "metadata": {},
     "output_type": "execute_result"
    }
   ],
   "source": [
    "roc_auc_tree_balance = roc_auc_score(target_train, y_pred_tree_balance[:, 1])\n",
    "roc_auc_tree_balance"
   ]
  },
  {
   "cell_type": "markdown",
   "metadata": {},
   "source": [
    "#### Случайный лес"
   ]
  },
  {
   "cell_type": "code",
   "execution_count": 67,
   "metadata": {},
   "outputs": [
    {
     "name": "stdout",
     "output_type": "stream",
     "text": [
      "Fitting 5 folds for each of 567 candidates, totalling 2835 fits\n"
     ]
    }
   ],
   "source": [
    "parameters = [{'n_estimators' : [1, 10, 50, 75, 100, 150, 200],\n",
    "               'max_depth' : [4, 5, 6, 7, 8, 9, 10, 15, 20],\n",
    "               'min_samples_split': range(2,20, 2)}]\n",
    "grid_search = GridSearchCV(estimator=RandomForestClassifier(class_weight='balanced', random_state=42),\n",
    "                           param_grid=parameters,\n",
    "                           scoring='f1',\n",
    "                           cv=5,\n",
    "                           verbose=1,\n",
    "                           n_jobs=-1)\n",
    "grid_search.fit(features_train, target_train)\n",
    "best_f1_rf_balance = grid_search.best_score_\n",
    "best_parameters_rf_balance = grid_search.best_params_"
   ]
  },
  {
   "cell_type": "code",
   "execution_count": 68,
   "metadata": {},
   "outputs": [
    {
     "name": "stdout",
     "output_type": "stream",
     "text": [
      "Best f1-score: 0.632\n",
      "Best Parameters: {'max_depth': 10, 'min_samples_split': 12, 'n_estimators': 150}\n"
     ]
    }
   ],
   "source": [
    "print('Best f1-score: {:.3f}'.format(best_f1_rf_balance))\n",
    "print('Best Parameters:', best_parameters_rf_balance)"
   ]
  },
  {
   "cell_type": "markdown",
   "metadata": {},
   "source": [
    "Посчитаем ROC AUC."
   ]
  },
  {
   "cell_type": "code",
   "execution_count": 69,
   "metadata": {},
   "outputs": [],
   "source": [
    "y_pred_rf_balance = cross_val_predict(estimator=RandomForestClassifier(class_weight='balanced', \n",
    "                                                                       max_depth=10,\n",
    "                                                                       n_estimators=150,\n",
    "                                                                       min_samples_split=12, \n",
    "                                                                       random_state=42),\n",
    "                                         X=features_train,\n",
    "                                         y=target_train,\n",
    "                                         method='predict_proba',\n",
    "                                         cv=5)"
   ]
  },
  {
   "cell_type": "code",
   "execution_count": 70,
   "metadata": {},
   "outputs": [
    {
     "data": {
      "text/plain": [
       "0.8633534300931321"
      ]
     },
     "execution_count": 70,
     "metadata": {},
     "output_type": "execute_result"
    }
   ],
   "source": [
    "roc_auc_rf_balance = roc_auc_score(target_train, y_pred_rf_balance[:, 1])\n",
    "roc_auc_rf_balance"
   ]
  },
  {
   "cell_type": "markdown",
   "metadata": {},
   "source": [
    "Обучим модель на всей обучающей выборке для дальнейшего тестирования."
   ]
  },
  {
   "cell_type": "code",
   "execution_count": 71,
   "metadata": {},
   "outputs": [
    {
     "data": {
      "text/plain": [
       "RandomForestClassifier(class_weight='balanced', max_depth=10,\n",
       "                       min_samples_split=12, n_estimators=150, random_state=42)"
      ]
     },
     "execution_count": 71,
     "metadata": {},
     "output_type": "execute_result"
    }
   ],
   "source": [
    "rf_classifier_weights = RandomForestClassifier(max_depth=10,\n",
    "                                               n_estimators=150, \n",
    "                                               class_weight='balanced', \n",
    "                                               min_samples_split=12, \n",
    "                                               random_state=42)\n",
    "rf_classifier_weights.fit(features_train, target_train)"
   ]
  },
  {
   "cell_type": "markdown",
   "metadata": {},
   "source": [
    "#### Сравнение моделей"
   ]
  },
  {
   "cell_type": "markdown",
   "metadata": {},
   "source": [
    "Сравним f1-меру до взвешивания классов и после взвешивания."
   ]
  },
  {
   "cell_type": "code",
   "execution_count": 72,
   "metadata": {},
   "outputs": [
    {
     "data": {
      "text/html": [
       "<div>\n",
       "<style scoped>\n",
       "    .dataframe tbody tr th:only-of-type {\n",
       "        vertical-align: middle;\n",
       "    }\n",
       "\n",
       "    .dataframe tbody tr th {\n",
       "        vertical-align: top;\n",
       "    }\n",
       "\n",
       "    .dataframe thead th {\n",
       "        text-align: right;\n",
       "    }\n",
       "</style>\n",
       "<table border=\"1\" class=\"dataframe\">\n",
       "  <thead>\n",
       "    <tr style=\"text-align: right;\">\n",
       "      <th></th>\n",
       "      <th>model</th>\n",
       "      <th>disbalance</th>\n",
       "      <th>weighted_classes</th>\n",
       "    </tr>\n",
       "  </thead>\n",
       "  <tbody>\n",
       "    <tr>\n",
       "      <th>0</th>\n",
       "      <td>logistic_regression</td>\n",
       "      <td>0.318509</td>\n",
       "      <td>0.489401</td>\n",
       "    </tr>\n",
       "    <tr>\n",
       "      <th>1</th>\n",
       "      <td>knn</td>\n",
       "      <td>0.545234</td>\n",
       "      <td>NaN</td>\n",
       "    </tr>\n",
       "    <tr>\n",
       "      <th>2</th>\n",
       "      <td>decision_tree</td>\n",
       "      <td>0.552707</td>\n",
       "      <td>0.573757</td>\n",
       "    </tr>\n",
       "    <tr>\n",
       "      <th>3</th>\n",
       "      <td>random_forest</td>\n",
       "      <td>0.586046</td>\n",
       "      <td>0.631899</td>\n",
       "    </tr>\n",
       "  </tbody>\n",
       "</table>\n",
       "</div>"
      ],
      "text/plain": [
       "                 model  disbalance  weighted_classes\n",
       "0  logistic_regression    0.318509          0.489401\n",
       "1                  knn    0.545234               NaN\n",
       "2        decision_tree    0.552707          0.573757\n",
       "3        random_forest    0.586046          0.631899"
      ]
     },
     "execution_count": 72,
     "metadata": {},
     "output_type": "execute_result"
    }
   ],
   "source": [
    "comparison_f1 = pd.DataFrame(data=[\n",
    "                            ['logistic_regression', best_f1_lr, best_f1_lr_balance],\n",
    "                            ['knn', best_f1_knn, np.NaN],\n",
    "                            ['decision_tree', best_f1_tree, best_f1_tree_balance],\n",
    "                            ['random_forest', best_f1_rf, best_f1_rf_balance]],\n",
    "                            columns=['model', 'disbalance', 'weighted_classes'])\n",
    "comparison_f1"
   ]
  },
  {
   "cell_type": "markdown",
   "metadata": {},
   "source": [
    "Тоже самое проделаем и для ROC AUC."
   ]
  },
  {
   "cell_type": "code",
   "execution_count": 73,
   "metadata": {},
   "outputs": [
    {
     "data": {
      "text/html": [
       "<div>\n",
       "<style scoped>\n",
       "    .dataframe tbody tr th:only-of-type {\n",
       "        vertical-align: middle;\n",
       "    }\n",
       "\n",
       "    .dataframe tbody tr th {\n",
       "        vertical-align: top;\n",
       "    }\n",
       "\n",
       "    .dataframe thead th {\n",
       "        text-align: right;\n",
       "    }\n",
       "</style>\n",
       "<table border=\"1\" class=\"dataframe\">\n",
       "  <thead>\n",
       "    <tr style=\"text-align: right;\">\n",
       "      <th></th>\n",
       "      <th>model</th>\n",
       "      <th>disbalance</th>\n",
       "      <th>weighted_classes</th>\n",
       "    </tr>\n",
       "  </thead>\n",
       "  <tbody>\n",
       "    <tr>\n",
       "      <th>0</th>\n",
       "      <td>logistic_regression</td>\n",
       "      <td>0.763545</td>\n",
       "      <td>0.767079</td>\n",
       "    </tr>\n",
       "    <tr>\n",
       "      <th>1</th>\n",
       "      <td>knn</td>\n",
       "      <td>0.815133</td>\n",
       "      <td>NaN</td>\n",
       "    </tr>\n",
       "    <tr>\n",
       "      <th>2</th>\n",
       "      <td>decision_tree</td>\n",
       "      <td>0.826737</td>\n",
       "      <td>0.823886</td>\n",
       "    </tr>\n",
       "    <tr>\n",
       "      <th>3</th>\n",
       "      <td>random_forest</td>\n",
       "      <td>0.852372</td>\n",
       "      <td>0.863353</td>\n",
       "    </tr>\n",
       "  </tbody>\n",
       "</table>\n",
       "</div>"
      ],
      "text/plain": [
       "                 model  disbalance  weighted_classes\n",
       "0  logistic_regression    0.763545          0.767079\n",
       "1                  knn    0.815133               NaN\n",
       "2        decision_tree    0.826737          0.823886\n",
       "3        random_forest    0.852372          0.863353"
      ]
     },
     "execution_count": 73,
     "metadata": {},
     "output_type": "execute_result"
    }
   ],
   "source": [
    "comparison_roc_auc = pd.DataFrame(data=[\n",
    "                            ['logistic_regression', roc_auc_lr, roc_auc_lr_balance],\n",
    "                            ['knn', roc_auc_knn, np.NaN],\n",
    "                            ['decision_tree', roc_auc_tree, roc_auc_tree_balance],\n",
    "                            ['random_forest', roc_auc_rf, roc_auc_rf_balance]],\n",
    "                            columns=['model', 'disbalance', 'weighted_classes'])\n",
    "comparison_roc_auc"
   ]
  },
  {
   "cell_type": "markdown",
   "metadata": {},
   "source": [
    "#### Вывод"
   ]
  },
  {
   "cell_type": "markdown",
   "metadata": {},
   "source": [
    "1. Взвешивание классов увеличило F1-меру для всех рассмотренных моделей.\n",
    "2. Взвешивание классов незначительно увеличило ROC AUC меру, однако для дерева решений наблюдается ее несущественное снижение.\n",
    "3. Как и в предыдущий раз, лучше всех себя показала модель случайного леса, а хуже всех модель логистической регрессии."
   ]
  },
  {
   "cell_type": "markdown",
   "metadata": {},
   "source": [
    "### Увеличение выборки"
   ]
  },
  {
   "cell_type": "markdown",
   "metadata": {},
   "source": [
    "В нашем наборе данных объектов класса \"0\" почти в четыре раза больше, чем объектов класса \"1\". В данном случае с дисбалансом будем бороться путем мультипликации объектов класса \"1\" и их дальнейшего перемешивания. Для этого напишем функцию."
   ]
  },
  {
   "cell_type": "code",
   "execution_count": 74,
   "metadata": {},
   "outputs": [],
   "source": [
    "def upsampling(features, target, repeat):\n",
    "    '''\n",
    "    Данная функция принимает на вход признаки, целевой признак и количество мультипликаций.\n",
    "    Признаки и целевой признак разбиваются на класс \"0\" и класс \"1\".\n",
    "    Затем объекты минорного класса дублируются несколько раз.\n",
    "    На выход функция выдает увеличенную выборку.\n",
    "    '''\n",
    "    features_zeros = features[target == 0]\n",
    "    features_ones = features[target == 1]\n",
    "    target_zeros = target[target == 0]\n",
    "    target_ones = target[target == 1]\n",
    "    \n",
    "    features_upsampled = shuffle(pd.concat([features_zeros] + [features_ones] * repeat), random_state=42)\n",
    "    target_upsampled = shuffle(pd.concat([target_zeros] + [target_ones] * repeat), random_state=42)\n",
    "    \n",
    "    return features_upsampled, target_upsampled"
   ]
  },
  {
   "cell_type": "markdown",
   "metadata": {},
   "source": [
    "При данном способе борьбы с дисбалансом, кросс-валидация - не лучший способ валидирования модели, так как в валидационную подвыборку всегда будут попадать наши размноженные объекты. Модель их уже знает, а значит ей не составит труда распознать данные объекты, что приведет к искуственному завышению метрики качества. Для избежания этого возьмем часть обучающей выборки для валидации, а уже потом выполним увеличение выборки. "
   ]
  },
  {
   "cell_type": "code",
   "execution_count": 75,
   "metadata": {},
   "outputs": [],
   "source": [
    "features_train_small, features_val, target_train_small, target_val = train_test_split(features_train,\n",
    "                                                                                      target_train,\n",
    "                                                                                      test_size=0.25,\n",
    "                                                                                      stratify=target_train,\n",
    "                                                                                      random_state=42)"
   ]
  },
  {
   "cell_type": "code",
   "execution_count": 80,
   "metadata": {
    "scrolled": true
   },
   "outputs": [
    {
     "name": "stdout",
     "output_type": "stream",
     "text": [
      "(6000, 10)\n",
      "(2000, 10)\n",
      "(6000,)\n",
      "(2000,)\n"
     ]
    }
   ],
   "source": [
    "print(features_train_small.shape)\n",
    "print(features_val.shape)\n",
    "print(target_train_small.shape)\n",
    "print(target_val.shape)"
   ]
  },
  {
   "cell_type": "markdown",
   "metadata": {},
   "source": [
    "Увеличим количество объектов класса \"1\" в четыре раза."
   ]
  },
  {
   "cell_type": "code",
   "execution_count": 76,
   "metadata": {},
   "outputs": [],
   "source": [
    "features_upsampled, target_upsampled = upsampling(features_train_small, target_train_small, 4)"
   ]
  },
  {
   "cell_type": "markdown",
   "metadata": {},
   "source": [
    "Выполним проверку."
   ]
  },
  {
   "cell_type": "code",
   "execution_count": 81,
   "metadata": {},
   "outputs": [
    {
     "data": {
      "text/plain": [
       "(9669, 10)"
      ]
     },
     "execution_count": 81,
     "metadata": {},
     "output_type": "execute_result"
    }
   ],
   "source": [
    "features_upsampled.shape"
   ]
  },
  {
   "cell_type": "code",
   "execution_count": 82,
   "metadata": {},
   "outputs": [
    {
     "data": {
      "text/plain": [
       "(9669,)"
      ]
     },
     "execution_count": 82,
     "metadata": {},
     "output_type": "execute_result"
    }
   ],
   "source": [
    "target_upsampled.shape"
   ]
  },
  {
   "cell_type": "code",
   "execution_count": 83,
   "metadata": {},
   "outputs": [
    {
     "data": {
      "text/plain": [
       "1    0.505947\n",
       "0    0.494053\n",
       "Name: Exited, dtype: float64"
      ]
     },
     "execution_count": 83,
     "metadata": {},
     "output_type": "execute_result"
    }
   ],
   "source": [
    "target_upsampled.value_counts(normalize=True)"
   ]
  },
  {
   "cell_type": "code",
   "execution_count": 85,
   "metadata": {},
   "outputs": [
    {
     "data": {
      "text/html": [
       "<div>\n",
       "<style scoped>\n",
       "    .dataframe tbody tr th:only-of-type {\n",
       "        vertical-align: middle;\n",
       "    }\n",
       "\n",
       "    .dataframe tbody tr th {\n",
       "        vertical-align: top;\n",
       "    }\n",
       "\n",
       "    .dataframe thead th {\n",
       "        text-align: right;\n",
       "    }\n",
       "</style>\n",
       "<table border=\"1\" class=\"dataframe\">\n",
       "  <thead>\n",
       "    <tr style=\"text-align: right;\">\n",
       "      <th></th>\n",
       "      <th>CreditScore</th>\n",
       "      <th>Age</th>\n",
       "      <th>Balance</th>\n",
       "      <th>NumOfProducts</th>\n",
       "      <th>HasCrCard</th>\n",
       "      <th>IsActiveMember</th>\n",
       "      <th>EstimatedSalary</th>\n",
       "      <th>Geography_Germany</th>\n",
       "      <th>Geography_Spain</th>\n",
       "      <th>Gender_Male</th>\n",
       "    </tr>\n",
       "  </thead>\n",
       "  <tbody>\n",
       "    <tr>\n",
       "      <th>4494</th>\n",
       "      <td>2.062809</td>\n",
       "      <td>-0.754936</td>\n",
       "      <td>0.100041</td>\n",
       "      <td>0.808830</td>\n",
       "      <td>1</td>\n",
       "      <td>0</td>\n",
       "      <td>0.862355</td>\n",
       "      <td>0</td>\n",
       "      <td>1</td>\n",
       "      <td>1</td>\n",
       "    </tr>\n",
       "    <tr>\n",
       "      <th>8383</th>\n",
       "      <td>-1.633211</td>\n",
       "      <td>-0.279932</td>\n",
       "      <td>1.160333</td>\n",
       "      <td>0.808830</td>\n",
       "      <td>1</td>\n",
       "      <td>0</td>\n",
       "      <td>-0.761157</td>\n",
       "      <td>0</td>\n",
       "      <td>0</td>\n",
       "      <td>0</td>\n",
       "    </tr>\n",
       "    <tr>\n",
       "      <th>6812</th>\n",
       "      <td>-0.773912</td>\n",
       "      <td>2.285092</td>\n",
       "      <td>1.163154</td>\n",
       "      <td>-0.910256</td>\n",
       "      <td>1</td>\n",
       "      <td>0</td>\n",
       "      <td>-0.528796</td>\n",
       "      <td>1</td>\n",
       "      <td>0</td>\n",
       "      <td>1</td>\n",
       "    </tr>\n",
       "    <tr>\n",
       "      <th>7724</th>\n",
       "      <td>1.979985</td>\n",
       "      <td>0.480075</td>\n",
       "      <td>1.041298</td>\n",
       "      <td>4.247004</td>\n",
       "      <td>0</td>\n",
       "      <td>1</td>\n",
       "      <td>0.502173</td>\n",
       "      <td>0</td>\n",
       "      <td>0</td>\n",
       "      <td>1</td>\n",
       "    </tr>\n",
       "    <tr>\n",
       "      <th>392</th>\n",
       "      <td>-0.028497</td>\n",
       "      <td>0.670077</td>\n",
       "      <td>0.815880</td>\n",
       "      <td>0.808830</td>\n",
       "      <td>1</td>\n",
       "      <td>0</td>\n",
       "      <td>-0.389399</td>\n",
       "      <td>0</td>\n",
       "      <td>1</td>\n",
       "      <td>1</td>\n",
       "    </tr>\n",
       "  </tbody>\n",
       "</table>\n",
       "</div>"
      ],
      "text/plain": [
       "      CreditScore       Age   Balance  NumOfProducts  HasCrCard  \\\n",
       "4494     2.062809 -0.754936  0.100041       0.808830          1   \n",
       "8383    -1.633211 -0.279932  1.160333       0.808830          1   \n",
       "6812    -0.773912  2.285092  1.163154      -0.910256          1   \n",
       "7724     1.979985  0.480075  1.041298       4.247004          0   \n",
       "392     -0.028497  0.670077  0.815880       0.808830          1   \n",
       "\n",
       "      IsActiveMember  EstimatedSalary  Geography_Germany  Geography_Spain  \\\n",
       "4494               0         0.862355                  0                1   \n",
       "8383               0        -0.761157                  0                0   \n",
       "6812               0        -0.528796                  1                0   \n",
       "7724               1         0.502173                  0                0   \n",
       "392                0        -0.389399                  0                1   \n",
       "\n",
       "      Gender_Male  \n",
       "4494            1  \n",
       "8383            0  \n",
       "6812            1  \n",
       "7724            1  \n",
       "392             1  "
      ]
     },
     "execution_count": 85,
     "metadata": {},
     "output_type": "execute_result"
    }
   ],
   "source": [
    "features_upsampled.head()"
   ]
  },
  {
   "cell_type": "markdown",
   "metadata": {},
   "source": [
    "Увеличение выборки проведено успешно, можем приступать к обучению моделей. "
   ]
  },
  {
   "cell_type": "markdown",
   "metadata": {},
   "source": [
    "#### Логистическая регрессия"
   ]
  },
  {
   "cell_type": "code",
   "execution_count": 88,
   "metadata": {},
   "outputs": [
    {
     "name": "stdout",
     "output_type": "stream",
     "text": [
      "Best f1-score: 0.484\n",
      "Best Parameter C: 0.05\n",
      "ROC AUC: 0.762\n"
     ]
    }
   ],
   "source": [
    "parameter_c = [0.01, 0.05, 0.1, 0.25, 0.5, 1, 1.5, 2, 5, 10, 15, 25, 50]\n",
    "best_f1_lr_upsampling = 0\n",
    "best_parameters_lr_upsampling = 0\n",
    "\n",
    "for c in parameter_c:\n",
    "    model = LogisticRegression(C=c, solver='liblinear', random_state=42)\n",
    "    model.fit(features_upsampled, target_upsampled)\n",
    "    score = f1_score(target_val, model.predict(features_val))\n",
    "    if score > best_f1_lr_upsampling:\n",
    "        best_f1_lr_upsampling = score\n",
    "        roc_auc_lr_upsampling = roc_auc_score(target_val, model.predict_proba(features_val)[:, 1])\n",
    "        best_parameters_lr_upsampling = c\n",
    "        log_reg_upsampling = model\n",
    "        \n",
    "print('Best f1-score: {:.3f}'.format(best_f1_lr_upsampling))\n",
    "print('Best Parameter C:', best_parameters_lr_upsampling)\n",
    "print('ROC AUC: {:.3f}'.format(roc_auc_lr_upsampling))"
   ]
  },
  {
   "cell_type": "markdown",
   "metadata": {},
   "source": [
    "#### Метод k-ближайших соседей"
   ]
  },
  {
   "cell_type": "code",
   "execution_count": 89,
   "metadata": {},
   "outputs": [
    {
     "name": "stdout",
     "output_type": "stream",
     "text": [
      "Best f1-score: 0.599\n",
      "Best Parameter n_neighbors: 40\n",
      "ROC AUC: 0.849\n"
     ]
    }
   ],
   "source": [
    "neighbors = [2, 3, 4, 5, 6, 7, 8, 9, 10, 15, 20, 30, 40, 50, 60, 70]\n",
    "best_f1_knn_upsampling = 0\n",
    "best_parameters_knn_upsampling = 0\n",
    "\n",
    "for n_neighbors in neighbors:\n",
    "    model = KNeighborsClassifier(n_neighbors=n_neighbors)\n",
    "    model.fit(features_upsampled, target_upsampled)\n",
    "    score = f1_score(target_val, model.predict(features_val))\n",
    "    if score > best_f1_knn_upsampling:\n",
    "        best_f1_knn_upsampling = score\n",
    "        roc_auc_knn_upsampling = roc_auc_score(target_val, model.predict_proba(features_val)[:, 1])\n",
    "        best_parameters_knn_upsampling = n_neighbors\n",
    "        knn_upsampling = model\n",
    "        \n",
    "print('Best f1-score: {:.3f}'.format(best_f1_knn_upsampling))\n",
    "print('Best Parameter n_neighbors:', best_parameters_knn_upsampling)\n",
    "print('ROC AUC: {:.3f}'.format(roc_auc_knn_upsampling))"
   ]
  },
  {
   "cell_type": "markdown",
   "metadata": {},
   "source": [
    "#### Дерево решений"
   ]
  },
  {
   "cell_type": "code",
   "execution_count": 90,
   "metadata": {},
   "outputs": [
    {
     "name": "stdout",
     "output_type": "stream",
     "text": [
      "Best f1-score: 0.598\n",
      "Best Max Depth: 8\n",
      "Best Min Samples Split: 16\n",
      "ROC AUC: 0.833\n"
     ]
    }
   ],
   "source": [
    "max_depth = [2, 3, 4, 5, 6, 7, 8, 9, 10, 15, 20, 25, 50]\n",
    "min_samples_split = range(2,20)\n",
    "best_f1_tree_upsampling = 0\n",
    "best_depth, best_split = 0, 0\n",
    "\n",
    "for depth in max_depth:\n",
    "    for split in min_samples_split:\n",
    "        model = DecisionTreeClassifier(max_depth=depth, min_samples_split=split, random_state=42)\n",
    "        model.fit(features_upsampled, target_upsampled)\n",
    "        score = f1_score(target_val, model.predict(features_val))\n",
    "        if score > best_f1_tree_upsampling:\n",
    "            best_f1_tree_upsampling = score\n",
    "            roc_auc_tree_upsampling = roc_auc_score(target_val, model.predict_proba(features_val)[:, 1])\n",
    "            best_depth, best_split = depth, split\n",
    "            tree_classifier_upsampling = model\n",
    "        \n",
    "print('Best f1-score: {:.3f}'.format(best_f1_tree_upsampling))\n",
    "print('Best Max Depth:', best_depth)\n",
    "print('Best Min Samples Split:', best_split)\n",
    "print('ROC AUC: {:.3f}'.format(roc_auc_tree_upsampling))"
   ]
  },
  {
   "cell_type": "markdown",
   "metadata": {},
   "source": [
    "#### Случайный лес"
   ]
  },
  {
   "cell_type": "code",
   "execution_count": 92,
   "metadata": {},
   "outputs": [
    {
     "name": "stdout",
     "output_type": "stream",
     "text": [
      "Best f1-score: 0.645\n",
      "Best Max Depth: 15\n",
      "Best Number of Estimators: 25\n",
      "Best Min Samples Split:: 12\n",
      "ROC AUC: 0.854\n"
     ]
    }
   ],
   "source": [
    "max_depth = [2, 3, 4, 5, 6, 7, 8, 9, 10, 15, 20, 25, 50]\n",
    "n_estimators = [5, 25, 50, 75, 100, 150, 200]\n",
    "min_samples_split = range(2,20,2)\n",
    "best_f1_rf_upsampling = 0\n",
    "best_depth_rf, best_n_estimators = 0, 0\n",
    "\n",
    "for depth in max_depth:\n",
    "    for estimators in n_estimators:\n",
    "        for split in min_samples_split:\n",
    "            model = RandomForestClassifier(max_depth=depth, n_estimators=estimators, min_samples_split=split, random_state=42, n_jobs=-1)\n",
    "            model.fit(features_upsampled, target_upsampled)\n",
    "            score = f1_score(target_val, model.predict(features_val))\n",
    "            if score > best_f1_rf_upsampling:\n",
    "                best_f1_rf_upsampling = score\n",
    "                roc_auc_rf_upsampling = roc_auc_score(target_val, model.predict_proba(features_val)[:, 1])\n",
    "                best_depth_rf, best_n_estimators, best_split = depth, estimators, split\n",
    "                rf_classifier_upsampling = model\n",
    "        \n",
    "print('Best f1-score: {:.3f}'.format(best_f1_rf_upsampling))\n",
    "print('Best Max Depth:', best_depth_rf)\n",
    "print('Best Number of Estimators:', best_n_estimators)\n",
    "print('Best Min Samples Split::', best_split)\n",
    "print('ROC AUC: {:.3f}'.format(roc_auc_rf_upsampling))"
   ]
  },
  {
   "cell_type": "markdown",
   "metadata": {},
   "source": [
    "#### Сравнение моделей"
   ]
  },
  {
   "cell_type": "markdown",
   "metadata": {},
   "source": [
    "Добавим полученные результаты в таблицу."
   ]
  },
  {
   "cell_type": "code",
   "execution_count": 93,
   "metadata": {},
   "outputs": [],
   "source": [
    "comparison_f1['upsampling'] = [best_f1_lr_upsampling, best_f1_knn_upsampling, best_f1_tree_upsampling, best_f1_rf_upsampling]"
   ]
  },
  {
   "cell_type": "code",
   "execution_count": 94,
   "metadata": {
    "scrolled": true
   },
   "outputs": [
    {
     "data": {
      "text/html": [
       "<div>\n",
       "<style scoped>\n",
       "    .dataframe tbody tr th:only-of-type {\n",
       "        vertical-align: middle;\n",
       "    }\n",
       "\n",
       "    .dataframe tbody tr th {\n",
       "        vertical-align: top;\n",
       "    }\n",
       "\n",
       "    .dataframe thead th {\n",
       "        text-align: right;\n",
       "    }\n",
       "</style>\n",
       "<table border=\"1\" class=\"dataframe\">\n",
       "  <thead>\n",
       "    <tr style=\"text-align: right;\">\n",
       "      <th></th>\n",
       "      <th>model</th>\n",
       "      <th>disbalance</th>\n",
       "      <th>weighted_classes</th>\n",
       "      <th>upsampling</th>\n",
       "    </tr>\n",
       "  </thead>\n",
       "  <tbody>\n",
       "    <tr>\n",
       "      <th>0</th>\n",
       "      <td>logistic_regression</td>\n",
       "      <td>0.318509</td>\n",
       "      <td>0.489401</td>\n",
       "      <td>0.483786</td>\n",
       "    </tr>\n",
       "    <tr>\n",
       "      <th>1</th>\n",
       "      <td>knn</td>\n",
       "      <td>0.545234</td>\n",
       "      <td>NaN</td>\n",
       "      <td>0.598612</td>\n",
       "    </tr>\n",
       "    <tr>\n",
       "      <th>2</th>\n",
       "      <td>decision_tree</td>\n",
       "      <td>0.552707</td>\n",
       "      <td>0.573757</td>\n",
       "      <td>0.597656</td>\n",
       "    </tr>\n",
       "    <tr>\n",
       "      <th>3</th>\n",
       "      <td>random_forest</td>\n",
       "      <td>0.586046</td>\n",
       "      <td>0.631899</td>\n",
       "      <td>0.644936</td>\n",
       "    </tr>\n",
       "  </tbody>\n",
       "</table>\n",
       "</div>"
      ],
      "text/plain": [
       "                 model  disbalance  weighted_classes  upsampling\n",
       "0  logistic_regression    0.318509          0.489401    0.483786\n",
       "1                  knn    0.545234               NaN    0.598612\n",
       "2        decision_tree    0.552707          0.573757    0.597656\n",
       "3        random_forest    0.586046          0.631899    0.644936"
      ]
     },
     "execution_count": 94,
     "metadata": {},
     "output_type": "execute_result"
    }
   ],
   "source": [
    "comparison_f1"
   ]
  },
  {
   "cell_type": "markdown",
   "metadata": {},
   "source": [
    "Теперь посмотрим на ROC AUC."
   ]
  },
  {
   "cell_type": "code",
   "execution_count": 95,
   "metadata": {},
   "outputs": [],
   "source": [
    "comparison_roc_auc['upsampling'] = [roc_auc_lr_upsampling, roc_auc_knn_upsampling, roc_auc_tree_upsampling, roc_auc_rf_upsampling]"
   ]
  },
  {
   "cell_type": "code",
   "execution_count": 96,
   "metadata": {},
   "outputs": [
    {
     "data": {
      "text/html": [
       "<div>\n",
       "<style scoped>\n",
       "    .dataframe tbody tr th:only-of-type {\n",
       "        vertical-align: middle;\n",
       "    }\n",
       "\n",
       "    .dataframe tbody tr th {\n",
       "        vertical-align: top;\n",
       "    }\n",
       "\n",
       "    .dataframe thead th {\n",
       "        text-align: right;\n",
       "    }\n",
       "</style>\n",
       "<table border=\"1\" class=\"dataframe\">\n",
       "  <thead>\n",
       "    <tr style=\"text-align: right;\">\n",
       "      <th></th>\n",
       "      <th>model</th>\n",
       "      <th>disbalance</th>\n",
       "      <th>weighted_classes</th>\n",
       "      <th>upsampling</th>\n",
       "    </tr>\n",
       "  </thead>\n",
       "  <tbody>\n",
       "    <tr>\n",
       "      <th>0</th>\n",
       "      <td>logistic_regression</td>\n",
       "      <td>0.763545</td>\n",
       "      <td>0.767079</td>\n",
       "      <td>0.761823</td>\n",
       "    </tr>\n",
       "    <tr>\n",
       "      <th>1</th>\n",
       "      <td>knn</td>\n",
       "      <td>0.815133</td>\n",
       "      <td>NaN</td>\n",
       "      <td>0.848606</td>\n",
       "    </tr>\n",
       "    <tr>\n",
       "      <th>2</th>\n",
       "      <td>decision_tree</td>\n",
       "      <td>0.826737</td>\n",
       "      <td>0.823886</td>\n",
       "      <td>0.833191</td>\n",
       "    </tr>\n",
       "    <tr>\n",
       "      <th>3</th>\n",
       "      <td>random_forest</td>\n",
       "      <td>0.852372</td>\n",
       "      <td>0.863353</td>\n",
       "      <td>0.854433</td>\n",
       "    </tr>\n",
       "  </tbody>\n",
       "</table>\n",
       "</div>"
      ],
      "text/plain": [
       "                 model  disbalance  weighted_classes  upsampling\n",
       "0  logistic_regression    0.763545          0.767079    0.761823\n",
       "1                  knn    0.815133               NaN    0.848606\n",
       "2        decision_tree    0.826737          0.823886    0.833191\n",
       "3        random_forest    0.852372          0.863353    0.854433"
      ]
     },
     "execution_count": 96,
     "metadata": {},
     "output_type": "execute_result"
    }
   ],
   "source": [
    "comparison_roc_auc"
   ]
  },
  {
   "cell_type": "markdown",
   "metadata": {},
   "source": [
    "#### Вывод"
   ]
  },
  {
   "cell_type": "markdown",
   "metadata": {},
   "source": [
    "1. Увеличение обучающей выборки увеличило F1-меру всех моделей в сравнении со случаем, где дисбаланс классов не учитывался вообще.\n",
    "2. Как и в предыдущих случаях, лучше всех себя проявила модель случайного леса, а хуже всех модель логистической регрессии.\n",
    "3. Увеличение выборки дает чуть больший выигрыш в F1-мере, чем взвешивание классов (не считая логистическую регрессию).\n",
    "4. ROC AUC выросла для всех моделей (за исключением лог. регрессии), однако ее рост несущественный."
   ]
  },
  {
   "cell_type": "markdown",
   "metadata": {},
   "source": [
    "### Уменьшение выборки"
   ]
  },
  {
   "cell_type": "markdown",
   "metadata": {},
   "source": [
    "В предыдущем пункте мы увеличивали число объектов редкого класса, в данном случае займемся обратной операцией - будем уменьшать число объектов доминирующего класса (в нашем случае класса \"0\")."
   ]
  },
  {
   "cell_type": "code",
   "execution_count": 97,
   "metadata": {},
   "outputs": [],
   "source": [
    "def downsampling(features, target, frac):\n",
    "    '''\n",
    "    Данная функция принимает на вход признаки, целевой признак и долю объектов доминирующего класса, которую мы оставляем.\n",
    "    Признаки и целевой признак разбиваются на класс \"0\" и класс \"1\".\n",
    "    Затем берется лишь часть объектов доминирующего класса.\n",
    "    На выход функция выдает увеличенную выборку.\n",
    "    '''\n",
    "    features_zeros = features[target == 0]\n",
    "    features_ones = features[target == 1]\n",
    "    target_zeros = target[target == 0]\n",
    "    target_ones = target[target == 1]\n",
    "    \n",
    "    features_downsampled = shuffle(pd.concat([features_zeros.sample(frac=frac,random_state=42)] + [features_ones]),\n",
    "                                   random_state=42)\n",
    "    target_downsampled = shuffle(pd.concat([target_zeros.sample(frac=frac,random_state=42)] + [target_ones]),\n",
    "                                   random_state=42)\n",
    "   \n",
    "    return features_downsampled, target_downsampled"
   ]
  },
  {
   "cell_type": "markdown",
   "metadata": {},
   "source": [
    "Уменьшим количество объектов класса \"0\" в четыре раза."
   ]
  },
  {
   "cell_type": "code",
   "execution_count": 98,
   "metadata": {},
   "outputs": [],
   "source": [
    "features_downsampled, target_downsampled = downsampling(features_train_small, target_train_small, 0.25)"
   ]
  },
  {
   "cell_type": "markdown",
   "metadata": {},
   "source": [
    "Выполним проверку."
   ]
  },
  {
   "cell_type": "code",
   "execution_count": 99,
   "metadata": {},
   "outputs": [
    {
     "data": {
      "text/plain": [
       "(2417, 10)"
      ]
     },
     "execution_count": 99,
     "metadata": {},
     "output_type": "execute_result"
    }
   ],
   "source": [
    "features_downsampled.shape"
   ]
  },
  {
   "cell_type": "code",
   "execution_count": 100,
   "metadata": {},
   "outputs": [
    {
     "data": {
      "text/plain": [
       "(2417,)"
      ]
     },
     "execution_count": 100,
     "metadata": {},
     "output_type": "execute_result"
    }
   ],
   "source": [
    "target_downsampled.shape"
   ]
  },
  {
   "cell_type": "code",
   "execution_count": 101,
   "metadata": {
    "scrolled": true
   },
   "outputs": [
    {
     "data": {
      "text/plain": [
       "1    0.505999\n",
       "0    0.494001\n",
       "Name: Exited, dtype: float64"
      ]
     },
     "execution_count": 101,
     "metadata": {},
     "output_type": "execute_result"
    }
   ],
   "source": [
    "target_downsampled.value_counts(normalize=True)"
   ]
  },
  {
   "cell_type": "code",
   "execution_count": 102,
   "metadata": {},
   "outputs": [
    {
     "data": {
      "text/html": [
       "<div>\n",
       "<style scoped>\n",
       "    .dataframe tbody tr th:only-of-type {\n",
       "        vertical-align: middle;\n",
       "    }\n",
       "\n",
       "    .dataframe tbody tr th {\n",
       "        vertical-align: top;\n",
       "    }\n",
       "\n",
       "    .dataframe thead th {\n",
       "        text-align: right;\n",
       "    }\n",
       "</style>\n",
       "<table border=\"1\" class=\"dataframe\">\n",
       "  <thead>\n",
       "    <tr style=\"text-align: right;\">\n",
       "      <th></th>\n",
       "      <th>CreditScore</th>\n",
       "      <th>Age</th>\n",
       "      <th>Balance</th>\n",
       "      <th>NumOfProducts</th>\n",
       "      <th>HasCrCard</th>\n",
       "      <th>IsActiveMember</th>\n",
       "      <th>EstimatedSalary</th>\n",
       "      <th>Geography_Germany</th>\n",
       "      <th>Geography_Spain</th>\n",
       "      <th>Gender_Male</th>\n",
       "    </tr>\n",
       "  </thead>\n",
       "  <tbody>\n",
       "    <tr>\n",
       "      <th>2751</th>\n",
       "      <td>0.551271</td>\n",
       "      <td>0.290073</td>\n",
       "      <td>0.856431</td>\n",
       "      <td>0.808830</td>\n",
       "      <td>1</td>\n",
       "      <td>1</td>\n",
       "      <td>1.392510</td>\n",
       "      <td>0</td>\n",
       "      <td>0</td>\n",
       "      <td>1</td>\n",
       "    </tr>\n",
       "    <tr>\n",
       "      <th>1979</th>\n",
       "      <td>-0.069909</td>\n",
       "      <td>-0.564935</td>\n",
       "      <td>-1.226059</td>\n",
       "      <td>0.808830</td>\n",
       "      <td>1</td>\n",
       "      <td>1</td>\n",
       "      <td>0.969159</td>\n",
       "      <td>0</td>\n",
       "      <td>0</td>\n",
       "      <td>1</td>\n",
       "    </tr>\n",
       "    <tr>\n",
       "      <th>3782</th>\n",
       "      <td>-2.275097</td>\n",
       "      <td>0.480075</td>\n",
       "      <td>1.002638</td>\n",
       "      <td>-0.910256</td>\n",
       "      <td>1</td>\n",
       "      <td>0</td>\n",
       "      <td>-1.082171</td>\n",
       "      <td>1</td>\n",
       "      <td>0</td>\n",
       "      <td>0</td>\n",
       "    </tr>\n",
       "    <tr>\n",
       "      <th>1670</th>\n",
       "      <td>-0.949913</td>\n",
       "      <td>-1.419942</td>\n",
       "      <td>0.615728</td>\n",
       "      <td>-0.910256</td>\n",
       "      <td>1</td>\n",
       "      <td>0</td>\n",
       "      <td>-0.241399</td>\n",
       "      <td>0</td>\n",
       "      <td>1</td>\n",
       "      <td>1</td>\n",
       "    </tr>\n",
       "    <tr>\n",
       "      <th>7484</th>\n",
       "      <td>1.255275</td>\n",
       "      <td>-0.374933</td>\n",
       "      <td>-1.226059</td>\n",
       "      <td>-0.910256</td>\n",
       "      <td>0</td>\n",
       "      <td>1</td>\n",
       "      <td>-1.295666</td>\n",
       "      <td>0</td>\n",
       "      <td>0</td>\n",
       "      <td>0</td>\n",
       "    </tr>\n",
       "  </tbody>\n",
       "</table>\n",
       "</div>"
      ],
      "text/plain": [
       "      CreditScore       Age   Balance  NumOfProducts  HasCrCard  \\\n",
       "2751     0.551271  0.290073  0.856431       0.808830          1   \n",
       "1979    -0.069909 -0.564935 -1.226059       0.808830          1   \n",
       "3782    -2.275097  0.480075  1.002638      -0.910256          1   \n",
       "1670    -0.949913 -1.419942  0.615728      -0.910256          1   \n",
       "7484     1.255275 -0.374933 -1.226059      -0.910256          0   \n",
       "\n",
       "      IsActiveMember  EstimatedSalary  Geography_Germany  Geography_Spain  \\\n",
       "2751               1         1.392510                  0                0   \n",
       "1979               1         0.969159                  0                0   \n",
       "3782               0        -1.082171                  1                0   \n",
       "1670               0        -0.241399                  0                1   \n",
       "7484               1        -1.295666                  0                0   \n",
       "\n",
       "      Gender_Male  \n",
       "2751            1  \n",
       "1979            1  \n",
       "3782            0  \n",
       "1670            1  \n",
       "7484            0  "
      ]
     },
     "execution_count": 102,
     "metadata": {},
     "output_type": "execute_result"
    }
   ],
   "source": [
    "features_downsampled.head()"
   ]
  },
  {
   "cell_type": "markdown",
   "metadata": {},
   "source": [
    "Уменьшение выборки произведено успешно. Приступаем к обучению моделей."
   ]
  },
  {
   "cell_type": "markdown",
   "metadata": {},
   "source": [
    "#### Логистическая регрессия"
   ]
  },
  {
   "cell_type": "code",
   "execution_count": 103,
   "metadata": {},
   "outputs": [
    {
     "name": "stdout",
     "output_type": "stream",
     "text": [
      "Best f1-score: 0.492\n",
      "Best Parameter C: 0.01\n",
      "ROC AUC: 0.761\n"
     ]
    }
   ],
   "source": [
    "parameter_c = [0.01, 0.05, 0.1, 0.25, 0.5, 1, 1.5, 2, 5, 10, 15, 25, 50]\n",
    "best_f1_lr_downsampling = 0\n",
    "best_parameters_lr_downsampling = 0\n",
    "\n",
    "for c in parameter_c:\n",
    "    model = LogisticRegression(C=c, solver='liblinear', random_state=42)\n",
    "    model.fit(features_downsampled, target_downsampled)\n",
    "    score = f1_score(target_val, model.predict(features_val))\n",
    "    if score > best_f1_lr_downsampling:\n",
    "        best_f1_lr_downsampling = score\n",
    "        roc_auc_lr_downsampling = roc_auc_score(target_val, model.predict_proba(features_val)[:, 1])\n",
    "        best_parameters_lr_downsampling = c\n",
    "        log_reg_downsampling = model\n",
    "        \n",
    "print('Best f1-score: {:.3f}'.format(best_f1_lr_downsampling))\n",
    "print('Best Parameter C:', best_parameters_lr_downsampling)\n",
    "print('ROC AUC: {:.3f}'.format(roc_auc_lr_downsampling))"
   ]
  },
  {
   "cell_type": "markdown",
   "metadata": {},
   "source": [
    "#### Метод k-ближайших соседей"
   ]
  },
  {
   "cell_type": "code",
   "execution_count": 104,
   "metadata": {},
   "outputs": [
    {
     "name": "stdout",
     "output_type": "stream",
     "text": [
      "Best f1-score: 0.584\n",
      "Best Parameter n_neighbors: 20\n",
      "ROC AUC: 0.847\n"
     ]
    }
   ],
   "source": [
    "neighbors = [2, 3, 4, 5, 6, 7, 8, 9, 10, 15, 20, 30, 40, 50, 60, 70]\n",
    "best_f1_knn_downsampling = 0\n",
    "best_parameters_knn_downsampling = 0\n",
    "\n",
    "for n_neighbors in neighbors:\n",
    "    model = KNeighborsClassifier(n_neighbors=n_neighbors)\n",
    "    model.fit(features_downsampled, target_downsampled)\n",
    "    score = f1_score(target_val, model.predict(features_val))\n",
    "    if score > best_f1_knn_downsampling:\n",
    "        best_f1_knn_downsampling = score\n",
    "        roc_auc_knn_downsampling = roc_auc_score(target_val, model.predict_proba(features_val)[:, 1])\n",
    "        best_parameters_knn_downsampling = n_neighbors\n",
    "        knn_downsampling = model\n",
    "        \n",
    "print('Best f1-score: {:.3f}'.format(best_f1_knn_downsampling))\n",
    "print('Best Parameter n_neighbors:', best_parameters_knn_downsampling)\n",
    "print('ROC AUC: {:.3f}'.format(roc_auc_knn_downsampling))"
   ]
  },
  {
   "cell_type": "markdown",
   "metadata": {},
   "source": [
    "#### Дерево решений"
   ]
  },
  {
   "cell_type": "code",
   "execution_count": 105,
   "metadata": {},
   "outputs": [
    {
     "name": "stdout",
     "output_type": "stream",
     "text": [
      "Best f1-score: 0.594\n",
      "Best Max Depth: 5\n",
      "Best Min Samples Split: 2\n",
      "ROC AUC: 0.822\n"
     ]
    }
   ],
   "source": [
    "max_depth = [2, 3, 4, 5, 6, 7, 8, 9, 10, 15, 20, 25, 50]\n",
    "min_samples_split = range(2,20)\n",
    "best_f1_tree_downsampling = 0\n",
    "best_depth_down, best_split_down = 0, 0\n",
    "\n",
    "for depth in max_depth:\n",
    "    for split in min_samples_split:\n",
    "        model = DecisionTreeClassifier(max_depth=depth, min_samples_split=split, random_state=42)\n",
    "        model.fit(features_downsampled, target_downsampled)\n",
    "        score = f1_score(target_val, model.predict(features_val))\n",
    "        if score > best_f1_tree_downsampling:\n",
    "            best_f1_tree_downsampling = score\n",
    "            roc_auc_tree_downsampling = roc_auc_score(target_val, model.predict_proba(features_val)[:, 1])\n",
    "            best_depth_down, best_split_down = depth, split\n",
    "            tree_classifier_downsampling = model\n",
    "        \n",
    "print('Best f1-score: {:.3f}'.format(best_f1_tree_downsampling))\n",
    "print('Best Max Depth:', best_depth_down)\n",
    "print('Best Min Samples Split:', best_split_down)\n",
    "print('ROC AUC: {:.3f}'.format(roc_auc_tree_downsampling))"
   ]
  },
  {
   "cell_type": "markdown",
   "metadata": {},
   "source": [
    "#### Случайный лес"
   ]
  },
  {
   "cell_type": "code",
   "execution_count": 106,
   "metadata": {},
   "outputs": [
    {
     "name": "stdout",
     "output_type": "stream",
     "text": [
      "Best f1-score: 0.607\n",
      "Best Max Depth: 10\n",
      "Best Number of Estimators: 75\n",
      "Best Min Samples Split: 2\n",
      "ROC AUC: 0.858\n"
     ]
    }
   ],
   "source": [
    "max_depth = [2, 3, 4, 5, 6, 7, 8, 9, 10, 15, 20, 25, 50]\n",
    "n_estimators = [5, 25, 50, 75, 100, 150, 200]\n",
    "min_samples_split = range(2,20,2)\n",
    "best_f1_rf_downsampling = 0\n",
    "best_depth_rf_down, best_n_estimators_down = 0, 0\n",
    "\n",
    "for depth in max_depth:\n",
    "    for estimators in n_estimators:\n",
    "        for split in min_samples_split:\n",
    "            model = RandomForestClassifier(max_depth=depth, n_estimators=estimators, min_samples_split=split, random_state=42, n_jobs=-1)\n",
    "            model.fit(features_downsampled, target_downsampled)\n",
    "            score = f1_score(target_val, model.predict(features_val))\n",
    "            if score > best_f1_rf_downsampling:\n",
    "                best_f1_rf_downsampling = score\n",
    "                roc_auc_rf_downsampling = roc_auc_score(target_val, model.predict_proba(features_val)[:, 1])\n",
    "                best_depth_rf_down, best_n_estimators_down = depth, estimators\n",
    "                rf_classifier_downsampling = model\n",
    "        \n",
    "print('Best f1-score: {:.3f}'.format(best_f1_rf_downsampling))\n",
    "print('Best Max Depth:', best_depth_rf_down)\n",
    "print('Best Number of Estimators:', best_n_estimators_down)\n",
    "print('Best Min Samples Split:', best_split_down)\n",
    "print('ROC AUC: {:.3f}'.format(roc_auc_rf_downsampling))"
   ]
  },
  {
   "cell_type": "markdown",
   "metadata": {},
   "source": [
    "### Сравненией моделей"
   ]
  },
  {
   "cell_type": "markdown",
   "metadata": {},
   "source": [
    "Добавим в сводную таблицу данные, полученные методом уменьшения выборки."
   ]
  },
  {
   "cell_type": "code",
   "execution_count": 107,
   "metadata": {},
   "outputs": [],
   "source": [
    "comparison_f1['downsampling'] = [best_f1_lr_downsampling, best_f1_knn_downsampling, best_f1_tree_downsampling, best_f1_rf_downsampling]"
   ]
  },
  {
   "cell_type": "code",
   "execution_count": 108,
   "metadata": {},
   "outputs": [
    {
     "data": {
      "text/html": [
       "<div>\n",
       "<style scoped>\n",
       "    .dataframe tbody tr th:only-of-type {\n",
       "        vertical-align: middle;\n",
       "    }\n",
       "\n",
       "    .dataframe tbody tr th {\n",
       "        vertical-align: top;\n",
       "    }\n",
       "\n",
       "    .dataframe thead th {\n",
       "        text-align: right;\n",
       "    }\n",
       "</style>\n",
       "<table border=\"1\" class=\"dataframe\">\n",
       "  <thead>\n",
       "    <tr style=\"text-align: right;\">\n",
       "      <th></th>\n",
       "      <th>model</th>\n",
       "      <th>disbalance</th>\n",
       "      <th>weighted_classes</th>\n",
       "      <th>upsampling</th>\n",
       "      <th>downsampling</th>\n",
       "    </tr>\n",
       "  </thead>\n",
       "  <tbody>\n",
       "    <tr>\n",
       "      <th>0</th>\n",
       "      <td>logistic_regression</td>\n",
       "      <td>0.318509</td>\n",
       "      <td>0.489401</td>\n",
       "      <td>0.483786</td>\n",
       "      <td>0.492280</td>\n",
       "    </tr>\n",
       "    <tr>\n",
       "      <th>1</th>\n",
       "      <td>knn</td>\n",
       "      <td>0.545234</td>\n",
       "      <td>NaN</td>\n",
       "      <td>0.598612</td>\n",
       "      <td>0.584071</td>\n",
       "    </tr>\n",
       "    <tr>\n",
       "      <th>2</th>\n",
       "      <td>decision_tree</td>\n",
       "      <td>0.552707</td>\n",
       "      <td>0.573757</td>\n",
       "      <td>0.597656</td>\n",
       "      <td>0.593625</td>\n",
       "    </tr>\n",
       "    <tr>\n",
       "      <th>3</th>\n",
       "      <td>random_forest</td>\n",
       "      <td>0.586046</td>\n",
       "      <td>0.631899</td>\n",
       "      <td>0.644936</td>\n",
       "      <td>0.606526</td>\n",
       "    </tr>\n",
       "  </tbody>\n",
       "</table>\n",
       "</div>"
      ],
      "text/plain": [
       "                 model  disbalance  weighted_classes  upsampling  downsampling\n",
       "0  logistic_regression    0.318509          0.489401    0.483786      0.492280\n",
       "1                  knn    0.545234               NaN    0.598612      0.584071\n",
       "2        decision_tree    0.552707          0.573757    0.597656      0.593625\n",
       "3        random_forest    0.586046          0.631899    0.644936      0.606526"
      ]
     },
     "execution_count": 108,
     "metadata": {},
     "output_type": "execute_result"
    }
   ],
   "source": [
    "comparison_f1"
   ]
  },
  {
   "cell_type": "markdown",
   "metadata": {},
   "source": [
    "Тоже самое проделаем для ROC AUC."
   ]
  },
  {
   "cell_type": "code",
   "execution_count": 109,
   "metadata": {},
   "outputs": [],
   "source": [
    "comparison_roc_auc['downsampling'] = [roc_auc_lr_downsampling, roc_auc_knn_downsampling, roc_auc_tree_downsampling, roc_auc_rf_downsampling]"
   ]
  },
  {
   "cell_type": "code",
   "execution_count": 110,
   "metadata": {},
   "outputs": [
    {
     "data": {
      "text/html": [
       "<div>\n",
       "<style scoped>\n",
       "    .dataframe tbody tr th:only-of-type {\n",
       "        vertical-align: middle;\n",
       "    }\n",
       "\n",
       "    .dataframe tbody tr th {\n",
       "        vertical-align: top;\n",
       "    }\n",
       "\n",
       "    .dataframe thead th {\n",
       "        text-align: right;\n",
       "    }\n",
       "</style>\n",
       "<table border=\"1\" class=\"dataframe\">\n",
       "  <thead>\n",
       "    <tr style=\"text-align: right;\">\n",
       "      <th></th>\n",
       "      <th>model</th>\n",
       "      <th>disbalance</th>\n",
       "      <th>weighted_classes</th>\n",
       "      <th>upsampling</th>\n",
       "      <th>downsampling</th>\n",
       "    </tr>\n",
       "  </thead>\n",
       "  <tbody>\n",
       "    <tr>\n",
       "      <th>0</th>\n",
       "      <td>logistic_regression</td>\n",
       "      <td>0.763545</td>\n",
       "      <td>0.767079</td>\n",
       "      <td>0.761823</td>\n",
       "      <td>0.760563</td>\n",
       "    </tr>\n",
       "    <tr>\n",
       "      <th>1</th>\n",
       "      <td>knn</td>\n",
       "      <td>0.815133</td>\n",
       "      <td>NaN</td>\n",
       "      <td>0.848606</td>\n",
       "      <td>0.846506</td>\n",
       "    </tr>\n",
       "    <tr>\n",
       "      <th>2</th>\n",
       "      <td>decision_tree</td>\n",
       "      <td>0.826737</td>\n",
       "      <td>0.823886</td>\n",
       "      <td>0.833191</td>\n",
       "      <td>0.821516</td>\n",
       "    </tr>\n",
       "    <tr>\n",
       "      <th>3</th>\n",
       "      <td>random_forest</td>\n",
       "      <td>0.852372</td>\n",
       "      <td>0.863353</td>\n",
       "      <td>0.854433</td>\n",
       "      <td>0.858037</td>\n",
       "    </tr>\n",
       "  </tbody>\n",
       "</table>\n",
       "</div>"
      ],
      "text/plain": [
       "                 model  disbalance  weighted_classes  upsampling  downsampling\n",
       "0  logistic_regression    0.763545          0.767079    0.761823      0.760563\n",
       "1                  knn    0.815133               NaN    0.848606      0.846506\n",
       "2        decision_tree    0.826737          0.823886    0.833191      0.821516\n",
       "3        random_forest    0.852372          0.863353    0.854433      0.858037"
      ]
     },
     "execution_count": 110,
     "metadata": {},
     "output_type": "execute_result"
    }
   ],
   "source": [
    "comparison_roc_auc"
   ]
  },
  {
   "cell_type": "markdown",
   "metadata": {},
   "source": [
    "### Вывод"
   ]
  },
  {
   "cell_type": "markdown",
   "metadata": {},
   "source": [
    "1. Все методы борьбы с дисбалансом показали свою результативность - для всех моделей F1-мера возросла.\n",
    "2. Для логистической регрессии наиболее эффективным оказался метод уменьшения выборки, для остальных моделей - увеличение выборки. \n",
    "3. Наилучшие показатели на валидации были продемонстрированы моделью случайного леса.\n",
    "4. ROC AUC мера увеличивалась незначительно при применении разных способов борьбы с дибалансом, а в некоторых случаях и уменьшалась. Из этого делаем вывод, что данная метрика нечувствительна к дисбалансу классов.\n",
    "5. В задании указано, что F1-мера должна быть как минимум равна 0.59. В нашем случае данному условию удовлетворяет несколько моделей, среди которых лучшая - модель случайного леса (со всеми способами борьбы с дисбалансом). В таком случае, именно эти три модели и будем тестировать."
   ]
  },
  {
   "cell_type": "markdown",
   "metadata": {},
   "source": [
    "## Тестирование модели"
   ]
  },
  {
   "cell_type": "markdown",
   "metadata": {},
   "source": [
    "В данном пункте будем проверять производительность модели на тестовой выборке. Как отмечалось выше, тестировать будем модель случайного леса с взвешенными классами, обученную на увеличенной выборке и обученную на уменьшенной выборке. Также протестируем модель, которая обучалась без учета дисбаланса классов."
   ]
  },
  {
   "cell_type": "markdown",
   "metadata": {},
   "source": [
    "Для начала выполним предсказания. Помимо предсказания классов, предскажем также вероятность класса \"1\" (для построения ROC)."
   ]
  },
  {
   "cell_type": "code",
   "execution_count": 111,
   "metadata": {},
   "outputs": [],
   "source": [
    "rf_pred = rf_classifier.predict(features_test)\n",
    "rf_pred_prob_ones = rf_classifier.predict_proba(features_test)[:, 1]\n",
    "\n",
    "rf_weights_pred = rf_classifier_weights.predict(features_test)\n",
    "rf_weights_pred_prob_ones = rf_classifier_weights.predict_proba(features_test)[:, 1]\n",
    "\n",
    "rf_upsampling_pred = rf_classifier_upsampling.predict(features_test)\n",
    "rf_upsampling_pred_prob_ones = rf_classifier_upsampling.predict_proba(features_test)[:, 1]\n",
    "\n",
    "rf_downsampling_pred = rf_classifier_downsampling.predict(features_test)\n",
    "rf_downsampling_pred_prob_ones = rf_classifier_downsampling.predict_proba(features_test)[:, 1]"
   ]
  },
  {
   "cell_type": "markdown",
   "metadata": {},
   "source": [
    "### F1-мера и ROC-кривая"
   ]
  },
  {
   "cell_type": "markdown",
   "metadata": {},
   "source": [
    "Рассчитаем F1-меру и AUC-ROC."
   ]
  },
  {
   "cell_type": "code",
   "execution_count": 112,
   "metadata": {},
   "outputs": [],
   "source": [
    "f1 = f1_score(target_test, rf_pred)\n",
    "f1_weights = f1_score(target_test, rf_weights_pred)\n",
    "f1_upsampling = f1_score(target_test, rf_upsampling_pred)\n",
    "f1_downsampling = f1_score(target_test, rf_downsampling_pred)\n",
    "\n",
    "roc_auc = roc_auc_score(target_test, rf_pred_prob_ones)\n",
    "roc_auc_weights = roc_auc_score(target_test, rf_weights_pred_prob_ones)\n",
    "roc_auc_upsampling = roc_auc_score(target_test, rf_upsampling_pred_prob_ones)\n",
    "roc_auc_downsampling = roc_auc_score(target_test, rf_downsampling_pred_prob_ones)"
   ]
  },
  {
   "cell_type": "code",
   "execution_count": 113,
   "metadata": {},
   "outputs": [],
   "source": [
    "testing_results = pd.DataFrame(data=[['classes disbalance', f1, roc_auc],\n",
    "                                     ['weighted classes', f1_weights, roc_auc_weights],\n",
    "                                     ['upsampling', f1_upsampling, roc_auc_upsampling],\n",
    "                                     ['downsampling', f1_downsampling, roc_auc_downsampling]],\n",
    "                              columns=['disbalance', 'F1-score', 'AUC-ROC'])"
   ]
  },
  {
   "cell_type": "code",
   "execution_count": 114,
   "metadata": {},
   "outputs": [
    {
     "data": {
      "text/html": [
       "<div>\n",
       "<style scoped>\n",
       "    .dataframe tbody tr th:only-of-type {\n",
       "        vertical-align: middle;\n",
       "    }\n",
       "\n",
       "    .dataframe tbody tr th {\n",
       "        vertical-align: top;\n",
       "    }\n",
       "\n",
       "    .dataframe thead th {\n",
       "        text-align: right;\n",
       "    }\n",
       "</style>\n",
       "<table border=\"1\" class=\"dataframe\">\n",
       "  <thead>\n",
       "    <tr style=\"text-align: right;\">\n",
       "      <th></th>\n",
       "      <th>disbalance</th>\n",
       "      <th>F1-score</th>\n",
       "      <th>AUC-ROC</th>\n",
       "    </tr>\n",
       "  </thead>\n",
       "  <tbody>\n",
       "    <tr>\n",
       "      <th>0</th>\n",
       "      <td>classes disbalance</td>\n",
       "      <td>0.564103</td>\n",
       "      <td>0.843223</td>\n",
       "    </tr>\n",
       "    <tr>\n",
       "      <th>1</th>\n",
       "      <td>weighted classes</td>\n",
       "      <td>0.619910</td>\n",
       "      <td>0.865442</td>\n",
       "    </tr>\n",
       "    <tr>\n",
       "      <th>2</th>\n",
       "      <td>upsampling</td>\n",
       "      <td>0.600917</td>\n",
       "      <td>0.852297</td>\n",
       "    </tr>\n",
       "    <tr>\n",
       "      <th>3</th>\n",
       "      <td>downsampling</td>\n",
       "      <td>0.584817</td>\n",
       "      <td>0.854997</td>\n",
       "    </tr>\n",
       "  </tbody>\n",
       "</table>\n",
       "</div>"
      ],
      "text/plain": [
       "           disbalance  F1-score   AUC-ROC\n",
       "0  classes disbalance  0.564103  0.843223\n",
       "1    weighted classes  0.619910  0.865442\n",
       "2          upsampling  0.600917  0.852297\n",
       "3        downsampling  0.584817  0.854997"
      ]
     },
     "execution_count": 114,
     "metadata": {},
     "output_type": "execute_result"
    }
   ],
   "source": [
    "testing_results"
   ]
  },
  {
   "cell_type": "markdown",
   "metadata": {},
   "source": [
    "Наивысшая F1-мера и ROC-AUC у модели случайного леса с взвешенными классами."
   ]
  },
  {
   "cell_type": "markdown",
   "metadata": {},
   "source": [
    "Посмотрим детальнее на ROC-кривые."
   ]
  },
  {
   "cell_type": "code",
   "execution_count": 115,
   "metadata": {},
   "outputs": [
    {
     "data": {
      "image/png": "[encoded data removed]",
      "text/plain": [
       "<Figure size 1080x648 with 1 Axes>"
      ]
     },
     "metadata": {
      "needs_background": "light"
     },
     "output_type": "display_data"
    }
   ],
   "source": [
    "fpr, tpr, thresholds = roc_curve(target_test, rf_pred_prob_ones)\n",
    "fpr_weights, tpr_weights, thresholds_weights = roc_curve(target_test, rf_weights_pred_prob_ones)\n",
    "fpr_upsampling, tpr_upsampling, thresholds_upsampling = roc_curve(target_test, rf_upsampling_pred_prob_ones)\n",
    "fpr_downsampling, tpr_downsampling, thresholds_downsampling = roc_curve(target_test, rf_downsampling_pred_prob_ones)\n",
    "\n",
    "plt.figure(figsize=(15,9))\n",
    "plt.plot([0, 1], [0, 1], linestyle='dashed')\n",
    "plt.plot(fpr, tpr, label='classes disbalance')\n",
    "plt.plot(fpr_weights, tpr_weights, label='weighted classes')\n",
    "plt.plot(fpr_upsampling, tpr_upsampling, label='upsampling')\n",
    "plt.plot(fpr_downsampling, tpr_downsampling, label='downsampling')\n",
    "plt.xlabel('False positive rate')\n",
    "plt.ylabel('True positive rate')\n",
    "plt.title('ROC-curves')\n",
    "plt.legend()\n",
    "plt.show()"
   ]
  },
  {
   "cell_type": "markdown",
   "metadata": {},
   "source": [
    "### Accuracy, precision и recall"
   ]
  },
  {
   "cell_type": "markdown",
   "metadata": {},
   "source": [
    "Посмотрим и на другие традиционные метрики - accuracy, precision, recall."
   ]
  },
  {
   "cell_type": "code",
   "execution_count": 116,
   "metadata": {},
   "outputs": [],
   "source": [
    "accuracy = accuracy_score(target_test, rf_pred)\n",
    "accuracy_weights = accuracy_score(target_test, rf_weights_pred)\n",
    "accuracy_upsampling = accuracy_score(target_test, rf_upsampling_pred)\n",
    "accuracy_downsampling = accuracy_score(target_test, rf_downsampling_pred)\n",
    "\n",
    "precision = precision_score(target_test, rf_pred)\n",
    "precision_weights = precision_score(target_test, rf_weights_pred)\n",
    "precision_upsampling = precision_score(target_test, rf_upsampling_pred)\n",
    "precision_downsampling = precision_score(target_test, rf_downsampling_pred)\n",
    "\n",
    "recall = recall_score(target_test, rf_pred)\n",
    "recall_weights = recall_score(target_test, rf_weights_pred)\n",
    "recall_upsampling = recall_score(target_test, rf_upsampling_pred)\n",
    "recall_downsampling = recall_score(target_test, rf_downsampling_pred)"
   ]
  },
  {
   "cell_type": "code",
   "execution_count": 117,
   "metadata": {},
   "outputs": [],
   "source": [
    "testing_results['accuracy'] = [accuracy, accuracy_weights, accuracy_upsampling, accuracy_downsampling]\n",
    "testing_results['precision'] = [precision, precision_weights, precision_upsampling, precision_downsampling]\n",
    "testing_results['recall'] = [recall, recall_weights, recall_upsampling, recall_downsampling]"
   ]
  },
  {
   "cell_type": "code",
   "execution_count": 118,
   "metadata": {
    "scrolled": true
   },
   "outputs": [
    {
     "data": {
      "text/html": [
       "<div>\n",
       "<style scoped>\n",
       "    .dataframe tbody tr th:only-of-type {\n",
       "        vertical-align: middle;\n",
       "    }\n",
       "\n",
       "    .dataframe tbody tr th {\n",
       "        vertical-align: top;\n",
       "    }\n",
       "\n",
       "    .dataframe thead th {\n",
       "        text-align: right;\n",
       "    }\n",
       "</style>\n",
       "<table border=\"1\" class=\"dataframe\">\n",
       "  <thead>\n",
       "    <tr style=\"text-align: right;\">\n",
       "      <th></th>\n",
       "      <th>disbalance</th>\n",
       "      <th>F1-score</th>\n",
       "      <th>AUC-ROC</th>\n",
       "      <th>accuracy</th>\n",
       "      <th>precision</th>\n",
       "      <th>recall</th>\n",
       "    </tr>\n",
       "  </thead>\n",
       "  <tbody>\n",
       "    <tr>\n",
       "      <th>0</th>\n",
       "      <td>classes disbalance</td>\n",
       "      <td>0.564103</td>\n",
       "      <td>0.843223</td>\n",
       "      <td>0.8555</td>\n",
       "      <td>0.730469</td>\n",
       "      <td>0.459459</td>\n",
       "    </tr>\n",
       "    <tr>\n",
       "      <th>1</th>\n",
       "      <td>weighted classes</td>\n",
       "      <td>0.619910</td>\n",
       "      <td>0.865442</td>\n",
       "      <td>0.8320</td>\n",
       "      <td>0.574423</td>\n",
       "      <td>0.673219</td>\n",
       "    </tr>\n",
       "    <tr>\n",
       "      <th>2</th>\n",
       "      <td>upsampling</td>\n",
       "      <td>0.600917</td>\n",
       "      <td>0.852297</td>\n",
       "      <td>0.8260</td>\n",
       "      <td>0.563441</td>\n",
       "      <td>0.643735</td>\n",
       "    </tr>\n",
       "    <tr>\n",
       "      <th>3</th>\n",
       "      <td>downsampling</td>\n",
       "      <td>0.584817</td>\n",
       "      <td>0.854997</td>\n",
       "      <td>0.7785</td>\n",
       "      <td>0.472727</td>\n",
       "      <td>0.766585</td>\n",
       "    </tr>\n",
       "  </tbody>\n",
       "</table>\n",
       "</div>"
      ],
      "text/plain": [
       "           disbalance  F1-score   AUC-ROC  accuracy  precision    recall\n",
       "0  classes disbalance  0.564103  0.843223    0.8555   0.730469  0.459459\n",
       "1    weighted classes  0.619910  0.865442    0.8320   0.574423  0.673219\n",
       "2          upsampling  0.600917  0.852297    0.8260   0.563441  0.643735\n",
       "3        downsampling  0.584817  0.854997    0.7785   0.472727  0.766585"
      ]
     },
     "execution_count": 118,
     "metadata": {},
     "output_type": "execute_result"
    }
   ],
   "source": [
    "testing_results"
   ]
  },
  {
   "cell_type": "markdown",
   "metadata": {},
   "source": [
    "### Важность признаков"
   ]
  },
  {
   "cell_type": "markdown",
   "metadata": {},
   "source": [
    "Оценим вклад каждого признака в модель."
   ]
  },
  {
   "cell_type": "code",
   "execution_count": 119,
   "metadata": {},
   "outputs": [],
   "source": [
    "feature_importances = pd.Series(data=rf_classifier_weights.feature_importances_, \n",
    "                                index=features.columns,\n",
    "                                name='feature_importnace').sort_values(ascending=False)"
   ]
  },
  {
   "cell_type": "code",
   "execution_count": 120,
   "metadata": {},
   "outputs": [
    {
     "data": {
      "text/html": [
       "<div>\n",
       "<style scoped>\n",
       "    .dataframe tbody tr th:only-of-type {\n",
       "        vertical-align: middle;\n",
       "    }\n",
       "\n",
       "    .dataframe tbody tr th {\n",
       "        vertical-align: top;\n",
       "    }\n",
       "\n",
       "    .dataframe thead th {\n",
       "        text-align: right;\n",
       "    }\n",
       "</style>\n",
       "<table border=\"1\" class=\"dataframe\">\n",
       "  <thead>\n",
       "    <tr style=\"text-align: right;\">\n",
       "      <th></th>\n",
       "      <th>feature_importnace</th>\n",
       "    </tr>\n",
       "  </thead>\n",
       "  <tbody>\n",
       "    <tr>\n",
       "      <th>Age</th>\n",
       "      <td>0.333666</td>\n",
       "    </tr>\n",
       "    <tr>\n",
       "      <th>NumOfProducts</th>\n",
       "      <td>0.219209</td>\n",
       "    </tr>\n",
       "    <tr>\n",
       "      <th>Balance</th>\n",
       "      <td>0.131582</td>\n",
       "    </tr>\n",
       "    <tr>\n",
       "      <th>EstimatedSalary</th>\n",
       "      <td>0.084915</td>\n",
       "    </tr>\n",
       "    <tr>\n",
       "      <th>CreditScore</th>\n",
       "      <td>0.081504</td>\n",
       "    </tr>\n",
       "    <tr>\n",
       "      <th>Geography_Germany</th>\n",
       "      <td>0.055098</td>\n",
       "    </tr>\n",
       "    <tr>\n",
       "      <th>IsActiveMember</th>\n",
       "      <td>0.053586</td>\n",
       "    </tr>\n",
       "    <tr>\n",
       "      <th>Gender_Male</th>\n",
       "      <td>0.020806</td>\n",
       "    </tr>\n",
       "    <tr>\n",
       "      <th>Geography_Spain</th>\n",
       "      <td>0.009841</td>\n",
       "    </tr>\n",
       "    <tr>\n",
       "      <th>HasCrCard</th>\n",
       "      <td>0.009794</td>\n",
       "    </tr>\n",
       "  </tbody>\n",
       "</table>\n",
       "</div>"
      ],
      "text/plain": [
       "                   feature_importnace\n",
       "Age                          0.333666\n",
       "NumOfProducts                0.219209\n",
       "Balance                      0.131582\n",
       "EstimatedSalary              0.084915\n",
       "CreditScore                  0.081504\n",
       "Geography_Germany            0.055098\n",
       "IsActiveMember               0.053586\n",
       "Gender_Male                  0.020806\n",
       "Geography_Spain              0.009841\n",
       "HasCrCard                    0.009794"
      ]
     },
     "execution_count": 120,
     "metadata": {},
     "output_type": "execute_result"
    }
   ],
   "source": [
    "feature_importances.to_frame()"
   ]
  },
  {
   "cell_type": "code",
   "execution_count": 127,
   "metadata": {},
   "outputs": [
    {
     "data": {
      "image/png": "[encoded data removed]",
      "text/plain": [
       "<Figure size 648x432 with 1 Axes>"
      ]
     },
     "metadata": {
      "needs_background": "light"
     },
     "output_type": "display_data"
    }
   ],
   "source": [
    "plt.figure(figsize=(9,6))\n",
    "feature_importances.plot(kind='bar')\n",
    "plt.xticks(rotation=45)\n",
    "plt.ylabel('Feature importance')\n",
    "plt.title('Feature importnaces')\n",
    "plt.show()"
   ]
  },
  {
   "cell_type": "markdown",
   "metadata": {},
   "source": [
    "Наиболее значимым для модели оказался возраст клиента, а наиболее незначимым - наличие кредитной карты. Географическая принадлежность также не очень значима для модели, из чего делаем вывод, что география слабо влияет на факт выхода клиента из банка, тоже самое можно сказать про пол клиента. Помимо возраста, важными признаками являются количество продуктов, а также баланс клиента."
   ]
  },
  {
   "cell_type": "markdown",
   "metadata": {},
   "source": [
    "### Вывод"
   ]
  },
  {
   "cell_type": "markdown",
   "metadata": {},
   "source": [
    "1. Модель случайного леса с взвешенными классами показала наивысшую F1-меру на тестовой выборке - 0.62, что удовлетворяет условию заказчика (0.59 и выше). Модели случайного леса, обученный на увеличенной и уменьшенной выборке показали F1-меру 0.601 и 0.585 соответственно. Модель случайного леса, не учитывающая дисбаланс классов - 0.564.\n",
    "2. ROC-кривые и площади под ними сравнимы для всех моделей.\n",
    "3. По точности и полноте можно сделать вывод, что модель с дисбалансом классов куда чаще предсказывает класс \"0\", о чем говорит высокая точность и низкая полнота. Если же используются методы борьбы с дисбалансом, модели начинают куда чаще предсказывать класс \"1\". Наилучший компромисс между точностью и полнотой (выраженный F1-мерой) достигнут с помощью взвешивания классов.\n",
    "4. Несмотря на то, что модель, обученная на уменьшенной выборке, показала самую низкую производительность на тестовой выборке, ее нельзя назвать откровенно плохой. В данной задаче исследуется отток клиентов. Данная модель чаще остальных распознает класс \"1\", то есть тех, кто покинет банк. Это может быть выгодно, если нужно сохранить как можно больше клиентов.\n",
    "5. Была оценена важность факторов. Ключевыми факторами, влияющими на факт выхода из банка, являются возраст, количество продуктов и баланс. География, пол и наличие кредитной оказывают слабое влияние."
   ]
  }
 ],
 "metadata": {
  "ExecuteTimeLog": [
   {
    "duration": 1413,
    "start_time": "2021-12-23T13:14:10.096Z"
   },
   {
    "duration": 216,
    "start_time": "2021-12-23T13:14:24.366Z"
   },
   {
    "duration": 51,
    "start_time": "2021-12-23T13:14:36.097Z"
   },
   {
    "duration": 18,
    "start_time": "2021-12-23T13:16:31.478Z"
   },
   {
    "duration": 79,
    "start_time": "2021-12-23T13:16:49.266Z"
   },
   {
    "duration": 23,
    "start_time": "2021-12-23T13:16:52.616Z"
   },
   {
    "duration": 12,
    "start_time": "2021-12-23T13:16:58.206Z"
   },
   {
    "duration": 428,
    "start_time": "2021-12-23T13:17:15.846Z"
   },
   {
    "duration": 700,
    "start_time": "2021-12-23T13:18:24.966Z"
   },
   {
    "duration": 297,
    "start_time": "2021-12-23T13:18:29.297Z"
   },
   {
    "duration": 548,
    "start_time": "2021-12-23T13:18:32.576Z"
   },
   {
    "duration": 364,
    "start_time": "2021-12-23T13:18:43.406Z"
   },
   {
    "duration": 408,
    "start_time": "2021-12-23T13:18:53.596Z"
   },
   {
    "duration": 30,
    "start_time": "2021-12-23T13:19:08.317Z"
   },
   {
    "duration": 14,
    "start_time": "2021-12-23T13:20:49.921Z"
   },
   {
    "duration": 12,
    "start_time": "2021-12-23T13:21:01.737Z"
   },
   {
    "duration": 402,
    "start_time": "2021-12-23T13:21:44.606Z"
   },
   {
    "duration": 829,
    "start_time": "2021-12-23T13:21:54.461Z"
   },
   {
    "duration": 3,
    "start_time": "2021-12-23T13:22:06.547Z"
   },
   {
    "duration": 600,
    "start_time": "2021-12-23T13:22:09.997Z"
   },
   {
    "duration": 341,
    "start_time": "2021-12-23T13:22:21.166Z"
   },
   {
    "duration": 312,
    "start_time": "2021-12-23T13:22:42.858Z"
   },
   {
    "duration": 332,
    "start_time": "2021-12-23T13:23:00.700Z"
   },
   {
    "duration": 13,
    "start_time": "2021-12-23T13:23:26.596Z"
   },
   {
    "duration": 99,
    "start_time": "2021-12-23T13:24:16.446Z"
   },
   {
    "duration": 28,
    "start_time": "2021-12-23T13:24:16.940Z"
   },
   {
    "duration": 15,
    "start_time": "2021-12-23T13:24:18.457Z"
   },
   {
    "duration": 108,
    "start_time": "2021-12-23T13:24:38.747Z"
   },
   {
    "duration": 89,
    "start_time": "2021-12-23T13:24:43.781Z"
   },
   {
    "duration": 268,
    "start_time": "2021-12-23T13:28:09.760Z"
   },
   {
    "duration": 36,
    "start_time": "2021-12-23T13:28:36.926Z"
   },
   {
    "duration": 19,
    "start_time": "2021-12-23T13:31:35.066Z"
   },
   {
    "duration": 4,
    "start_time": "2021-12-23T13:33:51.136Z"
   },
   {
    "duration": 550,
    "start_time": "2021-12-23T13:35:48.586Z"
   },
   {
    "duration": 327,
    "start_time": "2021-12-23T13:35:57.917Z"
   },
   {
    "duration": 346,
    "start_time": "2021-12-23T13:39:28.235Z"
   },
   {
    "duration": 309,
    "start_time": "2021-12-23T13:41:24.195Z"
   },
   {
    "duration": 11,
    "start_time": "2021-12-23T13:41:36.706Z"
   },
   {
    "duration": 11,
    "start_time": "2021-12-23T13:41:45.045Z"
   },
   {
    "duration": 4,
    "start_time": "2021-12-23T13:42:16.786Z"
   },
   {
    "duration": 7,
    "start_time": "2021-12-23T13:42:43.725Z"
   },
   {
    "duration": 10,
    "start_time": "2021-12-23T13:44:05.375Z"
   },
   {
    "duration": 6,
    "start_time": "2021-12-23T13:45:39.606Z"
   },
   {
    "duration": 6,
    "start_time": "2021-12-23T13:48:06.990Z"
   },
   {
    "duration": 6,
    "start_time": "2021-12-23T13:53:08.999Z"
   },
   {
    "duration": 16,
    "start_time": "2021-12-23T13:53:15.719Z"
   },
   {
    "duration": 300,
    "start_time": "2021-12-23T13:54:28.847Z"
   },
   {
    "duration": 21,
    "start_time": "2021-12-23T13:54:34.339Z"
   },
   {
    "duration": 17,
    "start_time": "2021-12-23T13:54:40.321Z"
   },
   {
    "duration": 21,
    "start_time": "2021-12-23T13:54:53.077Z"
   },
   {
    "duration": 16,
    "start_time": "2021-12-23T13:54:53.979Z"
   },
   {
    "duration": 6,
    "start_time": "2021-12-23T13:57:11.941Z"
   },
   {
    "duration": 20,
    "start_time": "2021-12-23T13:57:48.889Z"
   },
   {
    "duration": 17,
    "start_time": "2021-12-23T13:57:50.029Z"
   },
   {
    "duration": 4,
    "start_time": "2021-12-23T14:04:00.079Z"
   },
   {
    "duration": 4,
    "start_time": "2021-12-23T14:05:11.620Z"
   },
   {
    "duration": 8,
    "start_time": "2021-12-23T14:08:36.219Z"
   },
   {
    "duration": 6,
    "start_time": "2021-12-23T14:08:43.439Z"
   },
   {
    "duration": 11,
    "start_time": "2021-12-23T14:11:03.610Z"
   },
   {
    "duration": 6,
    "start_time": "2021-12-23T14:11:22.720Z"
   },
   {
    "duration": 9,
    "start_time": "2021-12-23T14:12:03.219Z"
   },
   {
    "duration": 6,
    "start_time": "2021-12-23T14:12:04.289Z"
   },
   {
    "duration": 11,
    "start_time": "2021-12-23T14:12:07.400Z"
   },
   {
    "duration": 5,
    "start_time": "2021-12-23T14:12:08.005Z"
   },
   {
    "duration": 10,
    "start_time": "2021-12-23T14:12:11.725Z"
   },
   {
    "duration": 6,
    "start_time": "2021-12-23T14:12:12.327Z"
   },
   {
    "duration": 9,
    "start_time": "2021-12-23T14:12:15.329Z"
   },
   {
    "duration": 6,
    "start_time": "2021-12-23T14:12:15.920Z"
   },
   {
    "duration": 9,
    "start_time": "2021-12-23T14:12:18.449Z"
   },
   {
    "duration": 6,
    "start_time": "2021-12-23T14:12:18.989Z"
   },
   {
    "duration": 11,
    "start_time": "2021-12-23T14:12:21.729Z"
   },
   {
    "duration": 5,
    "start_time": "2021-12-23T14:12:22.360Z"
   },
   {
    "duration": 12,
    "start_time": "2021-12-23T14:12:24.570Z"
   },
   {
    "duration": 6,
    "start_time": "2021-12-23T14:12:25.130Z"
   },
   {
    "duration": 9,
    "start_time": "2021-12-23T14:12:28.140Z"
   },
   {
    "duration": 5,
    "start_time": "2021-12-23T14:12:28.727Z"
   },
   {
    "duration": 5,
    "start_time": "2021-12-23T14:13:21.629Z"
   },
   {
    "duration": 31,
    "start_time": "2021-12-23T14:15:14.241Z"
   },
   {
    "duration": 25,
    "start_time": "2021-12-23T14:15:21.729Z"
   },
   {
    "duration": 19,
    "start_time": "2021-12-23T14:15:39.540Z"
   },
   {
    "duration": 17,
    "start_time": "2021-12-23T14:15:47.032Z"
   },
   {
    "duration": 15,
    "start_time": "2021-12-23T14:20:43.578Z"
   },
   {
    "duration": 6,
    "start_time": "2021-12-23T14:24:26.448Z"
   },
   {
    "duration": 288,
    "start_time": "2021-12-23T14:26:06.256Z"
   },
   {
    "duration": 55,
    "start_time": "2021-12-23T14:26:25.227Z"
   },
   {
    "duration": 4,
    "start_time": "2021-12-23T14:26:28.381Z"
   },
   {
    "duration": 307,
    "start_time": "2021-12-23T14:27:32.226Z"
   },
   {
    "duration": 6,
    "start_time": "2021-12-23T14:27:48.597Z"
   },
   {
    "duration": 10673,
    "start_time": "2021-12-23T14:27:51.855Z"
   },
   {
    "duration": 4,
    "start_time": "2021-12-23T14:28:15.038Z"
   },
   {
    "duration": 10496,
    "start_time": "2021-12-23T14:28:16.737Z"
   },
   {
    "duration": 4,
    "start_time": "2021-12-23T14:28:27.236Z"
   },
   {
    "duration": 5,
    "start_time": "2021-12-23T14:28:36.584Z"
   },
   {
    "duration": 11502,
    "start_time": "2021-12-23T14:28:45.140Z"
   },
   {
    "duration": 5,
    "start_time": "2021-12-23T14:28:56.645Z"
   },
   {
    "duration": 4,
    "start_time": "2021-12-23T14:30:46.197Z"
   },
   {
    "duration": 11048,
    "start_time": "2021-12-23T14:31:10.719Z"
   },
   {
    "duration": 5,
    "start_time": "2021-12-23T14:31:21.769Z"
   },
   {
    "duration": 6,
    "start_time": "2021-12-23T14:31:35.408Z"
   },
   {
    "duration": 4,
    "start_time": "2021-12-23T14:31:40.737Z"
   },
   {
    "duration": 11698,
    "start_time": "2021-12-23T14:31:52.737Z"
   },
   {
    "duration": 5,
    "start_time": "2021-12-23T14:32:04.439Z"
   },
   {
    "duration": 11146,
    "start_time": "2021-12-23T14:32:04.448Z"
   },
   {
    "duration": 5,
    "start_time": "2021-12-23T14:32:15.597Z"
   },
   {
    "duration": 4,
    "start_time": "2021-12-23T14:34:21.435Z"
   },
   {
    "duration": 19482,
    "start_time": "2021-12-23T14:35:02.027Z"
   },
   {
    "duration": 12,
    "start_time": "2021-12-23T14:35:21.513Z"
   },
   {
    "duration": 333,
    "start_time": "2021-12-23T14:35:44.977Z"
   },
   {
    "duration": 27527,
    "start_time": "2021-12-23T14:35:51.897Z"
   },
   {
    "duration": 5,
    "start_time": "2021-12-23T14:36:19.428Z"
   },
   {
    "duration": 39560,
    "start_time": "2021-12-23T14:36:48.889Z"
   },
   {
    "duration": 4,
    "start_time": "2021-12-23T14:37:28.453Z"
   },
   {
    "duration": 920,
    "start_time": "2021-12-23T14:40:51.837Z"
   },
   {
    "duration": 920,
    "start_time": "2021-12-23T14:40:51.839Z"
   },
   {
    "duration": 131723,
    "start_time": "2021-12-23T14:40:56.637Z"
   },
   {
    "duration": 6,
    "start_time": "2021-12-23T14:43:08.363Z"
   },
   {
    "duration": 3,
    "start_time": "2021-12-23T14:45:45.566Z"
   },
   {
    "duration": 120275,
    "start_time": "2021-12-23T14:47:53.897Z"
   },
   {
    "duration": 5,
    "start_time": "2021-12-23T14:49:54.175Z"
   },
   {
    "duration": 35273,
    "start_time": "2021-12-23T14:49:54.184Z"
   },
   {
    "duration": 5,
    "start_time": "2021-12-23T14:50:29.460Z"
   },
   {
    "duration": 5,
    "start_time": "2021-12-23T14:50:36.725Z"
   },
   {
    "duration": 177080,
    "start_time": "2021-12-23T14:51:17.448Z"
   },
   {
    "duration": 7,
    "start_time": "2021-12-23T14:54:14.532Z"
   },
   {
    "duration": 11,
    "start_time": "2021-12-23T14:54:28.178Z"
   },
   {
    "duration": 7,
    "start_time": "2021-12-23T14:54:38.568Z"
   },
   {
    "duration": 4,
    "start_time": "2021-12-23T15:02:10.697Z"
   },
   {
    "duration": 5,
    "start_time": "2021-12-23T15:02:51.038Z"
   },
   {
    "duration": 8445,
    "start_time": "2021-12-23T15:03:08.318Z"
   },
   {
    "duration": 773,
    "start_time": "2021-12-23T15:03:15.993Z"
   },
   {
    "duration": 154097,
    "start_time": "2021-12-23T15:03:20.881Z"
   },
   {
    "duration": 5,
    "start_time": "2021-12-23T15:06:01.297Z"
   },
   {
    "duration": 3,
    "start_time": "2021-12-23T15:07:15.928Z"
   },
   {
    "duration": 8,
    "start_time": "2021-12-23T15:08:09.728Z"
   },
   {
    "duration": 654,
    "start_time": "2021-12-23T15:08:38.657Z"
   },
   {
    "duration": 8,
    "start_time": "2021-12-23T15:08:52.947Z"
   },
   {
    "duration": 9,
    "start_time": "2021-12-23T15:09:00.204Z"
   },
   {
    "duration": 668,
    "start_time": "2021-12-23T15:09:01.268Z"
   },
   {
    "duration": 8,
    "start_time": "2021-12-23T15:09:02.537Z"
   },
   {
    "duration": 4,
    "start_time": "2021-12-23T15:09:09.897Z"
   },
   {
    "duration": 10,
    "start_time": "2021-12-23T15:09:10.447Z"
   },
   {
    "duration": 855,
    "start_time": "2021-12-23T15:09:11.017Z"
   },
   {
    "duration": 10,
    "start_time": "2021-12-23T15:09:11.875Z"
   },
   {
    "duration": 9,
    "start_time": "2021-12-23T15:09:14.666Z"
   },
   {
    "duration": 850,
    "start_time": "2021-12-23T15:09:14.910Z"
   },
   {
    "duration": 11,
    "start_time": "2021-12-23T15:09:15.763Z"
   },
   {
    "duration": 5,
    "start_time": "2021-12-23T15:09:58.448Z"
   },
   {
    "duration": 1055,
    "start_time": "2021-12-23T15:09:59.068Z"
   },
   {
    "duration": 8,
    "start_time": "2021-12-23T15:10:06.393Z"
   },
   {
    "duration": 5,
    "start_time": "2021-12-23T15:10:15.277Z"
   },
   {
    "duration": 803,
    "start_time": "2021-12-23T15:10:15.947Z"
   },
   {
    "duration": 8,
    "start_time": "2021-12-23T15:10:17.723Z"
   },
   {
    "duration": 5,
    "start_time": "2021-12-23T15:10:33.218Z"
   },
   {
    "duration": 808,
    "start_time": "2021-12-23T15:10:34.248Z"
   },
   {
    "duration": 8,
    "start_time": "2021-12-23T15:10:36.495Z"
   },
   {
    "duration": 5,
    "start_time": "2021-12-23T15:10:42.435Z"
   },
   {
    "duration": 1103,
    "start_time": "2021-12-23T15:10:42.997Z"
   },
   {
    "duration": 20,
    "start_time": "2021-12-23T15:10:44.103Z"
   },
   {
    "duration": 276,
    "start_time": "2021-12-23T15:12:06.908Z"
   },
   {
    "duration": 4,
    "start_time": "2021-12-23T15:13:07.697Z"
   },
   {
    "duration": 4,
    "start_time": "2021-12-23T15:13:29.073Z"
   },
   {
    "duration": 6328,
    "start_time": "2021-12-23T15:13:41.725Z"
   },
   {
    "duration": 5,
    "start_time": "2021-12-23T15:13:58.966Z"
   },
   {
    "duration": 319,
    "start_time": "2021-12-23T15:17:10.495Z"
   },
   {
    "duration": 309,
    "start_time": "2021-12-23T15:17:36.388Z"
   },
   {
    "duration": 3,
    "start_time": "2021-12-23T15:17:38.887Z"
   },
   {
    "duration": 12038,
    "start_time": "2021-12-23T15:17:39.394Z"
   },
   {
    "duration": 4,
    "start_time": "2021-12-23T15:17:51.435Z"
   },
   {
    "duration": 4,
    "start_time": "2021-12-23T15:19:02.227Z"
   },
   {
    "duration": 34706,
    "start_time": "2021-12-23T15:20:26.371Z"
   },
   {
    "duration": 5,
    "start_time": "2021-12-23T15:21:01.079Z"
   },
   {
    "duration": 3,
    "start_time": "2021-12-23T15:22:33.689Z"
   },
   {
    "duration": 138942,
    "start_time": "2021-12-23T15:22:43.528Z"
   },
   {
    "duration": 6,
    "start_time": "2021-12-23T15:25:02.472Z"
   },
   {
    "duration": 10,
    "start_time": "2021-12-23T15:25:15.147Z"
   },
   {
    "duration": 283,
    "start_time": "2021-12-23T15:26:51.668Z"
   },
   {
    "duration": 265,
    "start_time": "2021-12-23T15:26:57.438Z"
   },
   {
    "duration": 286,
    "start_time": "2021-12-23T15:27:04.669Z"
   },
   {
    "duration": 6,
    "start_time": "2021-12-23T15:27:14.770Z"
   },
   {
    "duration": 5,
    "start_time": "2021-12-23T15:27:18.247Z"
   },
   {
    "duration": 10,
    "start_time": "2021-12-23T15:27:24.236Z"
   },
   {
    "duration": 5,
    "start_time": "2021-12-23T15:27:37.028Z"
   },
   {
    "duration": 11,
    "start_time": "2021-12-23T15:29:00.938Z"
   },
   {
    "duration": 11,
    "start_time": "2021-12-23T15:29:29.388Z"
   },
   {
    "duration": 5,
    "start_time": "2021-12-23T15:29:37.545Z"
   },
   {
    "duration": 15,
    "start_time": "2021-12-23T15:29:38.148Z"
   },
   {
    "duration": 1167,
    "start_time": "2021-12-24T12:04:52.506Z"
   },
   {
    "duration": 77,
    "start_time": "2021-12-24T12:04:53.674Z"
   },
   {
    "duration": 16,
    "start_time": "2021-12-24T12:04:53.752Z"
   },
   {
    "duration": 13,
    "start_time": "2021-12-24T12:04:53.769Z"
   },
   {
    "duration": 45,
    "start_time": "2021-12-24T12:04:53.784Z"
   },
   {
    "duration": 11,
    "start_time": "2021-12-24T12:04:53.831Z"
   },
   {
    "duration": 199,
    "start_time": "2021-12-24T12:04:53.844Z"
   },
   {
    "duration": 204,
    "start_time": "2021-12-24T12:04:54.045Z"
   },
   {
    "duration": 12,
    "start_time": "2021-12-24T12:04:54.252Z"
   },
   {
    "duration": 4,
    "start_time": "2021-12-24T12:04:54.266Z"
   },
   {
    "duration": 5,
    "start_time": "2021-12-24T12:04:54.272Z"
   },
   {
    "duration": 13,
    "start_time": "2021-12-24T12:04:54.279Z"
   },
   {
    "duration": 4,
    "start_time": "2021-12-24T12:04:54.293Z"
   },
   {
    "duration": 11,
    "start_time": "2021-12-24T12:04:54.299Z"
   },
   {
    "duration": 16,
    "start_time": "2021-12-24T12:04:54.312Z"
   },
   {
    "duration": 36,
    "start_time": "2021-12-24T12:04:54.329Z"
   },
   {
    "duration": 5,
    "start_time": "2021-12-24T12:04:54.367Z"
   },
   {
    "duration": 7,
    "start_time": "2021-12-24T12:04:54.374Z"
   },
   {
    "duration": 4,
    "start_time": "2021-12-24T12:04:54.382Z"
   },
   {
    "duration": 6,
    "start_time": "2021-12-24T12:04:54.387Z"
   },
   {
    "duration": 22,
    "start_time": "2021-12-24T12:04:54.395Z"
   },
   {
    "duration": 44,
    "start_time": "2021-12-24T12:04:54.419Z"
   },
   {
    "duration": 10,
    "start_time": "2021-12-24T12:04:54.464Z"
   },
   {
    "duration": 12,
    "start_time": "2021-12-24T12:04:54.476Z"
   },
   {
    "duration": 6,
    "start_time": "2021-12-24T12:04:54.489Z"
   },
   {
    "duration": 9568,
    "start_time": "2021-12-24T12:04:54.496Z"
   },
   {
    "duration": 3,
    "start_time": "2021-12-24T12:05:04.069Z"
   },
   {
    "duration": 14,
    "start_time": "2021-12-24T12:05:04.074Z"
   },
   {
    "duration": 6580,
    "start_time": "2021-12-24T12:05:04.090Z"
   },
   {
    "duration": 4,
    "start_time": "2021-12-24T12:05:10.672Z"
   },
   {
    "duration": 18,
    "start_time": "2021-12-24T12:05:10.677Z"
   },
   {
    "duration": 25287,
    "start_time": "2021-12-24T12:05:10.696Z"
   },
   {
    "duration": 3,
    "start_time": "2021-12-24T12:05:35.985Z"
   },
   {
    "duration": 13,
    "start_time": "2021-12-24T12:05:35.989Z"
   },
   {
    "duration": 118542,
    "start_time": "2021-12-24T12:05:36.004Z"
   },
   {
    "duration": 4,
    "start_time": "2021-12-24T12:07:34.548Z"
   },
   {
    "duration": 8,
    "start_time": "2021-12-24T12:07:34.560Z"
   },
   {
    "duration": 5,
    "start_time": "2021-12-24T12:07:34.569Z"
   },
   {
    "duration": 10393,
    "start_time": "2021-12-24T12:07:34.575Z"
   },
   {
    "duration": 4,
    "start_time": "2021-12-24T12:07:44.969Z"
   },
   {
    "duration": 12,
    "start_time": "2021-12-24T12:07:44.975Z"
   },
   {
    "duration": 26561,
    "start_time": "2021-12-24T12:07:44.988Z"
   },
   {
    "duration": 11,
    "start_time": "2021-12-24T12:08:11.551Z"
   },
   {
    "duration": 4,
    "start_time": "2021-12-24T12:08:11.564Z"
   },
   {
    "duration": 99180,
    "start_time": "2021-12-24T12:08:11.569Z"
   },
   {
    "duration": 3,
    "start_time": "2021-12-24T12:09:50.751Z"
   },
   {
    "duration": 8,
    "start_time": "2021-12-24T12:09:50.755Z"
   },
   {
    "duration": 14,
    "start_time": "2021-12-24T12:09:50.764Z"
   },
   {
    "duration": 8,
    "start_time": "2021-12-24T12:09:50.780Z"
   },
   {
    "duration": 4,
    "start_time": "2021-12-24T12:10:38.581Z"
   },
   {
    "duration": 17,
    "start_time": "2021-12-24T12:11:09.791Z"
   },
   {
    "duration": 14,
    "start_time": "2021-12-24T12:11:17.181Z"
   },
   {
    "duration": 15,
    "start_time": "2021-12-24T12:11:38.921Z"
   },
   {
    "duration": 4,
    "start_time": "2021-12-24T12:11:48.691Z"
   },
   {
    "duration": 12,
    "start_time": "2021-12-24T12:11:49.527Z"
   },
   {
    "duration": 14,
    "start_time": "2021-12-24T12:11:52.661Z"
   },
   {
    "duration": 6,
    "start_time": "2021-12-24T12:12:13.791Z"
   },
   {
    "duration": 6,
    "start_time": "2021-12-24T12:12:21.434Z"
   },
   {
    "duration": 12,
    "start_time": "2021-12-24T12:14:44.951Z"
   },
   {
    "duration": 4,
    "start_time": "2021-12-24T12:15:04.080Z"
   },
   {
    "duration": 4,
    "start_time": "2021-12-24T12:15:09.416Z"
   },
   {
    "duration": 7,
    "start_time": "2021-12-24T12:15:32.798Z"
   },
   {
    "duration": 10,
    "start_time": "2021-12-24T12:16:14.730Z"
   },
   {
    "duration": 3,
    "start_time": "2021-12-24T12:17:36.510Z"
   },
   {
    "duration": 11997,
    "start_time": "2021-12-24T12:19:05.770Z"
   },
   {
    "duration": 4,
    "start_time": "2021-12-24T12:19:17.769Z"
   },
   {
    "duration": 13004,
    "start_time": "2021-12-24T12:19:58.363Z"
   },
   {
    "duration": 3,
    "start_time": "2021-12-24T12:20:11.369Z"
   },
   {
    "duration": 2,
    "start_time": "2021-12-24T12:21:09.401Z"
   },
   {
    "duration": 11371,
    "start_time": "2021-12-24T12:21:57.661Z"
   },
   {
    "duration": 3,
    "start_time": "2021-12-24T12:22:09.034Z"
   },
   {
    "duration": 3,
    "start_time": "2021-12-24T12:23:23.568Z"
   },
   {
    "duration": 35295,
    "start_time": "2021-12-24T12:23:59.018Z"
   },
   {
    "duration": 4,
    "start_time": "2021-12-24T12:24:34.314Z"
   },
   {
    "duration": 3,
    "start_time": "2021-12-24T12:26:00.831Z"
   },
   {
    "duration": 158343,
    "start_time": "2021-12-24T12:26:37.630Z"
   },
   {
    "duration": 3,
    "start_time": "2021-12-24T12:29:15.975Z"
   },
   {
    "duration": 6,
    "start_time": "2021-12-24T12:29:15.980Z"
   },
   {
    "duration": 9,
    "start_time": "2021-12-24T12:29:15.987Z"
   },
   {
    "duration": 366,
    "start_time": "2021-12-24T12:30:23.591Z"
   },
   {
    "duration": 123,
    "start_time": "2021-12-24T12:30:34.320Z"
   },
   {
    "duration": 3,
    "start_time": "2021-12-24T12:31:21.868Z"
   },
   {
    "duration": 603,
    "start_time": "2021-12-24T12:31:24.860Z"
   },
   {
    "duration": 28,
    "start_time": "2021-12-24T12:31:42.808Z"
   },
   {
    "duration": 6,
    "start_time": "2021-12-24T12:31:54.789Z"
   },
   {
    "duration": 101,
    "start_time": "2021-12-24T12:32:50.778Z"
   },
   {
    "duration": 10,
    "start_time": "2021-12-24T12:33:02.758Z"
   },
   {
    "duration": 5,
    "start_time": "2021-12-24T12:46:12.570Z"
   },
   {
    "duration": 13,
    "start_time": "2021-12-24T12:46:50.230Z"
   },
   {
    "duration": 4,
    "start_time": "2021-12-24T12:47:16.208Z"
   },
   {
    "duration": 4,
    "start_time": "2021-12-24T12:47:23.610Z"
   },
   {
    "duration": 7,
    "start_time": "2021-12-24T12:47:34.701Z"
   },
   {
    "duration": 11,
    "start_time": "2021-12-24T12:47:44.780Z"
   },
   {
    "duration": 3,
    "start_time": "2021-12-24T12:48:47.200Z"
   },
   {
    "duration": 536,
    "start_time": "2021-12-24T12:50:29.361Z"
   },
   {
    "duration": 4,
    "start_time": "2021-12-24T12:50:30.901Z"
   },
   {
    "duration": 6,
    "start_time": "2021-12-24T12:57:12.301Z"
   },
   {
    "duration": 11,
    "start_time": "2021-12-24T12:57:22.531Z"
   },
   {
    "duration": 4,
    "start_time": "2021-12-24T12:57:24.601Z"
   },
   {
    "duration": 3,
    "start_time": "2021-12-24T12:57:25.432Z"
   },
   {
    "duration": 6,
    "start_time": "2021-12-24T12:57:26.592Z"
   },
   {
    "duration": 10,
    "start_time": "2021-12-24T12:57:29.031Z"
   },
   {
    "duration": 2285,
    "start_time": "2021-12-24T13:02:48.982Z"
   },
   {
    "duration": 1787,
    "start_time": "2021-12-24T13:04:32.658Z"
   },
   {
    "duration": 2200,
    "start_time": "2021-12-24T13:04:42.589Z"
   },
   {
    "duration": 2665,
    "start_time": "2021-12-24T13:04:48.998Z"
   },
   {
    "duration": 5919,
    "start_time": "2021-12-24T13:09:36.850Z"
   },
   {
    "duration": 40987,
    "start_time": "2021-12-24T13:12:09.600Z"
   },
   {
    "duration": 41561,
    "start_time": "2021-12-24T13:13:37.270Z"
   },
   {
    "duration": 3,
    "start_time": "2021-12-24T13:14:25.850Z"
   },
   {
    "duration": 8,
    "start_time": "2021-12-24T13:14:26.520Z"
   },
   {
    "duration": 21,
    "start_time": "2021-12-24T13:18:15.340Z"
   },
   {
    "duration": 3,
    "start_time": "2021-12-24T13:19:02.589Z"
   },
   {
    "duration": 518,
    "start_time": "2021-12-24T13:19:03.209Z"
   },
   {
    "duration": 4,
    "start_time": "2021-12-24T13:19:04.469Z"
   },
   {
    "duration": 11,
    "start_time": "2021-12-24T13:19:46.161Z"
   },
   {
    "duration": 3,
    "start_time": "2021-12-24T13:20:16.979Z"
   },
   {
    "duration": 2,
    "start_time": "2021-12-24T13:22:01.300Z"
   },
   {
    "duration": 2166,
    "start_time": "2021-12-24T13:22:54.448Z"
   },
   {
    "duration": 3,
    "start_time": "2021-12-24T13:22:56.616Z"
   },
   {
    "duration": 12,
    "start_time": "2021-12-24T13:23:51.529Z"
   },
   {
    "duration": 106,
    "start_time": "2021-12-24T13:24:27.909Z"
   },
   {
    "duration": 251,
    "start_time": "2021-12-24T13:28:33.395Z"
   },
   {
    "duration": 7,
    "start_time": "2021-12-24T13:28:41.645Z"
   },
   {
    "duration": 17,
    "start_time": "2021-12-24T13:28:49.826Z"
   },
   {
    "duration": 4,
    "start_time": "2021-12-24T13:28:52.125Z"
   },
   {
    "duration": 4,
    "start_time": "2021-12-24T13:28:52.736Z"
   },
   {
    "duration": 6,
    "start_time": "2021-12-24T13:28:53.496Z"
   },
   {
    "duration": 11,
    "start_time": "2021-12-24T13:28:55.305Z"
   },
   {
    "duration": 1373,
    "start_time": "2021-12-24T13:30:06.696Z"
   },
   {
    "duration": 1703,
    "start_time": "2021-12-24T13:31:22.933Z"
   },
   {
    "duration": 2051,
    "start_time": "2021-12-24T13:32:50.130Z"
   },
   {
    "duration": 16182,
    "start_time": "2021-12-24T13:34:51.569Z"
   },
   {
    "duration": 4,
    "start_time": "2021-12-24T13:37:42.518Z"
   },
   {
    "duration": 9,
    "start_time": "2021-12-24T13:37:47.058Z"
   },
   {
    "duration": 700,
    "start_time": "2021-12-24T13:44:14.508Z"
   },
   {
    "duration": 68,
    "start_time": "2021-12-24T13:49:03.398Z"
   },
   {
    "duration": 5,
    "start_time": "2021-12-24T13:49:05.888Z"
   },
   {
    "duration": 4,
    "start_time": "2021-12-24T13:49:12.478Z"
   },
   {
    "duration": 186,
    "start_time": "2021-12-24T13:51:02.100Z"
   },
   {
    "duration": 12,
    "start_time": "2021-12-24T13:54:05.716Z"
   },
   {
    "duration": 4,
    "start_time": "2021-12-24T13:56:35.452Z"
   },
   {
    "duration": 8,
    "start_time": "2021-12-24T13:56:38.571Z"
   },
   {
    "duration": 14,
    "start_time": "2021-12-24T13:57:32.322Z"
   },
   {
    "duration": 5,
    "start_time": "2021-12-24T13:57:32.955Z"
   },
   {
    "duration": 7,
    "start_time": "2021-12-24T13:57:33.682Z"
   },
   {
    "duration": 6,
    "start_time": "2021-12-24T13:58:43.992Z"
   },
   {
    "duration": 183,
    "start_time": "2021-12-24T14:03:07.142Z"
   },
   {
    "duration": 308,
    "start_time": "2021-12-24T14:04:04.298Z"
   },
   {
    "duration": 15,
    "start_time": "2021-12-24T14:06:44.093Z"
   },
   {
    "duration": 6,
    "start_time": "2021-12-24T14:07:45.313Z"
   },
   {
    "duration": 10,
    "start_time": "2021-12-24T14:07:45.853Z"
   },
   {
    "duration": 2,
    "start_time": "2021-12-24T14:09:02.924Z"
   },
   {
    "duration": 3,
    "start_time": "2021-12-24T14:09:15.923Z"
   },
   {
    "duration": 5,
    "start_time": "2021-12-24T14:09:29.573Z"
   },
   {
    "duration": 7,
    "start_time": "2021-12-24T14:10:12.373Z"
   },
   {
    "duration": 7,
    "start_time": "2021-12-24T14:10:29.263Z"
   },
   {
    "duration": 3,
    "start_time": "2021-12-24T14:10:54.451Z"
   },
   {
    "duration": 5,
    "start_time": "2021-12-24T14:10:54.823Z"
   },
   {
    "duration": 8,
    "start_time": "2021-12-24T14:10:55.138Z"
   },
   {
    "duration": 6,
    "start_time": "2021-12-24T14:10:56.164Z"
   },
   {
    "duration": 275,
    "start_time": "2021-12-24T14:17:32.408Z"
   },
   {
    "duration": 5,
    "start_time": "2021-12-24T14:17:39.817Z"
   },
   {
    "duration": 228,
    "start_time": "2021-12-24T14:17:40.418Z"
   },
   {
    "duration": 156,
    "start_time": "2021-12-24T14:19:13.069Z"
   },
   {
    "duration": 6,
    "start_time": "2021-12-24T14:19:34.110Z"
   },
   {
    "duration": 180,
    "start_time": "2021-12-24T14:19:34.989Z"
   },
   {
    "duration": 737,
    "start_time": "2021-12-24T14:23:27.163Z"
   },
   {
    "duration": 242,
    "start_time": "2021-12-24T14:24:23.383Z"
   },
   {
    "duration": 244,
    "start_time": "2021-12-24T14:25:15.654Z"
   },
   {
    "duration": 16,
    "start_time": "2021-12-24T14:25:42.202Z"
   },
   {
    "duration": 4,
    "start_time": "2021-12-24T14:25:44.623Z"
   },
   {
    "duration": 4,
    "start_time": "2021-12-24T14:26:32.263Z"
   },
   {
    "duration": 8,
    "start_time": "2021-12-24T14:26:32.833Z"
   },
   {
    "duration": 4,
    "start_time": "2021-12-24T14:26:46.873Z"
   },
   {
    "duration": 7,
    "start_time": "2021-12-24T14:26:47.372Z"
   },
   {
    "duration": 318,
    "start_time": "2021-12-24T14:28:29.822Z"
   },
   {
    "duration": 20,
    "start_time": "2021-12-24T14:29:27.942Z"
   },
   {
    "duration": 274,
    "start_time": "2021-12-24T14:29:29.100Z"
   },
   {
    "duration": 6,
    "start_time": "2021-12-24T14:29:42.782Z"
   },
   {
    "duration": 10,
    "start_time": "2021-12-24T14:29:43.632Z"
   },
   {
    "duration": 4,
    "start_time": "2021-12-24T14:38:19.313Z"
   },
   {
    "duration": 136,
    "start_time": "2021-12-24T14:38:19.372Z"
   },
   {
    "duration": 12,
    "start_time": "2021-12-24T14:38:19.510Z"
   },
   {
    "duration": 10,
    "start_time": "2021-12-24T14:38:19.524Z"
   },
   {
    "duration": 48,
    "start_time": "2021-12-24T14:38:19.536Z"
   },
   {
    "duration": 13,
    "start_time": "2021-12-24T14:38:19.586Z"
   },
   {
    "duration": 220,
    "start_time": "2021-12-24T14:38:19.601Z"
   },
   {
    "duration": 268,
    "start_time": "2021-12-24T14:38:19.823Z"
   },
   {
    "duration": 7,
    "start_time": "2021-12-24T14:38:20.093Z"
   },
   {
    "duration": 9,
    "start_time": "2021-12-24T14:38:20.102Z"
   },
   {
    "duration": 22,
    "start_time": "2021-12-24T14:38:20.113Z"
   },
   {
    "duration": 17,
    "start_time": "2021-12-24T14:38:20.137Z"
   },
   {
    "duration": 19,
    "start_time": "2021-12-24T14:38:20.155Z"
   },
   {
    "duration": 23,
    "start_time": "2021-12-24T14:38:20.176Z"
   },
   {
    "duration": 33,
    "start_time": "2021-12-24T14:38:20.201Z"
   },
   {
    "duration": 25,
    "start_time": "2021-12-24T14:38:20.236Z"
   },
   {
    "duration": 23,
    "start_time": "2021-12-24T14:38:20.264Z"
   },
   {
    "duration": 29,
    "start_time": "2021-12-24T14:38:20.289Z"
   },
   {
    "duration": 16,
    "start_time": "2021-12-24T14:38:20.320Z"
   },
   {
    "duration": 21,
    "start_time": "2021-12-24T14:38:20.338Z"
   },
   {
    "duration": 25,
    "start_time": "2021-12-24T14:38:20.361Z"
   },
   {
    "duration": 13,
    "start_time": "2021-12-24T14:38:20.388Z"
   },
   {
    "duration": 10,
    "start_time": "2021-12-24T14:38:20.403Z"
   },
   {
    "duration": 10,
    "start_time": "2021-12-24T14:38:20.415Z"
   },
   {
    "duration": 5,
    "start_time": "2021-12-24T14:38:20.426Z"
   },
   {
    "duration": 9629,
    "start_time": "2021-12-24T14:38:20.433Z"
   },
   {
    "duration": 4,
    "start_time": "2021-12-24T14:38:30.064Z"
   },
   {
    "duration": 19,
    "start_time": "2021-12-24T14:38:30.073Z"
   },
   {
    "duration": 6412,
    "start_time": "2021-12-24T14:38:30.096Z"
   },
   {
    "duration": 3,
    "start_time": "2021-12-24T14:38:36.510Z"
   },
   {
    "duration": 7,
    "start_time": "2021-12-24T14:38:36.514Z"
   },
   {
    "duration": 26214,
    "start_time": "2021-12-24T14:38:36.523Z"
   },
   {
    "duration": 3,
    "start_time": "2021-12-24T14:39:02.739Z"
   },
   {
    "duration": 17,
    "start_time": "2021-12-24T14:39:02.744Z"
   },
   {
    "duration": 119331,
    "start_time": "2021-12-24T14:39:02.763Z"
   },
   {
    "duration": 9,
    "start_time": "2021-12-24T14:41:02.096Z"
   },
   {
    "duration": 941,
    "start_time": "2021-12-24T14:41:02.108Z"
   },
   {
    "duration": 13,
    "start_time": "2021-12-24T14:41:03.050Z"
   },
   {
    "duration": 9,
    "start_time": "2021-12-24T14:41:03.065Z"
   },
   {
    "duration": 10086,
    "start_time": "2021-12-24T14:41:03.075Z"
   },
   {
    "duration": 3,
    "start_time": "2021-12-24T14:41:13.163Z"
   },
   {
    "duration": 12,
    "start_time": "2021-12-24T14:41:13.168Z"
   },
   {
    "duration": 26591,
    "start_time": "2021-12-24T14:41:13.182Z"
   },
   {
    "duration": 3,
    "start_time": "2021-12-24T14:41:39.776Z"
   },
   {
    "duration": 8,
    "start_time": "2021-12-24T14:41:39.781Z"
   },
   {
    "duration": 99083,
    "start_time": "2021-12-24T14:41:39.791Z"
   },
   {
    "duration": 4,
    "start_time": "2021-12-24T14:43:18.875Z"
   },
   {
    "duration": 714,
    "start_time": "2021-12-24T14:43:18.880Z"
   },
   {
    "duration": 4,
    "start_time": "2021-12-24T14:43:19.596Z"
   },
   {
    "duration": 10,
    "start_time": "2021-12-24T14:43:19.601Z"
   },
   {
    "duration": 5,
    "start_time": "2021-12-24T14:43:19.613Z"
   },
   {
    "duration": 8,
    "start_time": "2021-12-24T14:43:19.620Z"
   },
   {
    "duration": 35,
    "start_time": "2021-12-24T14:43:19.629Z"
   },
   {
    "duration": 4,
    "start_time": "2021-12-24T14:43:19.666Z"
   },
   {
    "duration": 9,
    "start_time": "2021-12-24T14:43:19.672Z"
   },
   {
    "duration": 8,
    "start_time": "2021-12-24T14:43:19.683Z"
   },
   {
    "duration": 11,
    "start_time": "2021-12-24T14:43:19.692Z"
   },
   {
    "duration": 2261,
    "start_time": "2021-12-24T14:43:19.705Z"
   },
   {
    "duration": 3024,
    "start_time": "2021-12-24T14:43:21.968Z"
   },
   {
    "duration": 5826,
    "start_time": "2021-12-24T14:43:24.994Z"
   },
   {
    "duration": 42152,
    "start_time": "2021-12-24T14:43:30.822Z"
   },
   {
    "duration": 4,
    "start_time": "2021-12-24T14:44:12.976Z"
   },
   {
    "duration": 13,
    "start_time": "2021-12-24T14:44:12.983Z"
   },
   {
    "duration": 5,
    "start_time": "2021-12-24T14:44:12.998Z"
   },
   {
    "duration": 20,
    "start_time": "2021-12-24T14:44:13.004Z"
   },
   {
    "duration": 4,
    "start_time": "2021-12-24T14:44:13.026Z"
   },
   {
    "duration": 31,
    "start_time": "2021-12-24T14:44:13.031Z"
   },
   {
    "duration": 11,
    "start_time": "2021-12-24T14:44:13.064Z"
   },
   {
    "duration": 14,
    "start_time": "2021-12-24T14:44:13.077Z"
   },
   {
    "duration": 1273,
    "start_time": "2021-12-24T14:44:13.093Z"
   },
   {
    "duration": 1841,
    "start_time": "2021-12-24T14:44:14.369Z"
   },
   {
    "duration": 2160,
    "start_time": "2021-12-24T14:44:16.212Z"
   },
   {
    "duration": 15867,
    "start_time": "2021-12-24T14:44:18.374Z"
   },
   {
    "duration": 3,
    "start_time": "2021-12-24T14:44:34.243Z"
   },
   {
    "duration": 19,
    "start_time": "2021-12-24T14:44:34.248Z"
   },
   {
    "duration": 257,
    "start_time": "2021-12-24T14:44:34.269Z"
   },
   {
    "duration": 15,
    "start_time": "2021-12-24T14:44:34.528Z"
   },
   {
    "duration": 4,
    "start_time": "2021-12-24T14:44:34.545Z"
   },
   {
    "duration": 20,
    "start_time": "2021-12-24T14:44:34.551Z"
   },
   {
    "duration": 324,
    "start_time": "2021-12-24T14:44:34.573Z"
   },
   {
    "duration": 18,
    "start_time": "2021-12-24T14:44:34.899Z"
   },
   {
    "duration": 19,
    "start_time": "2021-12-24T14:44:34.922Z"
   },
   {
    "duration": 28,
    "start_time": "2021-12-24T14:44:34.943Z"
   },
   {
    "duration": 1221,
    "start_time": "2022-01-06T13:58:05.279Z"
   },
   {
    "duration": 180,
    "start_time": "2022-01-06T13:58:11.369Z"
   },
   {
    "duration": 13,
    "start_time": "2022-01-06T13:58:12.579Z"
   },
   {
    "duration": 9,
    "start_time": "2022-01-06T13:58:14.620Z"
   },
   {
    "duration": 46,
    "start_time": "2022-01-06T13:58:24.999Z"
   },
   {
    "duration": 12,
    "start_time": "2022-01-06T13:58:30.390Z"
   },
   {
    "duration": 159,
    "start_time": "2022-01-06T13:58:39.233Z"
   },
   {
    "duration": 179,
    "start_time": "2022-01-06T13:58:52.075Z"
   },
   {
    "duration": 6,
    "start_time": "2022-01-06T13:58:58.689Z"
   },
   {
    "duration": 4,
    "start_time": "2022-01-06T13:59:00.875Z"
   },
   {
    "duration": 4,
    "start_time": "2022-01-06T13:59:05.580Z"
   },
   {
    "duration": 8,
    "start_time": "2022-01-06T13:59:08.969Z"
   },
   {
    "duration": 10,
    "start_time": "2022-01-06T14:00:33.199Z"
   },
   {
    "duration": 4,
    "start_time": "2022-01-06T14:00:45.740Z"
   },
   {
    "duration": 10,
    "start_time": "2022-01-06T14:00:47.589Z"
   },
   {
    "duration": 12,
    "start_time": "2022-01-06T14:00:53.159Z"
   },
   {
    "duration": 861,
    "start_time": "2022-01-06T14:01:34.419Z"
   },
   {
    "duration": 331,
    "start_time": "2022-01-06T14:02:26.809Z"
   },
   {
    "duration": 33994,
    "start_time": "2022-01-06T14:04:42.561Z"
   },
   {
    "duration": 13,
    "start_time": "2022-01-06T14:14:20.741Z"
   },
   {
    "duration": 10,
    "start_time": "2022-01-06T14:14:21.868Z"
   },
   {
    "duration": 5,
    "start_time": "2022-01-06T14:15:23.479Z"
   },
   {
    "duration": 6,
    "start_time": "2022-01-06T14:17:56.658Z"
   },
   {
    "duration": 3,
    "start_time": "2022-01-06T14:17:57.818Z"
   },
   {
    "duration": 3,
    "start_time": "2022-01-06T14:18:00.068Z"
   },
   {
    "duration": 6,
    "start_time": "2022-01-06T14:19:05.358Z"
   },
   {
    "duration": 3,
    "start_time": "2022-01-06T14:19:40.328Z"
   },
   {
    "duration": 17,
    "start_time": "2022-01-06T14:19:49.288Z"
   },
   {
    "duration": 20,
    "start_time": "2022-01-06T14:21:31.268Z"
   },
   {
    "duration": 9,
    "start_time": "2022-01-06T14:21:41.588Z"
   },
   {
    "duration": 14,
    "start_time": "2022-01-06T14:21:42.916Z"
   },
   {
    "duration": 12,
    "start_time": "2022-01-06T14:21:56.424Z"
   },
   {
    "duration": 3,
    "start_time": "2022-01-06T14:22:26.238Z"
   },
   {
    "duration": 6723,
    "start_time": "2022-01-06T14:22:32.518Z"
   },
   {
    "duration": 3,
    "start_time": "2022-01-06T14:22:39.245Z"
   },
   {
    "duration": 865,
    "start_time": "2022-01-06T14:26:58.299Z"
   },
   {
    "duration": 396,
    "start_time": "2022-01-06T14:27:08.769Z"
   },
   {
    "duration": 13,
    "start_time": "2022-01-06T14:27:36.099Z"
   },
   {
    "duration": 4,
    "start_time": "2022-01-06T14:27:44.680Z"
   },
   {
    "duration": 31,
    "start_time": "2022-01-06T14:28:34.745Z"
   },
   {
    "duration": 31,
    "start_time": "2022-01-06T14:29:28.749Z"
   },
   {
    "duration": 3,
    "start_time": "2022-01-06T14:29:40.571Z"
   },
   {
    "duration": 6188,
    "start_time": "2022-01-06T14:29:44.673Z"
   },
   {
    "duration": 3,
    "start_time": "2022-01-06T14:29:50.862Z"
   },
   {
    "duration": 4,
    "start_time": "2022-01-06T14:30:45.648Z"
   },
   {
    "duration": 26,
    "start_time": "2022-01-06T14:31:33.049Z"
   },
   {
    "duration": 31,
    "start_time": "2022-01-06T14:32:37.649Z"
   },
   {
    "duration": 31,
    "start_time": "2022-01-06T14:32:40.740Z"
   },
   {
    "duration": 3,
    "start_time": "2022-01-06T14:33:24.078Z"
   },
   {
    "duration": 23052,
    "start_time": "2022-01-06T14:33:26.640Z"
   },
   {
    "duration": 3,
    "start_time": "2022-01-06T14:33:49.694Z"
   },
   {
    "duration": 24,
    "start_time": "2022-01-06T14:35:15.869Z"
   },
   {
    "duration": 6,
    "start_time": "2022-01-06T14:35:58.498Z"
   },
   {
    "duration": 21,
    "start_time": "2022-01-06T14:36:07.359Z"
   },
   {
    "duration": 80,
    "start_time": "2022-01-06T14:36:13.805Z"
   },
   {
    "duration": 23,
    "start_time": "2022-01-06T14:36:19.189Z"
   },
   {
    "duration": 5,
    "start_time": "2022-01-06T14:36:56.872Z"
   },
   {
    "duration": 22,
    "start_time": "2022-01-06T14:37:00.599Z"
   },
   {
    "duration": 96,
    "start_time": "2022-01-06T14:37:09.989Z"
   },
   {
    "duration": 21,
    "start_time": "2022-01-06T14:37:14.440Z"
   },
   {
    "duration": 3,
    "start_time": "2022-01-06T14:37:41.168Z"
   },
   {
    "duration": 557,
    "start_time": "2022-01-06T14:39:10.740Z"
   },
   {
    "duration": 704,
    "start_time": "2022-01-06T14:40:43.840Z"
   },
   {
    "duration": 344,
    "start_time": "2022-01-06T14:41:30.218Z"
   },
   {
    "duration": 110777,
    "start_time": "2022-01-06T14:41:59.928Z"
   },
   {
    "duration": 3,
    "start_time": "2022-01-06T14:43:50.707Z"
   },
   {
    "duration": 354,
    "start_time": "2022-01-06T14:45:34.208Z"
   },
   {
    "duration": 8,
    "start_time": "2022-01-06T14:45:54.346Z"
   },
   {
    "duration": 3,
    "start_time": "2022-01-06T14:47:47.721Z"
   },
   {
    "duration": 7534,
    "start_time": "2022-01-06T14:47:49.220Z"
   },
   {
    "duration": 5,
    "start_time": "2022-01-06T14:47:56.830Z"
   },
   {
    "duration": 31,
    "start_time": "2022-01-06T14:48:40.919Z"
   },
   {
    "duration": 19,
    "start_time": "2022-01-06T14:49:29.978Z"
   },
   {
    "duration": 4,
    "start_time": "2022-01-06T14:49:56.949Z"
   },
   {
    "duration": 23149,
    "start_time": "2022-01-06T14:49:58.240Z"
   },
   {
    "duration": 3,
    "start_time": "2022-01-06T14:50:21.391Z"
   },
   {
    "duration": 32,
    "start_time": "2022-01-06T14:51:16.669Z"
   },
   {
    "duration": 25,
    "start_time": "2022-01-06T14:52:01.434Z"
   },
   {
    "duration": 2,
    "start_time": "2022-01-06T14:52:15.209Z"
   },
   {
    "duration": 97420,
    "start_time": "2022-01-06T14:52:32.047Z"
   },
   {
    "duration": 4,
    "start_time": "2022-01-06T14:54:09.469Z"
   },
   {
    "duration": 541,
    "start_time": "2022-01-06T14:54:25.897Z"
   },
   {
    "duration": 663,
    "start_time": "2022-01-06T14:55:05.981Z"
   },
   {
    "duration": 7,
    "start_time": "2022-01-06T14:55:25.141Z"
   },
   {
    "duration": 5,
    "start_time": "2022-01-06T14:56:05.840Z"
   },
   {
    "duration": 8,
    "start_time": "2022-01-06T14:56:15.541Z"
   },
   {
    "duration": 3,
    "start_time": "2022-01-06T14:59:21.679Z"
   },
   {
    "duration": 6,
    "start_time": "2022-01-06T14:59:26.048Z"
   },
   {
    "duration": 8,
    "start_time": "2022-01-06T15:00:34.548Z"
   },
   {
    "duration": 8,
    "start_time": "2022-01-06T15:01:17.740Z"
   },
   {
    "duration": 6,
    "start_time": "2022-01-06T15:02:57.627Z"
   },
   {
    "duration": 12,
    "start_time": "2022-01-06T15:05:05.582Z"
   },
   {
    "duration": 4,
    "start_time": "2022-01-06T15:05:09.104Z"
   },
   {
    "duration": 4,
    "start_time": "2022-01-06T15:05:09.784Z"
   },
   {
    "duration": 7,
    "start_time": "2022-01-06T15:05:10.628Z"
   },
   {
    "duration": 13,
    "start_time": "2022-01-06T15:05:11.610Z"
   },
   {
    "duration": 359,
    "start_time": "2022-01-06T15:07:22.465Z"
   },
   {
    "duration": 1702,
    "start_time": "2022-01-06T15:08:06.640Z"
   },
   {
    "duration": 3230,
    "start_time": "2022-01-06T15:09:03.778Z"
   },
   {
    "duration": 5304,
    "start_time": "2022-01-06T15:10:24.517Z"
   },
   {
    "duration": 38637,
    "start_time": "2022-01-06T15:11:58.447Z"
   },
   {
    "duration": 4,
    "start_time": "2022-01-06T15:13:26.587Z"
   },
   {
    "duration": 6,
    "start_time": "2022-01-06T15:13:27.198Z"
   },
   {
    "duration": 3,
    "start_time": "2022-01-06T15:14:08.548Z"
   },
   {
    "duration": 7,
    "start_time": "2022-01-06T15:14:09.193Z"
   },
   {
    "duration": 4,
    "start_time": "2022-01-06T15:15:29.642Z"
   },
   {
    "duration": 10,
    "start_time": "2022-01-06T15:16:03.612Z"
   },
   {
    "duration": 4,
    "start_time": "2022-01-06T15:16:06.444Z"
   },
   {
    "duration": 3,
    "start_time": "2022-01-06T15:16:07.716Z"
   },
   {
    "duration": 6,
    "start_time": "2022-01-06T15:16:08.663Z"
   },
   {
    "duration": 10,
    "start_time": "2022-01-06T15:16:09.067Z"
   },
   {
    "duration": 915,
    "start_time": "2022-01-06T15:17:50.224Z"
   },
   {
    "duration": 1699,
    "start_time": "2022-01-06T15:18:39.624Z"
   },
   {
    "duration": 1957,
    "start_time": "2022-01-06T15:19:29.898Z"
   },
   {
    "duration": 15074,
    "start_time": "2022-01-06T15:20:51.358Z"
   },
   {
    "duration": 4,
    "start_time": "2022-01-06T15:21:56.868Z"
   },
   {
    "duration": 8,
    "start_time": "2022-01-06T15:21:57.547Z"
   },
   {
    "duration": 183,
    "start_time": "2022-01-06T15:22:47.644Z"
   },
   {
    "duration": 4,
    "start_time": "2022-01-06T15:23:01.768Z"
   },
   {
    "duration": 9,
    "start_time": "2022-01-06T15:23:06.498Z"
   },
   {
    "duration": 178,
    "start_time": "2022-01-06T15:31:55.740Z"
   },
   {
    "duration": 18,
    "start_time": "2022-01-06T15:31:59.748Z"
   },
   {
    "duration": 4,
    "start_time": "2022-01-06T15:32:00.408Z"
   },
   {
    "duration": 7,
    "start_time": "2022-01-06T15:32:02.509Z"
   },
   {
    "duration": 286,
    "start_time": "2022-01-06T15:33:41.419Z"
   },
   {
    "duration": 16,
    "start_time": "2022-01-06T15:33:50.568Z"
   },
   {
    "duration": 5,
    "start_time": "2022-01-06T15:33:53.059Z"
   },
   {
    "duration": 8,
    "start_time": "2022-01-06T15:33:54.540Z"
   },
   {
    "duration": 13,
    "start_time": "2022-01-06T15:37:01.532Z"
   },
   {
    "duration": 20,
    "start_time": "2022-01-06T15:37:24.118Z"
   },
   {
    "duration": 15,
    "start_time": "2022-01-06T15:37:37.828Z"
   },
   {
    "duration": 4,
    "start_time": "2022-01-06T15:42:51.514Z"
   },
   {
    "duration": 327,
    "start_time": "2022-01-06T15:43:29.228Z"
   },
   {
    "duration": 70,
    "start_time": "2022-01-06T15:43:58.428Z"
   },
   {
    "duration": 161,
    "start_time": "2022-01-06T15:44:13.488Z"
   },
   {
    "duration": 155,
    "start_time": "2022-01-06T15:44:41.306Z"
   },
   {
    "duration": 248,
    "start_time": "2022-01-06T15:45:16.549Z"
   },
   {
    "duration": 309,
    "start_time": "2022-01-06T15:46:34.608Z"
   },
   {
    "duration": 213,
    "start_time": "2022-01-06T15:46:43.478Z"
   },
   {
    "duration": 228,
    "start_time": "2022-01-06T15:47:07.958Z"
   },
   {
    "duration": 257,
    "start_time": "2022-01-06T15:48:30.076Z"
   },
   {
    "duration": 234,
    "start_time": "2022-01-06T15:48:41.574Z"
   },
   {
    "duration": 10,
    "start_time": "2022-01-06T15:50:21.526Z"
   },
   {
    "duration": 172,
    "start_time": "2022-01-06T15:50:29.731Z"
   },
   {
    "duration": 367,
    "start_time": "2022-01-06T15:50:46.415Z"
   },
   {
    "duration": 6,
    "start_time": "2022-01-06T15:50:55.726Z"
   },
   {
    "duration": 11,
    "start_time": "2022-01-06T15:51:08.837Z"
   },
   {
    "duration": 4,
    "start_time": "2022-01-06T15:51:10.618Z"
   },
   {
    "duration": 160,
    "start_time": "2022-01-06T15:51:23.750Z"
   },
   {
    "duration": 10,
    "start_time": "2022-01-06T15:51:48.078Z"
   },
   {
    "duration": 153,
    "start_time": "2022-01-06T15:51:51.438Z"
   },
   {
    "duration": 316,
    "start_time": "2022-01-06T15:52:41.038Z"
   },
   {
    "duration": 191,
    "start_time": "2022-01-06T15:53:20.689Z"
   },
   {
    "duration": 14,
    "start_time": "2022-01-06T15:54:06.648Z"
   },
   {
    "duration": 312,
    "start_time": "2022-01-06T15:54:18.775Z"
   },
   {
    "duration": 16,
    "start_time": "2022-01-06T15:54:38.845Z"
   },
   {
    "duration": 238,
    "start_time": "2022-01-06T15:54:39.141Z"
   },
   {
    "duration": 11,
    "start_time": "2022-01-06T15:56:24.278Z"
   },
   {
    "duration": 193,
    "start_time": "2022-01-06T15:56:35.008Z"
   },
   {
    "duration": 4,
    "start_time": "2022-01-06T15:58:56.538Z"
   },
   {
    "duration": 7,
    "start_time": "2022-01-06T15:59:05.521Z"
   }
  ],
  "kernelspec": {
   "display_name": "Python 3 (ipykernel)",
   "language": "python",
   "name": "python3"
  },
  "language_info": {
   "codemirror_mode": {
    "name": "ipython",
    "version": 3
   },
   "file_extension": ".py",
   "mimetype": "text/x-python",
   "name": "python",
   "nbconvert_exporter": "python",
   "pygments_lexer": "ipython3",
   "version": "3.9.7"
  },
  "toc": {
   "base_numbering": 1,
   "nav_menu": {},
   "number_sections": true,
   "sideBar": true,
   "skip_h1_title": true,
   "title_cell": "Содержание",
   "title_sidebar": "Contents",
   "toc_cell": true,
   "toc_position": {
    "height": "calc(100% - 180px)",
    "left": "10px",
    "top": "150px",
    "width": "289.6px"
   },
   "toc_section_display": true,
   "toc_window_display": true
  }
 },
 "nbformat": 4,
 "nbformat_minor": 2
}
