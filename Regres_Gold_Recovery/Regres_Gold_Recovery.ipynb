{
 "cells": [
  {
   "cell_type": "markdown",
   "metadata": {},
   "source": [
    "## Подготовка данных"
   ]
  },
  {
   "cell_type": "code",
   "execution_count": 156,
   "metadata": {},
   "outputs": [],
   "source": [
    "import pandas as pd\n",
    "import numpy as np\n",
    "import matplotlib.pyplot as plt\n",
    "import seaborn as sns\n",
    "from sklearn.impute import SimpleImputer\n",
    "from sklearn.impute import KNNImputer\n",
    "from sklearn.experimental import enable_iterative_imputer\n",
    "from sklearn.impute import IterativeImputer\n",
    "from sklearn.preprocessing import StandardScaler\n",
    "from sklearn.metrics import mean_absolute_error, mean_squared_error\n",
    "from sklearn.linear_model import LinearRegression\n",
    "from sklearn.neighbors import KNeighborsRegressor\n",
    "from sklearn.ensemble import RandomForestRegressor\n",
    "from sklearn.model_selection import cross_val_predict\n",
    "from sklearn.model_selection import GridSearchCV\n",
    "from sklearn.dummy import DummyRegressor"
   ]
  },
  {
   "cell_type": "markdown",
   "metadata": {},
   "source": [
    "### Загрузка данных"
   ]
  },
  {
   "cell_type": "markdown",
   "metadata": {},
   "source": [
    "Загрузим обучающую выборку."
   ]
  },
  {
   "cell_type": "code",
   "execution_count": 2,
   "metadata": {},
   "outputs": [],
   "source": [
    "df_train = pd.read_csv('gold_recovery_train_new.csv')"
   ]
  },
  {
   "cell_type": "markdown",
   "metadata": {},
   "source": [
    "Взглянем на первые 5 строк."
   ]
  },
  {
   "cell_type": "code",
   "execution_count": 3,
   "metadata": {},
   "outputs": [
    {
     "data": {
      "text/html": [
       "<div>\n",
       "<style scoped>\n",
       "    .dataframe tbody tr th:only-of-type {\n",
       "        vertical-align: middle;\n",
       "    }\n",
       "\n",
       "    .dataframe tbody tr th {\n",
       "        vertical-align: top;\n",
       "    }\n",
       "\n",
       "    .dataframe thead th {\n",
       "        text-align: right;\n",
       "    }\n",
       "</style>\n",
       "<table border=\"1\" class=\"dataframe\">\n",
       "  <thead>\n",
       "    <tr style=\"text-align: right;\">\n",
       "      <th></th>\n",
       "      <th>date</th>\n",
       "      <th>final.output.concentrate_ag</th>\n",
       "      <th>final.output.concentrate_pb</th>\n",
       "      <th>final.output.concentrate_sol</th>\n",
       "      <th>final.output.concentrate_au</th>\n",
       "      <th>final.output.recovery</th>\n",
       "      <th>final.output.tail_ag</th>\n",
       "      <th>final.output.tail_pb</th>\n",
       "      <th>final.output.tail_sol</th>\n",
       "      <th>final.output.tail_au</th>\n",
       "      <th>...</th>\n",
       "      <th>secondary_cleaner.state.floatbank4_a_air</th>\n",
       "      <th>secondary_cleaner.state.floatbank4_a_level</th>\n",
       "      <th>secondary_cleaner.state.floatbank4_b_air</th>\n",
       "      <th>secondary_cleaner.state.floatbank4_b_level</th>\n",
       "      <th>secondary_cleaner.state.floatbank5_a_air</th>\n",
       "      <th>secondary_cleaner.state.floatbank5_a_level</th>\n",
       "      <th>secondary_cleaner.state.floatbank5_b_air</th>\n",
       "      <th>secondary_cleaner.state.floatbank5_b_level</th>\n",
       "      <th>secondary_cleaner.state.floatbank6_a_air</th>\n",
       "      <th>secondary_cleaner.state.floatbank6_a_level</th>\n",
       "    </tr>\n",
       "  </thead>\n",
       "  <tbody>\n",
       "    <tr>\n",
       "      <th>0</th>\n",
       "      <td>2016-01-15 00:00:00</td>\n",
       "      <td>6.055403</td>\n",
       "      <td>9.889648</td>\n",
       "      <td>5.507324</td>\n",
       "      <td>42.192020</td>\n",
       "      <td>70.541216</td>\n",
       "      <td>10.411962</td>\n",
       "      <td>0.895447</td>\n",
       "      <td>16.904297</td>\n",
       "      <td>2.143149</td>\n",
       "      <td>...</td>\n",
       "      <td>14.016835</td>\n",
       "      <td>-502.488007</td>\n",
       "      <td>12.099931</td>\n",
       "      <td>-504.715942</td>\n",
       "      <td>9.925633</td>\n",
       "      <td>-498.310211</td>\n",
       "      <td>8.079666</td>\n",
       "      <td>-500.470978</td>\n",
       "      <td>14.151341</td>\n",
       "      <td>-605.841980</td>\n",
       "    </tr>\n",
       "    <tr>\n",
       "      <th>1</th>\n",
       "      <td>2016-01-15 01:00:00</td>\n",
       "      <td>6.029369</td>\n",
       "      <td>9.968944</td>\n",
       "      <td>5.257781</td>\n",
       "      <td>42.701629</td>\n",
       "      <td>69.266198</td>\n",
       "      <td>10.462676</td>\n",
       "      <td>0.927452</td>\n",
       "      <td>16.634514</td>\n",
       "      <td>2.224930</td>\n",
       "      <td>...</td>\n",
       "      <td>13.992281</td>\n",
       "      <td>-505.503262</td>\n",
       "      <td>11.950531</td>\n",
       "      <td>-501.331529</td>\n",
       "      <td>10.039245</td>\n",
       "      <td>-500.169983</td>\n",
       "      <td>7.984757</td>\n",
       "      <td>-500.582168</td>\n",
       "      <td>13.998353</td>\n",
       "      <td>-599.787184</td>\n",
       "    </tr>\n",
       "    <tr>\n",
       "      <th>2</th>\n",
       "      <td>2016-01-15 02:00:00</td>\n",
       "      <td>6.055926</td>\n",
       "      <td>10.213995</td>\n",
       "      <td>5.383759</td>\n",
       "      <td>42.657501</td>\n",
       "      <td>68.116445</td>\n",
       "      <td>10.507046</td>\n",
       "      <td>0.953716</td>\n",
       "      <td>16.208849</td>\n",
       "      <td>2.257889</td>\n",
       "      <td>...</td>\n",
       "      <td>14.015015</td>\n",
       "      <td>-502.520901</td>\n",
       "      <td>11.912783</td>\n",
       "      <td>-501.133383</td>\n",
       "      <td>10.070913</td>\n",
       "      <td>-500.129135</td>\n",
       "      <td>8.013877</td>\n",
       "      <td>-500.517572</td>\n",
       "      <td>14.028663</td>\n",
       "      <td>-601.427363</td>\n",
       "    </tr>\n",
       "    <tr>\n",
       "      <th>3</th>\n",
       "      <td>2016-01-15 03:00:00</td>\n",
       "      <td>6.047977</td>\n",
       "      <td>9.977019</td>\n",
       "      <td>4.858634</td>\n",
       "      <td>42.689819</td>\n",
       "      <td>68.347543</td>\n",
       "      <td>10.422762</td>\n",
       "      <td>0.883763</td>\n",
       "      <td>16.532835</td>\n",
       "      <td>2.146849</td>\n",
       "      <td>...</td>\n",
       "      <td>14.036510</td>\n",
       "      <td>-500.857308</td>\n",
       "      <td>11.999550</td>\n",
       "      <td>-501.193686</td>\n",
       "      <td>9.970366</td>\n",
       "      <td>-499.201640</td>\n",
       "      <td>7.977324</td>\n",
       "      <td>-500.255908</td>\n",
       "      <td>14.005551</td>\n",
       "      <td>-599.996129</td>\n",
       "    </tr>\n",
       "    <tr>\n",
       "      <th>4</th>\n",
       "      <td>2016-01-15 04:00:00</td>\n",
       "      <td>6.148599</td>\n",
       "      <td>10.142511</td>\n",
       "      <td>4.939416</td>\n",
       "      <td>42.774141</td>\n",
       "      <td>66.927016</td>\n",
       "      <td>10.360302</td>\n",
       "      <td>0.792826</td>\n",
       "      <td>16.525686</td>\n",
       "      <td>2.055292</td>\n",
       "      <td>...</td>\n",
       "      <td>14.027298</td>\n",
       "      <td>-499.838632</td>\n",
       "      <td>11.953070</td>\n",
       "      <td>-501.053894</td>\n",
       "      <td>9.925709</td>\n",
       "      <td>-501.686727</td>\n",
       "      <td>7.894242</td>\n",
       "      <td>-500.356035</td>\n",
       "      <td>13.996647</td>\n",
       "      <td>-601.496691</td>\n",
       "    </tr>\n",
       "  </tbody>\n",
       "</table>\n",
       "<p>5 rows × 87 columns</p>\n",
       "</div>"
      ],
      "text/plain": [
       "                  date  final.output.concentrate_ag  \\\n",
       "0  2016-01-15 00:00:00                     6.055403   \n",
       "1  2016-01-15 01:00:00                     6.029369   \n",
       "2  2016-01-15 02:00:00                     6.055926   \n",
       "3  2016-01-15 03:00:00                     6.047977   \n",
       "4  2016-01-15 04:00:00                     6.148599   \n",
       "\n",
       "   final.output.concentrate_pb  final.output.concentrate_sol  \\\n",
       "0                     9.889648                      5.507324   \n",
       "1                     9.968944                      5.257781   \n",
       "2                    10.213995                      5.383759   \n",
       "3                     9.977019                      4.858634   \n",
       "4                    10.142511                      4.939416   \n",
       "\n",
       "   final.output.concentrate_au  final.output.recovery  final.output.tail_ag  \\\n",
       "0                    42.192020              70.541216             10.411962   \n",
       "1                    42.701629              69.266198             10.462676   \n",
       "2                    42.657501              68.116445             10.507046   \n",
       "3                    42.689819              68.347543             10.422762   \n",
       "4                    42.774141              66.927016             10.360302   \n",
       "\n",
       "   final.output.tail_pb  final.output.tail_sol  final.output.tail_au  ...  \\\n",
       "0              0.895447              16.904297              2.143149  ...   \n",
       "1              0.927452              16.634514              2.224930  ...   \n",
       "2              0.953716              16.208849              2.257889  ...   \n",
       "3              0.883763              16.532835              2.146849  ...   \n",
       "4              0.792826              16.525686              2.055292  ...   \n",
       "\n",
       "   secondary_cleaner.state.floatbank4_a_air  \\\n",
       "0                                 14.016835   \n",
       "1                                 13.992281   \n",
       "2                                 14.015015   \n",
       "3                                 14.036510   \n",
       "4                                 14.027298   \n",
       "\n",
       "   secondary_cleaner.state.floatbank4_a_level  \\\n",
       "0                                 -502.488007   \n",
       "1                                 -505.503262   \n",
       "2                                 -502.520901   \n",
       "3                                 -500.857308   \n",
       "4                                 -499.838632   \n",
       "\n",
       "   secondary_cleaner.state.floatbank4_b_air  \\\n",
       "0                                 12.099931   \n",
       "1                                 11.950531   \n",
       "2                                 11.912783   \n",
       "3                                 11.999550   \n",
       "4                                 11.953070   \n",
       "\n",
       "   secondary_cleaner.state.floatbank4_b_level  \\\n",
       "0                                 -504.715942   \n",
       "1                                 -501.331529   \n",
       "2                                 -501.133383   \n",
       "3                                 -501.193686   \n",
       "4                                 -501.053894   \n",
       "\n",
       "   secondary_cleaner.state.floatbank5_a_air  \\\n",
       "0                                  9.925633   \n",
       "1                                 10.039245   \n",
       "2                                 10.070913   \n",
       "3                                  9.970366   \n",
       "4                                  9.925709   \n",
       "\n",
       "   secondary_cleaner.state.floatbank5_a_level  \\\n",
       "0                                 -498.310211   \n",
       "1                                 -500.169983   \n",
       "2                                 -500.129135   \n",
       "3                                 -499.201640   \n",
       "4                                 -501.686727   \n",
       "\n",
       "   secondary_cleaner.state.floatbank5_b_air  \\\n",
       "0                                  8.079666   \n",
       "1                                  7.984757   \n",
       "2                                  8.013877   \n",
       "3                                  7.977324   \n",
       "4                                  7.894242   \n",
       "\n",
       "   secondary_cleaner.state.floatbank5_b_level  \\\n",
       "0                                 -500.470978   \n",
       "1                                 -500.582168   \n",
       "2                                 -500.517572   \n",
       "3                                 -500.255908   \n",
       "4                                 -500.356035   \n",
       "\n",
       "   secondary_cleaner.state.floatbank6_a_air  \\\n",
       "0                                 14.151341   \n",
       "1                                 13.998353   \n",
       "2                                 14.028663   \n",
       "3                                 14.005551   \n",
       "4                                 13.996647   \n",
       "\n",
       "   secondary_cleaner.state.floatbank6_a_level  \n",
       "0                                 -605.841980  \n",
       "1                                 -599.787184  \n",
       "2                                 -601.427363  \n",
       "3                                 -599.996129  \n",
       "4                                 -601.496691  \n",
       "\n",
       "[5 rows x 87 columns]"
      ]
     },
     "execution_count": 3,
     "metadata": {},
     "output_type": "execute_result"
    }
   ],
   "source": [
    "df_train.head()"
   ]
  },
  {
   "cell_type": "code",
   "execution_count": 4,
   "metadata": {
    "scrolled": true
   },
   "outputs": [
    {
     "name": "stdout",
     "output_type": "stream",
     "text": [
      "<class 'pandas.core.frame.DataFrame'>\n",
      "RangeIndex: 14149 entries, 0 to 14148\n",
      "Data columns (total 87 columns):\n",
      " #   Column                                              Non-Null Count  Dtype  \n",
      "---  ------                                              --------------  -----  \n",
      " 0   date                                                14149 non-null  object \n",
      " 1   final.output.concentrate_ag                         14148 non-null  float64\n",
      " 2   final.output.concentrate_pb                         14148 non-null  float64\n",
      " 3   final.output.concentrate_sol                        13938 non-null  float64\n",
      " 4   final.output.concentrate_au                         14149 non-null  float64\n",
      " 5   final.output.recovery                               14149 non-null  float64\n",
      " 6   final.output.tail_ag                                14149 non-null  float64\n",
      " 7   final.output.tail_pb                                14049 non-null  float64\n",
      " 8   final.output.tail_sol                               14144 non-null  float64\n",
      " 9   final.output.tail_au                                14149 non-null  float64\n",
      " 10  primary_cleaner.input.sulfate                       14129 non-null  float64\n",
      " 11  primary_cleaner.input.depressant                    14117 non-null  float64\n",
      " 12  primary_cleaner.input.feed_size                     14149 non-null  float64\n",
      " 13  primary_cleaner.input.xanthate                      14049 non-null  float64\n",
      " 14  primary_cleaner.output.concentrate_ag               14149 non-null  float64\n",
      " 15  primary_cleaner.output.concentrate_pb               14063 non-null  float64\n",
      " 16  primary_cleaner.output.concentrate_sol              13863 non-null  float64\n",
      " 17  primary_cleaner.output.concentrate_au               14149 non-null  float64\n",
      " 18  primary_cleaner.output.tail_ag                      14148 non-null  float64\n",
      " 19  primary_cleaner.output.tail_pb                      14134 non-null  float64\n",
      " 20  primary_cleaner.output.tail_sol                     14103 non-null  float64\n",
      " 21  primary_cleaner.output.tail_au                      14149 non-null  float64\n",
      " 22  primary_cleaner.state.floatbank8_a_air              14145 non-null  float64\n",
      " 23  primary_cleaner.state.floatbank8_a_level            14148 non-null  float64\n",
      " 24  primary_cleaner.state.floatbank8_b_air              14145 non-null  float64\n",
      " 25  primary_cleaner.state.floatbank8_b_level            14148 non-null  float64\n",
      " 26  primary_cleaner.state.floatbank8_c_air              14147 non-null  float64\n",
      " 27  primary_cleaner.state.floatbank8_c_level            14148 non-null  float64\n",
      " 28  primary_cleaner.state.floatbank8_d_air              14146 non-null  float64\n",
      " 29  primary_cleaner.state.floatbank8_d_level            14148 non-null  float64\n",
      " 30  rougher.calculation.sulfate_to_au_concentrate       14148 non-null  float64\n",
      " 31  rougher.calculation.floatbank10_sulfate_to_au_feed  14148 non-null  float64\n",
      " 32  rougher.calculation.floatbank11_sulfate_to_au_feed  14148 non-null  float64\n",
      " 33  rougher.calculation.au_pb_ratio                     14149 non-null  float64\n",
      " 34  rougher.input.feed_ag                               14149 non-null  float64\n",
      " 35  rougher.input.feed_pb                               14049 non-null  float64\n",
      " 36  rougher.input.feed_rate                             14141 non-null  float64\n",
      " 37  rougher.input.feed_size                             14005 non-null  float64\n",
      " 38  rougher.input.feed_sol                              14071 non-null  float64\n",
      " 39  rougher.input.feed_au                               14149 non-null  float64\n",
      " 40  rougher.input.floatbank10_sulfate                   14120 non-null  float64\n",
      " 41  rougher.input.floatbank10_xanthate                  14141 non-null  float64\n",
      " 42  rougher.input.floatbank11_sulfate                   14113 non-null  float64\n",
      " 43  rougher.input.floatbank11_xanthate                  13721 non-null  float64\n",
      " 44  rougher.output.concentrate_ag                       14149 non-null  float64\n",
      " 45  rougher.output.concentrate_pb                       14149 non-null  float64\n",
      " 46  rougher.output.concentrate_sol                      14127 non-null  float64\n",
      " 47  rougher.output.concentrate_au                       14149 non-null  float64\n",
      " 48  rougher.output.recovery                             14149 non-null  float64\n",
      " 49  rougher.output.tail_ag                              14148 non-null  float64\n",
      " 50  rougher.output.tail_pb                              14149 non-null  float64\n",
      " 51  rougher.output.tail_sol                             14149 non-null  float64\n",
      " 52  rougher.output.tail_au                              14149 non-null  float64\n",
      " 53  rougher.state.floatbank10_a_air                     14148 non-null  float64\n",
      " 54  rougher.state.floatbank10_a_level                   14148 non-null  float64\n",
      " 55  rougher.state.floatbank10_b_air                     14148 non-null  float64\n",
      " 56  rougher.state.floatbank10_b_level                   14148 non-null  float64\n",
      " 57  rougher.state.floatbank10_c_air                     14148 non-null  float64\n",
      " 58  rougher.state.floatbank10_c_level                   14148 non-null  float64\n",
      " 59  rougher.state.floatbank10_d_air                     14149 non-null  float64\n",
      " 60  rougher.state.floatbank10_d_level                   14149 non-null  float64\n",
      " 61  rougher.state.floatbank10_e_air                     13713 non-null  float64\n",
      " 62  rougher.state.floatbank10_e_level                   14149 non-null  float64\n",
      " 63  rougher.state.floatbank10_f_air                     14149 non-null  float64\n",
      " 64  rougher.state.floatbank10_f_level                   14149 non-null  float64\n",
      " 65  secondary_cleaner.output.tail_ag                    14147 non-null  float64\n",
      " 66  secondary_cleaner.output.tail_pb                    14139 non-null  float64\n",
      " 67  secondary_cleaner.output.tail_sol                   12544 non-null  float64\n",
      " 68  secondary_cleaner.output.tail_au                    14149 non-null  float64\n",
      " 69  secondary_cleaner.state.floatbank2_a_air            13932 non-null  float64\n",
      " 70  secondary_cleaner.state.floatbank2_a_level          14148 non-null  float64\n",
      " 71  secondary_cleaner.state.floatbank2_b_air            14128 non-null  float64\n",
      " 72  secondary_cleaner.state.floatbank2_b_level          14148 non-null  float64\n",
      " 73  secondary_cleaner.state.floatbank3_a_air            14145 non-null  float64\n",
      " 74  secondary_cleaner.state.floatbank3_a_level          14148 non-null  float64\n",
      " 75  secondary_cleaner.state.floatbank3_b_air            14148 non-null  float64\n",
      " 76  secondary_cleaner.state.floatbank3_b_level          14148 non-null  float64\n",
      " 77  secondary_cleaner.state.floatbank4_a_air            14143 non-null  float64\n",
      " 78  secondary_cleaner.state.floatbank4_a_level          14148 non-null  float64\n",
      " 79  secondary_cleaner.state.floatbank4_b_air            14148 non-null  float64\n",
      " 80  secondary_cleaner.state.floatbank4_b_level          14148 non-null  float64\n",
      " 81  secondary_cleaner.state.floatbank5_a_air            14148 non-null  float64\n",
      " 82  secondary_cleaner.state.floatbank5_a_level          14148 non-null  float64\n",
      " 83  secondary_cleaner.state.floatbank5_b_air            14148 non-null  float64\n",
      " 84  secondary_cleaner.state.floatbank5_b_level          14148 non-null  float64\n",
      " 85  secondary_cleaner.state.floatbank6_a_air            14147 non-null  float64\n",
      " 86  secondary_cleaner.state.floatbank6_a_level          14148 non-null  float64\n",
      "dtypes: float64(86), object(1)\n",
      "memory usage: 9.4+ MB\n"
     ]
    }
   ],
   "source": [
    "df_train.info()"
   ]
  },
  {
   "cell_type": "markdown",
   "metadata": {},
   "source": [
    "Загрузим тестовую выборку."
   ]
  },
  {
   "cell_type": "code",
   "execution_count": 5,
   "metadata": {},
   "outputs": [],
   "source": [
    "df_test = pd.read_csv('gold_recovery_test_new.csv')"
   ]
  },
  {
   "cell_type": "markdown",
   "metadata": {},
   "source": [
    "Взглянем на первые пять строк."
   ]
  },
  {
   "cell_type": "code",
   "execution_count": 6,
   "metadata": {
    "scrolled": true
   },
   "outputs": [
    {
     "data": {
      "text/html": [
       "<div>\n",
       "<style scoped>\n",
       "    .dataframe tbody tr th:only-of-type {\n",
       "        vertical-align: middle;\n",
       "    }\n",
       "\n",
       "    .dataframe tbody tr th {\n",
       "        vertical-align: top;\n",
       "    }\n",
       "\n",
       "    .dataframe thead th {\n",
       "        text-align: right;\n",
       "    }\n",
       "</style>\n",
       "<table border=\"1\" class=\"dataframe\">\n",
       "  <thead>\n",
       "    <tr style=\"text-align: right;\">\n",
       "      <th></th>\n",
       "      <th>date</th>\n",
       "      <th>primary_cleaner.input.sulfate</th>\n",
       "      <th>primary_cleaner.input.depressant</th>\n",
       "      <th>primary_cleaner.input.feed_size</th>\n",
       "      <th>primary_cleaner.input.xanthate</th>\n",
       "      <th>primary_cleaner.state.floatbank8_a_air</th>\n",
       "      <th>primary_cleaner.state.floatbank8_a_level</th>\n",
       "      <th>primary_cleaner.state.floatbank8_b_air</th>\n",
       "      <th>primary_cleaner.state.floatbank8_b_level</th>\n",
       "      <th>primary_cleaner.state.floatbank8_c_air</th>\n",
       "      <th>...</th>\n",
       "      <th>secondary_cleaner.state.floatbank4_a_air</th>\n",
       "      <th>secondary_cleaner.state.floatbank4_a_level</th>\n",
       "      <th>secondary_cleaner.state.floatbank4_b_air</th>\n",
       "      <th>secondary_cleaner.state.floatbank4_b_level</th>\n",
       "      <th>secondary_cleaner.state.floatbank5_a_air</th>\n",
       "      <th>secondary_cleaner.state.floatbank5_a_level</th>\n",
       "      <th>secondary_cleaner.state.floatbank5_b_air</th>\n",
       "      <th>secondary_cleaner.state.floatbank5_b_level</th>\n",
       "      <th>secondary_cleaner.state.floatbank6_a_air</th>\n",
       "      <th>secondary_cleaner.state.floatbank6_a_level</th>\n",
       "    </tr>\n",
       "  </thead>\n",
       "  <tbody>\n",
       "    <tr>\n",
       "      <th>0</th>\n",
       "      <td>2016-09-01 00:59:59</td>\n",
       "      <td>210.800909</td>\n",
       "      <td>14.993118</td>\n",
       "      <td>8.080000</td>\n",
       "      <td>1.005021</td>\n",
       "      <td>1398.981301</td>\n",
       "      <td>-500.225577</td>\n",
       "      <td>1399.144926</td>\n",
       "      <td>-499.919735</td>\n",
       "      <td>1400.102998</td>\n",
       "      <td>...</td>\n",
       "      <td>12.023554</td>\n",
       "      <td>-497.795834</td>\n",
       "      <td>8.016656</td>\n",
       "      <td>-501.289139</td>\n",
       "      <td>7.946562</td>\n",
       "      <td>-432.317850</td>\n",
       "      <td>4.872511</td>\n",
       "      <td>-500.037437</td>\n",
       "      <td>26.705889</td>\n",
       "      <td>-499.709414</td>\n",
       "    </tr>\n",
       "    <tr>\n",
       "      <th>1</th>\n",
       "      <td>2016-09-01 01:59:59</td>\n",
       "      <td>215.392455</td>\n",
       "      <td>14.987471</td>\n",
       "      <td>8.080000</td>\n",
       "      <td>0.990469</td>\n",
       "      <td>1398.777912</td>\n",
       "      <td>-500.057435</td>\n",
       "      <td>1398.055362</td>\n",
       "      <td>-499.778182</td>\n",
       "      <td>1396.151033</td>\n",
       "      <td>...</td>\n",
       "      <td>12.058140</td>\n",
       "      <td>-498.695773</td>\n",
       "      <td>8.130979</td>\n",
       "      <td>-499.634209</td>\n",
       "      <td>7.958270</td>\n",
       "      <td>-525.839648</td>\n",
       "      <td>4.878850</td>\n",
       "      <td>-500.162375</td>\n",
       "      <td>25.019940</td>\n",
       "      <td>-499.819438</td>\n",
       "    </tr>\n",
       "    <tr>\n",
       "      <th>2</th>\n",
       "      <td>2016-09-01 02:59:59</td>\n",
       "      <td>215.259946</td>\n",
       "      <td>12.884934</td>\n",
       "      <td>7.786667</td>\n",
       "      <td>0.996043</td>\n",
       "      <td>1398.493666</td>\n",
       "      <td>-500.868360</td>\n",
       "      <td>1398.860436</td>\n",
       "      <td>-499.764529</td>\n",
       "      <td>1398.075709</td>\n",
       "      <td>...</td>\n",
       "      <td>11.962366</td>\n",
       "      <td>-498.767484</td>\n",
       "      <td>8.096893</td>\n",
       "      <td>-500.827423</td>\n",
       "      <td>8.071056</td>\n",
       "      <td>-500.801673</td>\n",
       "      <td>4.905125</td>\n",
       "      <td>-499.828510</td>\n",
       "      <td>24.994862</td>\n",
       "      <td>-500.622559</td>\n",
       "    </tr>\n",
       "    <tr>\n",
       "      <th>3</th>\n",
       "      <td>2016-09-01 03:59:59</td>\n",
       "      <td>215.336236</td>\n",
       "      <td>12.006805</td>\n",
       "      <td>7.640000</td>\n",
       "      <td>0.863514</td>\n",
       "      <td>1399.618111</td>\n",
       "      <td>-498.863574</td>\n",
       "      <td>1397.440120</td>\n",
       "      <td>-499.211024</td>\n",
       "      <td>1400.129303</td>\n",
       "      <td>...</td>\n",
       "      <td>12.033091</td>\n",
       "      <td>-498.350935</td>\n",
       "      <td>8.074946</td>\n",
       "      <td>-499.474407</td>\n",
       "      <td>7.897085</td>\n",
       "      <td>-500.868509</td>\n",
       "      <td>4.931400</td>\n",
       "      <td>-499.963623</td>\n",
       "      <td>24.948919</td>\n",
       "      <td>-498.709987</td>\n",
       "    </tr>\n",
       "    <tr>\n",
       "      <th>4</th>\n",
       "      <td>2016-09-01 04:59:59</td>\n",
       "      <td>199.099327</td>\n",
       "      <td>10.682530</td>\n",
       "      <td>7.530000</td>\n",
       "      <td>0.805575</td>\n",
       "      <td>1401.268123</td>\n",
       "      <td>-500.808305</td>\n",
       "      <td>1398.128818</td>\n",
       "      <td>-499.504543</td>\n",
       "      <td>1402.172226</td>\n",
       "      <td>...</td>\n",
       "      <td>12.025367</td>\n",
       "      <td>-500.786497</td>\n",
       "      <td>8.054678</td>\n",
       "      <td>-500.397500</td>\n",
       "      <td>8.107890</td>\n",
       "      <td>-509.526725</td>\n",
       "      <td>4.957674</td>\n",
       "      <td>-500.360026</td>\n",
       "      <td>25.003331</td>\n",
       "      <td>-500.856333</td>\n",
       "    </tr>\n",
       "  </tbody>\n",
       "</table>\n",
       "<p>5 rows × 53 columns</p>\n",
       "</div>"
      ],
      "text/plain": [
       "                  date  primary_cleaner.input.sulfate  \\\n",
       "0  2016-09-01 00:59:59                     210.800909   \n",
       "1  2016-09-01 01:59:59                     215.392455   \n",
       "2  2016-09-01 02:59:59                     215.259946   \n",
       "3  2016-09-01 03:59:59                     215.336236   \n",
       "4  2016-09-01 04:59:59                     199.099327   \n",
       "\n",
       "   primary_cleaner.input.depressant  primary_cleaner.input.feed_size  \\\n",
       "0                         14.993118                         8.080000   \n",
       "1                         14.987471                         8.080000   \n",
       "2                         12.884934                         7.786667   \n",
       "3                         12.006805                         7.640000   \n",
       "4                         10.682530                         7.530000   \n",
       "\n",
       "   primary_cleaner.input.xanthate  primary_cleaner.state.floatbank8_a_air  \\\n",
       "0                        1.005021                             1398.981301   \n",
       "1                        0.990469                             1398.777912   \n",
       "2                        0.996043                             1398.493666   \n",
       "3                        0.863514                             1399.618111   \n",
       "4                        0.805575                             1401.268123   \n",
       "\n",
       "   primary_cleaner.state.floatbank8_a_level  \\\n",
       "0                               -500.225577   \n",
       "1                               -500.057435   \n",
       "2                               -500.868360   \n",
       "3                               -498.863574   \n",
       "4                               -500.808305   \n",
       "\n",
       "   primary_cleaner.state.floatbank8_b_air  \\\n",
       "0                             1399.144926   \n",
       "1                             1398.055362   \n",
       "2                             1398.860436   \n",
       "3                             1397.440120   \n",
       "4                             1398.128818   \n",
       "\n",
       "   primary_cleaner.state.floatbank8_b_level  \\\n",
       "0                               -499.919735   \n",
       "1                               -499.778182   \n",
       "2                               -499.764529   \n",
       "3                               -499.211024   \n",
       "4                               -499.504543   \n",
       "\n",
       "   primary_cleaner.state.floatbank8_c_air  ...  \\\n",
       "0                             1400.102998  ...   \n",
       "1                             1396.151033  ...   \n",
       "2                             1398.075709  ...   \n",
       "3                             1400.129303  ...   \n",
       "4                             1402.172226  ...   \n",
       "\n",
       "   secondary_cleaner.state.floatbank4_a_air  \\\n",
       "0                                 12.023554   \n",
       "1                                 12.058140   \n",
       "2                                 11.962366   \n",
       "3                                 12.033091   \n",
       "4                                 12.025367   \n",
       "\n",
       "   secondary_cleaner.state.floatbank4_a_level  \\\n",
       "0                                 -497.795834   \n",
       "1                                 -498.695773   \n",
       "2                                 -498.767484   \n",
       "3                                 -498.350935   \n",
       "4                                 -500.786497   \n",
       "\n",
       "   secondary_cleaner.state.floatbank4_b_air  \\\n",
       "0                                  8.016656   \n",
       "1                                  8.130979   \n",
       "2                                  8.096893   \n",
       "3                                  8.074946   \n",
       "4                                  8.054678   \n",
       "\n",
       "   secondary_cleaner.state.floatbank4_b_level  \\\n",
       "0                                 -501.289139   \n",
       "1                                 -499.634209   \n",
       "2                                 -500.827423   \n",
       "3                                 -499.474407   \n",
       "4                                 -500.397500   \n",
       "\n",
       "   secondary_cleaner.state.floatbank5_a_air  \\\n",
       "0                                  7.946562   \n",
       "1                                  7.958270   \n",
       "2                                  8.071056   \n",
       "3                                  7.897085   \n",
       "4                                  8.107890   \n",
       "\n",
       "   secondary_cleaner.state.floatbank5_a_level  \\\n",
       "0                                 -432.317850   \n",
       "1                                 -525.839648   \n",
       "2                                 -500.801673   \n",
       "3                                 -500.868509   \n",
       "4                                 -509.526725   \n",
       "\n",
       "   secondary_cleaner.state.floatbank5_b_air  \\\n",
       "0                                  4.872511   \n",
       "1                                  4.878850   \n",
       "2                                  4.905125   \n",
       "3                                  4.931400   \n",
       "4                                  4.957674   \n",
       "\n",
       "   secondary_cleaner.state.floatbank5_b_level  \\\n",
       "0                                 -500.037437   \n",
       "1                                 -500.162375   \n",
       "2                                 -499.828510   \n",
       "3                                 -499.963623   \n",
       "4                                 -500.360026   \n",
       "\n",
       "   secondary_cleaner.state.floatbank6_a_air  \\\n",
       "0                                 26.705889   \n",
       "1                                 25.019940   \n",
       "2                                 24.994862   \n",
       "3                                 24.948919   \n",
       "4                                 25.003331   \n",
       "\n",
       "   secondary_cleaner.state.floatbank6_a_level  \n",
       "0                                 -499.709414  \n",
       "1                                 -499.819438  \n",
       "2                                 -500.622559  \n",
       "3                                 -498.709987  \n",
       "4                                 -500.856333  \n",
       "\n",
       "[5 rows x 53 columns]"
      ]
     },
     "execution_count": 6,
     "metadata": {},
     "output_type": "execute_result"
    }
   ],
   "source": [
    "df_test.head()"
   ]
  },
  {
   "cell_type": "code",
   "execution_count": 7,
   "metadata": {
    "scrolled": true
   },
   "outputs": [
    {
     "name": "stdout",
     "output_type": "stream",
     "text": [
      "<class 'pandas.core.frame.DataFrame'>\n",
      "RangeIndex: 5290 entries, 0 to 5289\n",
      "Data columns (total 53 columns):\n",
      " #   Column                                      Non-Null Count  Dtype  \n",
      "---  ------                                      --------------  -----  \n",
      " 0   date                                        5290 non-null   object \n",
      " 1   primary_cleaner.input.sulfate               5286 non-null   float64\n",
      " 2   primary_cleaner.input.depressant            5285 non-null   float64\n",
      " 3   primary_cleaner.input.feed_size             5290 non-null   float64\n",
      " 4   primary_cleaner.input.xanthate              5286 non-null   float64\n",
      " 5   primary_cleaner.state.floatbank8_a_air      5290 non-null   float64\n",
      " 6   primary_cleaner.state.floatbank8_a_level    5290 non-null   float64\n",
      " 7   primary_cleaner.state.floatbank8_b_air      5290 non-null   float64\n",
      " 8   primary_cleaner.state.floatbank8_b_level    5290 non-null   float64\n",
      " 9   primary_cleaner.state.floatbank8_c_air      5290 non-null   float64\n",
      " 10  primary_cleaner.state.floatbank8_c_level    5290 non-null   float64\n",
      " 11  primary_cleaner.state.floatbank8_d_air      5290 non-null   float64\n",
      " 12  primary_cleaner.state.floatbank8_d_level    5290 non-null   float64\n",
      " 13  rougher.input.feed_ag                       5290 non-null   float64\n",
      " 14  rougher.input.feed_pb                       5290 non-null   float64\n",
      " 15  rougher.input.feed_rate                     5287 non-null   float64\n",
      " 16  rougher.input.feed_size                     5289 non-null   float64\n",
      " 17  rougher.input.feed_sol                      5269 non-null   float64\n",
      " 18  rougher.input.feed_au                       5290 non-null   float64\n",
      " 19  rougher.input.floatbank10_sulfate           5285 non-null   float64\n",
      " 20  rougher.input.floatbank10_xanthate          5290 non-null   float64\n",
      " 21  rougher.input.floatbank11_sulfate           5282 non-null   float64\n",
      " 22  rougher.input.floatbank11_xanthate          5265 non-null   float64\n",
      " 23  rougher.state.floatbank10_a_air             5290 non-null   float64\n",
      " 24  rougher.state.floatbank10_a_level           5290 non-null   float64\n",
      " 25  rougher.state.floatbank10_b_air             5290 non-null   float64\n",
      " 26  rougher.state.floatbank10_b_level           5290 non-null   float64\n",
      " 27  rougher.state.floatbank10_c_air             5290 non-null   float64\n",
      " 28  rougher.state.floatbank10_c_level           5290 non-null   float64\n",
      " 29  rougher.state.floatbank10_d_air             5290 non-null   float64\n",
      " 30  rougher.state.floatbank10_d_level           5290 non-null   float64\n",
      " 31  rougher.state.floatbank10_e_air             5290 non-null   float64\n",
      " 32  rougher.state.floatbank10_e_level           5290 non-null   float64\n",
      " 33  rougher.state.floatbank10_f_air             5290 non-null   float64\n",
      " 34  rougher.state.floatbank10_f_level           5290 non-null   float64\n",
      " 35  secondary_cleaner.state.floatbank2_a_air    5287 non-null   float64\n",
      " 36  secondary_cleaner.state.floatbank2_a_level  5290 non-null   float64\n",
      " 37  secondary_cleaner.state.floatbank2_b_air    5288 non-null   float64\n",
      " 38  secondary_cleaner.state.floatbank2_b_level  5290 non-null   float64\n",
      " 39  secondary_cleaner.state.floatbank3_a_air    5281 non-null   float64\n",
      " 40  secondary_cleaner.state.floatbank3_a_level  5290 non-null   float64\n",
      " 41  secondary_cleaner.state.floatbank3_b_air    5290 non-null   float64\n",
      " 42  secondary_cleaner.state.floatbank3_b_level  5290 non-null   float64\n",
      " 43  secondary_cleaner.state.floatbank4_a_air    5290 non-null   float64\n",
      " 44  secondary_cleaner.state.floatbank4_a_level  5290 non-null   float64\n",
      " 45  secondary_cleaner.state.floatbank4_b_air    5290 non-null   float64\n",
      " 46  secondary_cleaner.state.floatbank4_b_level  5290 non-null   float64\n",
      " 47  secondary_cleaner.state.floatbank5_a_air    5290 non-null   float64\n",
      " 48  secondary_cleaner.state.floatbank5_a_level  5290 non-null   float64\n",
      " 49  secondary_cleaner.state.floatbank5_b_air    5290 non-null   float64\n",
      " 50  secondary_cleaner.state.floatbank5_b_level  5290 non-null   float64\n",
      " 51  secondary_cleaner.state.floatbank6_a_air    5290 non-null   float64\n",
      " 52  secondary_cleaner.state.floatbank6_a_level  5290 non-null   float64\n",
      "dtypes: float64(52), object(1)\n",
      "memory usage: 2.1+ MB\n"
     ]
    }
   ],
   "source": [
    "df_test.info()"
   ]
  },
  {
   "cell_type": "markdown",
   "metadata": {},
   "source": [
    "Загрузим исходные данные."
   ]
  },
  {
   "cell_type": "code",
   "execution_count": 8,
   "metadata": {},
   "outputs": [],
   "source": [
    "df = pd.read_csv('gold_recovery_full_new.csv')"
   ]
  },
  {
   "cell_type": "markdown",
   "metadata": {},
   "source": [
    "Посмотрим на первые 5 строк."
   ]
  },
  {
   "cell_type": "code",
   "execution_count": 9,
   "metadata": {},
   "outputs": [
    {
     "data": {
      "text/html": [
       "<div>\n",
       "<style scoped>\n",
       "    .dataframe tbody tr th:only-of-type {\n",
       "        vertical-align: middle;\n",
       "    }\n",
       "\n",
       "    .dataframe tbody tr th {\n",
       "        vertical-align: top;\n",
       "    }\n",
       "\n",
       "    .dataframe thead th {\n",
       "        text-align: right;\n",
       "    }\n",
       "</style>\n",
       "<table border=\"1\" class=\"dataframe\">\n",
       "  <thead>\n",
       "    <tr style=\"text-align: right;\">\n",
       "      <th></th>\n",
       "      <th>date</th>\n",
       "      <th>final.output.concentrate_ag</th>\n",
       "      <th>final.output.concentrate_pb</th>\n",
       "      <th>final.output.concentrate_sol</th>\n",
       "      <th>final.output.concentrate_au</th>\n",
       "      <th>final.output.recovery</th>\n",
       "      <th>final.output.tail_ag</th>\n",
       "      <th>final.output.tail_pb</th>\n",
       "      <th>final.output.tail_sol</th>\n",
       "      <th>final.output.tail_au</th>\n",
       "      <th>...</th>\n",
       "      <th>secondary_cleaner.state.floatbank4_a_air</th>\n",
       "      <th>secondary_cleaner.state.floatbank4_a_level</th>\n",
       "      <th>secondary_cleaner.state.floatbank4_b_air</th>\n",
       "      <th>secondary_cleaner.state.floatbank4_b_level</th>\n",
       "      <th>secondary_cleaner.state.floatbank5_a_air</th>\n",
       "      <th>secondary_cleaner.state.floatbank5_a_level</th>\n",
       "      <th>secondary_cleaner.state.floatbank5_b_air</th>\n",
       "      <th>secondary_cleaner.state.floatbank5_b_level</th>\n",
       "      <th>secondary_cleaner.state.floatbank6_a_air</th>\n",
       "      <th>secondary_cleaner.state.floatbank6_a_level</th>\n",
       "    </tr>\n",
       "  </thead>\n",
       "  <tbody>\n",
       "    <tr>\n",
       "      <th>0</th>\n",
       "      <td>2016-01-15 00:00:00</td>\n",
       "      <td>6.055403</td>\n",
       "      <td>9.889648</td>\n",
       "      <td>5.507324</td>\n",
       "      <td>42.192020</td>\n",
       "      <td>70.541216</td>\n",
       "      <td>10.411962</td>\n",
       "      <td>0.895447</td>\n",
       "      <td>16.904297</td>\n",
       "      <td>2.143149</td>\n",
       "      <td>...</td>\n",
       "      <td>14.016835</td>\n",
       "      <td>-502.488007</td>\n",
       "      <td>12.099931</td>\n",
       "      <td>-504.715942</td>\n",
       "      <td>9.925633</td>\n",
       "      <td>-498.310211</td>\n",
       "      <td>8.079666</td>\n",
       "      <td>-500.470978</td>\n",
       "      <td>14.151341</td>\n",
       "      <td>-605.841980</td>\n",
       "    </tr>\n",
       "    <tr>\n",
       "      <th>1</th>\n",
       "      <td>2016-01-15 01:00:00</td>\n",
       "      <td>6.029369</td>\n",
       "      <td>9.968944</td>\n",
       "      <td>5.257781</td>\n",
       "      <td>42.701629</td>\n",
       "      <td>69.266198</td>\n",
       "      <td>10.462676</td>\n",
       "      <td>0.927452</td>\n",
       "      <td>16.634514</td>\n",
       "      <td>2.224930</td>\n",
       "      <td>...</td>\n",
       "      <td>13.992281</td>\n",
       "      <td>-505.503262</td>\n",
       "      <td>11.950531</td>\n",
       "      <td>-501.331529</td>\n",
       "      <td>10.039245</td>\n",
       "      <td>-500.169983</td>\n",
       "      <td>7.984757</td>\n",
       "      <td>-500.582168</td>\n",
       "      <td>13.998353</td>\n",
       "      <td>-599.787184</td>\n",
       "    </tr>\n",
       "    <tr>\n",
       "      <th>2</th>\n",
       "      <td>2016-01-15 02:00:00</td>\n",
       "      <td>6.055926</td>\n",
       "      <td>10.213995</td>\n",
       "      <td>5.383759</td>\n",
       "      <td>42.657501</td>\n",
       "      <td>68.116445</td>\n",
       "      <td>10.507046</td>\n",
       "      <td>0.953716</td>\n",
       "      <td>16.208849</td>\n",
       "      <td>2.257889</td>\n",
       "      <td>...</td>\n",
       "      <td>14.015015</td>\n",
       "      <td>-502.520901</td>\n",
       "      <td>11.912783</td>\n",
       "      <td>-501.133383</td>\n",
       "      <td>10.070913</td>\n",
       "      <td>-500.129135</td>\n",
       "      <td>8.013877</td>\n",
       "      <td>-500.517572</td>\n",
       "      <td>14.028663</td>\n",
       "      <td>-601.427363</td>\n",
       "    </tr>\n",
       "    <tr>\n",
       "      <th>3</th>\n",
       "      <td>2016-01-15 03:00:00</td>\n",
       "      <td>6.047977</td>\n",
       "      <td>9.977019</td>\n",
       "      <td>4.858634</td>\n",
       "      <td>42.689819</td>\n",
       "      <td>68.347543</td>\n",
       "      <td>10.422762</td>\n",
       "      <td>0.883763</td>\n",
       "      <td>16.532835</td>\n",
       "      <td>2.146849</td>\n",
       "      <td>...</td>\n",
       "      <td>14.036510</td>\n",
       "      <td>-500.857308</td>\n",
       "      <td>11.999550</td>\n",
       "      <td>-501.193686</td>\n",
       "      <td>9.970366</td>\n",
       "      <td>-499.201640</td>\n",
       "      <td>7.977324</td>\n",
       "      <td>-500.255908</td>\n",
       "      <td>14.005551</td>\n",
       "      <td>-599.996129</td>\n",
       "    </tr>\n",
       "    <tr>\n",
       "      <th>4</th>\n",
       "      <td>2016-01-15 04:00:00</td>\n",
       "      <td>6.148599</td>\n",
       "      <td>10.142511</td>\n",
       "      <td>4.939416</td>\n",
       "      <td>42.774141</td>\n",
       "      <td>66.927016</td>\n",
       "      <td>10.360302</td>\n",
       "      <td>0.792826</td>\n",
       "      <td>16.525686</td>\n",
       "      <td>2.055292</td>\n",
       "      <td>...</td>\n",
       "      <td>14.027298</td>\n",
       "      <td>-499.838632</td>\n",
       "      <td>11.953070</td>\n",
       "      <td>-501.053894</td>\n",
       "      <td>9.925709</td>\n",
       "      <td>-501.686727</td>\n",
       "      <td>7.894242</td>\n",
       "      <td>-500.356035</td>\n",
       "      <td>13.996647</td>\n",
       "      <td>-601.496691</td>\n",
       "    </tr>\n",
       "  </tbody>\n",
       "</table>\n",
       "<p>5 rows × 87 columns</p>\n",
       "</div>"
      ],
      "text/plain": [
       "                  date  final.output.concentrate_ag  \\\n",
       "0  2016-01-15 00:00:00                     6.055403   \n",
       "1  2016-01-15 01:00:00                     6.029369   \n",
       "2  2016-01-15 02:00:00                     6.055926   \n",
       "3  2016-01-15 03:00:00                     6.047977   \n",
       "4  2016-01-15 04:00:00                     6.148599   \n",
       "\n",
       "   final.output.concentrate_pb  final.output.concentrate_sol  \\\n",
       "0                     9.889648                      5.507324   \n",
       "1                     9.968944                      5.257781   \n",
       "2                    10.213995                      5.383759   \n",
       "3                     9.977019                      4.858634   \n",
       "4                    10.142511                      4.939416   \n",
       "\n",
       "   final.output.concentrate_au  final.output.recovery  final.output.tail_ag  \\\n",
       "0                    42.192020              70.541216             10.411962   \n",
       "1                    42.701629              69.266198             10.462676   \n",
       "2                    42.657501              68.116445             10.507046   \n",
       "3                    42.689819              68.347543             10.422762   \n",
       "4                    42.774141              66.927016             10.360302   \n",
       "\n",
       "   final.output.tail_pb  final.output.tail_sol  final.output.tail_au  ...  \\\n",
       "0              0.895447              16.904297              2.143149  ...   \n",
       "1              0.927452              16.634514              2.224930  ...   \n",
       "2              0.953716              16.208849              2.257889  ...   \n",
       "3              0.883763              16.532835              2.146849  ...   \n",
       "4              0.792826              16.525686              2.055292  ...   \n",
       "\n",
       "   secondary_cleaner.state.floatbank4_a_air  \\\n",
       "0                                 14.016835   \n",
       "1                                 13.992281   \n",
       "2                                 14.015015   \n",
       "3                                 14.036510   \n",
       "4                                 14.027298   \n",
       "\n",
       "   secondary_cleaner.state.floatbank4_a_level  \\\n",
       "0                                 -502.488007   \n",
       "1                                 -505.503262   \n",
       "2                                 -502.520901   \n",
       "3                                 -500.857308   \n",
       "4                                 -499.838632   \n",
       "\n",
       "   secondary_cleaner.state.floatbank4_b_air  \\\n",
       "0                                 12.099931   \n",
       "1                                 11.950531   \n",
       "2                                 11.912783   \n",
       "3                                 11.999550   \n",
       "4                                 11.953070   \n",
       "\n",
       "   secondary_cleaner.state.floatbank4_b_level  \\\n",
       "0                                 -504.715942   \n",
       "1                                 -501.331529   \n",
       "2                                 -501.133383   \n",
       "3                                 -501.193686   \n",
       "4                                 -501.053894   \n",
       "\n",
       "   secondary_cleaner.state.floatbank5_a_air  \\\n",
       "0                                  9.925633   \n",
       "1                                 10.039245   \n",
       "2                                 10.070913   \n",
       "3                                  9.970366   \n",
       "4                                  9.925709   \n",
       "\n",
       "   secondary_cleaner.state.floatbank5_a_level  \\\n",
       "0                                 -498.310211   \n",
       "1                                 -500.169983   \n",
       "2                                 -500.129135   \n",
       "3                                 -499.201640   \n",
       "4                                 -501.686727   \n",
       "\n",
       "   secondary_cleaner.state.floatbank5_b_air  \\\n",
       "0                                  8.079666   \n",
       "1                                  7.984757   \n",
       "2                                  8.013877   \n",
       "3                                  7.977324   \n",
       "4                                  7.894242   \n",
       "\n",
       "   secondary_cleaner.state.floatbank5_b_level  \\\n",
       "0                                 -500.470978   \n",
       "1                                 -500.582168   \n",
       "2                                 -500.517572   \n",
       "3                                 -500.255908   \n",
       "4                                 -500.356035   \n",
       "\n",
       "   secondary_cleaner.state.floatbank6_a_air  \\\n",
       "0                                 14.151341   \n",
       "1                                 13.998353   \n",
       "2                                 14.028663   \n",
       "3                                 14.005551   \n",
       "4                                 13.996647   \n",
       "\n",
       "   secondary_cleaner.state.floatbank6_a_level  \n",
       "0                                 -605.841980  \n",
       "1                                 -599.787184  \n",
       "2                                 -601.427363  \n",
       "3                                 -599.996129  \n",
       "4                                 -601.496691  \n",
       "\n",
       "[5 rows x 87 columns]"
      ]
     },
     "execution_count": 9,
     "metadata": {},
     "output_type": "execute_result"
    }
   ],
   "source": [
    "df.head()"
   ]
  },
  {
   "cell_type": "code",
   "execution_count": 10,
   "metadata": {
    "scrolled": true
   },
   "outputs": [
    {
     "name": "stdout",
     "output_type": "stream",
     "text": [
      "<class 'pandas.core.frame.DataFrame'>\n",
      "RangeIndex: 19439 entries, 0 to 19438\n",
      "Data columns (total 87 columns):\n",
      " #   Column                                              Non-Null Count  Dtype  \n",
      "---  ------                                              --------------  -----  \n",
      " 0   date                                                19439 non-null  object \n",
      " 1   final.output.concentrate_ag                         19438 non-null  float64\n",
      " 2   final.output.concentrate_pb                         19438 non-null  float64\n",
      " 3   final.output.concentrate_sol                        19228 non-null  float64\n",
      " 4   final.output.concentrate_au                         19439 non-null  float64\n",
      " 5   final.output.recovery                               19439 non-null  float64\n",
      " 6   final.output.tail_ag                                19438 non-null  float64\n",
      " 7   final.output.tail_pb                                19338 non-null  float64\n",
      " 8   final.output.tail_sol                               19433 non-null  float64\n",
      " 9   final.output.tail_au                                19439 non-null  float64\n",
      " 10  primary_cleaner.input.sulfate                       19415 non-null  float64\n",
      " 11  primary_cleaner.input.depressant                    19402 non-null  float64\n",
      " 12  primary_cleaner.input.feed_size                     19439 non-null  float64\n",
      " 13  primary_cleaner.input.xanthate                      19335 non-null  float64\n",
      " 14  primary_cleaner.output.concentrate_ag               19439 non-null  float64\n",
      " 15  primary_cleaner.output.concentrate_pb               19323 non-null  float64\n",
      " 16  primary_cleaner.output.concentrate_sol              19069 non-null  float64\n",
      " 17  primary_cleaner.output.concentrate_au               19439 non-null  float64\n",
      " 18  primary_cleaner.output.tail_ag                      19435 non-null  float64\n",
      " 19  primary_cleaner.output.tail_pb                      19418 non-null  float64\n",
      " 20  primary_cleaner.output.tail_sol                     19377 non-null  float64\n",
      " 21  primary_cleaner.output.tail_au                      19439 non-null  float64\n",
      " 22  primary_cleaner.state.floatbank8_a_air              19435 non-null  float64\n",
      " 23  primary_cleaner.state.floatbank8_a_level            19438 non-null  float64\n",
      " 24  primary_cleaner.state.floatbank8_b_air              19435 non-null  float64\n",
      " 25  primary_cleaner.state.floatbank8_b_level            19438 non-null  float64\n",
      " 26  primary_cleaner.state.floatbank8_c_air              19437 non-null  float64\n",
      " 27  primary_cleaner.state.floatbank8_c_level            19438 non-null  float64\n",
      " 28  primary_cleaner.state.floatbank8_d_air              19436 non-null  float64\n",
      " 29  primary_cleaner.state.floatbank8_d_level            19438 non-null  float64\n",
      " 30  rougher.calculation.sulfate_to_au_concentrate       19437 non-null  float64\n",
      " 31  rougher.calculation.floatbank10_sulfate_to_au_feed  19437 non-null  float64\n",
      " 32  rougher.calculation.floatbank11_sulfate_to_au_feed  19437 non-null  float64\n",
      " 33  rougher.calculation.au_pb_ratio                     19439 non-null  float64\n",
      " 34  rougher.input.feed_ag                               19439 non-null  float64\n",
      " 35  rougher.input.feed_pb                               19339 non-null  float64\n",
      " 36  rougher.input.feed_rate                             19428 non-null  float64\n",
      " 37  rougher.input.feed_size                             19294 non-null  float64\n",
      " 38  rougher.input.feed_sol                              19340 non-null  float64\n",
      " 39  rougher.input.feed_au                               19439 non-null  float64\n",
      " 40  rougher.input.floatbank10_sulfate                   19405 non-null  float64\n",
      " 41  rougher.input.floatbank10_xanthate                  19431 non-null  float64\n",
      " 42  rougher.input.floatbank11_sulfate                   19395 non-null  float64\n",
      " 43  rougher.input.floatbank11_xanthate                  18986 non-null  float64\n",
      " 44  rougher.output.concentrate_ag                       19439 non-null  float64\n",
      " 45  rougher.output.concentrate_pb                       19439 non-null  float64\n",
      " 46  rougher.output.concentrate_sol                      19416 non-null  float64\n",
      " 47  rougher.output.concentrate_au                       19439 non-null  float64\n",
      " 48  rougher.output.recovery                             19439 non-null  float64\n",
      " 49  rougher.output.tail_ag                              19438 non-null  float64\n",
      " 50  rougher.output.tail_pb                              19439 non-null  float64\n",
      " 51  rougher.output.tail_sol                             19439 non-null  float64\n",
      " 52  rougher.output.tail_au                              19439 non-null  float64\n",
      " 53  rougher.state.floatbank10_a_air                     19438 non-null  float64\n",
      " 54  rougher.state.floatbank10_a_level                   19438 non-null  float64\n",
      " 55  rougher.state.floatbank10_b_air                     19438 non-null  float64\n",
      " 56  rougher.state.floatbank10_b_level                   19438 non-null  float64\n",
      " 57  rougher.state.floatbank10_c_air                     19438 non-null  float64\n",
      " 58  rougher.state.floatbank10_c_level                   19438 non-null  float64\n",
      " 59  rougher.state.floatbank10_d_air                     19439 non-null  float64\n",
      " 60  rougher.state.floatbank10_d_level                   19439 non-null  float64\n",
      " 61  rougher.state.floatbank10_e_air                     19003 non-null  float64\n",
      " 62  rougher.state.floatbank10_e_level                   19439 non-null  float64\n",
      " 63  rougher.state.floatbank10_f_air                     19439 non-null  float64\n",
      " 64  rougher.state.floatbank10_f_level                   19439 non-null  float64\n",
      " 65  secondary_cleaner.output.tail_ag                    19437 non-null  float64\n",
      " 66  secondary_cleaner.output.tail_pb                    19427 non-null  float64\n",
      " 67  secondary_cleaner.output.tail_sol                   17691 non-null  float64\n",
      " 68  secondary_cleaner.output.tail_au                    19439 non-null  float64\n",
      " 69  secondary_cleaner.state.floatbank2_a_air            19219 non-null  float64\n",
      " 70  secondary_cleaner.state.floatbank2_a_level          19438 non-null  float64\n",
      " 71  secondary_cleaner.state.floatbank2_b_air            19416 non-null  float64\n",
      " 72  secondary_cleaner.state.floatbank2_b_level          19438 non-null  float64\n",
      " 73  secondary_cleaner.state.floatbank3_a_air            19426 non-null  float64\n",
      " 74  secondary_cleaner.state.floatbank3_a_level          19438 non-null  float64\n",
      " 75  secondary_cleaner.state.floatbank3_b_air            19438 non-null  float64\n",
      " 76  secondary_cleaner.state.floatbank3_b_level          19438 non-null  float64\n",
      " 77  secondary_cleaner.state.floatbank4_a_air            19433 non-null  float64\n",
      " 78  secondary_cleaner.state.floatbank4_a_level          19438 non-null  float64\n",
      " 79  secondary_cleaner.state.floatbank4_b_air            19438 non-null  float64\n",
      " 80  secondary_cleaner.state.floatbank4_b_level          19438 non-null  float64\n",
      " 81  secondary_cleaner.state.floatbank5_a_air            19438 non-null  float64\n",
      " 82  secondary_cleaner.state.floatbank5_a_level          19438 non-null  float64\n",
      " 83  secondary_cleaner.state.floatbank5_b_air            19438 non-null  float64\n",
      " 84  secondary_cleaner.state.floatbank5_b_level          19438 non-null  float64\n",
      " 85  secondary_cleaner.state.floatbank6_a_air            19437 non-null  float64\n",
      " 86  secondary_cleaner.state.floatbank6_a_level          19438 non-null  float64\n",
      "dtypes: float64(86), object(1)\n",
      "memory usage: 12.9+ MB\n"
     ]
    }
   ],
   "source": [
    "df.info()"
   ]
  },
  {
   "cell_type": "code",
   "execution_count": 11,
   "metadata": {},
   "outputs": [
    {
     "data": {
      "text/plain": [
       "0       2016-09-01 00:59:59\n",
       "1       2016-09-01 01:59:59\n",
       "2       2016-09-01 02:59:59\n",
       "3       2016-09-01 03:59:59\n",
       "4       2016-09-01 04:59:59\n",
       "               ...         \n",
       "5285    2017-12-31 19:59:59\n",
       "5286    2017-12-31 20:59:59\n",
       "5287    2017-12-31 21:59:59\n",
       "5288    2017-12-31 22:59:59\n",
       "5289    2017-12-31 23:59:59\n",
       "Name: date, Length: 5290, dtype: object"
      ]
     },
     "execution_count": 11,
     "metadata": {},
     "output_type": "execute_result"
    }
   ],
   "source": [
    "date = df_test['date']\n",
    "date"
   ]
  },
  {
   "cell_type": "markdown",
   "metadata": {},
   "source": [
    "**Вывод:**\n",
    "1. В обучающей выборке содержится 14149 строк и 87 столбцов. Во многих столбцах имеются пропущенные значения, однако их число невелико. Столбец с наибольшим числом пропусков - *secondary_cleaner.output.tail_sol*.\n",
    "2. В тестовой выборке содержится 5290 строк и 53 столбца. Как и в обучающей выборке, здесь имеются пропуски в столбцах, однако их число не превышает 25 в столбце.\n",
    "3. Исходные данные представляют собой объединение обучающей и тестовой выборок. В них 19439 строк и 87 столбцов. Как и в предыдущих случаях имеются пропуски.\n",
    "4. Целевые признаки *rougher.output.recovery* и *final.output.recovery* не имеют пропусков."
   ]
  },
  {
   "cell_type": "markdown",
   "metadata": {},
   "source": [
    "### Проверка расчета эффективности обогащения"
   ]
  },
  {
   "cell_type": "markdown",
   "metadata": {},
   "source": [
    "Проверим, что эффективность обогащения рассчитана правильно. Для этого рассчитаем эффективность обогащения для этапа флотации и сравним ее с имеющимся в выбокре признаком.\n",
    "\n",
    "Для начала напишем функцию, рассчитывающую эффективность обогащения."
   ]
  },
  {
   "cell_type": "code",
   "execution_count": 12,
   "metadata": {},
   "outputs": [],
   "source": [
    "def recovery_calculation(row):\n",
    "    '''\n",
    "    Данная функция рассчитывает эффективность обогащения.\n",
    "    '''\n",
    "    c = row['rougher.output.concentrate_au']    # доля золота в концентрате после флотации\n",
    "    f = row['rougher.input.feed_au']            # доля золота в сырье до флотации\n",
    "    t = row['rougher.output.tail_au']           # доля золота в отвальных хвостах после флотации\n",
    "    recovery = (c * (f-t)) / (f * (c-t)) * 100\n",
    "    return recovery"
   ]
  },
  {
   "cell_type": "markdown",
   "metadata": {},
   "source": [
    "Рассчитаем эффективность обогащения флотации, применив функцию к обучающей выборке."
   ]
  },
  {
   "cell_type": "code",
   "execution_count": 13,
   "metadata": {},
   "outputs": [],
   "source": [
    "df_train['recovery_calculated'] = df_train.apply(recovery_calculation, axis=1)"
   ]
  },
  {
   "cell_type": "markdown",
   "metadata": {},
   "source": [
    "Взглянем на полученные результаты. Выведем имеющийся столбец и рассчитанные для него значения."
   ]
  },
  {
   "cell_type": "code",
   "execution_count": 14,
   "metadata": {},
   "outputs": [
    {
     "data": {
      "text/html": [
       "<div>\n",
       "<style scoped>\n",
       "    .dataframe tbody tr th:only-of-type {\n",
       "        vertical-align: middle;\n",
       "    }\n",
       "\n",
       "    .dataframe tbody tr th {\n",
       "        vertical-align: top;\n",
       "    }\n",
       "\n",
       "    .dataframe thead th {\n",
       "        text-align: right;\n",
       "    }\n",
       "</style>\n",
       "<table border=\"1\" class=\"dataframe\">\n",
       "  <thead>\n",
       "    <tr style=\"text-align: right;\">\n",
       "      <th></th>\n",
       "      <th>rougher.output.recovery</th>\n",
       "      <th>recovery_calculated</th>\n",
       "    </tr>\n",
       "  </thead>\n",
       "  <tbody>\n",
       "    <tr>\n",
       "      <th>0</th>\n",
       "      <td>87.107763</td>\n",
       "      <td>87.107763</td>\n",
       "    </tr>\n",
       "    <tr>\n",
       "      <th>1</th>\n",
       "      <td>86.843261</td>\n",
       "      <td>86.843261</td>\n",
       "    </tr>\n",
       "    <tr>\n",
       "      <th>2</th>\n",
       "      <td>86.842308</td>\n",
       "      <td>86.842308</td>\n",
       "    </tr>\n",
       "    <tr>\n",
       "      <th>3</th>\n",
       "      <td>87.226430</td>\n",
       "      <td>87.226430</td>\n",
       "    </tr>\n",
       "    <tr>\n",
       "      <th>4</th>\n",
       "      <td>86.688794</td>\n",
       "      <td>86.688794</td>\n",
       "    </tr>\n",
       "    <tr>\n",
       "      <th>...</th>\n",
       "      <td>...</td>\n",
       "      <td>...</td>\n",
       "    </tr>\n",
       "    <tr>\n",
       "      <th>14144</th>\n",
       "      <td>89.574376</td>\n",
       "      <td>89.574376</td>\n",
       "    </tr>\n",
       "    <tr>\n",
       "      <th>14145</th>\n",
       "      <td>87.724007</td>\n",
       "      <td>87.724007</td>\n",
       "    </tr>\n",
       "    <tr>\n",
       "      <th>14146</th>\n",
       "      <td>88.890579</td>\n",
       "      <td>88.890579</td>\n",
       "    </tr>\n",
       "    <tr>\n",
       "      <th>14147</th>\n",
       "      <td>89.858126</td>\n",
       "      <td>89.858126</td>\n",
       "    </tr>\n",
       "    <tr>\n",
       "      <th>14148</th>\n",
       "      <td>89.514960</td>\n",
       "      <td>89.514960</td>\n",
       "    </tr>\n",
       "  </tbody>\n",
       "</table>\n",
       "<p>14149 rows × 2 columns</p>\n",
       "</div>"
      ],
      "text/plain": [
       "       rougher.output.recovery  recovery_calculated\n",
       "0                    87.107763            87.107763\n",
       "1                    86.843261            86.843261\n",
       "2                    86.842308            86.842308\n",
       "3                    87.226430            87.226430\n",
       "4                    86.688794            86.688794\n",
       "...                        ...                  ...\n",
       "14144                89.574376            89.574376\n",
       "14145                87.724007            87.724007\n",
       "14146                88.890579            88.890579\n",
       "14147                89.858126            89.858126\n",
       "14148                89.514960            89.514960\n",
       "\n",
       "[14149 rows x 2 columns]"
      ]
     },
     "execution_count": 14,
     "metadata": {},
     "output_type": "execute_result"
    }
   ],
   "source": [
    "df_train[['rougher.output.recovery', 'recovery_calculated']]"
   ]
  },
  {
   "cell_type": "markdown",
   "metadata": {},
   "source": [
    "Определим среднюю абсолютную ошибку между имеющимися и вычисленными значениями."
   ]
  },
  {
   "cell_type": "code",
   "execution_count": 15,
   "metadata": {},
   "outputs": [
    {
     "data": {
      "text/plain": [
       "9.73512347450521e-15"
      ]
     },
     "execution_count": 15,
     "metadata": {},
     "output_type": "execute_result"
    }
   ],
   "source": [
    "mean_absolute_error(df_train['rougher.output.recovery'], df_train['recovery_calculated'])"
   ]
  },
  {
   "cell_type": "markdown",
   "metadata": {},
   "source": [
    "Ошибка является ничтожно малым числом. Для проверки взглянем на строки, где рассчитаное и имеющееся значения не равны друг другу."
   ]
  },
  {
   "cell_type": "code",
   "execution_count": 16,
   "metadata": {},
   "outputs": [
    {
     "data": {
      "text/html": [
       "<div>\n",
       "<style scoped>\n",
       "    .dataframe tbody tr th:only-of-type {\n",
       "        vertical-align: middle;\n",
       "    }\n",
       "\n",
       "    .dataframe tbody tr th {\n",
       "        vertical-align: top;\n",
       "    }\n",
       "\n",
       "    .dataframe thead th {\n",
       "        text-align: right;\n",
       "    }\n",
       "</style>\n",
       "<table border=\"1\" class=\"dataframe\">\n",
       "  <thead>\n",
       "    <tr style=\"text-align: right;\">\n",
       "      <th></th>\n",
       "      <th>rougher.output.recovery</th>\n",
       "      <th>recovery_calculated</th>\n",
       "    </tr>\n",
       "  </thead>\n",
       "  <tbody>\n",
       "    <tr>\n",
       "      <th>1</th>\n",
       "      <td>86.843261</td>\n",
       "      <td>86.843261</td>\n",
       "    </tr>\n",
       "    <tr>\n",
       "      <th>2</th>\n",
       "      <td>86.842308</td>\n",
       "      <td>86.842308</td>\n",
       "    </tr>\n",
       "    <tr>\n",
       "      <th>5</th>\n",
       "      <td>88.156912</td>\n",
       "      <td>88.156912</td>\n",
       "    </tr>\n",
       "    <tr>\n",
       "      <th>6</th>\n",
       "      <td>88.168065</td>\n",
       "      <td>88.168065</td>\n",
       "    </tr>\n",
       "    <tr>\n",
       "      <th>8</th>\n",
       "      <td>87.035862</td>\n",
       "      <td>87.035862</td>\n",
       "    </tr>\n",
       "    <tr>\n",
       "      <th>...</th>\n",
       "      <td>...</td>\n",
       "      <td>...</td>\n",
       "    </tr>\n",
       "    <tr>\n",
       "      <th>14138</th>\n",
       "      <td>91.675070</td>\n",
       "      <td>91.675070</td>\n",
       "    </tr>\n",
       "    <tr>\n",
       "      <th>14140</th>\n",
       "      <td>89.946627</td>\n",
       "      <td>89.946627</td>\n",
       "    </tr>\n",
       "    <tr>\n",
       "      <th>14143</th>\n",
       "      <td>91.816623</td>\n",
       "      <td>91.816623</td>\n",
       "    </tr>\n",
       "    <tr>\n",
       "      <th>14146</th>\n",
       "      <td>88.890579</td>\n",
       "      <td>88.890579</td>\n",
       "    </tr>\n",
       "    <tr>\n",
       "      <th>14148</th>\n",
       "      <td>89.514960</td>\n",
       "      <td>89.514960</td>\n",
       "    </tr>\n",
       "  </tbody>\n",
       "</table>\n",
       "<p>7437 rows × 2 columns</p>\n",
       "</div>"
      ],
      "text/plain": [
       "       rougher.output.recovery  recovery_calculated\n",
       "1                    86.843261            86.843261\n",
       "2                    86.842308            86.842308\n",
       "5                    88.156912            88.156912\n",
       "6                    88.168065            88.168065\n",
       "8                    87.035862            87.035862\n",
       "...                        ...                  ...\n",
       "14138                91.675070            91.675070\n",
       "14140                89.946627            89.946627\n",
       "14143                91.816623            91.816623\n",
       "14146                88.890579            88.890579\n",
       "14148                89.514960            89.514960\n",
       "\n",
       "[7437 rows x 2 columns]"
      ]
     },
     "execution_count": 16,
     "metadata": {},
     "output_type": "execute_result"
    }
   ],
   "source": [
    "df_train[df_train['rougher.output.recovery'] != df_train['recovery_calculated']][['rougher.output.recovery', 'recovery_calculated']]"
   ]
  },
  {
   "cell_type": "markdown",
   "metadata": {},
   "source": [
    "Как мы видим значения равны вплоть до 6 знака после запятой, а отличие метрики от нуля (хоть и ничтожно малое) объясняется спецификой записи вещественных чисел в python."
   ]
  },
  {
   "cell_type": "markdown",
   "metadata": {},
   "source": [
    "Удалим столбец с рассчитанным обогащением за ненадобностью."
   ]
  },
  {
   "cell_type": "code",
   "execution_count": 17,
   "metadata": {},
   "outputs": [],
   "source": [
    "df_train = df_train.drop('recovery_calculated', axis=1)"
   ]
  },
  {
   "cell_type": "markdown",
   "metadata": {},
   "source": [
    "**Вывод:**\n",
    "1. Эффективность обогащения рассчитана корректно."
   ]
  },
  {
   "cell_type": "markdown",
   "metadata": {},
   "source": [
    "### Анализ признаков, недоступных в тестовой выборке"
   ]
  },
  {
   "cell_type": "markdown",
   "metadata": {},
   "source": [
    "Проанализируем признаки, которые не попали в тестовую выборку.\n",
    "Определим, какие признаки не попали в нее."
   ]
  },
  {
   "cell_type": "code",
   "execution_count": 18,
   "metadata": {},
   "outputs": [
    {
     "data": {
      "text/plain": [
       "['final.output.concentrate_ag',\n",
       " 'final.output.concentrate_pb',\n",
       " 'final.output.concentrate_sol',\n",
       " 'final.output.concentrate_au',\n",
       " 'final.output.recovery',\n",
       " 'final.output.tail_ag',\n",
       " 'final.output.tail_pb',\n",
       " 'final.output.tail_sol',\n",
       " 'final.output.tail_au',\n",
       " 'primary_cleaner.output.concentrate_ag',\n",
       " 'primary_cleaner.output.concentrate_pb',\n",
       " 'primary_cleaner.output.concentrate_sol',\n",
       " 'primary_cleaner.output.concentrate_au',\n",
       " 'primary_cleaner.output.tail_ag',\n",
       " 'primary_cleaner.output.tail_pb',\n",
       " 'primary_cleaner.output.tail_sol',\n",
       " 'primary_cleaner.output.tail_au',\n",
       " 'rougher.calculation.sulfate_to_au_concentrate',\n",
       " 'rougher.calculation.floatbank10_sulfate_to_au_feed',\n",
       " 'rougher.calculation.floatbank11_sulfate_to_au_feed',\n",
       " 'rougher.calculation.au_pb_ratio',\n",
       " 'rougher.output.concentrate_ag',\n",
       " 'rougher.output.concentrate_pb',\n",
       " 'rougher.output.concentrate_sol',\n",
       " 'rougher.output.concentrate_au',\n",
       " 'rougher.output.recovery',\n",
       " 'rougher.output.tail_ag',\n",
       " 'rougher.output.tail_pb',\n",
       " 'rougher.output.tail_sol',\n",
       " 'rougher.output.tail_au',\n",
       " 'secondary_cleaner.output.tail_ag',\n",
       " 'secondary_cleaner.output.tail_pb',\n",
       " 'secondary_cleaner.output.tail_sol',\n",
       " 'secondary_cleaner.output.tail_au']"
      ]
     },
     "execution_count": 18,
     "metadata": {},
     "output_type": "execute_result"
    }
   ],
   "source": [
    "missed_features = []\n",
    "\n",
    "for col in df_train.columns:\n",
    "    if col not in df_test.columns:\n",
    "        missed_features.append(col)\n",
    "        \n",
    "missed_features"
   ]
  },
  {
   "cell_type": "markdown",
   "metadata": {},
   "source": [
    "В тестовой выборке недоступны некоторые расчетные (calculation) и выходные (output) характеристики процесса, т.к. их невозможно получить/измерить во время выполнения технологического процесса."
   ]
  },
  {
   "cell_type": "markdown",
   "metadata": {},
   "source": [
    "### Предобработка данных."
   ]
  },
  {
   "cell_type": "markdown",
   "metadata": {},
   "source": [
    "#### Подготовка признаков"
   ]
  },
  {
   "cell_type": "markdown",
   "metadata": {},
   "source": [
    "##### Тестовая выборка"
   ]
  },
  {
   "cell_type": "markdown",
   "metadata": {},
   "source": [
    "Создадим переменную, содержащую целевые признаки для тестовой выборки. Значения возьмем из набора исходных данных, выбрав строки, у которых дата совпадает с датой в тестовом наборе."
   ]
  },
  {
   "cell_type": "code",
   "execution_count": 43,
   "metadata": {},
   "outputs": [],
   "source": [
    "test_date = df_test['date']\n",
    "target_test = df.query('date in @test_date')[['date', 'rougher.output.recovery', 'final.output.recovery']].reset_index(drop=True)"
   ]
  },
  {
   "cell_type": "code",
   "execution_count": 44,
   "metadata": {},
   "outputs": [
    {
     "name": "stdout",
     "output_type": "stream",
     "text": [
      "(5290, 3)\n"
     ]
    },
    {
     "data": {
      "text/html": [
       "<div>\n",
       "<style scoped>\n",
       "    .dataframe tbody tr th:only-of-type {\n",
       "        vertical-align: middle;\n",
       "    }\n",
       "\n",
       "    .dataframe tbody tr th {\n",
       "        vertical-align: top;\n",
       "    }\n",
       "\n",
       "    .dataframe thead th {\n",
       "        text-align: right;\n",
       "    }\n",
       "</style>\n",
       "<table border=\"1\" class=\"dataframe\">\n",
       "  <thead>\n",
       "    <tr style=\"text-align: right;\">\n",
       "      <th></th>\n",
       "      <th>date</th>\n",
       "      <th>rougher.output.recovery</th>\n",
       "      <th>final.output.recovery</th>\n",
       "    </tr>\n",
       "  </thead>\n",
       "  <tbody>\n",
       "    <tr>\n",
       "      <th>0</th>\n",
       "      <td>2016-09-01 00:59:59</td>\n",
       "      <td>89.993421</td>\n",
       "      <td>70.273583</td>\n",
       "    </tr>\n",
       "    <tr>\n",
       "      <th>1</th>\n",
       "      <td>2016-09-01 01:59:59</td>\n",
       "      <td>88.089657</td>\n",
       "      <td>68.910432</td>\n",
       "    </tr>\n",
       "    <tr>\n",
       "      <th>2</th>\n",
       "      <td>2016-09-01 02:59:59</td>\n",
       "      <td>88.412756</td>\n",
       "      <td>68.143213</td>\n",
       "    </tr>\n",
       "    <tr>\n",
       "      <th>3</th>\n",
       "      <td>2016-09-01 03:59:59</td>\n",
       "      <td>87.360133</td>\n",
       "      <td>67.776393</td>\n",
       "    </tr>\n",
       "    <tr>\n",
       "      <th>4</th>\n",
       "      <td>2016-09-01 04:59:59</td>\n",
       "      <td>83.236367</td>\n",
       "      <td>61.467078</td>\n",
       "    </tr>\n",
       "  </tbody>\n",
       "</table>\n",
       "</div>"
      ],
      "text/plain": [
       "                  date  rougher.output.recovery  final.output.recovery\n",
       "0  2016-09-01 00:59:59                89.993421              70.273583\n",
       "1  2016-09-01 01:59:59                88.089657              68.910432\n",
       "2  2016-09-01 02:59:59                88.412756              68.143213\n",
       "3  2016-09-01 03:59:59                87.360133              67.776393\n",
       "4  2016-09-01 04:59:59                83.236367              61.467078"
      ]
     },
     "execution_count": 44,
     "metadata": {},
     "output_type": "execute_result"
    }
   ],
   "source": [
    "print(target_test.shape)\n",
    "target_test.head()"
   ]
  },
  {
   "cell_type": "markdown",
   "metadata": {},
   "source": [
    "Проверим, совпадают ли даты в новой переменной и в тестовом наборе построчно."
   ]
  },
  {
   "cell_type": "code",
   "execution_count": 45,
   "metadata": {},
   "outputs": [
    {
     "data": {
      "text/plain": [
       "0.0"
      ]
     },
     "execution_count": 45,
     "metadata": {},
     "output_type": "execute_result"
    }
   ],
   "source": [
    "(df_test['date'] != target_test['date']).mean()"
   ]
  },
  {
   "cell_type": "markdown",
   "metadata": {},
   "source": [
    "Выделение целевого признака произведено успешно. Столбец даты можно удалять."
   ]
  },
  {
   "cell_type": "code",
   "execution_count": 46,
   "metadata": {},
   "outputs": [],
   "source": [
    "target_test = target_test.drop('date', axis=1)"
   ]
  },
  {
   "cell_type": "markdown",
   "metadata": {},
   "source": [
    "Создадим матрицу признаков для тестовой выборки."
   ]
  },
  {
   "cell_type": "code",
   "execution_count": 47,
   "metadata": {},
   "outputs": [],
   "source": [
    "features_test = df_test.drop('date', axis=1)"
   ]
  },
  {
   "cell_type": "code",
   "execution_count": 48,
   "metadata": {
    "scrolled": true
   },
   "outputs": [
    {
     "data": {
      "text/html": [
       "<div>\n",
       "<style scoped>\n",
       "    .dataframe tbody tr th:only-of-type {\n",
       "        vertical-align: middle;\n",
       "    }\n",
       "\n",
       "    .dataframe tbody tr th {\n",
       "        vertical-align: top;\n",
       "    }\n",
       "\n",
       "    .dataframe thead th {\n",
       "        text-align: right;\n",
       "    }\n",
       "</style>\n",
       "<table border=\"1\" class=\"dataframe\">\n",
       "  <thead>\n",
       "    <tr style=\"text-align: right;\">\n",
       "      <th></th>\n",
       "      <th>primary_cleaner.input.sulfate</th>\n",
       "      <th>primary_cleaner.input.depressant</th>\n",
       "      <th>primary_cleaner.input.feed_size</th>\n",
       "      <th>primary_cleaner.input.xanthate</th>\n",
       "      <th>primary_cleaner.state.floatbank8_a_air</th>\n",
       "      <th>primary_cleaner.state.floatbank8_a_level</th>\n",
       "      <th>primary_cleaner.state.floatbank8_b_air</th>\n",
       "      <th>primary_cleaner.state.floatbank8_b_level</th>\n",
       "      <th>primary_cleaner.state.floatbank8_c_air</th>\n",
       "      <th>primary_cleaner.state.floatbank8_c_level</th>\n",
       "      <th>...</th>\n",
       "      <th>secondary_cleaner.state.floatbank4_a_air</th>\n",
       "      <th>secondary_cleaner.state.floatbank4_a_level</th>\n",
       "      <th>secondary_cleaner.state.floatbank4_b_air</th>\n",
       "      <th>secondary_cleaner.state.floatbank4_b_level</th>\n",
       "      <th>secondary_cleaner.state.floatbank5_a_air</th>\n",
       "      <th>secondary_cleaner.state.floatbank5_a_level</th>\n",
       "      <th>secondary_cleaner.state.floatbank5_b_air</th>\n",
       "      <th>secondary_cleaner.state.floatbank5_b_level</th>\n",
       "      <th>secondary_cleaner.state.floatbank6_a_air</th>\n",
       "      <th>secondary_cleaner.state.floatbank6_a_level</th>\n",
       "    </tr>\n",
       "  </thead>\n",
       "  <tbody>\n",
       "    <tr>\n",
       "      <th>0</th>\n",
       "      <td>210.800909</td>\n",
       "      <td>14.993118</td>\n",
       "      <td>8.080000</td>\n",
       "      <td>1.005021</td>\n",
       "      <td>1398.981301</td>\n",
       "      <td>-500.225577</td>\n",
       "      <td>1399.144926</td>\n",
       "      <td>-499.919735</td>\n",
       "      <td>1400.102998</td>\n",
       "      <td>-500.704369</td>\n",
       "      <td>...</td>\n",
       "      <td>12.023554</td>\n",
       "      <td>-497.795834</td>\n",
       "      <td>8.016656</td>\n",
       "      <td>-501.289139</td>\n",
       "      <td>7.946562</td>\n",
       "      <td>-432.317850</td>\n",
       "      <td>4.872511</td>\n",
       "      <td>-500.037437</td>\n",
       "      <td>26.705889</td>\n",
       "      <td>-499.709414</td>\n",
       "    </tr>\n",
       "    <tr>\n",
       "      <th>1</th>\n",
       "      <td>215.392455</td>\n",
       "      <td>14.987471</td>\n",
       "      <td>8.080000</td>\n",
       "      <td>0.990469</td>\n",
       "      <td>1398.777912</td>\n",
       "      <td>-500.057435</td>\n",
       "      <td>1398.055362</td>\n",
       "      <td>-499.778182</td>\n",
       "      <td>1396.151033</td>\n",
       "      <td>-499.240168</td>\n",
       "      <td>...</td>\n",
       "      <td>12.058140</td>\n",
       "      <td>-498.695773</td>\n",
       "      <td>8.130979</td>\n",
       "      <td>-499.634209</td>\n",
       "      <td>7.958270</td>\n",
       "      <td>-525.839648</td>\n",
       "      <td>4.878850</td>\n",
       "      <td>-500.162375</td>\n",
       "      <td>25.019940</td>\n",
       "      <td>-499.819438</td>\n",
       "    </tr>\n",
       "    <tr>\n",
       "      <th>2</th>\n",
       "      <td>215.259946</td>\n",
       "      <td>12.884934</td>\n",
       "      <td>7.786667</td>\n",
       "      <td>0.996043</td>\n",
       "      <td>1398.493666</td>\n",
       "      <td>-500.868360</td>\n",
       "      <td>1398.860436</td>\n",
       "      <td>-499.764529</td>\n",
       "      <td>1398.075709</td>\n",
       "      <td>-502.151509</td>\n",
       "      <td>...</td>\n",
       "      <td>11.962366</td>\n",
       "      <td>-498.767484</td>\n",
       "      <td>8.096893</td>\n",
       "      <td>-500.827423</td>\n",
       "      <td>8.071056</td>\n",
       "      <td>-500.801673</td>\n",
       "      <td>4.905125</td>\n",
       "      <td>-499.828510</td>\n",
       "      <td>24.994862</td>\n",
       "      <td>-500.622559</td>\n",
       "    </tr>\n",
       "    <tr>\n",
       "      <th>3</th>\n",
       "      <td>215.336236</td>\n",
       "      <td>12.006805</td>\n",
       "      <td>7.640000</td>\n",
       "      <td>0.863514</td>\n",
       "      <td>1399.618111</td>\n",
       "      <td>-498.863574</td>\n",
       "      <td>1397.440120</td>\n",
       "      <td>-499.211024</td>\n",
       "      <td>1400.129303</td>\n",
       "      <td>-498.355873</td>\n",
       "      <td>...</td>\n",
       "      <td>12.033091</td>\n",
       "      <td>-498.350935</td>\n",
       "      <td>8.074946</td>\n",
       "      <td>-499.474407</td>\n",
       "      <td>7.897085</td>\n",
       "      <td>-500.868509</td>\n",
       "      <td>4.931400</td>\n",
       "      <td>-499.963623</td>\n",
       "      <td>24.948919</td>\n",
       "      <td>-498.709987</td>\n",
       "    </tr>\n",
       "    <tr>\n",
       "      <th>4</th>\n",
       "      <td>199.099327</td>\n",
       "      <td>10.682530</td>\n",
       "      <td>7.530000</td>\n",
       "      <td>0.805575</td>\n",
       "      <td>1401.268123</td>\n",
       "      <td>-500.808305</td>\n",
       "      <td>1398.128818</td>\n",
       "      <td>-499.504543</td>\n",
       "      <td>1402.172226</td>\n",
       "      <td>-500.810606</td>\n",
       "      <td>...</td>\n",
       "      <td>12.025367</td>\n",
       "      <td>-500.786497</td>\n",
       "      <td>8.054678</td>\n",
       "      <td>-500.397500</td>\n",
       "      <td>8.107890</td>\n",
       "      <td>-509.526725</td>\n",
       "      <td>4.957674</td>\n",
       "      <td>-500.360026</td>\n",
       "      <td>25.003331</td>\n",
       "      <td>-500.856333</td>\n",
       "    </tr>\n",
       "  </tbody>\n",
       "</table>\n",
       "<p>5 rows × 52 columns</p>\n",
       "</div>"
      ],
      "text/plain": [
       "   primary_cleaner.input.sulfate  primary_cleaner.input.depressant  \\\n",
       "0                     210.800909                         14.993118   \n",
       "1                     215.392455                         14.987471   \n",
       "2                     215.259946                         12.884934   \n",
       "3                     215.336236                         12.006805   \n",
       "4                     199.099327                         10.682530   \n",
       "\n",
       "   primary_cleaner.input.feed_size  primary_cleaner.input.xanthate  \\\n",
       "0                         8.080000                        1.005021   \n",
       "1                         8.080000                        0.990469   \n",
       "2                         7.786667                        0.996043   \n",
       "3                         7.640000                        0.863514   \n",
       "4                         7.530000                        0.805575   \n",
       "\n",
       "   primary_cleaner.state.floatbank8_a_air  \\\n",
       "0                             1398.981301   \n",
       "1                             1398.777912   \n",
       "2                             1398.493666   \n",
       "3                             1399.618111   \n",
       "4                             1401.268123   \n",
       "\n",
       "   primary_cleaner.state.floatbank8_a_level  \\\n",
       "0                               -500.225577   \n",
       "1                               -500.057435   \n",
       "2                               -500.868360   \n",
       "3                               -498.863574   \n",
       "4                               -500.808305   \n",
       "\n",
       "   primary_cleaner.state.floatbank8_b_air  \\\n",
       "0                             1399.144926   \n",
       "1                             1398.055362   \n",
       "2                             1398.860436   \n",
       "3                             1397.440120   \n",
       "4                             1398.128818   \n",
       "\n",
       "   primary_cleaner.state.floatbank8_b_level  \\\n",
       "0                               -499.919735   \n",
       "1                               -499.778182   \n",
       "2                               -499.764529   \n",
       "3                               -499.211024   \n",
       "4                               -499.504543   \n",
       "\n",
       "   primary_cleaner.state.floatbank8_c_air  \\\n",
       "0                             1400.102998   \n",
       "1                             1396.151033   \n",
       "2                             1398.075709   \n",
       "3                             1400.129303   \n",
       "4                             1402.172226   \n",
       "\n",
       "   primary_cleaner.state.floatbank8_c_level  ...  \\\n",
       "0                               -500.704369  ...   \n",
       "1                               -499.240168  ...   \n",
       "2                               -502.151509  ...   \n",
       "3                               -498.355873  ...   \n",
       "4                               -500.810606  ...   \n",
       "\n",
       "   secondary_cleaner.state.floatbank4_a_air  \\\n",
       "0                                 12.023554   \n",
       "1                                 12.058140   \n",
       "2                                 11.962366   \n",
       "3                                 12.033091   \n",
       "4                                 12.025367   \n",
       "\n",
       "   secondary_cleaner.state.floatbank4_a_level  \\\n",
       "0                                 -497.795834   \n",
       "1                                 -498.695773   \n",
       "2                                 -498.767484   \n",
       "3                                 -498.350935   \n",
       "4                                 -500.786497   \n",
       "\n",
       "   secondary_cleaner.state.floatbank4_b_air  \\\n",
       "0                                  8.016656   \n",
       "1                                  8.130979   \n",
       "2                                  8.096893   \n",
       "3                                  8.074946   \n",
       "4                                  8.054678   \n",
       "\n",
       "   secondary_cleaner.state.floatbank4_b_level  \\\n",
       "0                                 -501.289139   \n",
       "1                                 -499.634209   \n",
       "2                                 -500.827423   \n",
       "3                                 -499.474407   \n",
       "4                                 -500.397500   \n",
       "\n",
       "   secondary_cleaner.state.floatbank5_a_air  \\\n",
       "0                                  7.946562   \n",
       "1                                  7.958270   \n",
       "2                                  8.071056   \n",
       "3                                  7.897085   \n",
       "4                                  8.107890   \n",
       "\n",
       "   secondary_cleaner.state.floatbank5_a_level  \\\n",
       "0                                 -432.317850   \n",
       "1                                 -525.839648   \n",
       "2                                 -500.801673   \n",
       "3                                 -500.868509   \n",
       "4                                 -509.526725   \n",
       "\n",
       "   secondary_cleaner.state.floatbank5_b_air  \\\n",
       "0                                  4.872511   \n",
       "1                                  4.878850   \n",
       "2                                  4.905125   \n",
       "3                                  4.931400   \n",
       "4                                  4.957674   \n",
       "\n",
       "   secondary_cleaner.state.floatbank5_b_level  \\\n",
       "0                                 -500.037437   \n",
       "1                                 -500.162375   \n",
       "2                                 -499.828510   \n",
       "3                                 -499.963623   \n",
       "4                                 -500.360026   \n",
       "\n",
       "   secondary_cleaner.state.floatbank6_a_air  \\\n",
       "0                                 26.705889   \n",
       "1                                 25.019940   \n",
       "2                                 24.994862   \n",
       "3                                 24.948919   \n",
       "4                                 25.003331   \n",
       "\n",
       "   secondary_cleaner.state.floatbank6_a_level  \n",
       "0                                 -499.709414  \n",
       "1                                 -499.819438  \n",
       "2                                 -500.622559  \n",
       "3                                 -498.709987  \n",
       "4                                 -500.856333  \n",
       "\n",
       "[5 rows x 52 columns]"
      ]
     },
     "execution_count": 48,
     "metadata": {},
     "output_type": "execute_result"
    }
   ],
   "source": [
    "features_test.head()"
   ]
  },
  {
   "cell_type": "markdown",
   "metadata": {},
   "source": [
    "Еще раз проверим получившиеся переменные."
   ]
  },
  {
   "cell_type": "code",
   "execution_count": 49,
   "metadata": {},
   "outputs": [
    {
     "name": "stdout",
     "output_type": "stream",
     "text": [
      "(5290, 2)\n"
     ]
    },
    {
     "data": {
      "text/plain": [
       "(5290, 52)"
      ]
     },
     "execution_count": 49,
     "metadata": {},
     "output_type": "execute_result"
    }
   ],
   "source": [
    "print(target_test.shape)\n",
    "features_test.shape"
   ]
  },
  {
   "cell_type": "markdown",
   "metadata": {},
   "source": [
    "##### Обучающая выборка"
   ]
  },
  {
   "cell_type": "markdown",
   "metadata": {},
   "source": [
    "Создадим переменную, содержащую оба целевых признака."
   ]
  },
  {
   "cell_type": "code",
   "execution_count": 50,
   "metadata": {},
   "outputs": [],
   "source": [
    "target_train = df_train[['rougher.output.recovery', 'final.output.recovery']]"
   ]
  },
  {
   "cell_type": "code",
   "execution_count": 51,
   "metadata": {},
   "outputs": [
    {
     "name": "stdout",
     "output_type": "stream",
     "text": [
      "(14149, 2)\n"
     ]
    },
    {
     "data": {
      "text/html": [
       "<div>\n",
       "<style scoped>\n",
       "    .dataframe tbody tr th:only-of-type {\n",
       "        vertical-align: middle;\n",
       "    }\n",
       "\n",
       "    .dataframe tbody tr th {\n",
       "        vertical-align: top;\n",
       "    }\n",
       "\n",
       "    .dataframe thead th {\n",
       "        text-align: right;\n",
       "    }\n",
       "</style>\n",
       "<table border=\"1\" class=\"dataframe\">\n",
       "  <thead>\n",
       "    <tr style=\"text-align: right;\">\n",
       "      <th></th>\n",
       "      <th>rougher.output.recovery</th>\n",
       "      <th>final.output.recovery</th>\n",
       "    </tr>\n",
       "  </thead>\n",
       "  <tbody>\n",
       "    <tr>\n",
       "      <th>0</th>\n",
       "      <td>87.107763</td>\n",
       "      <td>70.541216</td>\n",
       "    </tr>\n",
       "    <tr>\n",
       "      <th>1</th>\n",
       "      <td>86.843261</td>\n",
       "      <td>69.266198</td>\n",
       "    </tr>\n",
       "    <tr>\n",
       "      <th>2</th>\n",
       "      <td>86.842308</td>\n",
       "      <td>68.116445</td>\n",
       "    </tr>\n",
       "    <tr>\n",
       "      <th>3</th>\n",
       "      <td>87.226430</td>\n",
       "      <td>68.347543</td>\n",
       "    </tr>\n",
       "    <tr>\n",
       "      <th>4</th>\n",
       "      <td>86.688794</td>\n",
       "      <td>66.927016</td>\n",
       "    </tr>\n",
       "  </tbody>\n",
       "</table>\n",
       "</div>"
      ],
      "text/plain": [
       "   rougher.output.recovery  final.output.recovery\n",
       "0                87.107763              70.541216\n",
       "1                86.843261              69.266198\n",
       "2                86.842308              68.116445\n",
       "3                87.226430              68.347543\n",
       "4                86.688794              66.927016"
      ]
     },
     "execution_count": 51,
     "metadata": {},
     "output_type": "execute_result"
    }
   ],
   "source": [
    "print(target_train.shape)\n",
    "target_train.head()"
   ]
  },
  {
   "cell_type": "markdown",
   "metadata": {},
   "source": [
    "Для формирования матрицы признаков необходимо из обучающей выборки удалить все столбцы, непредставленные в тестовой выборке, иначе мы не сможем делать предсказания по тестовой выборке."
   ]
  },
  {
   "cell_type": "code",
   "execution_count": 52,
   "metadata": {},
   "outputs": [],
   "source": [
    "features_train = df_train[features_test.columns]"
   ]
  },
  {
   "cell_type": "code",
   "execution_count": 53,
   "metadata": {},
   "outputs": [
    {
     "name": "stdout",
     "output_type": "stream",
     "text": [
      "(14149, 52)\n"
     ]
    },
    {
     "data": {
      "text/html": [
       "<div>\n",
       "<style scoped>\n",
       "    .dataframe tbody tr th:only-of-type {\n",
       "        vertical-align: middle;\n",
       "    }\n",
       "\n",
       "    .dataframe tbody tr th {\n",
       "        vertical-align: top;\n",
       "    }\n",
       "\n",
       "    .dataframe thead th {\n",
       "        text-align: right;\n",
       "    }\n",
       "</style>\n",
       "<table border=\"1\" class=\"dataframe\">\n",
       "  <thead>\n",
       "    <tr style=\"text-align: right;\">\n",
       "      <th></th>\n",
       "      <th>primary_cleaner.input.sulfate</th>\n",
       "      <th>primary_cleaner.input.depressant</th>\n",
       "      <th>primary_cleaner.input.feed_size</th>\n",
       "      <th>primary_cleaner.input.xanthate</th>\n",
       "      <th>primary_cleaner.state.floatbank8_a_air</th>\n",
       "      <th>primary_cleaner.state.floatbank8_a_level</th>\n",
       "      <th>primary_cleaner.state.floatbank8_b_air</th>\n",
       "      <th>primary_cleaner.state.floatbank8_b_level</th>\n",
       "      <th>primary_cleaner.state.floatbank8_c_air</th>\n",
       "      <th>primary_cleaner.state.floatbank8_c_level</th>\n",
       "      <th>...</th>\n",
       "      <th>secondary_cleaner.state.floatbank4_a_air</th>\n",
       "      <th>secondary_cleaner.state.floatbank4_a_level</th>\n",
       "      <th>secondary_cleaner.state.floatbank4_b_air</th>\n",
       "      <th>secondary_cleaner.state.floatbank4_b_level</th>\n",
       "      <th>secondary_cleaner.state.floatbank5_a_air</th>\n",
       "      <th>secondary_cleaner.state.floatbank5_a_level</th>\n",
       "      <th>secondary_cleaner.state.floatbank5_b_air</th>\n",
       "      <th>secondary_cleaner.state.floatbank5_b_level</th>\n",
       "      <th>secondary_cleaner.state.floatbank6_a_air</th>\n",
       "      <th>secondary_cleaner.state.floatbank6_a_level</th>\n",
       "    </tr>\n",
       "  </thead>\n",
       "  <tbody>\n",
       "    <tr>\n",
       "      <th>0</th>\n",
       "      <td>127.092003</td>\n",
       "      <td>10.128295</td>\n",
       "      <td>7.25</td>\n",
       "      <td>0.988759</td>\n",
       "      <td>1549.775757</td>\n",
       "      <td>-498.912140</td>\n",
       "      <td>1551.434204</td>\n",
       "      <td>-516.403442</td>\n",
       "      <td>1549.873901</td>\n",
       "      <td>-498.666595</td>\n",
       "      <td>...</td>\n",
       "      <td>14.016835</td>\n",
       "      <td>-502.488007</td>\n",
       "      <td>12.099931</td>\n",
       "      <td>-504.715942</td>\n",
       "      <td>9.925633</td>\n",
       "      <td>-498.310211</td>\n",
       "      <td>8.079666</td>\n",
       "      <td>-500.470978</td>\n",
       "      <td>14.151341</td>\n",
       "      <td>-605.841980</td>\n",
       "    </tr>\n",
       "    <tr>\n",
       "      <th>1</th>\n",
       "      <td>125.629232</td>\n",
       "      <td>10.296251</td>\n",
       "      <td>7.25</td>\n",
       "      <td>1.002663</td>\n",
       "      <td>1576.166671</td>\n",
       "      <td>-500.904965</td>\n",
       "      <td>1575.950626</td>\n",
       "      <td>-499.865889</td>\n",
       "      <td>1575.994189</td>\n",
       "      <td>-499.315107</td>\n",
       "      <td>...</td>\n",
       "      <td>13.992281</td>\n",
       "      <td>-505.503262</td>\n",
       "      <td>11.950531</td>\n",
       "      <td>-501.331529</td>\n",
       "      <td>10.039245</td>\n",
       "      <td>-500.169983</td>\n",
       "      <td>7.984757</td>\n",
       "      <td>-500.582168</td>\n",
       "      <td>13.998353</td>\n",
       "      <td>-599.787184</td>\n",
       "    </tr>\n",
       "    <tr>\n",
       "      <th>2</th>\n",
       "      <td>123.819808</td>\n",
       "      <td>11.316280</td>\n",
       "      <td>7.25</td>\n",
       "      <td>0.991265</td>\n",
       "      <td>1601.556163</td>\n",
       "      <td>-499.997791</td>\n",
       "      <td>1600.386685</td>\n",
       "      <td>-500.607762</td>\n",
       "      <td>1602.003542</td>\n",
       "      <td>-500.870069</td>\n",
       "      <td>...</td>\n",
       "      <td>14.015015</td>\n",
       "      <td>-502.520901</td>\n",
       "      <td>11.912783</td>\n",
       "      <td>-501.133383</td>\n",
       "      <td>10.070913</td>\n",
       "      <td>-500.129135</td>\n",
       "      <td>8.013877</td>\n",
       "      <td>-500.517572</td>\n",
       "      <td>14.028663</td>\n",
       "      <td>-601.427363</td>\n",
       "    </tr>\n",
       "    <tr>\n",
       "      <th>3</th>\n",
       "      <td>122.270188</td>\n",
       "      <td>11.322140</td>\n",
       "      <td>7.25</td>\n",
       "      <td>0.996739</td>\n",
       "      <td>1599.968720</td>\n",
       "      <td>-500.951778</td>\n",
       "      <td>1600.659236</td>\n",
       "      <td>-499.677094</td>\n",
       "      <td>1600.304144</td>\n",
       "      <td>-500.727997</td>\n",
       "      <td>...</td>\n",
       "      <td>14.036510</td>\n",
       "      <td>-500.857308</td>\n",
       "      <td>11.999550</td>\n",
       "      <td>-501.193686</td>\n",
       "      <td>9.970366</td>\n",
       "      <td>-499.201640</td>\n",
       "      <td>7.977324</td>\n",
       "      <td>-500.255908</td>\n",
       "      <td>14.005551</td>\n",
       "      <td>-599.996129</td>\n",
       "    </tr>\n",
       "    <tr>\n",
       "      <th>4</th>\n",
       "      <td>117.988169</td>\n",
       "      <td>11.913613</td>\n",
       "      <td>7.25</td>\n",
       "      <td>1.009869</td>\n",
       "      <td>1601.339707</td>\n",
       "      <td>-498.975456</td>\n",
       "      <td>1601.437854</td>\n",
       "      <td>-500.323246</td>\n",
       "      <td>1599.581894</td>\n",
       "      <td>-500.888152</td>\n",
       "      <td>...</td>\n",
       "      <td>14.027298</td>\n",
       "      <td>-499.838632</td>\n",
       "      <td>11.953070</td>\n",
       "      <td>-501.053894</td>\n",
       "      <td>9.925709</td>\n",
       "      <td>-501.686727</td>\n",
       "      <td>7.894242</td>\n",
       "      <td>-500.356035</td>\n",
       "      <td>13.996647</td>\n",
       "      <td>-601.496691</td>\n",
       "    </tr>\n",
       "  </tbody>\n",
       "</table>\n",
       "<p>5 rows × 52 columns</p>\n",
       "</div>"
      ],
      "text/plain": [
       "   primary_cleaner.input.sulfate  primary_cleaner.input.depressant  \\\n",
       "0                     127.092003                         10.128295   \n",
       "1                     125.629232                         10.296251   \n",
       "2                     123.819808                         11.316280   \n",
       "3                     122.270188                         11.322140   \n",
       "4                     117.988169                         11.913613   \n",
       "\n",
       "   primary_cleaner.input.feed_size  primary_cleaner.input.xanthate  \\\n",
       "0                             7.25                        0.988759   \n",
       "1                             7.25                        1.002663   \n",
       "2                             7.25                        0.991265   \n",
       "3                             7.25                        0.996739   \n",
       "4                             7.25                        1.009869   \n",
       "\n",
       "   primary_cleaner.state.floatbank8_a_air  \\\n",
       "0                             1549.775757   \n",
       "1                             1576.166671   \n",
       "2                             1601.556163   \n",
       "3                             1599.968720   \n",
       "4                             1601.339707   \n",
       "\n",
       "   primary_cleaner.state.floatbank8_a_level  \\\n",
       "0                               -498.912140   \n",
       "1                               -500.904965   \n",
       "2                               -499.997791   \n",
       "3                               -500.951778   \n",
       "4                               -498.975456   \n",
       "\n",
       "   primary_cleaner.state.floatbank8_b_air  \\\n",
       "0                             1551.434204   \n",
       "1                             1575.950626   \n",
       "2                             1600.386685   \n",
       "3                             1600.659236   \n",
       "4                             1601.437854   \n",
       "\n",
       "   primary_cleaner.state.floatbank8_b_level  \\\n",
       "0                               -516.403442   \n",
       "1                               -499.865889   \n",
       "2                               -500.607762   \n",
       "3                               -499.677094   \n",
       "4                               -500.323246   \n",
       "\n",
       "   primary_cleaner.state.floatbank8_c_air  \\\n",
       "0                             1549.873901   \n",
       "1                             1575.994189   \n",
       "2                             1602.003542   \n",
       "3                             1600.304144   \n",
       "4                             1599.581894   \n",
       "\n",
       "   primary_cleaner.state.floatbank8_c_level  ...  \\\n",
       "0                               -498.666595  ...   \n",
       "1                               -499.315107  ...   \n",
       "2                               -500.870069  ...   \n",
       "3                               -500.727997  ...   \n",
       "4                               -500.888152  ...   \n",
       "\n",
       "   secondary_cleaner.state.floatbank4_a_air  \\\n",
       "0                                 14.016835   \n",
       "1                                 13.992281   \n",
       "2                                 14.015015   \n",
       "3                                 14.036510   \n",
       "4                                 14.027298   \n",
       "\n",
       "   secondary_cleaner.state.floatbank4_a_level  \\\n",
       "0                                 -502.488007   \n",
       "1                                 -505.503262   \n",
       "2                                 -502.520901   \n",
       "3                                 -500.857308   \n",
       "4                                 -499.838632   \n",
       "\n",
       "   secondary_cleaner.state.floatbank4_b_air  \\\n",
       "0                                 12.099931   \n",
       "1                                 11.950531   \n",
       "2                                 11.912783   \n",
       "3                                 11.999550   \n",
       "4                                 11.953070   \n",
       "\n",
       "   secondary_cleaner.state.floatbank4_b_level  \\\n",
       "0                                 -504.715942   \n",
       "1                                 -501.331529   \n",
       "2                                 -501.133383   \n",
       "3                                 -501.193686   \n",
       "4                                 -501.053894   \n",
       "\n",
       "   secondary_cleaner.state.floatbank5_a_air  \\\n",
       "0                                  9.925633   \n",
       "1                                 10.039245   \n",
       "2                                 10.070913   \n",
       "3                                  9.970366   \n",
       "4                                  9.925709   \n",
       "\n",
       "   secondary_cleaner.state.floatbank5_a_level  \\\n",
       "0                                 -498.310211   \n",
       "1                                 -500.169983   \n",
       "2                                 -500.129135   \n",
       "3                                 -499.201640   \n",
       "4                                 -501.686727   \n",
       "\n",
       "   secondary_cleaner.state.floatbank5_b_air  \\\n",
       "0                                  8.079666   \n",
       "1                                  7.984757   \n",
       "2                                  8.013877   \n",
       "3                                  7.977324   \n",
       "4                                  7.894242   \n",
       "\n",
       "   secondary_cleaner.state.floatbank5_b_level  \\\n",
       "0                                 -500.470978   \n",
       "1                                 -500.582168   \n",
       "2                                 -500.517572   \n",
       "3                                 -500.255908   \n",
       "4                                 -500.356035   \n",
       "\n",
       "   secondary_cleaner.state.floatbank6_a_air  \\\n",
       "0                                 14.151341   \n",
       "1                                 13.998353   \n",
       "2                                 14.028663   \n",
       "3                                 14.005551   \n",
       "4                                 13.996647   \n",
       "\n",
       "   secondary_cleaner.state.floatbank6_a_level  \n",
       "0                                 -605.841980  \n",
       "1                                 -599.787184  \n",
       "2                                 -601.427363  \n",
       "3                                 -599.996129  \n",
       "4                                 -601.496691  \n",
       "\n",
       "[5 rows x 52 columns]"
      ]
     },
     "execution_count": 53,
     "metadata": {},
     "output_type": "execute_result"
    }
   ],
   "source": [
    "print(features_train.shape)\n",
    "features_train.head()"
   ]
  },
  {
   "cell_type": "markdown",
   "metadata": {},
   "source": [
    "#### Поиск дубликатов"
   ]
  },
  {
   "cell_type": "markdown",
   "metadata": {},
   "source": [
    "Проверим данные на дубликаты."
   ]
  },
  {
   "cell_type": "code",
   "execution_count": 30,
   "metadata": {},
   "outputs": [
    {
     "data": {
      "text/plain": [
       "0"
      ]
     },
     "execution_count": 30,
     "metadata": {},
     "output_type": "execute_result"
    }
   ],
   "source": [
    "df.duplicated().sum()"
   ]
  },
  {
   "cell_type": "markdown",
   "metadata": {},
   "source": [
    "Дубликатов не обнаружено."
   ]
  },
  {
   "cell_type": "markdown",
   "metadata": {},
   "source": [
    "#### Заполнение пропусков"
   ]
  },
  {
   "cell_type": "markdown",
   "metadata": {},
   "source": [
    "Посмотрим на относительное количество пропусков в обучающей и тестовой выборке."
   ]
  },
  {
   "cell_type": "code",
   "execution_count": 54,
   "metadata": {},
   "outputs": [
    {
     "data": {
      "text/plain": [
       "rougher.state.floatbank10_e_air               0.030815\n",
       "rougher.input.floatbank11_xanthate            0.030249\n",
       "secondary_cleaner.state.floatbank2_a_air      0.015337\n",
       "rougher.input.feed_size                       0.010177\n",
       "rougher.input.feed_pb                         0.007068\n",
       "primary_cleaner.input.xanthate                0.007068\n",
       "rougher.input.feed_sol                        0.005513\n",
       "rougher.input.floatbank11_sulfate             0.002544\n",
       "primary_cleaner.input.depressant              0.002262\n",
       "rougher.input.floatbank10_sulfate             0.002050\n",
       "secondary_cleaner.state.floatbank2_b_air      0.001484\n",
       "primary_cleaner.input.sulfate                 0.001414\n",
       "rougher.input.feed_rate                       0.000565\n",
       "rougher.input.floatbank10_xanthate            0.000565\n",
       "secondary_cleaner.state.floatbank4_a_air      0.000424\n",
       "primary_cleaner.state.floatbank8_a_air        0.000283\n",
       "primary_cleaner.state.floatbank8_b_air        0.000283\n",
       "secondary_cleaner.state.floatbank3_a_air      0.000283\n",
       "primary_cleaner.state.floatbank8_d_air        0.000212\n",
       "secondary_cleaner.state.floatbank6_a_air      0.000141\n",
       "primary_cleaner.state.floatbank8_c_air        0.000141\n",
       "secondary_cleaner.state.floatbank4_b_level    0.000071\n",
       "secondary_cleaner.state.floatbank5_b_level    0.000071\n",
       "secondary_cleaner.state.floatbank2_b_level    0.000071\n",
       "secondary_cleaner.state.floatbank3_a_level    0.000071\n",
       "secondary_cleaner.state.floatbank4_a_level    0.000071\n",
       "secondary_cleaner.state.floatbank3_b_air      0.000071\n",
       "secondary_cleaner.state.floatbank3_b_level    0.000071\n",
       "secondary_cleaner.state.floatbank5_a_air      0.000071\n",
       "secondary_cleaner.state.floatbank5_b_air      0.000071\n",
       "secondary_cleaner.state.floatbank4_b_air      0.000071\n",
       "secondary_cleaner.state.floatbank5_a_level    0.000071\n",
       "secondary_cleaner.state.floatbank2_a_level    0.000071\n",
       "rougher.state.floatbank10_c_air               0.000071\n",
       "rougher.state.floatbank10_a_air               0.000071\n",
       "rougher.state.floatbank10_b_air               0.000071\n",
       "primary_cleaner.state.floatbank8_a_level      0.000071\n",
       "primary_cleaner.state.floatbank8_b_level      0.000071\n",
       "primary_cleaner.state.floatbank8_c_level      0.000071\n",
       "primary_cleaner.state.floatbank8_d_level      0.000071\n",
       "rougher.state.floatbank10_a_level             0.000071\n",
       "secondary_cleaner.state.floatbank6_a_level    0.000071\n",
       "rougher.state.floatbank10_b_level             0.000071\n",
       "rougher.state.floatbank10_c_level             0.000071\n",
       "rougher.state.floatbank10_f_air               0.000000\n",
       "rougher.input.feed_au                         0.000000\n",
       "rougher.input.feed_ag                         0.000000\n",
       "rougher.state.floatbank10_d_air               0.000000\n",
       "rougher.state.floatbank10_d_level             0.000000\n",
       "rougher.state.floatbank10_e_level             0.000000\n",
       "primary_cleaner.input.feed_size               0.000000\n",
       "rougher.state.floatbank10_f_level             0.000000\n",
       "dtype: float64"
      ]
     },
     "execution_count": 54,
     "metadata": {},
     "output_type": "execute_result"
    }
   ],
   "source": [
    "(features_train.isna().sum() / len(features_train)).sort_values(ascending=False)"
   ]
  },
  {
   "cell_type": "code",
   "execution_count": 55,
   "metadata": {},
   "outputs": [
    {
     "data": {
      "text/plain": [
       "rougher.input.floatbank11_xanthate            0.004726\n",
       "rougher.input.feed_sol                        0.003970\n",
       "secondary_cleaner.state.floatbank3_a_air      0.001701\n",
       "rougher.input.floatbank11_sulfate             0.001512\n",
       "primary_cleaner.input.depressant              0.000945\n",
       "rougher.input.floatbank10_sulfate             0.000945\n",
       "primary_cleaner.input.sulfate                 0.000756\n",
       "primary_cleaner.input.xanthate                0.000756\n",
       "rougher.input.feed_rate                       0.000567\n",
       "secondary_cleaner.state.floatbank2_a_air      0.000567\n",
       "secondary_cleaner.state.floatbank2_b_air      0.000378\n",
       "rougher.input.feed_size                       0.000189\n",
       "secondary_cleaner.state.floatbank3_b_level    0.000000\n",
       "secondary_cleaner.state.floatbank3_b_air      0.000000\n",
       "rougher.state.floatbank10_f_air               0.000000\n",
       "rougher.state.floatbank10_f_level             0.000000\n",
       "secondary_cleaner.state.floatbank6_a_air      0.000000\n",
       "secondary_cleaner.state.floatbank5_b_level    0.000000\n",
       "secondary_cleaner.state.floatbank2_a_level    0.000000\n",
       "secondary_cleaner.state.floatbank5_b_air      0.000000\n",
       "secondary_cleaner.state.floatbank2_b_level    0.000000\n",
       "secondary_cleaner.state.floatbank5_a_level    0.000000\n",
       "secondary_cleaner.state.floatbank5_a_air      0.000000\n",
       "secondary_cleaner.state.floatbank4_b_level    0.000000\n",
       "secondary_cleaner.state.floatbank4_b_air      0.000000\n",
       "secondary_cleaner.state.floatbank3_a_level    0.000000\n",
       "secondary_cleaner.state.floatbank4_a_level    0.000000\n",
       "rougher.state.floatbank10_e_air               0.000000\n",
       "secondary_cleaner.state.floatbank4_a_air      0.000000\n",
       "rougher.state.floatbank10_e_level             0.000000\n",
       "rougher.state.floatbank10_c_air               0.000000\n",
       "rougher.state.floatbank10_d_level             0.000000\n",
       "primary_cleaner.state.floatbank8_d_level      0.000000\n",
       "primary_cleaner.input.feed_size               0.000000\n",
       "primary_cleaner.state.floatbank8_a_air        0.000000\n",
       "primary_cleaner.state.floatbank8_a_level      0.000000\n",
       "primary_cleaner.state.floatbank8_b_air        0.000000\n",
       "primary_cleaner.state.floatbank8_b_level      0.000000\n",
       "primary_cleaner.state.floatbank8_c_air        0.000000\n",
       "primary_cleaner.state.floatbank8_c_level      0.000000\n",
       "primary_cleaner.state.floatbank8_d_air        0.000000\n",
       "rougher.input.feed_ag                         0.000000\n",
       "rougher.state.floatbank10_d_air               0.000000\n",
       "rougher.input.feed_pb                         0.000000\n",
       "rougher.input.feed_au                         0.000000\n",
       "rougher.input.floatbank10_xanthate            0.000000\n",
       "rougher.state.floatbank10_a_air               0.000000\n",
       "rougher.state.floatbank10_a_level             0.000000\n",
       "rougher.state.floatbank10_b_air               0.000000\n",
       "rougher.state.floatbank10_b_level             0.000000\n",
       "rougher.state.floatbank10_c_level             0.000000\n",
       "secondary_cleaner.state.floatbank6_a_level    0.000000\n",
       "dtype: float64"
      ]
     },
     "execution_count": 55,
     "metadata": {},
     "output_type": "execute_result"
    }
   ],
   "source": [
    "(features_test.isna().sum() / len(features_test)).sort_values(ascending=False)"
   ]
  },
  {
   "cell_type": "markdown",
   "metadata": {},
   "source": [
    "Наибольшее количество пропусков в двух столбцах обучающей выборки - около 3%. В остальных столбцах пропусков меньше. В тестовой выборке количество пропусков во всех столбцах не превышает 0.5%. \n",
    "\n",
    "С одной стороны, пропусков немного, и их можно удалить, однако для получения модели хорошего качества желательно иметь как можно больше данных. Поэтому пропуски нужно как-то заполнить. Рассмотрим несколько способов заполнения и сравним их эффективность на простой модели."
   ]
  },
  {
   "cell_type": "markdown",
   "metadata": {},
   "source": [
    "##### Заполнение нулями"
   ]
  },
  {
   "cell_type": "markdown",
   "metadata": {},
   "source": [
    "Сначала попробуем простейшее заполнение нулями. Качество будем измерять с помощью MAE."
   ]
  },
  {
   "cell_type": "code",
   "execution_count": 56,
   "metadata": {},
   "outputs": [
    {
     "data": {
      "text/plain": [
       "8.740912378559186"
      ]
     },
     "execution_count": 56,
     "metadata": {},
     "output_type": "execute_result"
    }
   ],
   "source": [
    "imp_zeros = SimpleImputer(strategy='constant', fill_value=0)\n",
    "features_zeros = imp_zeros.fit_transform(features_train)\n",
    "model = LinearRegression()\n",
    "y_pred = cross_val_predict(model, features_zeros, target_train, cv=5)\n",
    "mean_absolute_error(target_train, y_pred)"
   ]
  },
  {
   "cell_type": "markdown",
   "metadata": {},
   "source": [
    "##### Заполнение медианой"
   ]
  },
  {
   "cell_type": "code",
   "execution_count": 57,
   "metadata": {},
   "outputs": [
    {
     "data": {
      "text/plain": [
       "8.20932501995007"
      ]
     },
     "execution_count": 57,
     "metadata": {},
     "output_type": "execute_result"
    }
   ],
   "source": [
    "imp_medians = SimpleImputer(strategy='median')\n",
    "features_medians = imp_medians.fit_transform(features_train)\n",
    "model = LinearRegression()\n",
    "y_pred = cross_val_predict(model, features_medians, target_train, cv=5)\n",
    "mean_absolute_error(target_train, y_pred)"
   ]
  },
  {
   "cell_type": "markdown",
   "metadata": {},
   "source": [
    "##### Заполнение средним"
   ]
  },
  {
   "cell_type": "code",
   "execution_count": 58,
   "metadata": {},
   "outputs": [
    {
     "data": {
      "text/plain": [
       "8.212180967467857"
      ]
     },
     "execution_count": 58,
     "metadata": {},
     "output_type": "execute_result"
    }
   ],
   "source": [
    "imp_means = SimpleImputer(strategy='mean')\n",
    "features_means = imp_means.fit_transform(features_train)\n",
    "model = LinearRegression()\n",
    "y_pred = cross_val_predict(model, features_means, target_train, cv=5)\n",
    "mean_absolute_error(target_train, y_pred)"
   ]
  },
  {
   "cell_type": "markdown",
   "metadata": {},
   "source": [
    "##### Заполнение с помощью метода К-ближайших соседей"
   ]
  },
  {
   "cell_type": "code",
   "execution_count": 59,
   "metadata": {},
   "outputs": [
    {
     "data": {
      "text/plain": [
       "8.216701051050222"
      ]
     },
     "execution_count": 59,
     "metadata": {},
     "output_type": "execute_result"
    }
   ],
   "source": [
    "imp_knn = KNNImputer()\n",
    "features_knn = imp_knn.fit_transform(features_train)\n",
    "features_knn = imp_knn.transform(features_train)\n",
    "model = LinearRegression()\n",
    "y_pred = cross_val_predict(model, features_knn, target_train, cv=5)\n",
    "mean_absolute_error(target_train, y_pred)"
   ]
  },
  {
   "cell_type": "markdown",
   "metadata": {},
   "source": [
    "##### Заполнение с помощью итеративного импьютера"
   ]
  },
  {
   "cell_type": "code",
   "execution_count": 60,
   "metadata": {},
   "outputs": [
    {
     "data": {
      "text/plain": [
       "8.18193457058452"
      ]
     },
     "execution_count": 60,
     "metadata": {},
     "output_type": "execute_result"
    }
   ],
   "source": [
    "imp_iter = IterativeImputer(max_iter=1000, random_state=42)\n",
    "features_iter = imp_iter.fit_transform(features_train)\n",
    "model = LinearRegression()\n",
    "y_pred = cross_val_predict(model, features_iter, target_train, cv=5)\n",
    "mean_absolute_error(target_train, y_pred)"
   ]
  },
  {
   "cell_type": "markdown",
   "metadata": {},
   "source": [
    "Наиболее эффективным оказалось заполнение с помощью итеративного импьютера, им и заполним пропуски."
   ]
  },
  {
   "cell_type": "code",
   "execution_count": 61,
   "metadata": {},
   "outputs": [],
   "source": [
    "imputer = IterativeImputer(max_iter=1000, random_state=42)\n",
    "features_train = pd.DataFrame(imputer.fit_transform(features_train), columns=features_train.columns)\n",
    "features_test = pd.DataFrame(imputer.transform(features_test), columns=features_test.columns)"
   ]
  },
  {
   "cell_type": "markdown",
   "metadata": {},
   "source": [
    "Выполняем проверку."
   ]
  },
  {
   "cell_type": "code",
   "execution_count": 62,
   "metadata": {
    "scrolled": false
   },
   "outputs": [
    {
     "name": "stdout",
     "output_type": "stream",
     "text": [
      "0\n",
      "0\n"
     ]
    }
   ],
   "source": [
    "print(features_train.isna().sum().sum())\n",
    "print(features_test.isna().sum().sum())"
   ]
  },
  {
   "cell_type": "markdown",
   "metadata": {},
   "source": [
    "#### Стандартизация данных"
   ]
  },
  {
   "cell_type": "markdown",
   "metadata": {},
   "source": [
    "Стандартизируем обучающую и тестовую выборки."
   ]
  },
  {
   "cell_type": "code",
   "execution_count": 63,
   "metadata": {},
   "outputs": [],
   "source": [
    "scaler = StandardScaler()\n",
    "features_train = pd.DataFrame(scaler.fit_transform(features_train), columns=features_train.columns)\n",
    "features_test = pd.DataFrame(scaler.transform(features_test), columns=features_test.columns)"
   ]
  },
  {
   "cell_type": "code",
   "execution_count": 64,
   "metadata": {},
   "outputs": [
    {
     "data": {
      "text/html": [
       "<div>\n",
       "<style scoped>\n",
       "    .dataframe tbody tr th:only-of-type {\n",
       "        vertical-align: middle;\n",
       "    }\n",
       "\n",
       "    .dataframe tbody tr th {\n",
       "        vertical-align: top;\n",
       "    }\n",
       "\n",
       "    .dataframe thead th {\n",
       "        text-align: right;\n",
       "    }\n",
       "</style>\n",
       "<table border=\"1\" class=\"dataframe\">\n",
       "  <thead>\n",
       "    <tr style=\"text-align: right;\">\n",
       "      <th></th>\n",
       "      <th>primary_cleaner.input.sulfate</th>\n",
       "      <th>primary_cleaner.input.depressant</th>\n",
       "      <th>primary_cleaner.input.feed_size</th>\n",
       "      <th>primary_cleaner.input.xanthate</th>\n",
       "      <th>primary_cleaner.state.floatbank8_a_air</th>\n",
       "      <th>primary_cleaner.state.floatbank8_a_level</th>\n",
       "      <th>primary_cleaner.state.floatbank8_b_air</th>\n",
       "      <th>primary_cleaner.state.floatbank8_b_level</th>\n",
       "      <th>primary_cleaner.state.floatbank8_c_air</th>\n",
       "      <th>primary_cleaner.state.floatbank8_c_level</th>\n",
       "      <th>...</th>\n",
       "      <th>secondary_cleaner.state.floatbank4_a_air</th>\n",
       "      <th>secondary_cleaner.state.floatbank4_a_level</th>\n",
       "      <th>secondary_cleaner.state.floatbank4_b_air</th>\n",
       "      <th>secondary_cleaner.state.floatbank4_b_level</th>\n",
       "      <th>secondary_cleaner.state.floatbank5_a_air</th>\n",
       "      <th>secondary_cleaner.state.floatbank5_a_level</th>\n",
       "      <th>secondary_cleaner.state.floatbank5_b_air</th>\n",
       "      <th>secondary_cleaner.state.floatbank5_b_level</th>\n",
       "      <th>secondary_cleaner.state.floatbank6_a_air</th>\n",
       "      <th>secondary_cleaner.state.floatbank6_a_level</th>\n",
       "    </tr>\n",
       "  </thead>\n",
       "  <tbody>\n",
       "    <tr>\n",
       "      <th>0</th>\n",
       "      <td>-0.153001</td>\n",
       "      <td>0.377210</td>\n",
       "      <td>-0.117761</td>\n",
       "      <td>0.282760</td>\n",
       "      <td>-0.453745</td>\n",
       "      <td>-0.283939</td>\n",
       "      <td>-0.436354</td>\n",
       "      <td>-0.810431</td>\n",
       "      <td>-0.439583</td>\n",
       "      <td>-0.254385</td>\n",
       "      <td>...</td>\n",
       "      <td>-1.054168</td>\n",
       "      <td>-0.468968</td>\n",
       "      <td>-0.644528</td>\n",
       "      <td>-0.756052</td>\n",
       "      <td>-1.174580</td>\n",
       "      <td>-0.378851</td>\n",
       "      <td>-0.864660</td>\n",
       "      <td>-0.420990</td>\n",
       "      <td>-0.941375</td>\n",
       "      <td>-2.671283</td>\n",
       "    </tr>\n",
       "    <tr>\n",
       "      <th>1</th>\n",
       "      <td>-0.189879</td>\n",
       "      <td>0.427043</td>\n",
       "      <td>-0.117761</td>\n",
       "      <td>0.319985</td>\n",
       "      <td>-0.248187</td>\n",
       "      <td>-0.339758</td>\n",
       "      <td>-0.249357</td>\n",
       "      <td>-0.318273</td>\n",
       "      <td>-0.245030</td>\n",
       "      <td>-0.272591</td>\n",
       "      <td>...</td>\n",
       "      <td>-1.058507</td>\n",
       "      <td>-0.528402</td>\n",
       "      <td>-0.672956</td>\n",
       "      <td>-0.698533</td>\n",
       "      <td>-1.155098</td>\n",
       "      <td>-0.427935</td>\n",
       "      <td>-0.881122</td>\n",
       "      <td>-0.423826</td>\n",
       "      <td>-0.967917</td>\n",
       "      <td>-2.507978</td>\n",
       "    </tr>\n",
       "    <tr>\n",
       "      <th>2</th>\n",
       "      <td>-0.235496</td>\n",
       "      <td>0.729688</td>\n",
       "      <td>-0.117761</td>\n",
       "      <td>0.289470</td>\n",
       "      <td>-0.050429</td>\n",
       "      <td>-0.314348</td>\n",
       "      <td>-0.062974</td>\n",
       "      <td>-0.340351</td>\n",
       "      <td>-0.051303</td>\n",
       "      <td>-0.316243</td>\n",
       "      <td>...</td>\n",
       "      <td>-1.054490</td>\n",
       "      <td>-0.469616</td>\n",
       "      <td>-0.680139</td>\n",
       "      <td>-0.695165</td>\n",
       "      <td>-1.149667</td>\n",
       "      <td>-0.426857</td>\n",
       "      <td>-0.876071</td>\n",
       "      <td>-0.422179</td>\n",
       "      <td>-0.962659</td>\n",
       "      <td>-2.552216</td>\n",
       "    </tr>\n",
       "    <tr>\n",
       "      <th>3</th>\n",
       "      <td>-0.274564</td>\n",
       "      <td>0.731426</td>\n",
       "      <td>-0.117761</td>\n",
       "      <td>0.304124</td>\n",
       "      <td>-0.062794</td>\n",
       "      <td>-0.341069</td>\n",
       "      <td>-0.060895</td>\n",
       "      <td>-0.312654</td>\n",
       "      <td>-0.063961</td>\n",
       "      <td>-0.312255</td>\n",
       "      <td>...</td>\n",
       "      <td>-1.050691</td>\n",
       "      <td>-0.436825</td>\n",
       "      <td>-0.663629</td>\n",
       "      <td>-0.696190</td>\n",
       "      <td>-1.166909</td>\n",
       "      <td>-0.402378</td>\n",
       "      <td>-0.882412</td>\n",
       "      <td>-0.415504</td>\n",
       "      <td>-0.966669</td>\n",
       "      <td>-2.513614</td>\n",
       "    </tr>\n",
       "    <tr>\n",
       "      <th>4</th>\n",
       "      <td>-0.382518</td>\n",
       "      <td>0.906918</td>\n",
       "      <td>-0.117761</td>\n",
       "      <td>0.339278</td>\n",
       "      <td>-0.052115</td>\n",
       "      <td>-0.285713</td>\n",
       "      <td>-0.054957</td>\n",
       "      <td>-0.331884</td>\n",
       "      <td>-0.069340</td>\n",
       "      <td>-0.316751</td>\n",
       "      <td>...</td>\n",
       "      <td>-1.052319</td>\n",
       "      <td>-0.416746</td>\n",
       "      <td>-0.672473</td>\n",
       "      <td>-0.693814</td>\n",
       "      <td>-1.174567</td>\n",
       "      <td>-0.467965</td>\n",
       "      <td>-0.896822</td>\n",
       "      <td>-0.418058</td>\n",
       "      <td>-0.968213</td>\n",
       "      <td>-2.554086</td>\n",
       "    </tr>\n",
       "  </tbody>\n",
       "</table>\n",
       "<p>5 rows × 52 columns</p>\n",
       "</div>"
      ],
      "text/plain": [
       "   primary_cleaner.input.sulfate  primary_cleaner.input.depressant  \\\n",
       "0                      -0.153001                          0.377210   \n",
       "1                      -0.189879                          0.427043   \n",
       "2                      -0.235496                          0.729688   \n",
       "3                      -0.274564                          0.731426   \n",
       "4                      -0.382518                          0.906918   \n",
       "\n",
       "   primary_cleaner.input.feed_size  primary_cleaner.input.xanthate  \\\n",
       "0                        -0.117761                        0.282760   \n",
       "1                        -0.117761                        0.319985   \n",
       "2                        -0.117761                        0.289470   \n",
       "3                        -0.117761                        0.304124   \n",
       "4                        -0.117761                        0.339278   \n",
       "\n",
       "   primary_cleaner.state.floatbank8_a_air  \\\n",
       "0                               -0.453745   \n",
       "1                               -0.248187   \n",
       "2                               -0.050429   \n",
       "3                               -0.062794   \n",
       "4                               -0.052115   \n",
       "\n",
       "   primary_cleaner.state.floatbank8_a_level  \\\n",
       "0                                 -0.283939   \n",
       "1                                 -0.339758   \n",
       "2                                 -0.314348   \n",
       "3                                 -0.341069   \n",
       "4                                 -0.285713   \n",
       "\n",
       "   primary_cleaner.state.floatbank8_b_air  \\\n",
       "0                               -0.436354   \n",
       "1                               -0.249357   \n",
       "2                               -0.062974   \n",
       "3                               -0.060895   \n",
       "4                               -0.054957   \n",
       "\n",
       "   primary_cleaner.state.floatbank8_b_level  \\\n",
       "0                                 -0.810431   \n",
       "1                                 -0.318273   \n",
       "2                                 -0.340351   \n",
       "3                                 -0.312654   \n",
       "4                                 -0.331884   \n",
       "\n",
       "   primary_cleaner.state.floatbank8_c_air  \\\n",
       "0                               -0.439583   \n",
       "1                               -0.245030   \n",
       "2                               -0.051303   \n",
       "3                               -0.063961   \n",
       "4                               -0.069340   \n",
       "\n",
       "   primary_cleaner.state.floatbank8_c_level  ...  \\\n",
       "0                                 -0.254385  ...   \n",
       "1                                 -0.272591  ...   \n",
       "2                                 -0.316243  ...   \n",
       "3                                 -0.312255  ...   \n",
       "4                                 -0.316751  ...   \n",
       "\n",
       "   secondary_cleaner.state.floatbank4_a_air  \\\n",
       "0                                 -1.054168   \n",
       "1                                 -1.058507   \n",
       "2                                 -1.054490   \n",
       "3                                 -1.050691   \n",
       "4                                 -1.052319   \n",
       "\n",
       "   secondary_cleaner.state.floatbank4_a_level  \\\n",
       "0                                   -0.468968   \n",
       "1                                   -0.528402   \n",
       "2                                   -0.469616   \n",
       "3                                   -0.436825   \n",
       "4                                   -0.416746   \n",
       "\n",
       "   secondary_cleaner.state.floatbank4_b_air  \\\n",
       "0                                 -0.644528   \n",
       "1                                 -0.672956   \n",
       "2                                 -0.680139   \n",
       "3                                 -0.663629   \n",
       "4                                 -0.672473   \n",
       "\n",
       "   secondary_cleaner.state.floatbank4_b_level  \\\n",
       "0                                   -0.756052   \n",
       "1                                   -0.698533   \n",
       "2                                   -0.695165   \n",
       "3                                   -0.696190   \n",
       "4                                   -0.693814   \n",
       "\n",
       "   secondary_cleaner.state.floatbank5_a_air  \\\n",
       "0                                 -1.174580   \n",
       "1                                 -1.155098   \n",
       "2                                 -1.149667   \n",
       "3                                 -1.166909   \n",
       "4                                 -1.174567   \n",
       "\n",
       "   secondary_cleaner.state.floatbank5_a_level  \\\n",
       "0                                   -0.378851   \n",
       "1                                   -0.427935   \n",
       "2                                   -0.426857   \n",
       "3                                   -0.402378   \n",
       "4                                   -0.467965   \n",
       "\n",
       "   secondary_cleaner.state.floatbank5_b_air  \\\n",
       "0                                 -0.864660   \n",
       "1                                 -0.881122   \n",
       "2                                 -0.876071   \n",
       "3                                 -0.882412   \n",
       "4                                 -0.896822   \n",
       "\n",
       "   secondary_cleaner.state.floatbank5_b_level  \\\n",
       "0                                   -0.420990   \n",
       "1                                   -0.423826   \n",
       "2                                   -0.422179   \n",
       "3                                   -0.415504   \n",
       "4                                   -0.418058   \n",
       "\n",
       "   secondary_cleaner.state.floatbank6_a_air  \\\n",
       "0                                 -0.941375   \n",
       "1                                 -0.967917   \n",
       "2                                 -0.962659   \n",
       "3                                 -0.966669   \n",
       "4                                 -0.968213   \n",
       "\n",
       "   secondary_cleaner.state.floatbank6_a_level  \n",
       "0                                   -2.671283  \n",
       "1                                   -2.507978  \n",
       "2                                   -2.552216  \n",
       "3                                   -2.513614  \n",
       "4                                   -2.554086  \n",
       "\n",
       "[5 rows x 52 columns]"
      ]
     },
     "execution_count": 64,
     "metadata": {},
     "output_type": "execute_result"
    }
   ],
   "source": [
    "features_train.head()"
   ]
  },
  {
   "cell_type": "code",
   "execution_count": 65,
   "metadata": {},
   "outputs": [
    {
     "data": {
      "text/html": [
       "<div>\n",
       "<style scoped>\n",
       "    .dataframe tbody tr th:only-of-type {\n",
       "        vertical-align: middle;\n",
       "    }\n",
       "\n",
       "    .dataframe tbody tr th {\n",
       "        vertical-align: top;\n",
       "    }\n",
       "\n",
       "    .dataframe thead th {\n",
       "        text-align: right;\n",
       "    }\n",
       "</style>\n",
       "<table border=\"1\" class=\"dataframe\">\n",
       "  <thead>\n",
       "    <tr style=\"text-align: right;\">\n",
       "      <th></th>\n",
       "      <th>primary_cleaner.input.sulfate</th>\n",
       "      <th>primary_cleaner.input.depressant</th>\n",
       "      <th>primary_cleaner.input.feed_size</th>\n",
       "      <th>primary_cleaner.input.xanthate</th>\n",
       "      <th>primary_cleaner.state.floatbank8_a_air</th>\n",
       "      <th>primary_cleaner.state.floatbank8_a_level</th>\n",
       "      <th>primary_cleaner.state.floatbank8_b_air</th>\n",
       "      <th>primary_cleaner.state.floatbank8_b_level</th>\n",
       "      <th>primary_cleaner.state.floatbank8_c_air</th>\n",
       "      <th>primary_cleaner.state.floatbank8_c_level</th>\n",
       "      <th>...</th>\n",
       "      <th>secondary_cleaner.state.floatbank4_a_air</th>\n",
       "      <th>secondary_cleaner.state.floatbank4_a_level</th>\n",
       "      <th>secondary_cleaner.state.floatbank4_b_air</th>\n",
       "      <th>secondary_cleaner.state.floatbank4_b_level</th>\n",
       "      <th>secondary_cleaner.state.floatbank5_a_air</th>\n",
       "      <th>secondary_cleaner.state.floatbank5_a_level</th>\n",
       "      <th>secondary_cleaner.state.floatbank5_b_air</th>\n",
       "      <th>secondary_cleaner.state.floatbank5_b_level</th>\n",
       "      <th>secondary_cleaner.state.floatbank6_a_air</th>\n",
       "      <th>secondary_cleaner.state.floatbank6_a_level</th>\n",
       "    </tr>\n",
       "  </thead>\n",
       "  <tbody>\n",
       "    <tr>\n",
       "      <th>0</th>\n",
       "      <td>1.957387</td>\n",
       "      <td>1.820614</td>\n",
       "      <td>1.233941</td>\n",
       "      <td>0.326299</td>\n",
       "      <td>-1.628277</td>\n",
       "      <td>-0.320729</td>\n",
       "      <td>-1.597922</td>\n",
       "      <td>-0.319875</td>\n",
       "      <td>-1.555128</td>\n",
       "      <td>-0.311591</td>\n",
       "      <td>...</td>\n",
       "      <td>-1.406404</td>\n",
       "      <td>-0.376480</td>\n",
       "      <td>-1.421512</td>\n",
       "      <td>-0.697812</td>\n",
       "      <td>-1.513956</td>\n",
       "      <td>1.362824</td>\n",
       "      <td>-1.420954</td>\n",
       "      <td>-0.409932</td>\n",
       "      <td>1.236742</td>\n",
       "      <td>0.191224</td>\n",
       "    </tr>\n",
       "    <tr>\n",
       "      <th>1</th>\n",
       "      <td>2.073144</td>\n",
       "      <td>1.818939</td>\n",
       "      <td>1.233941</td>\n",
       "      <td>0.287338</td>\n",
       "      <td>-1.629861</td>\n",
       "      <td>-0.316019</td>\n",
       "      <td>-1.606233</td>\n",
       "      <td>-0.315663</td>\n",
       "      <td>-1.584564</td>\n",
       "      <td>-0.270487</td>\n",
       "      <td>...</td>\n",
       "      <td>-1.400292</td>\n",
       "      <td>-0.394218</td>\n",
       "      <td>-1.399758</td>\n",
       "      <td>-0.669686</td>\n",
       "      <td>-1.511949</td>\n",
       "      <td>-1.105410</td>\n",
       "      <td>-1.419855</td>\n",
       "      <td>-0.413119</td>\n",
       "      <td>0.944243</td>\n",
       "      <td>0.188257</td>\n",
       "    </tr>\n",
       "    <tr>\n",
       "      <th>2</th>\n",
       "      <td>2.069804</td>\n",
       "      <td>1.195111</td>\n",
       "      <td>0.756231</td>\n",
       "      <td>0.302261</td>\n",
       "      <td>-1.632075</td>\n",
       "      <td>-0.338733</td>\n",
       "      <td>-1.600092</td>\n",
       "      <td>-0.315257</td>\n",
       "      <td>-1.570228</td>\n",
       "      <td>-0.352217</td>\n",
       "      <td>...</td>\n",
       "      <td>-1.417216</td>\n",
       "      <td>-0.395632</td>\n",
       "      <td>-1.406244</td>\n",
       "      <td>-0.689965</td>\n",
       "      <td>-1.492608</td>\n",
       "      <td>-0.444606</td>\n",
       "      <td>-1.415297</td>\n",
       "      <td>-0.404603</td>\n",
       "      <td>0.939892</td>\n",
       "      <td>0.166596</td>\n",
       "    </tr>\n",
       "    <tr>\n",
       "      <th>3</th>\n",
       "      <td>2.071727</td>\n",
       "      <td>0.934568</td>\n",
       "      <td>0.517376</td>\n",
       "      <td>-0.052560</td>\n",
       "      <td>-1.623317</td>\n",
       "      <td>-0.282579</td>\n",
       "      <td>-1.610926</td>\n",
       "      <td>-0.298784</td>\n",
       "      <td>-1.554932</td>\n",
       "      <td>-0.245662</td>\n",
       "      <td>...</td>\n",
       "      <td>-1.404718</td>\n",
       "      <td>-0.387421</td>\n",
       "      <td>-1.410420</td>\n",
       "      <td>-0.666970</td>\n",
       "      <td>-1.522441</td>\n",
       "      <td>-0.446370</td>\n",
       "      <td>-1.410740</td>\n",
       "      <td>-0.408049</td>\n",
       "      <td>0.931921</td>\n",
       "      <td>0.218180</td>\n",
       "    </tr>\n",
       "    <tr>\n",
       "      <th>4</th>\n",
       "      <td>1.662378</td>\n",
       "      <td>0.541653</td>\n",
       "      <td>0.338235</td>\n",
       "      <td>-0.207682</td>\n",
       "      <td>-1.610465</td>\n",
       "      <td>-0.337051</td>\n",
       "      <td>-1.605673</td>\n",
       "      <td>-0.307519</td>\n",
       "      <td>-1.539716</td>\n",
       "      <td>-0.314574</td>\n",
       "      <td>...</td>\n",
       "      <td>-1.406083</td>\n",
       "      <td>-0.435429</td>\n",
       "      <td>-1.414277</td>\n",
       "      <td>-0.682658</td>\n",
       "      <td>-1.486291</td>\n",
       "      <td>-0.674878</td>\n",
       "      <td>-1.406182</td>\n",
       "      <td>-0.418160</td>\n",
       "      <td>0.941361</td>\n",
       "      <td>0.160291</td>\n",
       "    </tr>\n",
       "  </tbody>\n",
       "</table>\n",
       "<p>5 rows × 52 columns</p>\n",
       "</div>"
      ],
      "text/plain": [
       "   primary_cleaner.input.sulfate  primary_cleaner.input.depressant  \\\n",
       "0                       1.957387                          1.820614   \n",
       "1                       2.073144                          1.818939   \n",
       "2                       2.069804                          1.195111   \n",
       "3                       2.071727                          0.934568   \n",
       "4                       1.662378                          0.541653   \n",
       "\n",
       "   primary_cleaner.input.feed_size  primary_cleaner.input.xanthate  \\\n",
       "0                         1.233941                        0.326299   \n",
       "1                         1.233941                        0.287338   \n",
       "2                         0.756231                        0.302261   \n",
       "3                         0.517376                       -0.052560   \n",
       "4                         0.338235                       -0.207682   \n",
       "\n",
       "   primary_cleaner.state.floatbank8_a_air  \\\n",
       "0                               -1.628277   \n",
       "1                               -1.629861   \n",
       "2                               -1.632075   \n",
       "3                               -1.623317   \n",
       "4                               -1.610465   \n",
       "\n",
       "   primary_cleaner.state.floatbank8_a_level  \\\n",
       "0                                 -0.320729   \n",
       "1                                 -0.316019   \n",
       "2                                 -0.338733   \n",
       "3                                 -0.282579   \n",
       "4                                 -0.337051   \n",
       "\n",
       "   primary_cleaner.state.floatbank8_b_air  \\\n",
       "0                               -1.597922   \n",
       "1                               -1.606233   \n",
       "2                               -1.600092   \n",
       "3                               -1.610926   \n",
       "4                               -1.605673   \n",
       "\n",
       "   primary_cleaner.state.floatbank8_b_level  \\\n",
       "0                                 -0.319875   \n",
       "1                                 -0.315663   \n",
       "2                                 -0.315257   \n",
       "3                                 -0.298784   \n",
       "4                                 -0.307519   \n",
       "\n",
       "   primary_cleaner.state.floatbank8_c_air  \\\n",
       "0                               -1.555128   \n",
       "1                               -1.584564   \n",
       "2                               -1.570228   \n",
       "3                               -1.554932   \n",
       "4                               -1.539716   \n",
       "\n",
       "   primary_cleaner.state.floatbank8_c_level  ...  \\\n",
       "0                                 -0.311591  ...   \n",
       "1                                 -0.270487  ...   \n",
       "2                                 -0.352217  ...   \n",
       "3                                 -0.245662  ...   \n",
       "4                                 -0.314574  ...   \n",
       "\n",
       "   secondary_cleaner.state.floatbank4_a_air  \\\n",
       "0                                 -1.406404   \n",
       "1                                 -1.400292   \n",
       "2                                 -1.417216   \n",
       "3                                 -1.404718   \n",
       "4                                 -1.406083   \n",
       "\n",
       "   secondary_cleaner.state.floatbank4_a_level  \\\n",
       "0                                   -0.376480   \n",
       "1                                   -0.394218   \n",
       "2                                   -0.395632   \n",
       "3                                   -0.387421   \n",
       "4                                   -0.435429   \n",
       "\n",
       "   secondary_cleaner.state.floatbank4_b_air  \\\n",
       "0                                 -1.421512   \n",
       "1                                 -1.399758   \n",
       "2                                 -1.406244   \n",
       "3                                 -1.410420   \n",
       "4                                 -1.414277   \n",
       "\n",
       "   secondary_cleaner.state.floatbank4_b_level  \\\n",
       "0                                   -0.697812   \n",
       "1                                   -0.669686   \n",
       "2                                   -0.689965   \n",
       "3                                   -0.666970   \n",
       "4                                   -0.682658   \n",
       "\n",
       "   secondary_cleaner.state.floatbank5_a_air  \\\n",
       "0                                 -1.513956   \n",
       "1                                 -1.511949   \n",
       "2                                 -1.492608   \n",
       "3                                 -1.522441   \n",
       "4                                 -1.486291   \n",
       "\n",
       "   secondary_cleaner.state.floatbank5_a_level  \\\n",
       "0                                    1.362824   \n",
       "1                                   -1.105410   \n",
       "2                                   -0.444606   \n",
       "3                                   -0.446370   \n",
       "4                                   -0.674878   \n",
       "\n",
       "   secondary_cleaner.state.floatbank5_b_air  \\\n",
       "0                                 -1.420954   \n",
       "1                                 -1.419855   \n",
       "2                                 -1.415297   \n",
       "3                                 -1.410740   \n",
       "4                                 -1.406182   \n",
       "\n",
       "   secondary_cleaner.state.floatbank5_b_level  \\\n",
       "0                                   -0.409932   \n",
       "1                                   -0.413119   \n",
       "2                                   -0.404603   \n",
       "3                                   -0.408049   \n",
       "4                                   -0.418160   \n",
       "\n",
       "   secondary_cleaner.state.floatbank6_a_air  \\\n",
       "0                                  1.236742   \n",
       "1                                  0.944243   \n",
       "2                                  0.939892   \n",
       "3                                  0.931921   \n",
       "4                                  0.941361   \n",
       "\n",
       "   secondary_cleaner.state.floatbank6_a_level  \n",
       "0                                    0.191224  \n",
       "1                                    0.188257  \n",
       "2                                    0.166596  \n",
       "3                                    0.218180  \n",
       "4                                    0.160291  \n",
       "\n",
       "[5 rows x 52 columns]"
      ]
     },
     "execution_count": 65,
     "metadata": {},
     "output_type": "execute_result"
    }
   ],
   "source": [
    "features_test.head()"
   ]
  },
  {
   "cell_type": "markdown",
   "metadata": {},
   "source": [
    "### Вывод"
   ]
  },
  {
   "cell_type": "markdown",
   "metadata": {},
   "source": [
    "1. Обучающая и тестовые выборки, а также исходные данные, были загружены.\n",
    "2. Было проверено, что эффективность обогащения рассчитана корректно.\n",
    "3. Были проанализированы признаки, которые не попали в тестовую выборку. В тестовой выборке недоступны некоторые расчетные и выходные характеристики процесса.\n",
    "4. Была произведена предобработка даннных, в результате которой в данных были выделены целевые признаки и матрица признаков для обучающей и тестовой выборок, пропуски были заполнены с помощью итеративного импьютера, данные стандартизированы."
   ]
  },
  {
   "cell_type": "markdown",
   "metadata": {},
   "source": [
    "## Анализ данных"
   ]
  },
  {
   "cell_type": "markdown",
   "metadata": {},
   "source": [
    "### Концентрация металлов на различных этапах очистки"
   ]
  },
  {
   "cell_type": "markdown",
   "metadata": {},
   "source": [
    "Посмотрим, как меняется концентрация золота на различных этапах."
   ]
  },
  {
   "cell_type": "code",
   "execution_count": 66,
   "metadata": {},
   "outputs": [
    {
     "data": {
      "image/png": "[encoded data removed]",
      "text/plain": [
       "<Figure size 1080x432 with 1 Axes>"
      ]
     },
     "metadata": {
      "needs_background": "light"
     },
     "output_type": "display_data"
    }
   ],
   "source": [
    "plt.figure(figsize=(15,6))\n",
    "sns.kdeplot(df['rougher.input.feed_au'], label='initial')\n",
    "sns.kdeplot(df['rougher.output.concentrate_au'], label='rougher')\n",
    "sns.kdeplot(df['primary_cleaner.output.concentrate_au'], label='first_stage_cleaning')\n",
    "sns.kdeplot(df['final.output.concentrate_au'], label='final')\n",
    "plt.xlabel('Concentration')\n",
    "plt.title('Au concentration distribution on the different stages')\n",
    "plt.legend()\n",
    "plt.show()"
   ]
  },
  {
   "cell_type": "markdown",
   "metadata": {},
   "source": [
    "По полученным распределениями отчетливо видно, что концентрация золота увеличивается на каждом этапе (флотация, первичная и вторичная очистка)."
   ]
  },
  {
   "cell_type": "markdown",
   "metadata": {},
   "source": [
    "Посмотрим на изменение концентрации серебра на каждом этапе."
   ]
  },
  {
   "cell_type": "code",
   "execution_count": 67,
   "metadata": {},
   "outputs": [
    {
     "data": {
      "image/png": "[encoded data removed]",
      "text/plain": [
       "<Figure size 1080x432 with 1 Axes>"
      ]
     },
     "metadata": {
      "needs_background": "light"
     },
     "output_type": "display_data"
    }
   ],
   "source": [
    "plt.figure(figsize=(15,6))\n",
    "sns.kdeplot(df['rougher.input.feed_ag'], label='initial')\n",
    "sns.kdeplot(df['rougher.output.concentrate_ag'], label='rougher')\n",
    "sns.kdeplot(df['primary_cleaner.output.concentrate_ag'], label='first_stage_cleaning')\n",
    "sns.kdeplot(df['final.output.concentrate_ag'], label='final')\n",
    "plt.xlabel('Concentration')\n",
    "plt.title('Aп concentration distribution on the different stages')\n",
    "plt.legend()\n",
    "plt.show()"
   ]
  },
  {
   "cell_type": "markdown",
   "metadata": {},
   "source": [
    "По полученным распределениям можно сделать вывод, что на стадии флотации концентрация серебра в смеси значительно увеличивается. На стадиях же первичной и вторичной очистки серебро удаляется из концентрата. Финальная концентрация серебра ниже изначальной."
   ]
  },
  {
   "cell_type": "markdown",
   "metadata": {},
   "source": [
    "Посмотрим как изменяется концентрация свинца на различных этапах."
   ]
  },
  {
   "cell_type": "code",
   "execution_count": 68,
   "metadata": {},
   "outputs": [
    {
     "data": {
      "image/png": "[encoded data removed]",
      "text/plain": [
       "<Figure size 1080x432 with 1 Axes>"
      ]
     },
     "metadata": {
      "needs_background": "light"
     },
     "output_type": "display_data"
    }
   ],
   "source": [
    "plt.figure(figsize=(15,6))\n",
    "sns.kdeplot(df['rougher.input.feed_pb'], label='initial')\n",
    "sns.kdeplot(df['rougher.output.concentrate_pb'], label='rougher')\n",
    "sns.kdeplot(df['primary_cleaner.output.concentrate_pb'], label='first_stage_cleaning')\n",
    "sns.kdeplot(df['final.output.concentrate_pb'], label='final')\n",
    "plt.xlabel('Concentration')\n",
    "plt.title('Pb concentration distribution on the different stages')\n",
    "plt.legend()\n",
    "plt.show()"
   ]
  },
  {
   "cell_type": "markdown",
   "metadata": {},
   "source": [
    "Концентрация свинца в смеси увеличивается на стадии флотации и на стадии первичной очистки. На стадии вторичной очистки концентрация свинца меняется несильно."
   ]
  },
  {
   "cell_type": "markdown",
   "metadata": {},
   "source": [
    "**Вывод:**\n",
    "1. Концентрация золота в смеси увеличивается на каждом этапе очистки.\n",
    "2. Концентрация серебра увеличивается на этапе флотации, но затем на стадиях очистки его концентрация снижается. Финальная концентрация ниже исходной.\n",
    "3. Концентрация свинца увеличивается на всех стадиях кроме стадии вторичной очистки."
   ]
  },
  {
   "cell_type": "markdown",
   "metadata": {},
   "source": [
    "### Распределение размеров гранул сырья на обучающей и тестовой выборках"
   ]
  },
  {
   "cell_type": "code",
   "execution_count": 69,
   "metadata": {},
   "outputs": [],
   "source": [
    "sample_train = df_train['rougher.input.feed_size']\n",
    "sample_test = df_test['rougher.input.feed_size']"
   ]
  },
  {
   "cell_type": "markdown",
   "metadata": {},
   "source": [
    "Взглянем на распределение размеров гранул сырья на обучающей и тестовой выборках."
   ]
  },
  {
   "cell_type": "code",
   "execution_count": 70,
   "metadata": {},
   "outputs": [
    {
     "data": {
      "image/png": "[encoded data removed]",
      "text/plain": [
       "<Figure size 1008x360 with 1 Axes>"
      ]
     },
     "metadata": {
      "needs_background": "light"
     },
     "output_type": "display_data"
    }
   ],
   "source": [
    "plt.figure(figsize=(14,5))\n",
    "sns.kdeplot(sample_train, label='train')\n",
    "sns.kdeplot(sample_test, label='test')\n",
    "plt.xlabel('Grain size')\n",
    "plt.title('Grain size distribution')\n",
    "plt.legend()\n",
    "plt.show()"
   ]
  },
  {
   "cell_type": "markdown",
   "metadata": {},
   "source": [
    "Оба распределения имеют нормальный вид, однако оба скошены вправо. Взглянем на среднее и стандартное отклонение распределений."
   ]
  },
  {
   "cell_type": "code",
   "execution_count": 71,
   "metadata": {},
   "outputs": [
    {
     "data": {
      "text/html": [
       "<div>\n",
       "<style scoped>\n",
       "    .dataframe tbody tr th:only-of-type {\n",
       "        vertical-align: middle;\n",
       "    }\n",
       "\n",
       "    .dataframe tbody tr th {\n",
       "        vertical-align: top;\n",
       "    }\n",
       "\n",
       "    .dataframe thead th {\n",
       "        text-align: right;\n",
       "    }\n",
       "</style>\n",
       "<table border=\"1\" class=\"dataframe\">\n",
       "  <thead>\n",
       "    <tr style=\"text-align: right;\">\n",
       "      <th></th>\n",
       "      <th>rougher.input.feed_size</th>\n",
       "      <th>rougher.input.feed_size</th>\n",
       "    </tr>\n",
       "  </thead>\n",
       "  <tbody>\n",
       "    <tr>\n",
       "      <th>count</th>\n",
       "      <td>14005.000000</td>\n",
       "      <td>5289.000000</td>\n",
       "    </tr>\n",
       "    <tr>\n",
       "      <th>mean</th>\n",
       "      <td>60.110518</td>\n",
       "      <td>55.951097</td>\n",
       "    </tr>\n",
       "    <tr>\n",
       "      <th>std</th>\n",
       "      <td>22.418485</td>\n",
       "      <td>19.081758</td>\n",
       "    </tr>\n",
       "    <tr>\n",
       "      <th>min</th>\n",
       "      <td>9.659576</td>\n",
       "      <td>0.046369</td>\n",
       "    </tr>\n",
       "    <tr>\n",
       "      <th>25%</th>\n",
       "      <td>48.973027</td>\n",
       "      <td>43.906347</td>\n",
       "    </tr>\n",
       "    <tr>\n",
       "      <th>50%</th>\n",
       "      <td>55.373885</td>\n",
       "      <td>50.841029</td>\n",
       "    </tr>\n",
       "    <tr>\n",
       "      <th>75%</th>\n",
       "      <td>66.080172</td>\n",
       "      <td>62.431047</td>\n",
       "    </tr>\n",
       "    <tr>\n",
       "      <th>max</th>\n",
       "      <td>484.967466</td>\n",
       "      <td>392.494040</td>\n",
       "    </tr>\n",
       "  </tbody>\n",
       "</table>\n",
       "</div>"
      ],
      "text/plain": [
       "       rougher.input.feed_size  rougher.input.feed_size\n",
       "count             14005.000000              5289.000000\n",
       "mean                 60.110518                55.951097\n",
       "std                  22.418485                19.081758\n",
       "min                   9.659576                 0.046369\n",
       "25%                  48.973027                43.906347\n",
       "50%                  55.373885                50.841029\n",
       "75%                  66.080172                62.431047\n",
       "max                 484.967466               392.494040"
      ]
     },
     "execution_count": 71,
     "metadata": {},
     "output_type": "execute_result"
    }
   ],
   "source": [
    "pd.concat([sample_train.describe(), sample_test.describe()], axis=1)"
   ]
  },
  {
   "cell_type": "markdown",
   "metadata": {},
   "source": [
    "**Вывод**:\n",
    "1. Средние и стандартные отклонения распределений отличаются несильно. \n",
    "2. Размеры большинства частиц лежат в оптимальном интервале  40—100 мкм  («Флотация руды»: ООО \"Техноаналитприбор\".URL:https://techade.ru/stati/flotatsiya-rudy) для обоих выборок. \n",
    "3. Может сделать вывод, что распределения размеров гранул в обучающей и тестовой выборках похожи."
   ]
  },
  {
   "cell_type": "markdown",
   "metadata": {},
   "source": [
    "### Суммарная концентрация всех веществ"
   ]
  },
  {
   "cell_type": "markdown",
   "metadata": {},
   "source": [
    "Посмотрим на распределение суммарной концентрации веществ на разных стадиях: в сырье, в черновом и финальном концентрате."
   ]
  },
  {
   "cell_type": "code",
   "execution_count": 72,
   "metadata": {
    "scrolled": false
   },
   "outputs": [
    {
     "data": {
      "image/png": "[encoded data removed]",
      "text/plain": [
       "<Figure size 1080x432 with 1 Axes>"
      ]
     },
     "metadata": {
      "needs_background": "light"
     },
     "output_type": "display_data"
    }
   ],
   "source": [
    "plt.figure(figsize=(15,6))\n",
    "sns.kdeplot((df['rougher.input.feed_ag'] + \n",
    " df['rougher.input.feed_pb'] + \n",
    " df['rougher.input.feed_sol'] + \n",
    " df['rougher.input.feed_au']), label='initial')\n",
    "sns.kdeplot((df['rougher.output.concentrate_ag'] + \n",
    " df['rougher.output.concentrate_pb'] + \n",
    " df['rougher.output.concentrate_sol'] + \n",
    " df['rougher.output.concentrate_au']), label='raw')\n",
    "sns.kdeplot((df['final.output.concentrate_ag'] + \n",
    " df['final.output.concentrate_pb'] + \n",
    " df['final.output.concentrate_sol'] + \n",
    " df['final.output.concentrate_au']), label='final')\n",
    "plt.legend()\n",
    "plt.xlabel('Total concentration')\n",
    "plt.title('Total concentration distribution at the different stages')\n",
    "plt.show()"
   ]
  },
  {
   "cell_type": "markdown",
   "metadata": {},
   "source": [
    "На графике отчетливо виден выброс на уровне нуля. Так как суммарная концентрация веществ не может быть равна нуля, данные значения считаем ошибкой, и все строки, соответствующие данному условию, должны быть удалены. "
   ]
  },
  {
   "cell_type": "markdown",
   "metadata": {},
   "source": [
    "Посмотрим, сколько всего строк, где в сырье суммарная концентрация всех веществ равна нулю"
   ]
  },
  {
   "cell_type": "code",
   "execution_count": 73,
   "metadata": {},
   "outputs": [
    {
     "data": {
      "text/plain": [
       "0"
      ]
     },
     "execution_count": 73,
     "metadata": {},
     "output_type": "execute_result"
    }
   ],
   "source": [
    "len(df[(df['rougher.input.feed_ag'] + \n",
    " df['rougher.input.feed_pb'] + \n",
    " df['rougher.input.feed_sol'] + \n",
    " df['rougher.input.feed_au'] == 0)])"
   ]
  },
  {
   "cell_type": "markdown",
   "metadata": {},
   "source": [
    "На данном этапе никаких ошибок нет, все в порядке."
   ]
  },
  {
   "cell_type": "markdown",
   "metadata": {},
   "source": [
    "В пункте 1.3 мы выяснили, что в тестовой выборке нет данных о выходных концентрациях веществ после флотации и очистки, следовательно дальнейшие рассуждения проводим лишь для обучающей выборки."
   ]
  },
  {
   "cell_type": "markdown",
   "metadata": {},
   "source": [
    "Посмотрим, сколько строк с нулевой суммарной концентрацией веществ в черновом концентрате."
   ]
  },
  {
   "cell_type": "code",
   "execution_count": 74,
   "metadata": {},
   "outputs": [
    {
     "data": {
      "text/plain": [
       "297"
      ]
     },
     "execution_count": 74,
     "metadata": {},
     "output_type": "execute_result"
    }
   ],
   "source": [
    "len(df_train[(df_train['rougher.output.concentrate_ag'] + \n",
    " df_train['rougher.output.concentrate_pb'] + \n",
    " df_train['rougher.output.concentrate_sol'] + \n",
    " df_train['rougher.output.concentrate_au'] == 0)])"
   ]
  },
  {
   "cell_type": "markdown",
   "metadata": {},
   "source": [
    "Посмотрим, сколько строк с нулевой суммарной концентрацией веществ в финальном концентрате."
   ]
  },
  {
   "cell_type": "code",
   "execution_count": 75,
   "metadata": {},
   "outputs": [
    {
     "data": {
      "text/plain": [
       "58"
      ]
     },
     "execution_count": 75,
     "metadata": {},
     "output_type": "execute_result"
    }
   ],
   "source": [
    "len(df_train[(df_train['final.output.concentrate_ag'] + \n",
    " df_train['final.output.concentrate_pb'] + \n",
    " df_train['final.output.concentrate_sol'] + \n",
    " df_train['final.output.concentrate_au'] == 0)])"
   ]
  },
  {
   "cell_type": "markdown",
   "metadata": {},
   "source": [
    "Удалим данные строки из обучающей выборки. Возьмем индексы строк, которые должны быть удалены."
   ]
  },
  {
   "cell_type": "code",
   "execution_count": 76,
   "metadata": {},
   "outputs": [],
   "source": [
    "indexes_to_remove = df_train[(df_train['rougher.output.concentrate_ag'] + \n",
    "                              df_train['rougher.output.concentrate_pb'] + \n",
    "                              df_train['rougher.output.concentrate_sol'] + \n",
    "                              df_train['rougher.output.concentrate_au'] == 0) | \n",
    "                             (df_train['final.output.concentrate_ag'] + \n",
    "                              df_train['final.output.concentrate_pb'] + \n",
    "                              df_train['final.output.concentrate_sol'] + \n",
    "                              df_train['final.output.concentrate_au'] == 0)].index"
   ]
  },
  {
   "cell_type": "code",
   "execution_count": 77,
   "metadata": {},
   "outputs": [
    {
     "data": {
      "text/plain": [
       "354"
      ]
     },
     "execution_count": 77,
     "metadata": {},
     "output_type": "execute_result"
    }
   ],
   "source": [
    "len(indexes_to_remove)"
   ]
  },
  {
   "cell_type": "markdown",
   "metadata": {},
   "source": [
    "Сохраним изначальный размер обучающей выборки для дальнейшего контроля."
   ]
  },
  {
   "cell_type": "code",
   "execution_count": 78,
   "metadata": {},
   "outputs": [],
   "source": [
    "features_shape_initial = features_train.shape\n",
    "target_shape_initial = target_train.shape"
   ]
  },
  {
   "cell_type": "markdown",
   "metadata": {},
   "source": [
    "Удаляем строки"
   ]
  },
  {
   "cell_type": "code",
   "execution_count": 79,
   "metadata": {},
   "outputs": [],
   "source": [
    "features_train = features_train.drop(indexes_to_remove).reset_index(drop=True)"
   ]
  },
  {
   "cell_type": "code",
   "execution_count": 80,
   "metadata": {},
   "outputs": [],
   "source": [
    "target_train = target_train.drop(indexes_to_remove).reset_index(drop=True)"
   ]
  },
  {
   "cell_type": "markdown",
   "metadata": {},
   "source": [
    "Сравниваем размер обучающей выборки до и после."
   ]
  },
  {
   "cell_type": "code",
   "execution_count": 81,
   "metadata": {},
   "outputs": [
    {
     "name": "stdout",
     "output_type": "stream",
     "text": [
      "(14149, 52)\n",
      "(13795, 52)\n"
     ]
    },
    {
     "data": {
      "text/plain": [
       "354"
      ]
     },
     "execution_count": 81,
     "metadata": {},
     "output_type": "execute_result"
    }
   ],
   "source": [
    "print(features_shape_initial)\n",
    "print(features_train.shape)\n",
    "features_shape_initial[0] - features_train.shape[0]"
   ]
  },
  {
   "cell_type": "code",
   "execution_count": 82,
   "metadata": {},
   "outputs": [
    {
     "name": "stdout",
     "output_type": "stream",
     "text": [
      "(14149, 2)\n",
      "(13795, 2)\n"
     ]
    },
    {
     "data": {
      "text/plain": [
       "354"
      ]
     },
     "execution_count": 82,
     "metadata": {},
     "output_type": "execute_result"
    }
   ],
   "source": [
    "print(target_shape_initial)\n",
    "print(target_train.shape)\n",
    "target_shape_initial[0] - target_train.shape[0]"
   ]
  },
  {
   "cell_type": "markdown",
   "metadata": {},
   "source": [
    "Удаление строк произведено успешно."
   ]
  },
  {
   "cell_type": "markdown",
   "metadata": {},
   "source": [
    "**Вывод:**\n",
    "1. Сырье имеет самую низкую суммарную концентрацию веществ. Это объясняется тем, что на этапе флотации в установку подается смесь золотосодержащей руды.\n",
    "2. Черновой и финальной концентрат имеют похожую среднюю суммарную концентрацию веществ, однако распределение для чернового концентрата куда более широкое, что говорит о большом разбросе. Распределение же для финального концентрата довольно узкое, разброс небольшой.\n",
    "3. Была обнаружена аномалия, когда суммарная концентрация веществ равняется нулю. Такого физически не может быть, поэтому данные строки были удалены из обучающей выборки."
   ]
  },
  {
   "cell_type": "markdown",
   "metadata": {},
   "source": [
    "## Модель"
   ]
  },
  {
   "cell_type": "markdown",
   "metadata": {},
   "source": [
    "### Определение метрики качества"
   ]
  },
  {
   "cell_type": "markdown",
   "metadata": {},
   "source": [
    "Для решения задачи будем использовать sMAPE (англ. Symmetric Mean Absolute Percentage Error, «симметричное среднее абсолютное процентное отклонение»). Зададим его с помощью функции."
   ]
  },
  {
   "cell_type": "code",
   "execution_count": 83,
   "metadata": {},
   "outputs": [],
   "source": [
    "def sMAPE(true, predictions):\n",
    "    '''\n",
    "    Данная функция вычисляет симметричное среднее абсолютное процентное отклонение по предсказаниям и истинным ответам.\n",
    "    '''\n",
    "    error = []\n",
    "    for i in range(len(true)):\n",
    "        error.append(abs(true[i] - predictions[i]) / ((abs(true[i]) + abs(predictions[i])) / 2))\n",
    "    return pd.Series(error).mean()"
   ]
  },
  {
   "cell_type": "markdown",
   "metadata": {},
   "source": [
    "В данной работе будем предсказывать сразу 2 величины - эффективность обогащения после флотации (rougher.output.recovery) и финальную эффективность обогащения (final.output.recovery). Итоговая метрика будет складываться из двух величин. Напишем функцию для нее."
   ]
  },
  {
   "cell_type": "code",
   "execution_count": 84,
   "metadata": {},
   "outputs": [],
   "source": [
    "def final_sMAPE(smape_rougher, smape_final):\n",
    "    '''\n",
    "    Данная функция является итоговой метрикой качества.\n",
    "    Она учитывает эффективность обогащения после флотации и финальную эффективность обогащения.\n",
    "    '''\n",
    "    return smape_rougher * 0.25 + smape_final * 0.75"
   ]
  },
  {
   "cell_type": "markdown",
   "metadata": {},
   "source": [
    "### Важность признаков"
   ]
  },
  {
   "cell_type": "markdown",
   "metadata": {},
   "source": [
    "В нашей выборке на данный момент имеется 52 признака. Это довольно большое число, с которым неудобно работать. Плюс некоторые признаки могут не оказывать никакого влияния на результат, то есть быть просто мусором для модели. Попробуем снизить их число (если это повысит эффективность модели). Будем придерживаться следующего плана:\n",
    "1. Строим модель случайного леса на обучающей выборке.\n",
    "2. С помощью специального атрибута определяем важность признаков.\n",
    "3. Оцениваем качество модели с помощью *cross_val_predict* и нашей метрики sMAPE. Запоминаем значение.\n",
    "4. Создаем копию обучающей выборки, в которой оставляем лишь признаки, важность превышает некоторое значение.\n",
    "5. Обучаем и оцениваем модель на усеченной обучающей выборке, сравниваем значение метрики со значением, полученным раннее.\n",
    "6. В зависимости от получившихся значений метрики принимаем решении об удалении или неудалении признаков."
   ]
  },
  {
   "cell_type": "markdown",
   "metadata": {},
   "source": [
    "Обучаем модель случайного леса."
   ]
  },
  {
   "cell_type": "code",
   "execution_count": 85,
   "metadata": {},
   "outputs": [
    {
     "data": {
      "text/plain": [
       "RandomForestRegressor(max_depth=10, n_estimators=200, random_state=42)"
      ]
     },
     "execution_count": 85,
     "metadata": {},
     "output_type": "execute_result"
    }
   ],
   "source": [
    "forest = RandomForestRegressor(max_depth=10, n_estimators=200, random_state=42)\n",
    "forest.fit(features_train, target_train)"
   ]
  },
  {
   "cell_type": "markdown",
   "metadata": {},
   "source": [
    "Посмотрим на важность каждого признака."
   ]
  },
  {
   "cell_type": "code",
   "execution_count": 86,
   "metadata": {
    "scrolled": true
   },
   "outputs": [
    {
     "data": {
      "text/html": [
       "<div>\n",
       "<style scoped>\n",
       "    .dataframe tbody tr th:only-of-type {\n",
       "        vertical-align: middle;\n",
       "    }\n",
       "\n",
       "    .dataframe tbody tr th {\n",
       "        vertical-align: top;\n",
       "    }\n",
       "\n",
       "    .dataframe thead th {\n",
       "        text-align: right;\n",
       "    }\n",
       "</style>\n",
       "<table border=\"1\" class=\"dataframe\">\n",
       "  <thead>\n",
       "    <tr style=\"text-align: right;\">\n",
       "      <th></th>\n",
       "      <th>feature</th>\n",
       "      <th>importance</th>\n",
       "    </tr>\n",
       "  </thead>\n",
       "  <tbody>\n",
       "    <tr>\n",
       "      <th>0</th>\n",
       "      <td>rougher.input.feed_ag</td>\n",
       "      <td>0.214406</td>\n",
       "    </tr>\n",
       "    <tr>\n",
       "      <th>1</th>\n",
       "      <td>primary_cleaner.input.sulfate</td>\n",
       "      <td>0.093915</td>\n",
       "    </tr>\n",
       "    <tr>\n",
       "      <th>2</th>\n",
       "      <td>secondary_cleaner.state.floatbank4_a_air</td>\n",
       "      <td>0.075733</td>\n",
       "    </tr>\n",
       "    <tr>\n",
       "      <th>3</th>\n",
       "      <td>rougher.input.feed_au</td>\n",
       "      <td>0.055467</td>\n",
       "    </tr>\n",
       "    <tr>\n",
       "      <th>4</th>\n",
       "      <td>rougher.state.floatbank10_d_air</td>\n",
       "      <td>0.032735</td>\n",
       "    </tr>\n",
       "    <tr>\n",
       "      <th>5</th>\n",
       "      <td>secondary_cleaner.state.floatbank5_b_air</td>\n",
       "      <td>0.030762</td>\n",
       "    </tr>\n",
       "    <tr>\n",
       "      <th>6</th>\n",
       "      <td>secondary_cleaner.state.floatbank2_a_air</td>\n",
       "      <td>0.028590</td>\n",
       "    </tr>\n",
       "    <tr>\n",
       "      <th>7</th>\n",
       "      <td>secondary_cleaner.state.floatbank4_b_air</td>\n",
       "      <td>0.027897</td>\n",
       "    </tr>\n",
       "    <tr>\n",
       "      <th>8</th>\n",
       "      <td>rougher.input.floatbank10_xanthate</td>\n",
       "      <td>0.027653</td>\n",
       "    </tr>\n",
       "    <tr>\n",
       "      <th>9</th>\n",
       "      <td>rougher.state.floatbank10_a_level</td>\n",
       "      <td>0.025426</td>\n",
       "    </tr>\n",
       "    <tr>\n",
       "      <th>10</th>\n",
       "      <td>rougher.input.floatbank11_xanthate</td>\n",
       "      <td>0.022050</td>\n",
       "    </tr>\n",
       "    <tr>\n",
       "      <th>11</th>\n",
       "      <td>rougher.input.feed_size</td>\n",
       "      <td>0.019013</td>\n",
       "    </tr>\n",
       "    <tr>\n",
       "      <th>12</th>\n",
       "      <td>primary_cleaner.input.depressant</td>\n",
       "      <td>0.018572</td>\n",
       "    </tr>\n",
       "    <tr>\n",
       "      <th>13</th>\n",
       "      <td>rougher.input.feed_pb</td>\n",
       "      <td>0.018454</td>\n",
       "    </tr>\n",
       "    <tr>\n",
       "      <th>14</th>\n",
       "      <td>rougher.input.feed_sol</td>\n",
       "      <td>0.016899</td>\n",
       "    </tr>\n",
       "    <tr>\n",
       "      <th>15</th>\n",
       "      <td>primary_cleaner.input.feed_size</td>\n",
       "      <td>0.015223</td>\n",
       "    </tr>\n",
       "    <tr>\n",
       "      <th>16</th>\n",
       "      <td>rougher.state.floatbank10_b_air</td>\n",
       "      <td>0.014460</td>\n",
       "    </tr>\n",
       "    <tr>\n",
       "      <th>17</th>\n",
       "      <td>rougher.state.floatbank10_f_air</td>\n",
       "      <td>0.014321</td>\n",
       "    </tr>\n",
       "    <tr>\n",
       "      <th>18</th>\n",
       "      <td>secondary_cleaner.state.floatbank3_a_air</td>\n",
       "      <td>0.014097</td>\n",
       "    </tr>\n",
       "    <tr>\n",
       "      <th>19</th>\n",
       "      <td>secondary_cleaner.state.floatbank6_a_air</td>\n",
       "      <td>0.014056</td>\n",
       "    </tr>\n",
       "    <tr>\n",
       "      <th>20</th>\n",
       "      <td>secondary_cleaner.state.floatbank2_b_air</td>\n",
       "      <td>0.013519</td>\n",
       "    </tr>\n",
       "    <tr>\n",
       "      <th>21</th>\n",
       "      <td>secondary_cleaner.state.floatbank3_b_air</td>\n",
       "      <td>0.012490</td>\n",
       "    </tr>\n",
       "    <tr>\n",
       "      <th>22</th>\n",
       "      <td>primary_cleaner.input.xanthate</td>\n",
       "      <td>0.012350</td>\n",
       "    </tr>\n",
       "    <tr>\n",
       "      <th>23</th>\n",
       "      <td>rougher.input.floatbank10_sulfate</td>\n",
       "      <td>0.011940</td>\n",
       "    </tr>\n",
       "    <tr>\n",
       "      <th>24</th>\n",
       "      <td>primary_cleaner.state.floatbank8_a_level</td>\n",
       "      <td>0.011920</td>\n",
       "    </tr>\n",
       "    <tr>\n",
       "      <th>25</th>\n",
       "      <td>rougher.input.floatbank11_sulfate</td>\n",
       "      <td>0.011599</td>\n",
       "    </tr>\n",
       "    <tr>\n",
       "      <th>26</th>\n",
       "      <td>primary_cleaner.state.floatbank8_b_air</td>\n",
       "      <td>0.010069</td>\n",
       "    </tr>\n",
       "    <tr>\n",
       "      <th>27</th>\n",
       "      <td>rougher.state.floatbank10_c_air</td>\n",
       "      <td>0.009518</td>\n",
       "    </tr>\n",
       "    <tr>\n",
       "      <th>28</th>\n",
       "      <td>primary_cleaner.state.floatbank8_d_air</td>\n",
       "      <td>0.008540</td>\n",
       "    </tr>\n",
       "    <tr>\n",
       "      <th>29</th>\n",
       "      <td>primary_cleaner.state.floatbank8_a_air</td>\n",
       "      <td>0.008431</td>\n",
       "    </tr>\n",
       "    <tr>\n",
       "      <th>30</th>\n",
       "      <td>secondary_cleaner.state.floatbank3_b_level</td>\n",
       "      <td>0.008248</td>\n",
       "    </tr>\n",
       "    <tr>\n",
       "      <th>31</th>\n",
       "      <td>secondary_cleaner.state.floatbank5_a_air</td>\n",
       "      <td>0.007919</td>\n",
       "    </tr>\n",
       "    <tr>\n",
       "      <th>32</th>\n",
       "      <td>secondary_cleaner.state.floatbank3_a_level</td>\n",
       "      <td>0.007866</td>\n",
       "    </tr>\n",
       "    <tr>\n",
       "      <th>33</th>\n",
       "      <td>primary_cleaner.state.floatbank8_d_level</td>\n",
       "      <td>0.007607</td>\n",
       "    </tr>\n",
       "    <tr>\n",
       "      <th>34</th>\n",
       "      <td>rougher.input.feed_rate</td>\n",
       "      <td>0.007375</td>\n",
       "    </tr>\n",
       "    <tr>\n",
       "      <th>35</th>\n",
       "      <td>rougher.state.floatbank10_e_air</td>\n",
       "      <td>0.006995</td>\n",
       "    </tr>\n",
       "    <tr>\n",
       "      <th>36</th>\n",
       "      <td>secondary_cleaner.state.floatbank2_a_level</td>\n",
       "      <td>0.005958</td>\n",
       "    </tr>\n",
       "    <tr>\n",
       "      <th>37</th>\n",
       "      <td>primary_cleaner.state.floatbank8_c_air</td>\n",
       "      <td>0.005715</td>\n",
       "    </tr>\n",
       "    <tr>\n",
       "      <th>38</th>\n",
       "      <td>primary_cleaner.state.floatbank8_c_level</td>\n",
       "      <td>0.005590</td>\n",
       "    </tr>\n",
       "    <tr>\n",
       "      <th>39</th>\n",
       "      <td>secondary_cleaner.state.floatbank2_b_level</td>\n",
       "      <td>0.004813</td>\n",
       "    </tr>\n",
       "    <tr>\n",
       "      <th>40</th>\n",
       "      <td>rougher.state.floatbank10_a_air</td>\n",
       "      <td>0.004188</td>\n",
       "    </tr>\n",
       "    <tr>\n",
       "      <th>41</th>\n",
       "      <td>primary_cleaner.state.floatbank8_b_level</td>\n",
       "      <td>0.004112</td>\n",
       "    </tr>\n",
       "    <tr>\n",
       "      <th>42</th>\n",
       "      <td>secondary_cleaner.state.floatbank6_a_level</td>\n",
       "      <td>0.004004</td>\n",
       "    </tr>\n",
       "    <tr>\n",
       "      <th>43</th>\n",
       "      <td>secondary_cleaner.state.floatbank5_b_level</td>\n",
       "      <td>0.003838</td>\n",
       "    </tr>\n",
       "    <tr>\n",
       "      <th>44</th>\n",
       "      <td>secondary_cleaner.state.floatbank5_a_level</td>\n",
       "      <td>0.003827</td>\n",
       "    </tr>\n",
       "    <tr>\n",
       "      <th>45</th>\n",
       "      <td>rougher.state.floatbank10_f_level</td>\n",
       "      <td>0.003326</td>\n",
       "    </tr>\n",
       "    <tr>\n",
       "      <th>46</th>\n",
       "      <td>rougher.state.floatbank10_c_level</td>\n",
       "      <td>0.003239</td>\n",
       "    </tr>\n",
       "    <tr>\n",
       "      <th>47</th>\n",
       "      <td>secondary_cleaner.state.floatbank4_b_level</td>\n",
       "      <td>0.003220</td>\n",
       "    </tr>\n",
       "    <tr>\n",
       "      <th>48</th>\n",
       "      <td>rougher.state.floatbank10_d_level</td>\n",
       "      <td>0.003066</td>\n",
       "    </tr>\n",
       "    <tr>\n",
       "      <th>49</th>\n",
       "      <td>rougher.state.floatbank10_e_level</td>\n",
       "      <td>0.003021</td>\n",
       "    </tr>\n",
       "    <tr>\n",
       "      <th>50</th>\n",
       "      <td>secondary_cleaner.state.floatbank4_a_level</td>\n",
       "      <td>0.002990</td>\n",
       "    </tr>\n",
       "    <tr>\n",
       "      <th>51</th>\n",
       "      <td>rougher.state.floatbank10_b_level</td>\n",
       "      <td>0.002980</td>\n",
       "    </tr>\n",
       "  </tbody>\n",
       "</table>\n",
       "</div>"
      ],
      "text/plain": [
       "                                       feature  importance\n",
       "0                        rougher.input.feed_ag    0.214406\n",
       "1                primary_cleaner.input.sulfate    0.093915\n",
       "2     secondary_cleaner.state.floatbank4_a_air    0.075733\n",
       "3                        rougher.input.feed_au    0.055467\n",
       "4              rougher.state.floatbank10_d_air    0.032735\n",
       "5     secondary_cleaner.state.floatbank5_b_air    0.030762\n",
       "6     secondary_cleaner.state.floatbank2_a_air    0.028590\n",
       "7     secondary_cleaner.state.floatbank4_b_air    0.027897\n",
       "8           rougher.input.floatbank10_xanthate    0.027653\n",
       "9            rougher.state.floatbank10_a_level    0.025426\n",
       "10          rougher.input.floatbank11_xanthate    0.022050\n",
       "11                     rougher.input.feed_size    0.019013\n",
       "12            primary_cleaner.input.depressant    0.018572\n",
       "13                       rougher.input.feed_pb    0.018454\n",
       "14                      rougher.input.feed_sol    0.016899\n",
       "15             primary_cleaner.input.feed_size    0.015223\n",
       "16             rougher.state.floatbank10_b_air    0.014460\n",
       "17             rougher.state.floatbank10_f_air    0.014321\n",
       "18    secondary_cleaner.state.floatbank3_a_air    0.014097\n",
       "19    secondary_cleaner.state.floatbank6_a_air    0.014056\n",
       "20    secondary_cleaner.state.floatbank2_b_air    0.013519\n",
       "21    secondary_cleaner.state.floatbank3_b_air    0.012490\n",
       "22              primary_cleaner.input.xanthate    0.012350\n",
       "23           rougher.input.floatbank10_sulfate    0.011940\n",
       "24    primary_cleaner.state.floatbank8_a_level    0.011920\n",
       "25           rougher.input.floatbank11_sulfate    0.011599\n",
       "26      primary_cleaner.state.floatbank8_b_air    0.010069\n",
       "27             rougher.state.floatbank10_c_air    0.009518\n",
       "28      primary_cleaner.state.floatbank8_d_air    0.008540\n",
       "29      primary_cleaner.state.floatbank8_a_air    0.008431\n",
       "30  secondary_cleaner.state.floatbank3_b_level    0.008248\n",
       "31    secondary_cleaner.state.floatbank5_a_air    0.007919\n",
       "32  secondary_cleaner.state.floatbank3_a_level    0.007866\n",
       "33    primary_cleaner.state.floatbank8_d_level    0.007607\n",
       "34                     rougher.input.feed_rate    0.007375\n",
       "35             rougher.state.floatbank10_e_air    0.006995\n",
       "36  secondary_cleaner.state.floatbank2_a_level    0.005958\n",
       "37      primary_cleaner.state.floatbank8_c_air    0.005715\n",
       "38    primary_cleaner.state.floatbank8_c_level    0.005590\n",
       "39  secondary_cleaner.state.floatbank2_b_level    0.004813\n",
       "40             rougher.state.floatbank10_a_air    0.004188\n",
       "41    primary_cleaner.state.floatbank8_b_level    0.004112\n",
       "42  secondary_cleaner.state.floatbank6_a_level    0.004004\n",
       "43  secondary_cleaner.state.floatbank5_b_level    0.003838\n",
       "44  secondary_cleaner.state.floatbank5_a_level    0.003827\n",
       "45           rougher.state.floatbank10_f_level    0.003326\n",
       "46           rougher.state.floatbank10_c_level    0.003239\n",
       "47  secondary_cleaner.state.floatbank4_b_level    0.003220\n",
       "48           rougher.state.floatbank10_d_level    0.003066\n",
       "49           rougher.state.floatbank10_e_level    0.003021\n",
       "50  secondary_cleaner.state.floatbank4_a_level    0.002990\n",
       "51           rougher.state.floatbank10_b_level    0.002980"
      ]
     },
     "execution_count": 86,
     "metadata": {},
     "output_type": "execute_result"
    }
   ],
   "source": [
    "features = pd.concat([pd.Series(features_train.columns), \n",
    "                      pd.Series(forest.feature_importances_)], axis=1).sort_values(by=1, ascending=False).reset_index(drop=True)\n",
    "features.columns = ['feature', 'importance']\n",
    "features"
   ]
  },
  {
   "cell_type": "markdown",
   "metadata": {},
   "source": [
    "Переходим к оценке качества."
   ]
  },
  {
   "cell_type": "code",
   "execution_count": 87,
   "metadata": {},
   "outputs": [],
   "source": [
    "predictions = cross_val_predict(RandomForestRegressor(max_depth=10, n_estimators=200, random_state=42), \n",
    "                                features_train, \n",
    "                                target_train, \n",
    "                                cv=5,\n",
    "                                n_jobs=-1)"
   ]
  },
  {
   "cell_type": "markdown",
   "metadata": {},
   "source": [
    "Для удобства сохраним целевые признаки в двух разных переменных."
   ]
  },
  {
   "cell_type": "code",
   "execution_count": 88,
   "metadata": {},
   "outputs": [],
   "source": [
    "rougher_recovery_true = target_train['rougher.output.recovery']\n",
    "final_recovery_true = target_train['final.output.recovery']"
   ]
  },
  {
   "cell_type": "markdown",
   "metadata": {},
   "source": [
    "Тоже самое сделаем и для предсказанных значений."
   ]
  },
  {
   "cell_type": "code",
   "execution_count": 89,
   "metadata": {},
   "outputs": [],
   "source": [
    "rougher_recovery_pred = predictions[:, 0]\n",
    "final_recovery_pred = predictions[:, 1]"
   ]
  },
  {
   "cell_type": "markdown",
   "metadata": {},
   "source": [
    "Оценим итоговую метрику."
   ]
  },
  {
   "cell_type": "code",
   "execution_count": 90,
   "metadata": {},
   "outputs": [
    {
     "data": {
      "text/plain": [
       "0.0919549921366963"
      ]
     },
     "execution_count": 90,
     "metadata": {},
     "output_type": "execute_result"
    }
   ],
   "source": [
    "final_sMAPE(sMAPE(rougher_recovery_true, rougher_recovery_pred), sMAPE(final_recovery_true, final_recovery_pred))"
   ]
  },
  {
   "cell_type": "markdown",
   "metadata": {},
   "source": [
    "Теперь рассмотрим случай с меньшим количеством признаков. Оставим лишь признаки, важность которых превышает 0.015."
   ]
  },
  {
   "cell_type": "code",
   "execution_count": 109,
   "metadata": {},
   "outputs": [],
   "source": [
    "features_important = features.query('importance > 0.015')\n",
    "important_cols = list(features_important['feature'])"
   ]
  },
  {
   "cell_type": "markdown",
   "metadata": {},
   "source": [
    "Создадим копию обучающей выборки, в которой оставим лишь важные признаки."
   ]
  },
  {
   "cell_type": "code",
   "execution_count": 110,
   "metadata": {},
   "outputs": [],
   "source": [
    "features_train_truncated = features_train.copy()\n",
    "\n",
    "for col in features_train_truncated.columns:\n",
    "    if col not in important_cols:\n",
    "        features_train_truncated = features_train_truncated.drop(col, axis=1)"
   ]
  },
  {
   "cell_type": "code",
   "execution_count": 111,
   "metadata": {},
   "outputs": [
    {
     "data": {
      "text/html": [
       "<div>\n",
       "<style scoped>\n",
       "    .dataframe tbody tr th:only-of-type {\n",
       "        vertical-align: middle;\n",
       "    }\n",
       "\n",
       "    .dataframe tbody tr th {\n",
       "        vertical-align: top;\n",
       "    }\n",
       "\n",
       "    .dataframe thead th {\n",
       "        text-align: right;\n",
       "    }\n",
       "</style>\n",
       "<table border=\"1\" class=\"dataframe\">\n",
       "  <thead>\n",
       "    <tr style=\"text-align: right;\">\n",
       "      <th></th>\n",
       "      <th>primary_cleaner.input.sulfate</th>\n",
       "      <th>primary_cleaner.input.depressant</th>\n",
       "      <th>primary_cleaner.input.feed_size</th>\n",
       "      <th>rougher.input.feed_ag</th>\n",
       "      <th>rougher.input.feed_pb</th>\n",
       "      <th>rougher.input.feed_size</th>\n",
       "      <th>rougher.input.feed_sol</th>\n",
       "      <th>rougher.input.feed_au</th>\n",
       "      <th>rougher.input.floatbank10_xanthate</th>\n",
       "      <th>rougher.input.floatbank11_xanthate</th>\n",
       "      <th>rougher.state.floatbank10_a_level</th>\n",
       "      <th>rougher.state.floatbank10_d_air</th>\n",
       "      <th>secondary_cleaner.state.floatbank2_a_air</th>\n",
       "      <th>secondary_cleaner.state.floatbank4_a_air</th>\n",
       "      <th>secondary_cleaner.state.floatbank4_b_air</th>\n",
       "      <th>secondary_cleaner.state.floatbank5_b_air</th>\n",
       "    </tr>\n",
       "  </thead>\n",
       "  <tbody>\n",
       "    <tr>\n",
       "      <th>0</th>\n",
       "      <td>-0.153001</td>\n",
       "      <td>0.377210</td>\n",
       "      <td>-0.117761</td>\n",
       "      <td>-1.307243</td>\n",
       "      <td>-1.110353</td>\n",
       "      <td>-0.204069</td>\n",
       "      <td>0.109053</td>\n",
       "      <td>-0.719183</td>\n",
       "      <td>0.140197</td>\n",
       "      <td>0.184812</td>\n",
       "      <td>-0.368314</td>\n",
       "      <td>1.846756</td>\n",
       "      <td>-0.660363</td>\n",
       "      <td>-1.054168</td>\n",
       "      <td>-0.644528</td>\n",
       "      <td>-0.864660</td>\n",
       "    </tr>\n",
       "    <tr>\n",
       "      <th>1</th>\n",
       "      <td>-0.189879</td>\n",
       "      <td>0.427043</td>\n",
       "      <td>-0.117761</td>\n",
       "      <td>-1.275213</td>\n",
       "      <td>-1.127567</td>\n",
       "      <td>-0.123780</td>\n",
       "      <td>-0.101398</td>\n",
       "      <td>-0.723125</td>\n",
       "      <td>0.138187</td>\n",
       "      <td>0.189564</td>\n",
       "      <td>-0.325718</td>\n",
       "      <td>1.854314</td>\n",
       "      <td>-0.655640</td>\n",
       "      <td>-1.058507</td>\n",
       "      <td>-0.672956</td>\n",
       "      <td>-0.881122</td>\n",
       "    </tr>\n",
       "    <tr>\n",
       "      <th>2</th>\n",
       "      <td>-0.235496</td>\n",
       "      <td>0.729688</td>\n",
       "      <td>-0.117761</td>\n",
       "      <td>-1.298765</td>\n",
       "      <td>-1.224596</td>\n",
       "      <td>-0.113387</td>\n",
       "      <td>-0.057871</td>\n",
       "      <td>-0.783747</td>\n",
       "      <td>0.311317</td>\n",
       "      <td>0.324232</td>\n",
       "      <td>-0.325812</td>\n",
       "      <td>1.851091</td>\n",
       "      <td>-0.634165</td>\n",
       "      <td>-1.054490</td>\n",
       "      <td>-0.680139</td>\n",
       "      <td>-0.876071</td>\n",
       "    </tr>\n",
       "    <tr>\n",
       "      <th>3</th>\n",
       "      <td>-0.274564</td>\n",
       "      <td>0.731426</td>\n",
       "      <td>-0.117761</td>\n",
       "      <td>-1.337339</td>\n",
       "      <td>-1.335671</td>\n",
       "      <td>-0.100749</td>\n",
       "      <td>0.119753</td>\n",
       "      <td>-0.910885</td>\n",
       "      <td>0.316558</td>\n",
       "      <td>0.318583</td>\n",
       "      <td>-0.327155</td>\n",
       "      <td>1.840996</td>\n",
       "      <td>-0.644968</td>\n",
       "      <td>-1.050691</td>\n",
       "      <td>-0.663629</td>\n",
       "      <td>-0.882412</td>\n",
       "    </tr>\n",
       "    <tr>\n",
       "      <th>4</th>\n",
       "      <td>-0.382518</td>\n",
       "      <td>0.906918</td>\n",
       "      <td>-0.117761</td>\n",
       "      <td>-1.328054</td>\n",
       "      <td>-1.564478</td>\n",
       "      <td>-0.178953</td>\n",
       "      <td>-0.381755</td>\n",
       "      <td>-1.147664</td>\n",
       "      <td>0.312627</td>\n",
       "      <td>0.317405</td>\n",
       "      <td>-0.322392</td>\n",
       "      <td>1.850661</td>\n",
       "      <td>-0.630800</td>\n",
       "      <td>-1.052319</td>\n",
       "      <td>-0.672473</td>\n",
       "      <td>-0.896822</td>\n",
       "    </tr>\n",
       "  </tbody>\n",
       "</table>\n",
       "</div>"
      ],
      "text/plain": [
       "   primary_cleaner.input.sulfate  primary_cleaner.input.depressant  \\\n",
       "0                      -0.153001                          0.377210   \n",
       "1                      -0.189879                          0.427043   \n",
       "2                      -0.235496                          0.729688   \n",
       "3                      -0.274564                          0.731426   \n",
       "4                      -0.382518                          0.906918   \n",
       "\n",
       "   primary_cleaner.input.feed_size  rougher.input.feed_ag  \\\n",
       "0                        -0.117761              -1.307243   \n",
       "1                        -0.117761              -1.275213   \n",
       "2                        -0.117761              -1.298765   \n",
       "3                        -0.117761              -1.337339   \n",
       "4                        -0.117761              -1.328054   \n",
       "\n",
       "   rougher.input.feed_pb  rougher.input.feed_size  rougher.input.feed_sol  \\\n",
       "0              -1.110353                -0.204069                0.109053   \n",
       "1              -1.127567                -0.123780               -0.101398   \n",
       "2              -1.224596                -0.113387               -0.057871   \n",
       "3              -1.335671                -0.100749                0.119753   \n",
       "4              -1.564478                -0.178953               -0.381755   \n",
       "\n",
       "   rougher.input.feed_au  rougher.input.floatbank10_xanthate  \\\n",
       "0              -0.719183                            0.140197   \n",
       "1              -0.723125                            0.138187   \n",
       "2              -0.783747                            0.311317   \n",
       "3              -0.910885                            0.316558   \n",
       "4              -1.147664                            0.312627   \n",
       "\n",
       "   rougher.input.floatbank11_xanthate  rougher.state.floatbank10_a_level  \\\n",
       "0                            0.184812                          -0.368314   \n",
       "1                            0.189564                          -0.325718   \n",
       "2                            0.324232                          -0.325812   \n",
       "3                            0.318583                          -0.327155   \n",
       "4                            0.317405                          -0.322392   \n",
       "\n",
       "   rougher.state.floatbank10_d_air  secondary_cleaner.state.floatbank2_a_air  \\\n",
       "0                         1.846756                                 -0.660363   \n",
       "1                         1.854314                                 -0.655640   \n",
       "2                         1.851091                                 -0.634165   \n",
       "3                         1.840996                                 -0.644968   \n",
       "4                         1.850661                                 -0.630800   \n",
       "\n",
       "   secondary_cleaner.state.floatbank4_a_air  \\\n",
       "0                                 -1.054168   \n",
       "1                                 -1.058507   \n",
       "2                                 -1.054490   \n",
       "3                                 -1.050691   \n",
       "4                                 -1.052319   \n",
       "\n",
       "   secondary_cleaner.state.floatbank4_b_air  \\\n",
       "0                                 -0.644528   \n",
       "1                                 -0.672956   \n",
       "2                                 -0.680139   \n",
       "3                                 -0.663629   \n",
       "4                                 -0.672473   \n",
       "\n",
       "   secondary_cleaner.state.floatbank5_b_air  \n",
       "0                                 -0.864660  \n",
       "1                                 -0.881122  \n",
       "2                                 -0.876071  \n",
       "3                                 -0.882412  \n",
       "4                                 -0.896822  "
      ]
     },
     "execution_count": 111,
     "metadata": {},
     "output_type": "execute_result"
    }
   ],
   "source": [
    "features_train_truncated.head()"
   ]
  },
  {
   "cell_type": "markdown",
   "metadata": {},
   "source": [
    "Обучим и оценим модель, используя новую обучающую выборку."
   ]
  },
  {
   "cell_type": "code",
   "execution_count": 112,
   "metadata": {},
   "outputs": [],
   "source": [
    "predictions_less_features = cross_val_predict(RandomForestRegressor(max_depth=10, n_estimators=200), \n",
    "                                              features_train_truncated, \n",
    "                                              target_train, \n",
    "                                              cv=5,\n",
    "                                              n_jobs=-1)"
   ]
  },
  {
   "cell_type": "code",
   "execution_count": 113,
   "metadata": {},
   "outputs": [],
   "source": [
    "rougher_recovery_pred_truncated = predictions_less_features[:, 0]\n",
    "final_recovery_pred_truncated = predictions_less_features[:, 1]"
   ]
  },
  {
   "cell_type": "code",
   "execution_count": 114,
   "metadata": {},
   "outputs": [
    {
     "data": {
      "text/plain": [
       "0.08550943038181782"
      ]
     },
     "execution_count": 114,
     "metadata": {},
     "output_type": "execute_result"
    }
   ],
   "source": [
    "final_sMAPE(sMAPE(rougher_recovery_true, rougher_recovery_pred_truncated), \n",
    "            sMAPE(final_recovery_true, final_recovery_pred_truncated))"
   ]
  },
  {
   "cell_type": "markdown",
   "metadata": {},
   "source": [
    "В данном случае значение метрики ниже, а значит данная модель лучше. В таком случае принимаем решение об удалении столбцов с низкой важностью из обучающей и тестовой выборок."
   ]
  },
  {
   "cell_type": "code",
   "execution_count": 115,
   "metadata": {},
   "outputs": [],
   "source": [
    "features_test_truncated = features_test.copy()\n",
    "\n",
    "for col in features_test_truncated.columns:\n",
    "    if col not in important_cols:\n",
    "        features_test_truncated = features_test_truncated.drop(col, axis=1)"
   ]
  },
  {
   "cell_type": "code",
   "execution_count": 116,
   "metadata": {
    "scrolled": true
   },
   "outputs": [
    {
     "data": {
      "text/html": [
       "<div>\n",
       "<style scoped>\n",
       "    .dataframe tbody tr th:only-of-type {\n",
       "        vertical-align: middle;\n",
       "    }\n",
       "\n",
       "    .dataframe tbody tr th {\n",
       "        vertical-align: top;\n",
       "    }\n",
       "\n",
       "    .dataframe thead th {\n",
       "        text-align: right;\n",
       "    }\n",
       "</style>\n",
       "<table border=\"1\" class=\"dataframe\">\n",
       "  <thead>\n",
       "    <tr style=\"text-align: right;\">\n",
       "      <th></th>\n",
       "      <th>primary_cleaner.input.sulfate</th>\n",
       "      <th>primary_cleaner.input.depressant</th>\n",
       "      <th>primary_cleaner.input.feed_size</th>\n",
       "      <th>rougher.input.feed_ag</th>\n",
       "      <th>rougher.input.feed_pb</th>\n",
       "      <th>rougher.input.feed_size</th>\n",
       "      <th>rougher.input.feed_sol</th>\n",
       "      <th>rougher.input.feed_au</th>\n",
       "      <th>rougher.input.floatbank10_xanthate</th>\n",
       "      <th>rougher.input.floatbank11_xanthate</th>\n",
       "      <th>rougher.state.floatbank10_a_level</th>\n",
       "      <th>rougher.state.floatbank10_d_air</th>\n",
       "      <th>secondary_cleaner.state.floatbank2_a_air</th>\n",
       "      <th>secondary_cleaner.state.floatbank4_a_air</th>\n",
       "      <th>secondary_cleaner.state.floatbank4_b_air</th>\n",
       "      <th>secondary_cleaner.state.floatbank5_b_air</th>\n",
       "    </tr>\n",
       "  </thead>\n",
       "  <tbody>\n",
       "    <tr>\n",
       "      <th>0</th>\n",
       "      <td>1.957387</td>\n",
       "      <td>1.820614</td>\n",
       "      <td>1.233941</td>\n",
       "      <td>2.399184</td>\n",
       "      <td>1.945924</td>\n",
       "      <td>0.119576</td>\n",
       "      <td>1.148905</td>\n",
       "      <td>2.197271</td>\n",
       "      <td>0.271654</td>\n",
       "      <td>0.286418</td>\n",
       "      <td>0.203982</td>\n",
       "      <td>-0.057253</td>\n",
       "      <td>-0.817912</td>\n",
       "      <td>-1.406404</td>\n",
       "      <td>-1.421512</td>\n",
       "      <td>-1.420954</td>\n",
       "    </tr>\n",
       "    <tr>\n",
       "      <th>1</th>\n",
       "      <td>2.073144</td>\n",
       "      <td>1.818939</td>\n",
       "      <td>1.233941</td>\n",
       "      <td>2.350513</td>\n",
       "      <td>1.845035</td>\n",
       "      <td>0.086006</td>\n",
       "      <td>0.982464</td>\n",
       "      <td>2.111243</td>\n",
       "      <td>0.132113</td>\n",
       "      <td>0.182355</td>\n",
       "      <td>0.202658</td>\n",
       "      <td>-0.046709</td>\n",
       "      <td>-0.820449</td>\n",
       "      <td>-1.400292</td>\n",
       "      <td>-1.399758</td>\n",
       "      <td>-1.419855</td>\n",
       "    </tr>\n",
       "    <tr>\n",
       "      <th>2</th>\n",
       "      <td>2.069804</td>\n",
       "      <td>1.195111</td>\n",
       "      <td>0.756231</td>\n",
       "      <td>2.404374</td>\n",
       "      <td>1.754303</td>\n",
       "      <td>0.307448</td>\n",
       "      <td>1.253382</td>\n",
       "      <td>2.201037</td>\n",
       "      <td>-0.001984</td>\n",
       "      <td>0.078064</td>\n",
       "      <td>0.209493</td>\n",
       "      <td>-0.050209</td>\n",
       "      <td>-0.822986</td>\n",
       "      <td>-1.417216</td>\n",
       "      <td>-1.406244</td>\n",
       "      <td>-1.415297</td>\n",
       "    </tr>\n",
       "    <tr>\n",
       "      <th>3</th>\n",
       "      <td>2.071727</td>\n",
       "      <td>0.934568</td>\n",
       "      <td>0.517376</td>\n",
       "      <td>2.015228</td>\n",
       "      <td>1.469991</td>\n",
       "      <td>-0.007865</td>\n",
       "      <td>0.956994</td>\n",
       "      <td>2.248064</td>\n",
       "      <td>-0.045984</td>\n",
       "      <td>0.043046</td>\n",
       "      <td>0.205352</td>\n",
       "      <td>-0.051974</td>\n",
       "      <td>-0.825524</td>\n",
       "      <td>-1.404718</td>\n",
       "      <td>-1.410420</td>\n",
       "      <td>-1.410740</td>\n",
       "    </tr>\n",
       "    <tr>\n",
       "      <th>4</th>\n",
       "      <td>1.662378</td>\n",
       "      <td>0.541653</td>\n",
       "      <td>0.338235</td>\n",
       "      <td>1.449323</td>\n",
       "      <td>1.153244</td>\n",
       "      <td>0.146676</td>\n",
       "      <td>0.998670</td>\n",
       "      <td>1.783776</td>\n",
       "      <td>-0.103679</td>\n",
       "      <td>-0.001850</td>\n",
       "      <td>0.201202</td>\n",
       "      <td>0.182318</td>\n",
       "      <td>-0.826745</td>\n",
       "      <td>-1.406083</td>\n",
       "      <td>-1.414277</td>\n",
       "      <td>-1.406182</td>\n",
       "    </tr>\n",
       "  </tbody>\n",
       "</table>\n",
       "</div>"
      ],
      "text/plain": [
       "   primary_cleaner.input.sulfate  primary_cleaner.input.depressant  \\\n",
       "0                       1.957387                          1.820614   \n",
       "1                       2.073144                          1.818939   \n",
       "2                       2.069804                          1.195111   \n",
       "3                       2.071727                          0.934568   \n",
       "4                       1.662378                          0.541653   \n",
       "\n",
       "   primary_cleaner.input.feed_size  rougher.input.feed_ag  \\\n",
       "0                         1.233941               2.399184   \n",
       "1                         1.233941               2.350513   \n",
       "2                         0.756231               2.404374   \n",
       "3                         0.517376               2.015228   \n",
       "4                         0.338235               1.449323   \n",
       "\n",
       "   rougher.input.feed_pb  rougher.input.feed_size  rougher.input.feed_sol  \\\n",
       "0               1.945924                 0.119576                1.148905   \n",
       "1               1.845035                 0.086006                0.982464   \n",
       "2               1.754303                 0.307448                1.253382   \n",
       "3               1.469991                -0.007865                0.956994   \n",
       "4               1.153244                 0.146676                0.998670   \n",
       "\n",
       "   rougher.input.feed_au  rougher.input.floatbank10_xanthate  \\\n",
       "0               2.197271                            0.271654   \n",
       "1               2.111243                            0.132113   \n",
       "2               2.201037                           -0.001984   \n",
       "3               2.248064                           -0.045984   \n",
       "4               1.783776                           -0.103679   \n",
       "\n",
       "   rougher.input.floatbank11_xanthate  rougher.state.floatbank10_a_level  \\\n",
       "0                            0.286418                           0.203982   \n",
       "1                            0.182355                           0.202658   \n",
       "2                            0.078064                           0.209493   \n",
       "3                            0.043046                           0.205352   \n",
       "4                           -0.001850                           0.201202   \n",
       "\n",
       "   rougher.state.floatbank10_d_air  secondary_cleaner.state.floatbank2_a_air  \\\n",
       "0                        -0.057253                                 -0.817912   \n",
       "1                        -0.046709                                 -0.820449   \n",
       "2                        -0.050209                                 -0.822986   \n",
       "3                        -0.051974                                 -0.825524   \n",
       "4                         0.182318                                 -0.826745   \n",
       "\n",
       "   secondary_cleaner.state.floatbank4_a_air  \\\n",
       "0                                 -1.406404   \n",
       "1                                 -1.400292   \n",
       "2                                 -1.417216   \n",
       "3                                 -1.404718   \n",
       "4                                 -1.406083   \n",
       "\n",
       "   secondary_cleaner.state.floatbank4_b_air  \\\n",
       "0                                 -1.421512   \n",
       "1                                 -1.399758   \n",
       "2                                 -1.406244   \n",
       "3                                 -1.410420   \n",
       "4                                 -1.414277   \n",
       "\n",
       "   secondary_cleaner.state.floatbank5_b_air  \n",
       "0                                 -1.420954  \n",
       "1                                 -1.419855  \n",
       "2                                 -1.415297  \n",
       "3                                 -1.410740  \n",
       "4                                 -1.406182  "
      ]
     },
     "execution_count": 116,
     "metadata": {},
     "output_type": "execute_result"
    }
   ],
   "source": [
    "features_test_truncated.head()"
   ]
  },
  {
   "cell_type": "markdown",
   "metadata": {},
   "source": [
    "Посмотрим на признаки, которые у нас остались - визуализируем важность с помощью столбчатой диаграммы."
   ]
  },
  {
   "cell_type": "code",
   "execution_count": 117,
   "metadata": {},
   "outputs": [
    {
     "data": {
      "image/png": "[encoded data removed]",
      "text/plain": [
       "<Figure size 1080x432 with 1 Axes>"
      ]
     },
     "metadata": {
      "needs_background": "light"
     },
     "output_type": "display_data"
    }
   ],
   "source": [
    "plt.figure(figsize=(15,6))\n",
    "sns.barplot(x=features_important['feature'], y=features_important['importance'])\n",
    "plt.xticks(rotation=45)\n",
    "plt.show()"
   ]
  },
  {
   "cell_type": "markdown",
   "metadata": {},
   "source": [
    "### Обучение моделей"
   ]
  },
  {
   "cell_type": "markdown",
   "metadata": {},
   "source": [
    "Обучим разные модели, откалибруем их гиперпараметры и сравним их качество с помощью кросс-валидации."
   ]
  },
  {
   "cell_type": "markdown",
   "metadata": {},
   "source": [
    "#### Линейная регрессия"
   ]
  },
  {
   "cell_type": "markdown",
   "metadata": {},
   "source": [
    "Начнем с линейной регрессии. У модели нет гиперпараметров для настройки, следовательно сразу переходим к кросс-валидации."
   ]
  },
  {
   "cell_type": "markdown",
   "metadata": {},
   "source": [
    "Чтобы оценивать модели с помощью нашей метрики (final_sMAPE) будем использовать *cross_val_predict*, а не традиционный *cross_val_score*."
   ]
  },
  {
   "cell_type": "code",
   "execution_count": 118,
   "metadata": {},
   "outputs": [],
   "source": [
    "pred_lin_reg = cross_val_predict(LinearRegression(),\n",
    "                                features_train_truncated,\n",
    "                                target_train,\n",
    "                                cv=5)"
   ]
  },
  {
   "cell_type": "markdown",
   "metadata": {},
   "source": [
    "Сохраним предсказанные целевые признаки в двух переменных."
   ]
  },
  {
   "cell_type": "code",
   "execution_count": 119,
   "metadata": {},
   "outputs": [],
   "source": [
    "rougher_recovery_pred_lin_reg = pred_lin_reg[:, 0]\n",
    "final_recovery_pred_lin_reg = pred_lin_reg[:, 1]"
   ]
  },
  {
   "cell_type": "markdown",
   "metadata": {},
   "source": [
    "Рассчитаем метрику."
   ]
  },
  {
   "cell_type": "code",
   "execution_count": 120,
   "metadata": {},
   "outputs": [],
   "source": [
    "final_sMAPE_lr_cv = final_sMAPE(sMAPE(rougher_recovery_true, rougher_recovery_pred_lin_reg), \n",
    "            sMAPE(final_recovery_true, final_recovery_pred_lin_reg))"
   ]
  },
  {
   "cell_type": "code",
   "execution_count": 121,
   "metadata": {},
   "outputs": [
    {
     "data": {
      "text/plain": [
       "0.09037290172481963"
      ]
     },
     "execution_count": 121,
     "metadata": {},
     "output_type": "execute_result"
    }
   ],
   "source": [
    "final_sMAPE_lr_cv"
   ]
  },
  {
   "cell_type": "markdown",
   "metadata": {},
   "source": [
    "#### Метод К-ближайших соседей"
   ]
  },
  {
   "cell_type": "markdown",
   "metadata": {},
   "source": [
    "Выполним регрессию с помощью метода К-ближайших соседей. Для начала с помощью техники Grid Search определим оптимальное количество соседей."
   ]
  },
  {
   "cell_type": "code",
   "execution_count": 122,
   "metadata": {},
   "outputs": [
    {
     "name": "stdout",
     "output_type": "stream",
     "text": [
      "Fitting 5 folds for each of 8 candidates, totalling 40 fits\n"
     ]
    }
   ],
   "source": [
    "parameters = [{'n_neighbors' : [5, 10, 50, 100, 200, 300, 400, 500]}]\n",
    "grid_search = GridSearchCV(estimator=KNeighborsRegressor(),\n",
    "                           param_grid=parameters,\n",
    "                           scoring='neg_mean_absolute_error',\n",
    "                           cv=5,\n",
    "                           verbose=1,\n",
    "                           n_jobs=-1)\n",
    "grid_search.fit(features_train_truncated, target_train)\n",
    "best_parameters_knn = grid_search.best_params_"
   ]
  },
  {
   "cell_type": "code",
   "execution_count": 123,
   "metadata": {},
   "outputs": [
    {
     "data": {
      "text/plain": [
       "{'n_neighbors': 500}"
      ]
     },
     "execution_count": 123,
     "metadata": {},
     "output_type": "execute_result"
    }
   ],
   "source": [
    "best_parameters_knn"
   ]
  },
  {
   "cell_type": "markdown",
   "metadata": {},
   "source": [
    "Получили, что оптимальное число соседей - 500. Создадим модель и проверим её качество на кросс-валидации."
   ]
  },
  {
   "cell_type": "code",
   "execution_count": 124,
   "metadata": {},
   "outputs": [],
   "source": [
    "pred_knn = cross_val_predict(KNeighborsRegressor(n_neighbors=500),\n",
    "                                features_train_truncated,\n",
    "                                target_train,\n",
    "                                cv=5)"
   ]
  },
  {
   "cell_type": "markdown",
   "metadata": {},
   "source": [
    "Сохраним предсказания в 2 переменные."
   ]
  },
  {
   "cell_type": "code",
   "execution_count": 125,
   "metadata": {},
   "outputs": [],
   "source": [
    "rougher_recovery_pred_knn = pred_knn[:, 0]\n",
    "final_recovery_pred_knn = pred_knn[:, 1]"
   ]
  },
  {
   "cell_type": "markdown",
   "metadata": {},
   "source": [
    "Вычисляем итоговую метрику."
   ]
  },
  {
   "cell_type": "code",
   "execution_count": 126,
   "metadata": {},
   "outputs": [],
   "source": [
    "final_sMAPE_knn_cv = final_sMAPE(sMAPE(rougher_recovery_true, rougher_recovery_pred_knn), \n",
    "            sMAPE(final_recovery_true, final_recovery_pred_knn))"
   ]
  },
  {
   "cell_type": "code",
   "execution_count": 127,
   "metadata": {},
   "outputs": [
    {
     "data": {
      "text/plain": [
       "0.08349576222115693"
      ]
     },
     "execution_count": 127,
     "metadata": {},
     "output_type": "execute_result"
    }
   ],
   "source": [
    "final_sMAPE_knn_cv"
   ]
  },
  {
   "cell_type": "markdown",
   "metadata": {},
   "source": [
    "#### Случайный лес"
   ]
  },
  {
   "cell_type": "markdown",
   "metadata": {},
   "source": [
    "С помощью техники Grid Search определим оптимальные глубину дерева, количество деревьев, количество объектов и рассматриваемых признаков для разбиения узла."
   ]
  },
  {
   "cell_type": "code",
   "execution_count": 128,
   "metadata": {},
   "outputs": [
    {
     "name": "stdout",
     "output_type": "stream",
     "text": [
      "Fitting 5 folds for each of 54 candidates, totalling 270 fits\n"
     ]
    }
   ],
   "source": [
    "parameters = [{'n_estimators' : [200, 225, 250],                                  \n",
    "               'max_depth' : [5, 6, 7],                                          \n",
    "               'min_samples_split' : [3, 4, 5],                                   \n",
    "               'max_features' : [4, 6]}]                                          \n",
    "grid_search_rf = GridSearchCV(estimator=RandomForestRegressor(random_state=42),\n",
    "                           param_grid=parameters,\n",
    "                           scoring='neg_mean_absolute_error',\n",
    "                           cv=5,\n",
    "                           verbose=1,\n",
    "                           n_jobs=-1)\n",
    "grid_search_rf.fit(features_train_truncated, target_train)\n",
    "best_parameters_rf = grid_search_rf.best_params_"
   ]
  },
  {
   "cell_type": "code",
   "execution_count": 129,
   "metadata": {},
   "outputs": [
    {
     "data": {
      "text/plain": [
       "{'max_depth': 7,\n",
       " 'max_features': 4,\n",
       " 'min_samples_split': 3,\n",
       " 'n_estimators': 200}"
      ]
     },
     "execution_count": 129,
     "metadata": {},
     "output_type": "execute_result"
    }
   ],
   "source": [
    "best_parameters_rf"
   ]
  },
  {
   "cell_type": "markdown",
   "metadata": {},
   "source": [
    "Оптимальные гиперпараметры для модели случайного леса: максимальная глубина дерева - 7, максимальное количество рассматриваемых признаков для разбиения - 4, минимальное количество объектов для разбиения - 3, количество деревьев - 200. Проведем кросс-валидацию, используя модель с определенными выше параметрами."
   ]
  },
  {
   "cell_type": "code",
   "execution_count": 131,
   "metadata": {},
   "outputs": [],
   "source": [
    "pred_rf = cross_val_predict(RandomForestRegressor(n_estimators=200,\n",
    "                                                  max_depth=7,\n",
    "                                                  max_features=4,\n",
    "                                                  min_samples_split=3,\n",
    "                                                  random_state=42),\n",
    "                                features_train_truncated,\n",
    "                                target_train,\n",
    "                                cv=5,\n",
    "                                n_jobs=-1)"
   ]
  },
  {
   "cell_type": "markdown",
   "metadata": {},
   "source": [
    "Сохраним предсказания в 2 переменные."
   ]
  },
  {
   "cell_type": "code",
   "execution_count": 132,
   "metadata": {},
   "outputs": [],
   "source": [
    "rougher_recovery_pred_rf = pred_rf[:, 0]\n",
    "final_recovery_pred_rf = pred_rf[:, 1]"
   ]
  },
  {
   "cell_type": "markdown",
   "metadata": {},
   "source": [
    "Подсчитаем итоговую метрику."
   ]
  },
  {
   "cell_type": "code",
   "execution_count": 133,
   "metadata": {},
   "outputs": [],
   "source": [
    "final_sMAPE_rf_cv = final_sMAPE(sMAPE(rougher_recovery_true, rougher_recovery_pred_rf), \n",
    "            sMAPE(final_recovery_true, final_recovery_pred_rf))"
   ]
  },
  {
   "cell_type": "code",
   "execution_count": 134,
   "metadata": {},
   "outputs": [
    {
     "data": {
      "text/plain": [
       "0.08046112726584859"
      ]
     },
     "execution_count": 134,
     "metadata": {},
     "output_type": "execute_result"
    }
   ],
   "source": [
    "final_sMAPE_rf_cv"
   ]
  },
  {
   "cell_type": "markdown",
   "metadata": {},
   "source": [
    "#### Сравнение моделей"
   ]
  },
  {
   "cell_type": "markdown",
   "metadata": {},
   "source": [
    "Сравним модели с помощью нашей метрики."
   ]
  },
  {
   "cell_type": "code",
   "execution_count": 135,
   "metadata": {},
   "outputs": [
    {
     "data": {
      "text/html": [
       "<div>\n",
       "<style scoped>\n",
       "    .dataframe tbody tr th:only-of-type {\n",
       "        vertical-align: middle;\n",
       "    }\n",
       "\n",
       "    .dataframe tbody tr th {\n",
       "        vertical-align: top;\n",
       "    }\n",
       "\n",
       "    .dataframe thead th {\n",
       "        text-align: right;\n",
       "    }\n",
       "</style>\n",
       "<table border=\"1\" class=\"dataframe\">\n",
       "  <thead>\n",
       "    <tr style=\"text-align: right;\">\n",
       "      <th></th>\n",
       "      <th>model</th>\n",
       "      <th>final sMAPE</th>\n",
       "    </tr>\n",
       "  </thead>\n",
       "  <tbody>\n",
       "    <tr>\n",
       "      <th>0</th>\n",
       "      <td>linear regression</td>\n",
       "      <td>0.090373</td>\n",
       "    </tr>\n",
       "    <tr>\n",
       "      <th>1</th>\n",
       "      <td>KNN regression</td>\n",
       "      <td>0.083496</td>\n",
       "    </tr>\n",
       "    <tr>\n",
       "      <th>2</th>\n",
       "      <td>random forest</td>\n",
       "      <td>0.080461</td>\n",
       "    </tr>\n",
       "  </tbody>\n",
       "</table>\n",
       "</div>"
      ],
      "text/plain": [
       "               model  final sMAPE\n",
       "0  linear regression     0.090373\n",
       "1     KNN regression     0.083496\n",
       "2      random forest     0.080461"
      ]
     },
     "execution_count": 135,
     "metadata": {},
     "output_type": "execute_result"
    }
   ],
   "source": [
    "results_cv = pd.DataFrame([['linear regression', final_sMAPE_lr_cv],\n",
    "                           ['KNN regression', final_sMAPE_knn_cv],\n",
    "                           ['random forest', final_sMAPE_rf_cv]], columns=['model', 'final sMAPE'])\n",
    "results_cv"
   ]
  },
  {
   "cell_type": "markdown",
   "metadata": {},
   "source": [
    "Лучше всех себя показала модель случайного леса. Обучим ее на всей обучающей выборке для дальнейшей проверке на тесте."
   ]
  },
  {
   "cell_type": "code",
   "execution_count": 136,
   "metadata": {},
   "outputs": [
    {
     "data": {
      "text/plain": [
       "RandomForestRegressor(max_depth=7, max_features=4, min_samples_split=3,\n",
       "                      n_estimators=200, random_state=42)"
      ]
     },
     "execution_count": 136,
     "metadata": {},
     "output_type": "execute_result"
    }
   ],
   "source": [
    "model = RandomForestRegressor(n_estimators=200, max_depth=7, max_features=4, min_samples_split=3, random_state=42)\n",
    "model.fit(features_train_truncated, target_train)"
   ]
  },
  {
   "cell_type": "markdown",
   "metadata": {},
   "source": [
    "#### Вывод"
   ]
  },
  {
   "cell_type": "markdown",
   "metadata": {},
   "source": [
    "1. Три модели (линейная регрессия, метод К-ближайших соседей и случайный лес) были обучени. Их качество было оценено с помощью кросс-валидации.\n",
    "2. Наилучая модель - случайный лес со значением итоговой метрики (final sMAPE) 0.08."
   ]
  },
  {
   "cell_type": "markdown",
   "metadata": {},
   "source": [
    "### Проверка на тестовой выборке"
   ]
  },
  {
   "cell_type": "markdown",
   "metadata": {},
   "source": [
    "Для начала сохраним целевые признаки из тестового набора в две разные переменные."
   ]
  },
  {
   "cell_type": "code",
   "execution_count": 137,
   "metadata": {},
   "outputs": [],
   "source": [
    "rougher_recovery_test_true = target_test['rougher.output.recovery']\n",
    "final_recovery_test_true = target_test['final.output.recovery']"
   ]
  },
  {
   "cell_type": "markdown",
   "metadata": {},
   "source": [
    "Сделаем предсказания."
   ]
  },
  {
   "cell_type": "code",
   "execution_count": 138,
   "metadata": {},
   "outputs": [],
   "source": [
    "pred_test = model.predict(features_test_truncated)"
   ]
  },
  {
   "cell_type": "markdown",
   "metadata": {},
   "source": [
    "Сохраним предсказания в две переменные."
   ]
  },
  {
   "cell_type": "code",
   "execution_count": 139,
   "metadata": {},
   "outputs": [],
   "source": [
    "rougher_recovery_test_pred = pred_test[:, 0]\n",
    "final_recovery_test_pred = pred_test[:, 1]"
   ]
  },
  {
   "cell_type": "markdown",
   "metadata": {},
   "source": [
    "Вычислим итоговую метрику."
   ]
  },
  {
   "cell_type": "code",
   "execution_count": 140,
   "metadata": {},
   "outputs": [],
   "source": [
    "final_sMAPE_test = final_sMAPE(sMAPE(rougher_recovery_test_true, rougher_recovery_test_pred), \n",
    "            sMAPE(final_recovery_test_true, final_recovery_test_pred))"
   ]
  },
  {
   "cell_type": "code",
   "execution_count": 141,
   "metadata": {},
   "outputs": [
    {
     "data": {
      "text/plain": [
       "0.08562015242789181"
      ]
     },
     "execution_count": 141,
     "metadata": {},
     "output_type": "execute_result"
    }
   ],
   "source": [
    "final_sMAPE_test"
   ]
  },
  {
   "cell_type": "markdown",
   "metadata": {},
   "source": [
    "Значение итоговой метрики незначительно хуже, чем полученное на кросс-валидации, можем считать, что тест пройден успешно."
   ]
  },
  {
   "cell_type": "markdown",
   "metadata": {},
   "source": [
    "### Проверка модели на адекватность"
   ]
  },
  {
   "cell_type": "markdown",
   "metadata": {},
   "source": [
    "Сравним нашу модель с моделью, которая всегда предсказывает одно и тоже значение."
   ]
  },
  {
   "cell_type": "markdown",
   "metadata": {},
   "source": [
    "Начнем с модели, которая всегда предсказывает среднее значение."
   ]
  },
  {
   "cell_type": "code",
   "execution_count": 142,
   "metadata": {},
   "outputs": [],
   "source": [
    "dummy_regк_mean = DummyRegressor(strategy=\"mean\")\n",
    "dummy_regк_mean.fit(features_train_truncated, target_train)\n",
    "pred_test_mean = dummy_regк_mean.predict(features_test_truncated)"
   ]
  },
  {
   "cell_type": "markdown",
   "metadata": {},
   "source": [
    "Как и раньше сохраняем предсказания в 2 переменные."
   ]
  },
  {
   "cell_type": "code",
   "execution_count": 143,
   "metadata": {},
   "outputs": [],
   "source": [
    "rougher_recovery_test_mean = pred_test_mean[:, 0]\n",
    "final_recovery_test_mean = pred_test_mean[:, 1]"
   ]
  },
  {
   "cell_type": "markdown",
   "metadata": {},
   "source": [
    "Вычисляем итоговую метрику."
   ]
  },
  {
   "cell_type": "code",
   "execution_count": 144,
   "metadata": {},
   "outputs": [],
   "source": [
    "final_sMAPE_test_mean = final_sMAPE(sMAPE(rougher_recovery_test_true, rougher_recovery_test_mean), \n",
    "            sMAPE(final_recovery_test_true, final_recovery_test_mean))"
   ]
  },
  {
   "cell_type": "code",
   "execution_count": 145,
   "metadata": {},
   "outputs": [
    {
     "data": {
      "text/plain": [
       "0.09822793053885728"
      ]
     },
     "execution_count": 145,
     "metadata": {},
     "output_type": "execute_result"
    }
   ],
   "source": [
    "final_sMAPE_test_mean"
   ]
  },
  {
   "cell_type": "markdown",
   "metadata": {},
   "source": [
    "Значение метрики хуже, чем в нашей модели, следовательно наша модель эффективнее модели, которая всегда предсказывает среднее."
   ]
  },
  {
   "cell_type": "markdown",
   "metadata": {},
   "source": [
    "Проделаем тоже самое для модели, которая всегда предсказывает медиану."
   ]
  },
  {
   "cell_type": "code",
   "execution_count": 146,
   "metadata": {},
   "outputs": [],
   "source": [
    "dummy_regк_median = DummyRegressor(strategy=\"median\")\n",
    "dummy_regк_median.fit(features_train_truncated, target_train)\n",
    "pred_test_median = dummy_regк_median.predict(features_test_truncated)"
   ]
  },
  {
   "cell_type": "code",
   "execution_count": 147,
   "metadata": {},
   "outputs": [],
   "source": [
    "rougher_recovery_test_median = pred_test_median[:, 0]\n",
    "final_recovery_test_median = pred_test_median[:, 1]"
   ]
  },
  {
   "cell_type": "code",
   "execution_count": 148,
   "metadata": {},
   "outputs": [],
   "source": [
    "final_sMAPE_test_median = final_sMAPE(sMAPE(rougher_recovery_test_true, rougher_recovery_test_median), \n",
    "            sMAPE(final_recovery_test_true, final_recovery_test_median))"
   ]
  },
  {
   "cell_type": "code",
   "execution_count": 149,
   "metadata": {},
   "outputs": [
    {
     "data": {
      "text/plain": [
       "0.0943899456364262"
      ]
     },
     "execution_count": 149,
     "metadata": {},
     "output_type": "execute_result"
    }
   ],
   "source": [
    "final_sMAPE_test_median"
   ]
  },
  {
   "cell_type": "markdown",
   "metadata": {},
   "source": [
    "И в данном случае наша модель ведет себя лучше константной."
   ]
  },
  {
   "cell_type": "markdown",
   "metadata": {},
   "source": [
    "## Вывод"
   ]
  },
  {
   "cell_type": "markdown",
   "metadata": {},
   "source": [
    "1. На первом этапе данные были загружены и была проведена проверка корректности расчета эффективности обогащения. На стадии предобработки, пропуски в данных были заполнены с помощью итеративного импьютера, была выполнена стандартизация данных.\n",
    "2. Был проведен исследовательский анализ данных (EDA), в результате которого было установлено, что:\n",
    "    1. Концентрация золота в смеси увеличивается на каждом этапе очистки. Концентрация серебра увеличивается на этапе флотации, но затем на стадиях очистки его концентрация снижается.\n",
    "    2. Распределения размеров гранул в обучающей и тестовой выборках похожи.\n",
    "    3. Сырье имеет самую низкую суммарную концентрацию веществ. Это объясняется тем, что на этапе флотации в установку подается смесь золотосодержащей руды. Черновой и финальной концентраты имеют похожую среднюю суммарную концентрацию веществ, однако распределение для чернового концентрата куда более широкое.\n",
    "3. В данной работе модели машинного обучения строились для предсказания двух величин: эффективность обогащения чернового концентрата и эффективность обогащения финального концентрата. Для оценки качества использовалась метрика sMAPE (англ. Symmetric Mean Absolute Percentage Error, «симметричное среднее абсолютное процентное отклонение»).\n",
    "4. Три модели были построены (линейная регрессия, метод К-ближайших соседей и случайный лес). Лучше всех на кросс-валидации себя показал модель случайного леса со значением итоговой метрики 0.080. Она была выбрана для дальнейшего тестирования.\n",
    "5. На тесте значение итоговой метрики составило 0.086. \n",
    "6. Модель была проверена на адекватность, путем сравнения ее производительности с производительностью константых моделей (предсказывающих определенное значение: в нашем случае медиана или среднее). В обоих случаях обученная модель случайного леса оказалась лучше."
   ]
  }
 ],
 "metadata": {
  "ExecuteTimeLog": [
   {
    "duration": 743,
    "start_time": "2022-01-24T18:15:22.691Z"
   },
   {
    "duration": 849,
    "start_time": "2022-01-24T18:15:57.858Z"
   },
   {
    "duration": 29,
    "start_time": "2022-01-24T18:16:07.058Z"
   },
   {
    "duration": 19,
    "start_time": "2022-01-24T18:16:50.211Z"
   },
   {
    "duration": 960,
    "start_time": "2022-01-24T18:17:53.336Z"
   },
   {
    "duration": 3,
    "start_time": "2022-01-24T18:18:00.487Z"
   },
   {
    "duration": 2,
    "start_time": "2022-01-24T18:18:19.792Z"
   },
   {
    "duration": 373,
    "start_time": "2022-01-24T18:20:26.600Z"
   },
   {
    "duration": 24,
    "start_time": "2022-01-24T18:20:34.104Z"
   },
   {
    "duration": 307,
    "start_time": "2022-01-24T18:22:53.657Z"
   },
   {
    "duration": 21,
    "start_time": "2022-01-24T18:22:59.442Z"
   },
   {
    "duration": 282,
    "start_time": "2022-01-24T18:24:13.010Z"
   },
   {
    "duration": 6,
    "start_time": "2022-01-24T18:24:19.596Z"
   },
   {
    "duration": 15,
    "start_time": "2022-01-24T18:24:52.485Z"
   },
   {
    "duration": 33779,
    "start_time": "2022-01-24T18:28:05.942Z"
   },
   {
    "duration": -166,
    "start_time": "2022-01-24T18:28:39.889Z"
   },
   {
    "duration": -72,
    "start_time": "2022-01-24T18:30:36.003Z"
   },
   {
    "duration": -71,
    "start_time": "2022-01-24T18:30:36.005Z"
   },
   {
    "duration": -72,
    "start_time": "2022-01-24T18:30:36.008Z"
   },
   {
    "duration": -112,
    "start_time": "2022-01-24T18:30:36.050Z"
   },
   {
    "duration": -110,
    "start_time": "2022-01-24T18:30:36.051Z"
   },
   {
    "duration": -109,
    "start_time": "2022-01-24T18:30:36.052Z"
   },
   {
    "duration": -109,
    "start_time": "2022-01-24T18:30:36.055Z"
   },
   {
    "duration": -108,
    "start_time": "2022-01-24T18:30:36.056Z"
   },
   {
    "duration": -107,
    "start_time": "2022-01-24T18:30:36.057Z"
   },
   {
    "duration": -105,
    "start_time": "2022-01-24T18:30:36.057Z"
   },
   {
    "duration": 3,
    "start_time": "2022-01-24T18:31:18.340Z"
   },
   {
    "duration": 758,
    "start_time": "2022-01-24T18:31:18.395Z"
   },
   {
    "duration": 21,
    "start_time": "2022-01-24T18:31:19.154Z"
   },
   {
    "duration": 28,
    "start_time": "2022-01-24T18:31:19.177Z"
   },
   {
    "duration": 1311,
    "start_time": "2022-01-24T18:31:19.207Z"
   },
   {
    "duration": 24,
    "start_time": "2022-01-24T18:31:20.519Z"
   },
   {
    "duration": 12,
    "start_time": "2022-01-24T18:31:20.545Z"
   },
   {
    "duration": 722,
    "start_time": "2022-01-24T18:31:20.559Z"
   },
   {
    "duration": 30,
    "start_time": "2022-01-24T18:31:21.282Z"
   },
   {
    "duration": 5,
    "start_time": "2022-01-24T18:31:21.315Z"
   },
   {
    "duration": 25,
    "start_time": "2022-01-24T18:31:52.877Z"
   },
   {
    "duration": 11,
    "start_time": "2022-01-24T18:36:55.671Z"
   },
   {
    "duration": 11,
    "start_time": "2022-01-24T18:37:04.963Z"
   },
   {
    "duration": 4,
    "start_time": "2022-01-24T18:54:07.206Z"
   },
   {
    "duration": 428,
    "start_time": "2022-01-24T18:54:22.509Z"
   },
   {
    "duration": 8,
    "start_time": "2022-01-24T18:54:26.759Z"
   },
   {
    "duration": 16,
    "start_time": "2022-01-24T18:55:08.846Z"
   },
   {
    "duration": 4,
    "start_time": "2022-01-24T18:55:37.317Z"
   },
   {
    "duration": 12113,
    "start_time": "2022-01-24T18:56:03.339Z"
   },
   {
    "duration": 5,
    "start_time": "2022-01-24T18:56:18.593Z"
   },
   {
    "duration": 34,
    "start_time": "2022-01-24T18:57:15.200Z"
   },
   {
    "duration": 20,
    "start_time": "2022-01-24T18:57:28.013Z"
   },
   {
    "duration": 3,
    "start_time": "2022-01-24T19:00:11.495Z"
   },
   {
    "duration": 654,
    "start_time": "2022-01-24T19:07:14.942Z"
   },
   {
    "duration": 2149,
    "start_time": "2022-01-24T19:07:38.258Z"
   },
   {
    "duration": 288,
    "start_time": "2022-01-24T19:08:12.712Z"
   },
   {
    "duration": 5,
    "start_time": "2022-01-24T19:08:20.778Z"
   },
   {
    "duration": 5,
    "start_time": "2022-01-24T19:29:33.207Z"
   },
   {
    "duration": 6,
    "start_time": "2022-01-24T19:30:47.454Z"
   },
   {
    "duration": 41,
    "start_time": "2022-01-24T19:30:51.886Z"
   },
   {
    "duration": 7,
    "start_time": "2022-01-24T19:30:57.209Z"
   },
   {
    "duration": 6,
    "start_time": "2022-01-24T19:48:16.342Z"
   },
   {
    "duration": 7,
    "start_time": "2022-01-24T19:48:21.964Z"
   },
   {
    "duration": 5,
    "start_time": "2022-01-24T19:48:27.483Z"
   },
   {
    "duration": 8,
    "start_time": "2022-01-24T19:49:16.910Z"
   },
   {
    "duration": 8,
    "start_time": "2022-01-24T19:49:23.144Z"
   },
   {
    "duration": 6,
    "start_time": "2022-01-24T19:52:26.651Z"
   },
   {
    "duration": 29,
    "start_time": "2022-01-24T19:52:29.377Z"
   },
   {
    "duration": 23,
    "start_time": "2022-01-24T19:53:02.643Z"
   },
   {
    "duration": 3,
    "start_time": "2022-01-24T19:54:02.429Z"
   },
   {
    "duration": 9,
    "start_time": "2022-01-24T19:54:05.812Z"
   },
   {
    "duration": 6,
    "start_time": "2022-01-24T19:54:22.595Z"
   },
   {
    "duration": 21,
    "start_time": "2022-01-24T19:55:15.167Z"
   },
   {
    "duration": 32,
    "start_time": "2022-01-24T19:55:34.169Z"
   },
   {
    "duration": 89,
    "start_time": "2022-01-24T19:55:48.563Z"
   },
   {
    "duration": 574,
    "start_time": "2022-01-24T19:55:57.099Z"
   },
   {
    "duration": 8,
    "start_time": "2022-01-24T19:58:14.546Z"
   },
   {
    "duration": 10,
    "start_time": "2022-01-24T19:59:31.803Z"
   },
   {
    "duration": 9,
    "start_time": "2022-01-24T19:59:49.061Z"
   },
   {
    "duration": 11,
    "start_time": "2022-01-24T19:59:49.772Z"
   },
   {
    "duration": 5,
    "start_time": "2022-01-24T20:00:09.290Z"
   },
   {
    "duration": 10,
    "start_time": "2022-01-24T20:00:50.230Z"
   },
   {
    "duration": 10,
    "start_time": "2022-01-24T20:00:50.831Z"
   },
   {
    "duration": 13,
    "start_time": "2022-01-24T20:01:31.281Z"
   },
   {
    "duration": 11,
    "start_time": "2022-01-24T20:02:43.744Z"
   },
   {
    "duration": 10,
    "start_time": "2022-01-24T20:02:44.288Z"
   },
   {
    "duration": 9,
    "start_time": "2022-01-24T20:03:12.617Z"
   },
   {
    "duration": 11,
    "start_time": "2022-01-24T20:03:13.051Z"
   },
   {
    "duration": 6,
    "start_time": "2022-01-24T20:03:55.596Z"
   },
   {
    "duration": 6,
    "start_time": "2022-01-24T20:04:07.111Z"
   },
   {
    "duration": 6,
    "start_time": "2022-01-24T20:04:14.434Z"
   },
   {
    "duration": 6,
    "start_time": "2022-01-24T20:04:19.950Z"
   },
   {
    "duration": 4,
    "start_time": "2022-01-24T20:06:00.615Z"
   },
   {
    "duration": 4,
    "start_time": "2022-01-24T20:07:42.530Z"
   },
   {
    "duration": 19,
    "start_time": "2022-01-24T20:07:56.847Z"
   },
   {
    "duration": 4,
    "start_time": "2022-01-24T20:08:49.328Z"
   },
   {
    "duration": 4,
    "start_time": "2022-01-24T20:09:32.092Z"
   },
   {
    "duration": 8,
    "start_time": "2022-01-24T20:09:32.813Z"
   },
   {
    "duration": 6,
    "start_time": "2022-01-24T20:10:19.400Z"
   },
   {
    "duration": 22,
    "start_time": "2022-01-24T20:10:20.331Z"
   },
   {
    "duration": 82,
    "start_time": "2022-01-24T20:11:32.885Z"
   },
   {
    "duration": 8,
    "start_time": "2022-01-24T20:14:02.401Z"
   },
   {
    "duration": 8,
    "start_time": "2022-01-24T20:14:33.368Z"
   },
   {
    "duration": 7,
    "start_time": "2022-01-24T20:14:41.580Z"
   },
   {
    "duration": 7,
    "start_time": "2022-01-24T20:14:49.039Z"
   },
   {
    "duration": 7,
    "start_time": "2022-01-24T20:15:01.021Z"
   },
   {
    "duration": 9,
    "start_time": "2022-01-24T20:16:02.402Z"
   },
   {
    "duration": 8,
    "start_time": "2022-01-24T20:16:31.708Z"
   },
   {
    "duration": 4,
    "start_time": "2022-01-24T20:23:41.347Z"
   },
   {
    "duration": 27,
    "start_time": "2022-01-24T20:24:46.866Z"
   },
   {
    "duration": 7,
    "start_time": "2022-01-24T20:25:02.794Z"
   },
   {
    "duration": 3,
    "start_time": "2022-01-24T20:27:10.110Z"
   },
   {
    "duration": 12,
    "start_time": "2022-01-24T20:28:20.408Z"
   },
   {
    "duration": 4,
    "start_time": "2022-01-24T20:28:22.545Z"
   },
   {
    "duration": 274,
    "start_time": "2022-01-24T20:28:33.917Z"
   },
   {
    "duration": 4,
    "start_time": "2022-01-24T20:28:39.661Z"
   },
   {
    "duration": 5,
    "start_time": "2022-01-24T20:28:47.261Z"
   },
   {
    "duration": 24,
    "start_time": "2022-01-24T20:28:56.556Z"
   },
   {
    "duration": 6,
    "start_time": "2022-01-24T20:29:04.196Z"
   },
   {
    "duration": 7,
    "start_time": "2022-01-24T20:29:19.953Z"
   },
   {
    "duration": 3,
    "start_time": "2022-01-24T20:30:07.833Z"
   },
   {
    "duration": 3292,
    "start_time": "2022-01-24T20:31:33.922Z"
   },
   {
    "duration": 10,
    "start_time": "2022-01-24T20:31:57.259Z"
   },
   {
    "duration": 6473,
    "start_time": "2022-01-24T20:32:20.505Z"
   },
   {
    "duration": 2115,
    "start_time": "2022-01-24T20:32:29.841Z"
   },
   {
    "duration": 2666,
    "start_time": "2022-01-24T20:32:35.774Z"
   },
   {
    "duration": 270,
    "start_time": "2022-01-24T20:32:43.687Z"
   },
   {
    "duration": 6,
    "start_time": "2022-01-24T20:32:46.547Z"
   },
   {
    "duration": 8,
    "start_time": "2022-01-24T20:32:53.498Z"
   },
   {
    "duration": 3266,
    "start_time": "2022-01-24T20:33:02.758Z"
   },
   {
    "duration": 3034,
    "start_time": "2022-01-24T20:33:11.968Z"
   },
   {
    "duration": 3202,
    "start_time": "2022-01-24T20:33:23.758Z"
   },
   {
    "duration": 4,
    "start_time": "2022-01-24T20:33:28.995Z"
   },
   {
    "duration": 4,
    "start_time": "2022-01-24T20:33:43.221Z"
   },
   {
    "duration": 15,
    "start_time": "2022-01-24T20:33:49.178Z"
   },
   {
    "duration": 4,
    "start_time": "2022-01-24T20:34:23.276Z"
   },
   {
    "duration": 1727,
    "start_time": "2022-01-24T20:34:35.774Z"
   },
   {
    "duration": 1656,
    "start_time": "2022-01-24T20:35:30.446Z"
   },
   {
    "duration": 1453,
    "start_time": "2022-01-24T20:35:53.951Z"
   },
   {
    "duration": 275,
    "start_time": "2022-01-24T20:36:48.917Z"
   },
   {
    "duration": 3,
    "start_time": "2022-01-24T20:37:27.784Z"
   },
   {
    "duration": 2410,
    "start_time": "2022-01-24T20:37:41.535Z"
   },
   {
    "duration": 12751,
    "start_time": "2022-01-24T20:37:55.690Z"
   },
   {
    "duration": 2721,
    "start_time": "2022-01-24T20:38:26.284Z"
   },
   {
    "duration": 252,
    "start_time": "2022-01-24T20:38:33.982Z"
   },
   {
    "duration": 2090,
    "start_time": "2022-01-26T18:45:50.601Z"
   },
   {
    "duration": 1242,
    "start_time": "2022-01-26T18:45:51.452Z"
   },
   {
    "duration": 1234,
    "start_time": "2022-01-26T18:45:51.462Z"
   },
   {
    "duration": 377,
    "start_time": "2022-01-26T18:45:52.872Z"
   },
   {
    "duration": 84,
    "start_time": "2022-01-26T18:46:04.164Z"
   },
   {
    "duration": 739,
    "start_time": "2022-01-26T18:46:09.759Z"
   },
   {
    "duration": 48,
    "start_time": "2022-01-26T18:46:10.501Z"
   },
   {
    "duration": 25,
    "start_time": "2022-01-26T18:46:10.703Z"
   },
   {
    "duration": 206,
    "start_time": "2022-01-26T18:46:11.614Z"
   },
   {
    "duration": 33,
    "start_time": "2022-01-26T18:46:13.242Z"
   },
   {
    "duration": 18,
    "start_time": "2022-01-26T18:46:13.929Z"
   },
   {
    "duration": 1027,
    "start_time": "2022-01-26T18:46:15.180Z"
   },
   {
    "duration": 34,
    "start_time": "2022-01-26T18:46:16.664Z"
   },
   {
    "duration": 25,
    "start_time": "2022-01-26T18:46:18.166Z"
   },
   {
    "duration": 8,
    "start_time": "2022-01-26T18:46:18.717Z"
   },
   {
    "duration": 4,
    "start_time": "2022-01-26T18:48:55.335Z"
   },
   {
    "duration": 651,
    "start_time": "2022-01-26T18:48:57.020Z"
   },
   {
    "duration": 19,
    "start_time": "2022-01-26T18:48:57.976Z"
   },
   {
    "duration": 8,
    "start_time": "2022-01-26T18:49:00.922Z"
   },
   {
    "duration": 20,
    "start_time": "2022-01-26T18:49:01.925Z"
   },
   {
    "duration": 10,
    "start_time": "2022-01-26T18:49:03.900Z"
   },
   {
    "duration": 7,
    "start_time": "2022-01-26T18:49:44.662Z"
   },
   {
    "duration": 20,
    "start_time": "2022-01-26T18:50:23.312Z"
   },
   {
    "duration": 16,
    "start_time": "2022-01-26T18:50:25.569Z"
   },
   {
    "duration": 9,
    "start_time": "2022-01-26T18:50:27.260Z"
   },
   {
    "duration": 5,
    "start_time": "2022-01-26T18:50:27.785Z"
   },
   {
    "duration": 6,
    "start_time": "2022-01-26T18:50:28.105Z"
   },
   {
    "duration": 30,
    "start_time": "2022-01-26T18:50:28.294Z"
   },
   {
    "duration": 6,
    "start_time": "2022-01-26T18:50:29.940Z"
   },
   {
    "duration": 7,
    "start_time": "2022-01-26T18:50:30.815Z"
   },
   {
    "duration": 14,
    "start_time": "2022-01-26T18:50:31.002Z"
   },
   {
    "duration": 7,
    "start_time": "2022-01-26T18:50:31.719Z"
   },
   {
    "duration": 32,
    "start_time": "2022-01-26T18:50:31.919Z"
   },
   {
    "duration": 152,
    "start_time": "2022-01-26T18:50:33.120Z"
   },
   {
    "duration": 14,
    "start_time": "2022-01-26T18:50:33.822Z"
   },
   {
    "duration": 12,
    "start_time": "2022-01-26T18:50:34.023Z"
   },
   {
    "duration": 1673,
    "start_time": "2022-01-26T18:50:36.085Z"
   },
   {
    "duration": 1902,
    "start_time": "2022-01-26T18:50:37.849Z"
   },
   {
    "duration": 1699,
    "start_time": "2022-01-26T18:50:39.754Z"
   },
   {
    "duration": 309,
    "start_time": "2022-01-26T18:50:41.457Z"
   },
   {
    "duration": 1379,
    "start_time": "2022-01-26T18:50:40.389Z"
   },
   {
    "duration": 1369,
    "start_time": "2022-01-26T18:50:40.401Z"
   },
   {
    "duration": 1341,
    "start_time": "2022-01-26T18:50:40.430Z"
   },
   {
    "duration": 34602,
    "start_time": "2022-01-26T18:52:30.138Z"
   },
   {
    "duration": 11,
    "start_time": "2022-01-26T18:53:08.221Z"
   },
   {
    "duration": 382,
    "start_time": "2022-01-26T18:53:14.734Z"
   },
   {
    "duration": 278,
    "start_time": "2022-01-26T18:53:49.173Z"
   },
   {
    "duration": 252744,
    "start_time": "2022-01-26T18:54:22.813Z"
   },
   {
    "duration": 109,
    "start_time": "2022-01-26T18:58:35.560Z"
   },
   {
    "duration": 8,
    "start_time": "2022-01-26T18:58:35.672Z"
   },
   {
    "duration": 24,
    "start_time": "2022-01-26T18:58:35.682Z"
   },
   {
    "duration": 63,
    "start_time": "2022-01-26T18:58:35.708Z"
   },
   {
    "duration": 33,
    "start_time": "2022-01-26T18:58:35.773Z"
   },
   {
    "duration": 3,
    "start_time": "2022-01-26T18:59:22.506Z"
   },
   {
    "duration": 357,
    "start_time": "2022-01-26T18:59:23.423Z"
   },
   {
    "duration": 19,
    "start_time": "2022-01-26T18:59:25.303Z"
   },
   {
    "duration": 436,
    "start_time": "2022-01-26T18:59:56.462Z"
   },
   {
    "duration": 5,
    "start_time": "2022-01-26T19:00:49.322Z"
   },
   {
    "duration": 4,
    "start_time": "2022-01-26T19:00:50.334Z"
   },
   {
    "duration": 50895,
    "start_time": "2022-01-26T19:01:31.009Z"
   },
   {
    "duration": 46,
    "start_time": "2022-01-26T19:02:21.908Z"
   },
   {
    "duration": 202343,
    "start_time": "2022-01-26T19:02:21.957Z"
   },
   {
    "duration": 4,
    "start_time": "2022-01-26T19:05:44.303Z"
   },
   {
    "duration": 7,
    "start_time": "2022-01-26T19:05:44.309Z"
   },
   {
    "duration": 798,
    "start_time": "2022-01-26T19:05:44.318Z"
   },
   {
    "duration": 6,
    "start_time": "2022-01-26T19:05:45.119Z"
   },
   {
    "duration": 56,
    "start_time": "2022-01-26T19:05:45.129Z"
   },
   {
    "duration": 30,
    "start_time": "2022-01-26T19:05:45.188Z"
   },
   {
    "duration": 117792,
    "start_time": "2022-01-26T19:05:45.221Z"
   },
   {
    "duration": 4,
    "start_time": "2022-01-26T19:07:43.016Z"
   },
   {
    "duration": 712,
    "start_time": "2022-01-26T19:07:43.024Z"
   },
   {
    "duration": 37,
    "start_time": "2022-01-26T19:07:43.738Z"
   },
   {
    "duration": 34,
    "start_time": "2022-01-26T19:07:43.777Z"
   },
   {
    "duration": 941,
    "start_time": "2022-01-26T19:07:43.814Z"
   },
   {
    "duration": 493,
    "start_time": "2022-01-26T19:07:44.758Z"
   },
   {
    "duration": 5,
    "start_time": "2022-01-26T19:07:45.255Z"
   },
   {
    "duration": 814,
    "start_time": "2022-01-26T19:07:45.263Z"
   },
   {
    "duration": 6,
    "start_time": "2022-01-26T19:07:46.080Z"
   },
   {
    "duration": 94678,
    "start_time": "2022-01-26T19:07:46.089Z"
   },
   {
    "duration": 6,
    "start_time": "2022-01-26T19:09:20.770Z"
   },
   {
    "duration": 14738,
    "start_time": "2022-01-26T19:09:20.779Z"
   },
   {
    "duration": 3,
    "start_time": "2022-01-26T19:09:35.522Z"
   },
   {
    "duration": 722,
    "start_time": "2022-01-26T19:09:35.529Z"
   },
   {
    "duration": 5,
    "start_time": "2022-01-26T19:09:36.254Z"
   },
   {
    "duration": 1306555,
    "start_time": "2022-01-26T19:09:36.262Z"
   },
   {
    "duration": 5,
    "start_time": "2022-01-26T19:31:22.819Z"
   },
   {
    "duration": 35591,
    "start_time": "2022-01-26T19:31:22.826Z"
   },
   {
    "duration": 4,
    "start_time": "2022-01-26T19:31:58.419Z"
   },
   {
    "duration": 713,
    "start_time": "2022-01-26T19:31:58.425Z"
   },
   {
    "duration": 10,
    "start_time": "2022-01-26T19:31:59.140Z"
   },
   {
    "duration": 11,
    "start_time": "2022-01-26T19:31:59.153Z"
   },
   {
    "duration": 8907,
    "start_time": "2022-01-26T19:31:59.166Z"
   },
   {
    "duration": 4,
    "start_time": "2022-01-26T19:32:08.075Z"
   },
   {
    "duration": 88,
    "start_time": "2022-01-26T19:32:08.081Z"
   },
   {
    "duration": 4,
    "start_time": "2022-01-26T19:32:08.171Z"
   },
   {
    "duration": 273,
    "start_time": "2022-01-26T19:32:08.177Z"
   },
   {
    "duration": 5,
    "start_time": "2022-01-26T19:32:08.452Z"
   },
   {
    "duration": 9,
    "start_time": "2022-01-26T19:49:51.312Z"
   },
   {
    "duration": 1347,
    "start_time": "2022-01-27T11:32:08.237Z"
   },
   {
    "duration": 706,
    "start_time": "2022-01-27T11:32:16.768Z"
   },
   {
    "duration": 24,
    "start_time": "2022-01-27T11:32:18.080Z"
   },
   {
    "duration": 16,
    "start_time": "2022-01-27T11:32:19.793Z"
   },
   {
    "duration": 478,
    "start_time": "2022-01-27T11:32:20.685Z"
   },
   {
    "duration": 20,
    "start_time": "2022-01-27T11:32:21.815Z"
   },
   {
    "duration": 11,
    "start_time": "2022-01-27T11:32:24.567Z"
   },
   {
    "duration": 1213,
    "start_time": "2022-01-27T11:32:27.945Z"
   },
   {
    "duration": 20,
    "start_time": "2022-01-27T11:32:29.159Z"
   },
   {
    "duration": 16,
    "start_time": "2022-01-27T11:32:29.785Z"
   },
   {
    "duration": 5,
    "start_time": "2022-01-27T11:32:31.516Z"
   },
   {
    "duration": 3,
    "start_time": "2022-01-27T11:32:38.473Z"
   },
   {
    "duration": 377,
    "start_time": "2022-01-27T11:32:39.367Z"
   },
   {
    "duration": 13,
    "start_time": "2022-01-27T11:32:41.601Z"
   },
   {
    "duration": 217,
    "start_time": "2022-01-27T11:32:45.992Z"
   },
   {
    "duration": 57,
    "start_time": "2022-01-27T11:32:58.408Z"
   },
   {
    "duration": 5,
    "start_time": "2022-01-27T11:33:07.024Z"
   },
   {
    "duration": 12,
    "start_time": "2022-01-27T11:33:08.899Z"
   },
   {
    "duration": 6,
    "start_time": "2022-01-27T11:33:13.500Z"
   },
   {
    "duration": 203,
    "start_time": "2022-01-27T11:33:18.913Z"
   },
   {
    "duration": 625,
    "start_time": "2022-01-27T11:33:32.970Z"
   },
   {
    "duration": 397,
    "start_time": "2022-01-27T11:33:39.450Z"
   },
   {
    "duration": 16,
    "start_time": "2022-01-27T11:33:40.601Z"
   },
   {
    "duration": 5,
    "start_time": "2022-01-27T11:33:42.489Z"
   },
   {
    "duration": 13,
    "start_time": "2022-01-27T11:33:43.301Z"
   },
   {
    "duration": 7,
    "start_time": "2022-01-27T11:33:46.139Z"
   },
   {
    "duration": 4,
    "start_time": "2022-01-27T11:33:49.034Z"
   },
   {
    "duration": 11,
    "start_time": "2022-01-27T11:34:00.906Z"
   },
   {
    "duration": 11,
    "start_time": "2022-01-27T11:34:03.199Z"
   },
   {
    "duration": 4,
    "start_time": "2022-01-27T11:34:19.357Z"
   },
   {
    "duration": 4,
    "start_time": "2022-01-27T11:34:28.700Z"
   },
   {
    "duration": 4,
    "start_time": "2022-01-27T11:34:31.446Z"
   },
   {
    "duration": 20,
    "start_time": "2022-01-27T11:34:32.655Z"
   },
   {
    "duration": 4,
    "start_time": "2022-01-27T11:34:35.608Z"
   },
   {
    "duration": 4,
    "start_time": "2022-01-27T11:34:41.652Z"
   },
   {
    "duration": 7,
    "start_time": "2022-01-27T11:34:42.592Z"
   },
   {
    "duration": 5,
    "start_time": "2022-01-27T11:34:52.659Z"
   },
   {
    "duration": 20,
    "start_time": "2022-01-27T11:34:53.644Z"
   },
   {
    "duration": 76,
    "start_time": "2022-01-27T11:34:56.679Z"
   },
   {
    "duration": 8,
    "start_time": "2022-01-27T11:34:59.767Z"
   },
   {
    "duration": 7,
    "start_time": "2022-01-27T11:35:04.150Z"
   },
   {
    "duration": 1730,
    "start_time": "2022-01-27T11:35:16.083Z"
   },
   {
    "duration": 1365,
    "start_time": "2022-01-27T11:35:18.454Z"
   },
   {
    "duration": 1220,
    "start_time": "2022-01-27T11:35:20.494Z"
   },
   {
    "duration": 213053,
    "start_time": "2022-01-27T11:35:31.066Z"
   },
   {
    "duration": 108,
    "start_time": "2022-01-27T11:39:04.121Z"
   },
   {
    "duration": 8,
    "start_time": "2022-01-27T11:39:04.232Z"
   },
   {
    "duration": 17,
    "start_time": "2022-01-27T11:40:24.921Z"
   },
   {
    "duration": 18,
    "start_time": "2022-01-27T11:40:28.105Z"
   },
   {
    "duration": 21,
    "start_time": "2022-01-27T11:40:30.393Z"
   },
   {
    "duration": 326,
    "start_time": "2022-01-27T11:40:41.890Z"
   },
   {
    "duration": 298,
    "start_time": "2022-01-27T11:40:45.378Z"
   },
   {
    "duration": 313,
    "start_time": "2022-01-27T11:40:47.968Z"
   },
   {
    "duration": 3,
    "start_time": "2022-01-27T11:40:59.862Z"
   },
   {
    "duration": 208,
    "start_time": "2022-01-27T11:41:00.737Z"
   },
   {
    "duration": 13,
    "start_time": "2022-01-27T11:41:02.659Z"
   },
   {
    "duration": 349,
    "start_time": "2022-01-27T11:42:03.237Z"
   },
   {
    "duration": 28,
    "start_time": "2022-01-27T11:43:36.529Z"
   },
   {
    "duration": 13,
    "start_time": "2022-01-27T11:44:28.478Z"
   },
   {
    "duration": 26,
    "start_time": "2022-01-27T11:44:47.298Z"
   },
   {
    "duration": 5,
    "start_time": "2022-01-27T11:45:01.148Z"
   },
   {
    "duration": 6,
    "start_time": "2022-01-27T11:45:06.638Z"
   },
   {
    "duration": 6,
    "start_time": "2022-01-27T11:45:13.263Z"
   },
   {
    "duration": 7,
    "start_time": "2022-01-27T11:45:30.790Z"
   },
   {
    "duration": 615,
    "start_time": "2022-01-27T11:46:07.943Z"
   },
   {
    "duration": 6899,
    "start_time": "2022-01-27T11:46:26.956Z"
   },
   {
    "duration": 5129,
    "start_time": "2022-01-27T11:46:53.599Z"
   },
   {
    "duration": 6,
    "start_time": "2022-01-27T11:50:28.326Z"
   },
   {
    "duration": 6,
    "start_time": "2022-01-27T11:53:46.963Z"
   },
   {
    "duration": 26,
    "start_time": "2022-01-27T11:55:39.112Z"
   },
   {
    "duration": 6,
    "start_time": "2022-01-27T11:55:46.132Z"
   },
   {
    "duration": 5,
    "start_time": "2022-01-27T11:56:17.240Z"
   },
   {
    "duration": 4,
    "start_time": "2022-01-27T11:56:29.766Z"
   },
   {
    "duration": 3,
    "start_time": "2022-01-27T11:56:37.448Z"
   },
   {
    "duration": 6,
    "start_time": "2022-01-27T11:57:06.752Z"
   },
   {
    "duration": 4,
    "start_time": "2022-01-27T11:57:10.670Z"
   },
   {
    "duration": 5,
    "start_time": "2022-01-27T11:58:42.430Z"
   },
   {
    "duration": 22,
    "start_time": "2022-01-27T11:58:43.110Z"
   },
   {
    "duration": 70,
    "start_time": "2022-01-27T11:58:46.467Z"
   },
   {
    "duration": 8,
    "start_time": "2022-01-27T11:58:48.510Z"
   },
   {
    "duration": 7,
    "start_time": "2022-01-27T11:58:50.884Z"
   },
   {
    "duration": 4,
    "start_time": "2022-01-27T11:59:12.023Z"
   },
   {
    "duration": 19,
    "start_time": "2022-01-27T11:59:12.522Z"
   },
   {
    "duration": 18,
    "start_time": "2022-01-27T11:59:18.059Z"
   },
   {
    "duration": 6,
    "start_time": "2022-01-27T11:59:19.706Z"
   },
   {
    "duration": 19,
    "start_time": "2022-01-27T11:59:22.115Z"
   },
   {
    "duration": 20,
    "start_time": "2022-01-27T11:59:22.493Z"
   },
   {
    "duration": 20,
    "start_time": "2022-01-27T11:59:24.547Z"
   },
   {
    "duration": 4,
    "start_time": "2022-01-27T11:59:39.995Z"
   },
   {
    "duration": 5,
    "start_time": "2022-01-27T11:59:40.811Z"
   },
   {
    "duration": 3,
    "start_time": "2022-01-27T12:00:03.621Z"
   },
   {
    "duration": 3,
    "start_time": "2022-01-27T12:00:50.866Z"
   },
   {
    "duration": 7,
    "start_time": "2022-01-27T12:01:04.256Z"
   },
   {
    "duration": 5,
    "start_time": "2022-01-27T12:01:04.824Z"
   },
   {
    "duration": 4,
    "start_time": "2022-01-27T12:01:33.256Z"
   },
   {
    "duration": 5,
    "start_time": "2022-01-27T12:01:59.108Z"
   },
   {
    "duration": 6,
    "start_time": "2022-01-27T12:03:41.519Z"
   },
   {
    "duration": 8,
    "start_time": "2022-01-27T12:05:22.999Z"
   },
   {
    "duration": 4,
    "start_time": "2022-01-27T12:05:30.001Z"
   },
   {
    "duration": 9,
    "start_time": "2022-01-27T12:06:27.680Z"
   },
   {
    "duration": 10,
    "start_time": "2022-01-27T12:06:28.505Z"
   },
   {
    "duration": 7,
    "start_time": "2022-01-27T12:06:31.710Z"
   },
   {
    "duration": 3,
    "start_time": "2022-01-27T12:06:32.566Z"
   },
   {
    "duration": 4,
    "start_time": "2022-01-27T12:06:33.425Z"
   },
   {
    "duration": 19,
    "start_time": "2022-01-27T12:06:34.471Z"
   },
   {
    "duration": 4,
    "start_time": "2022-01-27T12:06:36.745Z"
   },
   {
    "duration": 4,
    "start_time": "2022-01-27T12:06:38.107Z"
   },
   {
    "duration": 7,
    "start_time": "2022-01-27T12:06:38.549Z"
   },
   {
    "duration": 6,
    "start_time": "2022-01-27T12:06:40.157Z"
   },
   {
    "duration": 20,
    "start_time": "2022-01-27T12:06:40.485Z"
   },
   {
    "duration": 74,
    "start_time": "2022-01-27T12:06:42.536Z"
   },
   {
    "duration": 18,
    "start_time": "2022-01-27T12:06:48.681Z"
   },
   {
    "duration": 6,
    "start_time": "2022-01-27T12:06:50.692Z"
   },
   {
    "duration": 20,
    "start_time": "2022-01-27T12:06:53.111Z"
   },
   {
    "duration": 19,
    "start_time": "2022-01-27T12:06:53.478Z"
   },
   {
    "duration": 21,
    "start_time": "2022-01-27T12:06:56.861Z"
   },
   {
    "duration": 6,
    "start_time": "2022-01-27T12:07:13.330Z"
   },
   {
    "duration": 6,
    "start_time": "2022-01-27T12:07:23.264Z"
   },
   {
    "duration": 6,
    "start_time": "2022-01-27T12:07:24.709Z"
   },
   {
    "duration": 6,
    "start_time": "2022-01-27T12:07:27.494Z"
   },
   {
    "duration": 4,
    "start_time": "2022-01-27T12:07:27.899Z"
   },
   {
    "duration": 2,
    "start_time": "2022-01-27T12:07:31.386Z"
   },
   {
    "duration": 7,
    "start_time": "2022-01-27T12:07:35.368Z"
   },
   {
    "duration": 5,
    "start_time": "2022-01-27T12:07:35.794Z"
   },
   {
    "duration": 5,
    "start_time": "2022-01-27T12:07:37.032Z"
   },
   {
    "duration": 4,
    "start_time": "2022-01-27T12:07:39.069Z"
   },
   {
    "duration": 4,
    "start_time": "2022-01-27T12:08:02.088Z"
   },
   {
    "duration": 5,
    "start_time": "2022-01-27T12:08:20.446Z"
   },
   {
    "duration": 3,
    "start_time": "2022-01-27T12:09:43.501Z"
   },
   {
    "duration": 3,
    "start_time": "2022-01-27T12:09:44.541Z"
   },
   {
    "duration": 19,
    "start_time": "2022-01-27T12:10:10.088Z"
   },
   {
    "duration": 36386,
    "start_time": "2022-01-27T12:10:16.963Z"
   },
   {
    "duration": 18,
    "start_time": "2022-01-27T12:10:53.351Z"
   },
   {
    "duration": 47962,
    "start_time": "2022-01-27T12:11:29.664Z"
   },
   {
    "duration": 27,
    "start_time": "2022-01-27T12:12:17.628Z"
   },
   {
    "duration": 191409,
    "start_time": "2022-01-27T12:13:13.414Z"
   },
   {
    "duration": 2,
    "start_time": "2022-01-27T12:16:24.825Z"
   },
   {
    "duration": 4,
    "start_time": "2022-01-27T12:16:24.829Z"
   },
   {
    "duration": 415,
    "start_time": "2022-01-27T12:16:24.835Z"
   },
   {
    "duration": 5,
    "start_time": "2022-01-27T12:17:31.279Z"
   },
   {
    "duration": 38,
    "start_time": "2022-01-27T12:17:35.224Z"
   },
   {
    "duration": 22,
    "start_time": "2022-01-27T12:17:36.147Z"
   },
   {
    "duration": 60033,
    "start_time": "2022-01-27T12:17:50.938Z"
   },
   {
    "duration": 2,
    "start_time": "2022-01-27T12:19:19.906Z"
   },
   {
    "duration": 397,
    "start_time": "2022-01-27T12:19:20.502Z"
   },
   {
    "duration": 29,
    "start_time": "2022-01-27T12:19:45.016Z"
   },
   {
    "duration": 15,
    "start_time": "2022-01-27T12:19:46.190Z"
   },
   {
    "duration": 365,
    "start_time": "2022-01-27T12:19:48.850Z"
   },
   {
    "duration": 68,
    "start_time": "2022-01-27T12:24:51.647Z"
   },
   {
    "duration": 2,
    "start_time": "2022-01-27T12:24:54.803Z"
   },
   {
    "duration": 389,
    "start_time": "2022-01-27T12:24:55.741Z"
   },
   {
    "duration": 4,
    "start_time": "2022-01-27T12:24:56.163Z"
   },
   {
    "duration": 37517,
    "start_time": "2022-01-27T12:25:01.120Z"
   },
   {
    "duration": 3,
    "start_time": "2022-01-27T12:25:38.639Z"
   },
   {
    "duration": 6944,
    "start_time": "2022-01-27T12:26:00.970Z"
   },
   {
    "duration": 2,
    "start_time": "2022-01-27T12:26:07.916Z"
   },
   {
    "duration": 402,
    "start_time": "2022-01-27T12:26:07.920Z"
   },
   {
    "duration": 4,
    "start_time": "2022-01-27T12:26:08.323Z"
   },
   {
    "duration": 818397,
    "start_time": "2022-01-27T12:26:14.257Z"
   },
   {
    "duration": 496,
    "start_time": "2022-01-27T12:39:52.160Z"
   }
  ],
  "kernelspec": {
   "display_name": "Python 3 (ipykernel)",
   "language": "python",
   "name": "python3"
  },
  "language_info": {
   "codemirror_mode": {
    "name": "ipython",
    "version": 3
   },
   "file_extension": ".py",
   "mimetype": "text/x-python",
   "name": "python",
   "nbconvert_exporter": "python",
   "pygments_lexer": "ipython3",
   "version": "3.9.7"
  },
  "toc": {
   "base_numbering": 1,
   "nav_menu": {},
   "number_sections": true,
   "sideBar": true,
   "skip_h1_title": true,
   "title_cell": "Содержание",
   "title_sidebar": "Contents",
   "toc_cell": true,
   "toc_position": {
    "height": "calc(100% - 180px)",
    "left": "10px",
    "top": "150px",
    "width": "303.825px"
   },
   "toc_section_display": true,
   "toc_window_display": true
  }
 },
 "nbformat": 4,
 "nbformat_minor": 2
}
